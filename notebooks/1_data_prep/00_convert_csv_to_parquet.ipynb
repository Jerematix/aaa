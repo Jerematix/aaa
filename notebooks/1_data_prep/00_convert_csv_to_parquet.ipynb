{
 "cells": [
  {
   "cell_type": "code",
   "execution_count": 1,
   "metadata": {
    "ExecuteTime": {
     "end_time": "2023-05-04T20:04:46.651070Z",
     "start_time": "2023-05-04T20:04:45.235759Z"
    },
    "collapsed": false
   },
   "outputs": [],
   "source": [
    "import pandas as pd\n",
    "import fastparquet as fp"
   ]
  },
  {
   "cell_type": "markdown",
   "metadata": {},
   "source": [
    "# Conversion of csv to parquet"
   ]
  },
  {
   "cell_type": "markdown",
   "metadata": {},
   "source": [
    "We convert the downloaded csv file to a parquet file because the parquet format is smaller. The Taxi parquet file can be downloaded via the following link: https://1drv.ms/u/s!Ar9Zh3Tc6l6VhqlKyjk-Zl0LFCcPTQ?e=UWRo6P"
   ]
  },
  {
   "cell_type": "code",
   "execution_count": 2,
   "metadata": {
    "ExecuteTime": {
     "end_time": "2023-05-04T20:10:23.183675Z",
     "start_time": "2023-05-04T20:04:46.653071Z"
    },
    "collapsed": false
   },
   "outputs": [],
   "source": [
    "chunksize = 1_000_000\n",
    "filename = '../../data/rides/Taxi_Trips.csv'\n",
    "output_filename = '../../data/rides/Taxi_Trips.parquet'\n",
    "first = True\n",
    "\n",
    "for chunk in pd.read_csv(filename, chunksize=chunksize):\n",
    "    if first:\n",
    "        fp.write(output_filename, chunk, compression='snappy')\n",
    "        first = False\n",
    "    else:\n",
    "        fp.write(output_filename, chunk, compression='snappy', append=True)"
   ]
  }
 ],
 "metadata": {
  "kernelspec": {
   "display_name": "Python 3",
   "language": "python",
   "name": "python3"
  },
  "language_info": {
   "codemirror_mode": {
    "name": "ipython",
    "version": 2
   },
   "file_extension": ".py",
   "mimetype": "text/x-python",
   "name": "python",
   "nbconvert_exporter": "python",
   "pygments_lexer": "ipython2",
   "version": "3.9.6"
  }
 },
 "nbformat": 4,
 "nbformat_minor": 0
}
