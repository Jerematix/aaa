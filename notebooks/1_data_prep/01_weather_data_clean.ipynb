{
 "cells": [
  {
   "cell_type": "code",
   "execution_count": 1,
   "metadata": {
    "ExecuteTime": {
     "end_time": "2023-05-19T16:24:25.920821Z",
     "start_time": "2023-05-19T16:24:25.897033Z"
    },
    "collapsed": true
   },
   "outputs": [],
   "source": [
    "import pandas as pd\n",
    "import seaborn as sns"
   ]
  },
  {
   "cell_type": "markdown",
   "metadata": {},
   "source": [
    "# Weather Data"
   ]
  },
  {
   "cell_type": "markdown",
   "metadata": {},
   "source": [
    "This notebook filters the weather in Chicago in 2015 out of the weather data for multiple cities and years. It converts the weather values snow and rain into the feature precip which is 1 for snow or rain and 0 otherwise. The dataframe is then saved as a parquet file."
   ]
  },
  {
   "cell_type": "code",
   "execution_count": 2,
   "metadata": {
    "ExecuteTime": {
     "end_time": "2023-05-19T16:24:28.251020Z",
     "start_time": "2023-05-19T16:24:25.926388Z"
    },
    "collapsed": false
   },
   "outputs": [
    {
     "name": "stdout",
     "output_type": "stream",
     "text": [
      "<class 'pandas.core.frame.DataFrame'>\n",
      "RangeIndex: 45253 entries, 0 to 45252\n",
      "Data columns (total 37 columns):\n",
      " #   Column             Non-Null Count  Dtype \n",
      "---  ------             --------------  ----- \n",
      " 0   datetime           45253 non-null  object\n",
      " 1   Vancouver          44460 non-null  object\n",
      " 2   Portland           45252 non-null  object\n",
      " 3   San Francisco      44460 non-null  object\n",
      " 4   Seattle            45252 non-null  object\n",
      " 5   Los Angeles        45252 non-null  object\n",
      " 6   San Diego          45252 non-null  object\n",
      " 7   Las Vegas          45252 non-null  object\n",
      " 8   Phoenix            45252 non-null  object\n",
      " 9   Albuquerque        45252 non-null  object\n",
      " 10  Denver             45252 non-null  object\n",
      " 11  San Antonio        45252 non-null  object\n",
      " 12  Dallas             45252 non-null  object\n",
      " 13  Houston            45252 non-null  object\n",
      " 14  Kansas City        45252 non-null  object\n",
      " 15  Minneapolis        45252 non-null  object\n",
      " 16  Saint Louis        45252 non-null  object\n",
      " 17  Chicago            45252 non-null  object\n",
      " 18  Nashville          45252 non-null  object\n",
      " 19  Indianapolis       45252 non-null  object\n",
      " 20  Atlanta            45252 non-null  object\n",
      " 21  Detroit            45252 non-null  object\n",
      " 22  Jacksonville       45252 non-null  object\n",
      " 23  Charlotte          45252 non-null  object\n",
      " 24  Miami              44460 non-null  object\n",
      " 25  Pittsburgh         45252 non-null  object\n",
      " 26  Toronto            45252 non-null  object\n",
      " 27  Philadelphia       45252 non-null  object\n",
      " 28  New York           44460 non-null  object\n",
      " 29  Montreal           45252 non-null  object\n",
      " 30  Boston             45252 non-null  object\n",
      " 31  Beersheba          44460 non-null  object\n",
      " 32  Tel Aviv District  44460 non-null  object\n",
      " 33  Eilat              44461 non-null  object\n",
      " 34  Haifa              44460 non-null  object\n",
      " 35  Nahariyya          44460 non-null  object\n",
      " 36  Jerusalem          44460 non-null  object\n",
      "dtypes: object(37)\n",
      "memory usage: 12.8+ MB\n"
     ]
    }
   ],
   "source": [
    "df = pd.read_csv('../../data/weather/weather_description.csv')\n",
    "df.info()"
   ]
  },
  {
   "cell_type": "code",
   "execution_count": 3,
   "metadata": {
    "ExecuteTime": {
     "end_time": "2023-05-19T16:24:28.670538Z",
     "start_time": "2023-05-19T16:24:28.596930Z"
    },
    "collapsed": false
   },
   "outputs": [],
   "source": [
    "# only keep Chicago data for 2015\n",
    "df = df[['datetime', 'Chicago']]\n",
    "df['datetime'] = pd.to_datetime(df['datetime'])\n",
    "df = df[df['datetime'].dt.year == 2015].copy()"
   ]
  },
  {
   "cell_type": "code",
   "execution_count": 4,
   "metadata": {
    "ExecuteTime": {
     "end_time": "2023-05-19T16:24:29.183369Z",
     "start_time": "2023-05-19T16:24:28.663524Z"
    },
    "collapsed": false
   },
   "outputs": [
    {
     "name": "stdout",
     "output_type": "stream",
     "text": [
      "['sky is clear' 'scattered clouds' 'few clouds' 'broken clouds' 'snow'\n",
      " 'light rain' 'moderate rain' 'heavy intensity rain' 'light snow'\n",
      " 'overcast clouds' 'heavy snow' 'very heavy rain' 'mist' 'haze'\n",
      " 'light intensity drizzle' 'drizzle' 'thunderstorm' 'fog'\n",
      " 'proximity thunderstorm' 'thunderstorm with rain'\n",
      " 'thunderstorm with heavy rain' 'thunderstorm with light rain'\n",
      " 'proximity thunderstorm with rain' 'proximity thunderstorm with drizzle'\n",
      " 'squalls' 'heavy intensity drizzle' 'freezing rain']\n"
     ]
    }
   ],
   "source": [
    "# print weather values\n",
    "print(df['Chicago'].unique())"
   ]
  },
  {
   "cell_type": "code",
   "execution_count": 5,
   "metadata": {
    "ExecuteTime": {
     "end_time": "2023-05-19T16:25:09.175553Z",
     "start_time": "2023-05-19T16:25:03.442201Z"
    },
    "collapsed": false
   },
   "outputs": [
    {
     "data": {
      "text/plain": [
       "<Axes: xlabel='Chicago', ylabel='count'>"
      ]
     },
     "execution_count": 5,
     "metadata": {},
     "output_type": "execute_result"
    },
    {
     "data": {
      "image/png": "[encoded data removed]",
      "text/plain": [
       "<Figure size 640x480 with 1 Axes>"
      ]
     },
     "metadata": {},
     "output_type": "display_data"
    }
   ],
   "source": [
    "sns.countplot(x=df['Chicago'])"
   ]
  },
  {
   "cell_type": "code",
   "execution_count": 6,
   "metadata": {
    "ExecuteTime": {
     "end_time": "2023-05-18T21:10:48.668627Z",
     "start_time": "2023-05-18T21:10:48.621320Z"
    },
    "collapsed": false
   },
   "outputs": [],
   "source": [
    "# define rain and snow as precipitation\n",
    "def check_precipitation(value):\n",
    "    if value in ['rain', 'snow']:\n",
    "        return 1\n",
    "    else:\n",
    "        return 0\n",
    "    \n",
    "df['Precip'] = df['Chicago'].apply(check_precipitation)\n",
    "del df['Chicago']"
   ]
  },
  {
   "cell_type": "code",
   "execution_count": 7,
   "metadata": {
    "ExecuteTime": {
     "end_time": "2023-05-18T21:10:48.699900Z",
     "start_time": "2023-05-18T21:10:48.636952Z"
    },
    "collapsed": false
   },
   "outputs": [
    {
     "name": "stdout",
     "output_type": "stream",
     "text": [
      "<class 'pandas.core.frame.DataFrame'>\n",
      "Index: 8760 entries, 19716 to 28475\n",
      "Data columns (total 2 columns):\n",
      " #   Column    Non-Null Count  Dtype         \n",
      "---  ------    --------------  -----         \n",
      " 0   datetime  8760 non-null   datetime64[ns]\n",
      " 1   Precip    8760 non-null   int64         \n",
      "dtypes: datetime64[ns](1), int64(1)\n",
      "memory usage: 205.3 KB\n"
     ]
    }
   ],
   "source": [
    "df.info()"
   ]
  },
  {
   "cell_type": "code",
   "execution_count": 8,
   "metadata": {
    "ExecuteTime": {
     "end_time": "2023-05-18T21:10:48.794084Z",
     "start_time": "2023-05-18T21:10:48.746769Z"
    },
    "collapsed": false
   },
   "outputs": [],
   "source": [
    "df.to_parquet('../../data/weather/weather_description_cleaned.parquet')"
   ]
  }
 ],
 "metadata": {
  "kernelspec": {
   "display_name": "Python 3",
   "language": "python",
   "name": "python3"
  },
  "language_info": {
   "codemirror_mode": {
    "name": "ipython",
    "version": 3
   },
   "file_extension": ".py",
   "mimetype": "text/x-python",
   "name": "python",
   "nbconvert_exporter": "python",
   "pygments_lexer": "ipython3",
   "version": "3.9.6"
  }
 },
 "nbformat": 4,
 "nbformat_minor": 0
}
