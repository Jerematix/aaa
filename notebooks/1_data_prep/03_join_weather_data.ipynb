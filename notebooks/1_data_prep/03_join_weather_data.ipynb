{
 "cells": [
  {
   "cell_type": "code",
   "execution_count": 1,
   "metadata": {
    "ExecuteTime": {
     "end_time": "2023-05-18T21:11:24.119642Z",
     "start_time": "2023-05-18T21:11:24.088380Z"
    },
    "collapsed": true
   },
   "outputs": [],
   "source": [
    "import pandas as pd"
   ]
  },
  {
   "cell_type": "markdown",
   "metadata": {},
   "source": [
    "# Join Precipitation and Temperature"
   ]
  },
  {
   "cell_type": "markdown",
   "metadata": {},
   "source": [
    "This notebook joins the cleaned temperature and weather notebooks into one parquet file."
   ]
  },
  {
   "cell_type": "code",
   "execution_count": 2,
   "metadata": {
    "ExecuteTime": {
     "end_time": "2023-05-18T21:11:37.693244Z",
     "start_time": "2023-05-18T21:11:37.661560Z"
    },
    "collapsed": false
   },
   "outputs": [],
   "source": [
    "temp = pd.read_parquet('../../data/weather/temperature_cleaned.parquet')\n",
    "precip = pd.read_parquet('../../data/weather/weather_description_cleaned.parquet')"
   ]
  },
  {
   "cell_type": "code",
   "execution_count": 3,
   "metadata": {
    "ExecuteTime": {
     "end_time": "2023-05-18T21:13:12.547285Z",
     "start_time": "2023-05-18T21:13:12.488361Z"
    },
    "collapsed": false
   },
   "outputs": [
    {
     "name": "stdout",
     "output_type": "stream",
     "text": [
      "<class 'pandas.core.frame.DataFrame'>\n",
      "RangeIndex: 8760 entries, 0 to 8759\n",
      "Data columns (total 3 columns):\n",
      " #   Column    Non-Null Count  Dtype         \n",
      "---  ------    --------------  -----         \n",
      " 0   datetime  8760 non-null   datetime64[ns]\n",
      " 1   temp      8760 non-null   float64       \n",
      " 2   Precip    8760 non-null   int64         \n",
      "dtypes: datetime64[ns](1), float64(1), int64(1)\n",
      "memory usage: 205.4 KB\n"
     ]
    }
   ],
   "source": [
    "merged_df = pd.merge(temp, precip, on='datetime', how='inner')\n",
    "merged_df.info()"
   ]
  },
  {
   "cell_type": "code",
   "execution_count": 4,
   "metadata": {
    "ExecuteTime": {
     "end_time": "2023-05-18T21:14:06.470845Z",
     "start_time": "2023-05-18T21:14:06.384834Z"
    },
    "collapsed": false
   },
   "outputs": [],
   "source": [
    "merged_df.to_parquet('../../data/weather/chicago_weather_cleaned.parquet')"
   ]
  }
 ],
 "metadata": {
  "kernelspec": {
   "display_name": "Python 3",
   "language": "python",
   "name": "python3"
  },
  "language_info": {
   "codemirror_mode": {
    "name": "ipython",
    "version": 3
   },
   "file_extension": ".py",
   "mimetype": "text/x-python",
   "name": "python",
   "nbconvert_exporter": "python",
   "pygments_lexer": "ipython3",
   "version": "3.9.6"
  }
 },
 "nbformat": 4,
 "nbformat_minor": 0
}
