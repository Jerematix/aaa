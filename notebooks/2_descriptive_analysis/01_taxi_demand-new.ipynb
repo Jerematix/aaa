{
 "cells": [
  {
   "cell_type": "markdown",
   "id": "6c528a98",
   "metadata": {},
   "source": [
    "# Geospatial Taxi Demand Analysis"
   ]
  },
  {
   "cell_type": "markdown",
   "id": "35006687",
   "metadata": {},
   "source": [
    "To analyze the taxi trip data of Chicago from the year 2015, this notebook will visualize the taxi usage in a geospatial context. Here different H3 maps with different resolutions and heatmaps are used. "
   ]
  },
  {
   "cell_type": "code",
   "execution_count": null,
   "id": "4264d7c5",
   "metadata": {},
   "outputs": [],
   "source": [
    "import numpy as np\n",
    "import pandas as pd\n",
    "import matplotlib.pyplot as plt\n",
    "import seaborn as sns\n",
    "import folium\n",
    "from folium import plugins\n",
    "from folium.plugins import HeatMap\n",
    "import h3\n",
    "from shapely.geometry import Polygon\n",
    "import geopandas\n",
    "from geojson import Feature, Point, FeatureCollection, Polygon\n",
    "from shapely.geometry import Polygon\n",
    "import plotly.express as px\n",
    "from datetime import datetime"
   ]
  },
  {
   "cell_type": "code",
   "execution_count": null,
   "id": "2897455f",
   "metadata": {},
   "outputs": [],
   "source": [
    "#Import cleaned dataset\n",
    "\n",
    "# For heatmaps\n",
    "sample_df = pd.read_parquet('../../data/rides/Taxi_Trips_Sampled_Cleaned.parquet')\n",
    "\n",
    "# For h3 maps\n",
    "trips_df = pd.read_parquet('../../data/rides/Taxi_Trips_Cleaned.parquet')\n",
    "\n",
    "columns_to_drop = ['trip_seconds', 'trip_miles', 'pickup_census_tract', 'dropoff_census_tract', 'fare', 'tips', 'tolls', 'Extras', 'trip_total', 'payment_type', 'Company', 'temp', 'precip', 'is_weekday', 'h3_05_pickup',\n",
    "       'h3_05_dropoff', 'h3_06_pickup', 'h3_06_dropoff', 'week_end']\n",
    "trips_df = trips_df.drop(columns_to_drop, axis=1)\n",
    "trips_df.head(3)"
   ]
  },
  {
   "cell_type": "markdown",
   "id": "93141789",
   "metadata": {},
   "source": [
    "We create a dictionary for each census tract name of Chicago and add it to our DataFrame to be able to reference to certain locations in our analysis more easily. The census tract list were retrived from [here](https://data.cityofchicago.org/Facilities-Geographic-Boundaries/Boundaries-Census-Tracts-2000/pt6c-hxpp). "
   ]
  },
  {
   "cell_type": "code",
   "execution_count": null,
   "id": "7ea03201",
   "metadata": {},
   "outputs": [],
   "source": [
    "import csv\n",
    "\n",
    "csv_file = '../../data/census_tract/chicago_census_tract.csv'\n",
    "\n",
    "# Create an empty dictionary\n",
    "data_dict = {}\n",
    "\n",
    "# Open the CSV file\n",
    "with open(csv_file, 'r') as file:\n",
    "    reader = csv.reader(file)\n",
    "\n",
    "    # Skip the header row if present\n",
    "    next(reader)\n",
    "\n",
    "    # Iterate over each row in the CSV file\n",
    "    for row in reader:\n",
    "        ca = row[1]  # CA is in the second column\n",
    "        community = row[2]  # COMMUNIT_1 is in the third column\n",
    "\n",
    "        # Add the data to the dictionary\n",
    "        data_dict[ca] = community\n",
    "\n",
    "data_dict = dict(sorted(data_dict.items(), key=lambda item: int(item[0])))\n",
    "print(data_dict)"
   ]
  },
  {
   "cell_type": "code",
   "execution_count": null,
   "id": "999c7293",
   "metadata": {},
   "outputs": [],
   "source": [
    "# Create a new dictionary with integer keys\n",
    "new_data_dict = {int(key): value for key, value in data_dict.items()}\n"
   ]
  },
  {
   "cell_type": "code",
   "execution_count": null,
   "id": "1778d38a",
   "metadata": {},
   "outputs": [],
   "source": [
    "key_types = [type(key) for key in new_data_dict.keys()]"
   ]
  },
  {
   "cell_type": "code",
   "execution_count": null,
   "id": "5dd8b556",
   "metadata": {},
   "outputs": [],
   "source": [
    "# Match census tract name to community area unique value\n",
    "\n",
    "# For heatmaps: sample df\n",
    "sample_df['pickup_name'] = sample_df['pickup_community_area'].map(new_data_dict)\n",
    "sample_df['dropoff_name'] = sample_df['dropoff_community_area'].map(new_data_dict)\n",
    "\n",
    "# For h3 maps: trips_df\n",
    "trips_df['pickup_name'] = trips_df['pickup_community_area'].map(new_data_dict)\n",
    "trips_df['dropoff_name'] = trips_df['dropoff_community_area'].map(new_data_dict)\n",
    "trips_df.head(3)"
   ]
  },
  {
   "cell_type": "code",
   "execution_count": null,
   "id": "c717c168",
   "metadata": {},
   "outputs": [],
   "source": [
    "#Test for NAN values\n",
    "trips_df['pickup_name'].isna().sum()"
   ]
  },
  {
   "cell_type": "markdown",
   "id": "2e0261b3",
   "metadata": {},
   "source": [
    "## Heatmaps "
   ]
  },
  {
   "cell_type": "markdown",
   "id": "4067782f",
   "metadata": {},
   "source": [
    "In this section, we use heatmaps to visualize the number of starting trips and ending trips. However, due to the size of the heatmaps and kernel failures, we use only a sample of the data. As the size of the heatmap is still too big, we have removed the cell outputs containing the visualization of the heatmaps. So please run through the code for the visualization yourself, either with the sample data, or with enough resource capabilities with the whole dataset. As an alternative we also have [uploaded screenshots]()."
   ]
  },
  {
   "cell_type": "markdown",
   "id": "6c77c260",
   "metadata": {},
   "source": [
    "### Starting Trips"
   ]
  },
  {
   "cell_type": "code",
   "execution_count": null,
   "id": "4e2cb678",
   "metadata": {},
   "outputs": [],
   "source": [
    "from shapely import wkt"
   ]
  },
  {
   "cell_type": "code",
   "execution_count": null,
   "id": "68a281b9",
   "metadata": {},
   "outputs": [],
   "source": [
    "# Convert the pickup_centroid column to a GeoSeries from WKT format\n",
    "sample_df[\"pickup_centroid\"] = geopandas.GeoSeries.from_wkt(sample_df[\"pickup_centroid\"])"
   ]
  },
  {
   "cell_type": "code",
   "execution_count": null,
   "id": "00a38b94",
   "metadata": {},
   "outputs": [],
   "source": [
    "sample_df.set_geometry('pickup_centroid')\n",
    "sample_df.head(3)"
   ]
  },
  {
   "cell_type": "code",
   "execution_count": null,
   "id": "90696f94",
   "metadata": {},
   "outputs": [],
   "source": [
    "#Split pickup_centroid into coordinates\n",
    "#taken from https://geopandas.org/en/stable/gallery/plotting_with_folium.html \n",
    "\n",
    "geo_df_list = [[point.xy[1][0], point.xy[0][0]] for point in sample_df.pickup_centroid]"
   ]
  },
  {
   "cell_type": "code",
   "execution_count": null,
   "id": "3c87262d",
   "metadata": {},
   "outputs": [],
   "source": [
    "# Create DF for starting trip locations and is corresponding area names\n",
    "geo_df_pickup = geopandas.GeoDataFrame(geo_df_list, sample_df[\"pickup_census_tract\"])\n",
    "geo_df_pickup = geo_df_pickup.reset_index()\n",
    "geo_df_pickup[\"pickup_name\"] = sample_df[\"pickup_name\"]\n",
    "\n",
    "geo_df_pickup.head(3)"
   ]
  },
  {
   "cell_type": "code",
   "execution_count": null,
   "id": "0a5b295e",
   "metadata": {},
   "outputs": [],
   "source": [
    "geo_df_pickup = geo_df_pickup.reset_index()\n",
    "geo_df_pickup.head(3)"
   ]
  },
  {
   "cell_type": "code",
   "execution_count": null,
   "id": "2721f184",
   "metadata": {},
   "outputs": [],
   "source": [
    "# Ploting heatmap that shows the census tracts and the frequency of trips starting there\n",
    "\n",
    "trips_heatmap = folium.Map(\n",
    "    location=(41.881832, -87.623177), # the orig mean values as location coordinates from https://www.latlong.net/place/chicago-il-usa-1855.html\n",
    "    zoom_start=13,\n",
    "    control_scale=True,\n",
    "    max_zoom=20,\n",
    ")\n",
    "\n",
    "trips_heatmap.add_child(plugins.HeatMap(geo_df_list, radius=30))\n",
    "\n",
    "popup_content = np.vectorize(\n",
    "    lambda name, tract: f\"Pickup Name: {name}<br> </br><br> Pickup Census Tract: {tract}\"\n",
    ")(geo_df_pickup['pickup_name'], geo_df_pickup['pickup_census_tract'])\n",
    "\n",
    "for _,row in geo_df_pickup.iterrows():\n",
    "    folium.CircleMarker(\n",
    "        radius=5,\n",
    "        location=[row[0], row[1]],\n",
    "        popup=popup_content[_],\n",
    "        color=\"crimson\",\n",
    "        fill_color=\"crimson\",\n",
    "    ).add_to(trips_heatmap)\n",
    "    \n",
    "    \n",
    "trips_heatmap"
   ]
  },
  {
   "cell_type": "markdown",
   "id": "279b31ad",
   "metadata": {},
   "source": [
    "The heatmap reveals that the primary hotspot is Loop, representing the city center. Additional hotspots include the O'Hare International Airport, as well as the Chicago Midway International Airport, both important transportation hubs in Chicago. Generally, it can be observed that besides the city center and the airports, taxi demand is elevated in the northern parts of Chicago, around Near North Side, Lake View, and Edgewater. In contrast, the southern regions display fewer prominent areas. More prominant locations in the South include the University of Chicago (located in Hyde Park) and Douglas."
   ]
  },
  {
   "cell_type": "markdown",
   "id": "413d9e47",
   "metadata": {},
   "source": [
    "## Ending Trips"
   ]
  },
  {
   "cell_type": "code",
   "execution_count": null,
   "id": "8cc66f72",
   "metadata": {},
   "outputs": [],
   "source": [
    "# Convert the \"dropoff_centroid\" column to a GeoSeries from WKT format\n",
    "sample_df[\"dropoff_centroid\"] = geopandas.GeoSeries.from_wkt(sample_df[\"dropoff_centroid\"])"
   ]
  },
  {
   "cell_type": "code",
   "execution_count": null,
   "id": "5275b1ef",
   "metadata": {},
   "outputs": [],
   "source": [
    "sample_df.set_geometry('dropoff_centroid')\n",
    "sample_df.head(3)"
   ]
  },
  {
   "cell_type": "code",
   "execution_count": null,
   "id": "e141ccae",
   "metadata": {},
   "outputs": [],
   "source": [
    "geo_df_list_dropoff = [[point.xy[1][0], point.xy[0][0]] for point in sample_df.dropoff_centroid]"
   ]
  },
  {
   "cell_type": "code",
   "execution_count": null,
   "id": "89d780fb",
   "metadata": {},
   "outputs": [],
   "source": [
    "geo_df_dropoff = geopandas.GeoDataFrame(geo_df_list_dropoff, sample_df[\"dropoff_census_tract\"])"
   ]
  },
  {
   "cell_type": "code",
   "execution_count": null,
   "id": "b5192c28",
   "metadata": {},
   "outputs": [],
   "source": [
    "geo_df_dropoff = geo_df_dropoff.reset_index()\n",
    "geo_df_dropoff[\"dropoff_name\"] = sample_df[\"dropoff_name\"]\n",
    "\n",
    "geo_df_dropoff.head(3)"
   ]
  },
  {
   "cell_type": "code",
   "execution_count": null,
   "id": "3e04b574",
   "metadata": {
    "scrolled": false
   },
   "outputs": [],
   "source": [
    "# Ploting heatmap that shows the census tracts and the frequency of trips ending there\n",
    "\n",
    "trips_heatmap = folium.Map(\n",
    "    location=(41.881832, -87.623177), # the orig mean values as location coordinates from https://www.latlong.net/place/chicago-il-usa-1855.html\n",
    "    zoom_start=13,\n",
    "    control_scale=True,\n",
    "    max_zoom=20,\n",
    ")\n",
    "\n",
    "trips_heatmap.add_child(plugins.HeatMap(geo_df_list_dropoff, radius=30))\n",
    "\n",
    "popup_content = np.vectorize(lambda name, tract: f\"Dropoff Name: {name}<br> </br><br>Dropoff Census Tract: {tract}\")(\n",
    "    geo_df_dropoff['dropoff_name'], geo_df_dropoff['dropoff_census_tract']\n",
    ")\n",
    "\n",
    "for _,row in geo_df_dropoff.iterrows():\n",
    "    folium.CircleMarker(\n",
    "        radius=5,\n",
    "        location=[row[0], row[1]],\n",
    "        popup=popup_content[_],\n",
    "        color=\"crimson\",\n",
    "        fill_color=\"crimson\",\n",
    "    ).add_to(trips_heatmap)\n",
    "    \n",
    "    \n",
    "trips_heatmap"
   ]
  },
  {
   "cell_type": "markdown",
   "id": "465c8a0a",
   "metadata": {},
   "source": [
    "Similar to the heatmap of starting trips the most popular hotspot is Loop. Also the Airports and northern locations in Chicago are more prominent as well. The few popular locations in the south being around Hyde Park and Douglas. \n",
    "\n",
    "To further analyze patterns, like the similarity of starting and ending trips, we will use H3 maps and look at different analysis objectives."
   ]
  },
  {
   "cell_type": "markdown",
   "id": "9a226cfb",
   "metadata": {},
   "source": [
    "## H3 maps "
   ]
  },
  {
   "cell_type": "markdown",
   "id": "6183db4c",
   "metadata": {},
   "source": [
    "We employ H3 maps for additional geospatial visualizations, focusing on resolution types 7, 8, and 9. \n",
    "Our approach begins by establishing DataFrames for each resolution type, accompanied by methods for generating hexagonal geometries, counting the number of trips within each hexagon, and designing the visual representation of the H3 maps.\n",
    "\n",
    "Our Plotly H3 maps are not displayed properly in Jupyter Notebook on GitHub, which is why we will upload screenshots of the visualizations in folder **???** instead. Additionally the notebook with the outputs can be found [here]() **Sciebo**. "
   ]
  },
  {
   "cell_type": "code",
   "execution_count": null,
   "id": "022bd50b",
   "metadata": {},
   "outputs": [],
   "source": [
    "# Creating a dataframe that contains all hexagons where at least one trip started or ended\n",
    "\n",
    "hexagons7_df = pd.DataFrame()\n",
    "hexagons8_df = pd.DataFrame()\n",
    "hexagons9_df = pd.DataFrame()\n",
    "\n",
    "hexagons7_df[\"hex\"] = pd.concat([trips_df[\"h3_07_pickup\"], trips_df[\"h3_07_dropoff\"]]).unique()\n",
    "hexagons8_df[\"hex\"] = pd.concat([trips_df[\"h3_08_pickup\"], trips_df[\"h3_08_dropoff\"]]).unique()\n",
    "hexagons9_df[\"hex\"] = pd.concat([trips_df[\"h3_09_pickup\"], trips_df[\"h3_09_dropoff\"]]).unique()\n",
    "hexagons7_df.head(3)\n",
    "hexagons8_df.head(3)\n",
    "hexagons9_df.head(3)"
   ]
  },
  {
   "cell_type": "code",
   "execution_count": null,
   "id": "a2f0d624",
   "metadata": {},
   "outputs": [],
   "source": [
    "# Defining a funtion that generates heaxagon geometry for each hexagon\n",
    "# taken from https://medium.com/analytics-vidhya/how-to-create-a-choropleth-map-using-uber-h3-plotly-python-458f51593548\n",
    "\n",
    "def add_geometry(row):\n",
    "  points = h3.h3_to_geo_boundary(row['hex'], True)\n",
    "  return Polygon(points)"
   ]
  },
  {
   "cell_type": "code",
   "execution_count": null,
   "id": "8377011b",
   "metadata": {},
   "outputs": [],
   "source": [
    "#Applying function to our hexagons dataframe\n",
    "\n",
    "hexagons7_df['geometry'] = (hexagons7_df\n",
    "                                .apply(add_geometry,axis=1)) \n",
    "\n",
    "hexagons8_df['geometry'] = (hexagons8_df\n",
    "                                .apply(add_geometry,axis=1)) \n",
    "\n",
    "hexagons9_df['geometry'] = (hexagons9_df\n",
    "                                .apply(add_geometry,axis=1)) \n",
    "\n",
    "\n",
    "hexagons7_df.head(3)\n"
   ]
  },
  {
   "cell_type": "code",
   "execution_count": null,
   "id": "2c203e12",
   "metadata": {},
   "outputs": [],
   "source": [
    "# Defining a functions that will count trips for a given groupby value\n",
    "\n",
    "def calculate_hexagon_trips(hexagons_df, label, group_by):\n",
    "    hexagons_df[label] = trips_df.groupby(group_by).size()\n",
    "    hexagons_df[label] = hexagons_df[label].fillna(value=0)"
   ]
  },
  {
   "cell_type": "code",
   "execution_count": null,
   "id": "1ea1d285",
   "metadata": {},
   "outputs": [],
   "source": [
    "# Calculate starting and ending trips for each hexagon\n",
    "\n",
    "hexagons7_df = hexagons7_df.set_index('hex')\n",
    "hexagons8_df = hexagons8_df.set_index('hex')\n",
    "hexagons9_df = hexagons9_df.set_index('hex')\n",
    "\n",
    "\n",
    "calculate_hexagon_trips(hexagons7_df, label=\"starting_trips_07\", group_by=\"h3_07_pickup\")\n",
    "calculate_hexagon_trips(hexagons7_df, label=\"ending_trips_07\", group_by=\"h3_07_dropoff\")\n",
    "calculate_hexagon_trips(hexagons8_df, label=\"starting_trips_08\", group_by=\"h3_08_pickup\")\n",
    "calculate_hexagon_trips(hexagons8_df, label=\"ending_trips_08\", group_by=\"h3_08_dropoff\")\n",
    "calculate_hexagon_trips(hexagons9_df, label=\"starting_trips_09\", group_by=\"h3_09_pickup\")\n",
    "calculate_hexagon_trips(hexagons9_df, label=\"ending_trips_09\", group_by=\"h3_09_dropoff\")\n",
    "\n",
    "hexagons7_df = hexagons7_df.reset_index()\n",
    "hexagons8_df = hexagons8_df.reset_index()\n",
    "hexagons9_df = hexagons9_df.reset_index()\n",
    "\n",
    "hexagons9_df.head(3)"
   ]
  },
  {
   "cell_type": "code",
   "execution_count": null,
   "id": "01697631",
   "metadata": {},
   "outputs": [],
   "source": [
    "hexagons7_df[\"pickup_name\"]=trips_df[\"pickup_name\"]\n",
    "hexagons8_df[\"pickup_name\"]=trips_df[\"pickup_name\"]\n",
    "hexagons9_df[\"pickup_name\"]=trips_df[\"pickup_name\"]\n",
    "\n",
    "hexagons7_df.head(3)"
   ]
  },
  {
   "cell_type": "code",
   "execution_count": null,
   "id": "a35bbf92",
   "metadata": {},
   "outputs": [],
   "source": [
    "# Our approach uses the chloropleth_mapbox module of Plotly Express to build a map.\n",
    "# To do this a GeoJSON-formatted dictionary is created by this method that can be passed to Plotly express. \n",
    "\n",
    "# taken from https://medium.com/analytics-vidhya/how-to-create-a-choropleth-map-using-uber-h3-plotly-python-458f51593548\n",
    "\n",
    "def hexagons_dataframe_to_geojson(df_hex, value_field, file_output = None):\n",
    "\n",
    "    list_features = []\n",
    "\n",
    "    for i, row in df_hex.iterrows():\n",
    "        feature = Feature(geometry = row['geometry'],\n",
    "                          id = row['hex'],\n",
    "                          properties = {\"value\": row[value_field]})\n",
    "        list_features.append(feature)\n",
    "\n",
    "    feat_collection = FeatureCollection(list_features)\n",
    "\n",
    "    if file_output is not None:\n",
    "        with open(file_output, \"w\") as f:\n",
    "            json.dump(feat_collection, f)\n",
    "\n",
    "    else :\n",
    "      return feat_collection"
   ]
  },
  {
   "cell_type": "code",
   "execution_count": null,
   "id": "a50a68ca",
   "metadata": {},
   "outputs": [],
   "source": [
    "# Function that visualizes the H3 map\n",
    "\n",
    "# Adapted from https://medium.com/analytics-vidhya/how-to-create-a-choropleth-map-using-uber-h3-plotly-python-458f51593548\n",
    "\n",
    "def plot_frequency(dataset, variable, labels, range_color, palette=\"RdBu\"):\n",
    "    geojson_obj = (hexagons_dataframe_to_geojson(dataset, value_field=variable))\n",
    "\n",
    "    fig = (px.choropleth_mapbox(\n",
    "                    dataset,\n",
    "                    width=700,\n",
    "                    height=500,\n",
    "                    geojson=geojson_obj, \n",
    "                    locations='hex', \n",
    "                 #   hover_name = \"pickup_name\",\n",
    "                    color=variable,\n",
    "                    color_continuous_scale=palette,\n",
    "                    range_color=range_color,\n",
    "                    mapbox_style='carto-positron',\n",
    "                    zoom=10.5,\n",
    "                    center = {\"lat\": 41.881832 ,\"lon\": -87.623177,},\n",
    "                    opacity=0.7,\n",
    "                    labels=labels))\n",
    "    fig.update_layout(\n",
    "        margin={\"r\": 0, \"t\": 0, \"l\": 0, \"b\": 0},\n",
    "    )\n",
    "    return fig "
   ]
  },
  {
   "cell_type": "code",
   "execution_count": null,
   "id": "47c1f20c",
   "metadata": {},
   "outputs": [],
   "source": [
    "# Function to plot the frequency with choropleth colors based on the variable\n",
    "\n",
    "def plot_frequency_test(dataset, hover_name, variable, labels, range_color, palette=\"RdBu\"):\n",
    "    fig = (px.choropleth_mapbox(\n",
    "        dataset,\n",
    "        width=700,\n",
    "        height=500,\n",
    "        geojson=hexagons_dataframe_to_geojson(dataset, value_field=variable),\n",
    "        locations='hex',\n",
    "        hover_name=hover_name,\n",
    "        color=variable,  # Use the 'variable' directly as the color\n",
    "        color_continuous_scale=palette,\n",
    "        range_color=range_color,\n",
    "        zoom=10.5,\n",
    "        center={\"lat\": 41.881832, \"lon\": -87.623177},\n",
    "        opacity=0.7,\n",
    "        labels=labels,\n",
    "        animation_frame=\"month\",\n",
    "       # animation_group=\"hex\",\n",
    "        mapbox_style=\"open-street-map\",\n",
    "    ))\n",
    "    fig.update_layout(\n",
    "        sliders=[\n",
    "            dict(\n",
    "                active=0,\n",
    "                bgcolor='black'\n",
    "            )\n",
    "        ]\n",
    "    )\n",
    "    return fig\n"
   ]
  },
  {
   "cell_type": "markdown",
   "id": "768cea42",
   "metadata": {},
   "source": [
    "# Hex7"
   ]
  },
  {
   "cell_type": "markdown",
   "id": "c43edb4b",
   "metadata": {},
   "source": [
    "First we represent the hexagon resolution 7. For each resolution we look at the number of starting trips, the number of ending trips and the demand difference. We will look at the demand difference more in detail by looking at the overall difference, as well as during morning (6am-12pm) and evening (2pm-8pm) hours.\n",
    "\n",
    "For the range color we will use a quantile of 0.9, but some visualization do not highlight the differences well, so in these cases we will use a quantile of 0.95."
   ]
  },
  {
   "cell_type": "markdown",
   "id": "a5565eea",
   "metadata": {},
   "source": [
    "## Starting Trips"
   ]
  },
  {
   "cell_type": "code",
   "execution_count": null,
   "id": "d5b848b6",
   "metadata": {},
   "outputs": [],
   "source": [
    "variable = \"starting_trips_07\"\n",
    "\n",
    "fig = plot_frequency(\n",
    "    dataset=hexagons7_df,\n",
    "    variable=variable,\n",
    "    labels={variable: \"Starting Trips in Res7\"},\n",
    "    range_color=(0, hexagons7_df[variable].quantile(0.9)),\n",
    "    palette=\"reds\",\n",
    ")\n",
    "\n",
    "fig.show()"
   ]
  },
  {
   "cell_type": "markdown",
   "id": "2053a419",
   "metadata": {},
   "source": [
    "It is visible that the most taxi trips start in the city center, like Loop, Lincoln Park, West Town and Near South Side. These regions are bustling commercial and residential hubs, drawing both locals and visitors for various activities and destinations. As can also be seen in the **POI notebook** is that there are a lot of sustencance, arts and culture and sports POI in these hexagons. \n",
    "Furthermore, two other prominent destinations stand out — Airport O'Hare and Clearing. These locations are logical hotspots due to their roles as major transportation hubs, attracting a substantial volume of travelers arriving or departing from the city."
   ]
  },
  {
   "cell_type": "markdown",
   "id": "8615c4bb",
   "metadata": {},
   "source": [
    "## Ending Trips"
   ]
  },
  {
   "cell_type": "code",
   "execution_count": null,
   "id": "f07f12ff",
   "metadata": {},
   "outputs": [],
   "source": [
    "variable = \"ending_trips_07\"\n",
    "\n",
    "fig = plot_frequency(\n",
    "    dataset=hexagons7_df,\n",
    "    variable=variable,\n",
    "    labels={variable: \"Ending Trips in Res7\"},\n",
    "    range_color=(0, hexagons7_df[variable].quantile(0.9)),\n",
    "    palette=\"reds\"\n",
    ")\n",
    "\n",
    "fig.show()"
   ]
  },
  {
   "cell_type": "markdown",
   "id": "9982bfee",
   "metadata": {},
   "source": [
    "Just like with the heatmaps we see a notable similarity between where taxi journeys begin and where they conclude on the map. This similarity suggests a connection between popular starting points and destinations across the city. This can lead to both commencing their journeys and completing them within the central areas. Rather than dispersing to other regions before leaving, many opt to stay within the center. In addition, the prominence of transportation hubs such as Airport O'Hare and Clearing naturally contributes to their dual role as popular starting and ending points. These hubs are central and accessible nodes for incoming and outgoing travel, making their significance self-explanatory."
   ]
  },
  {
   "cell_type": "markdown",
   "id": "e79af946",
   "metadata": {},
   "source": [
    "## Demand Difference"
   ]
  },
  {
   "cell_type": "markdown",
   "id": "5302906e",
   "metadata": {},
   "source": [
    "### Overall"
   ]
  },
  {
   "cell_type": "code",
   "execution_count": null,
   "id": "5f218ef9",
   "metadata": {},
   "outputs": [],
   "source": [
    "# Calculate demand difference\n",
    "hexagons7_df[\"demand_difference_07\"] = hexagons7_df[\"starting_trips_07\"] - hexagons7_df[\"ending_trips_07\"]\n",
    "hexagons7_df.head(3)"
   ]
  },
  {
   "cell_type": "code",
   "execution_count": null,
   "id": "275e5119",
   "metadata": {},
   "outputs": [],
   "source": [
    "# Ploting a map with hexagons depicting the difference in demand considering starting and ending trips\n",
    "\n",
    "variable = \"demand_difference_07\"\n",
    "\n",
    "fig = plot_frequency(\n",
    "    dataset=hexagons7_df,\n",
    "    variable=variable,\n",
    "    labels={variable: \"Demand difference in Res7\"},\n",
    "    range_color=(\n",
    "        -hexagons7_df[variable].quantile(0.95),\n",
    "        hexagons7_df[variable].quantile(0.95),\n",
    "    ),\n",
    ")\n",
    "fig.show()"
   ]
  },
  {
   "cell_type": "markdown",
   "id": "580f81dd",
   "metadata": {},
   "source": [
    "To see the differences on the H3 map better, we used a 0.95 quantile instead of 0.9. The overall demand difference is only for a few hexagons positive, meaning that in certain parts of these places more taxi trips start than end: Airport O'Hare, Jefferson Park, Loop, Brighton Park and Clearing. Else the demand difference is negative or zero. For places more in the south of Chicago and more on the periphery have a lower demand difference, so the ending trips are not as prominent as the other places. This could be due to reason that outskirts are less habitated than places closer to the city. To look further at the possible reasons why there is a bigger negative demand difference, we will look at different time zones."
   ]
  },
  {
   "cell_type": "markdown",
   "id": "89dd82fb",
   "metadata": {},
   "source": [
    "### During morning and evening rush hour"
   ]
  },
  {
   "cell_type": "markdown",
   "id": "9493ef3a",
   "metadata": {},
   "source": [
    "### Methoden nach ganz oben bringen?"
   ]
  },
  {
   "cell_type": "code",
   "execution_count": null,
   "id": "d87f0b3b",
   "metadata": {},
   "outputs": [],
   "source": [
    "# Function that returns the number of trips for the given hours and for the given 'group by' value\n",
    "\n",
    "def calculate_hexagon_trips_by_hours(hexagons_df, label, group_by, hours):\n",
    "    hexagons_df[label] = (\n",
    "        trips_df[\n",
    "            (trips_df[\"trip_start_timestamp\"].dt.hour >= hours[0])\n",
    "            & (trips_df[\"trip_start_timestamp\"].dt.hour <= hours[1])\n",
    "        ]\n",
    "        .groupby(group_by)\n",
    "        .size()\n",
    "    )\n",
    "    hexagons_df[label] = hexagons_df[label].fillna(value=0)"
   ]
  },
  {
   "cell_type": "code",
   "execution_count": null,
   "id": "168ec0f6",
   "metadata": {},
   "outputs": [],
   "source": [
    "# Function that returns the number of trips for the given hours and for the given 'group by' value\n",
    "\n",
    "def calculate_hexagon_trips_hour(hexagons_df, hexagon_num):\n",
    "    hexagon_label = f\"h3_0{hexagon_num}\"\n",
    "    now = datetime.now()\n",
    "    morning_hours = [now.replace(hour=6).hour, now.replace(hour=12).hour]\n",
    "    evening_hours = [now.replace(hour=14).hour, now.replace(hour=20).hour]\n",
    "\n",
    "    calculate_hexagon_trips_by_hours(\n",
    "        hexagons_df, label=\"starting_trips_morning\", group_by=f\"{hexagon_label}_pickup\", hours=morning_hours\n",
    "    )\n",
    "    calculate_hexagon_trips_by_hours(\n",
    "        hexagons_df, label= \"ending_trips_morning\", group_by=f\"{hexagon_label}_dropoff\", hours=morning_hours\n",
    "    )\n",
    "    calculate_hexagon_trips_by_hours(\n",
    "        hexagons_df, label= \"starting_trips_evening\", group_by=f\"{hexagon_label}_pickup\", hours=evening_hours\n",
    "    )\n",
    "    calculate_hexagon_trips_by_hours(\n",
    "        hexagons_df, label= \"ending_trips_evening\", group_by=f\"{hexagon_label}_dropoff\", hours=evening_hours\n",
    "    )\n",
    "\n",
    "    hexagons_df[\"trips_difference_morning\"] = (\n",
    "        hexagons_df[\"starting_trips_morning\"] - hexagons_df[\"ending_trips_morning\"]\n",
    "    )\n",
    "    hexagons_df[\"trips_difference_evening\"] = (\n",
    "        hexagons_df[\"starting_trips_evening\"] - hexagons_df[\"ending_trips_evening\"]\n",
    "    )\n",
    "\n",
    "    return hexagons_df"
   ]
  },
  {
   "cell_type": "code",
   "execution_count": null,
   "id": "987f92a3",
   "metadata": {},
   "outputs": [],
   "source": [
    "# Calculate the difference between starting and ending trips for the morning (06:00-12:00) \n",
    "# and for the evening (14:00-20:00) in Resolution 7, 8 + 9\n",
    "\n",
    "hexagon_numbers = [7, 8, 9]\n",
    "for hexagon_num in hexagon_numbers:\n",
    "    hexagon_df = globals()[f\"hexagons{hexagon_num}_df\"]\n",
    "    hexagon_df = hexagon_df.set_index(\"hex\")\n",
    "    hexagon_df = calculate_hexagon_trips_hour(hexagon_df, hexagon_num)\n",
    "    hexagon_df = hexagon_df.reset_index()\n",
    "\n",
    "    # Optionally, you can assign the updated DataFrame back to its original variable\n",
    "    globals()[f\"hexagons{hexagon_num}_df\"] = hexagon_df\n",
    "\n",
    "hexagons7_df.head(3)\n",
    "\n",
    "#hexagons7_df['geometry'] = hexagons7_df['geometry'].apply(lambda geom: geom.wkt) \n",
    "#hexagons7_df.to_parquet('hexagons7_df.parquet', index=False)\n"
   ]
  },
  {
   "cell_type": "code",
   "execution_count": null,
   "id": "d7744cca",
   "metadata": {},
   "outputs": [],
   "source": [
    "# Ploting a map with hexagons depicting the demand difference in the morning\n",
    "\n",
    "variable = \"trips_difference_morning\"\n",
    "\n",
    "fig = plot_frequency(\n",
    "    dataset=hexagons7_df,\n",
    "    variable=variable,\n",
    "    labels={variable: \"Demand Difference Morning in Res7\"},\n",
    "    range_color=(\n",
    "        -hexagons7_df[variable].quantile(0.9),\n",
    "        hexagons7_df[variable].quantile(0.9),\n",
    "    ),\n",
    ")\n",
    "fig.show()"
   ]
  },
  {
   "cell_type": "markdown",
   "id": "14ac1d33",
   "metadata": {},
   "source": [
    "In the morning (6am-12pm) the overall demand difference in most parts of Chicago is neither high on the positive or negative. This could be attributed to a balance between people starting their day and those who have already reached their destinations. The two Airports have more ending trips, which could be due to the fact that the early morning hours are often popular for business travel.\n",
    "Around Loop, Near North Side, Douglas and Lincoln Park there are also more ending trips, assumingly also due to work reasons, as there could be more businesses located.\n",
    "More starting trips are in the Indian village, which could be due to the fact that the residential area has a lot of high buildings, meaning that the area has a higher population density. \n",
    "In the North of Chicago, next to the river side, there are more starting trips, which is likely also due to to these areas being residential neighborhoods, as well as Public Transport not being as present in these areas (see **POI Notbeook**)."
   ]
  },
  {
   "cell_type": "code",
   "execution_count": null,
   "id": "8eb3ea90",
   "metadata": {},
   "outputs": [],
   "source": [
    "# Ploting a map with hexagons depicting the demand difference in the evening\n",
    "\n",
    "variable = \"trips_difference_evening\"\n",
    "\n",
    "fig = plot_frequency(\n",
    "    dataset=hexagons7_df,\n",
    "    variable=variable,\n",
    "    labels={variable: \"Demand Difference Evening in Res7\"},\n",
    "    range_color=(\n",
    "        -hexagons7_df[variable].quantile(0.9), \n",
    "        hexagons7_df[variable].quantile(0.9),\n",
    "    ),\n",
    ")\n",
    "fig.show()"
   ]
  },
  {
   "cell_type": "markdown",
   "id": "19f26a0f",
   "metadata": {},
   "source": [
    "A big difference is visible in comparison to the demand difference in the morning. In the evening (14pm-20pm) the demand difference is negative for most part in Chicago. This could be because people come back from work or activities that they did in the evening, like shopping or dining out. \n",
    "The two Airports in O'Hare and Clearing have more starting trips, as people come back from work trips or vacation on a later time. \n",
    "On a lot of the peripheral parts of Chicago again there is no much demand difference, likely because of lower urban denisty and less activity options.\n",
    "Here we can also see Elk Grove Village being prominent for the first time. This place has different kinds of outdoor activities and seems to be mostly visited during evening time. As this has activities for the family, the people will assumingly go there either after school or work time."
   ]
  },
  {
   "cell_type": "markdown",
   "id": "5e3d1e27",
   "metadata": {},
   "source": [
    "# Hex8"
   ]
  },
  {
   "cell_type": "markdown",
   "id": "13651217",
   "metadata": {},
   "source": [
    "Next, we will look at resolution 8 to capture finer geographic details."
   ]
  },
  {
   "cell_type": "code",
   "execution_count": null,
   "id": "0fe4b0bb",
   "metadata": {},
   "outputs": [],
   "source": [
    "variable = \"starting_trips_08\"\n",
    "\n",
    "fig = plot_frequency(\n",
    "    dataset=hexagons8_df,\n",
    "    variable=variable,\n",
    "    labels={variable: \"Starting Trips in Res8\"},\n",
    "    range_color=(0, hexagons8_df[variable].quantile(0.9)),\n",
    "    palette=\"reds\"\n",
    ")\n",
    "\n",
    "fig.show()"
   ]
  },
  {
   "cell_type": "markdown",
   "id": "4b275763",
   "metadata": {},
   "source": [
    "Overall the Resolution 8 H3 map is very similar to the Resolution 7 map. The only slight difference is that we now see few more differences within the city center and the Northern region. In addition, an area around Hyde Park has become more visually prominent. There are several museums in this area, Jackson Park, the University of Chicago, and the lake is nearby as well."
   ]
  },
  {
   "cell_type": "code",
   "execution_count": null,
   "id": "7fe186e0",
   "metadata": {},
   "outputs": [],
   "source": [
    "variable = \"ending_trips_08\"\n",
    "\n",
    "fig = plot_frequency(\n",
    "    dataset=hexagons8_df,\n",
    "    variable=variable,\n",
    "    labels={variable: \"Ending Trips in Res8\"},\n",
    "    range_color=(0, hexagons8_df[variable].quantile(0.9)),\n",
    "    palette=\"reds\"\n",
    ")\n",
    "\n",
    "fig.show()"
   ]
  },
  {
   "cell_type": "markdown",
   "id": "107515ab",
   "metadata": {},
   "source": [
    "Again, this is similar to Resolution 7. We see more dynamics within the city center and the Northern regions Lincoln Park and Uptown. And Hyde Park is more visible here as well."
   ]
  },
  {
   "cell_type": "code",
   "execution_count": null,
   "id": "06746f28",
   "metadata": {},
   "outputs": [],
   "source": [
    "hexagons8_df[\"demand_difference_08\"] = hexagons8_df[\"starting_trips_08\"] - hexagons8_df[\"ending_trips_08\"]\n",
    "hexagons8_df.head(3)"
   ]
  },
  {
   "cell_type": "code",
   "execution_count": null,
   "id": "93381601",
   "metadata": {},
   "outputs": [],
   "source": [
    "# Ploting a map with hexagons depicting the difference in demand considering starting and ending trips\n",
    "\n",
    "variable = \"demand_difference_08\"\n",
    "\n",
    "fig = plot_frequency(\n",
    "    dataset=hexagons8_df,\n",
    "    variable=variable,\n",
    "    labels={variable: \"Demand difference Res8\"},\n",
    "    range_color=(\n",
    "        -hexagons8_df[variable].quantile(0.95),\n",
    "        hexagons8_df[variable].quantile(0.95),\n",
    "    ),\n",
    ")\n",
    "fig.show()"
   ]
  },
  {
   "cell_type": "markdown",
   "id": "55ec638c",
   "metadata": {},
   "source": [
    "The difference that we can see here compared to Resolution 7 is that the peripheral areas do not have a high demand difference. As we already observed in Resolution 8 and 7 there are less starting trips and ending trips in general in these areas. A reason besides lower population density could be the higher number of public transport available in these areas, especially in the South, which would be less costly than taking a Taxi to the city center. "
   ]
  },
  {
   "cell_type": "markdown",
   "id": "34741517",
   "metadata": {},
   "source": [
    "### During morning and evening rush hour"
   ]
  },
  {
   "cell_type": "code",
   "execution_count": null,
   "id": "a6d7c459",
   "metadata": {},
   "outputs": [],
   "source": [
    "# Ploting a map with hexagons depicting the demand difference in the morning\n",
    "\n",
    "variable = \"trips_difference_morning\"\n",
    "\n",
    "fig = plot_frequency(\n",
    "    dataset=hexagons8_df,\n",
    "    variable=variable,\n",
    "    labels={variable: \"Demand Difference Morning Res8\"},\n",
    "    range_color=(\n",
    "        -hexagons8_df[variable].quantile(0.9),\n",
    "        hexagons8_df[variable].quantile(0.9),\n",
    "    ),\n",
    ")\n",
    "fig.show()"
   ]
  },
  {
   "cell_type": "markdown",
   "id": "e407ed01",
   "metadata": {},
   "source": [
    "Interestingly here we can see more detail whether there are more starting or more ending trips in Chicago, especially in the city center, and around Lincoln Park and Lake View."
   ]
  },
  {
   "cell_type": "code",
   "execution_count": null,
   "id": "41e0246c",
   "metadata": {},
   "outputs": [],
   "source": [
    "# Ploting a map with hexagons depicting the demand difference in the evening\n",
    "\n",
    "variable = \"trips_difference_evening\"\n",
    "\n",
    "fig = plot_frequency(\n",
    "    dataset=hexagons8_df,\n",
    "    variable=variable,\n",
    "    labels={variable: \"Demand Difference Evening Res8\"},\n",
    "    range_color=(\n",
    "        -hexagons8_df[variable].quantile(0.95),\n",
    "        hexagons8_df[variable].quantile(0.95),\n",
    "    ),\n",
    ")\n",
    "fig.show()"
   ]
  },
  {
   "cell_type": "markdown",
   "id": "78189e0c",
   "metadata": {},
   "source": [
    "Here again the map is similar to Resolution 7, but we see more clearly, which spots have more starting trips within the overall red colored spots, that symbol that in these location more Taxi trips end than start.\n",
    "\n",
    "Overall we can see a patterns within Chicago not being colored at all, which can be conlcuded due to the more detailed nature of a higher hexagon resolution. This already shows us at which locations there are no Taxi trips, which can be even better captured with Resolution 9."
   ]
  },
  {
   "cell_type": "markdown",
   "id": "2d305832",
   "metadata": {},
   "source": [
    "# Hex9"
   ]
  },
  {
   "cell_type": "markdown",
   "id": "6f58e382",
   "metadata": {},
   "source": [
    "Finally, we will look at Resolution 9 to analyze taxi demand in more detail. Since these maps are just a more detailed version of the other two Resolutions, showing more exact locations due to smaller hexagon sizes where certain hexagons are not drawn anymore, we will only comment on the maps where a bigger difference is visible."
   ]
  },
  {
   "cell_type": "code",
   "execution_count": null,
   "id": "6952a84c",
   "metadata": {},
   "outputs": [],
   "source": [
    "variable = \"starting_trips_09\"\n",
    "\n",
    "fig = plot_frequency(\n",
    "    dataset=hexagons9_df,\n",
    "    variable=variable,\n",
    "    labels={variable: \"Starting Trips in Res9\"},\n",
    "    range_color=(0, hexagons9_df[variable].quantile(0.9)),\n",
    "    palette=\"reds\"\n",
    ")\n",
    "\n",
    "fig.show()"
   ]
  },
  {
   "cell_type": "code",
   "execution_count": null,
   "id": "0cb58671",
   "metadata": {},
   "outputs": [],
   "source": [
    "variable = \"ending_trips_09\"\n",
    "\n",
    "fig = plot_frequency(\n",
    "    dataset=hexagons9_df,\n",
    "    variable=variable,\n",
    "    labels={variable: \"Ending Trips in Res9\"},\n",
    "    range_color=(0, hexagons9_df[variable].quantile(0.9)),\n",
    "    palette=\"reds\"\n",
    ")\n",
    "\n",
    "fig.show()"
   ]
  },
  {
   "cell_type": "code",
   "execution_count": null,
   "id": "3f0216a4",
   "metadata": {},
   "outputs": [],
   "source": [
    "hexagons9_df[\"demand_difference_09\"] = hexagons9_df[\"starting_trips_09\"] - hexagons9_df[\"ending_trips_09\"]\n",
    "hexagons9_df.head(3)"
   ]
  },
  {
   "cell_type": "code",
   "execution_count": null,
   "id": "c98e08bd",
   "metadata": {},
   "outputs": [],
   "source": [
    "# Ploting a map with hexagons depicting the difference in demand considering starting and ending trips\n",
    "\n",
    "variable = \"demand_difference_09\"\n",
    "\n",
    "fig = plot_frequency(\n",
    "    dataset=hexagons9_df,\n",
    "    variable=variable,\n",
    "    labels={variable: \"Demand difference Res9\"},\n",
    "    range_color=(\n",
    "        -hexagons9_df[variable].quantile(0.95),\n",
    "        hexagons9_df[variable].quantile(0.95),\n",
    "    ),\n",
    ")\n",
    "fig.show()"
   ]
  },
  {
   "cell_type": "markdown",
   "id": "a5f0463e",
   "metadata": {},
   "source": [
    "### During morning and evening rush hour"
   ]
  },
  {
   "cell_type": "code",
   "execution_count": null,
   "id": "b49d880a",
   "metadata": {},
   "outputs": [],
   "source": [
    "# Ploting a map with hexagons depicting the demand difference in the morning\n",
    "\n",
    "variable = \"trips_difference_morning\"\n",
    "\n",
    "fig = plot_frequency(\n",
    "    dataset=hexagons9_df,\n",
    "    variable=variable,\n",
    "    labels={variable: \"Demand Difference Morning Res9\"},\n",
    "    range_color=(\n",
    "        -hexagons9_df[variable].quantile(0.9),\n",
    "        hexagons9_df[variable].quantile(0.9),\n",
    "    ),\n",
    ")\n",
    "fig.show()"
   ]
  },
  {
   "cell_type": "code",
   "execution_count": null,
   "id": "6b29abb7",
   "metadata": {},
   "outputs": [],
   "source": [
    "# Ploting a map with hexagons depicting the demand difference in the evening\n",
    "\n",
    "variable = \"trips_difference_evening\"\n",
    "\n",
    "fig = plot_frequency(\n",
    "    dataset=hexagons9_df,\n",
    "    variable=variable,\n",
    "    labels={variable: \"Demand Difference Evening Res9\"},\n",
    "    range_color=(\n",
    "        -hexagons9_df[variable].quantile(0.95),\n",
    "        hexagons9_df[variable].quantile(0.95),\n",
    "    ),\n",
    ")\n",
    "fig.show()"
   ]
  },
  {
   "cell_type": "code",
   "execution_count": null,
   "id": "34e812c7",
   "metadata": {},
   "outputs": [],
   "source": [
    "hexagons9_df['geometry'] = hexagons9_df['geometry'].apply(lambda geom: geom.wkt) \n",
    "hexagons9_df.to_parquet('hexagons9_df.parquet', index=False)"
   ]
  },
  {
   "cell_type": "markdown",
   "id": "dc970627",
   "metadata": {},
   "source": [
    "As there were no comments for any of these H3 Resolution 9 maps, it can be conlcuded that thie Resolutions type just captures more exact locations, whilst the other Resolutions, especially 8, already captured the overall essentials."
   ]
  },
  {
   "cell_type": "markdown",
   "id": "0a03e8e5",
   "metadata": {},
   "source": [
    "# Average idle time between trips"
   ]
  },
  {
   "cell_type": "markdown",
   "id": "7cb65db6",
   "metadata": {},
   "source": [
    "When considering Taxis in Chicago, studying idle time is crucial because it unveils moments when taxis are not in active service, waiting for passengers. Analyzing idle time patterns can offer valuable information about taxi supply and demand dynamics, helping to identify areas or times of low passenger activity. This insight can guide Taxi operators in making informed decisions to strategically position taxis, minimize empty driving, and optimize earnings for both drivers and the overall Taxi system."
   ]
  },
  {
   "cell_type": "code",
   "execution_count": null,
   "id": "52647e5f",
   "metadata": {},
   "outputs": [],
   "source": [
    "# Method for visualizing average idle time in a hex map\n",
    "def plot_trips_net_monthly(h3_res: int, time_interval_length: int):\n",
    "\ttrips_monthly_net = get_trips_net_monthly(h3_res, time_interval_length)\n",
    "\n",
    "\ttrips_monthly_net['month'] = trips_monthly_net['datetime'].dt.month\n",
    "\ttrips_monthly_net = trips_monthly_net.sort_values(by=['month'])\n",
    "\n",
    "\th3_visualization.plot_choropleth(\n",
    "\t\ttrips_monthly_net,\n",
    "\t\thex_col=\"hex_id\",\n",
    "\t\tcolor_by_col=\"demand\",\n",
    "\t\tcenter=lat_lon_leipzig,\n",
    "\t\tcolor_continuous_scale=\"RdBu\",\n",
    "\t\trange_color=(\n",
    "\t\t\t-50,\n",
    "\t\t\t50\n",
    "\t\t),\n",
    "\t\tanimation_frame=\"month\",\n",
    "\t\topacity=0.7,\n",
    "\t\tzoom=10,\n",
    "\t\tlabels={'demand': 'inflow - outflow'},\n",
    "\t\tmapbox_style=\"open-street-map\",\n",
    "\t)"
   ]
  },
  {
   "cell_type": "code",
   "execution_count": null,
   "id": "4ac60760",
   "metadata": {},
   "outputs": [],
   "source": [
    "# Shift trips, so the idle time of a taxi can be calculated later on\n",
    "trips_shifted = trips_df.groupby(\"taxi_id\").shift(1).dropna(subset=[\"trip_start_timestamp\"])\n",
    "trips_with_next = trips_df.merge(\n",
    "    trips_shifted, left_index=True, right_index=True, how=\"inner\", suffixes=(\"\", \"_next\")\n",
    ")\n",
    "trips_with_next['taxi_id'] = trips_df['taxi_id']"
   ]
  },
  {
   "cell_type": "code",
   "execution_count": null,
   "id": "9b1f4fcc",
   "metadata": {},
   "outputs": [],
   "source": [
    "# Calculating idle time\n",
    "trips_with_next['idle_time'] = (\n",
    "    trips_with_next.trip_end_timestamp - trips_with_next.trip_start_timestamp_next\n",
    ")"
   ]
  },
  {
   "cell_type": "code",
   "execution_count": null,
   "id": "d232a916",
   "metadata": {},
   "outputs": [],
   "source": [
    "trips_with_next.idle_time.describe()"
   ]
  },
  {
   "cell_type": "code",
   "execution_count": null,
   "id": "6218e15b",
   "metadata": {},
   "outputs": [],
   "source": [
    "trips_with_next['timeinterval'] = (\n",
    "    trips_with_next.trip_start_timestamp.dt.floor('1D')\n",
    ")"
   ]
  },
  {
   "cell_type": "code",
   "execution_count": null,
   "id": "3b93a26f",
   "metadata": {},
   "outputs": [],
   "source": [
    "fig, ax = plt.subplots(figsize=(12, 6))\n",
    "\n",
    "ax.plot(\n",
    "    trips_with_next.groupby(\"timeinterval\").idle_time.median().dt.total_seconds()\n",
    "    / 60\n",
    "    / 60,\n",
    ")\n",
    "ax.set_xlabel(\"Time interval\")\n",
    "ax.set_ylabel(\"Median idle time (hours)\")\n",
    "ax.set_tile(\"Median idle time in hours over a one year time span\")\n",
    "\n",
    "plt.show()"
   ]
  },
  {
   "cell_type": "markdown",
   "id": "c623d8e0",
   "metadata": {},
   "source": [
    "With a linear plot we show the median idle time in hours for the one year period. The median idle time is overall very similar. We can see a bigger idle time around December, which could be attributed to holiday-related changes in travel demand. In our **Temporal Demand Pattern Notebook** we also observed that there are less Taxi usages in December. Additionally other short peaks during End of June to November can be seen, possibly due to seasonal events or factors influencing travel behavior, and one around January, likely related to weather conditions. For these month we also observed less Taxi usage.\n",
    "Around January to March smaller idle times can be seen, this phenomenon can be attributed to the colder weather prevalent in Chicago during this period. Around June a smaller idle time can also be observed. Conversely, in June, a reduction in idle time is discernible. This trend can be attributed to the onset of warmer weather, likely leading to more outdoor activities and higher demand for transportation services, thus reducing taxi idle times during this period."
   ]
  },
  {
   "cell_type": "code",
   "execution_count": null,
   "id": "d58a2d1e",
   "metadata": {},
   "outputs": [],
   "source": [
    "trips_with_next.head(3)"
   ]
  },
  {
   "cell_type": "code",
   "execution_count": null,
   "id": "37217e84",
   "metadata": {},
   "outputs": [],
   "source": [
    "trips_with_next['month'] = trips_with_next.trip_start_timestamp.dt.month"
   ]
  },
  {
   "cell_type": "code",
   "execution_count": null,
   "id": "06cfc014",
   "metadata": {},
   "outputs": [],
   "source": [
    "# Hex7\n",
    "idle_by_hex7_time_median = trips_with_next.groupby([\"h3_07_pickup_next\", \"month\"])[\n",
    "    \"idle_time\"\n",
    "].median().rename(\"idle_time_median\")\n",
    "idle_by_hex7_time_mean = trips_with_next.groupby([\"h3_07_pickup_next\", \"month\"])[\n",
    "    \"idle_time\"\n",
    "].mean().rename(\"idle_time_mean\")\n",
    "\n",
    "idle_by_hex7_time = pd.concat(\n",
    "\t[idle_by_hex7_time_median, idle_by_hex7_time_mean], axis=1\n",
    ").reset_index()\n",
    "\n",
    "# Hex9\n",
    "idle_by_hex9_time_median = trips_with_next.groupby([\"h3_09_pickup_next\", \"month\"])[\n",
    "    \"idle_time\"\n",
    "].median().rename(\"idle_time_median\")\n",
    "idle_by_hex9_time_mean = trips_with_next.groupby([\"h3_09_pickup_next\", \"month\"])[\n",
    "    \"idle_time\"\n",
    "].mean().rename(\"idle_time_mean\")\n",
    "\n",
    "idle_by_hex9_time = pd.concat(\n",
    "\t[idle_by_hex9_time_median, idle_by_hex9_time_mean], axis=1\n",
    ").reset_index()"
   ]
  },
  {
   "cell_type": "code",
   "execution_count": null,
   "id": "e9cfe590",
   "metadata": {},
   "outputs": [],
   "source": [
    "# Hex7\n",
    "idle_by_hex7_time[\"idle_time_median_days\"] = (\n",
    "    idle_by_hex7_time[\"idle_time_median\"].dt.total_seconds() / 60 / 60 / 24\n",
    ")\n",
    "idle_by_hex7_time[\"idle_time_mean_days\"] = (\n",
    "    idle_by_hex7_time[\"idle_time_mean\"].dt.total_seconds() / 60 / 60 / 24\n",
    ")\n",
    "\n",
    "# Hex9\n",
    "idle_by_hex9_time[\"idle_time_median_days\"] = (\n",
    "    idle_by_hex9_time[\"idle_time_median\"].dt.total_seconds() / 60 / 60 / 24\n",
    ")\n",
    "idle_by_hex9_time[\"idle_time_mean_days\"] = (\n",
    "    idle_by_hex9_time[\"idle_time_mean\"].dt.total_seconds() / 60 / 60 / 24\n",
    ")"
   ]
  },
  {
   "cell_type": "code",
   "execution_count": null,
   "id": "4f7e3083",
   "metadata": {},
   "outputs": [],
   "source": [
    "idle_by_hex7 = idle_by_hex7_time.groupby(\"h3_07_pickup_next\").mean().reset_index()\n",
    "\n",
    "# Hex9\n",
    "idle_by_hex9 = idle_by_hex9_time.groupby(\"h3_09_pickup_next\").mean().reset_index()"
   ]
  },
  {
   "cell_type": "code",
   "execution_count": null,
   "id": "52cd703e",
   "metadata": {},
   "outputs": [],
   "source": [
    "# Hex7\n",
    "idle_by_hex7.rename(columns={\"h3_07_pickup_next\":\"hex\"}, inplace=True)\n",
    "idle_by_hex7_time.rename(columns={\"h3_07_pickup_next\":\"hex\"}, inplace=True)\n",
    "\n",
    "# Hex9\n",
    "idle_by_hex9.rename(columns={\"h3_09_pickup_next\":\"hex\"}, inplace=True)\n",
    "idle_by_hex9_time.rename(columns={\"h3_09_pickup_next\":\"hex\"}, inplace=True)"
   ]
  },
  {
   "cell_type": "code",
   "execution_count": null,
   "id": "992b482b",
   "metadata": {},
   "outputs": [],
   "source": [
    "import math\n",
    "# Hex7\n",
    "idle_by_hex7['month'] = idle_by_hex7['month'].astype(int)\n",
    "\n",
    "idle_by_hex7.head(3)\n",
    "\n",
    "# Hex9\n",
    "idle_by_hex9['month'] = idle_by_hex9['month'].astype(int)\n",
    "\n",
    "idle_by_hex9.head(3)"
   ]
  },
  {
   "cell_type": "code",
   "execution_count": null,
   "id": "f5f4cb97",
   "metadata": {},
   "outputs": [],
   "source": [
    "# Hex7\n",
    "idle_by_hex7['geometry'] = (idle_by_hex7.apply(add_geometry,axis=1)) \n",
    "idle_by_hex7_time['geometry'] = (idle_by_hex7.apply(add_geometry,axis=1)) \n",
    "\n",
    "# Hex9\n",
    "idle_by_hex9['geometry'] = (idle_by_hex9.apply(add_geometry,axis=1)) \n",
    "idle_by_hex9_time['geometry'] = (idle_by_hex9.apply(add_geometry,axis=1)) "
   ]
  },
  {
   "cell_type": "code",
   "execution_count": null,
   "id": "400c6834",
   "metadata": {},
   "outputs": [],
   "source": [
    "# Hex7\n",
    "idle_by_hex7_time['geometry'].isna().sum()\n",
    "idle_by_hex7_time = idle_by_hex7_time.dropna(axis=0)\n",
    "idle_by_hex7_time.head(3)\n",
    "\n",
    "# Hex9\n",
    "idle_by_hex9_time['geometry'].isna().sum()\n",
    "idle_by_hex9_time = idle_by_hex9_time.dropna(axis=0)\n",
    "idle_by_hex9_time.head(3)"
   ]
  },
  {
   "cell_type": "markdown",
   "id": "094c159a",
   "metadata": {},
   "source": [
    "As there is little difference from Resolution 7 to 8, we will just visualize Reolution 7 and 9."
   ]
  },
  {
   "cell_type": "code",
   "execution_count": null,
   "id": "f04bf2a9",
   "metadata": {},
   "outputs": [],
   "source": [
    "idle_by_hex7 = idle_by_hex7.sort_values('month')\n",
    "\n",
    "variable = \"idle_time_median_days\"\n",
    "\n",
    "fig = plot_frequency(\n",
    "    dataset=idle_by_hex7,\n",
    "    variable=variable,\n",
    "    labels={variable: \"Idle Time in Res7\"},\n",
    "    range_color=(0, idle_by_hex7[variable].quantile(0.9)),\n",
    "    palette=\"reds\",\n",
    "\n",
    ")\n",
    "\n",
    "fig.show()"
   ]
  },
  {
   "cell_type": "markdown",
   "id": "5cf2a6c4",
   "metadata": {},
   "source": [
    "It can be observed that there is a higher idle time around periheral areas in Chicago, possibily due to the patterns that we have seen in the analyis before, that in these areas there are less starting and ending trips, so in generall less demand for Taxis. Possible reasons that we mentioned were due to the alternative transport options, longer distances resulting in higher fares and lower residental population."
   ]
  },
  {
   "cell_type": "code",
   "execution_count": null,
   "id": "24d25fab",
   "metadata": {},
   "outputs": [],
   "source": [
    "idle_by_hex9 = idle_by_hex9.sort_values('month')\n",
    "\n",
    "variable = \"idle_time_median_days\"\n",
    "\n",
    "fig = plot_frequency(\n",
    "    dataset=idle_by_hex9,\n",
    "    variable=variable,\n",
    "    labels={variable: \"Idle Time in Res9\"},\n",
    "    range_color=(0, idle_by_hex9[variable].quantile(0.9)),\n",
    "    palette=\"reds\",\n",
    "\n",
    ")\n",
    "\n",
    "fig.show()"
   ]
  },
  {
   "cell_type": "markdown",
   "id": "dc4a42d9",
   "metadata": {},
   "source": [
    "Finally, with a Resolution of 9, we can see in more detail in which locations the idle time is higher or lower. This again is already well captured in Resolution 7, as both are similar. "
   ]
  },
  {
   "cell_type": "markdown",
   "id": "0756e0bb",
   "metadata": {},
   "source": [
    "To summarize this notebook, we observed higher Taxi Demand in the city center the Loop, the Northern areas above the city center like Lincoln Park, the Southern parts around Hyde Park and the two Airports O'Hare International and Midway International. Linking this observation with other observations from the **Temporal Demand Patterns and Price Analysis** and **POI Notebook** and research, we can explain these patterns for each area like this:\n",
    "- The City Center has higher amount of activities like sustenance, arts and culture, sports and education leading to the highest Taxi Demand\n",
    "- The Northern areas, above the city and nearer to the river side, have more residential areas that have less access to public transport, so the Taxi Demand is higher\n",
    "- The Southern areas around Hyde Park have several museums, the University of Chicago and a park near the Lake located there, leading to higher Taxi Demand in these parts\n",
    "- Chicago O'Hare International Airport and Chicago Midway International Airport have higher demand in general due to them being important transportation hubs. In the morning there are more ending trips and in the evening more starting trips likely due to business travel and its timely nature\n",
    "- Peripheral areas have less Taxi demand likely due to a lower population density, better access to public transport and higher cost of Taxi Demand due to its farer distance to the city center\n",
    "\n",
    "For an outlook, more POIs can be studied in relation to Taxi Demand. Chicago is a place with a lot of criminal activities, so the influence of that can also be analyzed in relation to Taxi Demand. "
   ]
  }
 ],
 "metadata": {
  "kernelspec": {
   "display_name": "Python 3 (ipykernel)",
   "language": "python",
   "name": "python3"
  },
  "language_info": {
   "codemirror_mode": {
    "name": "ipython",
    "version": 3
   },
   "file_extension": ".py",
   "mimetype": "text/x-python",
   "name": "python",
   "nbconvert_exporter": "python",
   "pygments_lexer": "ipython3",
   "version": "3.10.9"
  }
 },
 "nbformat": 4,
 "nbformat_minor": 5
}
