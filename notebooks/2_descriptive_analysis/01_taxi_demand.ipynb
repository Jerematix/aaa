{
 "cells": [
  {
   "cell_type": "markdown",
   "id": "6c528a98",
   "metadata": {},
   "source": [
    "# Geospatial Taxi Demand Analysis"
   ]
  },
  {
   "cell_type": "markdown",
   "id": "35006687",
   "metadata": {},
   "source": [
    "To analyze the taxi trip data of Chicago from the year 2015, this notebook will visualize the taxi usage in a geospatial context. Here different H3 maps with different resolutions (7, 8 and 9) and heatmaps are used. The analysis focuses on starting trips, ending trips, demand difference and idle time. \n",
    "Our H3 maps are not shown on GitHub so please refer to the uploaded notebook. The same goes for our heatmaps, which we can't upload due to its size."
   ]
  },
  {
   "cell_type": "code",
   "execution_count": 126,
   "id": "4264d7c5",
   "metadata": {},
   "outputs": [],
   "source": [
    "import numpy as np\n",
    "import pandas as pd\n",
    "import matplotlib.pyplot as plt\n",
    "import seaborn as sns\n",
    "import folium\n",
    "from folium import plugins\n",
    "from folium.plugins import HeatMap\n",
    "import h3\n",
    "from shapely.geometry import Polygon\n",
    "import geopandas\n",
    "from geojson import Feature, Point, FeatureCollection, Polygon\n",
    "from shapely.geometry import Polygon\n",
    "import plotly.express as px\n",
    "from datetime import datetime"
   ]
  },
  {
   "cell_type": "markdown",
   "id": "b3f6131a",
   "metadata": {},
   "source": [
    "First, we need to import all the essential libraries needed for our analysis. We'll work with two DataFrames (DFs):\n",
    "Trips_df: This DataFrame contains the complete dataset for the H3 maps and includes the relevant features for our analysis.\n",
    "Sample_df: Designed for the heatmaps, this DataFrame contains a sample of the entire dataset. Given the size of trips_df, we will use sample_df to generate the heatmaps."
   ]
  },
  {
   "cell_type": "code",
   "execution_count": 127,
   "id": "2897455f",
   "metadata": {},
   "outputs": [
    {
     "data": {
      "text/html": [
       "<div>\n",
       "<style scoped>\n",
       "    .dataframe tbody tr th:only-of-type {\n",
       "        vertical-align: middle;\n",
       "    }\n",
       "\n",
       "    .dataframe tbody tr th {\n",
       "        vertical-align: top;\n",
       "    }\n",
       "\n",
       "    .dataframe thead th {\n",
       "        text-align: right;\n",
       "    }\n",
       "</style>\n",
       "<table border=\"1\" class=\"dataframe\">\n",
       "  <thead>\n",
       "    <tr style=\"text-align: right;\">\n",
       "      <th></th>\n",
       "      <th>taxi_id</th>\n",
       "      <th>trip_start_timestamp</th>\n",
       "      <th>trip_end_timestamp</th>\n",
       "      <th>pickup_community_area</th>\n",
       "      <th>dropoff_community_area</th>\n",
       "      <th>hour_start</th>\n",
       "      <th>4_hour_block_start</th>\n",
       "      <th>day_start</th>\n",
       "      <th>dayofweek_start</th>\n",
       "      <th>week_start</th>\n",
       "      <th>...</th>\n",
       "      <th>month_end</th>\n",
       "      <th>h3_07_pickup</th>\n",
       "      <th>h3_07_dropoff</th>\n",
       "      <th>h3_08_pickup</th>\n",
       "      <th>h3_08_dropoff</th>\n",
       "      <th>h3_09_pickup</th>\n",
       "      <th>h3_09_dropoff</th>\n",
       "      <th>pickup_centroid</th>\n",
       "      <th>dropoff_centroid</th>\n",
       "      <th>datetime</th>\n",
       "    </tr>\n",
       "  </thead>\n",
       "  <tbody>\n",
       "    <tr>\n",
       "      <th>0</th>\n",
       "      <td>1</td>\n",
       "      <td>2015-01-01 00:00:00</td>\n",
       "      <td>2015-01-01 00:00:00</td>\n",
       "      <td>8</td>\n",
       "      <td>32</td>\n",
       "      <td>0</td>\n",
       "      <td>0</td>\n",
       "      <td>1</td>\n",
       "      <td>3</td>\n",
       "      <td>1</td>\n",
       "      <td>...</td>\n",
       "      <td>1</td>\n",
       "      <td>872664c1effffff</td>\n",
       "      <td>872664c1effffff</td>\n",
       "      <td>882664c1e1fffff</td>\n",
       "      <td>882664c1e3fffff</td>\n",
       "      <td>892664c1e0fffff</td>\n",
       "      <td>892664c1e2fffff</td>\n",
       "      <td>POINT (-87.626214906 41.892507781)</td>\n",
       "      <td>POINT (-87.620992913 41.884987192)</td>\n",
       "      <td>2015-01-01</td>\n",
       "    </tr>\n",
       "    <tr>\n",
       "      <th>1</th>\n",
       "      <td>2</td>\n",
       "      <td>2015-01-01 00:30:00</td>\n",
       "      <td>2015-01-01 00:30:00</td>\n",
       "      <td>8</td>\n",
       "      <td>7</td>\n",
       "      <td>0</td>\n",
       "      <td>0</td>\n",
       "      <td>1</td>\n",
       "      <td>3</td>\n",
       "      <td>1</td>\n",
       "      <td>...</td>\n",
       "      <td>1</td>\n",
       "      <td>872664c1effffff</td>\n",
       "      <td>872664c13ffffff</td>\n",
       "      <td>882664c1e7fffff</td>\n",
       "      <td>882664c135fffff</td>\n",
       "      <td>892664c1e73ffff</td>\n",
       "      <td>892664c13cfffff</td>\n",
       "      <td>POINT (-87.63186395 41.892042136)</td>\n",
       "      <td>POINT (-87.654007029 41.914747305)</td>\n",
       "      <td>2015-01-01</td>\n",
       "    </tr>\n",
       "    <tr>\n",
       "      <th>2</th>\n",
       "      <td>3</td>\n",
       "      <td>2015-01-01 00:30:00</td>\n",
       "      <td>2015-01-01 00:45:00</td>\n",
       "      <td>8</td>\n",
       "      <td>8</td>\n",
       "      <td>0</td>\n",
       "      <td>0</td>\n",
       "      <td>1</td>\n",
       "      <td>3</td>\n",
       "      <td>1</td>\n",
       "      <td>...</td>\n",
       "      <td>1</td>\n",
       "      <td>872664c1effffff</td>\n",
       "      <td>872664c13ffffff</td>\n",
       "      <td>882664c1e7fffff</td>\n",
       "      <td>882664c137fffff</td>\n",
       "      <td>892664c1e73ffff</td>\n",
       "      <td>892664c1377ffff</td>\n",
       "      <td>POINT (-87.63186395 41.892042136)</td>\n",
       "      <td>POINT (-87.649907226 41.904935302)</td>\n",
       "      <td>2015-01-01</td>\n",
       "    </tr>\n",
       "  </tbody>\n",
       "</table>\n",
       "<p>3 rows × 25 columns</p>\n",
       "</div>"
      ],
      "text/plain": [
       "   taxi_id trip_start_timestamp  trip_end_timestamp  pickup_community_area  \\\n",
       "0        1  2015-01-01 00:00:00 2015-01-01 00:00:00                      8   \n",
       "1        2  2015-01-01 00:30:00 2015-01-01 00:30:00                      8   \n",
       "2        3  2015-01-01 00:30:00 2015-01-01 00:45:00                      8   \n",
       "\n",
       "   dropoff_community_area  hour_start  4_hour_block_start  day_start  \\\n",
       "0                      32           0                   0          1   \n",
       "1                       7           0                   0          1   \n",
       "2                       8           0                   0          1   \n",
       "\n",
       "   dayofweek_start  week_start  ...  month_end     h3_07_pickup  \\\n",
       "0                3           1  ...          1  872664c1effffff   \n",
       "1                3           1  ...          1  872664c1effffff   \n",
       "2                3           1  ...          1  872664c1effffff   \n",
       "\n",
       "     h3_07_dropoff     h3_08_pickup    h3_08_dropoff     h3_09_pickup  \\\n",
       "0  872664c1effffff  882664c1e1fffff  882664c1e3fffff  892664c1e0fffff   \n",
       "1  872664c13ffffff  882664c1e7fffff  882664c135fffff  892664c1e73ffff   \n",
       "2  872664c13ffffff  882664c1e7fffff  882664c137fffff  892664c1e73ffff   \n",
       "\n",
       "     h3_09_dropoff                     pickup_centroid  \\\n",
       "0  892664c1e2fffff  POINT (-87.626214906 41.892507781)   \n",
       "1  892664c13cfffff   POINT (-87.63186395 41.892042136)   \n",
       "2  892664c1377ffff   POINT (-87.63186395 41.892042136)   \n",
       "\n",
       "                     dropoff_centroid   datetime  \n",
       "0  POINT (-87.620992913 41.884987192) 2015-01-01  \n",
       "1  POINT (-87.654007029 41.914747305) 2015-01-01  \n",
       "2  POINT (-87.649907226 41.904935302) 2015-01-01  \n",
       "\n",
       "[3 rows x 25 columns]"
      ]
     },
     "execution_count": 127,
     "metadata": {},
     "output_type": "execute_result"
    }
   ],
   "source": [
    "#Import cleaned dataset\n",
    "\n",
    "# For heatmaps use cleaned sample data\n",
    "sample_df = pd.read_parquet('../../data/rides/Taxi_Trips_Sampled_Cleaned.parquet')\n",
    "\n",
    "# For h3 maps use whole cleaned dataset\n",
    "trips_df = pd.read_parquet('../../data/rides/Taxi_Trips_Cleaned.parquet')\n",
    "\n",
    "# Columns to drop for trips_df\n",
    "columns_to_drop = ['trip_seconds', 'trip_miles', 'pickup_census_tract', 'dropoff_census_tract', 'fare', 'tips', 'tolls', 'Extras', 'trip_total', 'payment_type', 'Company', 'temp', 'precip', 'is_weekday', 'h3_05_pickup',\n",
    "       'h3_05_dropoff', 'h3_06_pickup', 'h3_06_dropoff', 'week_end']\n",
    "\n",
    "trips_df = trips_df.drop(columns_to_drop, axis=1)\n",
    "\n",
    "trips_df.head(3)"
   ]
  },
  {
   "cell_type": "markdown",
   "id": "93141789",
   "metadata": {},
   "source": [
    "To make it easier to refer to specific locations in our analysis, we create a dictionary for each census tract name in Chicago and add it to our DataFrame. The list of census tracts has been retrieved from [here] (https://data.cityofchicago.org/Facilities-Geographic-Boundaries/Boundaries-Census-Tracts-2000/pt6c-hxpp)."
   ]
  },
  {
   "cell_type": "code",
   "execution_count": 128,
   "id": "7ea03201",
   "metadata": {},
   "outputs": [
    {
     "name": "stdout",
     "output_type": "stream",
     "text": [
      "{'1': 'Rogers Park', '2': 'West Ridge', '3': 'Uptown', '4': 'Lincoln Square', '5': 'North Center', '6': 'Lake View', '7': 'Lincoln Park', '8': 'Near North Side', '9': 'Edison Park', '10': 'Norwood Park', '11': 'Jefferson Park', '12': 'Forest Glen', '13': 'North Park', '14': 'Albany Park', '15': 'Portage Park', '16': 'Irving Park', '17': 'Dunning', '18': 'Montclare', '19': 'Belmont Cragin', '20': 'Hermosa', '21': 'Avondale', '22': 'Logan Square', '23': 'Humboldt Park', '24': 'West Town', '25': 'Austin', '26': 'West Garfield Park', '27': 'East Garfield Park', '28': 'Near West Side', '29': 'North Lawndale', '30': 'South Lawndale', '31': 'Lower West Side', '32': 'Loop', '33': 'Near South Side', '34': 'Armour Square', '35': 'Douglas', '36': 'Oakland', '37': 'Fuller Park', '38': 'Grand Boulevard', '39': 'Kenwood', '40': 'Washington Park', '41': 'Hyde Park', '42': 'Woodlawn', '43': 'South Shore', '44': 'Chatham', '45': 'Avalon Park', '46': 'South Chicago', '47': 'Burnside', '48': 'Calumet Heights', '49': 'Roseland', '50': 'Pullman', '51': 'South Deering', '52': 'East Side', '53': 'West Pullman', '54': 'Riverdale', '55': 'Hegewisch', '56': 'Garfield Ridge', '57': 'Archer Heights', '58': 'Brighton Park', '59': 'Mckinley Park', '60': 'Bridgeport', '61': 'New City', '62': 'West Elsdon', '63': 'Gage Park', '64': 'Clearing', '65': 'West Lawn', '66': 'Chicago Lawn', '67': 'West Englewood', '68': 'Englewood', '69': 'Greater Grand Crossing', '70': 'Ashburn', '71': 'Auburn Gresham', '72': 'Beverly', '73': 'Washington Heights', '74': 'Mount Greenwood', '75': 'Morgan Park', '76': \"O'Hare\", '77': 'Edgewater'}\n"
     ]
    }
   ],
   "source": [
    "import csv\n",
    "\n",
    "csv_file = '../../data/census_tract/chicago_census_tract.csv'\n",
    "\n",
    "# Create an empty dictionary\n",
    "data_dict = {}\n",
    "\n",
    "# Open the CSV file\n",
    "with open(csv_file, 'r') as file:\n",
    "    reader = csv.reader(file)\n",
    "\n",
    "    # Skip the header row if present\n",
    "    next(reader)\n",
    "\n",
    "    # Iterate over each row in the CSV file\n",
    "    for row in reader:\n",
    "        ca = row[1]  # CA is in the second column\n",
    "        community = row[2]  # COMMUNIT_1 is in the third column\n",
    "\n",
    "        # Add the data to the dictionary\n",
    "        data_dict[ca] = community\n",
    "\n",
    "data_dict = dict(sorted(data_dict.items(), key=lambda item: int(item[0])))\n",
    "print(data_dict)"
   ]
  },
  {
   "cell_type": "code",
   "execution_count": 129,
   "id": "999c7293",
   "metadata": {},
   "outputs": [],
   "source": [
    "# Create a new dictionary with integer keys\n",
    "new_data_dict = {int(key): value for key, value in data_dict.items()}\n"
   ]
  },
  {
   "cell_type": "code",
   "execution_count": 130,
   "id": "1778d38a",
   "metadata": {},
   "outputs": [],
   "source": [
    "key_types = [type(key) for key in new_data_dict.keys()]"
   ]
  },
  {
   "cell_type": "code",
   "execution_count": 131,
   "id": "5dd8b556",
   "metadata": {},
   "outputs": [
    {
     "data": {
      "text/html": [
       "<div>\n",
       "<style scoped>\n",
       "    .dataframe tbody tr th:only-of-type {\n",
       "        vertical-align: middle;\n",
       "    }\n",
       "\n",
       "    .dataframe tbody tr th {\n",
       "        vertical-align: top;\n",
       "    }\n",
       "\n",
       "    .dataframe thead th {\n",
       "        text-align: right;\n",
       "    }\n",
       "</style>\n",
       "<table border=\"1\" class=\"dataframe\">\n",
       "  <thead>\n",
       "    <tr style=\"text-align: right;\">\n",
       "      <th></th>\n",
       "      <th>taxi_id</th>\n",
       "      <th>trip_start_timestamp</th>\n",
       "      <th>trip_end_timestamp</th>\n",
       "      <th>pickup_community_area</th>\n",
       "      <th>dropoff_community_area</th>\n",
       "      <th>hour_start</th>\n",
       "      <th>4_hour_block_start</th>\n",
       "      <th>day_start</th>\n",
       "      <th>dayofweek_start</th>\n",
       "      <th>week_start</th>\n",
       "      <th>...</th>\n",
       "      <th>h3_07_dropoff</th>\n",
       "      <th>h3_08_pickup</th>\n",
       "      <th>h3_08_dropoff</th>\n",
       "      <th>h3_09_pickup</th>\n",
       "      <th>h3_09_dropoff</th>\n",
       "      <th>pickup_centroid</th>\n",
       "      <th>dropoff_centroid</th>\n",
       "      <th>datetime</th>\n",
       "      <th>pickup_name</th>\n",
       "      <th>dropoff_name</th>\n",
       "    </tr>\n",
       "  </thead>\n",
       "  <tbody>\n",
       "    <tr>\n",
       "      <th>0</th>\n",
       "      <td>1</td>\n",
       "      <td>2015-01-01 00:00:00</td>\n",
       "      <td>2015-01-01 00:00:00</td>\n",
       "      <td>8</td>\n",
       "      <td>32</td>\n",
       "      <td>0</td>\n",
       "      <td>0</td>\n",
       "      <td>1</td>\n",
       "      <td>3</td>\n",
       "      <td>1</td>\n",
       "      <td>...</td>\n",
       "      <td>872664c1effffff</td>\n",
       "      <td>882664c1e1fffff</td>\n",
       "      <td>882664c1e3fffff</td>\n",
       "      <td>892664c1e0fffff</td>\n",
       "      <td>892664c1e2fffff</td>\n",
       "      <td>POINT (-87.626214906 41.892507781)</td>\n",
       "      <td>POINT (-87.620992913 41.884987192)</td>\n",
       "      <td>2015-01-01</td>\n",
       "      <td>Near North Side</td>\n",
       "      <td>Loop</td>\n",
       "    </tr>\n",
       "    <tr>\n",
       "      <th>1</th>\n",
       "      <td>2</td>\n",
       "      <td>2015-01-01 00:30:00</td>\n",
       "      <td>2015-01-01 00:30:00</td>\n",
       "      <td>8</td>\n",
       "      <td>7</td>\n",
       "      <td>0</td>\n",
       "      <td>0</td>\n",
       "      <td>1</td>\n",
       "      <td>3</td>\n",
       "      <td>1</td>\n",
       "      <td>...</td>\n",
       "      <td>872664c13ffffff</td>\n",
       "      <td>882664c1e7fffff</td>\n",
       "      <td>882664c135fffff</td>\n",
       "      <td>892664c1e73ffff</td>\n",
       "      <td>892664c13cfffff</td>\n",
       "      <td>POINT (-87.63186395 41.892042136)</td>\n",
       "      <td>POINT (-87.654007029 41.914747305)</td>\n",
       "      <td>2015-01-01</td>\n",
       "      <td>Near North Side</td>\n",
       "      <td>Lincoln Park</td>\n",
       "    </tr>\n",
       "    <tr>\n",
       "      <th>2</th>\n",
       "      <td>3</td>\n",
       "      <td>2015-01-01 00:30:00</td>\n",
       "      <td>2015-01-01 00:45:00</td>\n",
       "      <td>8</td>\n",
       "      <td>8</td>\n",
       "      <td>0</td>\n",
       "      <td>0</td>\n",
       "      <td>1</td>\n",
       "      <td>3</td>\n",
       "      <td>1</td>\n",
       "      <td>...</td>\n",
       "      <td>872664c13ffffff</td>\n",
       "      <td>882664c1e7fffff</td>\n",
       "      <td>882664c137fffff</td>\n",
       "      <td>892664c1e73ffff</td>\n",
       "      <td>892664c1377ffff</td>\n",
       "      <td>POINT (-87.63186395 41.892042136)</td>\n",
       "      <td>POINT (-87.649907226 41.904935302)</td>\n",
       "      <td>2015-01-01</td>\n",
       "      <td>Near North Side</td>\n",
       "      <td>Near North Side</td>\n",
       "    </tr>\n",
       "  </tbody>\n",
       "</table>\n",
       "<p>3 rows × 27 columns</p>\n",
       "</div>"
      ],
      "text/plain": [
       "   taxi_id trip_start_timestamp  trip_end_timestamp  pickup_community_area  \\\n",
       "0        1  2015-01-01 00:00:00 2015-01-01 00:00:00                      8   \n",
       "1        2  2015-01-01 00:30:00 2015-01-01 00:30:00                      8   \n",
       "2        3  2015-01-01 00:30:00 2015-01-01 00:45:00                      8   \n",
       "\n",
       "   dropoff_community_area  hour_start  4_hour_block_start  day_start  \\\n",
       "0                      32           0                   0          1   \n",
       "1                       7           0                   0          1   \n",
       "2                       8           0                   0          1   \n",
       "\n",
       "   dayofweek_start  week_start  ...    h3_07_dropoff     h3_08_pickup  \\\n",
       "0                3           1  ...  872664c1effffff  882664c1e1fffff   \n",
       "1                3           1  ...  872664c13ffffff  882664c1e7fffff   \n",
       "2                3           1  ...  872664c13ffffff  882664c1e7fffff   \n",
       "\n",
       "     h3_08_dropoff     h3_09_pickup    h3_09_dropoff  \\\n",
       "0  882664c1e3fffff  892664c1e0fffff  892664c1e2fffff   \n",
       "1  882664c135fffff  892664c1e73ffff  892664c13cfffff   \n",
       "2  882664c137fffff  892664c1e73ffff  892664c1377ffff   \n",
       "\n",
       "                      pickup_centroid                    dropoff_centroid  \\\n",
       "0  POINT (-87.626214906 41.892507781)  POINT (-87.620992913 41.884987192)   \n",
       "1   POINT (-87.63186395 41.892042136)  POINT (-87.654007029 41.914747305)   \n",
       "2   POINT (-87.63186395 41.892042136)  POINT (-87.649907226 41.904935302)   \n",
       "\n",
       "    datetime      pickup_name     dropoff_name  \n",
       "0 2015-01-01  Near North Side             Loop  \n",
       "1 2015-01-01  Near North Side     Lincoln Park  \n",
       "2 2015-01-01  Near North Side  Near North Side  \n",
       "\n",
       "[3 rows x 27 columns]"
      ]
     },
     "execution_count": 131,
     "metadata": {},
     "output_type": "execute_result"
    }
   ],
   "source": [
    "# Match census tract name to community area unique value\n",
    "\n",
    "# For heatmaps: sample df\n",
    "sample_df['pickup_name'] = sample_df['pickup_community_area'].map(new_data_dict)\n",
    "sample_df['dropoff_name'] = sample_df['dropoff_community_area'].map(new_data_dict)\n",
    "\n",
    "# For h3 maps: trips_df\n",
    "trips_df['pickup_name'] = trips_df['pickup_community_area'].map(new_data_dict)\n",
    "trips_df['dropoff_name'] = trips_df['dropoff_community_area'].map(new_data_dict)\n",
    "trips_df.head(3)"
   ]
  },
  {
   "cell_type": "code",
   "execution_count": 132,
   "id": "c717c168",
   "metadata": {},
   "outputs": [
    {
     "data": {
      "text/plain": [
       "0"
      ]
     },
     "execution_count": 132,
     "metadata": {},
     "output_type": "execute_result"
    }
   ],
   "source": [
    "#Test for NAN values\n",
    "trips_df['pickup_name'].isna().sum()"
   ]
  },
  {
   "cell_type": "markdown",
   "id": "2e0261b3",
   "metadata": {},
   "source": [
    "## Heatmaps "
   ]
  },
  {
   "cell_type": "markdown",
   "id": "4067782f",
   "metadata": {},
   "source": [
    "In this section, we use heatmaps to visualize the number of starting trips and ending trips. However, due to the size of the heatmaps and kernel failures, we use only a sample of the data. As the size of the heatmap is still too big, we have removed the cell outputs containing the visualization of the heatmaps. Should your computing resources allow, you have the option to substitute the sample_df with the trips_df and execute the heatmap with the entire dataset."
   ]
  },
  {
   "cell_type": "markdown",
   "id": "6c77c260",
   "metadata": {},
   "source": [
    "### Starting Trips"
   ]
  },
  {
   "cell_type": "code",
   "execution_count": null,
   "id": "4e2cb678",
   "metadata": {},
   "outputs": [],
   "source": [
    "from shapely import wkt"
   ]
  },
  {
   "cell_type": "code",
   "execution_count": null,
   "id": "68a281b9",
   "metadata": {},
   "outputs": [],
   "source": [
    "# Convert the pickup_centroid column to a GeoSeries from WKT format\n",
    "sample_df[\"pickup_centroid\"] = geopandas.GeoSeries.from_wkt(sample_df[\"pickup_centroid\"])"
   ]
  },
  {
   "cell_type": "code",
   "execution_count": null,
   "id": "00a38b94",
   "metadata": {},
   "outputs": [],
   "source": [
    "sample_df.set_geometry('pickup_centroid')\n",
    "sample_df.head(3)"
   ]
  },
  {
   "cell_type": "code",
   "execution_count": null,
   "id": "90696f94",
   "metadata": {},
   "outputs": [],
   "source": [
    "#Split pickup_centroid into coordinates\n",
    "#taken from https://geopandas.org/en/stable/gallery/plotting_with_folium.html \n",
    "\n",
    "geo_df_list = [[point.xy[1][0], point.xy[0][0]] for point in sample_df.pickup_centroid]"
   ]
  },
  {
   "cell_type": "code",
   "execution_count": null,
   "id": "3c87262d",
   "metadata": {},
   "outputs": [],
   "source": [
    "# Create DF for starting trip locations and is corresponding area names\n",
    "geo_df_pickup = geopandas.GeoDataFrame(geo_df_list, sample_df[\"pickup_census_tract\"])\n",
    "geo_df_pickup = geo_df_pickup.reset_index()\n",
    "geo_df_pickup[\"pickup_name\"] = sample_df[\"pickup_name\"]\n",
    "\n",
    "geo_df_pickup.head(3)"
   ]
  },
  {
   "cell_type": "code",
   "execution_count": null,
   "id": "0a5b295e",
   "metadata": {},
   "outputs": [],
   "source": [
    "geo_df_pickup = geo_df_pickup.reset_index()\n",
    "geo_df_pickup.head(3)"
   ]
  },
  {
   "cell_type": "code",
   "execution_count": null,
   "id": "2721f184",
   "metadata": {},
   "outputs": [],
   "source": [
    "# Ploting heatmap that shows the census tracts and the frequency of trips starting there\n",
    "\n",
    "trips_heatmap = folium.Map(\n",
    "    location=(41.881832, -87.623177), # the orig mean values as location coordinates from https://www.latlong.net/place/chicago-il-usa-1855.html\n",
    "    zoom_start=13,\n",
    "    control_scale=True,\n",
    "    max_zoom=20,\n",
    ")\n",
    "\n",
    "trips_heatmap.add_child(plugins.HeatMap(geo_df_list, radius=30))\n",
    "\n",
    "popup_content = np.vectorize(\n",
    "    lambda name, tract: f\"Pickup Name: {name}<br> </br><br> Pickup Census Tract: {tract}\"\n",
    ")(geo_df_pickup['pickup_name'], geo_df_pickup['pickup_census_tract'])\n",
    "\n",
    "for _,row in geo_df_pickup.iterrows():\n",
    "    folium.CircleMarker(\n",
    "        radius=5,\n",
    "        location=[row[0], row[1]],\n",
    "        popup=popup_content[_],\n",
    "        color=\"crimson\",\n",
    "        fill_color=\"crimson\",\n",
    "    ).add_to(trips_heatmap)\n",
    "    \n",
    "    \n",
    "trips_heatmap"
   ]
  },
  {
   "cell_type": "markdown",
   "id": "279b31ad",
   "metadata": {},
   "source": [
    "The heatmap reveals that the primary hotspot is Loop, representing the city center. Additional hotspots include the O'Hare International Airport, as well as the Chicago Midway International Airport, both important transportation hubs in Chicago. Generally, it can be observed that besides the city center and the airports, taxi demand is elevated in the northern parts of Chicago, around Near North Side, Lake View, and Edgewater. In contrast, the southern regions display fewer prominent areas. More prominant locations in the South include the University of Chicago (located in Hyde Park) and Douglas."
   ]
  },
  {
   "cell_type": "markdown",
   "id": "413d9e47",
   "metadata": {},
   "source": [
    "## Ending Trips"
   ]
  },
  {
   "cell_type": "code",
   "execution_count": null,
   "id": "8cc66f72",
   "metadata": {},
   "outputs": [],
   "source": [
    "# Convert the \"dropoff_centroid\" column to a GeoSeries from WKT format\n",
    "sample_df[\"dropoff_centroid\"] = geopandas.GeoSeries.from_wkt(sample_df[\"dropoff_centroid\"])"
   ]
  },
  {
   "cell_type": "code",
   "execution_count": null,
   "id": "5275b1ef",
   "metadata": {},
   "outputs": [],
   "source": [
    "sample_df.set_geometry('dropoff_centroid')\n",
    "sample_df.head(3)"
   ]
  },
  {
   "cell_type": "code",
   "execution_count": null,
   "id": "e141ccae",
   "metadata": {},
   "outputs": [],
   "source": [
    "geo_df_list_dropoff = [[point.xy[1][0], point.xy[0][0]] for point in sample_df.dropoff_centroid]"
   ]
  },
  {
   "cell_type": "code",
   "execution_count": null,
   "id": "89d780fb",
   "metadata": {},
   "outputs": [],
   "source": [
    "geo_df_dropoff = geopandas.GeoDataFrame(geo_df_list_dropoff, sample_df[\"dropoff_census_tract\"])"
   ]
  },
  {
   "cell_type": "code",
   "execution_count": null,
   "id": "b5192c28",
   "metadata": {},
   "outputs": [],
   "source": [
    "geo_df_dropoff = geo_df_dropoff.reset_index()\n",
    "geo_df_dropoff[\"dropoff_name\"] = sample_df[\"dropoff_name\"]\n",
    "\n",
    "geo_df_dropoff.head(3)"
   ]
  },
  {
   "cell_type": "code",
   "execution_count": null,
   "id": "3e04b574",
   "metadata": {
    "scrolled": false
   },
   "outputs": [],
   "source": [
    "# Ploting heatmap that shows the census tracts and the frequency of trips ending there\n",
    "\n",
    "trips_heatmap = folium.Map(\n",
    "    location=(41.881832, -87.623177), # the orig mean values as location coordinates from https://www.latlong.net/place/chicago-il-usa-1855.html\n",
    "    zoom_start=13,\n",
    "    control_scale=True,\n",
    "    max_zoom=20,\n",
    ")\n",
    "\n",
    "trips_heatmap.add_child(plugins.HeatMap(geo_df_list_dropoff, radius=30))\n",
    "\n",
    "popup_content = np.vectorize(lambda name, tract: f\"Dropoff Name: {name}<br> </br><br>Dropoff Census Tract: {tract}\")(\n",
    "    geo_df_dropoff['dropoff_name'], geo_df_dropoff['dropoff_census_tract']\n",
    ")\n",
    "\n",
    "for _,row in geo_df_dropoff.iterrows():\n",
    "    folium.CircleMarker(\n",
    "        radius=5,\n",
    "        location=[row[0], row[1]],\n",
    "        popup=popup_content[_],\n",
    "        color=\"crimson\",\n",
    "        fill_color=\"crimson\",\n",
    "    ).add_to(trips_heatmap)\n",
    "    \n",
    "    \n",
    "trips_heatmap"
   ]
  },
  {
   "cell_type": "markdown",
   "id": "465c8a0a",
   "metadata": {},
   "source": [
    "Similar to the heatmap of starting trips the most popular hotspot is Loop. Also the Airports and northern locations in Chicago are more prominent as well. The few popular locations in the south being around Hyde Park and Douglas. \n",
    "\n",
    "To further analyze patterns, like the similarity of starting and ending trips, we will use H3 maps and look at different analysis objectives. This should give us a more reliable foundation for pattern analysis because we can now examine the entire dataset. Furthermore, it allows us to assess whether the heatmaps created using the sample dataset accurately represent the broader patterns present in the data."
   ]
  },
  {
   "cell_type": "markdown",
   "id": "9a226cfb",
   "metadata": {},
   "source": [
    "## H3 maps "
   ]
  },
  {
   "cell_type": "markdown",
   "id": "6183db4c",
   "metadata": {},
   "source": [
    "We use H3 maps to enhance our geospatial visualizations, focusing on resolution levels 7, 8, and 9 to capture different levels of detail. \n",
    "Our approach begins by establishing DataFrames for each resolution type, accompanied by methods for generating hexagonal geometries, counting the number of trips within each hexagon, and designing the visual representation of the H3 maps.\n"
   ]
  },
  {
   "cell_type": "code",
   "execution_count": 133,
   "id": "022bd50b",
   "metadata": {},
   "outputs": [
    {
     "data": {
      "text/html": [
       "<div>\n",
       "<style scoped>\n",
       "    .dataframe tbody tr th:only-of-type {\n",
       "        vertical-align: middle;\n",
       "    }\n",
       "\n",
       "    .dataframe tbody tr th {\n",
       "        vertical-align: top;\n",
       "    }\n",
       "\n",
       "    .dataframe thead th {\n",
       "        text-align: right;\n",
       "    }\n",
       "</style>\n",
       "<table border=\"1\" class=\"dataframe\">\n",
       "  <thead>\n",
       "    <tr style=\"text-align: right;\">\n",
       "      <th></th>\n",
       "      <th>hex</th>\n",
       "    </tr>\n",
       "  </thead>\n",
       "  <tbody>\n",
       "    <tr>\n",
       "      <th>0</th>\n",
       "      <td>892664c1e0fffff</td>\n",
       "    </tr>\n",
       "    <tr>\n",
       "      <th>1</th>\n",
       "      <td>892664c1e73ffff</td>\n",
       "    </tr>\n",
       "    <tr>\n",
       "      <th>2</th>\n",
       "      <td>892664c1293ffff</td>\n",
       "    </tr>\n",
       "  </tbody>\n",
       "</table>\n",
       "</div>"
      ],
      "text/plain": [
       "               hex\n",
       "0  892664c1e0fffff\n",
       "1  892664c1e73ffff\n",
       "2  892664c1293ffff"
      ]
     },
     "execution_count": 133,
     "metadata": {},
     "output_type": "execute_result"
    }
   ],
   "source": [
    "# Creating a dataframe that contains all hexagons where at least one trip started or ended\n",
    "\n",
    "hexagons7_df = pd.DataFrame()\n",
    "hexagons8_df = pd.DataFrame()\n",
    "hexagons9_df = pd.DataFrame()\n",
    "\n",
    "hexagons7_df[\"hex\"] = pd.concat([trips_df[\"h3_07_pickup\"], trips_df[\"h3_07_dropoff\"]]).unique()\n",
    "hexagons8_df[\"hex\"] = pd.concat([trips_df[\"h3_08_pickup\"], trips_df[\"h3_08_dropoff\"]]).unique()\n",
    "hexagons9_df[\"hex\"] = pd.concat([trips_df[\"h3_09_pickup\"], trips_df[\"h3_09_dropoff\"]]).unique()\n",
    "hexagons7_df.head(3)\n",
    "hexagons8_df.head(3)\n",
    "hexagons9_df.head(3)"
   ]
  },
  {
   "cell_type": "code",
   "execution_count": 134,
   "id": "a2f0d624",
   "metadata": {},
   "outputs": [],
   "source": [
    "# Defining a funtion that generates heaxagon geometry for each hexagon\n",
    "# taken from https://medium.com/analytics-vidhya/how-to-create-a-choropleth-map-using-uber-h3-plotly-python-458f51593548\n",
    "\n",
    "def add_geometry(row):\n",
    "  points = h3.h3_to_geo_boundary(row['hex'], True)\n",
    "  return Polygon(points)"
   ]
  },
  {
   "cell_type": "code",
   "execution_count": 135,
   "id": "8377011b",
   "metadata": {},
   "outputs": [
    {
     "data": {
      "text/html": [
       "<div>\n",
       "<style scoped>\n",
       "    .dataframe tbody tr th:only-of-type {\n",
       "        vertical-align: middle;\n",
       "    }\n",
       "\n",
       "    .dataframe tbody tr th {\n",
       "        vertical-align: top;\n",
       "    }\n",
       "\n",
       "    .dataframe thead th {\n",
       "        text-align: right;\n",
       "    }\n",
       "</style>\n",
       "<table border=\"1\" class=\"dataframe\">\n",
       "  <thead>\n",
       "    <tr style=\"text-align: right;\">\n",
       "      <th></th>\n",
       "      <th>hex</th>\n",
       "      <th>geometry</th>\n",
       "    </tr>\n",
       "  </thead>\n",
       "  <tbody>\n",
       "    <tr>\n",
       "      <th>0</th>\n",
       "      <td>872664c1effffff</td>\n",
       "      <td>POLYGON ((-87.63048927308355 41.90755371098675...</td>\n",
       "    </tr>\n",
       "    <tr>\n",
       "      <th>1</th>\n",
       "      <td>872664c12ffffff</td>\n",
       "      <td>POLYGON ((-87.6723729663648 41.93963771855481,...</td>\n",
       "    </tr>\n",
       "    <tr>\n",
       "      <th>2</th>\n",
       "      <td>872664c10ffffff</td>\n",
       "      <td>POLYGON ((-87.6427881340186 41.94402243665091,...</td>\n",
       "    </tr>\n",
       "  </tbody>\n",
       "</table>\n",
       "</div>"
      ],
      "text/plain": [
       "               hex                                           geometry\n",
       "0  872664c1effffff  POLYGON ((-87.63048927308355 41.90755371098675...\n",
       "1  872664c12ffffff  POLYGON ((-87.6723729663648 41.93963771855481,...\n",
       "2  872664c10ffffff  POLYGON ((-87.6427881340186 41.94402243665091,..."
      ]
     },
     "execution_count": 135,
     "metadata": {},
     "output_type": "execute_result"
    }
   ],
   "source": [
    "#Applying function to our hexagons dataframe\n",
    "\n",
    "hexagons7_df['geometry'] = (hexagons7_df\n",
    "                                .apply(add_geometry,axis=1)) \n",
    "\n",
    "hexagons8_df['geometry'] = (hexagons8_df\n",
    "                                .apply(add_geometry,axis=1)) \n",
    "\n",
    "hexagons9_df['geometry'] = (hexagons9_df\n",
    "                                .apply(add_geometry,axis=1)) \n",
    "\n",
    "\n",
    "hexagons7_df.head(3)\n"
   ]
  },
  {
   "cell_type": "code",
   "execution_count": 136,
   "id": "2c203e12",
   "metadata": {},
   "outputs": [],
   "source": [
    "# Defining a functions that will count trips for a given groupby value\n",
    "\n",
    "def calculate_hexagon_trips(hexagons_df, label, group_by):\n",
    "    hexagons_df[label] = trips_df.groupby(group_by).size()\n",
    "    hexagons_df[label] = hexagons_df[label].fillna(value=0)"
   ]
  },
  {
   "cell_type": "code",
   "execution_count": 137,
   "id": "1ea1d285",
   "metadata": {},
   "outputs": [
    {
     "data": {
      "text/html": [
       "<div>\n",
       "<style scoped>\n",
       "    .dataframe tbody tr th:only-of-type {\n",
       "        vertical-align: middle;\n",
       "    }\n",
       "\n",
       "    .dataframe tbody tr th {\n",
       "        vertical-align: top;\n",
       "    }\n",
       "\n",
       "    .dataframe thead th {\n",
       "        text-align: right;\n",
       "    }\n",
       "</style>\n",
       "<table border=\"1\" class=\"dataframe\">\n",
       "  <thead>\n",
       "    <tr style=\"text-align: right;\">\n",
       "      <th></th>\n",
       "      <th>hex</th>\n",
       "      <th>geometry</th>\n",
       "      <th>starting_trips_09</th>\n",
       "      <th>ending_trips_09</th>\n",
       "    </tr>\n",
       "  </thead>\n",
       "  <tbody>\n",
       "    <tr>\n",
       "      <th>0</th>\n",
       "      <td>892664c1e0fffff</td>\n",
       "      <td>POLYGON ((-87.62821283343483 41.89422009039776...</td>\n",
       "      <td>1539532.0</td>\n",
       "      <td>1172276.0</td>\n",
       "    </tr>\n",
       "    <tr>\n",
       "      <th>1</th>\n",
       "      <td>892664c1e73ffff</td>\n",
       "      <td>POLYGON ((-87.63243550733023 41.89359528834631...</td>\n",
       "      <td>998728.0</td>\n",
       "      <td>805638.0</td>\n",
       "    </tr>\n",
       "    <tr>\n",
       "      <th>2</th>\n",
       "      <td>892664c1293ffff</td>\n",
       "      <td>POLYGON ((-87.6609277473747 41.938599432639094...</td>\n",
       "      <td>15996.0</td>\n",
       "      <td>32308.0</td>\n",
       "    </tr>\n",
       "  </tbody>\n",
       "</table>\n",
       "</div>"
      ],
      "text/plain": [
       "               hex                                           geometry  \\\n",
       "0  892664c1e0fffff  POLYGON ((-87.62821283343483 41.89422009039776...   \n",
       "1  892664c1e73ffff  POLYGON ((-87.63243550733023 41.89359528834631...   \n",
       "2  892664c1293ffff  POLYGON ((-87.6609277473747 41.938599432639094...   \n",
       "\n",
       "   starting_trips_09  ending_trips_09  \n",
       "0          1539532.0        1172276.0  \n",
       "1           998728.0         805638.0  \n",
       "2            15996.0          32308.0  "
      ]
     },
     "execution_count": 137,
     "metadata": {},
     "output_type": "execute_result"
    }
   ],
   "source": [
    "# Calculate starting and ending trips for each hexagon\n",
    "\n",
    "hexagons7_df = hexagons7_df.set_index('hex')\n",
    "hexagons8_df = hexagons8_df.set_index('hex')\n",
    "hexagons9_df = hexagons9_df.set_index('hex')\n",
    "\n",
    "\n",
    "calculate_hexagon_trips(hexagons7_df, label=\"starting_trips_07\", group_by=\"h3_07_pickup\")\n",
    "calculate_hexagon_trips(hexagons7_df, label=\"ending_trips_07\", group_by=\"h3_07_dropoff\")\n",
    "calculate_hexagon_trips(hexagons8_df, label=\"starting_trips_08\", group_by=\"h3_08_pickup\")\n",
    "calculate_hexagon_trips(hexagons8_df, label=\"ending_trips_08\", group_by=\"h3_08_dropoff\")\n",
    "calculate_hexagon_trips(hexagons9_df, label=\"starting_trips_09\", group_by=\"h3_09_pickup\")\n",
    "calculate_hexagon_trips(hexagons9_df, label=\"ending_trips_09\", group_by=\"h3_09_dropoff\")\n",
    "\n",
    "hexagons7_df = hexagons7_df.reset_index()\n",
    "hexagons8_df = hexagons8_df.reset_index()\n",
    "hexagons9_df = hexagons9_df.reset_index()\n",
    "\n",
    "hexagons9_df.head(3)"
   ]
  },
  {
   "cell_type": "code",
   "execution_count": 138,
   "id": "01697631",
   "metadata": {},
   "outputs": [
    {
     "data": {
      "text/html": [
       "<div>\n",
       "<style scoped>\n",
       "    .dataframe tbody tr th:only-of-type {\n",
       "        vertical-align: middle;\n",
       "    }\n",
       "\n",
       "    .dataframe tbody tr th {\n",
       "        vertical-align: top;\n",
       "    }\n",
       "\n",
       "    .dataframe thead th {\n",
       "        text-align: right;\n",
       "    }\n",
       "</style>\n",
       "<table border=\"1\" class=\"dataframe\">\n",
       "  <thead>\n",
       "    <tr style=\"text-align: right;\">\n",
       "      <th></th>\n",
       "      <th>hex</th>\n",
       "      <th>geometry</th>\n",
       "      <th>starting_trips_07</th>\n",
       "      <th>ending_trips_07</th>\n",
       "      <th>pickup_name</th>\n",
       "    </tr>\n",
       "  </thead>\n",
       "  <tbody>\n",
       "    <tr>\n",
       "      <th>0</th>\n",
       "      <td>872664c1effffff</td>\n",
       "      <td>POLYGON ((-87.63048927308355 41.90755371098675...</td>\n",
       "      <td>7532228.0</td>\n",
       "      <td>6705006</td>\n",
       "      <td>Near North Side</td>\n",
       "    </tr>\n",
       "    <tr>\n",
       "      <th>1</th>\n",
       "      <td>872664c12ffffff</td>\n",
       "      <td>POLYGON ((-87.6723729663648 41.93963771855481,...</td>\n",
       "      <td>122202.0</td>\n",
       "      <td>283480</td>\n",
       "      <td>Near North Side</td>\n",
       "    </tr>\n",
       "    <tr>\n",
       "      <th>2</th>\n",
       "      <td>872664c10ffffff</td>\n",
       "      <td>POLYGON ((-87.6427881340186 41.94402243665091,...</td>\n",
       "      <td>575439.0</td>\n",
       "      <td>808271</td>\n",
       "      <td>Near North Side</td>\n",
       "    </tr>\n",
       "  </tbody>\n",
       "</table>\n",
       "</div>"
      ],
      "text/plain": [
       "               hex                                           geometry  \\\n",
       "0  872664c1effffff  POLYGON ((-87.63048927308355 41.90755371098675...   \n",
       "1  872664c12ffffff  POLYGON ((-87.6723729663648 41.93963771855481,...   \n",
       "2  872664c10ffffff  POLYGON ((-87.6427881340186 41.94402243665091,...   \n",
       "\n",
       "   starting_trips_07  ending_trips_07      pickup_name  \n",
       "0          7532228.0          6705006  Near North Side  \n",
       "1           122202.0           283480  Near North Side  \n",
       "2           575439.0           808271  Near North Side  "
      ]
     },
     "execution_count": 138,
     "metadata": {},
     "output_type": "execute_result"
    }
   ],
   "source": [
    "hexagons7_df[\"pickup_name\"]=trips_df[\"pickup_name\"]\n",
    "hexagons8_df[\"pickup_name\"]=trips_df[\"pickup_name\"]\n",
    "hexagons9_df[\"pickup_name\"]=trips_df[\"pickup_name\"]\n",
    "\n",
    "hexagons7_df.head(3)"
   ]
  },
  {
   "cell_type": "code",
   "execution_count": 139,
   "id": "a35bbf92",
   "metadata": {},
   "outputs": [],
   "source": [
    "# Our approach uses the chloropleth_mapbox module of Plotly Express to build a map.\n",
    "# To do this a GeoJSON-formatted dictionary is created by this method that can be passed to Plotly express. \n",
    "\n",
    "# taken from https://medium.com/analytics-vidhya/how-to-create-a-choropleth-map-using-uber-h3-plotly-python-458f51593548\n",
    "\n",
    "def hexagons_dataframe_to_geojson(df_hex, value_field, file_output = None):\n",
    "\n",
    "    list_features = []\n",
    "\n",
    "    for i, row in df_hex.iterrows():\n",
    "        feature = Feature(geometry = row['geometry'],\n",
    "                          id = row['hex'],\n",
    "                          properties = {\"value\": row[value_field]})\n",
    "        list_features.append(feature)\n",
    "\n",
    "    feat_collection = FeatureCollection(list_features)\n",
    "\n",
    "    if file_output is not None:\n",
    "        with open(file_output, \"w\") as f:\n",
    "            json.dump(feat_collection, f)\n",
    "\n",
    "    else :\n",
    "      return feat_collection"
   ]
  },
  {
   "cell_type": "code",
   "execution_count": 140,
   "id": "a50a68ca",
   "metadata": {},
   "outputs": [],
   "source": [
    "# Function that visualizes the H3 map\n",
    "\n",
    "# Adapted from https://medium.com/analytics-vidhya/how-to-create-a-choropleth-map-using-uber-h3-plotly-python-458f51593548\n",
    "\n",
    "def plot_frequency(dataset, variable, labels, range_color, palette=\"RdBu\"):\n",
    "    geojson_obj = (hexagons_dataframe_to_geojson(dataset, value_field=variable))\n",
    "\n",
    "    fig = (px.choropleth_mapbox(\n",
    "                    dataset,\n",
    "                    width=700,\n",
    "                    height=500,\n",
    "                    geojson=geojson_obj, \n",
    "                    locations='hex', \n",
    "                 #   hover_name = \"pickup_name\",\n",
    "                    color=variable,\n",
    "                    color_continuous_scale=palette,\n",
    "                    range_color=range_color,\n",
    "                    mapbox_style='carto-positron',\n",
    "                    zoom=10.5,\n",
    "                    center = {\"lat\": 41.881832 ,\"lon\": -87.623177,},\n",
    "                    opacity=0.7,\n",
    "                    labels=labels))\n",
    "    fig.update_layout(\n",
    "        margin={\"r\": 0, \"t\": 0, \"l\": 0, \"b\": 0},\n",
    "    )\n",
    "    return fig "
   ]
  },
  {
   "cell_type": "code",
   "execution_count": 141,
   "id": "47c1f20c",
   "metadata": {},
   "outputs": [],
   "source": [
    "# Function to plot the frequency with choropleth colors based on the variable\n",
    "\n",
    "def plot_frequency_test(dataset, hover_name, variable, labels, range_color, palette=\"RdBu\"):\n",
    "    fig = (px.choropleth_mapbox(\n",
    "        dataset,\n",
    "        width=700,\n",
    "        height=500,\n",
    "        geojson=hexagons_dataframe_to_geojson(dataset, value_field=variable),\n",
    "        locations='hex',\n",
    "        hover_name=hover_name,\n",
    "        color=variable,  # Use the 'variable' directly as the color\n",
    "        color_continuous_scale=palette,\n",
    "        range_color=range_color,\n",
    "        zoom=10.5,\n",
    "        center={\"lat\": 41.881832, \"lon\": -87.623177},\n",
    "        opacity=0.7,\n",
    "        labels=labels,\n",
    "        animation_frame=\"month\",\n",
    "       # animation_group=\"hex\",\n",
    "        mapbox_style=\"open-street-map\",\n",
    "    ))\n",
    "    fig.update_layout(\n",
    "        sliders=[\n",
    "            dict(\n",
    "                active=0,\n",
    "                bgcolor='black'\n",
    "            )\n",
    "        ]\n",
    "    )\n",
    "    return fig\n"
   ]
  },
  {
   "cell_type": "markdown",
   "id": "768cea42",
   "metadata": {},
   "source": [
    "# Hex7"
   ]
  },
  {
   "cell_type": "markdown",
   "id": "c43edb4b",
   "metadata": {},
   "source": [
    "First we begin by visualizing the hexagon resolution 7. In each resolution type, we examine both the count of starting and ending trips, as well as the demand difference. We will take a closer look at the difference in demand by looking at the total difference, as well as the morning (6am-12pm) and evening (2pm-8pm) differences.\n",
    "\n",
    "We will use a quantile of 0.9 for the color range. However, for visualizations where differences are less noticeable, we will adjust the quantile to 0.95 to emphasize the variations more clearly."
   ]
  },
  {
   "cell_type": "markdown",
   "id": "a5565eea",
   "metadata": {},
   "source": [
    "## Starting Trips"
   ]
  },
  {
   "cell_type": "code",
   "execution_count": 142,
   "id": "d5b848b6",
   "metadata": {},
   "outputs": [
    {
     "data": {
      "application/vnd.plotly.v1+json": {
       "config": {
        "plotlyServerURL": "https://plot.ly"
       },
       "data": [
        {
         "coloraxis": "coloraxis",
         "geojson": {
          "features": [
           {
            "geometry": {
             "coordinates": [
              [
               [
                -87.630489,
                41.907554
               ],
               [
                -87.643222,
                41.899289
               ],
               [
                -87.639124,
                41.887138
               ],
               [
                -87.622301,
                41.883249
               ],
               [
                -87.609568,
                41.891509
               ],
               [
                -87.613658,
                41.903663
               ],
               [
                -87.630489,
                41.907554
               ]
              ]
             ],
             "type": "Polygon"
            },
            "id": "872664c1effffff",
            "properties": {
             "value": 7532228
            },
            "type": "Feature"
           },
           {
            "geometry": {
             "coordinates": [
              [
               [
                -87.672373,
                41.939638
               ],
               [
                -87.685106,
                41.931365
               ],
               [
                -87.680995,
                41.919211
               ],
               [
                -87.664157,
                41.915328
               ],
               [
                -87.651424,
                41.923596
               ],
               [
                -87.655529,
                41.935752
               ],
               [
                -87.672373,
                41.939638
               ]
              ]
             ],
             "type": "Polygon"
            },
            "id": "872664c12ffffff",
            "properties": {
             "value": 122202
            },
            "type": "Feature"
           },
           {
            "geometry": {
             "coordinates": [
              [
               [
                -87.642788,
                41.944022
               ],
               [
                -87.655529,
                41.935752
               ],
               [
                -87.651424,
                41.923596
               ],
               [
                -87.634587,
                41.919708
               ],
               [
                -87.621846,
                41.927975
               ],
               [
                -87.625943,
                41.940133
               ],
               [
                -87.642788,
                41.944022
               ]
              ]
             ],
             "type": "Polygon"
            },
            "id": "872664c10ffffff",
            "properties": {
             "value": 575439
            },
            "type": "Feature"
           },
           {
            "geometry": {
             "coordinates": [
              [
               [
                -87.680995,
                41.919211
               ],
               [
                -87.69372,
                41.91094
               ],
               [
                -87.689609,
                41.89879
               ],
               [
                -87.672778,
                41.894908
               ],
               [
                -87.660053,
                41.903175
               ],
               [
                -87.664157,
                41.915328
               ],
               [
                -87.680995,
                41.919211
               ]
              ]
             ],
             "type": "Polygon"
            },
            "id": "872664cacffffff",
            "properties": {
             "value": 263352
            },
            "type": "Feature"
           },
           {
            "geometry": {
             "coordinates": [
              [
               [
                -87.634144,
                41.964453
               ],
               [
                -87.646892,
                41.956182
               ],
               [
                -87.642788,
                41.944022
               ],
               [
                -87.625943,
                41.940133
               ],
               [
                -87.613196,
                41.9484
               ],
               [
                -87.617292,
                41.960561
               ],
               [
                -87.634144,
                41.964453
               ]
              ]
             ],
             "type": "Polygon"
            },
            "id": "872664c14ffffff",
            "properties": {
             "value": 58437
            },
            "type": "Feature"
           },
           {
            "geometry": {
             "coordinates": [
              [
               [
                -87.655106,
                41.980505
               ],
               [
                -87.667854,
                41.972229
               ],
               [
                -87.663743,
                41.960069
               ],
               [
                -87.646892,
                41.956182
               ],
               [
                -87.634144,
                41.964453
               ],
               [
                -87.638248,
                41.976616
               ],
               [
                -87.655106,
                41.980505
               ]
              ]
             ],
             "type": "Polygon"
            },
            "id": "872664d89ffffff",
            "properties": {
             "value": 94369
            },
            "type": "Feature"
           },
           {
            "geometry": {
             "coordinates": [
              [
               [
                -87.660053,
                41.903175
               ],
               [
                -87.672778,
                41.894908
               ],
               [
                -87.668673,
                41.882759
               ],
               [
                -87.65185,
                41.878875
               ],
               [
                -87.639124,
                41.887138
               ],
               [
                -87.643222,
                41.899289
               ],
               [
                -87.660053,
                41.903175
               ]
              ]
             ],
             "type": "Polygon"
            },
            "id": "872664cadffffff",
            "properties": {
             "value": 859846
            },
            "type": "Feature"
           },
           {
            "geometry": {
             "coordinates": [
              [
               [
                -87.663743,
                41.960069
               ],
               [
                -87.676484,
                41.951795
               ],
               [
                -87.672373,
                41.939638
               ],
               [
                -87.655529,
                41.935752
               ],
               [
                -87.642788,
                41.944022
               ],
               [
                -87.646892,
                41.956182
               ],
               [
                -87.663743,
                41.960069
               ]
              ]
             ],
             "type": "Polygon"
            },
            "id": "872664c16ffffff",
            "properties": {
             "value": 478637
            },
            "type": "Feature"
           },
           {
            "geometry": {
             "coordinates": [
              [
               [
                -87.646461,
                42.000945
               ],
               [
                -87.659216,
                41.992668
               ],
               [
                -87.655106,
                41.980505
               ],
               [
                -87.638248,
                41.976616
               ],
               [
                -87.625492,
                41.984889
               ],
               [
                -87.629595,
                41.997054
               ],
               [
                -87.646461,
                42.000945
               ]
              ]
             ],
             "type": "Polygon"
            },
            "id": "872664d8dffffff",
            "properties": {
             "value": 8229
            },
            "type": "Feature"
           },
           {
            "geometry": {
             "coordinates": [
              [
               [
                -87.639124,
                41.887138
               ],
               [
                -87.65185,
                41.878875
               ],
               [
                -87.647752,
                41.866726
               ],
               [
                -87.630935,
                41.862839
               ],
               [
                -87.618209,
                41.871098
               ],
               [
                -87.622301,
                41.883249
               ],
               [
                -87.639124,
                41.887138
               ]
              ]
             ],
             "type": "Polygon"
            },
            "id": "872664c1affffff",
            "properties": {
             "value": 4020232
            },
            "type": "Feature"
           },
           {
            "geometry": {
             "coordinates": [
              [
               [
                -87.621846,
                41.927975
               ],
               [
                -87.634587,
                41.919708
               ],
               [
                -87.630489,
                41.907554
               ],
               [
                -87.613658,
                41.903663
               ],
               [
                -87.600918,
                41.911925
               ],
               [
                -87.605008,
                41.924082
               ],
               [
                -87.621846,
                41.927975
               ]
              ]
             ],
             "type": "Polygon"
            },
            "id": "872664c11ffffff",
            "properties": {
             "value": 398230
            },
            "type": "Feature"
           },
           {
            "geometry": {
             "coordinates": [
              [
               [
                -87.70195,
                41.935246
               ],
               [
                -87.714676,
                41.926971
               ],
               [
                -87.710557,
                41.914819
               ],
               [
                -87.69372,
                41.91094
               ],
               [
                -87.680995,
                41.919211
               ],
               [
                -87.685106,
                41.931365
               ],
               [
                -87.70195,
                41.935246
               ]
              ]
             ],
             "type": "Polygon"
            },
            "id": "872664ca1ffffff",
            "properties": {
             "value": 34761
            },
            "type": "Feature"
           },
           {
            "geometry": {
             "coordinates": [
              [
               [
                -87.651424,
                41.923596
               ],
               [
                -87.664157,
                41.915328
               ],
               [
                -87.660053,
                41.903175
               ],
               [
                -87.643222,
                41.899289
               ],
               [
                -87.630489,
                41.907554
               ],
               [
                -87.634587,
                41.919708
               ],
               [
                -87.651424,
                41.923596
               ]
              ]
             ],
             "type": "Polygon"
            },
            "id": "872664c13ffffff",
            "properties": {
             "value": 533749
            },
            "type": "Feature"
           },
           {
            "geometry": {
             "coordinates": [
              [
               [
                -87.585067,
                41.81862
               ],
               [
                -87.597785,
                41.81037
               ],
               [
                -87.593707,
                41.798229
               ],
               [
                -87.576917,
                41.794335
               ],
               [
                -87.564199,
                41.802581
               ],
               [
                -87.568271,
                41.814724
               ],
               [
                -87.585067,
                41.81862
               ]
              ]
             ],
             "type": "Polygon"
            },
            "id": "872664ce3ffffff",
            "properties": {
             "value": 6273
            },
            "type": "Feature"
           },
           {
            "geometry": {
             "coordinates": [
              [
               [
                -87.618209,
                41.871098
               ],
               [
                -87.630935,
                41.862839
               ],
               [
                -87.626843,
                41.850692
               ],
               [
                -87.610033,
                41.846803
               ],
               [
                -87.597308,
                41.855058
               ],
               [
                -87.601392,
                41.867207
               ],
               [
                -87.618209,
                41.871098
               ]
              ]
             ],
             "type": "Polygon"
            },
            "id": "872664c1bffffff",
            "properties": {
             "value": 348888
            },
            "type": "Feature"
           },
           {
            "geometry": {
             "coordinates": [
              [
               [
                -87.693335,
                41.955677
               ],
               [
                -87.706068,
                41.947401
               ],
               [
                -87.70195,
                41.935246
               ],
               [
                -87.685106,
                41.931365
               ],
               [
                -87.672373,
                41.939638
               ],
               [
                -87.676484,
                41.951795
               ],
               [
                -87.693335,
                41.955677
               ]
              ]
             ],
             "type": "Polygon"
            },
            "id": "872664ca5ffffff",
            "properties": {
             "value": 15678
            },
            "type": "Feature"
           },
           {
            "geometry": {
             "coordinates": [
              [
               [
                -87.684712,
                41.976114
               ],
               [
                -87.697453,
                41.967836
               ],
               [
                -87.693335,
                41.955677
               ],
               [
                -87.676484,
                41.951795
               ],
               [
                -87.663743,
                41.960069
               ],
               [
                -87.667854,
                41.972229
               ],
               [
                -87.684712,
                41.976114
               ]
              ]
             ],
             "type": "Polygon"
            },
            "id": "872664d8bffffff",
            "properties": {
             "value": 28654
            },
            "type": "Feature"
           },
           {
            "geometry": {
             "coordinates": [
              [
               [
                -87.667443,
                42.017
               ],
               [
                -87.680199,
                42.008719
               ],
               [
                -87.676082,
                41.996555
               ],
               [
                -87.659216,
                41.992668
               ],
               [
                -87.646461,
                42.000945
               ],
               [
                -87.650571,
                42.013112
               ],
               [
                -87.667443,
                42.017
               ]
              ]
             ],
             "type": "Polygon"
            },
            "id": "872664d8cffffff",
            "properties": {
             "value": 9012
            },
            "type": "Feature"
           },
           {
            "geometry": {
             "coordinates": [
              [
               [
                -87.647752,
                41.866726
               ],
               [
                -87.66047,
                41.858465
               ],
               [
                -87.656371,
                41.84632
               ],
               [
                -87.639562,
                41.842435
               ],
               [
                -87.626843,
                41.850692
               ],
               [
                -87.630935,
                41.862839
               ],
               [
                -87.647752,
                41.866726
               ]
              ]
             ],
             "type": "Polygon"
            },
            "id": "872664cf4ffffff",
            "properties": {
             "value": 8062
            },
            "type": "Feature"
           },
           {
            "geometry": {
             "coordinates": [
              [
               [
                -87.722919,
                41.951279
               ],
               [
                -87.735644,
                41.943
               ],
               [
                -87.731519,
                41.930847
               ],
               [
                -87.714676,
                41.926971
               ],
               [
                -87.70195,
                41.935246
               ],
               [
                -87.706068,
                41.947401
               ],
               [
                -87.722919,
                41.951279
               ]
              ]
             ],
             "type": "Polygon"
            },
            "id": "872664ca0ffffff",
            "properties": {
             "value": 6979
            },
            "type": "Feature"
           },
           {
            "geometry": {
             "coordinates": [
              [
               [
                -87.904243,
                41.981624
               ],
               [
                -87.916939,
                41.973323
               ],
               [
                -87.912765,
                41.961175
               ],
               [
                -87.895903,
                41.957326
               ],
               [
                -87.883207,
                41.965622
               ],
               [
                -87.887374,
                41.977772
               ],
               [
                -87.904243,
                41.981624
               ]
              ]
             ],
             "type": "Polygon"
            },
            "id": "87275934effffff",
            "properties": {
             "value": 953101
            },
            "type": "Feature"
           },
           {
            "geometry": {
             "coordinates": [
              [
               [
                -87.676082,
                41.996555
               ],
               [
                -87.68883,
                41.988275
               ],
               [
                -87.684712,
                41.976114
               ],
               [
                -87.667854,
                41.972229
               ],
               [
                -87.655106,
                41.980505
               ],
               [
                -87.659216,
                41.992668
               ],
               [
                -87.676082,
                41.996555
               ]
              ]
             ],
             "type": "Polygon"
            },
            "id": "872664d88ffffff",
            "properties": {
             "value": 23517
            },
            "type": "Feature"
           },
           {
            "geometry": {
             "coordinates": [
              [
               [
                -87.668673,
                41.882759
               ],
               [
                -87.681392,
                41.874493
               ],
               [
                -87.677286,
                41.862347
               ],
               [
                -87.66047,
                41.858465
               ],
               [
                -87.647752,
                41.866726
               ],
               [
                -87.65185,
                41.878875
               ],
               [
                -87.668673,
                41.882759
               ]
              ]
             ],
             "type": "Polygon"
            },
            "id": "872664ca9ffffff",
            "properties": {
             "value": 157865
            },
            "type": "Feature"
           },
           {
            "geometry": {
             "coordinates": [
              [
               [
                -87.626843,
                41.850692
               ],
               [
                -87.639562,
                41.842435
               ],
               [
                -87.63547,
                41.830291
               ],
               [
                -87.618667,
                41.826403
               ],
               [
                -87.605949,
                41.834657
               ],
               [
                -87.610033,
                41.846803
               ],
               [
                -87.626843,
                41.850692
               ]
              ]
             ],
             "type": "Polygon"
            },
            "id": "872664cf5ffffff",
            "properties": {
             "value": 146041
            },
            "type": "Feature"
           },
           {
            "geometry": {
             "coordinates": [
              [
               [
                -87.705694,
                41.992157
               ],
               [
                -87.718435,
                41.983875
               ],
               [
                -87.714311,
                41.971715
               ],
               [
                -87.697453,
                41.967836
               ],
               [
                -87.684712,
                41.976114
               ],
               [
                -87.68883,
                41.988275
               ],
               [
                -87.705694,
                41.992157
               ]
              ]
             ],
             "type": "Polygon"
            },
            "id": "872664d8affffff",
            "properties": {
             "value": 2083
            },
            "type": "Feature"
           },
           {
            "geometry": {
             "coordinates": [
              [
               [
                -87.689609,
                41.89879
               ],
               [
                -87.702327,
                41.89052
               ],
               [
                -87.698215,
                41.878373
               ],
               [
                -87.681392,
                41.874493
               ],
               [
                -87.668673,
                41.882759
               ],
               [
                -87.672778,
                41.894908
               ],
               [
                -87.689609,
                41.89879
               ]
              ]
             ],
             "type": "Polygon"
            },
            "id": "872664ca8ffffff",
            "properties": {
             "value": 8910
            },
            "type": "Feature"
           },
           {
            "geometry": {
             "coordinates": [
              [
               [
                -87.697071,
                42.012603
               ],
               [
                -87.709819,
                42.00432
               ],
               [
                -87.705694,
                41.992157
               ],
               [
                -87.68883,
                41.988275
               ],
               [
                -87.676082,
                41.996555
               ],
               [
                -87.680199,
                42.008719
               ],
               [
                -87.697071,
                42.012603
               ]
              ]
             ],
             "type": "Polygon"
            },
            "id": "872664d8effffff",
            "properties": {
             "value": 1009
            },
            "type": "Feature"
           },
           {
            "geometry": {
             "coordinates": [
              [
               [
                -87.714311,
                41.971715
               ],
               [
                -87.727044,
                41.963435
               ],
               [
                -87.722919,
                41.951279
               ],
               [
                -87.706068,
                41.947401
               ],
               [
                -87.693335,
                41.955677
               ],
               [
                -87.697453,
                41.967836
               ],
               [
                -87.714311,
                41.971715
               ]
              ]
             ],
             "type": "Polygon"
            },
            "id": "872664ca4ffffff",
            "properties": {
             "value": 1919
            },
            "type": "Feature"
           },
           {
            "geometry": {
             "coordinates": [
              [
               [
                -87.762037,
                41.79236
               ],
               [
                -87.774711,
                41.784096
               ],
               [
                -87.77059,
                41.771967
               ],
               [
                -87.753802,
                41.768101
               ],
               [
                -87.741129,
                41.776362
               ],
               [
                -87.745242,
                41.788492
               ],
               [
                -87.762037,
                41.79236
               ]
              ]
             ],
             "type": "Polygon"
            },
            "id": "872664521ffffff",
            "properties": {
             "value": 331090
            },
            "type": "Feature"
           },
           {
            "geometry": {
             "coordinates": [
              [
               [
                -87.710557,
                41.914819
               ],
               [
                -87.723275,
                41.906546
               ],
               [
                -87.719157,
                41.894397
               ],
               [
                -87.702327,
                41.89052
               ],
               [
                -87.689609,
                41.89879
               ],
               [
                -87.69372,
                41.91094
               ],
               [
                -87.710557,
                41.914819
               ]
              ]
             ],
             "type": "Polygon"
            },
            "id": "872664caeffffff",
            "properties": {
             "value": 664
            },
            "type": "Feature"
           },
           {
            "geometry": {
             "coordinates": [
              [
               [
                -87.743901,
                41.96731
               ],
               [
                -87.756627,
                41.959027
               ],
               [
                -87.752495,
                41.946873
               ],
               [
                -87.735644,
                41.943
               ],
               [
                -87.722919,
                41.951279
               ],
               [
                -87.727044,
                41.963435
               ],
               [
                -87.743901,
                41.96731
               ]
              ]
             ],
             "type": "Polygon"
            },
            "id": "872664ca6ffffff",
            "properties": {
             "value": 1544
            },
            "type": "Feature"
           },
           {
            "geometry": {
             "coordinates": [
              [
               [
                -87.764897,
                41.98334
               ],
               [
                -87.777622,
                41.975053
               ],
               [
                -87.773484,
                41.962898
               ],
               [
                -87.756627,
                41.959027
               ],
               [
                -87.743901,
                41.96731
               ],
               [
                -87.748033,
                41.979468
               ],
               [
                -87.764897,
                41.98334
               ]
              ]
             ],
             "type": "Polygon"
            },
            "id": "872664d9bffffff",
            "properties": {
             "value": 1277
            },
            "type": "Feature"
           },
           {
            "geometry": {
             "coordinates": [
              [
               [
                -87.7353,
                41.987752
               ],
               [
                -87.748033,
                41.979468
               ],
               [
                -87.743901,
                41.96731
               ],
               [
                -87.727044,
                41.963435
               ],
               [
                -87.714311,
                41.971715
               ],
               [
                -87.718435,
                41.983875
               ],
               [
                -87.7353,
                41.987752
               ]
              ]
             ],
             "type": "Polygon"
            },
            "id": "872664d99ffffff",
            "properties": {
             "value": 1413
            },
            "type": "Feature"
           },
           {
            "geometry": {
             "coordinates": [
              [
               [
                -87.677286,
                41.862347
               ],
               [
                -87.689997,
                41.854083
               ],
               [
                -87.685891,
                41.841941
               ],
               [
                -87.669082,
                41.83806
               ],
               [
                -87.656371,
                41.84632
               ],
               [
                -87.66047,
                41.858465
               ],
               [
                -87.677286,
                41.862347
               ]
              ]
             ],
             "type": "Polygon"
            },
            "id": "872664cf6ffffff",
            "properties": {
             "value": 48
            },
            "type": "Feature"
           },
           {
            "geometry": {
             "coordinates": [
              [
               [
                -87.731519,
                41.930847
               ],
               [
                -87.744237,
                41.92257
               ],
               [
                -87.740112,
                41.91042
               ],
               [
                -87.723275,
                41.906546
               ],
               [
                -87.710557,
                41.914819
               ],
               [
                -87.714676,
                41.926971
               ],
               [
                -87.731519,
                41.930847
               ]
              ]
             ],
             "type": "Polygon"
            },
            "id": "872664ca3ffffff",
            "properties": {
             "value": 29
            },
            "type": "Feature"
           },
           {
            "geometry": {
             "coordinates": [
              [
               [
                -87.593707,
                41.798229
               ],
               [
                -87.606417,
                41.78998
               ],
               [
                -87.602338,
                41.777842
               ],
               [
                -87.585556,
                41.773951
               ],
               [
                -87.572845,
                41.782195
               ],
               [
                -87.576917,
                41.794335
               ],
               [
                -87.593707,
                41.798229
               ]
              ]
             ],
             "type": "Polygon"
            },
            "id": "872664cc5ffffff",
            "properties": {
             "value": 27005
            },
            "type": "Feature"
           },
           {
            "geometry": {
             "coordinates": [
              [
               [
                -87.773484,
                41.962898
               ],
               [
                -87.786202,
                41.954613
               ],
               [
                -87.782063,
                41.942461
               ],
               [
                -87.765213,
                41.938592
               ],
               [
                -87.752495,
                41.946873
               ],
               [
                -87.756627,
                41.959027
               ],
               [
                -87.773484,
                41.962898
               ]
              ]
             ],
             "type": "Polygon"
            },
            "id": "872664cb5ffffff",
            "properties": {
             "value": 19
            },
            "type": "Feature"
           },
           {
            "geometry": {
             "coordinates": [
              [
               [
                -87.685891,
                41.841941
               ],
               [
                -87.698595,
                41.833678
               ],
               [
                -87.694489,
                41.821539
               ],
               [
                -87.677686,
                41.81766
               ],
               [
                -87.664983,
                41.825918
               ],
               [
                -87.669082,
                41.83806
               ],
               [
                -87.685891,
                41.841941
               ]
              ]
             ],
             "type": "Polygon"
            },
            "id": "872664cf2ffffff",
            "properties": {
             "value": 1886
            },
            "type": "Feature"
           },
           {
            "geometry": {
             "coordinates": [
              [
               [
                -87.782063,
                41.942461
               ],
               [
                -87.794774,
                41.934177
               ],
               [
                -87.790634,
                41.922028
               ],
               [
                -87.773791,
                41.918162
               ],
               [
                -87.761081,
                41.926441
               ],
               [
                -87.765213,
                41.938592
               ],
               [
                -87.782063,
                41.942461
               ]
              ]
             ],
             "type": "Polygon"
            },
            "id": "872664cb1ffffff",
            "properties": {
             "value": 5
            },
            "type": "Feature"
           },
           {
            "geometry": {
             "coordinates": [
              [
               [
                -87.605949,
                41.834657
               ],
               [
                -87.618667,
                41.826403
               ],
               [
                -87.614581,
                41.814261
               ],
               [
                -87.597785,
                41.81037
               ],
               [
                -87.585067,
                41.81862
               ],
               [
                -87.589145,
                41.830764
               ],
               [
                -87.605949,
                41.834657
               ]
              ]
             ],
             "type": "Polygon"
            },
            "id": "872664ce2ffffff",
            "properties": {
             "value": 50
            },
            "type": "Feature"
           },
           {
            "geometry": {
             "coordinates": [
              [
               [
                -87.640433,
                41.753101
               ],
               [
                -87.653122,
                41.744853
               ],
               [
                -87.649035,
                41.732724
               ],
               [
                -87.632267,
                41.72884
               ],
               [
                -87.619579,
                41.737084
               ],
               [
                -87.623658,
                41.749216
               ],
               [
                -87.640433,
                41.753101
               ]
              ]
             ],
             "type": "Polygon"
            },
            "id": "872664cddffffff",
            "properties": {
             "value": 14
            },
            "type": "Feature"
           },
           {
            "geometry": {
             "coordinates": [
              [
               [
                -87.782959,
                41.808357
               ],
               [
                -87.795632,
                41.800089
               ],
               [
                -87.791505,
                41.787959
               ],
               [
                -87.774711,
                41.784096
               ],
               [
                -87.762037,
                41.79236
               ],
               [
                -87.766158,
                41.804492
               ],
               [
                -87.782959,
                41.808357
               ]
              ]
             ],
             "type": "Polygon"
            },
            "id": "872664520ffffff",
            "properties": {
             "value": 2
            },
            "type": "Feature"
           },
           {
            "geometry": {
             "coordinates": [
              [
               [
                -87.698215,
                41.878373
               ],
               [
                -87.710925,
                41.870105
               ],
               [
                -87.706813,
                41.857961
               ],
               [
                -87.689997,
                41.854083
               ],
               [
                -87.677286,
                41.862347
               ],
               [
                -87.681392,
                41.874493
               ],
               [
                -87.698215,
                41.878373
               ]
              ]
             ],
             "type": "Polygon"
            },
            "id": "872664cabffffff",
            "properties": {
             "value": 605
            },
            "type": "Feature"
           },
           {
            "geometry": {
             "coordinates": [
              [
               [
                -87.756302,
                42.003787
               ],
               [
                -87.769035,
                41.995499
               ],
               [
                -87.764897,
                41.98334
               ],
               [
                -87.748033,
                41.979468
               ],
               [
                -87.7353,
                41.987752
               ],
               [
                -87.739431,
                41.999913
               ],
               [
                -87.756302,
                42.003787
               ]
              ]
             ],
             "type": "Polygon"
            },
            "id": "872664d98ffffff",
            "properties": {
             "value": 48
            },
            "type": "Feature"
           },
           {
            "geometry": {
             "coordinates": [
              [
               [
                -87.761081,
                41.926441
               ],
               [
                -87.773791,
                41.918162
               ],
               [
                -87.769659,
                41.906014
               ],
               [
                -87.752823,
                41.902144
               ],
               [
                -87.740112,
                41.91042
               ],
               [
                -87.744237,
                41.92257
               ],
               [
                -87.761081,
                41.926441
               ]
              ]
             ],
             "type": "Polygon"
            },
            "id": "872664c84ffffff",
            "properties": {
             "value": 1
            },
            "type": "Feature"
           },
           {
            "geometry": {
             "coordinates": [
              [
               [
                -87.656371,
                41.84632
               ],
               [
                -87.669082,
                41.83806
               ],
               [
                -87.664983,
                41.825918
               ],
               [
                -87.64818,
                41.822035
               ],
               [
                -87.63547,
                41.830291
               ],
               [
                -87.639562,
                41.842435
               ],
               [
                -87.656371,
                41.84632
               ]
              ]
             ],
             "type": "Polygon"
            },
            "id": "872664cf0ffffff",
            "properties": {
             "value": 40
            },
            "type": "Feature"
           },
           {
            "geometry": {
             "coordinates": [
              [
               [
                -87.688439,
                42.033054
               ],
               [
                -87.701194,
                42.024769
               ],
               [
                -87.697071,
                42.012603
               ],
               [
                -87.680199,
                42.008719
               ],
               [
                -87.667443,
                42.017
               ],
               [
                -87.67156,
                42.029168
               ],
               [
                -87.688439,
                42.033054
               ]
              ]
             ],
             "type": "Polygon"
            },
            "id": "872664d81ffffff",
            "properties": {
             "value": 91
            },
            "type": "Feature"
           },
           {
            "geometry": {
             "coordinates": [
              [
               [
                -87.815502,
                41.994943
               ],
               [
                -87.82822,
                41.98665
               ],
               [
                -87.824068,
                41.974495
               ],
               [
                -87.807204,
                41.970632
               ],
               [
                -87.794486,
                41.978921
               ],
               [
                -87.798632,
                41.991078
               ],
               [
                -87.815502,
                41.994943
               ]
              ]
             ],
             "type": "Polygon"
            },
            "id": "872759369ffffff",
            "properties": {
             "value": 29
            },
            "type": "Feature"
           },
           {
            "geometry": {
             "coordinates": [
              [
               [
                -87.752495,
                41.946873
               ],
               [
                -87.765213,
                41.938592
               ],
               [
                -87.761081,
                41.926441
               ],
               [
                -87.744237,
                41.92257
               ],
               [
                -87.731519,
                41.930847
               ],
               [
                -87.735644,
                41.943
               ],
               [
                -87.752495,
                41.946873
               ]
              ]
             ],
             "type": "Polygon"
            },
            "id": "872664ca2ffffff",
            "properties": {
             "value": 32
            },
            "type": "Feature"
           },
           {
            "geometry": {
             "coordinates": [
              [
               [
                -87.614581,
                41.814261
               ],
               [
                -87.627292,
                41.806008
               ],
               [
                -87.623207,
                41.793869
               ],
               [
                -87.606417,
                41.78998
               ],
               [
                -87.593707,
                41.798229
               ],
               [
                -87.597785,
                41.81037
               ],
               [
                -87.614581,
                41.814261
               ]
              ]
             ],
             "type": "Polygon"
            },
            "id": "872664cc4ffffff",
            "properties": {
             "value": 38
            },
            "type": "Feature"
           },
           {
            "geometry": {
             "coordinates": [
              [
               [
                -87.72669,
                42.008198
               ],
               [
                -87.739431,
                41.999913
               ],
               [
                -87.7353,
                41.987752
               ],
               [
                -87.718435,
                41.983875
               ],
               [
                -87.705694,
                41.992157
               ],
               [
                -87.709819,
                42.00432
               ],
               [
                -87.72669,
                42.008198
               ]
              ]
             ],
             "type": "Polygon"
            },
            "id": "872664d9dffffff",
            "properties": {
             "value": 25
            },
            "type": "Feature"
           },
           {
            "geometry": {
             "coordinates": [
              [
               [
                -87.845091,
                41.99051
               ],
               [
                -87.857801,
                41.982214
               ],
               [
                -87.853642,
                41.970062
               ],
               [
                -87.836778,
                41.966204
               ],
               [
                -87.824068,
                41.974495
               ],
               [
                -87.82822,
                41.98665
               ],
               [
                -87.845091,
                41.99051
               ]
              ]
             ],
             "type": "Polygon"
            },
            "id": "87275936bffffff",
            "properties": {
             "value": 366
            },
            "type": "Feature"
           },
           {
            "geometry": {
             "coordinates": [
              [
               [
                -87.753476,
                41.812758
               ],
               [
                -87.766158,
                41.804492
               ],
               [
                -87.762037,
                41.79236
               ],
               [
                -87.745242,
                41.788492
               ],
               [
                -87.732561,
                41.796754
               ],
               [
                -87.736675,
                41.808888
               ],
               [
                -87.753476,
                41.812758
               ]
              ]
             ],
             "type": "Polygon"
            },
            "id": "872664525ffffff",
            "properties": {
             "value": 28
            },
            "type": "Feature"
           },
           {
            "geometry": {
             "coordinates": [
              [
               [
                -87.590114,
                41.741438
               ],
               [
                -87.60281,
                41.733196
               ],
               [
                -87.598737,
                41.721066
               ],
               [
                -87.581975,
                41.717176
               ],
               [
                -87.56928,
                41.725413
               ],
               [
                -87.573346,
                41.737545
               ],
               [
                -87.590114,
                41.741438
               ]
              ]
             ],
             "type": "Polygon"
            },
            "id": "872664cc8ffffff",
            "properties": {
             "value": 2
            },
            "type": "Feature"
           },
           {
            "geometry": {
             "coordinates": [
              [
               [
                -87.727748,
                41.87398
               ],
               [
                -87.740452,
                41.86571
               ],
               [
                -87.736332,
                41.853568
               ],
               [
                -87.719516,
                41.849695
               ],
               [
                -87.706813,
                41.857961
               ],
               [
                -87.710925,
                41.870105
               ],
               [
                -87.727748,
                41.87398
               ]
              ]
             ],
             "type": "Polygon"
            },
            "id": "872664c8cffffff",
            "properties": {
             "value": 3
            },
            "type": "Feature"
           },
           {
            "geometry": {
             "coordinates": [
              [
               [
                -87.718073,
                42.02865
               ],
               [
                -87.730821,
                42.020362
               ],
               [
                -87.72669,
                42.008198
               ],
               [
                -87.709819,
                42.00432
               ],
               [
                -87.697071,
                42.012603
               ],
               [
                -87.701194,
                42.024769
               ],
               [
                -87.718073,
                42.02865
               ]
              ]
             ],
             "type": "Polygon"
            },
            "id": "872664d83ffffff",
            "properties": {
             "value": 21
            },
            "type": "Feature"
           },
           {
            "geometry": {
             "coordinates": [
              [
               [
                -87.794486,
                41.978921
               ],
               [
                -87.807204,
                41.970632
               ],
               [
                -87.803059,
                41.958479
               ],
               [
                -87.786202,
                41.954613
               ],
               [
                -87.773484,
                41.962898
               ],
               [
                -87.777622,
                41.975053
               ],
               [
                -87.794486,
                41.978921
               ]
              ]
             ],
             "type": "Polygon"
            },
            "id": "872664cb4ffffff",
            "properties": {
             "value": 8
            },
            "type": "Feature"
           },
           {
            "geometry": {
             "coordinates": [
              [
               [
                -87.744908,
                41.833161
               ],
               [
                -87.757597,
                41.824893
               ],
               [
                -87.753476,
                41.812758
               ],
               [
                -87.736675,
                41.808888
               ],
               [
                -87.723986,
                41.817152
               ],
               [
                -87.728099,
                41.829289
               ],
               [
                -87.744908,
                41.833161
               ]
              ]
             ],
             "type": "Polygon"
            },
            "id": "872664c8bffffff",
            "properties": {
             "value": 10
            },
            "type": "Feature"
           },
           {
            "geometry": {
             "coordinates": [
              [
               [
                -87.694489,
                41.821539
               ],
               [
                -87.707184,
                41.813277
               ],
               [
                -87.703078,
                41.801141
               ],
               [
                -87.686283,
                41.797264
               ],
               [
                -87.673587,
                41.805521
               ],
               [
                -87.677686,
                41.81766
               ],
               [
                -87.694489,
                41.821539
               ]
              ]
             ],
             "type": "Polygon"
            },
            "id": "872664cd4ffffff",
            "properties": {
             "value": 36
            },
            "type": "Feature"
           },
           {
            "geometry": {
             "coordinates": [
              [
               [
                -87.720234,
                41.760361
               ],
               [
                -87.732907,
                41.752105
               ],
               [
                -87.7288,
                41.739979
               ],
               [
                -87.712026,
                41.736107
               ],
               [
                -87.699352,
                41.74436
               ],
               [
                -87.703453,
                41.756488
               ],
               [
                -87.720234,
                41.760361
               ]
              ]
             ],
             "type": "Polygon"
            },
            "id": "87266452dffffff",
            "properties": {
             "value": 2
            },
            "type": "Feature"
           },
           {
            "geometry": {
             "coordinates": [
              [
               [
                -87.791505,
                41.787959
               ],
               [
                -87.804171,
                41.779692
               ],
               [
                -87.800043,
                41.767566
               ],
               [
                -87.783256,
                41.763704
               ],
               [
                -87.77059,
                41.771967
               ],
               [
                -87.774711,
                41.784096
               ],
               [
                -87.791505,
                41.787959
               ]
              ]
             ],
             "type": "Polygon"
            },
            "id": "872664523ffffff",
            "properties": {
             "value": 2
            },
            "type": "Feature"
           },
           {
            "geometry": {
             "coordinates": [
              [
               [
                -87.91677,
                42.018081
               ],
               [
                -87.929473,
                42.009776
               ],
               [
                -87.925293,
                41.997623
               ],
               [
                -87.908417,
                41.993775
               ],
               [
                -87.895714,
                42.002077
               ],
               [
                -87.899887,
                42.014231
               ],
               [
                -87.91677,
                42.018081
               ]
              ]
             ],
             "type": "Polygon"
            },
            "id": "872759340ffffff",
            "properties": {
             "value": 5
            },
            "type": "Feature"
           },
           {
            "geometry": {
             "coordinates": [
              [
               [
                -87.853642,
                41.970062
               ],
               [
                -87.866345,
                41.961768
               ],
               [
                -87.862185,
                41.949619
               ],
               [
                -87.845329,
                41.945762
               ],
               [
                -87.832626,
                41.954053
               ],
               [
                -87.836778,
                41.966204
               ],
               [
                -87.853642,
                41.970062
               ]
              ]
             ],
             "type": "Polygon"
            },
            "id": "87275934dffffff",
            "properties": {
             "value": 3
            },
            "type": "Feature"
           },
           {
            "geometry": {
             "coordinates": [
              [
               [
                -87.666215,
                41.691984
               ],
               [
                -87.678882,
                41.683741
               ],
               [
                -87.674794,
                41.671622
               ],
               [
                -87.658047,
                41.667744
               ],
               [
                -87.64538,
                41.675983
               ],
               [
                -87.649461,
                41.688105
               ],
               [
                -87.666215,
                41.691984
               ]
              ]
             ],
             "type": "Polygon"
            },
            "id": "872664562ffffff",
            "properties": {
             "value": 1
            },
            "type": "Feature"
           },
           {
            "geometry": {
             "coordinates": [
              [
               [
                -87.63547,
                41.830291
               ],
               [
                -87.64818,
                41.822035
               ],
               [
                -87.644088,
                41.809895
               ],
               [
                -87.627292,
                41.806008
               ],
               [
                -87.614581,
                41.814261
               ],
               [
                -87.618667,
                41.826403
               ],
               [
                -87.63547,
                41.830291
               ]
              ]
             ],
             "type": "Polygon"
            },
            "id": "872664cf1ffffff",
            "properties": {
             "value": 1458
            },
            "type": "Feature"
           },
           {
            "geometry": {
             "coordinates": [
              [
               [
                -87.572845,
                41.782195
               ],
               [
                -87.585556,
                41.773951
               ],
               [
                -87.581484,
                41.761814
               ],
               [
                -87.564708,
                41.75792
               ],
               [
                -87.551997,
                41.76616
               ],
               [
                -87.556063,
                41.778299
               ],
               [
                -87.572845,
                41.782195
               ]
              ]
             ],
             "type": "Polygon"
            },
            "id": "872664ceaffffff",
            "properties": {
             "value": 38
            },
            "type": "Feature"
           },
           {
            "geometry": {
             "coordinates": [
              [
               [
                -87.748697,
                41.889998
               ],
               [
                -87.7614,
                41.881724
               ],
               [
                -87.757274,
                41.869581
               ],
               [
                -87.740452,
                41.86571
               ],
               [
                -87.727748,
                41.87398
               ],
               [
                -87.731867,
                41.886126
               ],
               [
                -87.748697,
                41.889998
               ]
              ]
             ],
             "type": "Polygon"
            },
            "id": "872664c81ffffff",
            "properties": {
             "value": 3
            },
            "type": "Feature"
           },
           {
            "geometry": {
             "coordinates": [
              [
               [
                -87.703078,
                41.801141
               ],
               [
                -87.715767,
                41.792882
               ],
               [
                -87.71166,
                41.780749
               ],
               [
                -87.694872,
                41.776874
               ],
               [
                -87.682183,
                41.785129
               ],
               [
                -87.686283,
                41.797264
               ],
               [
                -87.703078,
                41.801141
               ]
              ]
             ],
             "type": "Polygon"
            },
            "id": "872664cd0ffffff",
            "properties": {
             "value": 1
            },
            "type": "Feature"
           },
           {
            "geometry": {
             "coordinates": [
              [
               [
                -87.806929,
                42.015395
               ],
               [
                -87.819654,
                42.0071
               ],
               [
                -87.815502,
                41.994943
               ],
               [
                -87.798632,
                41.991078
               ],
               [
                -87.785906,
                41.999368
               ],
               [
                -87.790051,
                42.011528
               ],
               [
                -87.806929,
                42.015395
               ]
              ]
             ],
             "type": "Polygon"
            },
            "id": "87275936dffffff",
            "properties": {
             "value": 4
            },
            "type": "Feature"
           },
           {
            "geometry": {
             "coordinates": [
              [
               [
                -87.785906,
                41.999368
               ],
               [
                -87.798632,
                41.991078
               ],
               [
                -87.794486,
                41.978921
               ],
               [
                -87.777622,
                41.975053
               ],
               [
                -87.764897,
                41.98334
               ],
               [
                -87.769035,
                41.995499
               ],
               [
                -87.785906,
                41.999368
               ]
              ]
             ],
             "type": "Polygon"
            },
            "id": "872664d9affffff",
            "properties": {
             "value": 8
            },
            "type": "Feature"
           },
           {
            "geometry": {
             "coordinates": [
              [
               [
                -87.757274,
                41.869581
               ],
               [
                -87.76997,
                41.861308
               ],
               [
                -87.765843,
                41.849168
               ],
               [
                -87.749028,
                41.845299
               ],
               [
                -87.736332,
                41.853568
               ],
               [
                -87.740452,
                41.86571
               ],
               [
                -87.757274,
                41.869581
               ]
              ]
             ],
             "type": "Polygon"
            },
            "id": "872664c8effffff",
            "properties": {
             "value": 4
            },
            "type": "Feature"
           },
           {
            "geometry": {
             "coordinates": [
              [
               [
                -87.706813,
                41.857961
               ],
               [
                -87.719516,
                41.849695
               ],
               [
                -87.715404,
                41.837554
               ],
               [
                -87.698595,
                41.833678
               ],
               [
                -87.685891,
                41.841941
               ],
               [
                -87.689997,
                41.854083
               ],
               [
                -87.706813,
                41.857961
               ]
              ]
             ],
             "type": "Polygon"
            },
            "id": "872664c8dffffff",
            "properties": {
             "value": 9
            },
            "type": "Feature"
           },
           {
            "geometry": {
             "coordinates": [
              [
               [
                -87.581484,
                41.761814
               ],
               [
                -87.594187,
                41.753571
               ],
               [
                -87.590114,
                41.741438
               ],
               [
                -87.573346,
                41.737545
               ],
               [
                -87.560642,
                41.745784
               ],
               [
                -87.564708,
                41.75792
               ],
               [
                -87.581484,
                41.761814
               ]
              ]
             ],
             "type": "Polygon"
            },
            "id": "872664cccffffff",
            "properties": {
             "value": 5
            },
            "type": "Feature"
           },
           {
            "geometry": {
             "coordinates": [
              [
               [
                -87.619579,
                41.737084
               ],
               [
                -87.632267,
                41.72884
               ],
               [
                -87.628187,
                41.716713
               ],
               [
                -87.611426,
                41.712826
               ],
               [
                -87.598737,
                41.721066
               ],
               [
                -87.60281,
                41.733196
               ],
               [
                -87.619579,
                41.737084
               ]
              ]
             ],
             "type": "Polygon"
            },
            "id": "872664ccaffffff",
            "properties": {
             "value": 36
            },
            "type": "Feature"
           },
           {
            "geometry": {
             "coordinates": [
              [
               [
                -87.628187,
                41.716713
               ],
               [
                -87.640868,
                41.70847
               ],
               [
                -87.636788,
                41.696345
               ],
               [
                -87.620033,
                41.692461
               ],
               [
                -87.607352,
                41.7007
               ],
               [
                -87.611426,
                41.712826
               ],
               [
                -87.628187,
                41.716713
               ]
              ]
             ],
             "type": "Polygon"
            },
            "id": "872664564ffffff",
            "properties": {
             "value": 138
            },
            "type": "Feature"
           },
           {
            "geometry": {
             "coordinates": [
              [
               [
                -87.631824,
                41.773483
               ],
               [
                -87.64452,
                41.765233
               ],
               [
                -87.640433,
                41.753101
               ],
               [
                -87.623658,
                41.749216
               ],
               [
                -87.610962,
                41.757461
               ],
               [
                -87.615042,
                41.769596
               ],
               [
                -87.631824,
                41.773483
               ]
              ]
             ],
             "type": "Polygon"
            },
            "id": "872664cc3ffffff",
            "properties": {
             "value": 5
            },
            "type": "Feature"
           },
           {
            "geometry": {
             "coordinates": [
              [
               [
                -87.551997,
                41.76616
               ],
               [
                -87.564708,
                41.75792
               ],
               [
                -87.560642,
                41.745784
               ],
               [
                -87.543873,
                41.741887
               ],
               [
                -87.531163,
                41.750124
               ],
               [
                -87.535221,
                41.762261
               ],
               [
                -87.551997,
                41.76616
               ]
              ]
             ],
             "type": "Polygon"
            },
            "id": "872664cebffffff",
            "properties": {
             "value": 1
            },
            "type": "Feature"
           },
           {
            "geometry": {
             "coordinates": [
              [
               [
                -87.664983,
                41.825918
               ],
               [
                -87.677686,
                41.81766
               ],
               [
                -87.673587,
                41.805521
               ],
               [
                -87.656791,
                41.80164
               ],
               [
                -87.644088,
                41.809895
               ],
               [
                -87.64818,
                41.822035
               ],
               [
                -87.664983,
                41.825918
               ]
              ]
             ],
             "type": "Polygon"
            },
            "id": "872664cf3ffffff",
            "properties": {
             "value": 5
            },
            "type": "Feature"
           },
           {
            "geometry": {
             "coordinates": [
              [
               [
                -87.610962,
                41.757461
               ],
               [
                -87.623658,
                41.749216
               ],
               [
                -87.619579,
                41.737084
               ],
               [
                -87.60281,
                41.733196
               ],
               [
                -87.590114,
                41.741438
               ],
               [
                -87.594187,
                41.753571
               ],
               [
                -87.610962,
                41.757461
               ]
              ]
             ],
             "type": "Polygon"
            },
            "id": "872664cceffffff",
            "properties": {
             "value": 5
            },
            "type": "Feature"
           },
           {
            "geometry": {
             "coordinates": [
              [
               [
                -87.803059,
                41.958479
               ],
               [
                -87.815769,
                41.950191
               ],
               [
                -87.811623,
                41.938041
               ],
               [
                -87.794774,
                41.934177
               ],
               [
                -87.782063,
                41.942461
               ],
               [
                -87.786202,
                41.954613
               ],
               [
                -87.803059,
                41.958479
               ]
              ]
             ],
             "type": "Polygon"
            },
            "id": "872664cb0ffffff",
            "properties": {
             "value": 2
            },
            "type": "Feature"
           },
           {
            "geometry": {
             "coordinates": [
              [
               [
                -87.732561,
                41.796754
               ],
               [
                -87.745242,
                41.788492
               ],
               [
                -87.741129,
                41.776362
               ],
               [
                -87.724341,
                41.772491
               ],
               [
                -87.71166,
                41.780749
               ],
               [
                -87.715767,
                41.792882
               ],
               [
                -87.732561,
                41.796754
               ]
              ]
             ],
             "type": "Polygon"
            },
            "id": "872664cd2ffffff",
            "properties": {
             "value": 1
            },
            "type": "Feature"
           },
           {
            "geometry": {
             "coordinates": [
              [
               [
                -87.723986,
                41.817152
               ],
               [
                -87.736675,
                41.808888
               ],
               [
                -87.732561,
                41.796754
               ],
               [
                -87.715767,
                41.792882
               ],
               [
                -87.703078,
                41.801141
               ],
               [
                -87.707184,
                41.813277
               ],
               [
                -87.723986,
                41.817152
               ]
              ]
             ],
             "type": "Polygon"
            },
            "id": "872664cd6ffffff",
            "properties": {
             "value": 3
            },
            "type": "Feature"
           },
           {
            "geometry": {
             "coordinates": [
              [
               [
                -87.777318,
                42.01982
               ],
               [
                -87.790051,
                42.011528
               ],
               [
                -87.785906,
                41.999368
               ],
               [
                -87.769035,
                41.995499
               ],
               [
                -87.756302,
                42.003787
               ],
               [
                -87.76044,
                42.015949
               ],
               [
                -87.777318,
                42.01982
               ]
              ]
             ],
             "type": "Polygon"
            },
            "id": "872664d9effffff",
            "properties": {
             "value": 1
            },
            "type": "Feature"
           },
           {
            "geometry": {
             "coordinates": [
              [
               [
                -87.644088,
                41.809895
               ],
               [
                -87.656791,
                41.80164
               ],
               [
                -87.652699,
                41.789503
               ],
               [
                -87.63591,
                41.785618
               ],
               [
                -87.623207,
                41.793869
               ],
               [
                -87.627292,
                41.806008
               ],
               [
                -87.644088,
                41.809895
               ]
              ]
             ],
             "type": "Polygon"
            },
            "id": "872664cc6ffffff",
            "properties": {
             "value": 1
            },
            "type": "Feature"
           },
           {
            "geometry": {
             "coordinates": [
              [
               [
                -87.577909,
                41.705047
               ],
               [
                -87.590597,
                41.696811
               ],
               [
                -87.586531,
                41.684685
               ],
               [
                -87.569783,
                41.680794
               ],
               [
                -87.557094,
                41.689026
               ],
               [
                -87.561154,
                41.701153
               ],
               [
                -87.577909,
                41.705047
               ]
              ]
             ],
             "type": "Polygon"
            },
            "id": "872664196ffffff",
            "properties": {
             "value": 2
            },
            "type": "Feature"
           },
           {
            "geometry": {
             "coordinates": [
              [
               [
                -87.719157,
                41.894397
               ],
               [
                -87.731867,
                41.886126
               ],
               [
                -87.727748,
                41.87398
               ],
               [
                -87.710925,
                41.870105
               ],
               [
                -87.698215,
                41.878373
               ],
               [
                -87.702327,
                41.89052
               ],
               [
                -87.719157,
                41.894397
               ]
              ]
             ],
             "type": "Polygon"
            },
            "id": "872664caaffffff",
            "properties": {
             "value": 1
            },
            "type": "Feature"
           },
           {
            "geometry": {
             "coordinates": [
              [
               [
                -87.715404,
                41.837554
               ],
               [
                -87.728099,
                41.829289
               ],
               [
                -87.723986,
                41.817152
               ],
               [
                -87.707184,
                41.813277
               ],
               [
                -87.694489,
                41.821539
               ],
               [
                -87.698595,
                41.833678
               ],
               [
                -87.715404,
                41.837554
               ]
              ]
             ],
             "type": "Polygon"
            },
            "id": "872664c89ffffff",
            "properties": {
             "value": 2
            },
            "type": "Feature"
           },
           {
            "geometry": {
             "coordinates": [
              [
               [
                -87.740112,
                41.91042
               ],
               [
                -87.752823,
                41.902144
               ],
               [
                -87.748697,
                41.889998
               ],
               [
                -87.731867,
                41.886126
               ],
               [
                -87.719157,
                41.894397
               ],
               [
                -87.723275,
                41.906546
               ],
               [
                -87.740112,
                41.91042
               ]
              ]
             ],
             "type": "Polygon"
            },
            "id": "872664c85ffffff",
            "properties": {
             "value": 3
            },
            "type": "Feature"
           },
           {
            "geometry": {
             "coordinates": [
              [
               [
                -87.827965,
                42.03142
               ],
               [
                -87.840691,
                42.023121
               ],
               [
                -87.836532,
                42.010963
               ],
               [
                -87.819654,
                42.0071
               ],
               [
                -87.806929,
                42.015395
               ],
               [
                -87.811081,
                42.027556
               ],
               [
                -87.827965,
                42.03142
               ]
              ]
             ],
             "type": "Polygon"
            },
            "id": "87275936cffffff",
            "properties": {
             "value": 1
            },
            "type": "Feature"
           },
           {
            "geometry": {
             "coordinates": [
              [
               [
                -87.832626,
                41.954053
               ],
               [
                -87.845329,
                41.945762
               ],
               [
                -87.841176,
                41.933615
               ],
               [
                -87.824326,
                41.929755
               ],
               [
                -87.811623,
                41.938041
               ],
               [
                -87.815769,
                41.950191
               ],
               [
                -87.832626,
                41.954053
               ]
              ]
             ],
             "type": "Polygon"
            },
            "id": "872664cb2ffffff",
            "properties": {
             "value": 1
            },
            "type": "Feature"
           },
           {
            "geometry": {
             "coordinates": [
              [
               [
                -87.649035,
                41.732724
               ],
               [
                -87.661716,
                41.724478
               ],
               [
                -87.657629,
                41.712352
               ],
               [
                -87.640868,
                41.70847
               ],
               [
                -87.628187,
                41.716713
               ],
               [
                -87.632267,
                41.72884
               ],
               [
                -87.649035,
                41.732724
               ]
              ]
             ],
             "type": "Polygon"
            },
            "id": "872664cd9ffffff",
            "properties": {
             "value": 0
            },
            "type": "Feature"
           },
           {
            "geometry": {
             "coordinates": [
              [
               [
                -87.790634,
                41.922028
               ],
               [
                -87.803338,
                41.913746
               ],
               [
                -87.799198,
                41.901601
               ],
               [
                -87.782362,
                41.897736
               ],
               [
                -87.769659,
                41.906014
               ],
               [
                -87.773791,
                41.918162
               ],
               [
                -87.790634,
                41.922028
               ]
              ]
             ],
             "type": "Polygon"
            },
            "id": "872664c86ffffff",
            "properties": {
             "value": 0
            },
            "type": "Feature"
           },
           {
            "geometry": {
             "coordinates": [
              [
               [
                -87.778229,
                41.885592
               ],
               [
                -87.790925,
                41.877315
               ],
               [
                -87.786792,
                41.865174
               ],
               [
                -87.76997,
                41.861308
               ],
               [
                -87.757274,
                41.869581
               ],
               [
                -87.7614,
                41.881724
               ],
               [
                -87.778229,
                41.885592
               ]
              ]
             ],
             "type": "Polygon"
            },
            "id": "872664c83ffffff",
            "properties": {
             "value": 0
            },
            "type": "Feature"
           },
           {
            "geometry": {
             "coordinates": [
              [
               [
                -87.652699,
                41.789503
               ],
               [
                -87.665395,
                41.78125
               ],
               [
                -87.661302,
                41.769116
               ],
               [
                -87.64452,
                41.765233
               ],
               [
                -87.631824,
                41.773483
               ],
               [
                -87.63591,
                41.785618
               ],
               [
                -87.652699,
                41.789503
               ]
              ]
             ],
             "type": "Polygon"
            },
            "id": "872664cc2ffffff",
            "properties": {
             "value": 0
            },
            "type": "Feature"
           },
           {
            "geometry": {
             "coordinates": [
              [
               [
                -87.71166,
                41.780749
               ],
               [
                -87.724341,
                41.772491
               ],
               [
                -87.720234,
                41.760361
               ],
               [
                -87.703453,
                41.756488
               ],
               [
                -87.690772,
                41.764742
               ],
               [
                -87.694872,
                41.776874
               ],
               [
                -87.71166,
                41.780749
               ]
              ]
             ],
             "type": "Polygon"
            },
            "id": "872664cd3ffffff",
            "properties": {
             "value": 0
            },
            "type": "Feature"
           },
           {
            "geometry": {
             "coordinates": [
              [
               [
                -87.623207,
                41.793869
               ],
               [
                -87.63591,
                41.785618
               ],
               [
                -87.631824,
                41.773483
               ],
               [
                -87.615042,
                41.769596
               ],
               [
                -87.602338,
                41.777842
               ],
               [
                -87.606417,
                41.78998
               ],
               [
                -87.623207,
                41.793869
               ]
              ]
             ],
             "type": "Polygon"
            },
            "id": "872664cc0ffffff",
            "properties": {
             "value": 0
            },
            "type": "Feature"
           },
           {
            "geometry": {
             "coordinates": [
              [
               [
                -87.661302,
                41.769116
               ],
               [
                -87.67399,
                41.760864
               ],
               [
                -87.669897,
                41.748734
               ],
               [
                -87.653122,
                41.744853
               ],
               [
                -87.640433,
                41.753101
               ],
               [
                -87.64452,
                41.765233
               ],
               [
                -87.661302,
                41.769116
               ]
              ]
             ],
             "type": "Polygon"
            },
            "id": "872664cdcffffff",
            "properties": {
             "value": 0
            },
            "type": "Feature"
           },
           {
            "geometry": {
             "coordinates": [
              [
               [
                -87.602338,
                41.777842
               ],
               [
                -87.615042,
                41.769596
               ],
               [
                -87.610962,
                41.757461
               ],
               [
                -87.594187,
                41.753571
               ],
               [
                -87.581484,
                41.761814
               ],
               [
                -87.585556,
                41.773951
               ],
               [
                -87.602338,
                41.777842
               ]
              ]
             ],
             "type": "Polygon"
            },
            "id": "872664cc1ffffff",
            "properties": {
             "value": 0
            },
            "type": "Feature"
           },
           {
            "geometry": {
             "coordinates": [
              [
               [
                -87.673587,
                41.805521
               ],
               [
                -87.686283,
                41.797264
               ],
               [
                -87.682183,
                41.785129
               ],
               [
                -87.665395,
                41.78125
               ],
               [
                -87.652699,
                41.789503
               ],
               [
                -87.656791,
                41.80164
               ],
               [
                -87.673587,
                41.805521
               ]
              ]
             ],
             "type": "Polygon"
            },
            "id": "872664cd5ffffff",
            "properties": {
             "value": 0
            },
            "type": "Feature"
           },
           {
            "geometry": {
             "coordinates": [
              [
               [
                -87.769659,
                41.906014
               ],
               [
                -87.782362,
                41.897736
               ],
               [
                -87.778229,
                41.885592
               ],
               [
                -87.7614,
                41.881724
               ],
               [
                -87.748697,
                41.889998
               ],
               [
                -87.752823,
                41.902144
               ],
               [
                -87.769659,
                41.906014
               ]
              ]
             ],
             "type": "Polygon"
            },
            "id": "872664c80ffffff",
            "properties": {
             "value": 0
            },
            "type": "Feature"
           },
           {
            "geometry": {
             "coordinates": [
              [
               [
                -87.669897,
                41.748734
               ],
               [
                -87.682578,
                41.740483
               ],
               [
                -87.678484,
                41.728356
               ],
               [
                -87.661716,
                41.724478
               ],
               [
                -87.649035,
                41.732724
               ],
               [
                -87.653122,
                41.744853
               ],
               [
                -87.669897,
                41.748734
               ]
              ]
             ],
             "type": "Polygon"
            },
            "id": "872664cd8ffffff",
            "properties": {
             "value": 0
            },
            "type": "Feature"
           },
           {
            "geometry": {
             "coordinates": [
              [
               [
                -87.687064,
                41.707984
               ],
               [
                -87.69973,
                41.699737
               ],
               [
                -87.695635,
                41.687616
               ],
               [
                -87.678882,
                41.683741
               ],
               [
                -87.666215,
                41.691984
               ],
               [
                -87.670303,
                41.704107
               ],
               [
                -87.687064,
                41.707984
               ]
              ]
             ],
             "type": "Polygon"
            },
            "id": "872664575ffffff",
            "properties": {
             "value": 0
            },
            "type": "Feature"
           },
           {
            "geometry": {
             "coordinates": [
              [
               [
                -87.741129,
                41.776362
               ],
               [
                -87.753802,
                41.768101
               ],
               [
                -87.749688,
                41.755974
               ],
               [
                -87.732907,
                41.752105
               ],
               [
                -87.720234,
                41.760361
               ],
               [
                -87.724341,
                41.772491
               ],
               [
                -87.741129,
                41.776362
               ]
              ]
             ],
             "type": "Polygon"
            },
            "id": "87266452cffffff",
            "properties": {
             "value": 0
            },
            "type": "Feature"
           },
           {
            "geometry": {
             "coordinates": [
              [
               [
                -87.811623,
                41.938041
               ],
               [
                -87.824326,
                41.929755
               ],
               [
                -87.82018,
                41.917609
               ],
               [
                -87.803338,
                41.913746
               ],
               [
                -87.790634,
                41.922028
               ],
               [
                -87.794774,
                41.934177
               ],
               [
                -87.811623,
                41.938041
               ]
              ]
             ],
             "type": "Polygon"
            },
            "id": "872664cb3ffffff",
            "properties": {
             "value": 0
            },
            "type": "Feature"
           },
           {
            "geometry": {
             "coordinates": [
              [
               [
                -87.678484,
                41.728356
               ],
               [
                -87.691158,
                41.720108
               ],
               [
                -87.687064,
                41.707984
               ],
               [
                -87.670303,
                41.704107
               ],
               [
                -87.657629,
                41.712352
               ],
               [
                -87.661716,
                41.724478
               ],
               [
                -87.678484,
                41.728356
               ]
              ]
             ],
             "type": "Polygon"
            },
            "id": "872664cdbffffff",
            "properties": {
             "value": 0
            },
            "type": "Feature"
           },
           {
            "geometry": {
             "coordinates": [
              [
               [
                -87.560642,
                41.745784
               ],
               [
                -87.573346,
                41.737545
               ],
               [
                -87.56928,
                41.725413
               ],
               [
                -87.552518,
                41.721518
               ],
               [
                -87.539814,
                41.729753
               ],
               [
                -87.543873,
                41.741887
               ],
               [
                -87.560642,
                41.745784
               ]
              ]
             ],
             "type": "Polygon"
            },
            "id": "872664ccdffffff",
            "properties": {
             "value": 0
            },
            "type": "Feature"
           },
           {
            "geometry": {
             "coordinates": [
              [
               [
                -87.615959,
                41.680338
               ],
               [
                -87.628633,
                41.672101
               ],
               [
                -87.624559,
                41.659981
               ],
               [
                -87.607818,
                41.656096
               ],
               [
                -87.595145,
                41.664329
               ],
               [
                -87.599212,
                41.676451
               ],
               [
                -87.615959,
                41.680338
               ]
              ]
             ],
             "type": "Polygon"
            },
            "id": "872664561ffffff",
            "properties": {
             "value": 0
            },
            "type": "Feature"
           },
           {
            "geometry": {
             "coordinates": [
              [
               [
                -87.736332,
                41.853568
               ],
               [
                -87.749028,
                41.845299
               ],
               [
                -87.744908,
                41.833161
               ],
               [
                -87.728099,
                41.829289
               ],
               [
                -87.715404,
                41.837554
               ],
               [
                -87.719516,
                41.849695
               ],
               [
                -87.736332,
                41.853568
               ]
              ]
             ],
             "type": "Polygon"
            },
            "id": "872664c88ffffff",
            "properties": {
             "value": 0
            },
            "type": "Feature"
           },
           {
            "geometry": {
             "coordinates": [
              [
               [
                -87.707925,
                41.723982
               ],
               [
                -87.720591,
                41.715731
               ],
               [
                -87.71649,
                41.703609
               ],
               [
                -87.69973,
                41.699737
               ],
               [
                -87.687064,
                41.707984
               ],
               [
                -87.691158,
                41.720108
               ],
               [
                -87.707925,
                41.723982
               ]
              ]
             ],
             "type": "Polygon"
            },
            "id": "872664574ffffff",
            "properties": {
             "value": 0
            },
            "type": "Feature"
           }
          ],
          "type": "FeatureCollection"
         },
         "hovertemplate": "hex=%{location}<br>Starting Trips in Res7=%{z}<extra></extra>",
         "locations": [
          "872664c1effffff",
          "872664c12ffffff",
          "872664c10ffffff",
          "872664cacffffff",
          "872664c14ffffff",
          "872664d89ffffff",
          "872664cadffffff",
          "872664c16ffffff",
          "872664d8dffffff",
          "872664c1affffff",
          "872664c11ffffff",
          "872664ca1ffffff",
          "872664c13ffffff",
          "872664ce3ffffff",
          "872664c1bffffff",
          "872664ca5ffffff",
          "872664d8bffffff",
          "872664d8cffffff",
          "872664cf4ffffff",
          "872664ca0ffffff",
          "87275934effffff",
          "872664d88ffffff",
          "872664ca9ffffff",
          "872664cf5ffffff",
          "872664d8affffff",
          "872664ca8ffffff",
          "872664d8effffff",
          "872664ca4ffffff",
          "872664521ffffff",
          "872664caeffffff",
          "872664ca6ffffff",
          "872664d9bffffff",
          "872664d99ffffff",
          "872664cf6ffffff",
          "872664ca3ffffff",
          "872664cc5ffffff",
          "872664cb5ffffff",
          "872664cf2ffffff",
          "872664cb1ffffff",
          "872664ce2ffffff",
          "872664cddffffff",
          "872664520ffffff",
          "872664cabffffff",
          "872664d98ffffff",
          "872664c84ffffff",
          "872664cf0ffffff",
          "872664d81ffffff",
          "872759369ffffff",
          "872664ca2ffffff",
          "872664cc4ffffff",
          "872664d9dffffff",
          "87275936bffffff",
          "872664525ffffff",
          "872664cc8ffffff",
          "872664c8cffffff",
          "872664d83ffffff",
          "872664cb4ffffff",
          "872664c8bffffff",
          "872664cd4ffffff",
          "87266452dffffff",
          "872664523ffffff",
          "872759340ffffff",
          "87275934dffffff",
          "872664562ffffff",
          "872664cf1ffffff",
          "872664ceaffffff",
          "872664c81ffffff",
          "872664cd0ffffff",
          "87275936dffffff",
          "872664d9affffff",
          "872664c8effffff",
          "872664c8dffffff",
          "872664cccffffff",
          "872664ccaffffff",
          "872664564ffffff",
          "872664cc3ffffff",
          "872664cebffffff",
          "872664cf3ffffff",
          "872664cceffffff",
          "872664cb0ffffff",
          "872664cd2ffffff",
          "872664cd6ffffff",
          "872664d9effffff",
          "872664cc6ffffff",
          "872664196ffffff",
          "872664caaffffff",
          "872664c89ffffff",
          "872664c85ffffff",
          "87275936cffffff",
          "872664cb2ffffff",
          "872664cd9ffffff",
          "872664c86ffffff",
          "872664c83ffffff",
          "872664cc2ffffff",
          "872664cd3ffffff",
          "872664cc0ffffff",
          "872664cdcffffff",
          "872664cc1ffffff",
          "872664cd5ffffff",
          "872664c80ffffff",
          "872664cd8ffffff",
          "872664575ffffff",
          "87266452cffffff",
          "872664cb3ffffff",
          "872664cdbffffff",
          "872664ccdffffff",
          "872664561ffffff",
          "872664c88ffffff",
          "872664574ffffff"
         ],
         "marker": {
          "opacity": 0.7
         },
         "name": "",
         "subplot": "mapbox",
         "type": "choroplethmapbox",
         "z": [
          7532228,
          122202,
          575439,
          263352,
          58437,
          94369,
          859846,
          478637,
          8229,
          4020232,
          398230,
          34761,
          533749,
          6273,
          348888,
          15678,
          28654,
          9012,
          8062,
          6979,
          953101,
          23517,
          157865,
          146041,
          2083,
          8910,
          1009,
          1919,
          331090,
          664,
          1544,
          1277,
          1413,
          48,
          29,
          27005,
          19,
          1886,
          5,
          50,
          14,
          2,
          605,
          48,
          1,
          40,
          91,
          29,
          32,
          38,
          25,
          366,
          28,
          2,
          3,
          21,
          8,
          10,
          36,
          2,
          2,
          5,
          3,
          1,
          1458,
          38,
          3,
          1,
          4,
          8,
          4,
          9,
          5,
          36,
          138,
          5,
          1,
          5,
          5,
          2,
          1,
          3,
          1,
          1,
          2,
          1,
          2,
          3,
          1,
          1,
          0,
          0,
          0,
          0,
          0,
          0,
          0,
          0,
          0,
          0,
          0,
          0,
          0,
          0,
          0,
          0,
          0,
          0,
          0
         ]
        }
       ],
       "layout": {
        "coloraxis": {
         "cmax": 178962.4000000003,
         "cmin": 0,
         "colorbar": {
          "title": {
           "text": "Starting Trips in Res7"
          }
         },
         "colorscale": [
          [
           0,
           "rgb(255,245,240)"
          ],
          [
           0.125,
           "rgb(254,224,210)"
          ],
          [
           0.25,
           "rgb(252,187,161)"
          ],
          [
           0.375,
           "rgb(252,146,114)"
          ],
          [
           0.5,
           "rgb(251,106,74)"
          ],
          [
           0.625,
           "rgb(239,59,44)"
          ],
          [
           0.75,
           "rgb(203,24,29)"
          ],
          [
           0.875,
           "rgb(165,15,21)"
          ],
          [
           1,
           "rgb(103,0,13)"
          ]
         ]
        },
        "height": 500,
        "legend": {
         "tracegroupgap": 0
        },
        "mapbox": {
         "center": {
          "lat": 41.881832,
          "lon": -87.623177
         },
         "domain": {
          "x": [
           0,
           1
          ],
          "y": [
           0,
           1
          ]
         },
         "style": "carto-positron",
         "zoom": 10.5
        },
        "margin": {
         "b": 0,
         "l": 0,
         "r": 0,
         "t": 0
        },
        "template": {
         "data": {
          "bar": [
           {
            "error_x": {
             "color": "#2a3f5f"
            },
            "error_y": {
             "color": "#2a3f5f"
            },
            "marker": {
             "line": {
              "color": "#E5ECF6",
              "width": 0.5
             },
             "pattern": {
              "fillmode": "overlay",
              "size": 10,
              "solidity": 0.2
             }
            },
            "type": "bar"
           }
          ],
          "barpolar": [
           {
            "marker": {
             "line": {
              "color": "#E5ECF6",
              "width": 0.5
             },
             "pattern": {
              "fillmode": "overlay",
              "size": 10,
              "solidity": 0.2
             }
            },
            "type": "barpolar"
           }
          ],
          "carpet": [
           {
            "aaxis": {
             "endlinecolor": "#2a3f5f",
             "gridcolor": "white",
             "linecolor": "white",
             "minorgridcolor": "white",
             "startlinecolor": "#2a3f5f"
            },
            "baxis": {
             "endlinecolor": "#2a3f5f",
             "gridcolor": "white",
             "linecolor": "white",
             "minorgridcolor": "white",
             "startlinecolor": "#2a3f5f"
            },
            "type": "carpet"
           }
          ],
          "choropleth": [
           {
            "colorbar": {
             "outlinewidth": 0,
             "ticks": ""
            },
            "type": "choropleth"
           }
          ],
          "contour": [
           {
            "colorbar": {
             "outlinewidth": 0,
             "ticks": ""
            },
            "colorscale": [
             [
              0,
              "#0d0887"
             ],
             [
              0.1111111111111111,
              "#46039f"
             ],
             [
              0.2222222222222222,
              "#7201a8"
             ],
             [
              0.3333333333333333,
              "#9c179e"
             ],
             [
              0.4444444444444444,
              "#bd3786"
             ],
             [
              0.5555555555555556,
              "#d8576b"
             ],
             [
              0.6666666666666666,
              "#ed7953"
             ],
             [
              0.7777777777777778,
              "#fb9f3a"
             ],
             [
              0.8888888888888888,
              "#fdca26"
             ],
             [
              1,
              "#f0f921"
             ]
            ],
            "type": "contour"
           }
          ],
          "contourcarpet": [
           {
            "colorbar": {
             "outlinewidth": 0,
             "ticks": ""
            },
            "type": "contourcarpet"
           }
          ],
          "heatmap": [
           {
            "colorbar": {
             "outlinewidth": 0,
             "ticks": ""
            },
            "colorscale": [
             [
              0,
              "#0d0887"
             ],
             [
              0.1111111111111111,
              "#46039f"
             ],
             [
              0.2222222222222222,
              "#7201a8"
             ],
             [
              0.3333333333333333,
              "#9c179e"
             ],
             [
              0.4444444444444444,
              "#bd3786"
             ],
             [
              0.5555555555555556,
              "#d8576b"
             ],
             [
              0.6666666666666666,
              "#ed7953"
             ],
             [
              0.7777777777777778,
              "#fb9f3a"
             ],
             [
              0.8888888888888888,
              "#fdca26"
             ],
             [
              1,
              "#f0f921"
             ]
            ],
            "type": "heatmap"
           }
          ],
          "heatmapgl": [
           {
            "colorbar": {
             "outlinewidth": 0,
             "ticks": ""
            },
            "colorscale": [
             [
              0,
              "#0d0887"
             ],
             [
              0.1111111111111111,
              "#46039f"
             ],
             [
              0.2222222222222222,
              "#7201a8"
             ],
             [
              0.3333333333333333,
              "#9c179e"
             ],
             [
              0.4444444444444444,
              "#bd3786"
             ],
             [
              0.5555555555555556,
              "#d8576b"
             ],
             [
              0.6666666666666666,
              "#ed7953"
             ],
             [
              0.7777777777777778,
              "#fb9f3a"
             ],
             [
              0.8888888888888888,
              "#fdca26"
             ],
             [
              1,
              "#f0f921"
             ]
            ],
            "type": "heatmapgl"
           }
          ],
          "histogram": [
           {
            "marker": {
             "pattern": {
              "fillmode": "overlay",
              "size": 10,
              "solidity": 0.2
             }
            },
            "type": "histogram"
           }
          ],
          "histogram2d": [
           {
            "colorbar": {
             "outlinewidth": 0,
             "ticks": ""
            },
            "colorscale": [
             [
              0,
              "#0d0887"
             ],
             [
              0.1111111111111111,
              "#46039f"
             ],
             [
              0.2222222222222222,
              "#7201a8"
             ],
             [
              0.3333333333333333,
              "#9c179e"
             ],
             [
              0.4444444444444444,
              "#bd3786"
             ],
             [
              0.5555555555555556,
              "#d8576b"
             ],
             [
              0.6666666666666666,
              "#ed7953"
             ],
             [
              0.7777777777777778,
              "#fb9f3a"
             ],
             [
              0.8888888888888888,
              "#fdca26"
             ],
             [
              1,
              "#f0f921"
             ]
            ],
            "type": "histogram2d"
           }
          ],
          "histogram2dcontour": [
           {
            "colorbar": {
             "outlinewidth": 0,
             "ticks": ""
            },
            "colorscale": [
             [
              0,
              "#0d0887"
             ],
             [
              0.1111111111111111,
              "#46039f"
             ],
             [
              0.2222222222222222,
              "#7201a8"
             ],
             [
              0.3333333333333333,
              "#9c179e"
             ],
             [
              0.4444444444444444,
              "#bd3786"
             ],
             [
              0.5555555555555556,
              "#d8576b"
             ],
             [
              0.6666666666666666,
              "#ed7953"
             ],
             [
              0.7777777777777778,
              "#fb9f3a"
             ],
             [
              0.8888888888888888,
              "#fdca26"
             ],
             [
              1,
              "#f0f921"
             ]
            ],
            "type": "histogram2dcontour"
           }
          ],
          "mesh3d": [
           {
            "colorbar": {
             "outlinewidth": 0,
             "ticks": ""
            },
            "type": "mesh3d"
           }
          ],
          "parcoords": [
           {
            "line": {
             "colorbar": {
              "outlinewidth": 0,
              "ticks": ""
             }
            },
            "type": "parcoords"
           }
          ],
          "pie": [
           {
            "automargin": true,
            "type": "pie"
           }
          ],
          "scatter": [
           {
            "fillpattern": {
             "fillmode": "overlay",
             "size": 10,
             "solidity": 0.2
            },
            "type": "scatter"
           }
          ],
          "scatter3d": [
           {
            "line": {
             "colorbar": {
              "outlinewidth": 0,
              "ticks": ""
             }
            },
            "marker": {
             "colorbar": {
              "outlinewidth": 0,
              "ticks": ""
             }
            },
            "type": "scatter3d"
           }
          ],
          "scattercarpet": [
           {
            "marker": {
             "colorbar": {
              "outlinewidth": 0,
              "ticks": ""
             }
            },
            "type": "scattercarpet"
           }
          ],
          "scattergeo": [
           {
            "marker": {
             "colorbar": {
              "outlinewidth": 0,
              "ticks": ""
             }
            },
            "type": "scattergeo"
           }
          ],
          "scattergl": [
           {
            "marker": {
             "colorbar": {
              "outlinewidth": 0,
              "ticks": ""
             }
            },
            "type": "scattergl"
           }
          ],
          "scattermapbox": [
           {
            "marker": {
             "colorbar": {
              "outlinewidth": 0,
              "ticks": ""
             }
            },
            "type": "scattermapbox"
           }
          ],
          "scatterpolar": [
           {
            "marker": {
             "colorbar": {
              "outlinewidth": 0,
              "ticks": ""
             }
            },
            "type": "scatterpolar"
           }
          ],
          "scatterpolargl": [
           {
            "marker": {
             "colorbar": {
              "outlinewidth": 0,
              "ticks": ""
             }
            },
            "type": "scatterpolargl"
           }
          ],
          "scatterternary": [
           {
            "marker": {
             "colorbar": {
              "outlinewidth": 0,
              "ticks": ""
             }
            },
            "type": "scatterternary"
           }
          ],
          "surface": [
           {
            "colorbar": {
             "outlinewidth": 0,
             "ticks": ""
            },
            "colorscale": [
             [
              0,
              "#0d0887"
             ],
             [
              0.1111111111111111,
              "#46039f"
             ],
             [
              0.2222222222222222,
              "#7201a8"
             ],
             [
              0.3333333333333333,
              "#9c179e"
             ],
             [
              0.4444444444444444,
              "#bd3786"
             ],
             [
              0.5555555555555556,
              "#d8576b"
             ],
             [
              0.6666666666666666,
              "#ed7953"
             ],
             [
              0.7777777777777778,
              "#fb9f3a"
             ],
             [
              0.8888888888888888,
              "#fdca26"
             ],
             [
              1,
              "#f0f921"
             ]
            ],
            "type": "surface"
           }
          ],
          "table": [
           {
            "cells": {
             "fill": {
              "color": "#EBF0F8"
             },
             "line": {
              "color": "white"
             }
            },
            "header": {
             "fill": {
              "color": "#C8D4E3"
             },
             "line": {
              "color": "white"
             }
            },
            "type": "table"
           }
          ]
         },
         "layout": {
          "annotationdefaults": {
           "arrowcolor": "#2a3f5f",
           "arrowhead": 0,
           "arrowwidth": 1
          },
          "autotypenumbers": "strict",
          "coloraxis": {
           "colorbar": {
            "outlinewidth": 0,
            "ticks": ""
           }
          },
          "colorscale": {
           "diverging": [
            [
             0,
             "#8e0152"
            ],
            [
             0.1,
             "#c51b7d"
            ],
            [
             0.2,
             "#de77ae"
            ],
            [
             0.3,
             "#f1b6da"
            ],
            [
             0.4,
             "#fde0ef"
            ],
            [
             0.5,
             "#f7f7f7"
            ],
            [
             0.6,
             "#e6f5d0"
            ],
            [
             0.7,
             "#b8e186"
            ],
            [
             0.8,
             "#7fbc41"
            ],
            [
             0.9,
             "#4d9221"
            ],
            [
             1,
             "#276419"
            ]
           ],
           "sequential": [
            [
             0,
             "#0d0887"
            ],
            [
             0.1111111111111111,
             "#46039f"
            ],
            [
             0.2222222222222222,
             "#7201a8"
            ],
            [
             0.3333333333333333,
             "#9c179e"
            ],
            [
             0.4444444444444444,
             "#bd3786"
            ],
            [
             0.5555555555555556,
             "#d8576b"
            ],
            [
             0.6666666666666666,
             "#ed7953"
            ],
            [
             0.7777777777777778,
             "#fb9f3a"
            ],
            [
             0.8888888888888888,
             "#fdca26"
            ],
            [
             1,
             "#f0f921"
            ]
           ],
           "sequentialminus": [
            [
             0,
             "#0d0887"
            ],
            [
             0.1111111111111111,
             "#46039f"
            ],
            [
             0.2222222222222222,
             "#7201a8"
            ],
            [
             0.3333333333333333,
             "#9c179e"
            ],
            [
             0.4444444444444444,
             "#bd3786"
            ],
            [
             0.5555555555555556,
             "#d8576b"
            ],
            [
             0.6666666666666666,
             "#ed7953"
            ],
            [
             0.7777777777777778,
             "#fb9f3a"
            ],
            [
             0.8888888888888888,
             "#fdca26"
            ],
            [
             1,
             "#f0f921"
            ]
           ]
          },
          "colorway": [
           "#636efa",
           "#EF553B",
           "#00cc96",
           "#ab63fa",
           "#FFA15A",
           "#19d3f3",
           "#FF6692",
           "#B6E880",
           "#FF97FF",
           "#FECB52"
          ],
          "font": {
           "color": "#2a3f5f"
          },
          "geo": {
           "bgcolor": "white",
           "lakecolor": "white",
           "landcolor": "#E5ECF6",
           "showlakes": true,
           "showland": true,
           "subunitcolor": "white"
          },
          "hoverlabel": {
           "align": "left"
          },
          "hovermode": "closest",
          "mapbox": {
           "style": "light"
          },
          "paper_bgcolor": "white",
          "plot_bgcolor": "#E5ECF6",
          "polar": {
           "angularaxis": {
            "gridcolor": "white",
            "linecolor": "white",
            "ticks": ""
           },
           "bgcolor": "#E5ECF6",
           "radialaxis": {
            "gridcolor": "white",
            "linecolor": "white",
            "ticks": ""
           }
          },
          "scene": {
           "xaxis": {
            "backgroundcolor": "#E5ECF6",
            "gridcolor": "white",
            "gridwidth": 2,
            "linecolor": "white",
            "showbackground": true,
            "ticks": "",
            "zerolinecolor": "white"
           },
           "yaxis": {
            "backgroundcolor": "#E5ECF6",
            "gridcolor": "white",
            "gridwidth": 2,
            "linecolor": "white",
            "showbackground": true,
            "ticks": "",
            "zerolinecolor": "white"
           },
           "zaxis": {
            "backgroundcolor": "#E5ECF6",
            "gridcolor": "white",
            "gridwidth": 2,
            "linecolor": "white",
            "showbackground": true,
            "ticks": "",
            "zerolinecolor": "white"
           }
          },
          "shapedefaults": {
           "line": {
            "color": "#2a3f5f"
           }
          },
          "ternary": {
           "aaxis": {
            "gridcolor": "white",
            "linecolor": "white",
            "ticks": ""
           },
           "baxis": {
            "gridcolor": "white",
            "linecolor": "white",
            "ticks": ""
           },
           "bgcolor": "#E5ECF6",
           "caxis": {
            "gridcolor": "white",
            "linecolor": "white",
            "ticks": ""
           }
          },
          "title": {
           "x": 0.05
          },
          "xaxis": {
           "automargin": true,
           "gridcolor": "white",
           "linecolor": "white",
           "ticks": "",
           "title": {
            "standoff": 15
           },
           "zerolinecolor": "white",
           "zerolinewidth": 2
          },
          "yaxis": {
           "automargin": true,
           "gridcolor": "white",
           "linecolor": "white",
           "ticks": "",
           "title": {
            "standoff": 15
           },
           "zerolinecolor": "white",
           "zerolinewidth": 2
          }
         }
        },
        "width": 700
       }
      }
     },
     "metadata": {},
     "output_type": "display_data"
    }
   ],
   "source": [
    "variable = \"starting_trips_07\"\n",
    "\n",
    "fig = plot_frequency(\n",
    "    dataset=hexagons7_df,\n",
    "    variable=variable,\n",
    "    labels={variable: \"Starting Trips in Res7\"},\n",
    "    range_color=(0, hexagons7_df[variable].quantile(0.9)),\n",
    "    palette=\"reds\",\n",
    ")\n",
    "\n",
    "fig.show()"
   ]
  },
  {
   "cell_type": "markdown",
   "id": "2053a419",
   "metadata": {},
   "source": [
    "It is visible that the most taxi trips start in the city center, like Loop, Lincoln Park, West Town and Near South Side. These regions are bustling commercial and residential hubs, drawing both locals and visitors for various activities and destinations. As highlighted in the **POI notebook**, these hexagons contain several points of interest related to sustenance, arts and culture, as well as sports.\n",
    "Furthermore, two other prominent destinations stand out — Airport O'Hare and Clearing. These locations are logical hotspots due to their roles as major transportation hubs, attracting a substantial volume of travelers arriving or departing from the city."
   ]
  },
  {
   "cell_type": "markdown",
   "id": "8615c4bb",
   "metadata": {},
   "source": [
    "## Ending Trips"
   ]
  },
  {
   "cell_type": "code",
   "execution_count": 143,
   "id": "f07f12ff",
   "metadata": {},
   "outputs": [
    {
     "data": {
      "application/vnd.plotly.v1+json": {
       "config": {
        "plotlyServerURL": "https://plot.ly"
       },
       "data": [
        {
         "coloraxis": "coloraxis",
         "geojson": {
          "features": [
           {
            "geometry": {
             "coordinates": [
              [
               [
                -87.630489,
                41.907554
               ],
               [
                -87.643222,
                41.899289
               ],
               [
                -87.639124,
                41.887138
               ],
               [
                -87.622301,
                41.883249
               ],
               [
                -87.609568,
                41.891509
               ],
               [
                -87.613658,
                41.903663
               ],
               [
                -87.630489,
                41.907554
               ]
              ]
             ],
             "type": "Polygon"
            },
            "id": "872664c1effffff",
            "properties": {
             "value": 6705006
            },
            "type": "Feature"
           },
           {
            "geometry": {
             "coordinates": [
              [
               [
                -87.672373,
                41.939638
               ],
               [
                -87.685106,
                41.931365
               ],
               [
                -87.680995,
                41.919211
               ],
               [
                -87.664157,
                41.915328
               ],
               [
                -87.651424,
                41.923596
               ],
               [
                -87.655529,
                41.935752
               ],
               [
                -87.672373,
                41.939638
               ]
              ]
             ],
             "type": "Polygon"
            },
            "id": "872664c12ffffff",
            "properties": {
             "value": 283480
            },
            "type": "Feature"
           },
           {
            "geometry": {
             "coordinates": [
              [
               [
                -87.642788,
                41.944022
               ],
               [
                -87.655529,
                41.935752
               ],
               [
                -87.651424,
                41.923596
               ],
               [
                -87.634587,
                41.919708
               ],
               [
                -87.621846,
                41.927975
               ],
               [
                -87.625943,
                41.940133
               ],
               [
                -87.642788,
                41.944022
               ]
              ]
             ],
             "type": "Polygon"
            },
            "id": "872664c10ffffff",
            "properties": {
             "value": 808271
            },
            "type": "Feature"
           },
           {
            "geometry": {
             "coordinates": [
              [
               [
                -87.680995,
                41.919211
               ],
               [
                -87.69372,
                41.91094
               ],
               [
                -87.689609,
                41.89879
               ],
               [
                -87.672778,
                41.894908
               ],
               [
                -87.660053,
                41.903175
               ],
               [
                -87.664157,
                41.915328
               ],
               [
                -87.680995,
                41.919211
               ]
              ]
             ],
             "type": "Polygon"
            },
            "id": "872664cacffffff",
            "properties": {
             "value": 363751
            },
            "type": "Feature"
           },
           {
            "geometry": {
             "coordinates": [
              [
               [
                -87.634144,
                41.964453
               ],
               [
                -87.646892,
                41.956182
               ],
               [
                -87.642788,
                41.944022
               ],
               [
                -87.625943,
                41.940133
               ],
               [
                -87.613196,
                41.9484
               ],
               [
                -87.617292,
                41.960561
               ],
               [
                -87.634144,
                41.964453
               ]
              ]
             ],
             "type": "Polygon"
            },
            "id": "872664c14ffffff",
            "properties": {
             "value": 67664
            },
            "type": "Feature"
           },
           {
            "geometry": {
             "coordinates": [
              [
               [
                -87.655106,
                41.980505
               ],
               [
                -87.667854,
                41.972229
               ],
               [
                -87.663743,
                41.960069
               ],
               [
                -87.646892,
                41.956182
               ],
               [
                -87.634144,
                41.964453
               ],
               [
                -87.638248,
                41.976616
               ],
               [
                -87.655106,
                41.980505
               ]
              ]
             ],
             "type": "Polygon"
            },
            "id": "872664d89ffffff",
            "properties": {
             "value": 167669
            },
            "type": "Feature"
           },
           {
            "geometry": {
             "coordinates": [
              [
               [
                -87.660053,
                41.903175
               ],
               [
                -87.672778,
                41.894908
               ],
               [
                -87.668673,
                41.882759
               ],
               [
                -87.65185,
                41.878875
               ],
               [
                -87.639124,
                41.887138
               ],
               [
                -87.643222,
                41.899289
               ],
               [
                -87.660053,
                41.903175
               ]
              ]
             ],
             "type": "Polygon"
            },
            "id": "872664cadffffff",
            "properties": {
             "value": 1066739
            },
            "type": "Feature"
           },
           {
            "geometry": {
             "coordinates": [
              [
               [
                -87.663743,
                41.960069
               ],
               [
                -87.676484,
                41.951795
               ],
               [
                -87.672373,
                41.939638
               ],
               [
                -87.655529,
                41.935752
               ],
               [
                -87.642788,
                41.944022
               ],
               [
                -87.646892,
                41.956182
               ],
               [
                -87.663743,
                41.960069
               ]
              ]
             ],
             "type": "Polygon"
            },
            "id": "872664c16ffffff",
            "properties": {
             "value": 519264
            },
            "type": "Feature"
           },
           {
            "geometry": {
             "coordinates": [
              [
               [
                -87.646461,
                42.000945
               ],
               [
                -87.659216,
                41.992668
               ],
               [
                -87.655106,
                41.980505
               ],
               [
                -87.638248,
                41.976616
               ],
               [
                -87.625492,
                41.984889
               ],
               [
                -87.629595,
                41.997054
               ],
               [
                -87.646461,
                42.000945
               ]
              ]
             ],
             "type": "Polygon"
            },
            "id": "872664d8dffffff",
            "properties": {
             "value": 13360
            },
            "type": "Feature"
           },
           {
            "geometry": {
             "coordinates": [
              [
               [
                -87.639124,
                41.887138
               ],
               [
                -87.65185,
                41.878875
               ],
               [
                -87.647752,
                41.866726
               ],
               [
                -87.630935,
                41.862839
               ],
               [
                -87.618209,
                41.871098
               ],
               [
                -87.622301,
                41.883249
               ],
               [
                -87.639124,
                41.887138
               ]
              ]
             ],
             "type": "Polygon"
            },
            "id": "872664c1affffff",
            "properties": {
             "value": 3695219
            },
            "type": "Feature"
           },
           {
            "geometry": {
             "coordinates": [
              [
               [
                -87.621846,
                41.927975
               ],
               [
                -87.634587,
                41.919708
               ],
               [
                -87.630489,
                41.907554
               ],
               [
                -87.613658,
                41.903663
               ],
               [
                -87.600918,
                41.911925
               ],
               [
                -87.605008,
                41.924082
               ],
               [
                -87.621846,
                41.927975
               ]
              ]
             ],
             "type": "Polygon"
            },
            "id": "872664c11ffffff",
            "properties": {
             "value": 457277
            },
            "type": "Feature"
           },
           {
            "geometry": {
             "coordinates": [
              [
               [
                -87.70195,
                41.935246
               ],
               [
                -87.714676,
                41.926971
               ],
               [
                -87.710557,
                41.914819
               ],
               [
                -87.69372,
                41.91094
               ],
               [
                -87.680995,
                41.919211
               ],
               [
                -87.685106,
                41.931365
               ],
               [
                -87.70195,
                41.935246
               ]
              ]
             ],
             "type": "Polygon"
            },
            "id": "872664ca1ffffff",
            "properties": {
             "value": 69265
            },
            "type": "Feature"
           },
           {
            "geometry": {
             "coordinates": [
              [
               [
                -87.651424,
                41.923596
               ],
               [
                -87.664157,
                41.915328
               ],
               [
                -87.660053,
                41.903175
               ],
               [
                -87.643222,
                41.899289
               ],
               [
                -87.630489,
                41.907554
               ],
               [
                -87.634587,
                41.919708
               ],
               [
                -87.651424,
                41.923596
               ]
              ]
             ],
             "type": "Polygon"
            },
            "id": "872664c13ffffff",
            "properties": {
             "value": 607925
            },
            "type": "Feature"
           },
           {
            "geometry": {
             "coordinates": [
              [
               [
                -87.585067,
                41.81862
               ],
               [
                -87.597785,
                41.81037
               ],
               [
                -87.593707,
                41.798229
               ],
               [
                -87.576917,
                41.794335
               ],
               [
                -87.564199,
                41.802581
               ],
               [
                -87.568271,
                41.814724
               ],
               [
                -87.585067,
                41.81862
               ]
              ]
             ],
             "type": "Polygon"
            },
            "id": "872664ce3ffffff",
            "properties": {
             "value": 7566
            },
            "type": "Feature"
           },
           {
            "geometry": {
             "coordinates": [
              [
               [
                -87.618209,
                41.871098
               ],
               [
                -87.630935,
                41.862839
               ],
               [
                -87.626843,
                41.850692
               ],
               [
                -87.610033,
                41.846803
               ],
               [
                -87.597308,
                41.855058
               ],
               [
                -87.601392,
                41.867207
               ],
               [
                -87.618209,
                41.871098
               ]
              ]
             ],
             "type": "Polygon"
            },
            "id": "872664c1bffffff",
            "properties": {
             "value": 492872
            },
            "type": "Feature"
           },
           {
            "geometry": {
             "coordinates": [
              [
               [
                -87.693335,
                41.955677
               ],
               [
                -87.706068,
                41.947401
               ],
               [
                -87.70195,
                41.935246
               ],
               [
                -87.685106,
                41.931365
               ],
               [
                -87.672373,
                41.939638
               ],
               [
                -87.676484,
                41.951795
               ],
               [
                -87.693335,
                41.955677
               ]
              ]
             ],
             "type": "Polygon"
            },
            "id": "872664ca5ffffff",
            "properties": {
             "value": 44523
            },
            "type": "Feature"
           },
           {
            "geometry": {
             "coordinates": [
              [
               [
                -87.684712,
                41.976114
               ],
               [
                -87.697453,
                41.967836
               ],
               [
                -87.693335,
                41.955677
               ],
               [
                -87.676484,
                41.951795
               ],
               [
                -87.663743,
                41.960069
               ],
               [
                -87.667854,
                41.972229
               ],
               [
                -87.684712,
                41.976114
               ]
              ]
             ],
             "type": "Polygon"
            },
            "id": "872664d8bffffff",
            "properties": {
             "value": 68955
            },
            "type": "Feature"
           },
           {
            "geometry": {
             "coordinates": [
              [
               [
                -87.667443,
                42.017
               ],
               [
                -87.680199,
                42.008719
               ],
               [
                -87.676082,
                41.996555
               ],
               [
                -87.659216,
                41.992668
               ],
               [
                -87.646461,
                42.000945
               ],
               [
                -87.650571,
                42.013112
               ],
               [
                -87.667443,
                42.017
               ]
              ]
             ],
             "type": "Polygon"
            },
            "id": "872664d8cffffff",
            "properties": {
             "value": 22547
            },
            "type": "Feature"
           },
           {
            "geometry": {
             "coordinates": [
              [
               [
                -87.647752,
                41.866726
               ],
               [
                -87.66047,
                41.858465
               ],
               [
                -87.656371,
                41.84632
               ],
               [
                -87.639562,
                41.842435
               ],
               [
                -87.626843,
                41.850692
               ],
               [
                -87.630935,
                41.862839
               ],
               [
                -87.647752,
                41.866726
               ]
              ]
             ],
             "type": "Polygon"
            },
            "id": "872664cf4ffffff",
            "properties": {
             "value": 45883
            },
            "type": "Feature"
           },
           {
            "geometry": {
             "coordinates": [
              [
               [
                -87.722919,
                41.951279
               ],
               [
                -87.735644,
                41.943
               ],
               [
                -87.731519,
                41.930847
               ],
               [
                -87.714676,
                41.926971
               ],
               [
                -87.70195,
                41.935246
               ],
               [
                -87.706068,
                41.947401
               ],
               [
                -87.722919,
                41.951279
               ]
              ]
             ],
             "type": "Polygon"
            },
            "id": "872664ca0ffffff",
            "properties": {
             "value": 18684
            },
            "type": "Feature"
           },
           {
            "geometry": {
             "coordinates": [
              [
               [
                -87.904243,
                41.981624
               ],
               [
                -87.916939,
                41.973323
               ],
               [
                -87.912765,
                41.961175
               ],
               [
                -87.895903,
                41.957326
               ],
               [
                -87.883207,
                41.965622
               ],
               [
                -87.887374,
                41.977772
               ],
               [
                -87.904243,
                41.981624
               ]
              ]
             ],
             "type": "Polygon"
            },
            "id": "87275934effffff",
            "properties": {
             "value": 677713
            },
            "type": "Feature"
           },
           {
            "geometry": {
             "coordinates": [
              [
               [
                -87.676082,
                41.996555
               ],
               [
                -87.68883,
                41.988275
               ],
               [
                -87.684712,
                41.976114
               ],
               [
                -87.667854,
                41.972229
               ],
               [
                -87.655106,
                41.980505
               ],
               [
                -87.659216,
                41.992668
               ],
               [
                -87.676082,
                41.996555
               ]
              ]
             ],
             "type": "Polygon"
            },
            "id": "872664d88ffffff",
            "properties": {
             "value": 38941
            },
            "type": "Feature"
           },
           {
            "geometry": {
             "coordinates": [
              [
               [
                -87.668673,
                41.882759
               ],
               [
                -87.681392,
                41.874493
               ],
               [
                -87.677286,
                41.862347
               ],
               [
                -87.66047,
                41.858465
               ],
               [
                -87.647752,
                41.866726
               ],
               [
                -87.65185,
                41.878875
               ],
               [
                -87.668673,
                41.882759
               ]
              ]
             ],
             "type": "Polygon"
            },
            "id": "872664ca9ffffff",
            "properties": {
             "value": 298358
            },
            "type": "Feature"
           },
           {
            "geometry": {
             "coordinates": [
              [
               [
                -87.626843,
                41.850692
               ],
               [
                -87.639562,
                41.842435
               ],
               [
                -87.63547,
                41.830291
               ],
               [
                -87.618667,
                41.826403
               ],
               [
                -87.605949,
                41.834657
               ],
               [
                -87.610033,
                41.846803
               ],
               [
                -87.626843,
                41.850692
               ]
              ]
             ],
             "type": "Polygon"
            },
            "id": "872664cf5ffffff",
            "properties": {
             "value": 163831
            },
            "type": "Feature"
           },
           {
            "geometry": {
             "coordinates": [
              [
               [
                -87.705694,
                41.992157
               ],
               [
                -87.718435,
                41.983875
               ],
               [
                -87.714311,
                41.971715
               ],
               [
                -87.697453,
                41.967836
               ],
               [
                -87.684712,
                41.976114
               ],
               [
                -87.68883,
                41.988275
               ],
               [
                -87.705694,
                41.992157
               ]
              ]
             ],
             "type": "Polygon"
            },
            "id": "872664d8affffff",
            "properties": {
             "value": 10989
            },
            "type": "Feature"
           },
           {
            "geometry": {
             "coordinates": [
              [
               [
                -87.689609,
                41.89879
               ],
               [
                -87.702327,
                41.89052
               ],
               [
                -87.698215,
                41.878373
               ],
               [
                -87.681392,
                41.874493
               ],
               [
                -87.668673,
                41.882759
               ],
               [
                -87.672778,
                41.894908
               ],
               [
                -87.689609,
                41.89879
               ]
              ]
             ],
             "type": "Polygon"
            },
            "id": "872664ca8ffffff",
            "properties": {
             "value": 23838
            },
            "type": "Feature"
           },
           {
            "geometry": {
             "coordinates": [
              [
               [
                -87.697071,
                42.012603
               ],
               [
                -87.709819,
                42.00432
               ],
               [
                -87.705694,
                41.992157
               ],
               [
                -87.68883,
                41.988275
               ],
               [
                -87.676082,
                41.996555
               ],
               [
                -87.680199,
                42.008719
               ],
               [
                -87.697071,
                42.012603
               ]
              ]
             ],
             "type": "Polygon"
            },
            "id": "872664d8effffff",
            "properties": {
             "value": 2585
            },
            "type": "Feature"
           },
           {
            "geometry": {
             "coordinates": [
              [
               [
                -87.714311,
                41.971715
               ],
               [
                -87.727044,
                41.963435
               ],
               [
                -87.722919,
                41.951279
               ],
               [
                -87.706068,
                41.947401
               ],
               [
                -87.693335,
                41.955677
               ],
               [
                -87.697453,
                41.967836
               ],
               [
                -87.714311,
                41.971715
               ]
              ]
             ],
             "type": "Polygon"
            },
            "id": "872664ca4ffffff",
            "properties": {
             "value": 11007
            },
            "type": "Feature"
           },
           {
            "geometry": {
             "coordinates": [
              [
               [
                -87.762037,
                41.79236
               ],
               [
                -87.774711,
                41.784096
               ],
               [
                -87.77059,
                41.771967
               ],
               [
                -87.753802,
                41.768101
               ],
               [
                -87.741129,
                41.776362
               ],
               [
                -87.745242,
                41.788492
               ],
               [
                -87.762037,
                41.79236
               ]
              ]
             ],
             "type": "Polygon"
            },
            "id": "872664521ffffff",
            "properties": {
             "value": 244598
            },
            "type": "Feature"
           },
           {
            "geometry": {
             "coordinates": [
              [
               [
                -87.710557,
                41.914819
               ],
               [
                -87.723275,
                41.906546
               ],
               [
                -87.719157,
                41.894397
               ],
               [
                -87.702327,
                41.89052
               ],
               [
                -87.689609,
                41.89879
               ],
               [
                -87.69372,
                41.91094
               ],
               [
                -87.710557,
                41.914819
               ]
              ]
             ],
             "type": "Polygon"
            },
            "id": "872664caeffffff",
            "properties": {
             "value": 9952
            },
            "type": "Feature"
           },
           {
            "geometry": {
             "coordinates": [
              [
               [
                -87.743901,
                41.96731
               ],
               [
                -87.756627,
                41.959027
               ],
               [
                -87.752495,
                41.946873
               ],
               [
                -87.735644,
                41.943
               ],
               [
                -87.722919,
                41.951279
               ],
               [
                -87.727044,
                41.963435
               ],
               [
                -87.743901,
                41.96731
               ]
              ]
             ],
             "type": "Polygon"
            },
            "id": "872664ca6ffffff",
            "properties": {
             "value": 3391
            },
            "type": "Feature"
           },
           {
            "geometry": {
             "coordinates": [
              [
               [
                -87.764897,
                41.98334
               ],
               [
                -87.777622,
                41.975053
               ],
               [
                -87.773484,
                41.962898
               ],
               [
                -87.756627,
                41.959027
               ],
               [
                -87.743901,
                41.96731
               ],
               [
                -87.748033,
                41.979468
               ],
               [
                -87.764897,
                41.98334
               ]
              ]
             ],
             "type": "Polygon"
            },
            "id": "872664d9bffffff",
            "properties": {
             "value": 634
            },
            "type": "Feature"
           },
           {
            "geometry": {
             "coordinates": [
              [
               [
                -87.7353,
                41.987752
               ],
               [
                -87.748033,
                41.979468
               ],
               [
                -87.743901,
                41.96731
               ],
               [
                -87.727044,
                41.963435
               ],
               [
                -87.714311,
                41.971715
               ],
               [
                -87.718435,
                41.983875
               ],
               [
                -87.7353,
                41.987752
               ]
              ]
             ],
             "type": "Polygon"
            },
            "id": "872664d99ffffff",
            "properties": {
             "value": 1458
            },
            "type": "Feature"
           },
           {
            "geometry": {
             "coordinates": [
              [
               [
                -87.677286,
                41.862347
               ],
               [
                -87.689997,
                41.854083
               ],
               [
                -87.685891,
                41.841941
               ],
               [
                -87.669082,
                41.83806
               ],
               [
                -87.656371,
                41.84632
               ],
               [
                -87.66047,
                41.858465
               ],
               [
                -87.677286,
                41.862347
               ]
              ]
             ],
             "type": "Polygon"
            },
            "id": "872664cf6ffffff",
            "properties": {
             "value": 1436
            },
            "type": "Feature"
           },
           {
            "geometry": {
             "coordinates": [
              [
               [
                -87.731519,
                41.930847
               ],
               [
                -87.744237,
                41.92257
               ],
               [
                -87.740112,
                41.91042
               ],
               [
                -87.723275,
                41.906546
               ],
               [
                -87.710557,
                41.914819
               ],
               [
                -87.714676,
                41.926971
               ],
               [
                -87.731519,
                41.930847
               ]
              ]
             ],
             "type": "Polygon"
            },
            "id": "872664ca3ffffff",
            "properties": {
             "value": 718
            },
            "type": "Feature"
           },
           {
            "geometry": {
             "coordinates": [
              [
               [
                -87.593707,
                41.798229
               ],
               [
                -87.606417,
                41.78998
               ],
               [
                -87.602338,
                41.777842
               ],
               [
                -87.585556,
                41.773951
               ],
               [
                -87.572845,
                41.782195
               ],
               [
                -87.576917,
                41.794335
               ],
               [
                -87.593707,
                41.798229
               ]
              ]
             ],
             "type": "Polygon"
            },
            "id": "872664cc5ffffff",
            "properties": {
             "value": 34010
            },
            "type": "Feature"
           },
           {
            "geometry": {
             "coordinates": [
              [
               [
                -87.773484,
                41.962898
               ],
               [
                -87.786202,
                41.954613
               ],
               [
                -87.782063,
                41.942461
               ],
               [
                -87.765213,
                41.938592
               ],
               [
                -87.752495,
                41.946873
               ],
               [
                -87.756627,
                41.959027
               ],
               [
                -87.773484,
                41.962898
               ]
              ]
             ],
             "type": "Polygon"
            },
            "id": "872664cb5ffffff",
            "properties": {
             "value": 95
            },
            "type": "Feature"
           },
           {
            "geometry": {
             "coordinates": [
              [
               [
                -87.685891,
                41.841941
               ],
               [
                -87.698595,
                41.833678
               ],
               [
                -87.694489,
                41.821539
               ],
               [
                -87.677686,
                41.81766
               ],
               [
                -87.664983,
                41.825918
               ],
               [
                -87.669082,
                41.83806
               ],
               [
                -87.685891,
                41.841941
               ]
              ]
             ],
             "type": "Polygon"
            },
            "id": "872664cf2ffffff",
            "properties": {
             "value": 2167
            },
            "type": "Feature"
           },
           {
            "geometry": {
             "coordinates": [
              [
               [
                -87.782063,
                41.942461
               ],
               [
                -87.794774,
                41.934177
               ],
               [
                -87.790634,
                41.922028
               ],
               [
                -87.773791,
                41.918162
               ],
               [
                -87.761081,
                41.926441
               ],
               [
                -87.765213,
                41.938592
               ],
               [
                -87.782063,
                41.942461
               ]
              ]
             ],
             "type": "Polygon"
            },
            "id": "872664cb1ffffff",
            "properties": {
             "value": 20
            },
            "type": "Feature"
           },
           {
            "geometry": {
             "coordinates": [
              [
               [
                -87.605949,
                41.834657
               ],
               [
                -87.618667,
                41.826403
               ],
               [
                -87.614581,
                41.814261
               ],
               [
                -87.597785,
                41.81037
               ],
               [
                -87.585067,
                41.81862
               ],
               [
                -87.589145,
                41.830764
               ],
               [
                -87.605949,
                41.834657
               ]
              ]
             ],
             "type": "Polygon"
            },
            "id": "872664ce2ffffff",
            "properties": {
             "value": 331
            },
            "type": "Feature"
           },
           {
            "geometry": {
             "coordinates": [
              [
               [
                -87.640433,
                41.753101
               ],
               [
                -87.653122,
                41.744853
               ],
               [
                -87.649035,
                41.732724
               ],
               [
                -87.632267,
                41.72884
               ],
               [
                -87.619579,
                41.737084
               ],
               [
                -87.623658,
                41.749216
               ],
               [
                -87.640433,
                41.753101
               ]
              ]
             ],
             "type": "Polygon"
            },
            "id": "872664cddffffff",
            "properties": {
             "value": 18
            },
            "type": "Feature"
           },
           {
            "geometry": {
             "coordinates": [
              [
               [
                -87.782959,
                41.808357
               ],
               [
                -87.795632,
                41.800089
               ],
               [
                -87.791505,
                41.787959
               ],
               [
                -87.774711,
                41.784096
               ],
               [
                -87.762037,
                41.79236
               ],
               [
                -87.766158,
                41.804492
               ],
               [
                -87.782959,
                41.808357
               ]
              ]
             ],
             "type": "Polygon"
            },
            "id": "872664520ffffff",
            "properties": {
             "value": 19
            },
            "type": "Feature"
           },
           {
            "geometry": {
             "coordinates": [
              [
               [
                -87.698215,
                41.878373
               ],
               [
                -87.710925,
                41.870105
               ],
               [
                -87.706813,
                41.857961
               ],
               [
                -87.689997,
                41.854083
               ],
               [
                -87.677286,
                41.862347
               ],
               [
                -87.681392,
                41.874493
               ],
               [
                -87.698215,
                41.878373
               ]
              ]
             ],
             "type": "Polygon"
            },
            "id": "872664cabffffff",
            "properties": {
             "value": 2111
            },
            "type": "Feature"
           },
           {
            "geometry": {
             "coordinates": [
              [
               [
                -87.756302,
                42.003787
               ],
               [
                -87.769035,
                41.995499
               ],
               [
                -87.764897,
                41.98334
               ],
               [
                -87.748033,
                41.979468
               ],
               [
                -87.7353,
                41.987752
               ],
               [
                -87.739431,
                41.999913
               ],
               [
                -87.756302,
                42.003787
               ]
              ]
             ],
             "type": "Polygon"
            },
            "id": "872664d98ffffff",
            "properties": {
             "value": 283
            },
            "type": "Feature"
           },
           {
            "geometry": {
             "coordinates": [
              [
               [
                -87.761081,
                41.926441
               ],
               [
                -87.773791,
                41.918162
               ],
               [
                -87.769659,
                41.906014
               ],
               [
                -87.752823,
                41.902144
               ],
               [
                -87.740112,
                41.91042
               ],
               [
                -87.744237,
                41.92257
               ],
               [
                -87.761081,
                41.926441
               ]
              ]
             ],
             "type": "Polygon"
            },
            "id": "872664c84ffffff",
            "properties": {
             "value": 26
            },
            "type": "Feature"
           },
           {
            "geometry": {
             "coordinates": [
              [
               [
                -87.656371,
                41.84632
               ],
               [
                -87.669082,
                41.83806
               ],
               [
                -87.664983,
                41.825918
               ],
               [
                -87.64818,
                41.822035
               ],
               [
                -87.63547,
                41.830291
               ],
               [
                -87.639562,
                41.842435
               ],
               [
                -87.656371,
                41.84632
               ]
              ]
             ],
             "type": "Polygon"
            },
            "id": "872664cf0ffffff",
            "properties": {
             "value": 950
            },
            "type": "Feature"
           },
           {
            "geometry": {
             "coordinates": [
              [
               [
                -87.688439,
                42.033054
               ],
               [
                -87.701194,
                42.024769
               ],
               [
                -87.697071,
                42.012603
               ],
               [
                -87.680199,
                42.008719
               ],
               [
                -87.667443,
                42.017
               ],
               [
                -87.67156,
                42.029168
               ],
               [
                -87.688439,
                42.033054
               ]
              ]
             ],
             "type": "Polygon"
            },
            "id": "872664d81ffffff",
            "properties": {
             "value": 755
            },
            "type": "Feature"
           },
           {
            "geometry": {
             "coordinates": [
              [
               [
                -87.815502,
                41.994943
               ],
               [
                -87.82822,
                41.98665
               ],
               [
                -87.824068,
                41.974495
               ],
               [
                -87.807204,
                41.970632
               ],
               [
                -87.794486,
                41.978921
               ],
               [
                -87.798632,
                41.991078
               ],
               [
                -87.815502,
                41.994943
               ]
              ]
             ],
             "type": "Polygon"
            },
            "id": "872759369ffffff",
            "properties": {
             "value": 152
            },
            "type": "Feature"
           },
           {
            "geometry": {
             "coordinates": [
              [
               [
                -87.752495,
                41.946873
               ],
               [
                -87.765213,
                41.938592
               ],
               [
                -87.761081,
                41.926441
               ],
               [
                -87.744237,
                41.92257
               ],
               [
                -87.731519,
                41.930847
               ],
               [
                -87.735644,
                41.943
               ],
               [
                -87.752495,
                41.946873
               ]
              ]
             ],
             "type": "Polygon"
            },
            "id": "872664ca2ffffff",
            "properties": {
             "value": 200
            },
            "type": "Feature"
           },
           {
            "geometry": {
             "coordinates": [
              [
               [
                -87.614581,
                41.814261
               ],
               [
                -87.627292,
                41.806008
               ],
               [
                -87.623207,
                41.793869
               ],
               [
                -87.606417,
                41.78998
               ],
               [
                -87.593707,
                41.798229
               ],
               [
                -87.597785,
                41.81037
               ],
               [
                -87.614581,
                41.814261
               ]
              ]
             ],
             "type": "Polygon"
            },
            "id": "872664cc4ffffff",
            "properties": {
             "value": 511
            },
            "type": "Feature"
           },
           {
            "geometry": {
             "coordinates": [
              [
               [
                -87.72669,
                42.008198
               ],
               [
                -87.739431,
                41.999913
               ],
               [
                -87.7353,
                41.987752
               ],
               [
                -87.718435,
                41.983875
               ],
               [
                -87.705694,
                41.992157
               ],
               [
                -87.709819,
                42.00432
               ],
               [
                -87.72669,
                42.008198
               ]
              ]
             ],
             "type": "Polygon"
            },
            "id": "872664d9dffffff",
            "properties": {
             "value": 104
            },
            "type": "Feature"
           },
           {
            "geometry": {
             "coordinates": [
              [
               [
                -87.845091,
                41.99051
               ],
               [
                -87.857801,
                41.982214
               ],
               [
                -87.853642,
                41.970062
               ],
               [
                -87.836778,
                41.966204
               ],
               [
                -87.824068,
                41.974495
               ],
               [
                -87.82822,
                41.98665
               ],
               [
                -87.845091,
                41.99051
               ]
              ]
             ],
             "type": "Polygon"
            },
            "id": "87275936bffffff",
            "properties": {
             "value": 4450
            },
            "type": "Feature"
           },
           {
            "geometry": {
             "coordinates": [
              [
               [
                -87.753476,
                41.812758
               ],
               [
                -87.766158,
                41.804492
               ],
               [
                -87.762037,
                41.79236
               ],
               [
                -87.745242,
                41.788492
               ],
               [
                -87.732561,
                41.796754
               ],
               [
                -87.736675,
                41.808888
               ],
               [
                -87.753476,
                41.812758
               ]
              ]
             ],
             "type": "Polygon"
            },
            "id": "872664525ffffff",
            "properties": {
             "value": 116
            },
            "type": "Feature"
           },
           {
            "geometry": {
             "coordinates": [
              [
               [
                -87.590114,
                41.741438
               ],
               [
                -87.60281,
                41.733196
               ],
               [
                -87.598737,
                41.721066
               ],
               [
                -87.581975,
                41.717176
               ],
               [
                -87.56928,
                41.725413
               ],
               [
                -87.573346,
                41.737545
               ],
               [
                -87.590114,
                41.741438
               ]
              ]
             ],
             "type": "Polygon"
            },
            "id": "872664cc8ffffff",
            "properties": {
             "value": 2
            },
            "type": "Feature"
           },
           {
            "geometry": {
             "coordinates": [
              [
               [
                -87.727748,
                41.87398
               ],
               [
                -87.740452,
                41.86571
               ],
               [
                -87.736332,
                41.853568
               ],
               [
                -87.719516,
                41.849695
               ],
               [
                -87.706813,
                41.857961
               ],
               [
                -87.710925,
                41.870105
               ],
               [
                -87.727748,
                41.87398
               ]
              ]
             ],
             "type": "Polygon"
            },
            "id": "872664c8cffffff",
            "properties": {
             "value": 12
            },
            "type": "Feature"
           },
           {
            "geometry": {
             "coordinates": [
              [
               [
                -87.718073,
                42.02865
               ],
               [
                -87.730821,
                42.020362
               ],
               [
                -87.72669,
                42.008198
               ],
               [
                -87.709819,
                42.00432
               ],
               [
                -87.697071,
                42.012603
               ],
               [
                -87.701194,
                42.024769
               ],
               [
                -87.718073,
                42.02865
               ]
              ]
             ],
             "type": "Polygon"
            },
            "id": "872664d83ffffff",
            "properties": {
             "value": 80
            },
            "type": "Feature"
           },
           {
            "geometry": {
             "coordinates": [
              [
               [
                -87.794486,
                41.978921
               ],
               [
                -87.807204,
                41.970632
               ],
               [
                -87.803059,
                41.958479
               ],
               [
                -87.786202,
                41.954613
               ],
               [
                -87.773484,
                41.962898
               ],
               [
                -87.777622,
                41.975053
               ],
               [
                -87.794486,
                41.978921
               ]
              ]
             ],
             "type": "Polygon"
            },
            "id": "872664cb4ffffff",
            "properties": {
             "value": 56
            },
            "type": "Feature"
           },
           {
            "geometry": {
             "coordinates": [
              [
               [
                -87.744908,
                41.833161
               ],
               [
                -87.757597,
                41.824893
               ],
               [
                -87.753476,
                41.812758
               ],
               [
                -87.736675,
                41.808888
               ],
               [
                -87.723986,
                41.817152
               ],
               [
                -87.728099,
                41.829289
               ],
               [
                -87.744908,
                41.833161
               ]
              ]
             ],
             "type": "Polygon"
            },
            "id": "872664c8bffffff",
            "properties": {
             "value": 19
            },
            "type": "Feature"
           },
           {
            "geometry": {
             "coordinates": [
              [
               [
                -87.694489,
                41.821539
               ],
               [
                -87.707184,
                41.813277
               ],
               [
                -87.703078,
                41.801141
               ],
               [
                -87.686283,
                41.797264
               ],
               [
                -87.673587,
                41.805521
               ],
               [
                -87.677686,
                41.81766
               ],
               [
                -87.694489,
                41.821539
               ]
              ]
             ],
             "type": "Polygon"
            },
            "id": "872664cd4ffffff",
            "properties": {
             "value": 27
            },
            "type": "Feature"
           },
           {
            "geometry": {
             "coordinates": [
              [
               [
                -87.720234,
                41.760361
               ],
               [
                -87.732907,
                41.752105
               ],
               [
                -87.7288,
                41.739979
               ],
               [
                -87.712026,
                41.736107
               ],
               [
                -87.699352,
                41.74436
               ],
               [
                -87.703453,
                41.756488
               ],
               [
                -87.720234,
                41.760361
               ]
              ]
             ],
             "type": "Polygon"
            },
            "id": "87266452dffffff",
            "properties": {
             "value": 5
            },
            "type": "Feature"
           },
           {
            "geometry": {
             "coordinates": [
              [
               [
                -87.791505,
                41.787959
               ],
               [
                -87.804171,
                41.779692
               ],
               [
                -87.800043,
                41.767566
               ],
               [
                -87.783256,
                41.763704
               ],
               [
                -87.77059,
                41.771967
               ],
               [
                -87.774711,
                41.784096
               ],
               [
                -87.791505,
                41.787959
               ]
              ]
             ],
             "type": "Polygon"
            },
            "id": "872664523ffffff",
            "properties": {
             "value": 2
            },
            "type": "Feature"
           },
           {
            "geometry": {
             "coordinates": [
              [
               [
                -87.91677,
                42.018081
               ],
               [
                -87.929473,
                42.009776
               ],
               [
                -87.925293,
                41.997623
               ],
               [
                -87.908417,
                41.993775
               ],
               [
                -87.895714,
                42.002077
               ],
               [
                -87.899887,
                42.014231
               ],
               [
                -87.91677,
                42.018081
               ]
              ]
             ],
             "type": "Polygon"
            },
            "id": "872759340ffffff",
            "properties": {
             "value": 581
            },
            "type": "Feature"
           },
           {
            "geometry": {
             "coordinates": [
              [
               [
                -87.853642,
                41.970062
               ],
               [
                -87.866345,
                41.961768
               ],
               [
                -87.862185,
                41.949619
               ],
               [
                -87.845329,
                41.945762
               ],
               [
                -87.832626,
                41.954053
               ],
               [
                -87.836778,
                41.966204
               ],
               [
                -87.853642,
                41.970062
               ]
              ]
             ],
             "type": "Polygon"
            },
            "id": "87275934dffffff",
            "properties": {
             "value": 3
            },
            "type": "Feature"
           },
           {
            "geometry": {
             "coordinates": [
              [
               [
                -87.666215,
                41.691984
               ],
               [
                -87.678882,
                41.683741
               ],
               [
                -87.674794,
                41.671622
               ],
               [
                -87.658047,
                41.667744
               ],
               [
                -87.64538,
                41.675983
               ],
               [
                -87.649461,
                41.688105
               ],
               [
                -87.666215,
                41.691984
               ]
              ]
             ],
             "type": "Polygon"
            },
            "id": "872664562ffffff",
            "properties": {
             "value": 1
            },
            "type": "Feature"
           },
           {
            "geometry": {
             "coordinates": [
              [
               [
                -87.63547,
                41.830291
               ],
               [
                -87.64818,
                41.822035
               ],
               [
                -87.644088,
                41.809895
               ],
               [
                -87.627292,
                41.806008
               ],
               [
                -87.614581,
                41.814261
               ],
               [
                -87.618667,
                41.826403
               ],
               [
                -87.63547,
                41.830291
               ]
              ]
             ],
             "type": "Polygon"
            },
            "id": "872664cf1ffffff",
            "properties": {
             "value": 2112
            },
            "type": "Feature"
           },
           {
            "geometry": {
             "coordinates": [
              [
               [
                -87.572845,
                41.782195
               ],
               [
                -87.585556,
                41.773951
               ],
               [
                -87.581484,
                41.761814
               ],
               [
                -87.564708,
                41.75792
               ],
               [
                -87.551997,
                41.76616
               ],
               [
                -87.556063,
                41.778299
               ],
               [
                -87.572845,
                41.782195
               ]
              ]
             ],
             "type": "Polygon"
            },
            "id": "872664ceaffffff",
            "properties": {
             "value": 194
            },
            "type": "Feature"
           },
           {
            "geometry": {
             "coordinates": [
              [
               [
                -87.748697,
                41.889998
               ],
               [
                -87.7614,
                41.881724
               ],
               [
                -87.757274,
                41.869581
               ],
               [
                -87.740452,
                41.86571
               ],
               [
                -87.727748,
                41.87398
               ],
               [
                -87.731867,
                41.886126
               ],
               [
                -87.748697,
                41.889998
               ]
              ]
             ],
             "type": "Polygon"
            },
            "id": "872664c81ffffff",
            "properties": {
             "value": 10
            },
            "type": "Feature"
           },
           {
            "geometry": {
             "coordinates": [
              [
               [
                -87.703078,
                41.801141
               ],
               [
                -87.715767,
                41.792882
               ],
               [
                -87.71166,
                41.780749
               ],
               [
                -87.694872,
                41.776874
               ],
               [
                -87.682183,
                41.785129
               ],
               [
                -87.686283,
                41.797264
               ],
               [
                -87.703078,
                41.801141
               ]
              ]
             ],
             "type": "Polygon"
            },
            "id": "872664cd0ffffff",
            "properties": {
             "value": 2
            },
            "type": "Feature"
           },
           {
            "geometry": {
             "coordinates": [
              [
               [
                -87.806929,
                42.015395
               ],
               [
                -87.819654,
                42.0071
               ],
               [
                -87.815502,
                41.994943
               ],
               [
                -87.798632,
                41.991078
               ],
               [
                -87.785906,
                41.999368
               ],
               [
                -87.790051,
                42.011528
               ],
               [
                -87.806929,
                42.015395
               ]
              ]
             ],
             "type": "Polygon"
            },
            "id": "87275936dffffff",
            "properties": {
             "value": 185
            },
            "type": "Feature"
           },
           {
            "geometry": {
             "coordinates": [
              [
               [
                -87.785906,
                41.999368
               ],
               [
                -87.798632,
                41.991078
               ],
               [
                -87.794486,
                41.978921
               ],
               [
                -87.777622,
                41.975053
               ],
               [
                -87.764897,
                41.98334
               ],
               [
                -87.769035,
                41.995499
               ],
               [
                -87.785906,
                41.999368
               ]
              ]
             ],
             "type": "Polygon"
            },
            "id": "872664d9affffff",
            "properties": {
             "value": 142
            },
            "type": "Feature"
           },
           {
            "geometry": {
             "coordinates": [
              [
               [
                -87.757274,
                41.869581
               ],
               [
                -87.76997,
                41.861308
               ],
               [
                -87.765843,
                41.849168
               ],
               [
                -87.749028,
                41.845299
               ],
               [
                -87.736332,
                41.853568
               ],
               [
                -87.740452,
                41.86571
               ],
               [
                -87.757274,
                41.869581
               ]
              ]
             ],
             "type": "Polygon"
            },
            "id": "872664c8effffff",
            "properties": {
             "value": 11
            },
            "type": "Feature"
           },
           {
            "geometry": {
             "coordinates": [
              [
               [
                -87.706813,
                41.857961
               ],
               [
                -87.719516,
                41.849695
               ],
               [
                -87.715404,
                41.837554
               ],
               [
                -87.698595,
                41.833678
               ],
               [
                -87.685891,
                41.841941
               ],
               [
                -87.689997,
                41.854083
               ],
               [
                -87.706813,
                41.857961
               ]
              ]
             ],
             "type": "Polygon"
            },
            "id": "872664c8dffffff",
            "properties": {
             "value": 169
            },
            "type": "Feature"
           },
           {
            "geometry": {
             "coordinates": [
              [
               [
                -87.581484,
                41.761814
               ],
               [
                -87.594187,
                41.753571
               ],
               [
                -87.590114,
                41.741438
               ],
               [
                -87.573346,
                41.737545
               ],
               [
                -87.560642,
                41.745784
               ],
               [
                -87.564708,
                41.75792
               ],
               [
                -87.581484,
                41.761814
               ]
              ]
             ],
             "type": "Polygon"
            },
            "id": "872664cccffffff",
            "properties": {
             "value": 9
            },
            "type": "Feature"
           },
           {
            "geometry": {
             "coordinates": [
              [
               [
                -87.619579,
                41.737084
               ],
               [
                -87.632267,
                41.72884
               ],
               [
                -87.628187,
                41.716713
               ],
               [
                -87.611426,
                41.712826
               ],
               [
                -87.598737,
                41.721066
               ],
               [
                -87.60281,
                41.733196
               ],
               [
                -87.619579,
                41.737084
               ]
              ]
             ],
             "type": "Polygon"
            },
            "id": "872664ccaffffff",
            "properties": {
             "value": 44
            },
            "type": "Feature"
           },
           {
            "geometry": {
             "coordinates": [
              [
               [
                -87.628187,
                41.716713
               ],
               [
                -87.640868,
                41.70847
               ],
               [
                -87.636788,
                41.696345
               ],
               [
                -87.620033,
                41.692461
               ],
               [
                -87.607352,
                41.7007
               ],
               [
                -87.611426,
                41.712826
               ],
               [
                -87.628187,
                41.716713
               ]
              ]
             ],
             "type": "Polygon"
            },
            "id": "872664564ffffff",
            "properties": {
             "value": 146
            },
            "type": "Feature"
           },
           {
            "geometry": {
             "coordinates": [
              [
               [
                -87.631824,
                41.773483
               ],
               [
                -87.64452,
                41.765233
               ],
               [
                -87.640433,
                41.753101
               ],
               [
                -87.623658,
                41.749216
               ],
               [
                -87.610962,
                41.757461
               ],
               [
                -87.615042,
                41.769596
               ],
               [
                -87.631824,
                41.773483
               ]
              ]
             ],
             "type": "Polygon"
            },
            "id": "872664cc3ffffff",
            "properties": {
             "value": 6
            },
            "type": "Feature"
           },
           {
            "geometry": {
             "coordinates": [
              [
               [
                -87.551997,
                41.76616
               ],
               [
                -87.564708,
                41.75792
               ],
               [
                -87.560642,
                41.745784
               ],
               [
                -87.543873,
                41.741887
               ],
               [
                -87.531163,
                41.750124
               ],
               [
                -87.535221,
                41.762261
               ],
               [
                -87.551997,
                41.76616
               ]
              ]
             ],
             "type": "Polygon"
            },
            "id": "872664cebffffff",
            "properties": {
             "value": 13
            },
            "type": "Feature"
           },
           {
            "geometry": {
             "coordinates": [
              [
               [
                -87.664983,
                41.825918
               ],
               [
                -87.677686,
                41.81766
               ],
               [
                -87.673587,
                41.805521
               ],
               [
                -87.656791,
                41.80164
               ],
               [
                -87.644088,
                41.809895
               ],
               [
                -87.64818,
                41.822035
               ],
               [
                -87.664983,
                41.825918
               ]
              ]
             ],
             "type": "Polygon"
            },
            "id": "872664cf3ffffff",
            "properties": {
             "value": 40
            },
            "type": "Feature"
           },
           {
            "geometry": {
             "coordinates": [
              [
               [
                -87.610962,
                41.757461
               ],
               [
                -87.623658,
                41.749216
               ],
               [
                -87.619579,
                41.737084
               ],
               [
                -87.60281,
                41.733196
               ],
               [
                -87.590114,
                41.741438
               ],
               [
                -87.594187,
                41.753571
               ],
               [
                -87.610962,
                41.757461
               ]
              ]
             ],
             "type": "Polygon"
            },
            "id": "872664cceffffff",
            "properties": {
             "value": 13
            },
            "type": "Feature"
           },
           {
            "geometry": {
             "coordinates": [
              [
               [
                -87.803059,
                41.958479
               ],
               [
                -87.815769,
                41.950191
               ],
               [
                -87.811623,
                41.938041
               ],
               [
                -87.794774,
                41.934177
               ],
               [
                -87.782063,
                41.942461
               ],
               [
                -87.786202,
                41.954613
               ],
               [
                -87.803059,
                41.958479
               ]
              ]
             ],
             "type": "Polygon"
            },
            "id": "872664cb0ffffff",
            "properties": {
             "value": 24
            },
            "type": "Feature"
           },
           {
            "geometry": {
             "coordinates": [
              [
               [
                -87.732561,
                41.796754
               ],
               [
                -87.745242,
                41.788492
               ],
               [
                -87.741129,
                41.776362
               ],
               [
                -87.724341,
                41.772491
               ],
               [
                -87.71166,
                41.780749
               ],
               [
                -87.715767,
                41.792882
               ],
               [
                -87.732561,
                41.796754
               ]
              ]
             ],
             "type": "Polygon"
            },
            "id": "872664cd2ffffff",
            "properties": {
             "value": 21
            },
            "type": "Feature"
           },
           {
            "geometry": {
             "coordinates": [
              [
               [
                -87.723986,
                41.817152
               ],
               [
                -87.736675,
                41.808888
               ],
               [
                -87.732561,
                41.796754
               ],
               [
                -87.715767,
                41.792882
               ],
               [
                -87.703078,
                41.801141
               ],
               [
                -87.707184,
                41.813277
               ],
               [
                -87.723986,
                41.817152
               ]
              ]
             ],
             "type": "Polygon"
            },
            "id": "872664cd6ffffff",
            "properties": {
             "value": 9
            },
            "type": "Feature"
           },
           {
            "geometry": {
             "coordinates": [
              [
               [
                -87.777318,
                42.01982
               ],
               [
                -87.790051,
                42.011528
               ],
               [
                -87.785906,
                41.999368
               ],
               [
                -87.769035,
                41.995499
               ],
               [
                -87.756302,
                42.003787
               ],
               [
                -87.76044,
                42.015949
               ],
               [
                -87.777318,
                42.01982
               ]
              ]
             ],
             "type": "Polygon"
            },
            "id": "872664d9effffff",
            "properties": {
             "value": 40
            },
            "type": "Feature"
           },
           {
            "geometry": {
             "coordinates": [
              [
               [
                -87.644088,
                41.809895
               ],
               [
                -87.656791,
                41.80164
               ],
               [
                -87.652699,
                41.789503
               ],
               [
                -87.63591,
                41.785618
               ],
               [
                -87.623207,
                41.793869
               ],
               [
                -87.627292,
                41.806008
               ],
               [
                -87.644088,
                41.809895
               ]
              ]
             ],
             "type": "Polygon"
            },
            "id": "872664cc6ffffff",
            "properties": {
             "value": 2
            },
            "type": "Feature"
           },
           {
            "geometry": {
             "coordinates": [
              [
               [
                -87.577909,
                41.705047
               ],
               [
                -87.590597,
                41.696811
               ],
               [
                -87.586531,
                41.684685
               ],
               [
                -87.569783,
                41.680794
               ],
               [
                -87.557094,
                41.689026
               ],
               [
                -87.561154,
                41.701153
               ],
               [
                -87.577909,
                41.705047
               ]
              ]
             ],
             "type": "Polygon"
            },
            "id": "872664196ffffff",
            "properties": {
             "value": 7
            },
            "type": "Feature"
           },
           {
            "geometry": {
             "coordinates": [
              [
               [
                -87.719157,
                41.894397
               ],
               [
                -87.731867,
                41.886126
               ],
               [
                -87.727748,
                41.87398
               ],
               [
                -87.710925,
                41.870105
               ],
               [
                -87.698215,
                41.878373
               ],
               [
                -87.702327,
                41.89052
               ],
               [
                -87.719157,
                41.894397
               ]
              ]
             ],
             "type": "Polygon"
            },
            "id": "872664caaffffff",
            "properties": {
             "value": 81
            },
            "type": "Feature"
           },
           {
            "geometry": {
             "coordinates": [
              [
               [
                -87.715404,
                41.837554
               ],
               [
                -87.728099,
                41.829289
               ],
               [
                -87.723986,
                41.817152
               ],
               [
                -87.707184,
                41.813277
               ],
               [
                -87.694489,
                41.821539
               ],
               [
                -87.698595,
                41.833678
               ],
               [
                -87.715404,
                41.837554
               ]
              ]
             ],
             "type": "Polygon"
            },
            "id": "872664c89ffffff",
            "properties": {
             "value": 5
            },
            "type": "Feature"
           },
           {
            "geometry": {
             "coordinates": [
              [
               [
                -87.740112,
                41.91042
               ],
               [
                -87.752823,
                41.902144
               ],
               [
                -87.748697,
                41.889998
               ],
               [
                -87.731867,
                41.886126
               ],
               [
                -87.719157,
                41.894397
               ],
               [
                -87.723275,
                41.906546
               ],
               [
                -87.740112,
                41.91042
               ]
              ]
             ],
             "type": "Polygon"
            },
            "id": "872664c85ffffff",
            "properties": {
             "value": 25
            },
            "type": "Feature"
           },
           {
            "geometry": {
             "coordinates": [
              [
               [
                -87.827965,
                42.03142
               ],
               [
                -87.840691,
                42.023121
               ],
               [
                -87.836532,
                42.010963
               ],
               [
                -87.819654,
                42.0071
               ],
               [
                -87.806929,
                42.015395
               ],
               [
                -87.811081,
                42.027556
               ],
               [
                -87.827965,
                42.03142
               ]
              ]
             ],
             "type": "Polygon"
            },
            "id": "87275936cffffff",
            "properties": {
             "value": 3
            },
            "type": "Feature"
           },
           {
            "geometry": {
             "coordinates": [
              [
               [
                -87.832626,
                41.954053
               ],
               [
                -87.845329,
                41.945762
               ],
               [
                -87.841176,
                41.933615
               ],
               [
                -87.824326,
                41.929755
               ],
               [
                -87.811623,
                41.938041
               ],
               [
                -87.815769,
                41.950191
               ],
               [
                -87.832626,
                41.954053
               ]
              ]
             ],
             "type": "Polygon"
            },
            "id": "872664cb2ffffff",
            "properties": {
             "value": 2
            },
            "type": "Feature"
           },
           {
            "geometry": {
             "coordinates": [
              [
               [
                -87.649035,
                41.732724
               ],
               [
                -87.661716,
                41.724478
               ],
               [
                -87.657629,
                41.712352
               ],
               [
                -87.640868,
                41.70847
               ],
               [
                -87.628187,
                41.716713
               ],
               [
                -87.632267,
                41.72884
               ],
               [
                -87.649035,
                41.732724
               ]
              ]
             ],
             "type": "Polygon"
            },
            "id": "872664cd9ffffff",
            "properties": {
             "value": 1
            },
            "type": "Feature"
           },
           {
            "geometry": {
             "coordinates": [
              [
               [
                -87.790634,
                41.922028
               ],
               [
                -87.803338,
                41.913746
               ],
               [
                -87.799198,
                41.901601
               ],
               [
                -87.782362,
                41.897736
               ],
               [
                -87.769659,
                41.906014
               ],
               [
                -87.773791,
                41.918162
               ],
               [
                -87.790634,
                41.922028
               ]
              ]
             ],
             "type": "Polygon"
            },
            "id": "872664c86ffffff",
            "properties": {
             "value": 9
            },
            "type": "Feature"
           },
           {
            "geometry": {
             "coordinates": [
              [
               [
                -87.778229,
                41.885592
               ],
               [
                -87.790925,
                41.877315
               ],
               [
                -87.786792,
                41.865174
               ],
               [
                -87.76997,
                41.861308
               ],
               [
                -87.757274,
                41.869581
               ],
               [
                -87.7614,
                41.881724
               ],
               [
                -87.778229,
                41.885592
               ]
              ]
             ],
             "type": "Polygon"
            },
            "id": "872664c83ffffff",
            "properties": {
             "value": 4
            },
            "type": "Feature"
           },
           {
            "geometry": {
             "coordinates": [
              [
               [
                -87.652699,
                41.789503
               ],
               [
                -87.665395,
                41.78125
               ],
               [
                -87.661302,
                41.769116
               ],
               [
                -87.64452,
                41.765233
               ],
               [
                -87.631824,
                41.773483
               ],
               [
                -87.63591,
                41.785618
               ],
               [
                -87.652699,
                41.789503
               ]
              ]
             ],
             "type": "Polygon"
            },
            "id": "872664cc2ffffff",
            "properties": {
             "value": 4
            },
            "type": "Feature"
           },
           {
            "geometry": {
             "coordinates": [
              [
               [
                -87.71166,
                41.780749
               ],
               [
                -87.724341,
                41.772491
               ],
               [
                -87.720234,
                41.760361
               ],
               [
                -87.703453,
                41.756488
               ],
               [
                -87.690772,
                41.764742
               ],
               [
                -87.694872,
                41.776874
               ],
               [
                -87.71166,
                41.780749
               ]
              ]
             ],
             "type": "Polygon"
            },
            "id": "872664cd3ffffff",
            "properties": {
             "value": 2
            },
            "type": "Feature"
           },
           {
            "geometry": {
             "coordinates": [
              [
               [
                -87.623207,
                41.793869
               ],
               [
                -87.63591,
                41.785618
               ],
               [
                -87.631824,
                41.773483
               ],
               [
                -87.615042,
                41.769596
               ],
               [
                -87.602338,
                41.777842
               ],
               [
                -87.606417,
                41.78998
               ],
               [
                -87.623207,
                41.793869
               ]
              ]
             ],
             "type": "Polygon"
            },
            "id": "872664cc0ffffff",
            "properties": {
             "value": 17
            },
            "type": "Feature"
           },
           {
            "geometry": {
             "coordinates": [
              [
               [
                -87.661302,
                41.769116
               ],
               [
                -87.67399,
                41.760864
               ],
               [
                -87.669897,
                41.748734
               ],
               [
                -87.653122,
                41.744853
               ],
               [
                -87.640433,
                41.753101
               ],
               [
                -87.64452,
                41.765233
               ],
               [
                -87.661302,
                41.769116
               ]
              ]
             ],
             "type": "Polygon"
            },
            "id": "872664cdcffffff",
            "properties": {
             "value": 4
            },
            "type": "Feature"
           },
           {
            "geometry": {
             "coordinates": [
              [
               [
                -87.602338,
                41.777842
               ],
               [
                -87.615042,
                41.769596
               ],
               [
                -87.610962,
                41.757461
               ],
               [
                -87.594187,
                41.753571
               ],
               [
                -87.581484,
                41.761814
               ],
               [
                -87.585556,
                41.773951
               ],
               [
                -87.602338,
                41.777842
               ]
              ]
             ],
             "type": "Polygon"
            },
            "id": "872664cc1ffffff",
            "properties": {
             "value": 14
            },
            "type": "Feature"
           },
           {
            "geometry": {
             "coordinates": [
              [
               [
                -87.673587,
                41.805521
               ],
               [
                -87.686283,
                41.797264
               ],
               [
                -87.682183,
                41.785129
               ],
               [
                -87.665395,
                41.78125
               ],
               [
                -87.652699,
                41.789503
               ],
               [
                -87.656791,
                41.80164
               ],
               [
                -87.673587,
                41.805521
               ]
              ]
             ],
             "type": "Polygon"
            },
            "id": "872664cd5ffffff",
            "properties": {
             "value": 2
            },
            "type": "Feature"
           },
           {
            "geometry": {
             "coordinates": [
              [
               [
                -87.769659,
                41.906014
               ],
               [
                -87.782362,
                41.897736
               ],
               [
                -87.778229,
                41.885592
               ],
               [
                -87.7614,
                41.881724
               ],
               [
                -87.748697,
                41.889998
               ],
               [
                -87.752823,
                41.902144
               ],
               [
                -87.769659,
                41.906014
               ]
              ]
             ],
             "type": "Polygon"
            },
            "id": "872664c80ffffff",
            "properties": {
             "value": 5
            },
            "type": "Feature"
           },
           {
            "geometry": {
             "coordinates": [
              [
               [
                -87.669897,
                41.748734
               ],
               [
                -87.682578,
                41.740483
               ],
               [
                -87.678484,
                41.728356
               ],
               [
                -87.661716,
                41.724478
               ],
               [
                -87.649035,
                41.732724
               ],
               [
                -87.653122,
                41.744853
               ],
               [
                -87.669897,
                41.748734
               ]
              ]
             ],
             "type": "Polygon"
            },
            "id": "872664cd8ffffff",
            "properties": {
             "value": 5
            },
            "type": "Feature"
           },
           {
            "geometry": {
             "coordinates": [
              [
               [
                -87.687064,
                41.707984
               ],
               [
                -87.69973,
                41.699737
               ],
               [
                -87.695635,
                41.687616
               ],
               [
                -87.678882,
                41.683741
               ],
               [
                -87.666215,
                41.691984
               ],
               [
                -87.670303,
                41.704107
               ],
               [
                -87.687064,
                41.707984
               ]
              ]
             ],
             "type": "Polygon"
            },
            "id": "872664575ffffff",
            "properties": {
             "value": 2
            },
            "type": "Feature"
           },
           {
            "geometry": {
             "coordinates": [
              [
               [
                -87.741129,
                41.776362
               ],
               [
                -87.753802,
                41.768101
               ],
               [
                -87.749688,
                41.755974
               ],
               [
                -87.732907,
                41.752105
               ],
               [
                -87.720234,
                41.760361
               ],
               [
                -87.724341,
                41.772491
               ],
               [
                -87.741129,
                41.776362
               ]
              ]
             ],
             "type": "Polygon"
            },
            "id": "87266452cffffff",
            "properties": {
             "value": 4
            },
            "type": "Feature"
           },
           {
            "geometry": {
             "coordinates": [
              [
               [
                -87.811623,
                41.938041
               ],
               [
                -87.824326,
                41.929755
               ],
               [
                -87.82018,
                41.917609
               ],
               [
                -87.803338,
                41.913746
               ],
               [
                -87.790634,
                41.922028
               ],
               [
                -87.794774,
                41.934177
               ],
               [
                -87.811623,
                41.938041
               ]
              ]
             ],
             "type": "Polygon"
            },
            "id": "872664cb3ffffff",
            "properties": {
             "value": 5
            },
            "type": "Feature"
           },
           {
            "geometry": {
             "coordinates": [
              [
               [
                -87.678484,
                41.728356
               ],
               [
                -87.691158,
                41.720108
               ],
               [
                -87.687064,
                41.707984
               ],
               [
                -87.670303,
                41.704107
               ],
               [
                -87.657629,
                41.712352
               ],
               [
                -87.661716,
                41.724478
               ],
               [
                -87.678484,
                41.728356
               ]
              ]
             ],
             "type": "Polygon"
            },
            "id": "872664cdbffffff",
            "properties": {
             "value": 4
            },
            "type": "Feature"
           },
           {
            "geometry": {
             "coordinates": [
              [
               [
                -87.560642,
                41.745784
               ],
               [
                -87.573346,
                41.737545
               ],
               [
                -87.56928,
                41.725413
               ],
               [
                -87.552518,
                41.721518
               ],
               [
                -87.539814,
                41.729753
               ],
               [
                -87.543873,
                41.741887
               ],
               [
                -87.560642,
                41.745784
               ]
              ]
             ],
             "type": "Polygon"
            },
            "id": "872664ccdffffff",
            "properties": {
             "value": 1
            },
            "type": "Feature"
           },
           {
            "geometry": {
             "coordinates": [
              [
               [
                -87.615959,
                41.680338
               ],
               [
                -87.628633,
                41.672101
               ],
               [
                -87.624559,
                41.659981
               ],
               [
                -87.607818,
                41.656096
               ],
               [
                -87.595145,
                41.664329
               ],
               [
                -87.599212,
                41.676451
               ],
               [
                -87.615959,
                41.680338
               ]
              ]
             ],
             "type": "Polygon"
            },
            "id": "872664561ffffff",
            "properties": {
             "value": 1
            },
            "type": "Feature"
           },
           {
            "geometry": {
             "coordinates": [
              [
               [
                -87.736332,
                41.853568
               ],
               [
                -87.749028,
                41.845299
               ],
               [
                -87.744908,
                41.833161
               ],
               [
                -87.728099,
                41.829289
               ],
               [
                -87.715404,
                41.837554
               ],
               [
                -87.719516,
                41.849695
               ],
               [
                -87.736332,
                41.853568
               ]
              ]
             ],
             "type": "Polygon"
            },
            "id": "872664c88ffffff",
            "properties": {
             "value": 6
            },
            "type": "Feature"
           },
           {
            "geometry": {
             "coordinates": [
              [
               [
                -87.707925,
                41.723982
               ],
               [
                -87.720591,
                41.715731
               ],
               [
                -87.71649,
                41.703609
               ],
               [
                -87.69973,
                41.699737
               ],
               [
                -87.687064,
                41.707984
               ],
               [
                -87.691158,
                41.720108
               ],
               [
                -87.707925,
                41.723982
               ]
              ]
             ],
             "type": "Polygon"
            },
            "id": "872664574ffffff",
            "properties": {
             "value": 2
            },
            "type": "Feature"
           }
          ],
          "type": "FeatureCollection"
         },
         "hovertemplate": "hex=%{location}<br>Ending Trips in Res7=%{z}<extra></extra>",
         "locations": [
          "872664c1effffff",
          "872664c12ffffff",
          "872664c10ffffff",
          "872664cacffffff",
          "872664c14ffffff",
          "872664d89ffffff",
          "872664cadffffff",
          "872664c16ffffff",
          "872664d8dffffff",
          "872664c1affffff",
          "872664c11ffffff",
          "872664ca1ffffff",
          "872664c13ffffff",
          "872664ce3ffffff",
          "872664c1bffffff",
          "872664ca5ffffff",
          "872664d8bffffff",
          "872664d8cffffff",
          "872664cf4ffffff",
          "872664ca0ffffff",
          "87275934effffff",
          "872664d88ffffff",
          "872664ca9ffffff",
          "872664cf5ffffff",
          "872664d8affffff",
          "872664ca8ffffff",
          "872664d8effffff",
          "872664ca4ffffff",
          "872664521ffffff",
          "872664caeffffff",
          "872664ca6ffffff",
          "872664d9bffffff",
          "872664d99ffffff",
          "872664cf6ffffff",
          "872664ca3ffffff",
          "872664cc5ffffff",
          "872664cb5ffffff",
          "872664cf2ffffff",
          "872664cb1ffffff",
          "872664ce2ffffff",
          "872664cddffffff",
          "872664520ffffff",
          "872664cabffffff",
          "872664d98ffffff",
          "872664c84ffffff",
          "872664cf0ffffff",
          "872664d81ffffff",
          "872759369ffffff",
          "872664ca2ffffff",
          "872664cc4ffffff",
          "872664d9dffffff",
          "87275936bffffff",
          "872664525ffffff",
          "872664cc8ffffff",
          "872664c8cffffff",
          "872664d83ffffff",
          "872664cb4ffffff",
          "872664c8bffffff",
          "872664cd4ffffff",
          "87266452dffffff",
          "872664523ffffff",
          "872759340ffffff",
          "87275934dffffff",
          "872664562ffffff",
          "872664cf1ffffff",
          "872664ceaffffff",
          "872664c81ffffff",
          "872664cd0ffffff",
          "87275936dffffff",
          "872664d9affffff",
          "872664c8effffff",
          "872664c8dffffff",
          "872664cccffffff",
          "872664ccaffffff",
          "872664564ffffff",
          "872664cc3ffffff",
          "872664cebffffff",
          "872664cf3ffffff",
          "872664cceffffff",
          "872664cb0ffffff",
          "872664cd2ffffff",
          "872664cd6ffffff",
          "872664d9effffff",
          "872664cc6ffffff",
          "872664196ffffff",
          "872664caaffffff",
          "872664c89ffffff",
          "872664c85ffffff",
          "87275936cffffff",
          "872664cb2ffffff",
          "872664cd9ffffff",
          "872664c86ffffff",
          "872664c83ffffff",
          "872664cc2ffffff",
          "872664cd3ffffff",
          "872664cc0ffffff",
          "872664cdcffffff",
          "872664cc1ffffff",
          "872664cd5ffffff",
          "872664c80ffffff",
          "872664cd8ffffff",
          "872664575ffffff",
          "87266452cffffff",
          "872664cb3ffffff",
          "872664cdbffffff",
          "872664ccdffffff",
          "872664561ffffff",
          "872664c88ffffff",
          "872664574ffffff"
         ],
         "marker": {
          "opacity": 0.7
         },
         "name": "",
         "subplot": "mapbox",
         "type": "choroplethmapbox",
         "z": [
          6705006,
          283480,
          808271,
          363751,
          67664,
          167669,
          1066739,
          519264,
          13360,
          3695219,
          457277,
          69265,
          607925,
          7566,
          492872,
          44523,
          68955,
          22547,
          45883,
          18684,
          677713,
          38941,
          298358,
          163831,
          10989,
          23838,
          2585,
          11007,
          244598,
          9952,
          3391,
          634,
          1458,
          1436,
          718,
          34010,
          95,
          2167,
          20,
          331,
          18,
          19,
          2111,
          283,
          26,
          950,
          755,
          152,
          200,
          511,
          104,
          4450,
          116,
          2,
          12,
          80,
          56,
          19,
          27,
          5,
          2,
          581,
          3,
          1,
          2112,
          194,
          10,
          2,
          185,
          142,
          11,
          169,
          9,
          44,
          146,
          6,
          13,
          40,
          13,
          24,
          21,
          9,
          40,
          2,
          7,
          81,
          5,
          25,
          3,
          2,
          1,
          9,
          4,
          4,
          2,
          17,
          4,
          14,
          2,
          5,
          5,
          2,
          4,
          5,
          4,
          1,
          1,
          6,
          2
         ]
        }
       ],
       "layout": {
        "coloraxis": {
         "cmax": 286455.60000000003,
         "cmin": 0,
         "colorbar": {
          "title": {
           "text": "Ending Trips in Res7"
          }
         },
         "colorscale": [
          [
           0,
           "rgb(255,245,240)"
          ],
          [
           0.125,
           "rgb(254,224,210)"
          ],
          [
           0.25,
           "rgb(252,187,161)"
          ],
          [
           0.375,
           "rgb(252,146,114)"
          ],
          [
           0.5,
           "rgb(251,106,74)"
          ],
          [
           0.625,
           "rgb(239,59,44)"
          ],
          [
           0.75,
           "rgb(203,24,29)"
          ],
          [
           0.875,
           "rgb(165,15,21)"
          ],
          [
           1,
           "rgb(103,0,13)"
          ]
         ]
        },
        "height": 500,
        "legend": {
         "tracegroupgap": 0
        },
        "mapbox": {
         "center": {
          "lat": 41.881832,
          "lon": -87.623177
         },
         "domain": {
          "x": [
           0,
           1
          ],
          "y": [
           0,
           1
          ]
         },
         "style": "carto-positron",
         "zoom": 10.5
        },
        "margin": {
         "b": 0,
         "l": 0,
         "r": 0,
         "t": 0
        },
        "template": {
         "data": {
          "bar": [
           {
            "error_x": {
             "color": "#2a3f5f"
            },
            "error_y": {
             "color": "#2a3f5f"
            },
            "marker": {
             "line": {
              "color": "#E5ECF6",
              "width": 0.5
             },
             "pattern": {
              "fillmode": "overlay",
              "size": 10,
              "solidity": 0.2
             }
            },
            "type": "bar"
           }
          ],
          "barpolar": [
           {
            "marker": {
             "line": {
              "color": "#E5ECF6",
              "width": 0.5
             },
             "pattern": {
              "fillmode": "overlay",
              "size": 10,
              "solidity": 0.2
             }
            },
            "type": "barpolar"
           }
          ],
          "carpet": [
           {
            "aaxis": {
             "endlinecolor": "#2a3f5f",
             "gridcolor": "white",
             "linecolor": "white",
             "minorgridcolor": "white",
             "startlinecolor": "#2a3f5f"
            },
            "baxis": {
             "endlinecolor": "#2a3f5f",
             "gridcolor": "white",
             "linecolor": "white",
             "minorgridcolor": "white",
             "startlinecolor": "#2a3f5f"
            },
            "type": "carpet"
           }
          ],
          "choropleth": [
           {
            "colorbar": {
             "outlinewidth": 0,
             "ticks": ""
            },
            "type": "choropleth"
           }
          ],
          "contour": [
           {
            "colorbar": {
             "outlinewidth": 0,
             "ticks": ""
            },
            "colorscale": [
             [
              0,
              "#0d0887"
             ],
             [
              0.1111111111111111,
              "#46039f"
             ],
             [
              0.2222222222222222,
              "#7201a8"
             ],
             [
              0.3333333333333333,
              "#9c179e"
             ],
             [
              0.4444444444444444,
              "#bd3786"
             ],
             [
              0.5555555555555556,
              "#d8576b"
             ],
             [
              0.6666666666666666,
              "#ed7953"
             ],
             [
              0.7777777777777778,
              "#fb9f3a"
             ],
             [
              0.8888888888888888,
              "#fdca26"
             ],
             [
              1,
              "#f0f921"
             ]
            ],
            "type": "contour"
           }
          ],
          "contourcarpet": [
           {
            "colorbar": {
             "outlinewidth": 0,
             "ticks": ""
            },
            "type": "contourcarpet"
           }
          ],
          "heatmap": [
           {
            "colorbar": {
             "outlinewidth": 0,
             "ticks": ""
            },
            "colorscale": [
             [
              0,
              "#0d0887"
             ],
             [
              0.1111111111111111,
              "#46039f"
             ],
             [
              0.2222222222222222,
              "#7201a8"
             ],
             [
              0.3333333333333333,
              "#9c179e"
             ],
             [
              0.4444444444444444,
              "#bd3786"
             ],
             [
              0.5555555555555556,
              "#d8576b"
             ],
             [
              0.6666666666666666,
              "#ed7953"
             ],
             [
              0.7777777777777778,
              "#fb9f3a"
             ],
             [
              0.8888888888888888,
              "#fdca26"
             ],
             [
              1,
              "#f0f921"
             ]
            ],
            "type": "heatmap"
           }
          ],
          "heatmapgl": [
           {
            "colorbar": {
             "outlinewidth": 0,
             "ticks": ""
            },
            "colorscale": [
             [
              0,
              "#0d0887"
             ],
             [
              0.1111111111111111,
              "#46039f"
             ],
             [
              0.2222222222222222,
              "#7201a8"
             ],
             [
              0.3333333333333333,
              "#9c179e"
             ],
             [
              0.4444444444444444,
              "#bd3786"
             ],
             [
              0.5555555555555556,
              "#d8576b"
             ],
             [
              0.6666666666666666,
              "#ed7953"
             ],
             [
              0.7777777777777778,
              "#fb9f3a"
             ],
             [
              0.8888888888888888,
              "#fdca26"
             ],
             [
              1,
              "#f0f921"
             ]
            ],
            "type": "heatmapgl"
           }
          ],
          "histogram": [
           {
            "marker": {
             "pattern": {
              "fillmode": "overlay",
              "size": 10,
              "solidity": 0.2
             }
            },
            "type": "histogram"
           }
          ],
          "histogram2d": [
           {
            "colorbar": {
             "outlinewidth": 0,
             "ticks": ""
            },
            "colorscale": [
             [
              0,
              "#0d0887"
             ],
             [
              0.1111111111111111,
              "#46039f"
             ],
             [
              0.2222222222222222,
              "#7201a8"
             ],
             [
              0.3333333333333333,
              "#9c179e"
             ],
             [
              0.4444444444444444,
              "#bd3786"
             ],
             [
              0.5555555555555556,
              "#d8576b"
             ],
             [
              0.6666666666666666,
              "#ed7953"
             ],
             [
              0.7777777777777778,
              "#fb9f3a"
             ],
             [
              0.8888888888888888,
              "#fdca26"
             ],
             [
              1,
              "#f0f921"
             ]
            ],
            "type": "histogram2d"
           }
          ],
          "histogram2dcontour": [
           {
            "colorbar": {
             "outlinewidth": 0,
             "ticks": ""
            },
            "colorscale": [
             [
              0,
              "#0d0887"
             ],
             [
              0.1111111111111111,
              "#46039f"
             ],
             [
              0.2222222222222222,
              "#7201a8"
             ],
             [
              0.3333333333333333,
              "#9c179e"
             ],
             [
              0.4444444444444444,
              "#bd3786"
             ],
             [
              0.5555555555555556,
              "#d8576b"
             ],
             [
              0.6666666666666666,
              "#ed7953"
             ],
             [
              0.7777777777777778,
              "#fb9f3a"
             ],
             [
              0.8888888888888888,
              "#fdca26"
             ],
             [
              1,
              "#f0f921"
             ]
            ],
            "type": "histogram2dcontour"
           }
          ],
          "mesh3d": [
           {
            "colorbar": {
             "outlinewidth": 0,
             "ticks": ""
            },
            "type": "mesh3d"
           }
          ],
          "parcoords": [
           {
            "line": {
             "colorbar": {
              "outlinewidth": 0,
              "ticks": ""
             }
            },
            "type": "parcoords"
           }
          ],
          "pie": [
           {
            "automargin": true,
            "type": "pie"
           }
          ],
          "scatter": [
           {
            "fillpattern": {
             "fillmode": "overlay",
             "size": 10,
             "solidity": 0.2
            },
            "type": "scatter"
           }
          ],
          "scatter3d": [
           {
            "line": {
             "colorbar": {
              "outlinewidth": 0,
              "ticks": ""
             }
            },
            "marker": {
             "colorbar": {
              "outlinewidth": 0,
              "ticks": ""
             }
            },
            "type": "scatter3d"
           }
          ],
          "scattercarpet": [
           {
            "marker": {
             "colorbar": {
              "outlinewidth": 0,
              "ticks": ""
             }
            },
            "type": "scattercarpet"
           }
          ],
          "scattergeo": [
           {
            "marker": {
             "colorbar": {
              "outlinewidth": 0,
              "ticks": ""
             }
            },
            "type": "scattergeo"
           }
          ],
          "scattergl": [
           {
            "marker": {
             "colorbar": {
              "outlinewidth": 0,
              "ticks": ""
             }
            },
            "type": "scattergl"
           }
          ],
          "scattermapbox": [
           {
            "marker": {
             "colorbar": {
              "outlinewidth": 0,
              "ticks": ""
             }
            },
            "type": "scattermapbox"
           }
          ],
          "scatterpolar": [
           {
            "marker": {
             "colorbar": {
              "outlinewidth": 0,
              "ticks": ""
             }
            },
            "type": "scatterpolar"
           }
          ],
          "scatterpolargl": [
           {
            "marker": {
             "colorbar": {
              "outlinewidth": 0,
              "ticks": ""
             }
            },
            "type": "scatterpolargl"
           }
          ],
          "scatterternary": [
           {
            "marker": {
             "colorbar": {
              "outlinewidth": 0,
              "ticks": ""
             }
            },
            "type": "scatterternary"
           }
          ],
          "surface": [
           {
            "colorbar": {
             "outlinewidth": 0,
             "ticks": ""
            },
            "colorscale": [
             [
              0,
              "#0d0887"
             ],
             [
              0.1111111111111111,
              "#46039f"
             ],
             [
              0.2222222222222222,
              "#7201a8"
             ],
             [
              0.3333333333333333,
              "#9c179e"
             ],
             [
              0.4444444444444444,
              "#bd3786"
             ],
             [
              0.5555555555555556,
              "#d8576b"
             ],
             [
              0.6666666666666666,
              "#ed7953"
             ],
             [
              0.7777777777777778,
              "#fb9f3a"
             ],
             [
              0.8888888888888888,
              "#fdca26"
             ],
             [
              1,
              "#f0f921"
             ]
            ],
            "type": "surface"
           }
          ],
          "table": [
           {
            "cells": {
             "fill": {
              "color": "#EBF0F8"
             },
             "line": {
              "color": "white"
             }
            },
            "header": {
             "fill": {
              "color": "#C8D4E3"
             },
             "line": {
              "color": "white"
             }
            },
            "type": "table"
           }
          ]
         },
         "layout": {
          "annotationdefaults": {
           "arrowcolor": "#2a3f5f",
           "arrowhead": 0,
           "arrowwidth": 1
          },
          "autotypenumbers": "strict",
          "coloraxis": {
           "colorbar": {
            "outlinewidth": 0,
            "ticks": ""
           }
          },
          "colorscale": {
           "diverging": [
            [
             0,
             "#8e0152"
            ],
            [
             0.1,
             "#c51b7d"
            ],
            [
             0.2,
             "#de77ae"
            ],
            [
             0.3,
             "#f1b6da"
            ],
            [
             0.4,
             "#fde0ef"
            ],
            [
             0.5,
             "#f7f7f7"
            ],
            [
             0.6,
             "#e6f5d0"
            ],
            [
             0.7,
             "#b8e186"
            ],
            [
             0.8,
             "#7fbc41"
            ],
            [
             0.9,
             "#4d9221"
            ],
            [
             1,
             "#276419"
            ]
           ],
           "sequential": [
            [
             0,
             "#0d0887"
            ],
            [
             0.1111111111111111,
             "#46039f"
            ],
            [
             0.2222222222222222,
             "#7201a8"
            ],
            [
             0.3333333333333333,
             "#9c179e"
            ],
            [
             0.4444444444444444,
             "#bd3786"
            ],
            [
             0.5555555555555556,
             "#d8576b"
            ],
            [
             0.6666666666666666,
             "#ed7953"
            ],
            [
             0.7777777777777778,
             "#fb9f3a"
            ],
            [
             0.8888888888888888,
             "#fdca26"
            ],
            [
             1,
             "#f0f921"
            ]
           ],
           "sequentialminus": [
            [
             0,
             "#0d0887"
            ],
            [
             0.1111111111111111,
             "#46039f"
            ],
            [
             0.2222222222222222,
             "#7201a8"
            ],
            [
             0.3333333333333333,
             "#9c179e"
            ],
            [
             0.4444444444444444,
             "#bd3786"
            ],
            [
             0.5555555555555556,
             "#d8576b"
            ],
            [
             0.6666666666666666,
             "#ed7953"
            ],
            [
             0.7777777777777778,
             "#fb9f3a"
            ],
            [
             0.8888888888888888,
             "#fdca26"
            ],
            [
             1,
             "#f0f921"
            ]
           ]
          },
          "colorway": [
           "#636efa",
           "#EF553B",
           "#00cc96",
           "#ab63fa",
           "#FFA15A",
           "#19d3f3",
           "#FF6692",
           "#B6E880",
           "#FF97FF",
           "#FECB52"
          ],
          "font": {
           "color": "#2a3f5f"
          },
          "geo": {
           "bgcolor": "white",
           "lakecolor": "white",
           "landcolor": "#E5ECF6",
           "showlakes": true,
           "showland": true,
           "subunitcolor": "white"
          },
          "hoverlabel": {
           "align": "left"
          },
          "hovermode": "closest",
          "mapbox": {
           "style": "light"
          },
          "paper_bgcolor": "white",
          "plot_bgcolor": "#E5ECF6",
          "polar": {
           "angularaxis": {
            "gridcolor": "white",
            "linecolor": "white",
            "ticks": ""
           },
           "bgcolor": "#E5ECF6",
           "radialaxis": {
            "gridcolor": "white",
            "linecolor": "white",
            "ticks": ""
           }
          },
          "scene": {
           "xaxis": {
            "backgroundcolor": "#E5ECF6",
            "gridcolor": "white",
            "gridwidth": 2,
            "linecolor": "white",
            "showbackground": true,
            "ticks": "",
            "zerolinecolor": "white"
           },
           "yaxis": {
            "backgroundcolor": "#E5ECF6",
            "gridcolor": "white",
            "gridwidth": 2,
            "linecolor": "white",
            "showbackground": true,
            "ticks": "",
            "zerolinecolor": "white"
           },
           "zaxis": {
            "backgroundcolor": "#E5ECF6",
            "gridcolor": "white",
            "gridwidth": 2,
            "linecolor": "white",
            "showbackground": true,
            "ticks": "",
            "zerolinecolor": "white"
           }
          },
          "shapedefaults": {
           "line": {
            "color": "#2a3f5f"
           }
          },
          "ternary": {
           "aaxis": {
            "gridcolor": "white",
            "linecolor": "white",
            "ticks": ""
           },
           "baxis": {
            "gridcolor": "white",
            "linecolor": "white",
            "ticks": ""
           },
           "bgcolor": "#E5ECF6",
           "caxis": {
            "gridcolor": "white",
            "linecolor": "white",
            "ticks": ""
           }
          },
          "title": {
           "x": 0.05
          },
          "xaxis": {
           "automargin": true,
           "gridcolor": "white",
           "linecolor": "white",
           "ticks": "",
           "title": {
            "standoff": 15
           },
           "zerolinecolor": "white",
           "zerolinewidth": 2
          },
          "yaxis": {
           "automargin": true,
           "gridcolor": "white",
           "linecolor": "white",
           "ticks": "",
           "title": {
            "standoff": 15
           },
           "zerolinecolor": "white",
           "zerolinewidth": 2
          }
         }
        },
        "width": 700
       }
      }
     },
     "metadata": {},
     "output_type": "display_data"
    }
   ],
   "source": [
    "variable = \"ending_trips_07\"\n",
    "\n",
    "fig = plot_frequency(\n",
    "    dataset=hexagons7_df,\n",
    "    variable=variable,\n",
    "    labels={variable: \"Ending Trips in Res7\"},\n",
    "    range_color=(0, hexagons7_df[variable].quantile(0.9)),\n",
    "    palette=\"reds\"\n",
    ")\n",
    "\n",
    "fig.show()"
   ]
  },
  {
   "cell_type": "markdown",
   "id": "9982bfee",
   "metadata": {},
   "source": [
    "Just like with the heatmaps we see a notable similarity between where taxi journeys begin and where they conclude on the map. This similarity suggests a connection between popular starting points and destinations across the city. This can lead to both commencing their journeys and completing them within the central areas. Rather than dispersing to other regions before leaving, many opt to stay within the center. In addition, the prominence of transportation hubs such as Airport O'Hare and Clearing naturally contributes to their dual role as popular starting and ending points. These hubs are central and accessible nodes for incoming and outgoing travel, making their significance self-explanatory."
   ]
  },
  {
   "cell_type": "markdown",
   "id": "e79af946",
   "metadata": {},
   "source": [
    "## Demand Difference"
   ]
  },
  {
   "cell_type": "markdown",
   "id": "cc9871eb",
   "metadata": {},
   "source": [
    "To compute the demand difference, we will subtract the count of ending trips from that of starting trips. Hence a positive demand difference in a hexagon means that there are more starting than ending trips, are presented by blue shade colors. Vice versa, red colored hexagons visualize locations where more ending trips happen and have a negative number. "
   ]
  },
  {
   "cell_type": "markdown",
   "id": "5302906e",
   "metadata": {},
   "source": [
    "### Overall"
   ]
  },
  {
   "cell_type": "code",
   "execution_count": 144,
   "id": "5f218ef9",
   "metadata": {},
   "outputs": [
    {
     "data": {
      "text/html": [
       "<div>\n",
       "<style scoped>\n",
       "    .dataframe tbody tr th:only-of-type {\n",
       "        vertical-align: middle;\n",
       "    }\n",
       "\n",
       "    .dataframe tbody tr th {\n",
       "        vertical-align: top;\n",
       "    }\n",
       "\n",
       "    .dataframe thead th {\n",
       "        text-align: right;\n",
       "    }\n",
       "</style>\n",
       "<table border=\"1\" class=\"dataframe\">\n",
       "  <thead>\n",
       "    <tr style=\"text-align: right;\">\n",
       "      <th></th>\n",
       "      <th>hex</th>\n",
       "      <th>geometry</th>\n",
       "      <th>starting_trips_07</th>\n",
       "      <th>ending_trips_07</th>\n",
       "      <th>pickup_name</th>\n",
       "      <th>demand_difference_07</th>\n",
       "    </tr>\n",
       "  </thead>\n",
       "  <tbody>\n",
       "    <tr>\n",
       "      <th>0</th>\n",
       "      <td>872664c1effffff</td>\n",
       "      <td>POLYGON ((-87.63048927308355 41.90755371098675...</td>\n",
       "      <td>7532228.0</td>\n",
       "      <td>6705006</td>\n",
       "      <td>Near North Side</td>\n",
       "      <td>827222.0</td>\n",
       "    </tr>\n",
       "    <tr>\n",
       "      <th>1</th>\n",
       "      <td>872664c12ffffff</td>\n",
       "      <td>POLYGON ((-87.6723729663648 41.93963771855481,...</td>\n",
       "      <td>122202.0</td>\n",
       "      <td>283480</td>\n",
       "      <td>Near North Side</td>\n",
       "      <td>-161278.0</td>\n",
       "    </tr>\n",
       "    <tr>\n",
       "      <th>2</th>\n",
       "      <td>872664c10ffffff</td>\n",
       "      <td>POLYGON ((-87.6427881340186 41.94402243665091,...</td>\n",
       "      <td>575439.0</td>\n",
       "      <td>808271</td>\n",
       "      <td>Near North Side</td>\n",
       "      <td>-232832.0</td>\n",
       "    </tr>\n",
       "  </tbody>\n",
       "</table>\n",
       "</div>"
      ],
      "text/plain": [
       "               hex                                           geometry  \\\n",
       "0  872664c1effffff  POLYGON ((-87.63048927308355 41.90755371098675...   \n",
       "1  872664c12ffffff  POLYGON ((-87.6723729663648 41.93963771855481,...   \n",
       "2  872664c10ffffff  POLYGON ((-87.6427881340186 41.94402243665091,...   \n",
       "\n",
       "   starting_trips_07  ending_trips_07      pickup_name  demand_difference_07  \n",
       "0          7532228.0          6705006  Near North Side              827222.0  \n",
       "1           122202.0           283480  Near North Side             -161278.0  \n",
       "2           575439.0           808271  Near North Side             -232832.0  "
      ]
     },
     "execution_count": 144,
     "metadata": {},
     "output_type": "execute_result"
    }
   ],
   "source": [
    "# Calculate demand difference\n",
    "hexagons7_df[\"demand_difference_07\"] = hexagons7_df[\"starting_trips_07\"] - hexagons7_df[\"ending_trips_07\"]\n",
    "hexagons7_df.head(3)"
   ]
  },
  {
   "cell_type": "code",
   "execution_count": 145,
   "id": "275e5119",
   "metadata": {},
   "outputs": [
    {
     "data": {
      "application/vnd.plotly.v1+json": {
       "config": {
        "plotlyServerURL": "https://plot.ly"
       },
       "data": [
        {
         "coloraxis": "coloraxis",
         "geojson": {
          "features": [
           {
            "geometry": {
             "coordinates": [
              [
               [
                -87.630489,
                41.907554
               ],
               [
                -87.643222,
                41.899289
               ],
               [
                -87.639124,
                41.887138
               ],
               [
                -87.622301,
                41.883249
               ],
               [
                -87.609568,
                41.891509
               ],
               [
                -87.613658,
                41.903663
               ],
               [
                -87.630489,
                41.907554
               ]
              ]
             ],
             "type": "Polygon"
            },
            "id": "872664c1effffff",
            "properties": {
             "value": 827222
            },
            "type": "Feature"
           },
           {
            "geometry": {
             "coordinates": [
              [
               [
                -87.672373,
                41.939638
               ],
               [
                -87.685106,
                41.931365
               ],
               [
                -87.680995,
                41.919211
               ],
               [
                -87.664157,
                41.915328
               ],
               [
                -87.651424,
                41.923596
               ],
               [
                -87.655529,
                41.935752
               ],
               [
                -87.672373,
                41.939638
               ]
              ]
             ],
             "type": "Polygon"
            },
            "id": "872664c12ffffff",
            "properties": {
             "value": -161278
            },
            "type": "Feature"
           },
           {
            "geometry": {
             "coordinates": [
              [
               [
                -87.642788,
                41.944022
               ],
               [
                -87.655529,
                41.935752
               ],
               [
                -87.651424,
                41.923596
               ],
               [
                -87.634587,
                41.919708
               ],
               [
                -87.621846,
                41.927975
               ],
               [
                -87.625943,
                41.940133
               ],
               [
                -87.642788,
                41.944022
               ]
              ]
             ],
             "type": "Polygon"
            },
            "id": "872664c10ffffff",
            "properties": {
             "value": -232832
            },
            "type": "Feature"
           },
           {
            "geometry": {
             "coordinates": [
              [
               [
                -87.680995,
                41.919211
               ],
               [
                -87.69372,
                41.91094
               ],
               [
                -87.689609,
                41.89879
               ],
               [
                -87.672778,
                41.894908
               ],
               [
                -87.660053,
                41.903175
               ],
               [
                -87.664157,
                41.915328
               ],
               [
                -87.680995,
                41.919211
               ]
              ]
             ],
             "type": "Polygon"
            },
            "id": "872664cacffffff",
            "properties": {
             "value": -100399
            },
            "type": "Feature"
           },
           {
            "geometry": {
             "coordinates": [
              [
               [
                -87.634144,
                41.964453
               ],
               [
                -87.646892,
                41.956182
               ],
               [
                -87.642788,
                41.944022
               ],
               [
                -87.625943,
                41.940133
               ],
               [
                -87.613196,
                41.9484
               ],
               [
                -87.617292,
                41.960561
               ],
               [
                -87.634144,
                41.964453
               ]
              ]
             ],
             "type": "Polygon"
            },
            "id": "872664c14ffffff",
            "properties": {
             "value": -9227
            },
            "type": "Feature"
           },
           {
            "geometry": {
             "coordinates": [
              [
               [
                -87.655106,
                41.980505
               ],
               [
                -87.667854,
                41.972229
               ],
               [
                -87.663743,
                41.960069
               ],
               [
                -87.646892,
                41.956182
               ],
               [
                -87.634144,
                41.964453
               ],
               [
                -87.638248,
                41.976616
               ],
               [
                -87.655106,
                41.980505
               ]
              ]
             ],
             "type": "Polygon"
            },
            "id": "872664d89ffffff",
            "properties": {
             "value": -73300
            },
            "type": "Feature"
           },
           {
            "geometry": {
             "coordinates": [
              [
               [
                -87.660053,
                41.903175
               ],
               [
                -87.672778,
                41.894908
               ],
               [
                -87.668673,
                41.882759
               ],
               [
                -87.65185,
                41.878875
               ],
               [
                -87.639124,
                41.887138
               ],
               [
                -87.643222,
                41.899289
               ],
               [
                -87.660053,
                41.903175
               ]
              ]
             ],
             "type": "Polygon"
            },
            "id": "872664cadffffff",
            "properties": {
             "value": -206893
            },
            "type": "Feature"
           },
           {
            "geometry": {
             "coordinates": [
              [
               [
                -87.663743,
                41.960069
               ],
               [
                -87.676484,
                41.951795
               ],
               [
                -87.672373,
                41.939638
               ],
               [
                -87.655529,
                41.935752
               ],
               [
                -87.642788,
                41.944022
               ],
               [
                -87.646892,
                41.956182
               ],
               [
                -87.663743,
                41.960069
               ]
              ]
             ],
             "type": "Polygon"
            },
            "id": "872664c16ffffff",
            "properties": {
             "value": -40627
            },
            "type": "Feature"
           },
           {
            "geometry": {
             "coordinates": [
              [
               [
                -87.646461,
                42.000945
               ],
               [
                -87.659216,
                41.992668
               ],
               [
                -87.655106,
                41.980505
               ],
               [
                -87.638248,
                41.976616
               ],
               [
                -87.625492,
                41.984889
               ],
               [
                -87.629595,
                41.997054
               ],
               [
                -87.646461,
                42.000945
               ]
              ]
             ],
             "type": "Polygon"
            },
            "id": "872664d8dffffff",
            "properties": {
             "value": -5131
            },
            "type": "Feature"
           },
           {
            "geometry": {
             "coordinates": [
              [
               [
                -87.639124,
                41.887138
               ],
               [
                -87.65185,
                41.878875
               ],
               [
                -87.647752,
                41.866726
               ],
               [
                -87.630935,
                41.862839
               ],
               [
                -87.618209,
                41.871098
               ],
               [
                -87.622301,
                41.883249
               ],
               [
                -87.639124,
                41.887138
               ]
              ]
             ],
             "type": "Polygon"
            },
            "id": "872664c1affffff",
            "properties": {
             "value": 325013
            },
            "type": "Feature"
           },
           {
            "geometry": {
             "coordinates": [
              [
               [
                -87.621846,
                41.927975
               ],
               [
                -87.634587,
                41.919708
               ],
               [
                -87.630489,
                41.907554
               ],
               [
                -87.613658,
                41.903663
               ],
               [
                -87.600918,
                41.911925
               ],
               [
                -87.605008,
                41.924082
               ],
               [
                -87.621846,
                41.927975
               ]
              ]
             ],
             "type": "Polygon"
            },
            "id": "872664c11ffffff",
            "properties": {
             "value": -59047
            },
            "type": "Feature"
           },
           {
            "geometry": {
             "coordinates": [
              [
               [
                -87.70195,
                41.935246
               ],
               [
                -87.714676,
                41.926971
               ],
               [
                -87.710557,
                41.914819
               ],
               [
                -87.69372,
                41.91094
               ],
               [
                -87.680995,
                41.919211
               ],
               [
                -87.685106,
                41.931365
               ],
               [
                -87.70195,
                41.935246
               ]
              ]
             ],
             "type": "Polygon"
            },
            "id": "872664ca1ffffff",
            "properties": {
             "value": -34504
            },
            "type": "Feature"
           },
           {
            "geometry": {
             "coordinates": [
              [
               [
                -87.651424,
                41.923596
               ],
               [
                -87.664157,
                41.915328
               ],
               [
                -87.660053,
                41.903175
               ],
               [
                -87.643222,
                41.899289
               ],
               [
                -87.630489,
                41.907554
               ],
               [
                -87.634587,
                41.919708
               ],
               [
                -87.651424,
                41.923596
               ]
              ]
             ],
             "type": "Polygon"
            },
            "id": "872664c13ffffff",
            "properties": {
             "value": -74176
            },
            "type": "Feature"
           },
           {
            "geometry": {
             "coordinates": [
              [
               [
                -87.585067,
                41.81862
               ],
               [
                -87.597785,
                41.81037
               ],
               [
                -87.593707,
                41.798229
               ],
               [
                -87.576917,
                41.794335
               ],
               [
                -87.564199,
                41.802581
               ],
               [
                -87.568271,
                41.814724
               ],
               [
                -87.585067,
                41.81862
               ]
              ]
             ],
             "type": "Polygon"
            },
            "id": "872664ce3ffffff",
            "properties": {
             "value": -1293
            },
            "type": "Feature"
           },
           {
            "geometry": {
             "coordinates": [
              [
               [
                -87.618209,
                41.871098
               ],
               [
                -87.630935,
                41.862839
               ],
               [
                -87.626843,
                41.850692
               ],
               [
                -87.610033,
                41.846803
               ],
               [
                -87.597308,
                41.855058
               ],
               [
                -87.601392,
                41.867207
               ],
               [
                -87.618209,
                41.871098
               ]
              ]
             ],
             "type": "Polygon"
            },
            "id": "872664c1bffffff",
            "properties": {
             "value": -143984
            },
            "type": "Feature"
           },
           {
            "geometry": {
             "coordinates": [
              [
               [
                -87.693335,
                41.955677
               ],
               [
                -87.706068,
                41.947401
               ],
               [
                -87.70195,
                41.935246
               ],
               [
                -87.685106,
                41.931365
               ],
               [
                -87.672373,
                41.939638
               ],
               [
                -87.676484,
                41.951795
               ],
               [
                -87.693335,
                41.955677
               ]
              ]
             ],
             "type": "Polygon"
            },
            "id": "872664ca5ffffff",
            "properties": {
             "value": -28845
            },
            "type": "Feature"
           },
           {
            "geometry": {
             "coordinates": [
              [
               [
                -87.684712,
                41.976114
               ],
               [
                -87.697453,
                41.967836
               ],
               [
                -87.693335,
                41.955677
               ],
               [
                -87.676484,
                41.951795
               ],
               [
                -87.663743,
                41.960069
               ],
               [
                -87.667854,
                41.972229
               ],
               [
                -87.684712,
                41.976114
               ]
              ]
             ],
             "type": "Polygon"
            },
            "id": "872664d8bffffff",
            "properties": {
             "value": -40301
            },
            "type": "Feature"
           },
           {
            "geometry": {
             "coordinates": [
              [
               [
                -87.667443,
                42.017
               ],
               [
                -87.680199,
                42.008719
               ],
               [
                -87.676082,
                41.996555
               ],
               [
                -87.659216,
                41.992668
               ],
               [
                -87.646461,
                42.000945
               ],
               [
                -87.650571,
                42.013112
               ],
               [
                -87.667443,
                42.017
               ]
              ]
             ],
             "type": "Polygon"
            },
            "id": "872664d8cffffff",
            "properties": {
             "value": -13535
            },
            "type": "Feature"
           },
           {
            "geometry": {
             "coordinates": [
              [
               [
                -87.647752,
                41.866726
               ],
               [
                -87.66047,
                41.858465
               ],
               [
                -87.656371,
                41.84632
               ],
               [
                -87.639562,
                41.842435
               ],
               [
                -87.626843,
                41.850692
               ],
               [
                -87.630935,
                41.862839
               ],
               [
                -87.647752,
                41.866726
               ]
              ]
             ],
             "type": "Polygon"
            },
            "id": "872664cf4ffffff",
            "properties": {
             "value": -37821
            },
            "type": "Feature"
           },
           {
            "geometry": {
             "coordinates": [
              [
               [
                -87.722919,
                41.951279
               ],
               [
                -87.735644,
                41.943
               ],
               [
                -87.731519,
                41.930847
               ],
               [
                -87.714676,
                41.926971
               ],
               [
                -87.70195,
                41.935246
               ],
               [
                -87.706068,
                41.947401
               ],
               [
                -87.722919,
                41.951279
               ]
              ]
             ],
             "type": "Polygon"
            },
            "id": "872664ca0ffffff",
            "properties": {
             "value": -11705
            },
            "type": "Feature"
           },
           {
            "geometry": {
             "coordinates": [
              [
               [
                -87.904243,
                41.981624
               ],
               [
                -87.916939,
                41.973323
               ],
               [
                -87.912765,
                41.961175
               ],
               [
                -87.895903,
                41.957326
               ],
               [
                -87.883207,
                41.965622
               ],
               [
                -87.887374,
                41.977772
               ],
               [
                -87.904243,
                41.981624
               ]
              ]
             ],
             "type": "Polygon"
            },
            "id": "87275934effffff",
            "properties": {
             "value": 275388
            },
            "type": "Feature"
           },
           {
            "geometry": {
             "coordinates": [
              [
               [
                -87.676082,
                41.996555
               ],
               [
                -87.68883,
                41.988275
               ],
               [
                -87.684712,
                41.976114
               ],
               [
                -87.667854,
                41.972229
               ],
               [
                -87.655106,
                41.980505
               ],
               [
                -87.659216,
                41.992668
               ],
               [
                -87.676082,
                41.996555
               ]
              ]
             ],
             "type": "Polygon"
            },
            "id": "872664d88ffffff",
            "properties": {
             "value": -15424
            },
            "type": "Feature"
           },
           {
            "geometry": {
             "coordinates": [
              [
               [
                -87.668673,
                41.882759
               ],
               [
                -87.681392,
                41.874493
               ],
               [
                -87.677286,
                41.862347
               ],
               [
                -87.66047,
                41.858465
               ],
               [
                -87.647752,
                41.866726
               ],
               [
                -87.65185,
                41.878875
               ],
               [
                -87.668673,
                41.882759
               ]
              ]
             ],
             "type": "Polygon"
            },
            "id": "872664ca9ffffff",
            "properties": {
             "value": -140493
            },
            "type": "Feature"
           },
           {
            "geometry": {
             "coordinates": [
              [
               [
                -87.626843,
                41.850692
               ],
               [
                -87.639562,
                41.842435
               ],
               [
                -87.63547,
                41.830291
               ],
               [
                -87.618667,
                41.826403
               ],
               [
                -87.605949,
                41.834657
               ],
               [
                -87.610033,
                41.846803
               ],
               [
                -87.626843,
                41.850692
               ]
              ]
             ],
             "type": "Polygon"
            },
            "id": "872664cf5ffffff",
            "properties": {
             "value": -17790
            },
            "type": "Feature"
           },
           {
            "geometry": {
             "coordinates": [
              [
               [
                -87.705694,
                41.992157
               ],
               [
                -87.718435,
                41.983875
               ],
               [
                -87.714311,
                41.971715
               ],
               [
                -87.697453,
                41.967836
               ],
               [
                -87.684712,
                41.976114
               ],
               [
                -87.68883,
                41.988275
               ],
               [
                -87.705694,
                41.992157
               ]
              ]
             ],
             "type": "Polygon"
            },
            "id": "872664d8affffff",
            "properties": {
             "value": -8906
            },
            "type": "Feature"
           },
           {
            "geometry": {
             "coordinates": [
              [
               [
                -87.689609,
                41.89879
               ],
               [
                -87.702327,
                41.89052
               ],
               [
                -87.698215,
                41.878373
               ],
               [
                -87.681392,
                41.874493
               ],
               [
                -87.668673,
                41.882759
               ],
               [
                -87.672778,
                41.894908
               ],
               [
                -87.689609,
                41.89879
               ]
              ]
             ],
             "type": "Polygon"
            },
            "id": "872664ca8ffffff",
            "properties": {
             "value": -14928
            },
            "type": "Feature"
           },
           {
            "geometry": {
             "coordinates": [
              [
               [
                -87.697071,
                42.012603
               ],
               [
                -87.709819,
                42.00432
               ],
               [
                -87.705694,
                41.992157
               ],
               [
                -87.68883,
                41.988275
               ],
               [
                -87.676082,
                41.996555
               ],
               [
                -87.680199,
                42.008719
               ],
               [
                -87.697071,
                42.012603
               ]
              ]
             ],
             "type": "Polygon"
            },
            "id": "872664d8effffff",
            "properties": {
             "value": -1576
            },
            "type": "Feature"
           },
           {
            "geometry": {
             "coordinates": [
              [
               [
                -87.714311,
                41.971715
               ],
               [
                -87.727044,
                41.963435
               ],
               [
                -87.722919,
                41.951279
               ],
               [
                -87.706068,
                41.947401
               ],
               [
                -87.693335,
                41.955677
               ],
               [
                -87.697453,
                41.967836
               ],
               [
                -87.714311,
                41.971715
               ]
              ]
             ],
             "type": "Polygon"
            },
            "id": "872664ca4ffffff",
            "properties": {
             "value": -9088
            },
            "type": "Feature"
           },
           {
            "geometry": {
             "coordinates": [
              [
               [
                -87.762037,
                41.79236
               ],
               [
                -87.774711,
                41.784096
               ],
               [
                -87.77059,
                41.771967
               ],
               [
                -87.753802,
                41.768101
               ],
               [
                -87.741129,
                41.776362
               ],
               [
                -87.745242,
                41.788492
               ],
               [
                -87.762037,
                41.79236
               ]
              ]
             ],
             "type": "Polygon"
            },
            "id": "872664521ffffff",
            "properties": {
             "value": 86492
            },
            "type": "Feature"
           },
           {
            "geometry": {
             "coordinates": [
              [
               [
                -87.710557,
                41.914819
               ],
               [
                -87.723275,
                41.906546
               ],
               [
                -87.719157,
                41.894397
               ],
               [
                -87.702327,
                41.89052
               ],
               [
                -87.689609,
                41.89879
               ],
               [
                -87.69372,
                41.91094
               ],
               [
                -87.710557,
                41.914819
               ]
              ]
             ],
             "type": "Polygon"
            },
            "id": "872664caeffffff",
            "properties": {
             "value": -9288
            },
            "type": "Feature"
           },
           {
            "geometry": {
             "coordinates": [
              [
               [
                -87.743901,
                41.96731
               ],
               [
                -87.756627,
                41.959027
               ],
               [
                -87.752495,
                41.946873
               ],
               [
                -87.735644,
                41.943
               ],
               [
                -87.722919,
                41.951279
               ],
               [
                -87.727044,
                41.963435
               ],
               [
                -87.743901,
                41.96731
               ]
              ]
             ],
             "type": "Polygon"
            },
            "id": "872664ca6ffffff",
            "properties": {
             "value": -1847
            },
            "type": "Feature"
           },
           {
            "geometry": {
             "coordinates": [
              [
               [
                -87.764897,
                41.98334
               ],
               [
                -87.777622,
                41.975053
               ],
               [
                -87.773484,
                41.962898
               ],
               [
                -87.756627,
                41.959027
               ],
               [
                -87.743901,
                41.96731
               ],
               [
                -87.748033,
                41.979468
               ],
               [
                -87.764897,
                41.98334
               ]
              ]
             ],
             "type": "Polygon"
            },
            "id": "872664d9bffffff",
            "properties": {
             "value": 643
            },
            "type": "Feature"
           },
           {
            "geometry": {
             "coordinates": [
              [
               [
                -87.7353,
                41.987752
               ],
               [
                -87.748033,
                41.979468
               ],
               [
                -87.743901,
                41.96731
               ],
               [
                -87.727044,
                41.963435
               ],
               [
                -87.714311,
                41.971715
               ],
               [
                -87.718435,
                41.983875
               ],
               [
                -87.7353,
                41.987752
               ]
              ]
             ],
             "type": "Polygon"
            },
            "id": "872664d99ffffff",
            "properties": {
             "value": -45
            },
            "type": "Feature"
           },
           {
            "geometry": {
             "coordinates": [
              [
               [
                -87.677286,
                41.862347
               ],
               [
                -87.689997,
                41.854083
               ],
               [
                -87.685891,
                41.841941
               ],
               [
                -87.669082,
                41.83806
               ],
               [
                -87.656371,
                41.84632
               ],
               [
                -87.66047,
                41.858465
               ],
               [
                -87.677286,
                41.862347
               ]
              ]
             ],
             "type": "Polygon"
            },
            "id": "872664cf6ffffff",
            "properties": {
             "value": -1388
            },
            "type": "Feature"
           },
           {
            "geometry": {
             "coordinates": [
              [
               [
                -87.731519,
                41.930847
               ],
               [
                -87.744237,
                41.92257
               ],
               [
                -87.740112,
                41.91042
               ],
               [
                -87.723275,
                41.906546
               ],
               [
                -87.710557,
                41.914819
               ],
               [
                -87.714676,
                41.926971
               ],
               [
                -87.731519,
                41.930847
               ]
              ]
             ],
             "type": "Polygon"
            },
            "id": "872664ca3ffffff",
            "properties": {
             "value": -689
            },
            "type": "Feature"
           },
           {
            "geometry": {
             "coordinates": [
              [
               [
                -87.593707,
                41.798229
               ],
               [
                -87.606417,
                41.78998
               ],
               [
                -87.602338,
                41.777842
               ],
               [
                -87.585556,
                41.773951
               ],
               [
                -87.572845,
                41.782195
               ],
               [
                -87.576917,
                41.794335
               ],
               [
                -87.593707,
                41.798229
               ]
              ]
             ],
             "type": "Polygon"
            },
            "id": "872664cc5ffffff",
            "properties": {
             "value": -7005
            },
            "type": "Feature"
           },
           {
            "geometry": {
             "coordinates": [
              [
               [
                -87.773484,
                41.962898
               ],
               [
                -87.786202,
                41.954613
               ],
               [
                -87.782063,
                41.942461
               ],
               [
                -87.765213,
                41.938592
               ],
               [
                -87.752495,
                41.946873
               ],
               [
                -87.756627,
                41.959027
               ],
               [
                -87.773484,
                41.962898
               ]
              ]
             ],
             "type": "Polygon"
            },
            "id": "872664cb5ffffff",
            "properties": {
             "value": -76
            },
            "type": "Feature"
           },
           {
            "geometry": {
             "coordinates": [
              [
               [
                -87.685891,
                41.841941
               ],
               [
                -87.698595,
                41.833678
               ],
               [
                -87.694489,
                41.821539
               ],
               [
                -87.677686,
                41.81766
               ],
               [
                -87.664983,
                41.825918
               ],
               [
                -87.669082,
                41.83806
               ],
               [
                -87.685891,
                41.841941
               ]
              ]
             ],
             "type": "Polygon"
            },
            "id": "872664cf2ffffff",
            "properties": {
             "value": -281
            },
            "type": "Feature"
           },
           {
            "geometry": {
             "coordinates": [
              [
               [
                -87.782063,
                41.942461
               ],
               [
                -87.794774,
                41.934177
               ],
               [
                -87.790634,
                41.922028
               ],
               [
                -87.773791,
                41.918162
               ],
               [
                -87.761081,
                41.926441
               ],
               [
                -87.765213,
                41.938592
               ],
               [
                -87.782063,
                41.942461
               ]
              ]
             ],
             "type": "Polygon"
            },
            "id": "872664cb1ffffff",
            "properties": {
             "value": -15
            },
            "type": "Feature"
           },
           {
            "geometry": {
             "coordinates": [
              [
               [
                -87.605949,
                41.834657
               ],
               [
                -87.618667,
                41.826403
               ],
               [
                -87.614581,
                41.814261
               ],
               [
                -87.597785,
                41.81037
               ],
               [
                -87.585067,
                41.81862
               ],
               [
                -87.589145,
                41.830764
               ],
               [
                -87.605949,
                41.834657
               ]
              ]
             ],
             "type": "Polygon"
            },
            "id": "872664ce2ffffff",
            "properties": {
             "value": -281
            },
            "type": "Feature"
           },
           {
            "geometry": {
             "coordinates": [
              [
               [
                -87.640433,
                41.753101
               ],
               [
                -87.653122,
                41.744853
               ],
               [
                -87.649035,
                41.732724
               ],
               [
                -87.632267,
                41.72884
               ],
               [
                -87.619579,
                41.737084
               ],
               [
                -87.623658,
                41.749216
               ],
               [
                -87.640433,
                41.753101
               ]
              ]
             ],
             "type": "Polygon"
            },
            "id": "872664cddffffff",
            "properties": {
             "value": -4
            },
            "type": "Feature"
           },
           {
            "geometry": {
             "coordinates": [
              [
               [
                -87.782959,
                41.808357
               ],
               [
                -87.795632,
                41.800089
               ],
               [
                -87.791505,
                41.787959
               ],
               [
                -87.774711,
                41.784096
               ],
               [
                -87.762037,
                41.79236
               ],
               [
                -87.766158,
                41.804492
               ],
               [
                -87.782959,
                41.808357
               ]
              ]
             ],
             "type": "Polygon"
            },
            "id": "872664520ffffff",
            "properties": {
             "value": -17
            },
            "type": "Feature"
           },
           {
            "geometry": {
             "coordinates": [
              [
               [
                -87.698215,
                41.878373
               ],
               [
                -87.710925,
                41.870105
               ],
               [
                -87.706813,
                41.857961
               ],
               [
                -87.689997,
                41.854083
               ],
               [
                -87.677286,
                41.862347
               ],
               [
                -87.681392,
                41.874493
               ],
               [
                -87.698215,
                41.878373
               ]
              ]
             ],
             "type": "Polygon"
            },
            "id": "872664cabffffff",
            "properties": {
             "value": -1506
            },
            "type": "Feature"
           },
           {
            "geometry": {
             "coordinates": [
              [
               [
                -87.756302,
                42.003787
               ],
               [
                -87.769035,
                41.995499
               ],
               [
                -87.764897,
                41.98334
               ],
               [
                -87.748033,
                41.979468
               ],
               [
                -87.7353,
                41.987752
               ],
               [
                -87.739431,
                41.999913
               ],
               [
                -87.756302,
                42.003787
               ]
              ]
             ],
             "type": "Polygon"
            },
            "id": "872664d98ffffff",
            "properties": {
             "value": -235
            },
            "type": "Feature"
           },
           {
            "geometry": {
             "coordinates": [
              [
               [
                -87.761081,
                41.926441
               ],
               [
                -87.773791,
                41.918162
               ],
               [
                -87.769659,
                41.906014
               ],
               [
                -87.752823,
                41.902144
               ],
               [
                -87.740112,
                41.91042
               ],
               [
                -87.744237,
                41.92257
               ],
               [
                -87.761081,
                41.926441
               ]
              ]
             ],
             "type": "Polygon"
            },
            "id": "872664c84ffffff",
            "properties": {
             "value": -25
            },
            "type": "Feature"
           },
           {
            "geometry": {
             "coordinates": [
              [
               [
                -87.656371,
                41.84632
               ],
               [
                -87.669082,
                41.83806
               ],
               [
                -87.664983,
                41.825918
               ],
               [
                -87.64818,
                41.822035
               ],
               [
                -87.63547,
                41.830291
               ],
               [
                -87.639562,
                41.842435
               ],
               [
                -87.656371,
                41.84632
               ]
              ]
             ],
             "type": "Polygon"
            },
            "id": "872664cf0ffffff",
            "properties": {
             "value": -910
            },
            "type": "Feature"
           },
           {
            "geometry": {
             "coordinates": [
              [
               [
                -87.688439,
                42.033054
               ],
               [
                -87.701194,
                42.024769
               ],
               [
                -87.697071,
                42.012603
               ],
               [
                -87.680199,
                42.008719
               ],
               [
                -87.667443,
                42.017
               ],
               [
                -87.67156,
                42.029168
               ],
               [
                -87.688439,
                42.033054
               ]
              ]
             ],
             "type": "Polygon"
            },
            "id": "872664d81ffffff",
            "properties": {
             "value": -664
            },
            "type": "Feature"
           },
           {
            "geometry": {
             "coordinates": [
              [
               [
                -87.815502,
                41.994943
               ],
               [
                -87.82822,
                41.98665
               ],
               [
                -87.824068,
                41.974495
               ],
               [
                -87.807204,
                41.970632
               ],
               [
                -87.794486,
                41.978921
               ],
               [
                -87.798632,
                41.991078
               ],
               [
                -87.815502,
                41.994943
               ]
              ]
             ],
             "type": "Polygon"
            },
            "id": "872759369ffffff",
            "properties": {
             "value": -123
            },
            "type": "Feature"
           },
           {
            "geometry": {
             "coordinates": [
              [
               [
                -87.752495,
                41.946873
               ],
               [
                -87.765213,
                41.938592
               ],
               [
                -87.761081,
                41.926441
               ],
               [
                -87.744237,
                41.92257
               ],
               [
                -87.731519,
                41.930847
               ],
               [
                -87.735644,
                41.943
               ],
               [
                -87.752495,
                41.946873
               ]
              ]
             ],
             "type": "Polygon"
            },
            "id": "872664ca2ffffff",
            "properties": {
             "value": -168
            },
            "type": "Feature"
           },
           {
            "geometry": {
             "coordinates": [
              [
               [
                -87.614581,
                41.814261
               ],
               [
                -87.627292,
                41.806008
               ],
               [
                -87.623207,
                41.793869
               ],
               [
                -87.606417,
                41.78998
               ],
               [
                -87.593707,
                41.798229
               ],
               [
                -87.597785,
                41.81037
               ],
               [
                -87.614581,
                41.814261
               ]
              ]
             ],
             "type": "Polygon"
            },
            "id": "872664cc4ffffff",
            "properties": {
             "value": -473
            },
            "type": "Feature"
           },
           {
            "geometry": {
             "coordinates": [
              [
               [
                -87.72669,
                42.008198
               ],
               [
                -87.739431,
                41.999913
               ],
               [
                -87.7353,
                41.987752
               ],
               [
                -87.718435,
                41.983875
               ],
               [
                -87.705694,
                41.992157
               ],
               [
                -87.709819,
                42.00432
               ],
               [
                -87.72669,
                42.008198
               ]
              ]
             ],
             "type": "Polygon"
            },
            "id": "872664d9dffffff",
            "properties": {
             "value": -79
            },
            "type": "Feature"
           },
           {
            "geometry": {
             "coordinates": [
              [
               [
                -87.845091,
                41.99051
               ],
               [
                -87.857801,
                41.982214
               ],
               [
                -87.853642,
                41.970062
               ],
               [
                -87.836778,
                41.966204
               ],
               [
                -87.824068,
                41.974495
               ],
               [
                -87.82822,
                41.98665
               ],
               [
                -87.845091,
                41.99051
               ]
              ]
             ],
             "type": "Polygon"
            },
            "id": "87275936bffffff",
            "properties": {
             "value": -4084
            },
            "type": "Feature"
           },
           {
            "geometry": {
             "coordinates": [
              [
               [
                -87.753476,
                41.812758
               ],
               [
                -87.766158,
                41.804492
               ],
               [
                -87.762037,
                41.79236
               ],
               [
                -87.745242,
                41.788492
               ],
               [
                -87.732561,
                41.796754
               ],
               [
                -87.736675,
                41.808888
               ],
               [
                -87.753476,
                41.812758
               ]
              ]
             ],
             "type": "Polygon"
            },
            "id": "872664525ffffff",
            "properties": {
             "value": -88
            },
            "type": "Feature"
           },
           {
            "geometry": {
             "coordinates": [
              [
               [
                -87.590114,
                41.741438
               ],
               [
                -87.60281,
                41.733196
               ],
               [
                -87.598737,
                41.721066
               ],
               [
                -87.581975,
                41.717176
               ],
               [
                -87.56928,
                41.725413
               ],
               [
                -87.573346,
                41.737545
               ],
               [
                -87.590114,
                41.741438
               ]
              ]
             ],
             "type": "Polygon"
            },
            "id": "872664cc8ffffff",
            "properties": {
             "value": 0
            },
            "type": "Feature"
           },
           {
            "geometry": {
             "coordinates": [
              [
               [
                -87.727748,
                41.87398
               ],
               [
                -87.740452,
                41.86571
               ],
               [
                -87.736332,
                41.853568
               ],
               [
                -87.719516,
                41.849695
               ],
               [
                -87.706813,
                41.857961
               ],
               [
                -87.710925,
                41.870105
               ],
               [
                -87.727748,
                41.87398
               ]
              ]
             ],
             "type": "Polygon"
            },
            "id": "872664c8cffffff",
            "properties": {
             "value": -9
            },
            "type": "Feature"
           },
           {
            "geometry": {
             "coordinates": [
              [
               [
                -87.718073,
                42.02865
               ],
               [
                -87.730821,
                42.020362
               ],
               [
                -87.72669,
                42.008198
               ],
               [
                -87.709819,
                42.00432
               ],
               [
                -87.697071,
                42.012603
               ],
               [
                -87.701194,
                42.024769
               ],
               [
                -87.718073,
                42.02865
               ]
              ]
             ],
             "type": "Polygon"
            },
            "id": "872664d83ffffff",
            "properties": {
             "value": -59
            },
            "type": "Feature"
           },
           {
            "geometry": {
             "coordinates": [
              [
               [
                -87.794486,
                41.978921
               ],
               [
                -87.807204,
                41.970632
               ],
               [
                -87.803059,
                41.958479
               ],
               [
                -87.786202,
                41.954613
               ],
               [
                -87.773484,
                41.962898
               ],
               [
                -87.777622,
                41.975053
               ],
               [
                -87.794486,
                41.978921
               ]
              ]
             ],
             "type": "Polygon"
            },
            "id": "872664cb4ffffff",
            "properties": {
             "value": -48
            },
            "type": "Feature"
           },
           {
            "geometry": {
             "coordinates": [
              [
               [
                -87.744908,
                41.833161
               ],
               [
                -87.757597,
                41.824893
               ],
               [
                -87.753476,
                41.812758
               ],
               [
                -87.736675,
                41.808888
               ],
               [
                -87.723986,
                41.817152
               ],
               [
                -87.728099,
                41.829289
               ],
               [
                -87.744908,
                41.833161
               ]
              ]
             ],
             "type": "Polygon"
            },
            "id": "872664c8bffffff",
            "properties": {
             "value": -9
            },
            "type": "Feature"
           },
           {
            "geometry": {
             "coordinates": [
              [
               [
                -87.694489,
                41.821539
               ],
               [
                -87.707184,
                41.813277
               ],
               [
                -87.703078,
                41.801141
               ],
               [
                -87.686283,
                41.797264
               ],
               [
                -87.673587,
                41.805521
               ],
               [
                -87.677686,
                41.81766
               ],
               [
                -87.694489,
                41.821539
               ]
              ]
             ],
             "type": "Polygon"
            },
            "id": "872664cd4ffffff",
            "properties": {
             "value": 9
            },
            "type": "Feature"
           },
           {
            "geometry": {
             "coordinates": [
              [
               [
                -87.720234,
                41.760361
               ],
               [
                -87.732907,
                41.752105
               ],
               [
                -87.7288,
                41.739979
               ],
               [
                -87.712026,
                41.736107
               ],
               [
                -87.699352,
                41.74436
               ],
               [
                -87.703453,
                41.756488
               ],
               [
                -87.720234,
                41.760361
               ]
              ]
             ],
             "type": "Polygon"
            },
            "id": "87266452dffffff",
            "properties": {
             "value": -3
            },
            "type": "Feature"
           },
           {
            "geometry": {
             "coordinates": [
              [
               [
                -87.791505,
                41.787959
               ],
               [
                -87.804171,
                41.779692
               ],
               [
                -87.800043,
                41.767566
               ],
               [
                -87.783256,
                41.763704
               ],
               [
                -87.77059,
                41.771967
               ],
               [
                -87.774711,
                41.784096
               ],
               [
                -87.791505,
                41.787959
               ]
              ]
             ],
             "type": "Polygon"
            },
            "id": "872664523ffffff",
            "properties": {
             "value": 0
            },
            "type": "Feature"
           },
           {
            "geometry": {
             "coordinates": [
              [
               [
                -87.91677,
                42.018081
               ],
               [
                -87.929473,
                42.009776
               ],
               [
                -87.925293,
                41.997623
               ],
               [
                -87.908417,
                41.993775
               ],
               [
                -87.895714,
                42.002077
               ],
               [
                -87.899887,
                42.014231
               ],
               [
                -87.91677,
                42.018081
               ]
              ]
             ],
             "type": "Polygon"
            },
            "id": "872759340ffffff",
            "properties": {
             "value": -576
            },
            "type": "Feature"
           },
           {
            "geometry": {
             "coordinates": [
              [
               [
                -87.853642,
                41.970062
               ],
               [
                -87.866345,
                41.961768
               ],
               [
                -87.862185,
                41.949619
               ],
               [
                -87.845329,
                41.945762
               ],
               [
                -87.832626,
                41.954053
               ],
               [
                -87.836778,
                41.966204
               ],
               [
                -87.853642,
                41.970062
               ]
              ]
             ],
             "type": "Polygon"
            },
            "id": "87275934dffffff",
            "properties": {
             "value": 0
            },
            "type": "Feature"
           },
           {
            "geometry": {
             "coordinates": [
              [
               [
                -87.666215,
                41.691984
               ],
               [
                -87.678882,
                41.683741
               ],
               [
                -87.674794,
                41.671622
               ],
               [
                -87.658047,
                41.667744
               ],
               [
                -87.64538,
                41.675983
               ],
               [
                -87.649461,
                41.688105
               ],
               [
                -87.666215,
                41.691984
               ]
              ]
             ],
             "type": "Polygon"
            },
            "id": "872664562ffffff",
            "properties": {
             "value": 0
            },
            "type": "Feature"
           },
           {
            "geometry": {
             "coordinates": [
              [
               [
                -87.63547,
                41.830291
               ],
               [
                -87.64818,
                41.822035
               ],
               [
                -87.644088,
                41.809895
               ],
               [
                -87.627292,
                41.806008
               ],
               [
                -87.614581,
                41.814261
               ],
               [
                -87.618667,
                41.826403
               ],
               [
                -87.63547,
                41.830291
               ]
              ]
             ],
             "type": "Polygon"
            },
            "id": "872664cf1ffffff",
            "properties": {
             "value": -654
            },
            "type": "Feature"
           },
           {
            "geometry": {
             "coordinates": [
              [
               [
                -87.572845,
                41.782195
               ],
               [
                -87.585556,
                41.773951
               ],
               [
                -87.581484,
                41.761814
               ],
               [
                -87.564708,
                41.75792
               ],
               [
                -87.551997,
                41.76616
               ],
               [
                -87.556063,
                41.778299
               ],
               [
                -87.572845,
                41.782195
               ]
              ]
             ],
             "type": "Polygon"
            },
            "id": "872664ceaffffff",
            "properties": {
             "value": -156
            },
            "type": "Feature"
           },
           {
            "geometry": {
             "coordinates": [
              [
               [
                -87.748697,
                41.889998
               ],
               [
                -87.7614,
                41.881724
               ],
               [
                -87.757274,
                41.869581
               ],
               [
                -87.740452,
                41.86571
               ],
               [
                -87.727748,
                41.87398
               ],
               [
                -87.731867,
                41.886126
               ],
               [
                -87.748697,
                41.889998
               ]
              ]
             ],
             "type": "Polygon"
            },
            "id": "872664c81ffffff",
            "properties": {
             "value": -7
            },
            "type": "Feature"
           },
           {
            "geometry": {
             "coordinates": [
              [
               [
                -87.703078,
                41.801141
               ],
               [
                -87.715767,
                41.792882
               ],
               [
                -87.71166,
                41.780749
               ],
               [
                -87.694872,
                41.776874
               ],
               [
                -87.682183,
                41.785129
               ],
               [
                -87.686283,
                41.797264
               ],
               [
                -87.703078,
                41.801141
               ]
              ]
             ],
             "type": "Polygon"
            },
            "id": "872664cd0ffffff",
            "properties": {
             "value": -1
            },
            "type": "Feature"
           },
           {
            "geometry": {
             "coordinates": [
              [
               [
                -87.806929,
                42.015395
               ],
               [
                -87.819654,
                42.0071
               ],
               [
                -87.815502,
                41.994943
               ],
               [
                -87.798632,
                41.991078
               ],
               [
                -87.785906,
                41.999368
               ],
               [
                -87.790051,
                42.011528
               ],
               [
                -87.806929,
                42.015395
               ]
              ]
             ],
             "type": "Polygon"
            },
            "id": "87275936dffffff",
            "properties": {
             "value": -181
            },
            "type": "Feature"
           },
           {
            "geometry": {
             "coordinates": [
              [
               [
                -87.785906,
                41.999368
               ],
               [
                -87.798632,
                41.991078
               ],
               [
                -87.794486,
                41.978921
               ],
               [
                -87.777622,
                41.975053
               ],
               [
                -87.764897,
                41.98334
               ],
               [
                -87.769035,
                41.995499
               ],
               [
                -87.785906,
                41.999368
               ]
              ]
             ],
             "type": "Polygon"
            },
            "id": "872664d9affffff",
            "properties": {
             "value": -134
            },
            "type": "Feature"
           },
           {
            "geometry": {
             "coordinates": [
              [
               [
                -87.757274,
                41.869581
               ],
               [
                -87.76997,
                41.861308
               ],
               [
                -87.765843,
                41.849168
               ],
               [
                -87.749028,
                41.845299
               ],
               [
                -87.736332,
                41.853568
               ],
               [
                -87.740452,
                41.86571
               ],
               [
                -87.757274,
                41.869581
               ]
              ]
             ],
             "type": "Polygon"
            },
            "id": "872664c8effffff",
            "properties": {
             "value": -7
            },
            "type": "Feature"
           },
           {
            "geometry": {
             "coordinates": [
              [
               [
                -87.706813,
                41.857961
               ],
               [
                -87.719516,
                41.849695
               ],
               [
                -87.715404,
                41.837554
               ],
               [
                -87.698595,
                41.833678
               ],
               [
                -87.685891,
                41.841941
               ],
               [
                -87.689997,
                41.854083
               ],
               [
                -87.706813,
                41.857961
               ]
              ]
             ],
             "type": "Polygon"
            },
            "id": "872664c8dffffff",
            "properties": {
             "value": -160
            },
            "type": "Feature"
           },
           {
            "geometry": {
             "coordinates": [
              [
               [
                -87.581484,
                41.761814
               ],
               [
                -87.594187,
                41.753571
               ],
               [
                -87.590114,
                41.741438
               ],
               [
                -87.573346,
                41.737545
               ],
               [
                -87.560642,
                41.745784
               ],
               [
                -87.564708,
                41.75792
               ],
               [
                -87.581484,
                41.761814
               ]
              ]
             ],
             "type": "Polygon"
            },
            "id": "872664cccffffff",
            "properties": {
             "value": -4
            },
            "type": "Feature"
           },
           {
            "geometry": {
             "coordinates": [
              [
               [
                -87.619579,
                41.737084
               ],
               [
                -87.632267,
                41.72884
               ],
               [
                -87.628187,
                41.716713
               ],
               [
                -87.611426,
                41.712826
               ],
               [
                -87.598737,
                41.721066
               ],
               [
                -87.60281,
                41.733196
               ],
               [
                -87.619579,
                41.737084
               ]
              ]
             ],
             "type": "Polygon"
            },
            "id": "872664ccaffffff",
            "properties": {
             "value": -8
            },
            "type": "Feature"
           },
           {
            "geometry": {
             "coordinates": [
              [
               [
                -87.628187,
                41.716713
               ],
               [
                -87.640868,
                41.70847
               ],
               [
                -87.636788,
                41.696345
               ],
               [
                -87.620033,
                41.692461
               ],
               [
                -87.607352,
                41.7007
               ],
               [
                -87.611426,
                41.712826
               ],
               [
                -87.628187,
                41.716713
               ]
              ]
             ],
             "type": "Polygon"
            },
            "id": "872664564ffffff",
            "properties": {
             "value": -8
            },
            "type": "Feature"
           },
           {
            "geometry": {
             "coordinates": [
              [
               [
                -87.631824,
                41.773483
               ],
               [
                -87.64452,
                41.765233
               ],
               [
                -87.640433,
                41.753101
               ],
               [
                -87.623658,
                41.749216
               ],
               [
                -87.610962,
                41.757461
               ],
               [
                -87.615042,
                41.769596
               ],
               [
                -87.631824,
                41.773483
               ]
              ]
             ],
             "type": "Polygon"
            },
            "id": "872664cc3ffffff",
            "properties": {
             "value": -1
            },
            "type": "Feature"
           },
           {
            "geometry": {
             "coordinates": [
              [
               [
                -87.551997,
                41.76616
               ],
               [
                -87.564708,
                41.75792
               ],
               [
                -87.560642,
                41.745784
               ],
               [
                -87.543873,
                41.741887
               ],
               [
                -87.531163,
                41.750124
               ],
               [
                -87.535221,
                41.762261
               ],
               [
                -87.551997,
                41.76616
               ]
              ]
             ],
             "type": "Polygon"
            },
            "id": "872664cebffffff",
            "properties": {
             "value": -12
            },
            "type": "Feature"
           },
           {
            "geometry": {
             "coordinates": [
              [
               [
                -87.664983,
                41.825918
               ],
               [
                -87.677686,
                41.81766
               ],
               [
                -87.673587,
                41.805521
               ],
               [
                -87.656791,
                41.80164
               ],
               [
                -87.644088,
                41.809895
               ],
               [
                -87.64818,
                41.822035
               ],
               [
                -87.664983,
                41.825918
               ]
              ]
             ],
             "type": "Polygon"
            },
            "id": "872664cf3ffffff",
            "properties": {
             "value": -35
            },
            "type": "Feature"
           },
           {
            "geometry": {
             "coordinates": [
              [
               [
                -87.610962,
                41.757461
               ],
               [
                -87.623658,
                41.749216
               ],
               [
                -87.619579,
                41.737084
               ],
               [
                -87.60281,
                41.733196
               ],
               [
                -87.590114,
                41.741438
               ],
               [
                -87.594187,
                41.753571
               ],
               [
                -87.610962,
                41.757461
               ]
              ]
             ],
             "type": "Polygon"
            },
            "id": "872664cceffffff",
            "properties": {
             "value": -8
            },
            "type": "Feature"
           },
           {
            "geometry": {
             "coordinates": [
              [
               [
                -87.803059,
                41.958479
               ],
               [
                -87.815769,
                41.950191
               ],
               [
                -87.811623,
                41.938041
               ],
               [
                -87.794774,
                41.934177
               ],
               [
                -87.782063,
                41.942461
               ],
               [
                -87.786202,
                41.954613
               ],
               [
                -87.803059,
                41.958479
               ]
              ]
             ],
             "type": "Polygon"
            },
            "id": "872664cb0ffffff",
            "properties": {
             "value": -22
            },
            "type": "Feature"
           },
           {
            "geometry": {
             "coordinates": [
              [
               [
                -87.732561,
                41.796754
               ],
               [
                -87.745242,
                41.788492
               ],
               [
                -87.741129,
                41.776362
               ],
               [
                -87.724341,
                41.772491
               ],
               [
                -87.71166,
                41.780749
               ],
               [
                -87.715767,
                41.792882
               ],
               [
                -87.732561,
                41.796754
               ]
              ]
             ],
             "type": "Polygon"
            },
            "id": "872664cd2ffffff",
            "properties": {
             "value": -20
            },
            "type": "Feature"
           },
           {
            "geometry": {
             "coordinates": [
              [
               [
                -87.723986,
                41.817152
               ],
               [
                -87.736675,
                41.808888
               ],
               [
                -87.732561,
                41.796754
               ],
               [
                -87.715767,
                41.792882
               ],
               [
                -87.703078,
                41.801141
               ],
               [
                -87.707184,
                41.813277
               ],
               [
                -87.723986,
                41.817152
               ]
              ]
             ],
             "type": "Polygon"
            },
            "id": "872664cd6ffffff",
            "properties": {
             "value": -6
            },
            "type": "Feature"
           },
           {
            "geometry": {
             "coordinates": [
              [
               [
                -87.777318,
                42.01982
               ],
               [
                -87.790051,
                42.011528
               ],
               [
                -87.785906,
                41.999368
               ],
               [
                -87.769035,
                41.995499
               ],
               [
                -87.756302,
                42.003787
               ],
               [
                -87.76044,
                42.015949
               ],
               [
                -87.777318,
                42.01982
               ]
              ]
             ],
             "type": "Polygon"
            },
            "id": "872664d9effffff",
            "properties": {
             "value": -39
            },
            "type": "Feature"
           },
           {
            "geometry": {
             "coordinates": [
              [
               [
                -87.644088,
                41.809895
               ],
               [
                -87.656791,
                41.80164
               ],
               [
                -87.652699,
                41.789503
               ],
               [
                -87.63591,
                41.785618
               ],
               [
                -87.623207,
                41.793869
               ],
               [
                -87.627292,
                41.806008
               ],
               [
                -87.644088,
                41.809895
               ]
              ]
             ],
             "type": "Polygon"
            },
            "id": "872664cc6ffffff",
            "properties": {
             "value": -1
            },
            "type": "Feature"
           },
           {
            "geometry": {
             "coordinates": [
              [
               [
                -87.577909,
                41.705047
               ],
               [
                -87.590597,
                41.696811
               ],
               [
                -87.586531,
                41.684685
               ],
               [
                -87.569783,
                41.680794
               ],
               [
                -87.557094,
                41.689026
               ],
               [
                -87.561154,
                41.701153
               ],
               [
                -87.577909,
                41.705047
               ]
              ]
             ],
             "type": "Polygon"
            },
            "id": "872664196ffffff",
            "properties": {
             "value": -5
            },
            "type": "Feature"
           },
           {
            "geometry": {
             "coordinates": [
              [
               [
                -87.719157,
                41.894397
               ],
               [
                -87.731867,
                41.886126
               ],
               [
                -87.727748,
                41.87398
               ],
               [
                -87.710925,
                41.870105
               ],
               [
                -87.698215,
                41.878373
               ],
               [
                -87.702327,
                41.89052
               ],
               [
                -87.719157,
                41.894397
               ]
              ]
             ],
             "type": "Polygon"
            },
            "id": "872664caaffffff",
            "properties": {
             "value": -80
            },
            "type": "Feature"
           },
           {
            "geometry": {
             "coordinates": [
              [
               [
                -87.715404,
                41.837554
               ],
               [
                -87.728099,
                41.829289
               ],
               [
                -87.723986,
                41.817152
               ],
               [
                -87.707184,
                41.813277
               ],
               [
                -87.694489,
                41.821539
               ],
               [
                -87.698595,
                41.833678
               ],
               [
                -87.715404,
                41.837554
               ]
              ]
             ],
             "type": "Polygon"
            },
            "id": "872664c89ffffff",
            "properties": {
             "value": -3
            },
            "type": "Feature"
           },
           {
            "geometry": {
             "coordinates": [
              [
               [
                -87.740112,
                41.91042
               ],
               [
                -87.752823,
                41.902144
               ],
               [
                -87.748697,
                41.889998
               ],
               [
                -87.731867,
                41.886126
               ],
               [
                -87.719157,
                41.894397
               ],
               [
                -87.723275,
                41.906546
               ],
               [
                -87.740112,
                41.91042
               ]
              ]
             ],
             "type": "Polygon"
            },
            "id": "872664c85ffffff",
            "properties": {
             "value": -22
            },
            "type": "Feature"
           },
           {
            "geometry": {
             "coordinates": [
              [
               [
                -87.827965,
                42.03142
               ],
               [
                -87.840691,
                42.023121
               ],
               [
                -87.836532,
                42.010963
               ],
               [
                -87.819654,
                42.0071
               ],
               [
                -87.806929,
                42.015395
               ],
               [
                -87.811081,
                42.027556
               ],
               [
                -87.827965,
                42.03142
               ]
              ]
             ],
             "type": "Polygon"
            },
            "id": "87275936cffffff",
            "properties": {
             "value": -2
            },
            "type": "Feature"
           },
           {
            "geometry": {
             "coordinates": [
              [
               [
                -87.832626,
                41.954053
               ],
               [
                -87.845329,
                41.945762
               ],
               [
                -87.841176,
                41.933615
               ],
               [
                -87.824326,
                41.929755
               ],
               [
                -87.811623,
                41.938041
               ],
               [
                -87.815769,
                41.950191
               ],
               [
                -87.832626,
                41.954053
               ]
              ]
             ],
             "type": "Polygon"
            },
            "id": "872664cb2ffffff",
            "properties": {
             "value": -1
            },
            "type": "Feature"
           },
           {
            "geometry": {
             "coordinates": [
              [
               [
                -87.649035,
                41.732724
               ],
               [
                -87.661716,
                41.724478
               ],
               [
                -87.657629,
                41.712352
               ],
               [
                -87.640868,
                41.70847
               ],
               [
                -87.628187,
                41.716713
               ],
               [
                -87.632267,
                41.72884
               ],
               [
                -87.649035,
                41.732724
               ]
              ]
             ],
             "type": "Polygon"
            },
            "id": "872664cd9ffffff",
            "properties": {
             "value": -1
            },
            "type": "Feature"
           },
           {
            "geometry": {
             "coordinates": [
              [
               [
                -87.790634,
                41.922028
               ],
               [
                -87.803338,
                41.913746
               ],
               [
                -87.799198,
                41.901601
               ],
               [
                -87.782362,
                41.897736
               ],
               [
                -87.769659,
                41.906014
               ],
               [
                -87.773791,
                41.918162
               ],
               [
                -87.790634,
                41.922028
               ]
              ]
             ],
             "type": "Polygon"
            },
            "id": "872664c86ffffff",
            "properties": {
             "value": -9
            },
            "type": "Feature"
           },
           {
            "geometry": {
             "coordinates": [
              [
               [
                -87.778229,
                41.885592
               ],
               [
                -87.790925,
                41.877315
               ],
               [
                -87.786792,
                41.865174
               ],
               [
                -87.76997,
                41.861308
               ],
               [
                -87.757274,
                41.869581
               ],
               [
                -87.7614,
                41.881724
               ],
               [
                -87.778229,
                41.885592
               ]
              ]
             ],
             "type": "Polygon"
            },
            "id": "872664c83ffffff",
            "properties": {
             "value": -4
            },
            "type": "Feature"
           },
           {
            "geometry": {
             "coordinates": [
              [
               [
                -87.652699,
                41.789503
               ],
               [
                -87.665395,
                41.78125
               ],
               [
                -87.661302,
                41.769116
               ],
               [
                -87.64452,
                41.765233
               ],
               [
                -87.631824,
                41.773483
               ],
               [
                -87.63591,
                41.785618
               ],
               [
                -87.652699,
                41.789503
               ]
              ]
             ],
             "type": "Polygon"
            },
            "id": "872664cc2ffffff",
            "properties": {
             "value": -4
            },
            "type": "Feature"
           },
           {
            "geometry": {
             "coordinates": [
              [
               [
                -87.71166,
                41.780749
               ],
               [
                -87.724341,
                41.772491
               ],
               [
                -87.720234,
                41.760361
               ],
               [
                -87.703453,
                41.756488
               ],
               [
                -87.690772,
                41.764742
               ],
               [
                -87.694872,
                41.776874
               ],
               [
                -87.71166,
                41.780749
               ]
              ]
             ],
             "type": "Polygon"
            },
            "id": "872664cd3ffffff",
            "properties": {
             "value": -2
            },
            "type": "Feature"
           },
           {
            "geometry": {
             "coordinates": [
              [
               [
                -87.623207,
                41.793869
               ],
               [
                -87.63591,
                41.785618
               ],
               [
                -87.631824,
                41.773483
               ],
               [
                -87.615042,
                41.769596
               ],
               [
                -87.602338,
                41.777842
               ],
               [
                -87.606417,
                41.78998
               ],
               [
                -87.623207,
                41.793869
               ]
              ]
             ],
             "type": "Polygon"
            },
            "id": "872664cc0ffffff",
            "properties": {
             "value": -17
            },
            "type": "Feature"
           },
           {
            "geometry": {
             "coordinates": [
              [
               [
                -87.661302,
                41.769116
               ],
               [
                -87.67399,
                41.760864
               ],
               [
                -87.669897,
                41.748734
               ],
               [
                -87.653122,
                41.744853
               ],
               [
                -87.640433,
                41.753101
               ],
               [
                -87.64452,
                41.765233
               ],
               [
                -87.661302,
                41.769116
               ]
              ]
             ],
             "type": "Polygon"
            },
            "id": "872664cdcffffff",
            "properties": {
             "value": -4
            },
            "type": "Feature"
           },
           {
            "geometry": {
             "coordinates": [
              [
               [
                -87.602338,
                41.777842
               ],
               [
                -87.615042,
                41.769596
               ],
               [
                -87.610962,
                41.757461
               ],
               [
                -87.594187,
                41.753571
               ],
               [
                -87.581484,
                41.761814
               ],
               [
                -87.585556,
                41.773951
               ],
               [
                -87.602338,
                41.777842
               ]
              ]
             ],
             "type": "Polygon"
            },
            "id": "872664cc1ffffff",
            "properties": {
             "value": -14
            },
            "type": "Feature"
           },
           {
            "geometry": {
             "coordinates": [
              [
               [
                -87.673587,
                41.805521
               ],
               [
                -87.686283,
                41.797264
               ],
               [
                -87.682183,
                41.785129
               ],
               [
                -87.665395,
                41.78125
               ],
               [
                -87.652699,
                41.789503
               ],
               [
                -87.656791,
                41.80164
               ],
               [
                -87.673587,
                41.805521
               ]
              ]
             ],
             "type": "Polygon"
            },
            "id": "872664cd5ffffff",
            "properties": {
             "value": -2
            },
            "type": "Feature"
           },
           {
            "geometry": {
             "coordinates": [
              [
               [
                -87.769659,
                41.906014
               ],
               [
                -87.782362,
                41.897736
               ],
               [
                -87.778229,
                41.885592
               ],
               [
                -87.7614,
                41.881724
               ],
               [
                -87.748697,
                41.889998
               ],
               [
                -87.752823,
                41.902144
               ],
               [
                -87.769659,
                41.906014
               ]
              ]
             ],
             "type": "Polygon"
            },
            "id": "872664c80ffffff",
            "properties": {
             "value": -5
            },
            "type": "Feature"
           },
           {
            "geometry": {
             "coordinates": [
              [
               [
                -87.669897,
                41.748734
               ],
               [
                -87.682578,
                41.740483
               ],
               [
                -87.678484,
                41.728356
               ],
               [
                -87.661716,
                41.724478
               ],
               [
                -87.649035,
                41.732724
               ],
               [
                -87.653122,
                41.744853
               ],
               [
                -87.669897,
                41.748734
               ]
              ]
             ],
             "type": "Polygon"
            },
            "id": "872664cd8ffffff",
            "properties": {
             "value": -5
            },
            "type": "Feature"
           },
           {
            "geometry": {
             "coordinates": [
              [
               [
                -87.687064,
                41.707984
               ],
               [
                -87.69973,
                41.699737
               ],
               [
                -87.695635,
                41.687616
               ],
               [
                -87.678882,
                41.683741
               ],
               [
                -87.666215,
                41.691984
               ],
               [
                -87.670303,
                41.704107
               ],
               [
                -87.687064,
                41.707984
               ]
              ]
             ],
             "type": "Polygon"
            },
            "id": "872664575ffffff",
            "properties": {
             "value": -2
            },
            "type": "Feature"
           },
           {
            "geometry": {
             "coordinates": [
              [
               [
                -87.741129,
                41.776362
               ],
               [
                -87.753802,
                41.768101
               ],
               [
                -87.749688,
                41.755974
               ],
               [
                -87.732907,
                41.752105
               ],
               [
                -87.720234,
                41.760361
               ],
               [
                -87.724341,
                41.772491
               ],
               [
                -87.741129,
                41.776362
               ]
              ]
             ],
             "type": "Polygon"
            },
            "id": "87266452cffffff",
            "properties": {
             "value": -4
            },
            "type": "Feature"
           },
           {
            "geometry": {
             "coordinates": [
              [
               [
                -87.811623,
                41.938041
               ],
               [
                -87.824326,
                41.929755
               ],
               [
                -87.82018,
                41.917609
               ],
               [
                -87.803338,
                41.913746
               ],
               [
                -87.790634,
                41.922028
               ],
               [
                -87.794774,
                41.934177
               ],
               [
                -87.811623,
                41.938041
               ]
              ]
             ],
             "type": "Polygon"
            },
            "id": "872664cb3ffffff",
            "properties": {
             "value": -5
            },
            "type": "Feature"
           },
           {
            "geometry": {
             "coordinates": [
              [
               [
                -87.678484,
                41.728356
               ],
               [
                -87.691158,
                41.720108
               ],
               [
                -87.687064,
                41.707984
               ],
               [
                -87.670303,
                41.704107
               ],
               [
                -87.657629,
                41.712352
               ],
               [
                -87.661716,
                41.724478
               ],
               [
                -87.678484,
                41.728356
               ]
              ]
             ],
             "type": "Polygon"
            },
            "id": "872664cdbffffff",
            "properties": {
             "value": -4
            },
            "type": "Feature"
           },
           {
            "geometry": {
             "coordinates": [
              [
               [
                -87.560642,
                41.745784
               ],
               [
                -87.573346,
                41.737545
               ],
               [
                -87.56928,
                41.725413
               ],
               [
                -87.552518,
                41.721518
               ],
               [
                -87.539814,
                41.729753
               ],
               [
                -87.543873,
                41.741887
               ],
               [
                -87.560642,
                41.745784
               ]
              ]
             ],
             "type": "Polygon"
            },
            "id": "872664ccdffffff",
            "properties": {
             "value": -1
            },
            "type": "Feature"
           },
           {
            "geometry": {
             "coordinates": [
              [
               [
                -87.615959,
                41.680338
               ],
               [
                -87.628633,
                41.672101
               ],
               [
                -87.624559,
                41.659981
               ],
               [
                -87.607818,
                41.656096
               ],
               [
                -87.595145,
                41.664329
               ],
               [
                -87.599212,
                41.676451
               ],
               [
                -87.615959,
                41.680338
               ]
              ]
             ],
             "type": "Polygon"
            },
            "id": "872664561ffffff",
            "properties": {
             "value": -1
            },
            "type": "Feature"
           },
           {
            "geometry": {
             "coordinates": [
              [
               [
                -87.736332,
                41.853568
               ],
               [
                -87.749028,
                41.845299
               ],
               [
                -87.744908,
                41.833161
               ],
               [
                -87.728099,
                41.829289
               ],
               [
                -87.715404,
                41.837554
               ],
               [
                -87.719516,
                41.849695
               ],
               [
                -87.736332,
                41.853568
               ]
              ]
             ],
             "type": "Polygon"
            },
            "id": "872664c88ffffff",
            "properties": {
             "value": -6
            },
            "type": "Feature"
           },
           {
            "geometry": {
             "coordinates": [
              [
               [
                -87.707925,
                41.723982
               ],
               [
                -87.720591,
                41.715731
               ],
               [
                -87.71649,
                41.703609
               ],
               [
                -87.69973,
                41.699737
               ],
               [
                -87.687064,
                41.707984
               ],
               [
                -87.691158,
                41.720108
               ],
               [
                -87.707925,
                41.723982
               ]
              ]
             ],
             "type": "Polygon"
            },
            "id": "872664574ffffff",
            "properties": {
             "value": -2
            },
            "type": "Feature"
           }
          ],
          "type": "FeatureCollection"
         },
         "hovertemplate": "hex=%{location}<br>Demand difference in Res7=%{z}<extra></extra>",
         "locations": [
          "872664c1effffff",
          "872664c12ffffff",
          "872664c10ffffff",
          "872664cacffffff",
          "872664c14ffffff",
          "872664d89ffffff",
          "872664cadffffff",
          "872664c16ffffff",
          "872664d8dffffff",
          "872664c1affffff",
          "872664c11ffffff",
          "872664ca1ffffff",
          "872664c13ffffff",
          "872664ce3ffffff",
          "872664c1bffffff",
          "872664ca5ffffff",
          "872664d8bffffff",
          "872664d8cffffff",
          "872664cf4ffffff",
          "872664ca0ffffff",
          "87275934effffff",
          "872664d88ffffff",
          "872664ca9ffffff",
          "872664cf5ffffff",
          "872664d8affffff",
          "872664ca8ffffff",
          "872664d8effffff",
          "872664ca4ffffff",
          "872664521ffffff",
          "872664caeffffff",
          "872664ca6ffffff",
          "872664d9bffffff",
          "872664d99ffffff",
          "872664cf6ffffff",
          "872664ca3ffffff",
          "872664cc5ffffff",
          "872664cb5ffffff",
          "872664cf2ffffff",
          "872664cb1ffffff",
          "872664ce2ffffff",
          "872664cddffffff",
          "872664520ffffff",
          "872664cabffffff",
          "872664d98ffffff",
          "872664c84ffffff",
          "872664cf0ffffff",
          "872664d81ffffff",
          "872759369ffffff",
          "872664ca2ffffff",
          "872664cc4ffffff",
          "872664d9dffffff",
          "87275936bffffff",
          "872664525ffffff",
          "872664cc8ffffff",
          "872664c8cffffff",
          "872664d83ffffff",
          "872664cb4ffffff",
          "872664c8bffffff",
          "872664cd4ffffff",
          "87266452dffffff",
          "872664523ffffff",
          "872759340ffffff",
          "87275934dffffff",
          "872664562ffffff",
          "872664cf1ffffff",
          "872664ceaffffff",
          "872664c81ffffff",
          "872664cd0ffffff",
          "87275936dffffff",
          "872664d9affffff",
          "872664c8effffff",
          "872664c8dffffff",
          "872664cccffffff",
          "872664ccaffffff",
          "872664564ffffff",
          "872664cc3ffffff",
          "872664cebffffff",
          "872664cf3ffffff",
          "872664cceffffff",
          "872664cb0ffffff",
          "872664cd2ffffff",
          "872664cd6ffffff",
          "872664d9effffff",
          "872664cc6ffffff",
          "872664196ffffff",
          "872664caaffffff",
          "872664c89ffffff",
          "872664c85ffffff",
          "87275936cffffff",
          "872664cb2ffffff",
          "872664cd9ffffff",
          "872664c86ffffff",
          "872664c83ffffff",
          "872664cc2ffffff",
          "872664cd3ffffff",
          "872664cc0ffffff",
          "872664cdcffffff",
          "872664cc1ffffff",
          "872664cd5ffffff",
          "872664c80ffffff",
          "872664cd8ffffff",
          "872664575ffffff",
          "87266452cffffff",
          "872664cb3ffffff",
          "872664cdbffffff",
          "872664ccdffffff",
          "872664561ffffff",
          "872664c88ffffff",
          "872664574ffffff"
         ],
         "marker": {
          "opacity": 0.7
         },
         "name": "",
         "subplot": "mapbox",
         "type": "choroplethmapbox",
         "z": [
          827222,
          -161278,
          -232832,
          -100399,
          -9227,
          -73300,
          -206893,
          -40627,
          -5131,
          325013,
          -59047,
          -34504,
          -74176,
          -1293,
          -143984,
          -28845,
          -40301,
          -13535,
          -37821,
          -11705,
          275388,
          -15424,
          -140493,
          -17790,
          -8906,
          -14928,
          -1576,
          -9088,
          86492,
          -9288,
          -1847,
          643,
          -45,
          -1388,
          -689,
          -7005,
          -76,
          -281,
          -15,
          -281,
          -4,
          -17,
          -1506,
          -235,
          -25,
          -910,
          -664,
          -123,
          -168,
          -473,
          -79,
          -4084,
          -88,
          0,
          -9,
          -59,
          -48,
          -9,
          9,
          -3,
          0,
          -576,
          0,
          0,
          -654,
          -156,
          -7,
          -1,
          -181,
          -134,
          -7,
          -160,
          -4,
          -8,
          -8,
          -1,
          -12,
          -35,
          -8,
          -22,
          -20,
          -6,
          -39,
          -1,
          -5,
          -80,
          -3,
          -22,
          -2,
          -1,
          -1,
          -9,
          -4,
          -4,
          -2,
          -17,
          -4,
          -14,
          -2,
          -5,
          -5,
          -2,
          -4,
          -5,
          -4,
          -1,
          -1,
          -6,
          -2
         ]
        }
       ],
       "layout": {
        "coloraxis": {
         "cmax": 5.399999999999949,
         "cmin": -5.399999999999949,
         "colorbar": {
          "title": {
           "text": "Demand difference in Res7"
          }
         },
         "colorscale": [
          [
           0,
           "rgb(103,0,31)"
          ],
          [
           0.1,
           "rgb(178,24,43)"
          ],
          [
           0.2,
           "rgb(214,96,77)"
          ],
          [
           0.3,
           "rgb(244,165,130)"
          ],
          [
           0.4,
           "rgb(253,219,199)"
          ],
          [
           0.5,
           "rgb(247,247,247)"
          ],
          [
           0.6,
           "rgb(209,229,240)"
          ],
          [
           0.7,
           "rgb(146,197,222)"
          ],
          [
           0.8,
           "rgb(67,147,195)"
          ],
          [
           0.9,
           "rgb(33,102,172)"
          ],
          [
           1,
           "rgb(5,48,97)"
          ]
         ]
        },
        "height": 500,
        "legend": {
         "tracegroupgap": 0
        },
        "mapbox": {
         "center": {
          "lat": 41.881832,
          "lon": -87.623177
         },
         "domain": {
          "x": [
           0,
           1
          ],
          "y": [
           0,
           1
          ]
         },
         "style": "carto-positron",
         "zoom": 10.5
        },
        "margin": {
         "b": 0,
         "l": 0,
         "r": 0,
         "t": 0
        },
        "template": {
         "data": {
          "bar": [
           {
            "error_x": {
             "color": "#2a3f5f"
            },
            "error_y": {
             "color": "#2a3f5f"
            },
            "marker": {
             "line": {
              "color": "#E5ECF6",
              "width": 0.5
             },
             "pattern": {
              "fillmode": "overlay",
              "size": 10,
              "solidity": 0.2
             }
            },
            "type": "bar"
           }
          ],
          "barpolar": [
           {
            "marker": {
             "line": {
              "color": "#E5ECF6",
              "width": 0.5
             },
             "pattern": {
              "fillmode": "overlay",
              "size": 10,
              "solidity": 0.2
             }
            },
            "type": "barpolar"
           }
          ],
          "carpet": [
           {
            "aaxis": {
             "endlinecolor": "#2a3f5f",
             "gridcolor": "white",
             "linecolor": "white",
             "minorgridcolor": "white",
             "startlinecolor": "#2a3f5f"
            },
            "baxis": {
             "endlinecolor": "#2a3f5f",
             "gridcolor": "white",
             "linecolor": "white",
             "minorgridcolor": "white",
             "startlinecolor": "#2a3f5f"
            },
            "type": "carpet"
           }
          ],
          "choropleth": [
           {
            "colorbar": {
             "outlinewidth": 0,
             "ticks": ""
            },
            "type": "choropleth"
           }
          ],
          "contour": [
           {
            "colorbar": {
             "outlinewidth": 0,
             "ticks": ""
            },
            "colorscale": [
             [
              0,
              "#0d0887"
             ],
             [
              0.1111111111111111,
              "#46039f"
             ],
             [
              0.2222222222222222,
              "#7201a8"
             ],
             [
              0.3333333333333333,
              "#9c179e"
             ],
             [
              0.4444444444444444,
              "#bd3786"
             ],
             [
              0.5555555555555556,
              "#d8576b"
             ],
             [
              0.6666666666666666,
              "#ed7953"
             ],
             [
              0.7777777777777778,
              "#fb9f3a"
             ],
             [
              0.8888888888888888,
              "#fdca26"
             ],
             [
              1,
              "#f0f921"
             ]
            ],
            "type": "contour"
           }
          ],
          "contourcarpet": [
           {
            "colorbar": {
             "outlinewidth": 0,
             "ticks": ""
            },
            "type": "contourcarpet"
           }
          ],
          "heatmap": [
           {
            "colorbar": {
             "outlinewidth": 0,
             "ticks": ""
            },
            "colorscale": [
             [
              0,
              "#0d0887"
             ],
             [
              0.1111111111111111,
              "#46039f"
             ],
             [
              0.2222222222222222,
              "#7201a8"
             ],
             [
              0.3333333333333333,
              "#9c179e"
             ],
             [
              0.4444444444444444,
              "#bd3786"
             ],
             [
              0.5555555555555556,
              "#d8576b"
             ],
             [
              0.6666666666666666,
              "#ed7953"
             ],
             [
              0.7777777777777778,
              "#fb9f3a"
             ],
             [
              0.8888888888888888,
              "#fdca26"
             ],
             [
              1,
              "#f0f921"
             ]
            ],
            "type": "heatmap"
           }
          ],
          "heatmapgl": [
           {
            "colorbar": {
             "outlinewidth": 0,
             "ticks": ""
            },
            "colorscale": [
             [
              0,
              "#0d0887"
             ],
             [
              0.1111111111111111,
              "#46039f"
             ],
             [
              0.2222222222222222,
              "#7201a8"
             ],
             [
              0.3333333333333333,
              "#9c179e"
             ],
             [
              0.4444444444444444,
              "#bd3786"
             ],
             [
              0.5555555555555556,
              "#d8576b"
             ],
             [
              0.6666666666666666,
              "#ed7953"
             ],
             [
              0.7777777777777778,
              "#fb9f3a"
             ],
             [
              0.8888888888888888,
              "#fdca26"
             ],
             [
              1,
              "#f0f921"
             ]
            ],
            "type": "heatmapgl"
           }
          ],
          "histogram": [
           {
            "marker": {
             "pattern": {
              "fillmode": "overlay",
              "size": 10,
              "solidity": 0.2
             }
            },
            "type": "histogram"
           }
          ],
          "histogram2d": [
           {
            "colorbar": {
             "outlinewidth": 0,
             "ticks": ""
            },
            "colorscale": [
             [
              0,
              "#0d0887"
             ],
             [
              0.1111111111111111,
              "#46039f"
             ],
             [
              0.2222222222222222,
              "#7201a8"
             ],
             [
              0.3333333333333333,
              "#9c179e"
             ],
             [
              0.4444444444444444,
              "#bd3786"
             ],
             [
              0.5555555555555556,
              "#d8576b"
             ],
             [
              0.6666666666666666,
              "#ed7953"
             ],
             [
              0.7777777777777778,
              "#fb9f3a"
             ],
             [
              0.8888888888888888,
              "#fdca26"
             ],
             [
              1,
              "#f0f921"
             ]
            ],
            "type": "histogram2d"
           }
          ],
          "histogram2dcontour": [
           {
            "colorbar": {
             "outlinewidth": 0,
             "ticks": ""
            },
            "colorscale": [
             [
              0,
              "#0d0887"
             ],
             [
              0.1111111111111111,
              "#46039f"
             ],
             [
              0.2222222222222222,
              "#7201a8"
             ],
             [
              0.3333333333333333,
              "#9c179e"
             ],
             [
              0.4444444444444444,
              "#bd3786"
             ],
             [
              0.5555555555555556,
              "#d8576b"
             ],
             [
              0.6666666666666666,
              "#ed7953"
             ],
             [
              0.7777777777777778,
              "#fb9f3a"
             ],
             [
              0.8888888888888888,
              "#fdca26"
             ],
             [
              1,
              "#f0f921"
             ]
            ],
            "type": "histogram2dcontour"
           }
          ],
          "mesh3d": [
           {
            "colorbar": {
             "outlinewidth": 0,
             "ticks": ""
            },
            "type": "mesh3d"
           }
          ],
          "parcoords": [
           {
            "line": {
             "colorbar": {
              "outlinewidth": 0,
              "ticks": ""
             }
            },
            "type": "parcoords"
           }
          ],
          "pie": [
           {
            "automargin": true,
            "type": "pie"
           }
          ],
          "scatter": [
           {
            "fillpattern": {
             "fillmode": "overlay",
             "size": 10,
             "solidity": 0.2
            },
            "type": "scatter"
           }
          ],
          "scatter3d": [
           {
            "line": {
             "colorbar": {
              "outlinewidth": 0,
              "ticks": ""
             }
            },
            "marker": {
             "colorbar": {
              "outlinewidth": 0,
              "ticks": ""
             }
            },
            "type": "scatter3d"
           }
          ],
          "scattercarpet": [
           {
            "marker": {
             "colorbar": {
              "outlinewidth": 0,
              "ticks": ""
             }
            },
            "type": "scattercarpet"
           }
          ],
          "scattergeo": [
           {
            "marker": {
             "colorbar": {
              "outlinewidth": 0,
              "ticks": ""
             }
            },
            "type": "scattergeo"
           }
          ],
          "scattergl": [
           {
            "marker": {
             "colorbar": {
              "outlinewidth": 0,
              "ticks": ""
             }
            },
            "type": "scattergl"
           }
          ],
          "scattermapbox": [
           {
            "marker": {
             "colorbar": {
              "outlinewidth": 0,
              "ticks": ""
             }
            },
            "type": "scattermapbox"
           }
          ],
          "scatterpolar": [
           {
            "marker": {
             "colorbar": {
              "outlinewidth": 0,
              "ticks": ""
             }
            },
            "type": "scatterpolar"
           }
          ],
          "scatterpolargl": [
           {
            "marker": {
             "colorbar": {
              "outlinewidth": 0,
              "ticks": ""
             }
            },
            "type": "scatterpolargl"
           }
          ],
          "scatterternary": [
           {
            "marker": {
             "colorbar": {
              "outlinewidth": 0,
              "ticks": ""
             }
            },
            "type": "scatterternary"
           }
          ],
          "surface": [
           {
            "colorbar": {
             "outlinewidth": 0,
             "ticks": ""
            },
            "colorscale": [
             [
              0,
              "#0d0887"
             ],
             [
              0.1111111111111111,
              "#46039f"
             ],
             [
              0.2222222222222222,
              "#7201a8"
             ],
             [
              0.3333333333333333,
              "#9c179e"
             ],
             [
              0.4444444444444444,
              "#bd3786"
             ],
             [
              0.5555555555555556,
              "#d8576b"
             ],
             [
              0.6666666666666666,
              "#ed7953"
             ],
             [
              0.7777777777777778,
              "#fb9f3a"
             ],
             [
              0.8888888888888888,
              "#fdca26"
             ],
             [
              1,
              "#f0f921"
             ]
            ],
            "type": "surface"
           }
          ],
          "table": [
           {
            "cells": {
             "fill": {
              "color": "#EBF0F8"
             },
             "line": {
              "color": "white"
             }
            },
            "header": {
             "fill": {
              "color": "#C8D4E3"
             },
             "line": {
              "color": "white"
             }
            },
            "type": "table"
           }
          ]
         },
         "layout": {
          "annotationdefaults": {
           "arrowcolor": "#2a3f5f",
           "arrowhead": 0,
           "arrowwidth": 1
          },
          "autotypenumbers": "strict",
          "coloraxis": {
           "colorbar": {
            "outlinewidth": 0,
            "ticks": ""
           }
          },
          "colorscale": {
           "diverging": [
            [
             0,
             "#8e0152"
            ],
            [
             0.1,
             "#c51b7d"
            ],
            [
             0.2,
             "#de77ae"
            ],
            [
             0.3,
             "#f1b6da"
            ],
            [
             0.4,
             "#fde0ef"
            ],
            [
             0.5,
             "#f7f7f7"
            ],
            [
             0.6,
             "#e6f5d0"
            ],
            [
             0.7,
             "#b8e186"
            ],
            [
             0.8,
             "#7fbc41"
            ],
            [
             0.9,
             "#4d9221"
            ],
            [
             1,
             "#276419"
            ]
           ],
           "sequential": [
            [
             0,
             "#0d0887"
            ],
            [
             0.1111111111111111,
             "#46039f"
            ],
            [
             0.2222222222222222,
             "#7201a8"
            ],
            [
             0.3333333333333333,
             "#9c179e"
            ],
            [
             0.4444444444444444,
             "#bd3786"
            ],
            [
             0.5555555555555556,
             "#d8576b"
            ],
            [
             0.6666666666666666,
             "#ed7953"
            ],
            [
             0.7777777777777778,
             "#fb9f3a"
            ],
            [
             0.8888888888888888,
             "#fdca26"
            ],
            [
             1,
             "#f0f921"
            ]
           ],
           "sequentialminus": [
            [
             0,
             "#0d0887"
            ],
            [
             0.1111111111111111,
             "#46039f"
            ],
            [
             0.2222222222222222,
             "#7201a8"
            ],
            [
             0.3333333333333333,
             "#9c179e"
            ],
            [
             0.4444444444444444,
             "#bd3786"
            ],
            [
             0.5555555555555556,
             "#d8576b"
            ],
            [
             0.6666666666666666,
             "#ed7953"
            ],
            [
             0.7777777777777778,
             "#fb9f3a"
            ],
            [
             0.8888888888888888,
             "#fdca26"
            ],
            [
             1,
             "#f0f921"
            ]
           ]
          },
          "colorway": [
           "#636efa",
           "#EF553B",
           "#00cc96",
           "#ab63fa",
           "#FFA15A",
           "#19d3f3",
           "#FF6692",
           "#B6E880",
           "#FF97FF",
           "#FECB52"
          ],
          "font": {
           "color": "#2a3f5f"
          },
          "geo": {
           "bgcolor": "white",
           "lakecolor": "white",
           "landcolor": "#E5ECF6",
           "showlakes": true,
           "showland": true,
           "subunitcolor": "white"
          },
          "hoverlabel": {
           "align": "left"
          },
          "hovermode": "closest",
          "mapbox": {
           "style": "light"
          },
          "paper_bgcolor": "white",
          "plot_bgcolor": "#E5ECF6",
          "polar": {
           "angularaxis": {
            "gridcolor": "white",
            "linecolor": "white",
            "ticks": ""
           },
           "bgcolor": "#E5ECF6",
           "radialaxis": {
            "gridcolor": "white",
            "linecolor": "white",
            "ticks": ""
           }
          },
          "scene": {
           "xaxis": {
            "backgroundcolor": "#E5ECF6",
            "gridcolor": "white",
            "gridwidth": 2,
            "linecolor": "white",
            "showbackground": true,
            "ticks": "",
            "zerolinecolor": "white"
           },
           "yaxis": {
            "backgroundcolor": "#E5ECF6",
            "gridcolor": "white",
            "gridwidth": 2,
            "linecolor": "white",
            "showbackground": true,
            "ticks": "",
            "zerolinecolor": "white"
           },
           "zaxis": {
            "backgroundcolor": "#E5ECF6",
            "gridcolor": "white",
            "gridwidth": 2,
            "linecolor": "white",
            "showbackground": true,
            "ticks": "",
            "zerolinecolor": "white"
           }
          },
          "shapedefaults": {
           "line": {
            "color": "#2a3f5f"
           }
          },
          "ternary": {
           "aaxis": {
            "gridcolor": "white",
            "linecolor": "white",
            "ticks": ""
           },
           "baxis": {
            "gridcolor": "white",
            "linecolor": "white",
            "ticks": ""
           },
           "bgcolor": "#E5ECF6",
           "caxis": {
            "gridcolor": "white",
            "linecolor": "white",
            "ticks": ""
           }
          },
          "title": {
           "x": 0.05
          },
          "xaxis": {
           "automargin": true,
           "gridcolor": "white",
           "linecolor": "white",
           "ticks": "",
           "title": {
            "standoff": 15
           },
           "zerolinecolor": "white",
           "zerolinewidth": 2
          },
          "yaxis": {
           "automargin": true,
           "gridcolor": "white",
           "linecolor": "white",
           "ticks": "",
           "title": {
            "standoff": 15
           },
           "zerolinecolor": "white",
           "zerolinewidth": 2
          }
         }
        },
        "width": 700
       }
      }
     },
     "metadata": {},
     "output_type": "display_data"
    }
   ],
   "source": [
    "# Ploting a map with hexagons depicting the difference in demand considering starting and ending trips\n",
    "\n",
    "variable = \"demand_difference_07\"\n",
    "\n",
    "fig = plot_frequency(\n",
    "    dataset=hexagons7_df,\n",
    "    variable=variable,\n",
    "    labels={variable: \"Demand difference in Res7\"},\n",
    "    range_color=(\n",
    "        -hexagons7_df[variable].quantile(0.95),\n",
    "        hexagons7_df[variable].quantile(0.95),\n",
    "    ),\n",
    ")\n",
    "fig.show()"
   ]
  },
  {
   "cell_type": "markdown",
   "id": "580f81dd",
   "metadata": {},
   "source": [
    "To see the differences on the H3 map better, we used a 0.95 quantile instead of 0.9. The overall demand difference is only positive for a few hexagons: Airport O'Hare and Midway (in Clearing), Jefferson Park, Loop and Brighton Park. Else the demand difference is negative or zero. For places more in the south of Chicago and more on the periphery have a lower demand difference, so the ending trips are not as prominent as the other places. This could be due to reason that outskirts are less habitated than places closer to the city. To look further at the possible reasons why there is a bigger negative demand difference, we will look at different time zones."
   ]
  },
  {
   "cell_type": "markdown",
   "id": "89dd82fb",
   "metadata": {},
   "source": [
    "### During morning and evening rush hour"
   ]
  },
  {
   "cell_type": "code",
   "execution_count": 146,
   "id": "d87f0b3b",
   "metadata": {},
   "outputs": [],
   "source": [
    "# Function that returns the number of trips for the given hours and for the given 'group by' value\n",
    "\n",
    "def calculate_hexagon_trips_by_hours(hexagons_df, label, group_by, hours):\n",
    "    hexagons_df[label] = (\n",
    "        trips_df[\n",
    "            (trips_df[\"trip_start_timestamp\"].dt.hour >= hours[0])\n",
    "            & (trips_df[\"trip_start_timestamp\"].dt.hour <= hours[1])\n",
    "        ]\n",
    "        .groupby(group_by)\n",
    "        .size()\n",
    "    )\n",
    "    hexagons_df[label] = hexagons_df[label].fillna(value=0)"
   ]
  },
  {
   "cell_type": "code",
   "execution_count": 147,
   "id": "168ec0f6",
   "metadata": {},
   "outputs": [],
   "source": [
    "# Function that returns the number of trips for the given hours and for the given 'group by' value\n",
    "\n",
    "def calculate_hexagon_trips_hour(hexagons_df, hexagon_num):\n",
    "    hexagon_label = f\"h3_0{hexagon_num}\"\n",
    "    now = datetime.now()\n",
    "    morning_hours = [now.replace(hour=6).hour, now.replace(hour=12).hour]\n",
    "    evening_hours = [now.replace(hour=14).hour, now.replace(hour=20).hour]\n",
    "\n",
    "    calculate_hexagon_trips_by_hours(\n",
    "        hexagons_df, label=\"starting_trips_morning\", group_by=f\"{hexagon_label}_pickup\", hours=morning_hours\n",
    "    )\n",
    "    calculate_hexagon_trips_by_hours(\n",
    "        hexagons_df, label= \"ending_trips_morning\", group_by=f\"{hexagon_label}_dropoff\", hours=morning_hours\n",
    "    )\n",
    "    calculate_hexagon_trips_by_hours(\n",
    "        hexagons_df, label= \"starting_trips_evening\", group_by=f\"{hexagon_label}_pickup\", hours=evening_hours\n",
    "    )\n",
    "    calculate_hexagon_trips_by_hours(\n",
    "        hexagons_df, label= \"ending_trips_evening\", group_by=f\"{hexagon_label}_dropoff\", hours=evening_hours\n",
    "    )\n",
    "\n",
    "    hexagons_df[\"trips_difference_morning\"] = (\n",
    "        hexagons_df[\"starting_trips_morning\"] - hexagons_df[\"ending_trips_morning\"]\n",
    "    )\n",
    "    hexagons_df[\"trips_difference_evening\"] = (\n",
    "        hexagons_df[\"starting_trips_evening\"] - hexagons_df[\"ending_trips_evening\"]\n",
    "    )\n",
    "\n",
    "    return hexagons_df"
   ]
  },
  {
   "cell_type": "code",
   "execution_count": 148,
   "id": "987f92a3",
   "metadata": {},
   "outputs": [
    {
     "data": {
      "text/html": [
       "<div>\n",
       "<style scoped>\n",
       "    .dataframe tbody tr th:only-of-type {\n",
       "        vertical-align: middle;\n",
       "    }\n",
       "\n",
       "    .dataframe tbody tr th {\n",
       "        vertical-align: top;\n",
       "    }\n",
       "\n",
       "    .dataframe thead th {\n",
       "        text-align: right;\n",
       "    }\n",
       "</style>\n",
       "<table border=\"1\" class=\"dataframe\">\n",
       "  <thead>\n",
       "    <tr style=\"text-align: right;\">\n",
       "      <th></th>\n",
       "      <th>hex</th>\n",
       "      <th>geometry</th>\n",
       "      <th>starting_trips_07</th>\n",
       "      <th>ending_trips_07</th>\n",
       "      <th>pickup_name</th>\n",
       "      <th>demand_difference_07</th>\n",
       "      <th>starting_trips_morning</th>\n",
       "      <th>ending_trips_morning</th>\n",
       "      <th>starting_trips_evening</th>\n",
       "      <th>ending_trips_evening</th>\n",
       "      <th>trips_difference_morning</th>\n",
       "      <th>trips_difference_evening</th>\n",
       "    </tr>\n",
       "  </thead>\n",
       "  <tbody>\n",
       "    <tr>\n",
       "      <th>0</th>\n",
       "      <td>872664c1effffff</td>\n",
       "      <td>POLYGON ((-87.63048927308355 41.90755371098675...</td>\n",
       "      <td>7532228.0</td>\n",
       "      <td>6705006</td>\n",
       "      <td>Near North Side</td>\n",
       "      <td>827222.0</td>\n",
       "      <td>2021698.0</td>\n",
       "      <td>1737991.0</td>\n",
       "      <td>3189688.0</td>\n",
       "      <td>2998390.0</td>\n",
       "      <td>283707.0</td>\n",
       "      <td>191298.0</td>\n",
       "    </tr>\n",
       "    <tr>\n",
       "      <th>1</th>\n",
       "      <td>872664c12ffffff</td>\n",
       "      <td>POLYGON ((-87.6723729663648 41.93963771855481,...</td>\n",
       "      <td>122202.0</td>\n",
       "      <td>283480</td>\n",
       "      <td>Near North Side</td>\n",
       "      <td>-161278.0</td>\n",
       "      <td>6240.0</td>\n",
       "      <td>13771.0</td>\n",
       "      <td>39852.0</td>\n",
       "      <td>112164.0</td>\n",
       "      <td>-7531.0</td>\n",
       "      <td>-72312.0</td>\n",
       "    </tr>\n",
       "    <tr>\n",
       "      <th>2</th>\n",
       "      <td>872664c10ffffff</td>\n",
       "      <td>POLYGON ((-87.6427881340186 41.94402243665091,...</td>\n",
       "      <td>575439.0</td>\n",
       "      <td>808271</td>\n",
       "      <td>Near North Side</td>\n",
       "      <td>-232832.0</td>\n",
       "      <td>142213.0</td>\n",
       "      <td>49264.0</td>\n",
       "      <td>196926.0</td>\n",
       "      <td>350817.0</td>\n",
       "      <td>92949.0</td>\n",
       "      <td>-153891.0</td>\n",
       "    </tr>\n",
       "  </tbody>\n",
       "</table>\n",
       "</div>"
      ],
      "text/plain": [
       "               hex                                           geometry  \\\n",
       "0  872664c1effffff  POLYGON ((-87.63048927308355 41.90755371098675...   \n",
       "1  872664c12ffffff  POLYGON ((-87.6723729663648 41.93963771855481,...   \n",
       "2  872664c10ffffff  POLYGON ((-87.6427881340186 41.94402243665091,...   \n",
       "\n",
       "   starting_trips_07  ending_trips_07      pickup_name  demand_difference_07  \\\n",
       "0          7532228.0          6705006  Near North Side              827222.0   \n",
       "1           122202.0           283480  Near North Side             -161278.0   \n",
       "2           575439.0           808271  Near North Side             -232832.0   \n",
       "\n",
       "   starting_trips_morning  ending_trips_morning  starting_trips_evening  \\\n",
       "0               2021698.0             1737991.0               3189688.0   \n",
       "1                  6240.0               13771.0                 39852.0   \n",
       "2                142213.0               49264.0                196926.0   \n",
       "\n",
       "   ending_trips_evening  trips_difference_morning  trips_difference_evening  \n",
       "0             2998390.0                  283707.0                  191298.0  \n",
       "1              112164.0                   -7531.0                  -72312.0  \n",
       "2              350817.0                   92949.0                 -153891.0  "
      ]
     },
     "execution_count": 148,
     "metadata": {},
     "output_type": "execute_result"
    }
   ],
   "source": [
    "# Calculate the difference between starting and ending trips for the morning (06:00-12:00) \n",
    "# and for the evening (14:00-20:00) in Resolution 7, 8 + 9\n",
    "\n",
    "hexagon_numbers = [7, 8, 9]\n",
    "for hexagon_num in hexagon_numbers:\n",
    "    hexagon_df = globals()[f\"hexagons{hexagon_num}_df\"]\n",
    "    hexagon_df = hexagon_df.set_index(\"hex\")\n",
    "    hexagon_df = calculate_hexagon_trips_hour(hexagon_df, hexagon_num)\n",
    "    hexagon_df = hexagon_df.reset_index()\n",
    "\n",
    "    # Optionally, you can assign the updated DataFrame back to its original variable\n",
    "    globals()[f\"hexagons{hexagon_num}_df\"] = hexagon_df\n",
    "\n",
    "hexagons7_df.head(3)\n",
    "\n",
    "#hexagons7_df['geometry'] = hexagons7_df['geometry'].apply(lambda geom: geom.wkt) \n",
    "#hexagons7_df.to_parquet('hexagons7_df.parquet', index=False)\n"
   ]
  },
  {
   "cell_type": "code",
   "execution_count": 149,
   "id": "d7744cca",
   "metadata": {},
   "outputs": [
    {
     "data": {
      "application/vnd.plotly.v1+json": {
       "config": {
        "plotlyServerURL": "https://plot.ly"
       },
       "data": [
        {
         "coloraxis": "coloraxis",
         "geojson": {
          "features": [
           {
            "geometry": {
             "coordinates": [
              [
               [
                -87.630489,
                41.907554
               ],
               [
                -87.643222,
                41.899289
               ],
               [
                -87.639124,
                41.887138
               ],
               [
                -87.622301,
                41.883249
               ],
               [
                -87.609568,
                41.891509
               ],
               [
                -87.613658,
                41.903663
               ],
               [
                -87.630489,
                41.907554
               ]
              ]
             ],
             "type": "Polygon"
            },
            "id": "872664c1effffff",
            "properties": {
             "value": 283707
            },
            "type": "Feature"
           },
           {
            "geometry": {
             "coordinates": [
              [
               [
                -87.672373,
                41.939638
               ],
               [
                -87.685106,
                41.931365
               ],
               [
                -87.680995,
                41.919211
               ],
               [
                -87.664157,
                41.915328
               ],
               [
                -87.651424,
                41.923596
               ],
               [
                -87.655529,
                41.935752
               ],
               [
                -87.672373,
                41.939638
               ]
              ]
             ],
             "type": "Polygon"
            },
            "id": "872664c12ffffff",
            "properties": {
             "value": -7531
            },
            "type": "Feature"
           },
           {
            "geometry": {
             "coordinates": [
              [
               [
                -87.642788,
                41.944022
               ],
               [
                -87.655529,
                41.935752
               ],
               [
                -87.651424,
                41.923596
               ],
               [
                -87.634587,
                41.919708
               ],
               [
                -87.621846,
                41.927975
               ],
               [
                -87.625943,
                41.940133
               ],
               [
                -87.642788,
                41.944022
               ]
              ]
             ],
             "type": "Polygon"
            },
            "id": "872664c10ffffff",
            "properties": {
             "value": 92949
            },
            "type": "Feature"
           },
           {
            "geometry": {
             "coordinates": [
              [
               [
                -87.680995,
                41.919211
               ],
               [
                -87.69372,
                41.91094
               ],
               [
                -87.689609,
                41.89879
               ],
               [
                -87.672778,
                41.894908
               ],
               [
                -87.660053,
                41.903175
               ],
               [
                -87.664157,
                41.915328
               ],
               [
                -87.680995,
                41.919211
               ]
              ]
             ],
             "type": "Polygon"
            },
            "id": "872664cacffffff",
            "properties": {
             "value": 17020
            },
            "type": "Feature"
           },
           {
            "geometry": {
             "coordinates": [
              [
               [
                -87.634144,
                41.964453
               ],
               [
                -87.646892,
                41.956182
               ],
               [
                -87.642788,
                41.944022
               ],
               [
                -87.625943,
                41.940133
               ],
               [
                -87.613196,
                41.9484
               ],
               [
                -87.617292,
                41.960561
               ],
               [
                -87.634144,
                41.964453
               ]
              ]
             ],
             "type": "Polygon"
            },
            "id": "872664c14ffffff",
            "properties": {
             "value": 19646
            },
            "type": "Feature"
           },
           {
            "geometry": {
             "coordinates": [
              [
               [
                -87.655106,
                41.980505
               ],
               [
                -87.667854,
                41.972229
               ],
               [
                -87.663743,
                41.960069
               ],
               [
                -87.646892,
                41.956182
               ],
               [
                -87.634144,
                41.964453
               ],
               [
                -87.638248,
                41.976616
               ],
               [
                -87.655106,
                41.980505
               ]
              ]
             ],
             "type": "Polygon"
            },
            "id": "872664d89ffffff",
            "properties": {
             "value": 21772
            },
            "type": "Feature"
           },
           {
            "geometry": {
             "coordinates": [
              [
               [
                -87.660053,
                41.903175
               ],
               [
                -87.672778,
                41.894908
               ],
               [
                -87.668673,
                41.882759
               ],
               [
                -87.65185,
                41.878875
               ],
               [
                -87.639124,
                41.887138
               ],
               [
                -87.643222,
                41.899289
               ],
               [
                -87.660053,
                41.903175
               ]
              ]
             ],
             "type": "Polygon"
            },
            "id": "872664cadffffff",
            "properties": {
             "value": 43114
            },
            "type": "Feature"
           },
           {
            "geometry": {
             "coordinates": [
              [
               [
                -87.663743,
                41.960069
               ],
               [
                -87.676484,
                41.951795
               ],
               [
                -87.672373,
                41.939638
               ],
               [
                -87.655529,
                41.935752
               ],
               [
                -87.642788,
                41.944022
               ],
               [
                -87.646892,
                41.956182
               ],
               [
                -87.663743,
                41.960069
               ]
              ]
             ],
             "type": "Polygon"
            },
            "id": "872664c16ffffff",
            "properties": {
             "value": 17961
            },
            "type": "Feature"
           },
           {
            "geometry": {
             "coordinates": [
              [
               [
                -87.646461,
                42.000945
               ],
               [
                -87.659216,
                41.992668
               ],
               [
                -87.655106,
                41.980505
               ],
               [
                -87.638248,
                41.976616
               ],
               [
                -87.625492,
                41.984889
               ],
               [
                -87.629595,
                41.997054
               ],
               [
                -87.646461,
                42.000945
               ]
              ]
             ],
             "type": "Polygon"
            },
            "id": "872664d8dffffff",
            "properties": {
             "value": 4085
            },
            "type": "Feature"
           },
           {
            "geometry": {
             "coordinates": [
              [
               [
                -87.639124,
                41.887138
               ],
               [
                -87.65185,
                41.878875
               ],
               [
                -87.647752,
                41.866726
               ],
               [
                -87.630935,
                41.862839
               ],
               [
                -87.618209,
                41.871098
               ],
               [
                -87.622301,
                41.883249
               ],
               [
                -87.639124,
                41.887138
               ]
              ]
             ],
             "type": "Polygon"
            },
            "id": "872664c1affffff",
            "properties": {
             "value": -276528
            },
            "type": "Feature"
           },
           {
            "geometry": {
             "coordinates": [
              [
               [
                -87.621846,
                41.927975
               ],
               [
                -87.634587,
                41.919708
               ],
               [
                -87.630489,
                41.907554
               ],
               [
                -87.613658,
                41.903663
               ],
               [
                -87.600918,
                41.911925
               ],
               [
                -87.605008,
                41.924082
               ],
               [
                -87.621846,
                41.927975
               ]
              ]
             ],
             "type": "Polygon"
            },
            "id": "872664c11ffffff",
            "properties": {
             "value": 72840
            },
            "type": "Feature"
           },
           {
            "geometry": {
             "coordinates": [
              [
               [
                -87.70195,
                41.935246
               ],
               [
                -87.714676,
                41.926971
               ],
               [
                -87.710557,
                41.914819
               ],
               [
                -87.69372,
                41.91094
               ],
               [
                -87.680995,
                41.919211
               ],
               [
                -87.685106,
                41.931365
               ],
               [
                -87.70195,
                41.935246
               ]
              ]
             ],
             "type": "Polygon"
            },
            "id": "872664ca1ffffff",
            "properties": {
             "value": -715
            },
            "type": "Feature"
           },
           {
            "geometry": {
             "coordinates": [
              [
               [
                -87.651424,
                41.923596
               ],
               [
                -87.664157,
                41.915328
               ],
               [
                -87.660053,
                41.903175
               ],
               [
                -87.643222,
                41.899289
               ],
               [
                -87.630489,
                41.907554
               ],
               [
                -87.634587,
                41.919708
               ],
               [
                -87.651424,
                41.923596
               ]
              ]
             ],
             "type": "Polygon"
            },
            "id": "872664c13ffffff",
            "properties": {
             "value": -8467
            },
            "type": "Feature"
           },
           {
            "geometry": {
             "coordinates": [
              [
               [
                -87.585067,
                41.81862
               ],
               [
                -87.597785,
                41.81037
               ],
               [
                -87.593707,
                41.798229
               ],
               [
                -87.576917,
                41.794335
               ],
               [
                -87.564199,
                41.802581
               ],
               [
                -87.568271,
                41.814724
               ],
               [
                -87.585067,
                41.81862
               ]
              ]
             ],
             "type": "Polygon"
            },
            "id": "872664ce3ffffff",
            "properties": {
             "value": 4499
            },
            "type": "Feature"
           },
           {
            "geometry": {
             "coordinates": [
              [
               [
                -87.618209,
                41.871098
               ],
               [
                -87.630935,
                41.862839
               ],
               [
                -87.626843,
                41.850692
               ],
               [
                -87.610033,
                41.846803
               ],
               [
                -87.597308,
                41.855058
               ],
               [
                -87.601392,
                41.867207
               ],
               [
                -87.618209,
                41.871098
               ]
              ]
             ],
             "type": "Polygon"
            },
            "id": "872664c1bffffff",
            "properties": {
             "value": -81515
            },
            "type": "Feature"
           },
           {
            "geometry": {
             "coordinates": [
              [
               [
                -87.693335,
                41.955677
               ],
               [
                -87.706068,
                41.947401
               ],
               [
                -87.70195,
                41.935246
               ],
               [
                -87.685106,
                41.931365
               ],
               [
                -87.672373,
                41.939638
               ],
               [
                -87.676484,
                41.951795
               ],
               [
                -87.693335,
                41.955677
               ]
              ]
             ],
             "type": "Polygon"
            },
            "id": "872664ca5ffffff",
            "properties": {
             "value": 241
            },
            "type": "Feature"
           },
           {
            "geometry": {
             "coordinates": [
              [
               [
                -87.684712,
                41.976114
               ],
               [
                -87.697453,
                41.967836
               ],
               [
                -87.693335,
                41.955677
               ],
               [
                -87.676484,
                41.951795
               ],
               [
                -87.663743,
                41.960069
               ],
               [
                -87.667854,
                41.972229
               ],
               [
                -87.684712,
                41.976114
               ]
              ]
             ],
             "type": "Polygon"
            },
            "id": "872664d8bffffff",
            "properties": {
             "value": 931
            },
            "type": "Feature"
           },
           {
            "geometry": {
             "coordinates": [
              [
               [
                -87.667443,
                42.017
               ],
               [
                -87.680199,
                42.008719
               ],
               [
                -87.676082,
                41.996555
               ],
               [
                -87.659216,
                41.992668
               ],
               [
                -87.646461,
                42.000945
               ],
               [
                -87.650571,
                42.013112
               ],
               [
                -87.667443,
                42.017
               ]
              ]
             ],
             "type": "Polygon"
            },
            "id": "872664d8cffffff",
            "properties": {
             "value": 1334
            },
            "type": "Feature"
           },
           {
            "geometry": {
             "coordinates": [
              [
               [
                -87.647752,
                41.866726
               ],
               [
                -87.66047,
                41.858465
               ],
               [
                -87.656371,
                41.84632
               ],
               [
                -87.639562,
                41.842435
               ],
               [
                -87.626843,
                41.850692
               ],
               [
                -87.630935,
                41.862839
               ],
               [
                -87.647752,
                41.866726
               ]
              ]
             ],
             "type": "Polygon"
            },
            "id": "872664cf4ffffff",
            "properties": {
             "value": -3893
            },
            "type": "Feature"
           },
           {
            "geometry": {
             "coordinates": [
              [
               [
                -87.722919,
                41.951279
               ],
               [
                -87.735644,
                41.943
               ],
               [
                -87.731519,
                41.930847
               ],
               [
                -87.714676,
                41.926971
               ],
               [
                -87.70195,
                41.935246
               ],
               [
                -87.706068,
                41.947401
               ],
               [
                -87.722919,
                41.951279
               ]
              ]
             ],
             "type": "Polygon"
            },
            "id": "872664ca0ffffff",
            "properties": {
             "value": -22
            },
            "type": "Feature"
           },
           {
            "geometry": {
             "coordinates": [
              [
               [
                -87.904243,
                41.981624
               ],
               [
                -87.916939,
                41.973323
               ],
               [
                -87.912765,
                41.961175
               ],
               [
                -87.895903,
                41.957326
               ],
               [
                -87.883207,
                41.965622
               ],
               [
                -87.887374,
                41.977772
               ],
               [
                -87.904243,
                41.981624
               ]
              ]
             ],
             "type": "Polygon"
            },
            "id": "87275934effffff",
            "properties": {
             "value": -77939
            },
            "type": "Feature"
           },
           {
            "geometry": {
             "coordinates": [
              [
               [
                -87.676082,
                41.996555
               ],
               [
                -87.68883,
                41.988275
               ],
               [
                -87.684712,
                41.976114
               ],
               [
                -87.667854,
                41.972229
               ],
               [
                -87.655106,
                41.980505
               ],
               [
                -87.659216,
                41.992668
               ],
               [
                -87.676082,
                41.996555
               ]
              ]
             ],
             "type": "Polygon"
            },
            "id": "872664d88ffffff",
            "properties": {
             "value": 2092
            },
            "type": "Feature"
           },
           {
            "geometry": {
             "coordinates": [
              [
               [
                -87.668673,
                41.882759
               ],
               [
                -87.681392,
                41.874493
               ],
               [
                -87.677286,
                41.862347
               ],
               [
                -87.66047,
                41.858465
               ],
               [
                -87.647752,
                41.866726
               ],
               [
                -87.65185,
                41.878875
               ],
               [
                -87.668673,
                41.882759
               ]
              ]
             ],
             "type": "Polygon"
            },
            "id": "872664ca9ffffff",
            "properties": {
             "value": -31195
            },
            "type": "Feature"
           },
           {
            "geometry": {
             "coordinates": [
              [
               [
                -87.626843,
                41.850692
               ],
               [
                -87.639562,
                41.842435
               ],
               [
                -87.63547,
                41.830291
               ],
               [
                -87.618667,
                41.826403
               ],
               [
                -87.605949,
                41.834657
               ],
               [
                -87.610033,
                41.846803
               ],
               [
                -87.626843,
                41.850692
               ]
              ]
             ],
             "type": "Polygon"
            },
            "id": "872664cf5ffffff",
            "properties": {
             "value": -38444
            },
            "type": "Feature"
           },
           {
            "geometry": {
             "coordinates": [
              [
               [
                -87.705694,
                41.992157
               ],
               [
                -87.718435,
                41.983875
               ],
               [
                -87.714311,
                41.971715
               ],
               [
                -87.697453,
                41.967836
               ],
               [
                -87.684712,
                41.976114
               ],
               [
                -87.68883,
                41.988275
               ],
               [
                -87.705694,
                41.992157
               ]
              ]
             ],
             "type": "Polygon"
            },
            "id": "872664d8affffff",
            "properties": {
             "value": -137
            },
            "type": "Feature"
           },
           {
            "geometry": {
             "coordinates": [
              [
               [
                -87.689609,
                41.89879
               ],
               [
                -87.702327,
                41.89052
               ],
               [
                -87.698215,
                41.878373
               ],
               [
                -87.681392,
                41.874493
               ],
               [
                -87.668673,
                41.882759
               ],
               [
                -87.672778,
                41.894908
               ],
               [
                -87.689609,
                41.89879
               ]
              ]
             ],
             "type": "Polygon"
            },
            "id": "872664ca8ffffff",
            "properties": {
             "value": -834
            },
            "type": "Feature"
           },
           {
            "geometry": {
             "coordinates": [
              [
               [
                -87.697071,
                42.012603
               ],
               [
                -87.709819,
                42.00432
               ],
               [
                -87.705694,
                41.992157
               ],
               [
                -87.68883,
                41.988275
               ],
               [
                -87.676082,
                41.996555
               ],
               [
                -87.680199,
                42.008719
               ],
               [
                -87.697071,
                42.012603
               ]
              ]
             ],
             "type": "Polygon"
            },
            "id": "872664d8effffff",
            "properties": {
             "value": 55
            },
            "type": "Feature"
           },
           {
            "geometry": {
             "coordinates": [
              [
               [
                -87.714311,
                41.971715
               ],
               [
                -87.727044,
                41.963435
               ],
               [
                -87.722919,
                41.951279
               ],
               [
                -87.706068,
                41.947401
               ],
               [
                -87.693335,
                41.955677
               ],
               [
                -87.697453,
                41.967836
               ],
               [
                -87.714311,
                41.971715
               ]
              ]
             ],
             "type": "Polygon"
            },
            "id": "872664ca4ffffff",
            "properties": {
             "value": 311
            },
            "type": "Feature"
           },
           {
            "geometry": {
             "coordinates": [
              [
               [
                -87.762037,
                41.79236
               ],
               [
                -87.774711,
                41.784096
               ],
               [
                -87.77059,
                41.771967
               ],
               [
                -87.753802,
                41.768101
               ],
               [
                -87.741129,
                41.776362
               ],
               [
                -87.745242,
                41.788492
               ],
               [
                -87.762037,
                41.79236
               ]
              ]
             ],
             "type": "Polygon"
            },
            "id": "872664521ffffff",
            "properties": {
             "value": -31965
            },
            "type": "Feature"
           },
           {
            "geometry": {
             "coordinates": [
              [
               [
                -87.710557,
                41.914819
               ],
               [
                -87.723275,
                41.906546
               ],
               [
                -87.719157,
                41.894397
               ],
               [
                -87.702327,
                41.89052
               ],
               [
                -87.689609,
                41.89879
               ],
               [
                -87.69372,
                41.91094
               ],
               [
                -87.710557,
                41.914819
               ]
              ]
             ],
             "type": "Polygon"
            },
            "id": "872664caeffffff",
            "properties": {
             "value": -35
            },
            "type": "Feature"
           },
           {
            "geometry": {
             "coordinates": [
              [
               [
                -87.743901,
                41.96731
               ],
               [
                -87.756627,
                41.959027
               ],
               [
                -87.752495,
                41.946873
               ],
               [
                -87.735644,
                41.943
               ],
               [
                -87.722919,
                41.951279
               ],
               [
                -87.727044,
                41.963435
               ],
               [
                -87.743901,
                41.96731
               ]
              ]
             ],
             "type": "Polygon"
            },
            "id": "872664ca6ffffff",
            "properties": {
             "value": -14
            },
            "type": "Feature"
           },
           {
            "geometry": {
             "coordinates": [
              [
               [
                -87.764897,
                41.98334
               ],
               [
                -87.777622,
                41.975053
               ],
               [
                -87.773484,
                41.962898
               ],
               [
                -87.756627,
                41.959027
               ],
               [
                -87.743901,
                41.96731
               ],
               [
                -87.748033,
                41.979468
               ],
               [
                -87.764897,
                41.98334
               ]
              ]
             ],
             "type": "Polygon"
            },
            "id": "872664d9bffffff",
            "properties": {
             "value": 89
            },
            "type": "Feature"
           },
           {
            "geometry": {
             "coordinates": [
              [
               [
                -87.7353,
                41.987752
               ],
               [
                -87.748033,
                41.979468
               ],
               [
                -87.743901,
                41.96731
               ],
               [
                -87.727044,
                41.963435
               ],
               [
                -87.714311,
                41.971715
               ],
               [
                -87.718435,
                41.983875
               ],
               [
                -87.7353,
                41.987752
               ]
              ]
             ],
             "type": "Polygon"
            },
            "id": "872664d99ffffff",
            "properties": {
             "value": 186
            },
            "type": "Feature"
           },
           {
            "geometry": {
             "coordinates": [
              [
               [
                -87.677286,
                41.862347
               ],
               [
                -87.689997,
                41.854083
               ],
               [
                -87.685891,
                41.841941
               ],
               [
                -87.669082,
                41.83806
               ],
               [
                -87.656371,
                41.84632
               ],
               [
                -87.66047,
                41.858465
               ],
               [
                -87.677286,
                41.862347
               ]
              ]
             ],
             "type": "Polygon"
            },
            "id": "872664cf6ffffff",
            "properties": {
             "value": -233
            },
            "type": "Feature"
           },
           {
            "geometry": {
             "coordinates": [
              [
               [
                -87.731519,
                41.930847
               ],
               [
                -87.744237,
                41.92257
               ],
               [
                -87.740112,
                41.91042
               ],
               [
                -87.723275,
                41.906546
               ],
               [
                -87.710557,
                41.914819
               ],
               [
                -87.714676,
                41.926971
               ],
               [
                -87.731519,
                41.930847
               ]
              ]
             ],
             "type": "Polygon"
            },
            "id": "872664ca3ffffff",
            "properties": {
             "value": -2
            },
            "type": "Feature"
           },
           {
            "geometry": {
             "coordinates": [
              [
               [
                -87.593707,
                41.798229
               ],
               [
                -87.606417,
                41.78998
               ],
               [
                -87.602338,
                41.777842
               ],
               [
                -87.585556,
                41.773951
               ],
               [
                -87.572845,
                41.782195
               ],
               [
                -87.576917,
                41.794335
               ],
               [
                -87.593707,
                41.798229
               ]
              ]
             ],
             "type": "Polygon"
            },
            "id": "872664cc5ffffff",
            "properties": {
             "value": -20683
            },
            "type": "Feature"
           },
           {
            "geometry": {
             "coordinates": [
              [
               [
                -87.773484,
                41.962898
               ],
               [
                -87.786202,
                41.954613
               ],
               [
                -87.782063,
                41.942461
               ],
               [
                -87.765213,
                41.938592
               ],
               [
                -87.752495,
                41.946873
               ],
               [
                -87.756627,
                41.959027
               ],
               [
                -87.773484,
                41.962898
               ]
              ]
             ],
             "type": "Polygon"
            },
            "id": "872664cb5ffffff",
            "properties": {
             "value": -6
            },
            "type": "Feature"
           },
           {
            "geometry": {
             "coordinates": [
              [
               [
                -87.685891,
                41.841941
               ],
               [
                -87.698595,
                41.833678
               ],
               [
                -87.694489,
                41.821539
               ],
               [
                -87.677686,
                41.81766
               ],
               [
                -87.664983,
                41.825918
               ],
               [
                -87.669082,
                41.83806
               ],
               [
                -87.685891,
                41.841941
               ]
              ]
             ],
             "type": "Polygon"
            },
            "id": "872664cf2ffffff",
            "properties": {
             "value": -193
            },
            "type": "Feature"
           },
           {
            "geometry": {
             "coordinates": [
              [
               [
                -87.782063,
                41.942461
               ],
               [
                -87.794774,
                41.934177
               ],
               [
                -87.790634,
                41.922028
               ],
               [
                -87.773791,
                41.918162
               ],
               [
                -87.761081,
                41.926441
               ],
               [
                -87.765213,
                41.938592
               ],
               [
                -87.782063,
                41.942461
               ]
              ]
             ],
             "type": "Polygon"
            },
            "id": "872664cb1ffffff",
            "properties": {
             "value": 0
            },
            "type": "Feature"
           },
           {
            "geometry": {
             "coordinates": [
              [
               [
                -87.605949,
                41.834657
               ],
               [
                -87.618667,
                41.826403
               ],
               [
                -87.614581,
                41.814261
               ],
               [
                -87.597785,
                41.81037
               ],
               [
                -87.585067,
                41.81862
               ],
               [
                -87.589145,
                41.830764
               ],
               [
                -87.605949,
                41.834657
               ]
              ]
             ],
             "type": "Polygon"
            },
            "id": "872664ce2ffffff",
            "properties": {
             "value": -15
            },
            "type": "Feature"
           },
           {
            "geometry": {
             "coordinates": [
              [
               [
                -87.640433,
                41.753101
               ],
               [
                -87.653122,
                41.744853
               ],
               [
                -87.649035,
                41.732724
               ],
               [
                -87.632267,
                41.72884
               ],
               [
                -87.619579,
                41.737084
               ],
               [
                -87.623658,
                41.749216
               ],
               [
                -87.640433,
                41.753101
               ]
              ]
             ],
             "type": "Polygon"
            },
            "id": "872664cddffffff",
            "properties": {
             "value": 0
            },
            "type": "Feature"
           },
           {
            "geometry": {
             "coordinates": [
              [
               [
                -87.782959,
                41.808357
               ],
               [
                -87.795632,
                41.800089
               ],
               [
                -87.791505,
                41.787959
               ],
               [
                -87.774711,
                41.784096
               ],
               [
                -87.762037,
                41.79236
               ],
               [
                -87.766158,
                41.804492
               ],
               [
                -87.782959,
                41.808357
               ]
              ]
             ],
             "type": "Polygon"
            },
            "id": "872664520ffffff",
            "properties": {
             "value": -1
            },
            "type": "Feature"
           },
           {
            "geometry": {
             "coordinates": [
              [
               [
                -87.698215,
                41.878373
               ],
               [
                -87.710925,
                41.870105
               ],
               [
                -87.706813,
                41.857961
               ],
               [
                -87.689997,
                41.854083
               ],
               [
                -87.677286,
                41.862347
               ],
               [
                -87.681392,
                41.874493
               ],
               [
                -87.698215,
                41.878373
               ]
              ]
             ],
             "type": "Polygon"
            },
            "id": "872664cabffffff",
            "properties": {
             "value": -268
            },
            "type": "Feature"
           },
           {
            "geometry": {
             "coordinates": [
              [
               [
                -87.756302,
                42.003787
               ],
               [
                -87.769035,
                41.995499
               ],
               [
                -87.764897,
                41.98334
               ],
               [
                -87.748033,
                41.979468
               ],
               [
                -87.7353,
                41.987752
               ],
               [
                -87.739431,
                41.999913
               ],
               [
                -87.756302,
                42.003787
               ]
              ]
             ],
             "type": "Polygon"
            },
            "id": "872664d98ffffff",
            "properties": {
             "value": -15
            },
            "type": "Feature"
           },
           {
            "geometry": {
             "coordinates": [
              [
               [
                -87.761081,
                41.926441
               ],
               [
                -87.773791,
                41.918162
               ],
               [
                -87.769659,
                41.906014
               ],
               [
                -87.752823,
                41.902144
               ],
               [
                -87.740112,
                41.91042
               ],
               [
                -87.744237,
                41.92257
               ],
               [
                -87.761081,
                41.926441
               ]
              ]
             ],
             "type": "Polygon"
            },
            "id": "872664c84ffffff",
            "properties": {
             "value": -1
            },
            "type": "Feature"
           },
           {
            "geometry": {
             "coordinates": [
              [
               [
                -87.656371,
                41.84632
               ],
               [
                -87.669082,
                41.83806
               ],
               [
                -87.664983,
                41.825918
               ],
               [
                -87.64818,
                41.822035
               ],
               [
                -87.63547,
                41.830291
               ],
               [
                -87.639562,
                41.842435
               ],
               [
                -87.656371,
                41.84632
               ]
              ]
             ],
             "type": "Polygon"
            },
            "id": "872664cf0ffffff",
            "properties": {
             "value": -82
            },
            "type": "Feature"
           },
           {
            "geometry": {
             "coordinates": [
              [
               [
                -87.688439,
                42.033054
               ],
               [
                -87.701194,
                42.024769
               ],
               [
                -87.697071,
                42.012603
               ],
               [
                -87.680199,
                42.008719
               ],
               [
                -87.667443,
                42.017
               ],
               [
                -87.67156,
                42.029168
               ],
               [
                -87.688439,
                42.033054
               ]
              ]
             ],
             "type": "Polygon"
            },
            "id": "872664d81ffffff",
            "properties": {
             "value": -17
            },
            "type": "Feature"
           },
           {
            "geometry": {
             "coordinates": [
              [
               [
                -87.815502,
                41.994943
               ],
               [
                -87.82822,
                41.98665
               ],
               [
                -87.824068,
                41.974495
               ],
               [
                -87.807204,
                41.970632
               ],
               [
                -87.794486,
                41.978921
               ],
               [
                -87.798632,
                41.991078
               ],
               [
                -87.815502,
                41.994943
               ]
              ]
             ],
             "type": "Polygon"
            },
            "id": "872759369ffffff",
            "properties": {
             "value": -5
            },
            "type": "Feature"
           },
           {
            "geometry": {
             "coordinates": [
              [
               [
                -87.752495,
                41.946873
               ],
               [
                -87.765213,
                41.938592
               ],
               [
                -87.761081,
                41.926441
               ],
               [
                -87.744237,
                41.92257
               ],
               [
                -87.731519,
                41.930847
               ],
               [
                -87.735644,
                41.943
               ],
               [
                -87.752495,
                41.946873
               ]
              ]
             ],
             "type": "Polygon"
            },
            "id": "872664ca2ffffff",
            "properties": {
             "value": -34
            },
            "type": "Feature"
           },
           {
            "geometry": {
             "coordinates": [
              [
               [
                -87.614581,
                41.814261
               ],
               [
                -87.627292,
                41.806008
               ],
               [
                -87.623207,
                41.793869
               ],
               [
                -87.606417,
                41.78998
               ],
               [
                -87.593707,
                41.798229
               ],
               [
                -87.597785,
                41.81037
               ],
               [
                -87.614581,
                41.814261
               ]
              ]
             ],
             "type": "Polygon"
            },
            "id": "872664cc4ffffff",
            "properties": {
             "value": -20
            },
            "type": "Feature"
           },
           {
            "geometry": {
             "coordinates": [
              [
               [
                -87.72669,
                42.008198
               ],
               [
                -87.739431,
                41.999913
               ],
               [
                -87.7353,
                41.987752
               ],
               [
                -87.718435,
                41.983875
               ],
               [
                -87.705694,
                41.992157
               ],
               [
                -87.709819,
                42.00432
               ],
               [
                -87.72669,
                42.008198
               ]
              ]
             ],
             "type": "Polygon"
            },
            "id": "872664d9dffffff",
            "properties": {
             "value": -21
            },
            "type": "Feature"
           },
           {
            "geometry": {
             "coordinates": [
              [
               [
                -87.845091,
                41.99051
               ],
               [
                -87.857801,
                41.982214
               ],
               [
                -87.853642,
                41.970062
               ],
               [
                -87.836778,
                41.966204
               ],
               [
                -87.824068,
                41.974495
               ],
               [
                -87.82822,
                41.98665
               ],
               [
                -87.845091,
                41.99051
               ]
              ]
             ],
             "type": "Polygon"
            },
            "id": "87275936bffffff",
            "properties": {
             "value": -1241
            },
            "type": "Feature"
           },
           {
            "geometry": {
             "coordinates": [
              [
               [
                -87.753476,
                41.812758
               ],
               [
                -87.766158,
                41.804492
               ],
               [
                -87.762037,
                41.79236
               ],
               [
                -87.745242,
                41.788492
               ],
               [
                -87.732561,
                41.796754
               ],
               [
                -87.736675,
                41.808888
               ],
               [
                -87.753476,
                41.812758
               ]
              ]
             ],
             "type": "Polygon"
            },
            "id": "872664525ffffff",
            "properties": {
             "value": -47
            },
            "type": "Feature"
           },
           {
            "geometry": {
             "coordinates": [
              [
               [
                -87.590114,
                41.741438
               ],
               [
                -87.60281,
                41.733196
               ],
               [
                -87.598737,
                41.721066
               ],
               [
                -87.581975,
                41.717176
               ],
               [
                -87.56928,
                41.725413
               ],
               [
                -87.573346,
                41.737545
               ],
               [
                -87.590114,
                41.741438
               ]
              ]
             ],
             "type": "Polygon"
            },
            "id": "872664cc8ffffff",
            "properties": {
             "value": 1
            },
            "type": "Feature"
           },
           {
            "geometry": {
             "coordinates": [
              [
               [
                -87.727748,
                41.87398
               ],
               [
                -87.740452,
                41.86571
               ],
               [
                -87.736332,
                41.853568
               ],
               [
                -87.719516,
                41.849695
               ],
               [
                -87.706813,
                41.857961
               ],
               [
                -87.710925,
                41.870105
               ],
               [
                -87.727748,
                41.87398
               ]
              ]
             ],
             "type": "Polygon"
            },
            "id": "872664c8cffffff",
            "properties": {
             "value": -7
            },
            "type": "Feature"
           },
           {
            "geometry": {
             "coordinates": [
              [
               [
                -87.718073,
                42.02865
               ],
               [
                -87.730821,
                42.020362
               ],
               [
                -87.72669,
                42.008198
               ],
               [
                -87.709819,
                42.00432
               ],
               [
                -87.697071,
                42.012603
               ],
               [
                -87.701194,
                42.024769
               ],
               [
                -87.718073,
                42.02865
               ]
              ]
             ],
             "type": "Polygon"
            },
            "id": "872664d83ffffff",
            "properties": {
             "value": -3
            },
            "type": "Feature"
           },
           {
            "geometry": {
             "coordinates": [
              [
               [
                -87.794486,
                41.978921
               ],
               [
                -87.807204,
                41.970632
               ],
               [
                -87.803059,
                41.958479
               ],
               [
                -87.786202,
                41.954613
               ],
               [
                -87.773484,
                41.962898
               ],
               [
                -87.777622,
                41.975053
               ],
               [
                -87.794486,
                41.978921
               ]
              ]
             ],
             "type": "Polygon"
            },
            "id": "872664cb4ffffff",
            "properties": {
             "value": -1
            },
            "type": "Feature"
           },
           {
            "geometry": {
             "coordinates": [
              [
               [
                -87.744908,
                41.833161
               ],
               [
                -87.757597,
                41.824893
               ],
               [
                -87.753476,
                41.812758
               ],
               [
                -87.736675,
                41.808888
               ],
               [
                -87.723986,
                41.817152
               ],
               [
                -87.728099,
                41.829289
               ],
               [
                -87.744908,
                41.833161
               ]
              ]
             ],
             "type": "Polygon"
            },
            "id": "872664c8bffffff",
            "properties": {
             "value": 2
            },
            "type": "Feature"
           },
           {
            "geometry": {
             "coordinates": [
              [
               [
                -87.694489,
                41.821539
               ],
               [
                -87.707184,
                41.813277
               ],
               [
                -87.703078,
                41.801141
               ],
               [
                -87.686283,
                41.797264
               ],
               [
                -87.673587,
                41.805521
               ],
               [
                -87.677686,
                41.81766
               ],
               [
                -87.694489,
                41.821539
               ]
              ]
             ],
             "type": "Polygon"
            },
            "id": "872664cd4ffffff",
            "properties": {
             "value": -2
            },
            "type": "Feature"
           },
           {
            "geometry": {
             "coordinates": [
              [
               [
                -87.720234,
                41.760361
               ],
               [
                -87.732907,
                41.752105
               ],
               [
                -87.7288,
                41.739979
               ],
               [
                -87.712026,
                41.736107
               ],
               [
                -87.699352,
                41.74436
               ],
               [
                -87.703453,
                41.756488
               ],
               [
                -87.720234,
                41.760361
               ]
              ]
             ],
             "type": "Polygon"
            },
            "id": "87266452dffffff",
            "properties": {
             "value": -3
            },
            "type": "Feature"
           },
           {
            "geometry": {
             "coordinates": [
              [
               [
                -87.791505,
                41.787959
               ],
               [
                -87.804171,
                41.779692
               ],
               [
                -87.800043,
                41.767566
               ],
               [
                -87.783256,
                41.763704
               ],
               [
                -87.77059,
                41.771967
               ],
               [
                -87.774711,
                41.784096
               ],
               [
                -87.791505,
                41.787959
               ]
              ]
             ],
             "type": "Polygon"
            },
            "id": "872664523ffffff",
            "properties": {
             "value": 0
            },
            "type": "Feature"
           },
           {
            "geometry": {
             "coordinates": [
              [
               [
                -87.91677,
                42.018081
               ],
               [
                -87.929473,
                42.009776
               ],
               [
                -87.925293,
                41.997623
               ],
               [
                -87.908417,
                41.993775
               ],
               [
                -87.895714,
                42.002077
               ],
               [
                -87.899887,
                42.014231
               ],
               [
                -87.91677,
                42.018081
               ]
              ]
             ],
             "type": "Polygon"
            },
            "id": "872759340ffffff",
            "properties": {
             "value": -86
            },
            "type": "Feature"
           },
           {
            "geometry": {
             "coordinates": [
              [
               [
                -87.853642,
                41.970062
               ],
               [
                -87.866345,
                41.961768
               ],
               [
                -87.862185,
                41.949619
               ],
               [
                -87.845329,
                41.945762
               ],
               [
                -87.832626,
                41.954053
               ],
               [
                -87.836778,
                41.966204
               ],
               [
                -87.853642,
                41.970062
               ]
              ]
             ],
             "type": "Polygon"
            },
            "id": "87275934dffffff",
            "properties": {
             "value": 0
            },
            "type": "Feature"
           },
           {
            "geometry": {
             "coordinates": [
              [
               [
                -87.666215,
                41.691984
               ],
               [
                -87.678882,
                41.683741
               ],
               [
                -87.674794,
                41.671622
               ],
               [
                -87.658047,
                41.667744
               ],
               [
                -87.64538,
                41.675983
               ],
               [
                -87.649461,
                41.688105
               ],
               [
                -87.666215,
                41.691984
               ]
              ]
             ],
             "type": "Polygon"
            },
            "id": "872664562ffffff",
            "properties": {
             "value": 0
            },
            "type": "Feature"
           },
           {
            "geometry": {
             "coordinates": [
              [
               [
                -87.63547,
                41.830291
               ],
               [
                -87.64818,
                41.822035
               ],
               [
                -87.644088,
                41.809895
               ],
               [
                -87.627292,
                41.806008
               ],
               [
                -87.614581,
                41.814261
               ],
               [
                -87.618667,
                41.826403
               ],
               [
                -87.63547,
                41.830291
               ]
              ]
             ],
             "type": "Polygon"
            },
            "id": "872664cf1ffffff",
            "properties": {
             "value": -332
            },
            "type": "Feature"
           },
           {
            "geometry": {
             "coordinates": [
              [
               [
                -87.572845,
                41.782195
               ],
               [
                -87.585556,
                41.773951
               ],
               [
                -87.581484,
                41.761814
               ],
               [
                -87.564708,
                41.75792
               ],
               [
                -87.551997,
                41.76616
               ],
               [
                -87.556063,
                41.778299
               ],
               [
                -87.572845,
                41.782195
               ]
              ]
             ],
             "type": "Polygon"
            },
            "id": "872664ceaffffff",
            "properties": {
             "value": -86
            },
            "type": "Feature"
           },
           {
            "geometry": {
             "coordinates": [
              [
               [
                -87.748697,
                41.889998
               ],
               [
                -87.7614,
                41.881724
               ],
               [
                -87.757274,
                41.869581
               ],
               [
                -87.740452,
                41.86571
               ],
               [
                -87.727748,
                41.87398
               ],
               [
                -87.731867,
                41.886126
               ],
               [
                -87.748697,
                41.889998
               ]
              ]
             ],
             "type": "Polygon"
            },
            "id": "872664c81ffffff",
            "properties": {
             "value": -2
            },
            "type": "Feature"
           },
           {
            "geometry": {
             "coordinates": [
              [
               [
                -87.703078,
                41.801141
               ],
               [
                -87.715767,
                41.792882
               ],
               [
                -87.71166,
                41.780749
               ],
               [
                -87.694872,
                41.776874
               ],
               [
                -87.682183,
                41.785129
               ],
               [
                -87.686283,
                41.797264
               ],
               [
                -87.703078,
                41.801141
               ]
              ]
             ],
             "type": "Polygon"
            },
            "id": "872664cd0ffffff",
            "properties": {
             "value": 0
            },
            "type": "Feature"
           },
           {
            "geometry": {
             "coordinates": [
              [
               [
                -87.806929,
                42.015395
               ],
               [
                -87.819654,
                42.0071
               ],
               [
                -87.815502,
                41.994943
               ],
               [
                -87.798632,
                41.991078
               ],
               [
                -87.785906,
                41.999368
               ],
               [
                -87.790051,
                42.011528
               ],
               [
                -87.806929,
                42.015395
               ]
              ]
             ],
             "type": "Polygon"
            },
            "id": "87275936dffffff",
            "properties": {
             "value": -1
            },
            "type": "Feature"
           },
           {
            "geometry": {
             "coordinates": [
              [
               [
                -87.785906,
                41.999368
               ],
               [
                -87.798632,
                41.991078
               ],
               [
                -87.794486,
                41.978921
               ],
               [
                -87.777622,
                41.975053
               ],
               [
                -87.764897,
                41.98334
               ],
               [
                -87.769035,
                41.995499
               ],
               [
                -87.785906,
                41.999368
               ]
              ]
             ],
             "type": "Polygon"
            },
            "id": "872664d9affffff",
            "properties": {
             "value": -11
            },
            "type": "Feature"
           },
           {
            "geometry": {
             "coordinates": [
              [
               [
                -87.757274,
                41.869581
               ],
               [
                -87.76997,
                41.861308
               ],
               [
                -87.765843,
                41.849168
               ],
               [
                -87.749028,
                41.845299
               ],
               [
                -87.736332,
                41.853568
               ],
               [
                -87.740452,
                41.86571
               ],
               [
                -87.757274,
                41.869581
               ]
              ]
             ],
             "type": "Polygon"
            },
            "id": "872664c8effffff",
            "properties": {
             "value": -3
            },
            "type": "Feature"
           },
           {
            "geometry": {
             "coordinates": [
              [
               [
                -87.706813,
                41.857961
               ],
               [
                -87.719516,
                41.849695
               ],
               [
                -87.715404,
                41.837554
               ],
               [
                -87.698595,
                41.833678
               ],
               [
                -87.685891,
                41.841941
               ],
               [
                -87.689997,
                41.854083
               ],
               [
                -87.706813,
                41.857961
               ]
              ]
             ],
             "type": "Polygon"
            },
            "id": "872664c8dffffff",
            "properties": {
             "value": -128
            },
            "type": "Feature"
           },
           {
            "geometry": {
             "coordinates": [
              [
               [
                -87.581484,
                41.761814
               ],
               [
                -87.594187,
                41.753571
               ],
               [
                -87.590114,
                41.741438
               ],
               [
                -87.573346,
                41.737545
               ],
               [
                -87.560642,
                41.745784
               ],
               [
                -87.564708,
                41.75792
               ],
               [
                -87.581484,
                41.761814
               ]
              ]
             ],
             "type": "Polygon"
            },
            "id": "872664cccffffff",
            "properties": {
             "value": -3
            },
            "type": "Feature"
           },
           {
            "geometry": {
             "coordinates": [
              [
               [
                -87.619579,
                41.737084
               ],
               [
                -87.632267,
                41.72884
               ],
               [
                -87.628187,
                41.716713
               ],
               [
                -87.611426,
                41.712826
               ],
               [
                -87.598737,
                41.721066
               ],
               [
                -87.60281,
                41.733196
               ],
               [
                -87.619579,
                41.737084
               ]
              ]
             ],
             "type": "Polygon"
            },
            "id": "872664ccaffffff",
            "properties": {
             "value": -5
            },
            "type": "Feature"
           },
           {
            "geometry": {
             "coordinates": [
              [
               [
                -87.628187,
                41.716713
               ],
               [
                -87.640868,
                41.70847
               ],
               [
                -87.636788,
                41.696345
               ],
               [
                -87.620033,
                41.692461
               ],
               [
                -87.607352,
                41.7007
               ],
               [
                -87.611426,
                41.712826
               ],
               [
                -87.628187,
                41.716713
               ]
              ]
             ],
             "type": "Polygon"
            },
            "id": "872664564ffffff",
            "properties": {
             "value": -2
            },
            "type": "Feature"
           },
           {
            "geometry": {
             "coordinates": [
              [
               [
                -87.631824,
                41.773483
               ],
               [
                -87.64452,
                41.765233
               ],
               [
                -87.640433,
                41.753101
               ],
               [
                -87.623658,
                41.749216
               ],
               [
                -87.610962,
                41.757461
               ],
               [
                -87.615042,
                41.769596
               ],
               [
                -87.631824,
                41.773483
               ]
              ]
             ],
             "type": "Polygon"
            },
            "id": "872664cc3ffffff",
            "properties": {
             "value": -1
            },
            "type": "Feature"
           },
           {
            "geometry": {
             "coordinates": [
              [
               [
                -87.551997,
                41.76616
               ],
               [
                -87.564708,
                41.75792
               ],
               [
                -87.560642,
                41.745784
               ],
               [
                -87.543873,
                41.741887
               ],
               [
                -87.531163,
                41.750124
               ],
               [
                -87.535221,
                41.762261
               ],
               [
                -87.551997,
                41.76616
               ]
              ]
             ],
             "type": "Polygon"
            },
            "id": "872664cebffffff",
            "properties": {
             "value": -1
            },
            "type": "Feature"
           },
           {
            "geometry": {
             "coordinates": [
              [
               [
                -87.664983,
                41.825918
               ],
               [
                -87.677686,
                41.81766
               ],
               [
                -87.673587,
                41.805521
               ],
               [
                -87.656791,
                41.80164
               ],
               [
                -87.644088,
                41.809895
               ],
               [
                -87.64818,
                41.822035
               ],
               [
                -87.664983,
                41.825918
               ]
              ]
             ],
             "type": "Polygon"
            },
            "id": "872664cf3ffffff",
            "properties": {
             "value": -8
            },
            "type": "Feature"
           },
           {
            "geometry": {
             "coordinates": [
              [
               [
                -87.610962,
                41.757461
               ],
               [
                -87.623658,
                41.749216
               ],
               [
                -87.619579,
                41.737084
               ],
               [
                -87.60281,
                41.733196
               ],
               [
                -87.590114,
                41.741438
               ],
               [
                -87.594187,
                41.753571
               ],
               [
                -87.610962,
                41.757461
               ]
              ]
             ],
             "type": "Polygon"
            },
            "id": "872664cceffffff",
            "properties": {
             "value": -1
            },
            "type": "Feature"
           },
           {
            "geometry": {
             "coordinates": [
              [
               [
                -87.803059,
                41.958479
               ],
               [
                -87.815769,
                41.950191
               ],
               [
                -87.811623,
                41.938041
               ],
               [
                -87.794774,
                41.934177
               ],
               [
                -87.782063,
                41.942461
               ],
               [
                -87.786202,
                41.954613
               ],
               [
                -87.803059,
                41.958479
               ]
              ]
             ],
             "type": "Polygon"
            },
            "id": "872664cb0ffffff",
            "properties": {
             "value": -1
            },
            "type": "Feature"
           },
           {
            "geometry": {
             "coordinates": [
              [
               [
                -87.732561,
                41.796754
               ],
               [
                -87.745242,
                41.788492
               ],
               [
                -87.741129,
                41.776362
               ],
               [
                -87.724341,
                41.772491
               ],
               [
                -87.71166,
                41.780749
               ],
               [
                -87.715767,
                41.792882
               ],
               [
                -87.732561,
                41.796754
               ]
              ]
             ],
             "type": "Polygon"
            },
            "id": "872664cd2ffffff",
            "properties": {
             "value": -1
            },
            "type": "Feature"
           },
           {
            "geometry": {
             "coordinates": [
              [
               [
                -87.723986,
                41.817152
               ],
               [
                -87.736675,
                41.808888
               ],
               [
                -87.732561,
                41.796754
               ],
               [
                -87.715767,
                41.792882
               ],
               [
                -87.703078,
                41.801141
               ],
               [
                -87.707184,
                41.813277
               ],
               [
                -87.723986,
                41.817152
               ]
              ]
             ],
             "type": "Polygon"
            },
            "id": "872664cd6ffffff",
            "properties": {
             "value": 3
            },
            "type": "Feature"
           },
           {
            "geometry": {
             "coordinates": [
              [
               [
                -87.777318,
                42.01982
               ],
               [
                -87.790051,
                42.011528
               ],
               [
                -87.785906,
                41.999368
               ],
               [
                -87.769035,
                41.995499
               ],
               [
                -87.756302,
                42.003787
               ],
               [
                -87.76044,
                42.015949
               ],
               [
                -87.777318,
                42.01982
               ]
              ]
             ],
             "type": "Polygon"
            },
            "id": "872664d9effffff",
            "properties": {
             "value": -1
            },
            "type": "Feature"
           },
           {
            "geometry": {
             "coordinates": [
              [
               [
                -87.644088,
                41.809895
               ],
               [
                -87.656791,
                41.80164
               ],
               [
                -87.652699,
                41.789503
               ],
               [
                -87.63591,
                41.785618
               ],
               [
                -87.623207,
                41.793869
               ],
               [
                -87.627292,
                41.806008
               ],
               [
                -87.644088,
                41.809895
               ]
              ]
             ],
             "type": "Polygon"
            },
            "id": "872664cc6ffffff",
            "properties": {
             "value": 0
            },
            "type": "Feature"
           },
           {
            "geometry": {
             "coordinates": [
              [
               [
                -87.577909,
                41.705047
               ],
               [
                -87.590597,
                41.696811
               ],
               [
                -87.586531,
                41.684685
               ],
               [
                -87.569783,
                41.680794
               ],
               [
                -87.557094,
                41.689026
               ],
               [
                -87.561154,
                41.701153
               ],
               [
                -87.577909,
                41.705047
               ]
              ]
             ],
             "type": "Polygon"
            },
            "id": "872664196ffffff",
            "properties": {
             "value": -2
            },
            "type": "Feature"
           },
           {
            "geometry": {
             "coordinates": [
              [
               [
                -87.719157,
                41.894397
               ],
               [
                -87.731867,
                41.886126
               ],
               [
                -87.727748,
                41.87398
               ],
               [
                -87.710925,
                41.870105
               ],
               [
                -87.698215,
                41.878373
               ],
               [
                -87.702327,
                41.89052
               ],
               [
                -87.719157,
                41.894397
               ]
              ]
             ],
             "type": "Polygon"
            },
            "id": "872664caaffffff",
            "properties": {
             "value": -5
            },
            "type": "Feature"
           },
           {
            "geometry": {
             "coordinates": [
              [
               [
                -87.715404,
                41.837554
               ],
               [
                -87.728099,
                41.829289
               ],
               [
                -87.723986,
                41.817152
               ],
               [
                -87.707184,
                41.813277
               ],
               [
                -87.694489,
                41.821539
               ],
               [
                -87.698595,
                41.833678
               ],
               [
                -87.715404,
                41.837554
               ]
              ]
             ],
             "type": "Polygon"
            },
            "id": "872664c89ffffff",
            "properties": {
             "value": 0
            },
            "type": "Feature"
           },
           {
            "geometry": {
             "coordinates": [
              [
               [
                -87.740112,
                41.91042
               ],
               [
                -87.752823,
                41.902144
               ],
               [
                -87.748697,
                41.889998
               ],
               [
                -87.731867,
                41.886126
               ],
               [
                -87.719157,
                41.894397
               ],
               [
                -87.723275,
                41.906546
               ],
               [
                -87.740112,
                41.91042
               ]
              ]
             ],
             "type": "Polygon"
            },
            "id": "872664c85ffffff",
            "properties": {
             "value": -2
            },
            "type": "Feature"
           },
           {
            "geometry": {
             "coordinates": [
              [
               [
                -87.827965,
                42.03142
               ],
               [
                -87.840691,
                42.023121
               ],
               [
                -87.836532,
                42.010963
               ],
               [
                -87.819654,
                42.0071
               ],
               [
                -87.806929,
                42.015395
               ],
               [
                -87.811081,
                42.027556
               ],
               [
                -87.827965,
                42.03142
               ]
              ]
             ],
             "type": "Polygon"
            },
            "id": "87275936cffffff",
            "properties": {
             "value": 0
            },
            "type": "Feature"
           },
           {
            "geometry": {
             "coordinates": [
              [
               [
                -87.832626,
                41.954053
               ],
               [
                -87.845329,
                41.945762
               ],
               [
                -87.841176,
                41.933615
               ],
               [
                -87.824326,
                41.929755
               ],
               [
                -87.811623,
                41.938041
               ],
               [
                -87.815769,
                41.950191
               ],
               [
                -87.832626,
                41.954053
               ]
              ]
             ],
             "type": "Polygon"
            },
            "id": "872664cb2ffffff",
            "properties": {
             "value": 1
            },
            "type": "Feature"
           },
           {
            "geometry": {
             "coordinates": [
              [
               [
                -87.649035,
                41.732724
               ],
               [
                -87.661716,
                41.724478
               ],
               [
                -87.657629,
                41.712352
               ],
               [
                -87.640868,
                41.70847
               ],
               [
                -87.628187,
                41.716713
               ],
               [
                -87.632267,
                41.72884
               ],
               [
                -87.649035,
                41.732724
               ]
              ]
             ],
             "type": "Polygon"
            },
            "id": "872664cd9ffffff",
            "properties": {
             "value": -1
            },
            "type": "Feature"
           },
           {
            "geometry": {
             "coordinates": [
              [
               [
                -87.790634,
                41.922028
               ],
               [
                -87.803338,
                41.913746
               ],
               [
                -87.799198,
                41.901601
               ],
               [
                -87.782362,
                41.897736
               ],
               [
                -87.769659,
                41.906014
               ],
               [
                -87.773791,
                41.918162
               ],
               [
                -87.790634,
                41.922028
               ]
              ]
             ],
             "type": "Polygon"
            },
            "id": "872664c86ffffff",
            "properties": {
             "value": -2
            },
            "type": "Feature"
           },
           {
            "geometry": {
             "coordinates": [
              [
               [
                -87.778229,
                41.885592
               ],
               [
                -87.790925,
                41.877315
               ],
               [
                -87.786792,
                41.865174
               ],
               [
                -87.76997,
                41.861308
               ],
               [
                -87.757274,
                41.869581
               ],
               [
                -87.7614,
                41.881724
               ],
               [
                -87.778229,
                41.885592
               ]
              ]
             ],
             "type": "Polygon"
            },
            "id": "872664c83ffffff",
            "properties": {
             "value": 0
            },
            "type": "Feature"
           },
           {
            "geometry": {
             "coordinates": [
              [
               [
                -87.652699,
                41.789503
               ],
               [
                -87.665395,
                41.78125
               ],
               [
                -87.661302,
                41.769116
               ],
               [
                -87.64452,
                41.765233
               ],
               [
                -87.631824,
                41.773483
               ],
               [
                -87.63591,
                41.785618
               ],
               [
                -87.652699,
                41.789503
               ]
              ]
             ],
             "type": "Polygon"
            },
            "id": "872664cc2ffffff",
            "properties": {
             "value": -2
            },
            "type": "Feature"
           },
           {
            "geometry": {
             "coordinates": [
              [
               [
                -87.71166,
                41.780749
               ],
               [
                -87.724341,
                41.772491
               ],
               [
                -87.720234,
                41.760361
               ],
               [
                -87.703453,
                41.756488
               ],
               [
                -87.690772,
                41.764742
               ],
               [
                -87.694872,
                41.776874
               ],
               [
                -87.71166,
                41.780749
               ]
              ]
             ],
             "type": "Polygon"
            },
            "id": "872664cd3ffffff",
            "properties": {
             "value": 0
            },
            "type": "Feature"
           },
           {
            "geometry": {
             "coordinates": [
              [
               [
                -87.623207,
                41.793869
               ],
               [
                -87.63591,
                41.785618
               ],
               [
                -87.631824,
                41.773483
               ],
               [
                -87.615042,
                41.769596
               ],
               [
                -87.602338,
                41.777842
               ],
               [
                -87.606417,
                41.78998
               ],
               [
                -87.623207,
                41.793869
               ]
              ]
             ],
             "type": "Polygon"
            },
            "id": "872664cc0ffffff",
            "properties": {
             "value": -8
            },
            "type": "Feature"
           },
           {
            "geometry": {
             "coordinates": [
              [
               [
                -87.661302,
                41.769116
               ],
               [
                -87.67399,
                41.760864
               ],
               [
                -87.669897,
                41.748734
               ],
               [
                -87.653122,
                41.744853
               ],
               [
                -87.640433,
                41.753101
               ],
               [
                -87.64452,
                41.765233
               ],
               [
                -87.661302,
                41.769116
               ]
              ]
             ],
             "type": "Polygon"
            },
            "id": "872664cdcffffff",
            "properties": {
             "value": -2
            },
            "type": "Feature"
           },
           {
            "geometry": {
             "coordinates": [
              [
               [
                -87.602338,
                41.777842
               ],
               [
                -87.615042,
                41.769596
               ],
               [
                -87.610962,
                41.757461
               ],
               [
                -87.594187,
                41.753571
               ],
               [
                -87.581484,
                41.761814
               ],
               [
                -87.585556,
                41.773951
               ],
               [
                -87.602338,
                41.777842
               ]
              ]
             ],
             "type": "Polygon"
            },
            "id": "872664cc1ffffff",
            "properties": {
             "value": 0
            },
            "type": "Feature"
           },
           {
            "geometry": {
             "coordinates": [
              [
               [
                -87.673587,
                41.805521
               ],
               [
                -87.686283,
                41.797264
               ],
               [
                -87.682183,
                41.785129
               ],
               [
                -87.665395,
                41.78125
               ],
               [
                -87.652699,
                41.789503
               ],
               [
                -87.656791,
                41.80164
               ],
               [
                -87.673587,
                41.805521
               ]
              ]
             ],
             "type": "Polygon"
            },
            "id": "872664cd5ffffff",
            "properties": {
             "value": -1
            },
            "type": "Feature"
           },
           {
            "geometry": {
             "coordinates": [
              [
               [
                -87.769659,
                41.906014
               ],
               [
                -87.782362,
                41.897736
               ],
               [
                -87.778229,
                41.885592
               ],
               [
                -87.7614,
                41.881724
               ],
               [
                -87.748697,
                41.889998
               ],
               [
                -87.752823,
                41.902144
               ],
               [
                -87.769659,
                41.906014
               ]
              ]
             ],
             "type": "Polygon"
            },
            "id": "872664c80ffffff",
            "properties": {
             "value": 0
            },
            "type": "Feature"
           },
           {
            "geometry": {
             "coordinates": [
              [
               [
                -87.669897,
                41.748734
               ],
               [
                -87.682578,
                41.740483
               ],
               [
                -87.678484,
                41.728356
               ],
               [
                -87.661716,
                41.724478
               ],
               [
                -87.649035,
                41.732724
               ],
               [
                -87.653122,
                41.744853
               ],
               [
                -87.669897,
                41.748734
               ]
              ]
             ],
             "type": "Polygon"
            },
            "id": "872664cd8ffffff",
            "properties": {
             "value": 0
            },
            "type": "Feature"
           },
           {
            "geometry": {
             "coordinates": [
              [
               [
                -87.687064,
                41.707984
               ],
               [
                -87.69973,
                41.699737
               ],
               [
                -87.695635,
                41.687616
               ],
               [
                -87.678882,
                41.683741
               ],
               [
                -87.666215,
                41.691984
               ],
               [
                -87.670303,
                41.704107
               ],
               [
                -87.687064,
                41.707984
               ]
              ]
             ],
             "type": "Polygon"
            },
            "id": "872664575ffffff",
            "properties": {
             "value": -1
            },
            "type": "Feature"
           },
           {
            "geometry": {
             "coordinates": [
              [
               [
                -87.741129,
                41.776362
               ],
               [
                -87.753802,
                41.768101
               ],
               [
                -87.749688,
                41.755974
               ],
               [
                -87.732907,
                41.752105
               ],
               [
                -87.720234,
                41.760361
               ],
               [
                -87.724341,
                41.772491
               ],
               [
                -87.741129,
                41.776362
               ]
              ]
             ],
             "type": "Polygon"
            },
            "id": "87266452cffffff",
            "properties": {
             "value": -2
            },
            "type": "Feature"
           },
           {
            "geometry": {
             "coordinates": [
              [
               [
                -87.811623,
                41.938041
               ],
               [
                -87.824326,
                41.929755
               ],
               [
                -87.82018,
                41.917609
               ],
               [
                -87.803338,
                41.913746
               ],
               [
                -87.790634,
                41.922028
               ],
               [
                -87.794774,
                41.934177
               ],
               [
                -87.811623,
                41.938041
               ]
              ]
             ],
             "type": "Polygon"
            },
            "id": "872664cb3ffffff",
            "properties": {
             "value": -3
            },
            "type": "Feature"
           },
           {
            "geometry": {
             "coordinates": [
              [
               [
                -87.678484,
                41.728356
               ],
               [
                -87.691158,
                41.720108
               ],
               [
                -87.687064,
                41.707984
               ],
               [
                -87.670303,
                41.704107
               ],
               [
                -87.657629,
                41.712352
               ],
               [
                -87.661716,
                41.724478
               ],
               [
                -87.678484,
                41.728356
               ]
              ]
             ],
             "type": "Polygon"
            },
            "id": "872664cdbffffff",
            "properties": {
             "value": 0
            },
            "type": "Feature"
           },
           {
            "geometry": {
             "coordinates": [
              [
               [
                -87.560642,
                41.745784
               ],
               [
                -87.573346,
                41.737545
               ],
               [
                -87.56928,
                41.725413
               ],
               [
                -87.552518,
                41.721518
               ],
               [
                -87.539814,
                41.729753
               ],
               [
                -87.543873,
                41.741887
               ],
               [
                -87.560642,
                41.745784
               ]
              ]
             ],
             "type": "Polygon"
            },
            "id": "872664ccdffffff",
            "properties": {
             "value": 0
            },
            "type": "Feature"
           },
           {
            "geometry": {
             "coordinates": [
              [
               [
                -87.615959,
                41.680338
               ],
               [
                -87.628633,
                41.672101
               ],
               [
                -87.624559,
                41.659981
               ],
               [
                -87.607818,
                41.656096
               ],
               [
                -87.595145,
                41.664329
               ],
               [
                -87.599212,
                41.676451
               ],
               [
                -87.615959,
                41.680338
               ]
              ]
             ],
             "type": "Polygon"
            },
            "id": "872664561ffffff",
            "properties": {
             "value": -1
            },
            "type": "Feature"
           },
           {
            "geometry": {
             "coordinates": [
              [
               [
                -87.736332,
                41.853568
               ],
               [
                -87.749028,
                41.845299
               ],
               [
                -87.744908,
                41.833161
               ],
               [
                -87.728099,
                41.829289
               ],
               [
                -87.715404,
                41.837554
               ],
               [
                -87.719516,
                41.849695
               ],
               [
                -87.736332,
                41.853568
               ]
              ]
             ],
             "type": "Polygon"
            },
            "id": "872664c88ffffff",
            "properties": {
             "value": 0
            },
            "type": "Feature"
           },
           {
            "geometry": {
             "coordinates": [
              [
               [
                -87.707925,
                41.723982
               ],
               [
                -87.720591,
                41.715731
               ],
               [
                -87.71649,
                41.703609
               ],
               [
                -87.69973,
                41.699737
               ],
               [
                -87.687064,
                41.707984
               ],
               [
                -87.691158,
                41.720108
               ],
               [
                -87.707925,
                41.723982
               ]
              ]
             ],
             "type": "Polygon"
            },
            "id": "872664574ffffff",
            "properties": {
             "value": 0
            },
            "type": "Feature"
           }
          ],
          "type": "FeatureCollection"
         },
         "hovertemplate": "hex=%{location}<br>Demand Difference Morning in Res7=%{z}<extra></extra>",
         "locations": [
          "872664c1effffff",
          "872664c12ffffff",
          "872664c10ffffff",
          "872664cacffffff",
          "872664c14ffffff",
          "872664d89ffffff",
          "872664cadffffff",
          "872664c16ffffff",
          "872664d8dffffff",
          "872664c1affffff",
          "872664c11ffffff",
          "872664ca1ffffff",
          "872664c13ffffff",
          "872664ce3ffffff",
          "872664c1bffffff",
          "872664ca5ffffff",
          "872664d8bffffff",
          "872664d8cffffff",
          "872664cf4ffffff",
          "872664ca0ffffff",
          "87275934effffff",
          "872664d88ffffff",
          "872664ca9ffffff",
          "872664cf5ffffff",
          "872664d8affffff",
          "872664ca8ffffff",
          "872664d8effffff",
          "872664ca4ffffff",
          "872664521ffffff",
          "872664caeffffff",
          "872664ca6ffffff",
          "872664d9bffffff",
          "872664d99ffffff",
          "872664cf6ffffff",
          "872664ca3ffffff",
          "872664cc5ffffff",
          "872664cb5ffffff",
          "872664cf2ffffff",
          "872664cb1ffffff",
          "872664ce2ffffff",
          "872664cddffffff",
          "872664520ffffff",
          "872664cabffffff",
          "872664d98ffffff",
          "872664c84ffffff",
          "872664cf0ffffff",
          "872664d81ffffff",
          "872759369ffffff",
          "872664ca2ffffff",
          "872664cc4ffffff",
          "872664d9dffffff",
          "87275936bffffff",
          "872664525ffffff",
          "872664cc8ffffff",
          "872664c8cffffff",
          "872664d83ffffff",
          "872664cb4ffffff",
          "872664c8bffffff",
          "872664cd4ffffff",
          "87266452dffffff",
          "872664523ffffff",
          "872759340ffffff",
          "87275934dffffff",
          "872664562ffffff",
          "872664cf1ffffff",
          "872664ceaffffff",
          "872664c81ffffff",
          "872664cd0ffffff",
          "87275936dffffff",
          "872664d9affffff",
          "872664c8effffff",
          "872664c8dffffff",
          "872664cccffffff",
          "872664ccaffffff",
          "872664564ffffff",
          "872664cc3ffffff",
          "872664cebffffff",
          "872664cf3ffffff",
          "872664cceffffff",
          "872664cb0ffffff",
          "872664cd2ffffff",
          "872664cd6ffffff",
          "872664d9effffff",
          "872664cc6ffffff",
          "872664196ffffff",
          "872664caaffffff",
          "872664c89ffffff",
          "872664c85ffffff",
          "87275936cffffff",
          "872664cb2ffffff",
          "872664cd9ffffff",
          "872664c86ffffff",
          "872664c83ffffff",
          "872664cc2ffffff",
          "872664cd3ffffff",
          "872664cc0ffffff",
          "872664cdcffffff",
          "872664cc1ffffff",
          "872664cd5ffffff",
          "872664c80ffffff",
          "872664cd8ffffff",
          "872664575ffffff",
          "87266452cffffff",
          "872664cb3ffffff",
          "872664cdbffffff",
          "872664ccdffffff",
          "872664561ffffff",
          "872664c88ffffff",
          "872664574ffffff"
         ],
         "marker": {
          "opacity": 0.7
         },
         "name": "",
         "subplot": "mapbox",
         "type": "choroplethmapbox",
         "z": [
          283707,
          -7531,
          92949,
          17020,
          19646,
          21772,
          43114,
          17961,
          4085,
          -276528,
          72840,
          -715,
          -8467,
          4499,
          -81515,
          241,
          931,
          1334,
          -3893,
          -22,
          -77939,
          2092,
          -31195,
          -38444,
          -137,
          -834,
          55,
          311,
          -31965,
          -35,
          -14,
          89,
          186,
          -233,
          -2,
          -20683,
          -6,
          -193,
          0,
          -15,
          0,
          -1,
          -268,
          -15,
          -1,
          -82,
          -17,
          -5,
          -34,
          -20,
          -21,
          -1241,
          -47,
          1,
          -7,
          -3,
          -1,
          2,
          -2,
          -3,
          0,
          -86,
          0,
          0,
          -332,
          -86,
          -2,
          0,
          -1,
          -11,
          -3,
          -128,
          -3,
          -5,
          -2,
          -1,
          -1,
          -8,
          -1,
          -1,
          -1,
          3,
          -1,
          0,
          -2,
          -5,
          0,
          -2,
          0,
          1,
          -1,
          -2,
          0,
          -2,
          0,
          -8,
          -2,
          0,
          -1,
          0,
          0,
          -1,
          -2,
          -3,
          0,
          0,
          -1,
          0,
          0
         ]
        }
       ],
       "layout": {
        "coloraxis": {
         "cmax": 1485.6000000000022,
         "cmin": -1485.6000000000022,
         "colorbar": {
          "title": {
           "text": "Demand Difference Morning in Res7"
          }
         },
         "colorscale": [
          [
           0,
           "rgb(103,0,31)"
          ],
          [
           0.1,
           "rgb(178,24,43)"
          ],
          [
           0.2,
           "rgb(214,96,77)"
          ],
          [
           0.3,
           "rgb(244,165,130)"
          ],
          [
           0.4,
           "rgb(253,219,199)"
          ],
          [
           0.5,
           "rgb(247,247,247)"
          ],
          [
           0.6,
           "rgb(209,229,240)"
          ],
          [
           0.7,
           "rgb(146,197,222)"
          ],
          [
           0.8,
           "rgb(67,147,195)"
          ],
          [
           0.9,
           "rgb(33,102,172)"
          ],
          [
           1,
           "rgb(5,48,97)"
          ]
         ]
        },
        "height": 500,
        "legend": {
         "tracegroupgap": 0
        },
        "mapbox": {
         "center": {
          "lat": 41.881832,
          "lon": -87.623177
         },
         "domain": {
          "x": [
           0,
           1
          ],
          "y": [
           0,
           1
          ]
         },
         "style": "carto-positron",
         "zoom": 10.5
        },
        "margin": {
         "b": 0,
         "l": 0,
         "r": 0,
         "t": 0
        },
        "template": {
         "data": {
          "bar": [
           {
            "error_x": {
             "color": "#2a3f5f"
            },
            "error_y": {
             "color": "#2a3f5f"
            },
            "marker": {
             "line": {
              "color": "#E5ECF6",
              "width": 0.5
             },
             "pattern": {
              "fillmode": "overlay",
              "size": 10,
              "solidity": 0.2
             }
            },
            "type": "bar"
           }
          ],
          "barpolar": [
           {
            "marker": {
             "line": {
              "color": "#E5ECF6",
              "width": 0.5
             },
             "pattern": {
              "fillmode": "overlay",
              "size": 10,
              "solidity": 0.2
             }
            },
            "type": "barpolar"
           }
          ],
          "carpet": [
           {
            "aaxis": {
             "endlinecolor": "#2a3f5f",
             "gridcolor": "white",
             "linecolor": "white",
             "minorgridcolor": "white",
             "startlinecolor": "#2a3f5f"
            },
            "baxis": {
             "endlinecolor": "#2a3f5f",
             "gridcolor": "white",
             "linecolor": "white",
             "minorgridcolor": "white",
             "startlinecolor": "#2a3f5f"
            },
            "type": "carpet"
           }
          ],
          "choropleth": [
           {
            "colorbar": {
             "outlinewidth": 0,
             "ticks": ""
            },
            "type": "choropleth"
           }
          ],
          "contour": [
           {
            "colorbar": {
             "outlinewidth": 0,
             "ticks": ""
            },
            "colorscale": [
             [
              0,
              "#0d0887"
             ],
             [
              0.1111111111111111,
              "#46039f"
             ],
             [
              0.2222222222222222,
              "#7201a8"
             ],
             [
              0.3333333333333333,
              "#9c179e"
             ],
             [
              0.4444444444444444,
              "#bd3786"
             ],
             [
              0.5555555555555556,
              "#d8576b"
             ],
             [
              0.6666666666666666,
              "#ed7953"
             ],
             [
              0.7777777777777778,
              "#fb9f3a"
             ],
             [
              0.8888888888888888,
              "#fdca26"
             ],
             [
              1,
              "#f0f921"
             ]
            ],
            "type": "contour"
           }
          ],
          "contourcarpet": [
           {
            "colorbar": {
             "outlinewidth": 0,
             "ticks": ""
            },
            "type": "contourcarpet"
           }
          ],
          "heatmap": [
           {
            "colorbar": {
             "outlinewidth": 0,
             "ticks": ""
            },
            "colorscale": [
             [
              0,
              "#0d0887"
             ],
             [
              0.1111111111111111,
              "#46039f"
             ],
             [
              0.2222222222222222,
              "#7201a8"
             ],
             [
              0.3333333333333333,
              "#9c179e"
             ],
             [
              0.4444444444444444,
              "#bd3786"
             ],
             [
              0.5555555555555556,
              "#d8576b"
             ],
             [
              0.6666666666666666,
              "#ed7953"
             ],
             [
              0.7777777777777778,
              "#fb9f3a"
             ],
             [
              0.8888888888888888,
              "#fdca26"
             ],
             [
              1,
              "#f0f921"
             ]
            ],
            "type": "heatmap"
           }
          ],
          "heatmapgl": [
           {
            "colorbar": {
             "outlinewidth": 0,
             "ticks": ""
            },
            "colorscale": [
             [
              0,
              "#0d0887"
             ],
             [
              0.1111111111111111,
              "#46039f"
             ],
             [
              0.2222222222222222,
              "#7201a8"
             ],
             [
              0.3333333333333333,
              "#9c179e"
             ],
             [
              0.4444444444444444,
              "#bd3786"
             ],
             [
              0.5555555555555556,
              "#d8576b"
             ],
             [
              0.6666666666666666,
              "#ed7953"
             ],
             [
              0.7777777777777778,
              "#fb9f3a"
             ],
             [
              0.8888888888888888,
              "#fdca26"
             ],
             [
              1,
              "#f0f921"
             ]
            ],
            "type": "heatmapgl"
           }
          ],
          "histogram": [
           {
            "marker": {
             "pattern": {
              "fillmode": "overlay",
              "size": 10,
              "solidity": 0.2
             }
            },
            "type": "histogram"
           }
          ],
          "histogram2d": [
           {
            "colorbar": {
             "outlinewidth": 0,
             "ticks": ""
            },
            "colorscale": [
             [
              0,
              "#0d0887"
             ],
             [
              0.1111111111111111,
              "#46039f"
             ],
             [
              0.2222222222222222,
              "#7201a8"
             ],
             [
              0.3333333333333333,
              "#9c179e"
             ],
             [
              0.4444444444444444,
              "#bd3786"
             ],
             [
              0.5555555555555556,
              "#d8576b"
             ],
             [
              0.6666666666666666,
              "#ed7953"
             ],
             [
              0.7777777777777778,
              "#fb9f3a"
             ],
             [
              0.8888888888888888,
              "#fdca26"
             ],
             [
              1,
              "#f0f921"
             ]
            ],
            "type": "histogram2d"
           }
          ],
          "histogram2dcontour": [
           {
            "colorbar": {
             "outlinewidth": 0,
             "ticks": ""
            },
            "colorscale": [
             [
              0,
              "#0d0887"
             ],
             [
              0.1111111111111111,
              "#46039f"
             ],
             [
              0.2222222222222222,
              "#7201a8"
             ],
             [
              0.3333333333333333,
              "#9c179e"
             ],
             [
              0.4444444444444444,
              "#bd3786"
             ],
             [
              0.5555555555555556,
              "#d8576b"
             ],
             [
              0.6666666666666666,
              "#ed7953"
             ],
             [
              0.7777777777777778,
              "#fb9f3a"
             ],
             [
              0.8888888888888888,
              "#fdca26"
             ],
             [
              1,
              "#f0f921"
             ]
            ],
            "type": "histogram2dcontour"
           }
          ],
          "mesh3d": [
           {
            "colorbar": {
             "outlinewidth": 0,
             "ticks": ""
            },
            "type": "mesh3d"
           }
          ],
          "parcoords": [
           {
            "line": {
             "colorbar": {
              "outlinewidth": 0,
              "ticks": ""
             }
            },
            "type": "parcoords"
           }
          ],
          "pie": [
           {
            "automargin": true,
            "type": "pie"
           }
          ],
          "scatter": [
           {
            "fillpattern": {
             "fillmode": "overlay",
             "size": 10,
             "solidity": 0.2
            },
            "type": "scatter"
           }
          ],
          "scatter3d": [
           {
            "line": {
             "colorbar": {
              "outlinewidth": 0,
              "ticks": ""
             }
            },
            "marker": {
             "colorbar": {
              "outlinewidth": 0,
              "ticks": ""
             }
            },
            "type": "scatter3d"
           }
          ],
          "scattercarpet": [
           {
            "marker": {
             "colorbar": {
              "outlinewidth": 0,
              "ticks": ""
             }
            },
            "type": "scattercarpet"
           }
          ],
          "scattergeo": [
           {
            "marker": {
             "colorbar": {
              "outlinewidth": 0,
              "ticks": ""
             }
            },
            "type": "scattergeo"
           }
          ],
          "scattergl": [
           {
            "marker": {
             "colorbar": {
              "outlinewidth": 0,
              "ticks": ""
             }
            },
            "type": "scattergl"
           }
          ],
          "scattermapbox": [
           {
            "marker": {
             "colorbar": {
              "outlinewidth": 0,
              "ticks": ""
             }
            },
            "type": "scattermapbox"
           }
          ],
          "scatterpolar": [
           {
            "marker": {
             "colorbar": {
              "outlinewidth": 0,
              "ticks": ""
             }
            },
            "type": "scatterpolar"
           }
          ],
          "scatterpolargl": [
           {
            "marker": {
             "colorbar": {
              "outlinewidth": 0,
              "ticks": ""
             }
            },
            "type": "scatterpolargl"
           }
          ],
          "scatterternary": [
           {
            "marker": {
             "colorbar": {
              "outlinewidth": 0,
              "ticks": ""
             }
            },
            "type": "scatterternary"
           }
          ],
          "surface": [
           {
            "colorbar": {
             "outlinewidth": 0,
             "ticks": ""
            },
            "colorscale": [
             [
              0,
              "#0d0887"
             ],
             [
              0.1111111111111111,
              "#46039f"
             ],
             [
              0.2222222222222222,
              "#7201a8"
             ],
             [
              0.3333333333333333,
              "#9c179e"
             ],
             [
              0.4444444444444444,
              "#bd3786"
             ],
             [
              0.5555555555555556,
              "#d8576b"
             ],
             [
              0.6666666666666666,
              "#ed7953"
             ],
             [
              0.7777777777777778,
              "#fb9f3a"
             ],
             [
              0.8888888888888888,
              "#fdca26"
             ],
             [
              1,
              "#f0f921"
             ]
            ],
            "type": "surface"
           }
          ],
          "table": [
           {
            "cells": {
             "fill": {
              "color": "#EBF0F8"
             },
             "line": {
              "color": "white"
             }
            },
            "header": {
             "fill": {
              "color": "#C8D4E3"
             },
             "line": {
              "color": "white"
             }
            },
            "type": "table"
           }
          ]
         },
         "layout": {
          "annotationdefaults": {
           "arrowcolor": "#2a3f5f",
           "arrowhead": 0,
           "arrowwidth": 1
          },
          "autotypenumbers": "strict",
          "coloraxis": {
           "colorbar": {
            "outlinewidth": 0,
            "ticks": ""
           }
          },
          "colorscale": {
           "diverging": [
            [
             0,
             "#8e0152"
            ],
            [
             0.1,
             "#c51b7d"
            ],
            [
             0.2,
             "#de77ae"
            ],
            [
             0.3,
             "#f1b6da"
            ],
            [
             0.4,
             "#fde0ef"
            ],
            [
             0.5,
             "#f7f7f7"
            ],
            [
             0.6,
             "#e6f5d0"
            ],
            [
             0.7,
             "#b8e186"
            ],
            [
             0.8,
             "#7fbc41"
            ],
            [
             0.9,
             "#4d9221"
            ],
            [
             1,
             "#276419"
            ]
           ],
           "sequential": [
            [
             0,
             "#0d0887"
            ],
            [
             0.1111111111111111,
             "#46039f"
            ],
            [
             0.2222222222222222,
             "#7201a8"
            ],
            [
             0.3333333333333333,
             "#9c179e"
            ],
            [
             0.4444444444444444,
             "#bd3786"
            ],
            [
             0.5555555555555556,
             "#d8576b"
            ],
            [
             0.6666666666666666,
             "#ed7953"
            ],
            [
             0.7777777777777778,
             "#fb9f3a"
            ],
            [
             0.8888888888888888,
             "#fdca26"
            ],
            [
             1,
             "#f0f921"
            ]
           ],
           "sequentialminus": [
            [
             0,
             "#0d0887"
            ],
            [
             0.1111111111111111,
             "#46039f"
            ],
            [
             0.2222222222222222,
             "#7201a8"
            ],
            [
             0.3333333333333333,
             "#9c179e"
            ],
            [
             0.4444444444444444,
             "#bd3786"
            ],
            [
             0.5555555555555556,
             "#d8576b"
            ],
            [
             0.6666666666666666,
             "#ed7953"
            ],
            [
             0.7777777777777778,
             "#fb9f3a"
            ],
            [
             0.8888888888888888,
             "#fdca26"
            ],
            [
             1,
             "#f0f921"
            ]
           ]
          },
          "colorway": [
           "#636efa",
           "#EF553B",
           "#00cc96",
           "#ab63fa",
           "#FFA15A",
           "#19d3f3",
           "#FF6692",
           "#B6E880",
           "#FF97FF",
           "#FECB52"
          ],
          "font": {
           "color": "#2a3f5f"
          },
          "geo": {
           "bgcolor": "white",
           "lakecolor": "white",
           "landcolor": "#E5ECF6",
           "showlakes": true,
           "showland": true,
           "subunitcolor": "white"
          },
          "hoverlabel": {
           "align": "left"
          },
          "hovermode": "closest",
          "mapbox": {
           "style": "light"
          },
          "paper_bgcolor": "white",
          "plot_bgcolor": "#E5ECF6",
          "polar": {
           "angularaxis": {
            "gridcolor": "white",
            "linecolor": "white",
            "ticks": ""
           },
           "bgcolor": "#E5ECF6",
           "radialaxis": {
            "gridcolor": "white",
            "linecolor": "white",
            "ticks": ""
           }
          },
          "scene": {
           "xaxis": {
            "backgroundcolor": "#E5ECF6",
            "gridcolor": "white",
            "gridwidth": 2,
            "linecolor": "white",
            "showbackground": true,
            "ticks": "",
            "zerolinecolor": "white"
           },
           "yaxis": {
            "backgroundcolor": "#E5ECF6",
            "gridcolor": "white",
            "gridwidth": 2,
            "linecolor": "white",
            "showbackground": true,
            "ticks": "",
            "zerolinecolor": "white"
           },
           "zaxis": {
            "backgroundcolor": "#E5ECF6",
            "gridcolor": "white",
            "gridwidth": 2,
            "linecolor": "white",
            "showbackground": true,
            "ticks": "",
            "zerolinecolor": "white"
           }
          },
          "shapedefaults": {
           "line": {
            "color": "#2a3f5f"
           }
          },
          "ternary": {
           "aaxis": {
            "gridcolor": "white",
            "linecolor": "white",
            "ticks": ""
           },
           "baxis": {
            "gridcolor": "white",
            "linecolor": "white",
            "ticks": ""
           },
           "bgcolor": "#E5ECF6",
           "caxis": {
            "gridcolor": "white",
            "linecolor": "white",
            "ticks": ""
           }
          },
          "title": {
           "x": 0.05
          },
          "xaxis": {
           "automargin": true,
           "gridcolor": "white",
           "linecolor": "white",
           "ticks": "",
           "title": {
            "standoff": 15
           },
           "zerolinecolor": "white",
           "zerolinewidth": 2
          },
          "yaxis": {
           "automargin": true,
           "gridcolor": "white",
           "linecolor": "white",
           "ticks": "",
           "title": {
            "standoff": 15
           },
           "zerolinecolor": "white",
           "zerolinewidth": 2
          }
         }
        },
        "width": 700
       }
      }
     },
     "metadata": {},
     "output_type": "display_data"
    }
   ],
   "source": [
    "# Ploting a map with hexagons depicting the demand difference in the morning\n",
    "\n",
    "variable = \"trips_difference_morning\"\n",
    "\n",
    "fig = plot_frequency(\n",
    "    dataset=hexagons7_df,\n",
    "    variable=variable,\n",
    "    labels={variable: \"Demand Difference Morning in Res7\"},\n",
    "    range_color=(\n",
    "        -hexagons7_df[variable].quantile(0.9),\n",
    "        hexagons7_df[variable].quantile(0.9),\n",
    "    ),\n",
    ")\n",
    "fig.show()"
   ]
  },
  {
   "cell_type": "markdown",
   "id": "14ac1d33",
   "metadata": {},
   "source": [
    "In the morning (6am-12pm) the overall demand difference in most parts of Chicago is neither high on the positive or negative. This could be attributed to a balance between people starting their day and those who have already reached their destinations. The two Airports have more ending trips, which could be due to the fact that the early morning hours are often popular for business travel.\n",
    "Around Loop, Near North Side, Douglas and Lincoln Park there are also more ending trips, assumingly also due to work reasons, as there could be more businesses located.\n",
    "Around Hyde Park, we see a mix of more starting and ending trips. Reasons for this pattern could be: The University of Chicago and nearby educational institutions drive up starting trips as students and faculty commute, as well as possible residential areas. The museums and parks can also attract visitors who kickstart their day with trips to these attractions leading to more ending trips. \n",
    "In the North of Chicago, next to the river side, there are more starting trips, which is likely also due to to these areas being residential neighborhoods, as well as Public Transport not being as present in these areas (see **POI Notbeook**)."
   ]
  },
  {
   "cell_type": "code",
   "execution_count": 150,
   "id": "8eb3ea90",
   "metadata": {},
   "outputs": [
    {
     "data": {
      "application/vnd.plotly.v1+json": {
       "config": {
        "plotlyServerURL": "https://plot.ly"
       },
       "data": [
        {
         "coloraxis": "coloraxis",
         "geojson": {
          "features": [
           {
            "geometry": {
             "coordinates": [
              [
               [
                -87.630489,
                41.907554
               ],
               [
                -87.643222,
                41.899289
               ],
               [
                -87.639124,
                41.887138
               ],
               [
                -87.622301,
                41.883249
               ],
               [
                -87.609568,
                41.891509
               ],
               [
                -87.613658,
                41.903663
               ],
               [
                -87.630489,
                41.907554
               ]
              ]
             ],
             "type": "Polygon"
            },
            "id": "872664c1effffff",
            "properties": {
             "value": 191298
            },
            "type": "Feature"
           },
           {
            "geometry": {
             "coordinates": [
              [
               [
                -87.672373,
                41.939638
               ],
               [
                -87.685106,
                41.931365
               ],
               [
                -87.680995,
                41.919211
               ],
               [
                -87.664157,
                41.915328
               ],
               [
                -87.651424,
                41.923596
               ],
               [
                -87.655529,
                41.935752
               ],
               [
                -87.672373,
                41.939638
               ]
              ]
             ],
             "type": "Polygon"
            },
            "id": "872664c12ffffff",
            "properties": {
             "value": -72312
            },
            "type": "Feature"
           },
           {
            "geometry": {
             "coordinates": [
              [
               [
                -87.642788,
                41.944022
               ],
               [
                -87.655529,
                41.935752
               ],
               [
                -87.651424,
                41.923596
               ],
               [
                -87.634587,
                41.919708
               ],
               [
                -87.621846,
                41.927975
               ],
               [
                -87.625943,
                41.940133
               ],
               [
                -87.642788,
                41.944022
               ]
              ]
             ],
             "type": "Polygon"
            },
            "id": "872664c10ffffff",
            "properties": {
             "value": -153891
            },
            "type": "Feature"
           },
           {
            "geometry": {
             "coordinates": [
              [
               [
                -87.680995,
                41.919211
               ],
               [
                -87.69372,
                41.91094
               ],
               [
                -87.689609,
                41.89879
               ],
               [
                -87.672778,
                41.894908
               ],
               [
                -87.660053,
                41.903175
               ],
               [
                -87.664157,
                41.915328
               ],
               [
                -87.680995,
                41.919211
               ]
              ]
             ],
             "type": "Polygon"
            },
            "id": "872664cacffffff",
            "properties": {
             "value": -74833
            },
            "type": "Feature"
           },
           {
            "geometry": {
             "coordinates": [
              [
               [
                -87.634144,
                41.964453
               ],
               [
                -87.646892,
                41.956182
               ],
               [
                -87.642788,
                41.944022
               ],
               [
                -87.625943,
                41.940133
               ],
               [
                -87.613196,
                41.9484
               ],
               [
                -87.617292,
                41.960561
               ],
               [
                -87.634144,
                41.964453
               ]
              ]
             ],
             "type": "Polygon"
            },
            "id": "872664c14ffffff",
            "properties": {
             "value": -8884
            },
            "type": "Feature"
           },
           {
            "geometry": {
             "coordinates": [
              [
               [
                -87.655106,
                41.980505
               ],
               [
                -87.667854,
                41.972229
               ],
               [
                -87.663743,
                41.960069
               ],
               [
                -87.646892,
                41.956182
               ],
               [
                -87.634144,
                41.964453
               ],
               [
                -87.638248,
                41.976616
               ],
               [
                -87.655106,
                41.980505
               ]
              ]
             ],
             "type": "Polygon"
            },
            "id": "872664d89ffffff",
            "properties": {
             "value": -32317
            },
            "type": "Feature"
           },
           {
            "geometry": {
             "coordinates": [
              [
               [
                -87.660053,
                41.903175
               ],
               [
                -87.672778,
                41.894908
               ],
               [
                -87.668673,
                41.882759
               ],
               [
                -87.65185,
                41.878875
               ],
               [
                -87.639124,
                41.887138
               ],
               [
                -87.643222,
                41.899289
               ],
               [
                -87.660053,
                41.903175
               ]
              ]
             ],
             "type": "Polygon"
            },
            "id": "872664cadffffff",
            "properties": {
             "value": -238419
            },
            "type": "Feature"
           },
           {
            "geometry": {
             "coordinates": [
              [
               [
                -87.663743,
                41.960069
               ],
               [
                -87.676484,
                41.951795
               ],
               [
                -87.672373,
                41.939638
               ],
               [
                -87.655529,
                41.935752
               ],
               [
                -87.642788,
                41.944022
               ],
               [
                -87.646892,
                41.956182
               ],
               [
                -87.663743,
                41.960069
               ]
              ]
             ],
             "type": "Polygon"
            },
            "id": "872664c16ffffff",
            "properties": {
             "value": -61652
            },
            "type": "Feature"
           },
           {
            "geometry": {
             "coordinates": [
              [
               [
                -87.646461,
                42.000945
               ],
               [
                -87.659216,
                41.992668
               ],
               [
                -87.655106,
                41.980505
               ],
               [
                -87.638248,
                41.976616
               ],
               [
                -87.625492,
                41.984889
               ],
               [
                -87.629595,
                41.997054
               ],
               [
                -87.646461,
                42.000945
               ]
              ]
             ],
             "type": "Polygon"
            },
            "id": "872664d8dffffff",
            "properties": {
             "value": -2555
            },
            "type": "Feature"
           },
           {
            "geometry": {
             "coordinates": [
              [
               [
                -87.639124,
                41.887138
               ],
               [
                -87.65185,
                41.878875
               ],
               [
                -87.647752,
                41.866726
               ],
               [
                -87.630935,
                41.862839
               ],
               [
                -87.618209,
                41.871098
               ],
               [
                -87.622301,
                41.883249
               ],
               [
                -87.639124,
                41.887138
               ]
              ]
             ],
             "type": "Polygon"
            },
            "id": "872664c1affffff",
            "properties": {
             "value": 544050
            },
            "type": "Feature"
           },
           {
            "geometry": {
             "coordinates": [
              [
               [
                -87.621846,
                41.927975
               ],
               [
                -87.634587,
                41.919708
               ],
               [
                -87.630489,
                41.907554
               ],
               [
                -87.613658,
                41.903663
               ],
               [
                -87.600918,
                41.911925
               ],
               [
                -87.605008,
                41.924082
               ],
               [
                -87.621846,
                41.927975
               ]
              ]
             ],
             "type": "Polygon"
            },
            "id": "872664c11ffffff",
            "properties": {
             "value": -81636
            },
            "type": "Feature"
           },
           {
            "geometry": {
             "coordinates": [
              [
               [
                -87.70195,
                41.935246
               ],
               [
                -87.714676,
                41.926971
               ],
               [
                -87.710557,
                41.914819
               ],
               [
                -87.69372,
                41.91094
               ],
               [
                -87.680995,
                41.919211
               ],
               [
                -87.685106,
                41.931365
               ],
               [
                -87.70195,
                41.935246
               ]
              ]
             ],
             "type": "Polygon"
            },
            "id": "872664ca1ffffff",
            "properties": {
             "value": -16055
            },
            "type": "Feature"
           },
           {
            "geometry": {
             "coordinates": [
              [
               [
                -87.651424,
                41.923596
               ],
               [
                -87.664157,
                41.915328
               ],
               [
                -87.660053,
                41.903175
               ],
               [
                -87.643222,
                41.899289
               ],
               [
                -87.630489,
                41.907554
               ],
               [
                -87.634587,
                41.919708
               ],
               [
                -87.651424,
                41.923596
               ]
              ]
             ],
             "type": "Polygon"
            },
            "id": "872664c13ffffff",
            "properties": {
             "value": -96155
            },
            "type": "Feature"
           },
           {
            "geometry": {
             "coordinates": [
              [
               [
                -87.585067,
                41.81862
               ],
               [
                -87.597785,
                41.81037
               ],
               [
                -87.593707,
                41.798229
               ],
               [
                -87.576917,
                41.794335
               ],
               [
                -87.564199,
                41.802581
               ],
               [
                -87.568271,
                41.814724
               ],
               [
                -87.585067,
                41.81862
               ]
              ]
             ],
             "type": "Polygon"
            },
            "id": "872664ce3ffffff",
            "properties": {
             "value": -3055
            },
            "type": "Feature"
           },
           {
            "geometry": {
             "coordinates": [
              [
               [
                -87.618209,
                41.871098
               ],
               [
                -87.630935,
                41.862839
               ],
               [
                -87.626843,
                41.850692
               ],
               [
                -87.610033,
                41.846803
               ],
               [
                -87.597308,
                41.855058
               ],
               [
                -87.601392,
                41.867207
               ],
               [
                -87.618209,
                41.871098
               ]
              ]
             ],
             "type": "Polygon"
            },
            "id": "872664c1bffffff",
            "properties": {
             "value": -11331
            },
            "type": "Feature"
           },
           {
            "geometry": {
             "coordinates": [
              [
               [
                -87.693335,
                41.955677
               ],
               [
                -87.706068,
                41.947401
               ],
               [
                -87.70195,
                41.935246
               ],
               [
                -87.685106,
                41.931365
               ],
               [
                -87.672373,
                41.939638
               ],
               [
                -87.676484,
                41.951795
               ],
               [
                -87.693335,
                41.955677
               ]
              ]
             ],
             "type": "Polygon"
            },
            "id": "872664ca5ffffff",
            "properties": {
             "value": -9531
            },
            "type": "Feature"
           },
           {
            "geometry": {
             "coordinates": [
              [
               [
                -87.684712,
                41.976114
               ],
               [
                -87.697453,
                41.967836
               ],
               [
                -87.693335,
                41.955677
               ],
               [
                -87.676484,
                41.951795
               ],
               [
                -87.663743,
                41.960069
               ],
               [
                -87.667854,
                41.972229
               ],
               [
                -87.684712,
                41.976114
               ]
              ]
             ],
             "type": "Polygon"
            },
            "id": "872664d8bffffff",
            "properties": {
             "value": -15896
            },
            "type": "Feature"
           },
           {
            "geometry": {
             "coordinates": [
              [
               [
                -87.667443,
                42.017
               ],
               [
                -87.680199,
                42.008719
               ],
               [
                -87.676082,
                41.996555
               ],
               [
                -87.659216,
                41.992668
               ],
               [
                -87.646461,
                42.000945
               ],
               [
                -87.650571,
                42.013112
               ],
               [
                -87.667443,
                42.017
               ]
              ]
             ],
             "type": "Polygon"
            },
            "id": "872664d8cffffff",
            "properties": {
             "value": -4232
            },
            "type": "Feature"
           },
           {
            "geometry": {
             "coordinates": [
              [
               [
                -87.647752,
                41.866726
               ],
               [
                -87.66047,
                41.858465
               ],
               [
                -87.656371,
                41.84632
               ],
               [
                -87.639562,
                41.842435
               ],
               [
                -87.626843,
                41.850692
               ],
               [
                -87.630935,
                41.862839
               ],
               [
                -87.647752,
                41.866726
               ]
              ]
             ],
             "type": "Polygon"
            },
            "id": "872664cf4ffffff",
            "properties": {
             "value": -23636
            },
            "type": "Feature"
           },
           {
            "geometry": {
             "coordinates": [
              [
               [
                -87.722919,
                41.951279
               ],
               [
                -87.735644,
                41.943
               ],
               [
                -87.731519,
                41.930847
               ],
               [
                -87.714676,
                41.926971
               ],
               [
                -87.70195,
                41.935246
               ],
               [
                -87.706068,
                41.947401
               ],
               [
                -87.722919,
                41.951279
               ]
              ]
             ],
             "type": "Polygon"
            },
            "id": "872664ca0ffffff",
            "properties": {
             "value": -2262
            },
            "type": "Feature"
           },
           {
            "geometry": {
             "coordinates": [
              [
               [
                -87.904243,
                41.981624
               ],
               [
                -87.916939,
                41.973323
               ],
               [
                -87.912765,
                41.961175
               ],
               [
                -87.895903,
                41.957326
               ],
               [
                -87.883207,
                41.965622
               ],
               [
                -87.887374,
                41.977772
               ],
               [
                -87.904243,
                41.981624
               ]
              ]
             ],
             "type": "Polygon"
            },
            "id": "87275934effffff",
            "properties": {
             "value": 192635
            },
            "type": "Feature"
           },
           {
            "geometry": {
             "coordinates": [
              [
               [
                -87.676082,
                41.996555
               ],
               [
                -87.68883,
                41.988275
               ],
               [
                -87.684712,
                41.976114
               ],
               [
                -87.667854,
                41.972229
               ],
               [
                -87.655106,
                41.980505
               ],
               [
                -87.659216,
                41.992668
               ],
               [
                -87.676082,
                41.996555
               ]
              ]
             ],
             "type": "Polygon"
            },
            "id": "872664d88ffffff",
            "properties": {
             "value": -9391
            },
            "type": "Feature"
           },
           {
            "geometry": {
             "coordinates": [
              [
               [
                -87.668673,
                41.882759
               ],
               [
                -87.681392,
                41.874493
               ],
               [
                -87.677286,
                41.862347
               ],
               [
                -87.66047,
                41.858465
               ],
               [
                -87.647752,
                41.866726
               ],
               [
                -87.65185,
                41.878875
               ],
               [
                -87.668673,
                41.882759
               ]
              ]
             ],
             "type": "Polygon"
            },
            "id": "872664ca9ffffff",
            "properties": {
             "value": -95083
            },
            "type": "Feature"
           },
           {
            "geometry": {
             "coordinates": [
              [
               [
                -87.626843,
                41.850692
               ],
               [
                -87.639562,
                41.842435
               ],
               [
                -87.63547,
                41.830291
               ],
               [
                -87.618667,
                41.826403
               ],
               [
                -87.605949,
                41.834657
               ],
               [
                -87.610033,
                41.846803
               ],
               [
                -87.626843,
                41.850692
               ]
              ]
             ],
             "type": "Polygon"
            },
            "id": "872664cf5ffffff",
            "properties": {
             "value": 37980
            },
            "type": "Feature"
           },
           {
            "geometry": {
             "coordinates": [
              [
               [
                -87.705694,
                41.992157
               ],
               [
                -87.718435,
                41.983875
               ],
               [
                -87.714311,
                41.971715
               ],
               [
                -87.697453,
                41.967836
               ],
               [
                -87.684712,
                41.976114
               ],
               [
                -87.68883,
                41.988275
               ],
               [
                -87.705694,
                41.992157
               ]
              ]
             ],
             "type": "Polygon"
            },
            "id": "872664d8affffff",
            "properties": {
             "value": -2345
            },
            "type": "Feature"
           },
           {
            "geometry": {
             "coordinates": [
              [
               [
                -87.689609,
                41.89879
               ],
               [
                -87.702327,
                41.89052
               ],
               [
                -87.698215,
                41.878373
               ],
               [
                -87.681392,
                41.874493
               ],
               [
                -87.668673,
                41.882759
               ],
               [
                -87.672778,
                41.894908
               ],
               [
                -87.689609,
                41.89879
               ]
              ]
             ],
             "type": "Polygon"
            },
            "id": "872664ca8ffffff",
            "properties": {
             "value": -8588
            },
            "type": "Feature"
           },
           {
            "geometry": {
             "coordinates": [
              [
               [
                -87.697071,
                42.012603
               ],
               [
                -87.709819,
                42.00432
               ],
               [
                -87.705694,
                41.992157
               ],
               [
                -87.68883,
                41.988275
               ],
               [
                -87.676082,
                41.996555
               ],
               [
                -87.680199,
                42.008719
               ],
               [
                -87.697071,
                42.012603
               ]
              ]
             ],
             "type": "Polygon"
            },
            "id": "872664d8effffff",
            "properties": {
             "value": -642
            },
            "type": "Feature"
           },
           {
            "geometry": {
             "coordinates": [
              [
               [
                -87.714311,
                41.971715
               ],
               [
                -87.727044,
                41.963435
               ],
               [
                -87.722919,
                41.951279
               ],
               [
                -87.706068,
                41.947401
               ],
               [
                -87.693335,
                41.955677
               ],
               [
                -87.697453,
                41.967836
               ],
               [
                -87.714311,
                41.971715
               ]
              ]
             ],
             "type": "Polygon"
            },
            "id": "872664ca4ffffff",
            "properties": {
             "value": -2261
            },
            "type": "Feature"
           },
           {
            "geometry": {
             "coordinates": [
              [
               [
                -87.762037,
                41.79236
               ],
               [
                -87.774711,
                41.784096
               ],
               [
                -87.77059,
                41.771967
               ],
               [
                -87.753802,
                41.768101
               ],
               [
                -87.741129,
                41.776362
               ],
               [
                -87.745242,
                41.788492
               ],
               [
                -87.762037,
                41.79236
               ]
              ]
             ],
             "type": "Polygon"
            },
            "id": "872664521ffffff",
            "properties": {
             "value": 54288
            },
            "type": "Feature"
           },
           {
            "geometry": {
             "coordinates": [
              [
               [
                -87.710557,
                41.914819
               ],
               [
                -87.723275,
                41.906546
               ],
               [
                -87.719157,
                41.894397
               ],
               [
                -87.702327,
                41.89052
               ],
               [
                -87.689609,
                41.89879
               ],
               [
                -87.69372,
                41.91094
               ],
               [
                -87.710557,
                41.914819
               ]
              ]
             ],
             "type": "Polygon"
            },
            "id": "872664caeffffff",
            "properties": {
             "value": -1624
            },
            "type": "Feature"
           },
           {
            "geometry": {
             "coordinates": [
              [
               [
                -87.743901,
                41.96731
               ],
               [
                -87.756627,
                41.959027
               ],
               [
                -87.752495,
                41.946873
               ],
               [
                -87.735644,
                41.943
               ],
               [
                -87.722919,
                41.951279
               ],
               [
                -87.727044,
                41.963435
               ],
               [
                -87.743901,
                41.96731
               ]
              ]
             ],
             "type": "Polygon"
            },
            "id": "872664ca6ffffff",
            "properties": {
             "value": -250
            },
            "type": "Feature"
           },
           {
            "geometry": {
             "coordinates": [
              [
               [
                -87.764897,
                41.98334
               ],
               [
                -87.777622,
                41.975053
               ],
               [
                -87.773484,
                41.962898
               ],
               [
                -87.756627,
                41.959027
               ],
               [
                -87.743901,
                41.96731
               ],
               [
                -87.748033,
                41.979468
               ],
               [
                -87.764897,
                41.98334
               ]
              ]
             ],
             "type": "Polygon"
            },
            "id": "872664d9bffffff",
            "properties": {
             "value": 132
            },
            "type": "Feature"
           },
           {
            "geometry": {
             "coordinates": [
              [
               [
                -87.7353,
                41.987752
               ],
               [
                -87.748033,
                41.979468
               ],
               [
                -87.743901,
                41.96731
               ],
               [
                -87.727044,
                41.963435
               ],
               [
                -87.714311,
                41.971715
               ],
               [
                -87.718435,
                41.983875
               ],
               [
                -87.7353,
                41.987752
               ]
              ]
             ],
             "type": "Polygon"
            },
            "id": "872664d99ffffff",
            "properties": {
             "value": -113
            },
            "type": "Feature"
           },
           {
            "geometry": {
             "coordinates": [
              [
               [
                -87.677286,
                41.862347
               ],
               [
                -87.689997,
                41.854083
               ],
               [
                -87.685891,
                41.841941
               ],
               [
                -87.669082,
                41.83806
               ],
               [
                -87.656371,
                41.84632
               ],
               [
                -87.66047,
                41.858465
               ],
               [
                -87.677286,
                41.862347
               ]
              ]
             ],
             "type": "Polygon"
            },
            "id": "872664cf6ffffff",
            "properties": {
             "value": -359
            },
            "type": "Feature"
           },
           {
            "geometry": {
             "coordinates": [
              [
               [
                -87.731519,
                41.930847
               ],
               [
                -87.744237,
                41.92257
               ],
               [
                -87.740112,
                41.91042
               ],
               [
                -87.723275,
                41.906546
               ],
               [
                -87.710557,
                41.914819
               ],
               [
                -87.714676,
                41.926971
               ],
               [
                -87.731519,
                41.930847
               ]
              ]
             ],
             "type": "Polygon"
            },
            "id": "872664ca3ffffff",
            "properties": {
             "value": -63
            },
            "type": "Feature"
           },
           {
            "geometry": {
             "coordinates": [
              [
               [
                -87.593707,
                41.798229
               ],
               [
                -87.606417,
                41.78998
               ],
               [
                -87.602338,
                41.777842
               ],
               [
                -87.585556,
                41.773951
               ],
               [
                -87.572845,
                41.782195
               ],
               [
                -87.576917,
                41.794335
               ],
               [
                -87.593707,
                41.798229
               ]
              ]
             ],
             "type": "Polygon"
            },
            "id": "872664cc5ffffff",
            "properties": {
             "value": 15154
            },
            "type": "Feature"
           },
           {
            "geometry": {
             "coordinates": [
              [
               [
                -87.773484,
                41.962898
               ],
               [
                -87.786202,
                41.954613
               ],
               [
                -87.782063,
                41.942461
               ],
               [
                -87.765213,
                41.938592
               ],
               [
                -87.752495,
                41.946873
               ],
               [
                -87.756627,
                41.959027
               ],
               [
                -87.773484,
                41.962898
               ]
              ]
             ],
             "type": "Polygon"
            },
            "id": "872664cb5ffffff",
            "properties": {
             "value": -11
            },
            "type": "Feature"
           },
           {
            "geometry": {
             "coordinates": [
              [
               [
                -87.685891,
                41.841941
               ],
               [
                -87.698595,
                41.833678
               ],
               [
                -87.694489,
                41.821539
               ],
               [
                -87.677686,
                41.81766
               ],
               [
                -87.664983,
                41.825918
               ],
               [
                -87.669082,
                41.83806
               ],
               [
                -87.685891,
                41.841941
               ]
              ]
             ],
             "type": "Polygon"
            },
            "id": "872664cf2ffffff",
            "properties": {
             "value": -46
            },
            "type": "Feature"
           },
           {
            "geometry": {
             "coordinates": [
              [
               [
                -87.782063,
                41.942461
               ],
               [
                -87.794774,
                41.934177
               ],
               [
                -87.790634,
                41.922028
               ],
               [
                -87.773791,
                41.918162
               ],
               [
                -87.761081,
                41.926441
               ],
               [
                -87.765213,
                41.938592
               ],
               [
                -87.782063,
                41.942461
               ]
              ]
             ],
             "type": "Polygon"
            },
            "id": "872664cb1ffffff",
            "properties": {
             "value": -6
            },
            "type": "Feature"
           },
           {
            "geometry": {
             "coordinates": [
              [
               [
                -87.605949,
                41.834657
               ],
               [
                -87.618667,
                41.826403
               ],
               [
                -87.614581,
                41.814261
               ],
               [
                -87.597785,
                41.81037
               ],
               [
                -87.585067,
                41.81862
               ],
               [
                -87.589145,
                41.830764
               ],
               [
                -87.605949,
                41.834657
               ]
              ]
             ],
             "type": "Polygon"
            },
            "id": "872664ce2ffffff",
            "properties": {
             "value": -223
            },
            "type": "Feature"
           },
           {
            "geometry": {
             "coordinates": [
              [
               [
                -87.640433,
                41.753101
               ],
               [
                -87.653122,
                41.744853
               ],
               [
                -87.649035,
                41.732724
               ],
               [
                -87.632267,
                41.72884
               ],
               [
                -87.619579,
                41.737084
               ],
               [
                -87.623658,
                41.749216
               ],
               [
                -87.640433,
                41.753101
               ]
              ]
             ],
             "type": "Polygon"
            },
            "id": "872664cddffffff",
            "properties": {
             "value": -3
            },
            "type": "Feature"
           },
           {
            "geometry": {
             "coordinates": [
              [
               [
                -87.782959,
                41.808357
               ],
               [
                -87.795632,
                41.800089
               ],
               [
                -87.791505,
                41.787959
               ],
               [
                -87.774711,
                41.784096
               ],
               [
                -87.762037,
                41.79236
               ],
               [
                -87.766158,
                41.804492
               ],
               [
                -87.782959,
                41.808357
               ]
              ]
             ],
             "type": "Polygon"
            },
            "id": "872664520ffffff",
            "properties": {
             "value": -2
            },
            "type": "Feature"
           },
           {
            "geometry": {
             "coordinates": [
              [
               [
                -87.698215,
                41.878373
               ],
               [
                -87.710925,
                41.870105
               ],
               [
                -87.706813,
                41.857961
               ],
               [
                -87.689997,
                41.854083
               ],
               [
                -87.677286,
                41.862347
               ],
               [
                -87.681392,
                41.874493
               ],
               [
                -87.698215,
                41.878373
               ]
              ]
             ],
             "type": "Polygon"
            },
            "id": "872664cabffffff",
            "properties": {
             "value": -1236
            },
            "type": "Feature"
           },
           {
            "geometry": {
             "coordinates": [
              [
               [
                -87.756302,
                42.003787
               ],
               [
                -87.769035,
                41.995499
               ],
               [
                -87.764897,
                41.98334
               ],
               [
                -87.748033,
                41.979468
               ],
               [
                -87.7353,
                41.987752
               ],
               [
                -87.739431,
                41.999913
               ],
               [
                -87.756302,
                42.003787
               ]
              ]
             ],
             "type": "Polygon"
            },
            "id": "872664d98ffffff",
            "properties": {
             "value": -88
            },
            "type": "Feature"
           },
           {
            "geometry": {
             "coordinates": [
              [
               [
                -87.761081,
                41.926441
               ],
               [
                -87.773791,
                41.918162
               ],
               [
                -87.769659,
                41.906014
               ],
               [
                -87.752823,
                41.902144
               ],
               [
                -87.740112,
                41.91042
               ],
               [
                -87.744237,
                41.92257
               ],
               [
                -87.761081,
                41.926441
               ]
              ]
             ],
             "type": "Polygon"
            },
            "id": "872664c84ffffff",
            "properties": {
             "value": -1
            },
            "type": "Feature"
           },
           {
            "geometry": {
             "coordinates": [
              [
               [
                -87.656371,
                41.84632
               ],
               [
                -87.669082,
                41.83806
               ],
               [
                -87.664983,
                41.825918
               ],
               [
                -87.64818,
                41.822035
               ],
               [
                -87.63547,
                41.830291
               ],
               [
                -87.639562,
                41.842435
               ],
               [
                -87.656371,
                41.84632
               ]
              ]
             ],
             "type": "Polygon"
            },
            "id": "872664cf0ffffff",
            "properties": {
             "value": -429
            },
            "type": "Feature"
           },
           {
            "geometry": {
             "coordinates": [
              [
               [
                -87.688439,
                42.033054
               ],
               [
                -87.701194,
                42.024769
               ],
               [
                -87.697071,
                42.012603
               ],
               [
                -87.680199,
                42.008719
               ],
               [
                -87.667443,
                42.017
               ],
               [
                -87.67156,
                42.029168
               ],
               [
                -87.688439,
                42.033054
               ]
              ]
             ],
             "type": "Polygon"
            },
            "id": "872664d81ffffff",
            "properties": {
             "value": -143
            },
            "type": "Feature"
           },
           {
            "geometry": {
             "coordinates": [
              [
               [
                -87.815502,
                41.994943
               ],
               [
                -87.82822,
                41.98665
               ],
               [
                -87.824068,
                41.974495
               ],
               [
                -87.807204,
                41.970632
               ],
               [
                -87.794486,
                41.978921
               ],
               [
                -87.798632,
                41.991078
               ],
               [
                -87.815502,
                41.994943
               ]
              ]
             ],
             "type": "Polygon"
            },
            "id": "872759369ffffff",
            "properties": {
             "value": -37
            },
            "type": "Feature"
           },
           {
            "geometry": {
             "coordinates": [
              [
               [
                -87.752495,
                41.946873
               ],
               [
                -87.765213,
                41.938592
               ],
               [
                -87.761081,
                41.926441
               ],
               [
                -87.744237,
                41.92257
               ],
               [
                -87.731519,
                41.930847
               ],
               [
                -87.735644,
                41.943
               ],
               [
                -87.752495,
                41.946873
               ]
              ]
             ],
             "type": "Polygon"
            },
            "id": "872664ca2ffffff",
            "properties": {
             "value": -29
            },
            "type": "Feature"
           },
           {
            "geometry": {
             "coordinates": [
              [
               [
                -87.614581,
                41.814261
               ],
               [
                -87.627292,
                41.806008
               ],
               [
                -87.623207,
                41.793869
               ],
               [
                -87.606417,
                41.78998
               ],
               [
                -87.593707,
                41.798229
               ],
               [
                -87.597785,
                41.81037
               ],
               [
                -87.614581,
                41.814261
               ]
              ]
             ],
             "type": "Polygon"
            },
            "id": "872664cc4ffffff",
            "properties": {
             "value": -201
            },
            "type": "Feature"
           },
           {
            "geometry": {
             "coordinates": [
              [
               [
                -87.72669,
                42.008198
               ],
               [
                -87.739431,
                41.999913
               ],
               [
                -87.7353,
                41.987752
               ],
               [
                -87.718435,
                41.983875
               ],
               [
                -87.705694,
                41.992157
               ],
               [
                -87.709819,
                42.00432
               ],
               [
                -87.72669,
                42.008198
               ]
              ]
             ],
             "type": "Polygon"
            },
            "id": "872664d9dffffff",
            "properties": {
             "value": -38
            },
            "type": "Feature"
           },
           {
            "geometry": {
             "coordinates": [
              [
               [
                -87.845091,
                41.99051
               ],
               [
                -87.857801,
                41.982214
               ],
               [
                -87.853642,
                41.970062
               ],
               [
                -87.836778,
                41.966204
               ],
               [
                -87.824068,
                41.974495
               ],
               [
                -87.82822,
                41.98665
               ],
               [
                -87.845091,
                41.99051
               ]
              ]
             ],
             "type": "Polygon"
            },
            "id": "87275936bffffff",
            "properties": {
             "value": -1673
            },
            "type": "Feature"
           },
           {
            "geometry": {
             "coordinates": [
              [
               [
                -87.753476,
                41.812758
               ],
               [
                -87.766158,
                41.804492
               ],
               [
                -87.762037,
                41.79236
               ],
               [
                -87.745242,
                41.788492
               ],
               [
                -87.732561,
                41.796754
               ],
               [
                -87.736675,
                41.808888
               ],
               [
                -87.753476,
                41.812758
               ]
              ]
             ],
             "type": "Polygon"
            },
            "id": "872664525ffffff",
            "properties": {
             "value": -21
            },
            "type": "Feature"
           },
           {
            "geometry": {
             "coordinates": [
              [
               [
                -87.590114,
                41.741438
               ],
               [
                -87.60281,
                41.733196
               ],
               [
                -87.598737,
                41.721066
               ],
               [
                -87.581975,
                41.717176
               ],
               [
                -87.56928,
                41.725413
               ],
               [
                -87.573346,
                41.737545
               ],
               [
                -87.590114,
                41.741438
               ]
              ]
             ],
             "type": "Polygon"
            },
            "id": "872664cc8ffffff",
            "properties": {
             "value": 0
            },
            "type": "Feature"
           },
           {
            "geometry": {
             "coordinates": [
              [
               [
                -87.727748,
                41.87398
               ],
               [
                -87.740452,
                41.86571
               ],
               [
                -87.736332,
                41.853568
               ],
               [
                -87.719516,
                41.849695
               ],
               [
                -87.706813,
                41.857961
               ],
               [
                -87.710925,
                41.870105
               ],
               [
                -87.727748,
                41.87398
               ]
              ]
             ],
             "type": "Polygon"
            },
            "id": "872664c8cffffff",
            "properties": {
             "value": 1
            },
            "type": "Feature"
           },
           {
            "geometry": {
             "coordinates": [
              [
               [
                -87.718073,
                42.02865
               ],
               [
                -87.730821,
                42.020362
               ],
               [
                -87.72669,
                42.008198
               ],
               [
                -87.709819,
                42.00432
               ],
               [
                -87.697071,
                42.012603
               ],
               [
                -87.701194,
                42.024769
               ],
               [
                -87.718073,
                42.02865
               ]
              ]
             ],
             "type": "Polygon"
            },
            "id": "872664d83ffffff",
            "properties": {
             "value": -39
            },
            "type": "Feature"
           },
           {
            "geometry": {
             "coordinates": [
              [
               [
                -87.794486,
                41.978921
               ],
               [
                -87.807204,
                41.970632
               ],
               [
                -87.803059,
                41.958479
               ],
               [
                -87.786202,
                41.954613
               ],
               [
                -87.773484,
                41.962898
               ],
               [
                -87.777622,
                41.975053
               ],
               [
                -87.794486,
                41.978921
               ]
              ]
             ],
             "type": "Polygon"
            },
            "id": "872664cb4ffffff",
            "properties": {
             "value": -20
            },
            "type": "Feature"
           },
           {
            "geometry": {
             "coordinates": [
              [
               [
                -87.744908,
                41.833161
               ],
               [
                -87.757597,
                41.824893
               ],
               [
                -87.753476,
                41.812758
               ],
               [
                -87.736675,
                41.808888
               ],
               [
                -87.723986,
                41.817152
               ],
               [
                -87.728099,
                41.829289
               ],
               [
                -87.744908,
                41.833161
               ]
              ]
             ],
             "type": "Polygon"
            },
            "id": "872664c8bffffff",
            "properties": {
             "value": -7
            },
            "type": "Feature"
           },
           {
            "geometry": {
             "coordinates": [
              [
               [
                -87.694489,
                41.821539
               ],
               [
                -87.707184,
                41.813277
               ],
               [
                -87.703078,
                41.801141
               ],
               [
                -87.686283,
                41.797264
               ],
               [
                -87.673587,
                41.805521
               ],
               [
                -87.677686,
                41.81766
               ],
               [
                -87.694489,
                41.821539
               ]
              ]
             ],
             "type": "Polygon"
            },
            "id": "872664cd4ffffff",
            "properties": {
             "value": 10
            },
            "type": "Feature"
           },
           {
            "geometry": {
             "coordinates": [
              [
               [
                -87.720234,
                41.760361
               ],
               [
                -87.732907,
                41.752105
               ],
               [
                -87.7288,
                41.739979
               ],
               [
                -87.712026,
                41.736107
               ],
               [
                -87.699352,
                41.74436
               ],
               [
                -87.703453,
                41.756488
               ],
               [
                -87.720234,
                41.760361
               ]
              ]
             ],
             "type": "Polygon"
            },
            "id": "87266452dffffff",
            "properties": {
             "value": 0
            },
            "type": "Feature"
           },
           {
            "geometry": {
             "coordinates": [
              [
               [
                -87.791505,
                41.787959
               ],
               [
                -87.804171,
                41.779692
               ],
               [
                -87.800043,
                41.767566
               ],
               [
                -87.783256,
                41.763704
               ],
               [
                -87.77059,
                41.771967
               ],
               [
                -87.774711,
                41.784096
               ],
               [
                -87.791505,
                41.787959
               ]
              ]
             ],
             "type": "Polygon"
            },
            "id": "872664523ffffff",
            "properties": {
             "value": 0
            },
            "type": "Feature"
           },
           {
            "geometry": {
             "coordinates": [
              [
               [
                -87.91677,
                42.018081
               ],
               [
                -87.929473,
                42.009776
               ],
               [
                -87.925293,
                41.997623
               ],
               [
                -87.908417,
                41.993775
               ],
               [
                -87.895714,
                42.002077
               ],
               [
                -87.899887,
                42.014231
               ],
               [
                -87.91677,
                42.018081
               ]
              ]
             ],
             "type": "Polygon"
            },
            "id": "872759340ffffff",
            "properties": {
             "value": -258
            },
            "type": "Feature"
           },
           {
            "geometry": {
             "coordinates": [
              [
               [
                -87.853642,
                41.970062
               ],
               [
                -87.866345,
                41.961768
               ],
               [
                -87.862185,
                41.949619
               ],
               [
                -87.845329,
                41.945762
               ],
               [
                -87.832626,
                41.954053
               ],
               [
                -87.836778,
                41.966204
               ],
               [
                -87.853642,
                41.970062
               ]
              ]
             ],
             "type": "Polygon"
            },
            "id": "87275934dffffff",
            "properties": {
             "value": -1
            },
            "type": "Feature"
           },
           {
            "geometry": {
             "coordinates": [
              [
               [
                -87.666215,
                41.691984
               ],
               [
                -87.678882,
                41.683741
               ],
               [
                -87.674794,
                41.671622
               ],
               [
                -87.658047,
                41.667744
               ],
               [
                -87.64538,
                41.675983
               ],
               [
                -87.649461,
                41.688105
               ],
               [
                -87.666215,
                41.691984
               ]
              ]
             ],
             "type": "Polygon"
            },
            "id": "872664562ffffff",
            "properties": {
             "value": 0
            },
            "type": "Feature"
           },
           {
            "geometry": {
             "coordinates": [
              [
               [
                -87.63547,
                41.830291
               ],
               [
                -87.64818,
                41.822035
               ],
               [
                -87.644088,
                41.809895
               ],
               [
                -87.627292,
                41.806008
               ],
               [
                -87.614581,
                41.814261
               ],
               [
                -87.618667,
                41.826403
               ],
               [
                -87.63547,
                41.830291
               ]
              ]
             ],
             "type": "Polygon"
            },
            "id": "872664cf1ffffff",
            "properties": {
             "value": -1348
            },
            "type": "Feature"
           },
           {
            "geometry": {
             "coordinates": [
              [
               [
                -87.572845,
                41.782195
               ],
               [
                -87.585556,
                41.773951
               ],
               [
                -87.581484,
                41.761814
               ],
               [
                -87.564708,
                41.75792
               ],
               [
                -87.551997,
                41.76616
               ],
               [
                -87.556063,
                41.778299
               ],
               [
                -87.572845,
                41.782195
               ]
              ]
             ],
             "type": "Polygon"
            },
            "id": "872664ceaffffff",
            "properties": {
             "value": -29
            },
            "type": "Feature"
           },
           {
            "geometry": {
             "coordinates": [
              [
               [
                -87.748697,
                41.889998
               ],
               [
                -87.7614,
                41.881724
               ],
               [
                -87.757274,
                41.869581
               ],
               [
                -87.740452,
                41.86571
               ],
               [
                -87.727748,
                41.87398
               ],
               [
                -87.731867,
                41.886126
               ],
               [
                -87.748697,
                41.889998
               ]
              ]
             ],
             "type": "Polygon"
            },
            "id": "872664c81ffffff",
            "properties": {
             "value": -4
            },
            "type": "Feature"
           },
           {
            "geometry": {
             "coordinates": [
              [
               [
                -87.703078,
                41.801141
               ],
               [
                -87.715767,
                41.792882
               ],
               [
                -87.71166,
                41.780749
               ],
               [
                -87.694872,
                41.776874
               ],
               [
                -87.682183,
                41.785129
               ],
               [
                -87.686283,
                41.797264
               ],
               [
                -87.703078,
                41.801141
               ]
              ]
             ],
             "type": "Polygon"
            },
            "id": "872664cd0ffffff",
            "properties": {
             "value": 0
            },
            "type": "Feature"
           },
           {
            "geometry": {
             "coordinates": [
              [
               [
                -87.806929,
                42.015395
               ],
               [
                -87.819654,
                42.0071
               ],
               [
                -87.815502,
                41.994943
               ],
               [
                -87.798632,
                41.991078
               ],
               [
                -87.785906,
                41.999368
               ],
               [
                -87.790051,
                42.011528
               ],
               [
                -87.806929,
                42.015395
               ]
              ]
             ],
             "type": "Polygon"
            },
            "id": "87275936dffffff",
            "properties": {
             "value": -42
            },
            "type": "Feature"
           },
           {
            "geometry": {
             "coordinates": [
              [
               [
                -87.785906,
                41.999368
               ],
               [
                -87.798632,
                41.991078
               ],
               [
                -87.794486,
                41.978921
               ],
               [
                -87.777622,
                41.975053
               ],
               [
                -87.764897,
                41.98334
               ],
               [
                -87.769035,
                41.995499
               ],
               [
                -87.785906,
                41.999368
               ]
              ]
             ],
             "type": "Polygon"
            },
            "id": "872664d9affffff",
            "properties": {
             "value": -47
            },
            "type": "Feature"
           },
           {
            "geometry": {
             "coordinates": [
              [
               [
                -87.757274,
                41.869581
               ],
               [
                -87.76997,
                41.861308
               ],
               [
                -87.765843,
                41.849168
               ],
               [
                -87.749028,
                41.845299
               ],
               [
                -87.736332,
                41.853568
               ],
               [
                -87.740452,
                41.86571
               ],
               [
                -87.757274,
                41.869581
               ]
              ]
             ],
             "type": "Polygon"
            },
            "id": "872664c8effffff",
            "properties": {
             "value": 0
            },
            "type": "Feature"
           },
           {
            "geometry": {
             "coordinates": [
              [
               [
                -87.706813,
                41.857961
               ],
               [
                -87.719516,
                41.849695
               ],
               [
                -87.715404,
                41.837554
               ],
               [
                -87.698595,
                41.833678
               ],
               [
                -87.685891,
                41.841941
               ],
               [
                -87.689997,
                41.854083
               ],
               [
                -87.706813,
                41.857961
               ]
              ]
             ],
             "type": "Polygon"
            },
            "id": "872664c8dffffff",
            "properties": {
             "value": -7
            },
            "type": "Feature"
           },
           {
            "geometry": {
             "coordinates": [
              [
               [
                -87.581484,
                41.761814
               ],
               [
                -87.594187,
                41.753571
               ],
               [
                -87.590114,
                41.741438
               ],
               [
                -87.573346,
                41.737545
               ],
               [
                -87.560642,
                41.745784
               ],
               [
                -87.564708,
                41.75792
               ],
               [
                -87.581484,
                41.761814
               ]
              ]
             ],
             "type": "Polygon"
            },
            "id": "872664cccffffff",
            "properties": {
             "value": -1
            },
            "type": "Feature"
           },
           {
            "geometry": {
             "coordinates": [
              [
               [
                -87.619579,
                41.737084
               ],
               [
                -87.632267,
                41.72884
               ],
               [
                -87.628187,
                41.716713
               ],
               [
                -87.611426,
                41.712826
               ],
               [
                -87.598737,
                41.721066
               ],
               [
                -87.60281,
                41.733196
               ],
               [
                -87.619579,
                41.737084
               ]
              ]
             ],
             "type": "Polygon"
            },
            "id": "872664ccaffffff",
            "properties": {
             "value": 1
            },
            "type": "Feature"
           },
           {
            "geometry": {
             "coordinates": [
              [
               [
                -87.628187,
                41.716713
               ],
               [
                -87.640868,
                41.70847
               ],
               [
                -87.636788,
                41.696345
               ],
               [
                -87.620033,
                41.692461
               ],
               [
                -87.607352,
                41.7007
               ],
               [
                -87.611426,
                41.712826
               ],
               [
                -87.628187,
                41.716713
               ]
              ]
             ],
             "type": "Polygon"
            },
            "id": "872664564ffffff",
            "properties": {
             "value": -4
            },
            "type": "Feature"
           },
           {
            "geometry": {
             "coordinates": [
              [
               [
                -87.631824,
                41.773483
               ],
               [
                -87.64452,
                41.765233
               ],
               [
                -87.640433,
                41.753101
               ],
               [
                -87.623658,
                41.749216
               ],
               [
                -87.610962,
                41.757461
               ],
               [
                -87.615042,
                41.769596
               ],
               [
                -87.631824,
                41.773483
               ]
              ]
             ],
             "type": "Polygon"
            },
            "id": "872664cc3ffffff",
            "properties": {
             "value": 0
            },
            "type": "Feature"
           },
           {
            "geometry": {
             "coordinates": [
              [
               [
                -87.551997,
                41.76616
               ],
               [
                -87.564708,
                41.75792
               ],
               [
                -87.560642,
                41.745784
               ],
               [
                -87.543873,
                41.741887
               ],
               [
                -87.531163,
                41.750124
               ],
               [
                -87.535221,
                41.762261
               ],
               [
                -87.551997,
                41.76616
               ]
              ]
             ],
             "type": "Polygon"
            },
            "id": "872664cebffffff",
            "properties": {
             "value": -7
            },
            "type": "Feature"
           },
           {
            "geometry": {
             "coordinates": [
              [
               [
                -87.664983,
                41.825918
               ],
               [
                -87.677686,
                41.81766
               ],
               [
                -87.673587,
                41.805521
               ],
               [
                -87.656791,
                41.80164
               ],
               [
                -87.644088,
                41.809895
               ],
               [
                -87.64818,
                41.822035
               ],
               [
                -87.664983,
                41.825918
               ]
              ]
             ],
             "type": "Polygon"
            },
            "id": "872664cf3ffffff",
            "properties": {
             "value": -15
            },
            "type": "Feature"
           },
           {
            "geometry": {
             "coordinates": [
              [
               [
                -87.610962,
                41.757461
               ],
               [
                -87.623658,
                41.749216
               ],
               [
                -87.619579,
                41.737084
               ],
               [
                -87.60281,
                41.733196
               ],
               [
                -87.590114,
                41.741438
               ],
               [
                -87.594187,
                41.753571
               ],
               [
                -87.610962,
                41.757461
               ]
              ]
             ],
             "type": "Polygon"
            },
            "id": "872664cceffffff",
            "properties": {
             "value": -5
            },
            "type": "Feature"
           },
           {
            "geometry": {
             "coordinates": [
              [
               [
                -87.803059,
                41.958479
               ],
               [
                -87.815769,
                41.950191
               ],
               [
                -87.811623,
                41.938041
               ],
               [
                -87.794774,
                41.934177
               ],
               [
                -87.782063,
                41.942461
               ],
               [
                -87.786202,
                41.954613
               ],
               [
                -87.803059,
                41.958479
               ]
              ]
             ],
             "type": "Polygon"
            },
            "id": "872664cb0ffffff",
            "properties": {
             "value": -7
            },
            "type": "Feature"
           },
           {
            "geometry": {
             "coordinates": [
              [
               [
                -87.732561,
                41.796754
               ],
               [
                -87.745242,
                41.788492
               ],
               [
                -87.741129,
                41.776362
               ],
               [
                -87.724341,
                41.772491
               ],
               [
                -87.71166,
                41.780749
               ],
               [
                -87.715767,
                41.792882
               ],
               [
                -87.732561,
                41.796754
               ]
              ]
             ],
             "type": "Polygon"
            },
            "id": "872664cd2ffffff",
            "properties": {
             "value": -11
            },
            "type": "Feature"
           },
           {
            "geometry": {
             "coordinates": [
              [
               [
                -87.723986,
                41.817152
               ],
               [
                -87.736675,
                41.808888
               ],
               [
                -87.732561,
                41.796754
               ],
               [
                -87.715767,
                41.792882
               ],
               [
                -87.703078,
                41.801141
               ],
               [
                -87.707184,
                41.813277
               ],
               [
                -87.723986,
                41.817152
               ]
              ]
             ],
             "type": "Polygon"
            },
            "id": "872664cd6ffffff",
            "properties": {
             "value": -2
            },
            "type": "Feature"
           },
           {
            "geometry": {
             "coordinates": [
              [
               [
                -87.777318,
                42.01982
               ],
               [
                -87.790051,
                42.011528
               ],
               [
                -87.785906,
                41.999368
               ],
               [
                -87.769035,
                41.995499
               ],
               [
                -87.756302,
                42.003787
               ],
               [
                -87.76044,
                42.015949
               ],
               [
                -87.777318,
                42.01982
               ]
              ]
             ],
             "type": "Polygon"
            },
            "id": "872664d9effffff",
            "properties": {
             "value": -15
            },
            "type": "Feature"
           },
           {
            "geometry": {
             "coordinates": [
              [
               [
                -87.644088,
                41.809895
               ],
               [
                -87.656791,
                41.80164
               ],
               [
                -87.652699,
                41.789503
               ],
               [
                -87.63591,
                41.785618
               ],
               [
                -87.623207,
                41.793869
               ],
               [
                -87.627292,
                41.806008
               ],
               [
                -87.644088,
                41.809895
               ]
              ]
             ],
             "type": "Polygon"
            },
            "id": "872664cc6ffffff",
            "properties": {
             "value": -1
            },
            "type": "Feature"
           },
           {
            "geometry": {
             "coordinates": [
              [
               [
                -87.577909,
                41.705047
               ],
               [
                -87.590597,
                41.696811
               ],
               [
                -87.586531,
                41.684685
               ],
               [
                -87.569783,
                41.680794
               ],
               [
                -87.557094,
                41.689026
               ],
               [
                -87.561154,
                41.701153
               ],
               [
                -87.577909,
                41.705047
               ]
              ]
             ],
             "type": "Polygon"
            },
            "id": "872664196ffffff",
            "properties": {
             "value": -3
            },
            "type": "Feature"
           },
           {
            "geometry": {
             "coordinates": [
              [
               [
                -87.719157,
                41.894397
               ],
               [
                -87.731867,
                41.886126
               ],
               [
                -87.727748,
                41.87398
               ],
               [
                -87.710925,
                41.870105
               ],
               [
                -87.698215,
                41.878373
               ],
               [
                -87.702327,
                41.89052
               ],
               [
                -87.719157,
                41.894397
               ]
              ]
             ],
             "type": "Polygon"
            },
            "id": "872664caaffffff",
            "properties": {
             "value": -71
            },
            "type": "Feature"
           },
           {
            "geometry": {
             "coordinates": [
              [
               [
                -87.715404,
                41.837554
               ],
               [
                -87.728099,
                41.829289
               ],
               [
                -87.723986,
                41.817152
               ],
               [
                -87.707184,
                41.813277
               ],
               [
                -87.694489,
                41.821539
               ],
               [
                -87.698595,
                41.833678
               ],
               [
                -87.715404,
                41.837554
               ]
              ]
             ],
             "type": "Polygon"
            },
            "id": "872664c89ffffff",
            "properties": {
             "value": -3
            },
            "type": "Feature"
           },
           {
            "geometry": {
             "coordinates": [
              [
               [
                -87.740112,
                41.91042
               ],
               [
                -87.752823,
                41.902144
               ],
               [
                -87.748697,
                41.889998
               ],
               [
                -87.731867,
                41.886126
               ],
               [
                -87.719157,
                41.894397
               ],
               [
                -87.723275,
                41.906546
               ],
               [
                -87.740112,
                41.91042
               ]
              ]
             ],
             "type": "Polygon"
            },
            "id": "872664c85ffffff",
            "properties": {
             "value": -4
            },
            "type": "Feature"
           },
           {
            "geometry": {
             "coordinates": [
              [
               [
                -87.827965,
                42.03142
               ],
               [
                -87.840691,
                42.023121
               ],
               [
                -87.836532,
                42.010963
               ],
               [
                -87.819654,
                42.0071
               ],
               [
                -87.806929,
                42.015395
               ],
               [
                -87.811081,
                42.027556
               ],
               [
                -87.827965,
                42.03142
               ]
              ]
             ],
             "type": "Polygon"
            },
            "id": "87275936cffffff",
            "properties": {
             "value": 1
            },
            "type": "Feature"
           },
           {
            "geometry": {
             "coordinates": [
              [
               [
                -87.832626,
                41.954053
               ],
               [
                -87.845329,
                41.945762
               ],
               [
                -87.841176,
                41.933615
               ],
               [
                -87.824326,
                41.929755
               ],
               [
                -87.811623,
                41.938041
               ],
               [
                -87.815769,
                41.950191
               ],
               [
                -87.832626,
                41.954053
               ]
              ]
             ],
             "type": "Polygon"
            },
            "id": "872664cb2ffffff",
            "properties": {
             "value": -1
            },
            "type": "Feature"
           },
           {
            "geometry": {
             "coordinates": [
              [
               [
                -87.649035,
                41.732724
               ],
               [
                -87.661716,
                41.724478
               ],
               [
                -87.657629,
                41.712352
               ],
               [
                -87.640868,
                41.70847
               ],
               [
                -87.628187,
                41.716713
               ],
               [
                -87.632267,
                41.72884
               ],
               [
                -87.649035,
                41.732724
               ]
              ]
             ],
             "type": "Polygon"
            },
            "id": "872664cd9ffffff",
            "properties": {
             "value": 0
            },
            "type": "Feature"
           },
           {
            "geometry": {
             "coordinates": [
              [
               [
                -87.790634,
                41.922028
               ],
               [
                -87.803338,
                41.913746
               ],
               [
                -87.799198,
                41.901601
               ],
               [
                -87.782362,
                41.897736
               ],
               [
                -87.769659,
                41.906014
               ],
               [
                -87.773791,
                41.918162
               ],
               [
                -87.790634,
                41.922028
               ]
              ]
             ],
             "type": "Polygon"
            },
            "id": "872664c86ffffff",
            "properties": {
             "value": -3
            },
            "type": "Feature"
           },
           {
            "geometry": {
             "coordinates": [
              [
               [
                -87.778229,
                41.885592
               ],
               [
                -87.790925,
                41.877315
               ],
               [
                -87.786792,
                41.865174
               ],
               [
                -87.76997,
                41.861308
               ],
               [
                -87.757274,
                41.869581
               ],
               [
                -87.7614,
                41.881724
               ],
               [
                -87.778229,
                41.885592
               ]
              ]
             ],
             "type": "Polygon"
            },
            "id": "872664c83ffffff",
            "properties": {
             "value": -2
            },
            "type": "Feature"
           },
           {
            "geometry": {
             "coordinates": [
              [
               [
                -87.652699,
                41.789503
               ],
               [
                -87.665395,
                41.78125
               ],
               [
                -87.661302,
                41.769116
               ],
               [
                -87.64452,
                41.765233
               ],
               [
                -87.631824,
                41.773483
               ],
               [
                -87.63591,
                41.785618
               ],
               [
                -87.652699,
                41.789503
               ]
              ]
             ],
             "type": "Polygon"
            },
            "id": "872664cc2ffffff",
            "properties": {
             "value": -2
            },
            "type": "Feature"
           },
           {
            "geometry": {
             "coordinates": [
              [
               [
                -87.71166,
                41.780749
               ],
               [
                -87.724341,
                41.772491
               ],
               [
                -87.720234,
                41.760361
               ],
               [
                -87.703453,
                41.756488
               ],
               [
                -87.690772,
                41.764742
               ],
               [
                -87.694872,
                41.776874
               ],
               [
                -87.71166,
                41.780749
               ]
              ]
             ],
             "type": "Polygon"
            },
            "id": "872664cd3ffffff",
            "properties": {
             "value": 0
            },
            "type": "Feature"
           },
           {
            "geometry": {
             "coordinates": [
              [
               [
                -87.623207,
                41.793869
               ],
               [
                -87.63591,
                41.785618
               ],
               [
                -87.631824,
                41.773483
               ],
               [
                -87.615042,
                41.769596
               ],
               [
                -87.602338,
                41.777842
               ],
               [
                -87.606417,
                41.78998
               ],
               [
                -87.623207,
                41.793869
               ]
              ]
             ],
             "type": "Polygon"
            },
            "id": "872664cc0ffffff",
            "properties": {
             "value": -9
            },
            "type": "Feature"
           },
           {
            "geometry": {
             "coordinates": [
              [
               [
                -87.661302,
                41.769116
               ],
               [
                -87.67399,
                41.760864
               ],
               [
                -87.669897,
                41.748734
               ],
               [
                -87.653122,
                41.744853
               ],
               [
                -87.640433,
                41.753101
               ],
               [
                -87.64452,
                41.765233
               ],
               [
                -87.661302,
                41.769116
               ]
              ]
             ],
             "type": "Polygon"
            },
            "id": "872664cdcffffff",
            "properties": {
             "value": -2
            },
            "type": "Feature"
           },
           {
            "geometry": {
             "coordinates": [
              [
               [
                -87.602338,
                41.777842
               ],
               [
                -87.615042,
                41.769596
               ],
               [
                -87.610962,
                41.757461
               ],
               [
                -87.594187,
                41.753571
               ],
               [
                -87.581484,
                41.761814
               ],
               [
                -87.585556,
                41.773951
               ],
               [
                -87.602338,
                41.777842
               ]
              ]
             ],
             "type": "Polygon"
            },
            "id": "872664cc1ffffff",
            "properties": {
             "value": -13
            },
            "type": "Feature"
           },
           {
            "geometry": {
             "coordinates": [
              [
               [
                -87.673587,
                41.805521
               ],
               [
                -87.686283,
                41.797264
               ],
               [
                -87.682183,
                41.785129
               ],
               [
                -87.665395,
                41.78125
               ],
               [
                -87.652699,
                41.789503
               ],
               [
                -87.656791,
                41.80164
               ],
               [
                -87.673587,
                41.805521
               ]
              ]
             ],
             "type": "Polygon"
            },
            "id": "872664cd5ffffff",
            "properties": {
             "value": 0
            },
            "type": "Feature"
           },
           {
            "geometry": {
             "coordinates": [
              [
               [
                -87.769659,
                41.906014
               ],
               [
                -87.782362,
                41.897736
               ],
               [
                -87.778229,
                41.885592
               ],
               [
                -87.7614,
                41.881724
               ],
               [
                -87.748697,
                41.889998
               ],
               [
                -87.752823,
                41.902144
               ],
               [
                -87.769659,
                41.906014
               ]
              ]
             ],
             "type": "Polygon"
            },
            "id": "872664c80ffffff",
            "properties": {
             "value": -1
            },
            "type": "Feature"
           },
           {
            "geometry": {
             "coordinates": [
              [
               [
                -87.669897,
                41.748734
               ],
               [
                -87.682578,
                41.740483
               ],
               [
                -87.678484,
                41.728356
               ],
               [
                -87.661716,
                41.724478
               ],
               [
                -87.649035,
                41.732724
               ],
               [
                -87.653122,
                41.744853
               ],
               [
                -87.669897,
                41.748734
               ]
              ]
             ],
             "type": "Polygon"
            },
            "id": "872664cd8ffffff",
            "properties": {
             "value": -5
            },
            "type": "Feature"
           },
           {
            "geometry": {
             "coordinates": [
              [
               [
                -87.687064,
                41.707984
               ],
               [
                -87.69973,
                41.699737
               ],
               [
                -87.695635,
                41.687616
               ],
               [
                -87.678882,
                41.683741
               ],
               [
                -87.666215,
                41.691984
               ],
               [
                -87.670303,
                41.704107
               ],
               [
                -87.687064,
                41.707984
               ]
              ]
             ],
             "type": "Polygon"
            },
            "id": "872664575ffffff",
            "properties": {
             "value": 0
            },
            "type": "Feature"
           },
           {
            "geometry": {
             "coordinates": [
              [
               [
                -87.741129,
                41.776362
               ],
               [
                -87.753802,
                41.768101
               ],
               [
                -87.749688,
                41.755974
               ],
               [
                -87.732907,
                41.752105
               ],
               [
                -87.720234,
                41.760361
               ],
               [
                -87.724341,
                41.772491
               ],
               [
                -87.741129,
                41.776362
               ]
              ]
             ],
             "type": "Polygon"
            },
            "id": "87266452cffffff",
            "properties": {
             "value": 0
            },
            "type": "Feature"
           },
           {
            "geometry": {
             "coordinates": [
              [
               [
                -87.811623,
                41.938041
               ],
               [
                -87.824326,
                41.929755
               ],
               [
                -87.82018,
                41.917609
               ],
               [
                -87.803338,
                41.913746
               ],
               [
                -87.790634,
                41.922028
               ],
               [
                -87.794774,
                41.934177
               ],
               [
                -87.811623,
                41.938041
               ]
              ]
             ],
             "type": "Polygon"
            },
            "id": "872664cb3ffffff",
            "properties": {
             "value": 0
            },
            "type": "Feature"
           },
           {
            "geometry": {
             "coordinates": [
              [
               [
                -87.678484,
                41.728356
               ],
               [
                -87.691158,
                41.720108
               ],
               [
                -87.687064,
                41.707984
               ],
               [
                -87.670303,
                41.704107
               ],
               [
                -87.657629,
                41.712352
               ],
               [
                -87.661716,
                41.724478
               ],
               [
                -87.678484,
                41.728356
               ]
              ]
             ],
             "type": "Polygon"
            },
            "id": "872664cdbffffff",
            "properties": {
             "value": -2
            },
            "type": "Feature"
           },
           {
            "geometry": {
             "coordinates": [
              [
               [
                -87.560642,
                41.745784
               ],
               [
                -87.573346,
                41.737545
               ],
               [
                -87.56928,
                41.725413
               ],
               [
                -87.552518,
                41.721518
               ],
               [
                -87.539814,
                41.729753
               ],
               [
                -87.543873,
                41.741887
               ],
               [
                -87.560642,
                41.745784
               ]
              ]
             ],
             "type": "Polygon"
            },
            "id": "872664ccdffffff",
            "properties": {
             "value": 0
            },
            "type": "Feature"
           },
           {
            "geometry": {
             "coordinates": [
              [
               [
                -87.615959,
                41.680338
               ],
               [
                -87.628633,
                41.672101
               ],
               [
                -87.624559,
                41.659981
               ],
               [
                -87.607818,
                41.656096
               ],
               [
                -87.595145,
                41.664329
               ],
               [
                -87.599212,
                41.676451
               ],
               [
                -87.615959,
                41.680338
               ]
              ]
             ],
             "type": "Polygon"
            },
            "id": "872664561ffffff",
            "properties": {
             "value": 0
            },
            "type": "Feature"
           },
           {
            "geometry": {
             "coordinates": [
              [
               [
                -87.736332,
                41.853568
               ],
               [
                -87.749028,
                41.845299
               ],
               [
                -87.744908,
                41.833161
               ],
               [
                -87.728099,
                41.829289
               ],
               [
                -87.715404,
                41.837554
               ],
               [
                -87.719516,
                41.849695
               ],
               [
                -87.736332,
                41.853568
               ]
              ]
             ],
             "type": "Polygon"
            },
            "id": "872664c88ffffff",
            "properties": {
             "value": -1
            },
            "type": "Feature"
           },
           {
            "geometry": {
             "coordinates": [
              [
               [
                -87.707925,
                41.723982
               ],
               [
                -87.720591,
                41.715731
               ],
               [
                -87.71649,
                41.703609
               ],
               [
                -87.69973,
                41.699737
               ],
               [
                -87.687064,
                41.707984
               ],
               [
                -87.691158,
                41.720108
               ],
               [
                -87.707925,
                41.723982
               ]
              ]
             ],
             "type": "Polygon"
            },
            "id": "872664574ffffff",
            "properties": {
             "value": 0
            },
            "type": "Feature"
           }
          ],
          "type": "FeatureCollection"
         },
         "hovertemplate": "hex=%{location}<br>Demand Difference Evening in Res7=%{z}<extra></extra>",
         "locations": [
          "872664c1effffff",
          "872664c12ffffff",
          "872664c10ffffff",
          "872664cacffffff",
          "872664c14ffffff",
          "872664d89ffffff",
          "872664cadffffff",
          "872664c16ffffff",
          "872664d8dffffff",
          "872664c1affffff",
          "872664c11ffffff",
          "872664ca1ffffff",
          "872664c13ffffff",
          "872664ce3ffffff",
          "872664c1bffffff",
          "872664ca5ffffff",
          "872664d8bffffff",
          "872664d8cffffff",
          "872664cf4ffffff",
          "872664ca0ffffff",
          "87275934effffff",
          "872664d88ffffff",
          "872664ca9ffffff",
          "872664cf5ffffff",
          "872664d8affffff",
          "872664ca8ffffff",
          "872664d8effffff",
          "872664ca4ffffff",
          "872664521ffffff",
          "872664caeffffff",
          "872664ca6ffffff",
          "872664d9bffffff",
          "872664d99ffffff",
          "872664cf6ffffff",
          "872664ca3ffffff",
          "872664cc5ffffff",
          "872664cb5ffffff",
          "872664cf2ffffff",
          "872664cb1ffffff",
          "872664ce2ffffff",
          "872664cddffffff",
          "872664520ffffff",
          "872664cabffffff",
          "872664d98ffffff",
          "872664c84ffffff",
          "872664cf0ffffff",
          "872664d81ffffff",
          "872759369ffffff",
          "872664ca2ffffff",
          "872664cc4ffffff",
          "872664d9dffffff",
          "87275936bffffff",
          "872664525ffffff",
          "872664cc8ffffff",
          "872664c8cffffff",
          "872664d83ffffff",
          "872664cb4ffffff",
          "872664c8bffffff",
          "872664cd4ffffff",
          "87266452dffffff",
          "872664523ffffff",
          "872759340ffffff",
          "87275934dffffff",
          "872664562ffffff",
          "872664cf1ffffff",
          "872664ceaffffff",
          "872664c81ffffff",
          "872664cd0ffffff",
          "87275936dffffff",
          "872664d9affffff",
          "872664c8effffff",
          "872664c8dffffff",
          "872664cccffffff",
          "872664ccaffffff",
          "872664564ffffff",
          "872664cc3ffffff",
          "872664cebffffff",
          "872664cf3ffffff",
          "872664cceffffff",
          "872664cb0ffffff",
          "872664cd2ffffff",
          "872664cd6ffffff",
          "872664d9effffff",
          "872664cc6ffffff",
          "872664196ffffff",
          "872664caaffffff",
          "872664c89ffffff",
          "872664c85ffffff",
          "87275936cffffff",
          "872664cb2ffffff",
          "872664cd9ffffff",
          "872664c86ffffff",
          "872664c83ffffff",
          "872664cc2ffffff",
          "872664cd3ffffff",
          "872664cc0ffffff",
          "872664cdcffffff",
          "872664cc1ffffff",
          "872664cd5ffffff",
          "872664c80ffffff",
          "872664cd8ffffff",
          "872664575ffffff",
          "87266452cffffff",
          "872664cb3ffffff",
          "872664cdbffffff",
          "872664ccdffffff",
          "872664561ffffff",
          "872664c88ffffff",
          "872664574ffffff"
         ],
         "marker": {
          "opacity": 0.7
         },
         "name": "",
         "subplot": "mapbox",
         "type": "choroplethmapbox",
         "z": [
          191298,
          -72312,
          -153891,
          -74833,
          -8884,
          -32317,
          -238419,
          -61652,
          -2555,
          544050,
          -81636,
          -16055,
          -96155,
          -3055,
          -11331,
          -9531,
          -15896,
          -4232,
          -23636,
          -2262,
          192635,
          -9391,
          -95083,
          37980,
          -2345,
          -8588,
          -642,
          -2261,
          54288,
          -1624,
          -250,
          132,
          -113,
          -359,
          -63,
          15154,
          -11,
          -46,
          -6,
          -223,
          -3,
          -2,
          -1236,
          -88,
          -1,
          -429,
          -143,
          -37,
          -29,
          -201,
          -38,
          -1673,
          -21,
          0,
          1,
          -39,
          -20,
          -7,
          10,
          0,
          0,
          -258,
          -1,
          0,
          -1348,
          -29,
          -4,
          0,
          -42,
          -47,
          0,
          -7,
          -1,
          1,
          -4,
          0,
          -7,
          -15,
          -5,
          -7,
          -11,
          -2,
          -15,
          -1,
          -3,
          -71,
          -3,
          -4,
          1,
          -1,
          0,
          -3,
          -2,
          -2,
          0,
          -9,
          -2,
          -13,
          0,
          -1,
          -5,
          0,
          0,
          0,
          -2,
          0,
          0,
          -1,
          0
         ]
        }
       ],
       "layout": {
        "coloraxis": {
         "cmax": 0.20000000000000284,
         "cmin": -0.20000000000000284,
         "colorbar": {
          "title": {
           "text": "Demand Difference Evening in Res7"
          }
         },
         "colorscale": [
          [
           0,
           "rgb(103,0,31)"
          ],
          [
           0.1,
           "rgb(178,24,43)"
          ],
          [
           0.2,
           "rgb(214,96,77)"
          ],
          [
           0.3,
           "rgb(244,165,130)"
          ],
          [
           0.4,
           "rgb(253,219,199)"
          ],
          [
           0.5,
           "rgb(247,247,247)"
          ],
          [
           0.6,
           "rgb(209,229,240)"
          ],
          [
           0.7,
           "rgb(146,197,222)"
          ],
          [
           0.8,
           "rgb(67,147,195)"
          ],
          [
           0.9,
           "rgb(33,102,172)"
          ],
          [
           1,
           "rgb(5,48,97)"
          ]
         ]
        },
        "height": 500,
        "legend": {
         "tracegroupgap": 0
        },
        "mapbox": {
         "center": {
          "lat": 41.881832,
          "lon": -87.623177
         },
         "domain": {
          "x": [
           0,
           1
          ],
          "y": [
           0,
           1
          ]
         },
         "style": "carto-positron",
         "zoom": 10.5
        },
        "margin": {
         "b": 0,
         "l": 0,
         "r": 0,
         "t": 0
        },
        "template": {
         "data": {
          "bar": [
           {
            "error_x": {
             "color": "#2a3f5f"
            },
            "error_y": {
             "color": "#2a3f5f"
            },
            "marker": {
             "line": {
              "color": "#E5ECF6",
              "width": 0.5
             },
             "pattern": {
              "fillmode": "overlay",
              "size": 10,
              "solidity": 0.2
             }
            },
            "type": "bar"
           }
          ],
          "barpolar": [
           {
            "marker": {
             "line": {
              "color": "#E5ECF6",
              "width": 0.5
             },
             "pattern": {
              "fillmode": "overlay",
              "size": 10,
              "solidity": 0.2
             }
            },
            "type": "barpolar"
           }
          ],
          "carpet": [
           {
            "aaxis": {
             "endlinecolor": "#2a3f5f",
             "gridcolor": "white",
             "linecolor": "white",
             "minorgridcolor": "white",
             "startlinecolor": "#2a3f5f"
            },
            "baxis": {
             "endlinecolor": "#2a3f5f",
             "gridcolor": "white",
             "linecolor": "white",
             "minorgridcolor": "white",
             "startlinecolor": "#2a3f5f"
            },
            "type": "carpet"
           }
          ],
          "choropleth": [
           {
            "colorbar": {
             "outlinewidth": 0,
             "ticks": ""
            },
            "type": "choropleth"
           }
          ],
          "contour": [
           {
            "colorbar": {
             "outlinewidth": 0,
             "ticks": ""
            },
            "colorscale": [
             [
              0,
              "#0d0887"
             ],
             [
              0.1111111111111111,
              "#46039f"
             ],
             [
              0.2222222222222222,
              "#7201a8"
             ],
             [
              0.3333333333333333,
              "#9c179e"
             ],
             [
              0.4444444444444444,
              "#bd3786"
             ],
             [
              0.5555555555555556,
              "#d8576b"
             ],
             [
              0.6666666666666666,
              "#ed7953"
             ],
             [
              0.7777777777777778,
              "#fb9f3a"
             ],
             [
              0.8888888888888888,
              "#fdca26"
             ],
             [
              1,
              "#f0f921"
             ]
            ],
            "type": "contour"
           }
          ],
          "contourcarpet": [
           {
            "colorbar": {
             "outlinewidth": 0,
             "ticks": ""
            },
            "type": "contourcarpet"
           }
          ],
          "heatmap": [
           {
            "colorbar": {
             "outlinewidth": 0,
             "ticks": ""
            },
            "colorscale": [
             [
              0,
              "#0d0887"
             ],
             [
              0.1111111111111111,
              "#46039f"
             ],
             [
              0.2222222222222222,
              "#7201a8"
             ],
             [
              0.3333333333333333,
              "#9c179e"
             ],
             [
              0.4444444444444444,
              "#bd3786"
             ],
             [
              0.5555555555555556,
              "#d8576b"
             ],
             [
              0.6666666666666666,
              "#ed7953"
             ],
             [
              0.7777777777777778,
              "#fb9f3a"
             ],
             [
              0.8888888888888888,
              "#fdca26"
             ],
             [
              1,
              "#f0f921"
             ]
            ],
            "type": "heatmap"
           }
          ],
          "heatmapgl": [
           {
            "colorbar": {
             "outlinewidth": 0,
             "ticks": ""
            },
            "colorscale": [
             [
              0,
              "#0d0887"
             ],
             [
              0.1111111111111111,
              "#46039f"
             ],
             [
              0.2222222222222222,
              "#7201a8"
             ],
             [
              0.3333333333333333,
              "#9c179e"
             ],
             [
              0.4444444444444444,
              "#bd3786"
             ],
             [
              0.5555555555555556,
              "#d8576b"
             ],
             [
              0.6666666666666666,
              "#ed7953"
             ],
             [
              0.7777777777777778,
              "#fb9f3a"
             ],
             [
              0.8888888888888888,
              "#fdca26"
             ],
             [
              1,
              "#f0f921"
             ]
            ],
            "type": "heatmapgl"
           }
          ],
          "histogram": [
           {
            "marker": {
             "pattern": {
              "fillmode": "overlay",
              "size": 10,
              "solidity": 0.2
             }
            },
            "type": "histogram"
           }
          ],
          "histogram2d": [
           {
            "colorbar": {
             "outlinewidth": 0,
             "ticks": ""
            },
            "colorscale": [
             [
              0,
              "#0d0887"
             ],
             [
              0.1111111111111111,
              "#46039f"
             ],
             [
              0.2222222222222222,
              "#7201a8"
             ],
             [
              0.3333333333333333,
              "#9c179e"
             ],
             [
              0.4444444444444444,
              "#bd3786"
             ],
             [
              0.5555555555555556,
              "#d8576b"
             ],
             [
              0.6666666666666666,
              "#ed7953"
             ],
             [
              0.7777777777777778,
              "#fb9f3a"
             ],
             [
              0.8888888888888888,
              "#fdca26"
             ],
             [
              1,
              "#f0f921"
             ]
            ],
            "type": "histogram2d"
           }
          ],
          "histogram2dcontour": [
           {
            "colorbar": {
             "outlinewidth": 0,
             "ticks": ""
            },
            "colorscale": [
             [
              0,
              "#0d0887"
             ],
             [
              0.1111111111111111,
              "#46039f"
             ],
             [
              0.2222222222222222,
              "#7201a8"
             ],
             [
              0.3333333333333333,
              "#9c179e"
             ],
             [
              0.4444444444444444,
              "#bd3786"
             ],
             [
              0.5555555555555556,
              "#d8576b"
             ],
             [
              0.6666666666666666,
              "#ed7953"
             ],
             [
              0.7777777777777778,
              "#fb9f3a"
             ],
             [
              0.8888888888888888,
              "#fdca26"
             ],
             [
              1,
              "#f0f921"
             ]
            ],
            "type": "histogram2dcontour"
           }
          ],
          "mesh3d": [
           {
            "colorbar": {
             "outlinewidth": 0,
             "ticks": ""
            },
            "type": "mesh3d"
           }
          ],
          "parcoords": [
           {
            "line": {
             "colorbar": {
              "outlinewidth": 0,
              "ticks": ""
             }
            },
            "type": "parcoords"
           }
          ],
          "pie": [
           {
            "automargin": true,
            "type": "pie"
           }
          ],
          "scatter": [
           {
            "fillpattern": {
             "fillmode": "overlay",
             "size": 10,
             "solidity": 0.2
            },
            "type": "scatter"
           }
          ],
          "scatter3d": [
           {
            "line": {
             "colorbar": {
              "outlinewidth": 0,
              "ticks": ""
             }
            },
            "marker": {
             "colorbar": {
              "outlinewidth": 0,
              "ticks": ""
             }
            },
            "type": "scatter3d"
           }
          ],
          "scattercarpet": [
           {
            "marker": {
             "colorbar": {
              "outlinewidth": 0,
              "ticks": ""
             }
            },
            "type": "scattercarpet"
           }
          ],
          "scattergeo": [
           {
            "marker": {
             "colorbar": {
              "outlinewidth": 0,
              "ticks": ""
             }
            },
            "type": "scattergeo"
           }
          ],
          "scattergl": [
           {
            "marker": {
             "colorbar": {
              "outlinewidth": 0,
              "ticks": ""
             }
            },
            "type": "scattergl"
           }
          ],
          "scattermapbox": [
           {
            "marker": {
             "colorbar": {
              "outlinewidth": 0,
              "ticks": ""
             }
            },
            "type": "scattermapbox"
           }
          ],
          "scatterpolar": [
           {
            "marker": {
             "colorbar": {
              "outlinewidth": 0,
              "ticks": ""
             }
            },
            "type": "scatterpolar"
           }
          ],
          "scatterpolargl": [
           {
            "marker": {
             "colorbar": {
              "outlinewidth": 0,
              "ticks": ""
             }
            },
            "type": "scatterpolargl"
           }
          ],
          "scatterternary": [
           {
            "marker": {
             "colorbar": {
              "outlinewidth": 0,
              "ticks": ""
             }
            },
            "type": "scatterternary"
           }
          ],
          "surface": [
           {
            "colorbar": {
             "outlinewidth": 0,
             "ticks": ""
            },
            "colorscale": [
             [
              0,
              "#0d0887"
             ],
             [
              0.1111111111111111,
              "#46039f"
             ],
             [
              0.2222222222222222,
              "#7201a8"
             ],
             [
              0.3333333333333333,
              "#9c179e"
             ],
             [
              0.4444444444444444,
              "#bd3786"
             ],
             [
              0.5555555555555556,
              "#d8576b"
             ],
             [
              0.6666666666666666,
              "#ed7953"
             ],
             [
              0.7777777777777778,
              "#fb9f3a"
             ],
             [
              0.8888888888888888,
              "#fdca26"
             ],
             [
              1,
              "#f0f921"
             ]
            ],
            "type": "surface"
           }
          ],
          "table": [
           {
            "cells": {
             "fill": {
              "color": "#EBF0F8"
             },
             "line": {
              "color": "white"
             }
            },
            "header": {
             "fill": {
              "color": "#C8D4E3"
             },
             "line": {
              "color": "white"
             }
            },
            "type": "table"
           }
          ]
         },
         "layout": {
          "annotationdefaults": {
           "arrowcolor": "#2a3f5f",
           "arrowhead": 0,
           "arrowwidth": 1
          },
          "autotypenumbers": "strict",
          "coloraxis": {
           "colorbar": {
            "outlinewidth": 0,
            "ticks": ""
           }
          },
          "colorscale": {
           "diverging": [
            [
             0,
             "#8e0152"
            ],
            [
             0.1,
             "#c51b7d"
            ],
            [
             0.2,
             "#de77ae"
            ],
            [
             0.3,
             "#f1b6da"
            ],
            [
             0.4,
             "#fde0ef"
            ],
            [
             0.5,
             "#f7f7f7"
            ],
            [
             0.6,
             "#e6f5d0"
            ],
            [
             0.7,
             "#b8e186"
            ],
            [
             0.8,
             "#7fbc41"
            ],
            [
             0.9,
             "#4d9221"
            ],
            [
             1,
             "#276419"
            ]
           ],
           "sequential": [
            [
             0,
             "#0d0887"
            ],
            [
             0.1111111111111111,
             "#46039f"
            ],
            [
             0.2222222222222222,
             "#7201a8"
            ],
            [
             0.3333333333333333,
             "#9c179e"
            ],
            [
             0.4444444444444444,
             "#bd3786"
            ],
            [
             0.5555555555555556,
             "#d8576b"
            ],
            [
             0.6666666666666666,
             "#ed7953"
            ],
            [
             0.7777777777777778,
             "#fb9f3a"
            ],
            [
             0.8888888888888888,
             "#fdca26"
            ],
            [
             1,
             "#f0f921"
            ]
           ],
           "sequentialminus": [
            [
             0,
             "#0d0887"
            ],
            [
             0.1111111111111111,
             "#46039f"
            ],
            [
             0.2222222222222222,
             "#7201a8"
            ],
            [
             0.3333333333333333,
             "#9c179e"
            ],
            [
             0.4444444444444444,
             "#bd3786"
            ],
            [
             0.5555555555555556,
             "#d8576b"
            ],
            [
             0.6666666666666666,
             "#ed7953"
            ],
            [
             0.7777777777777778,
             "#fb9f3a"
            ],
            [
             0.8888888888888888,
             "#fdca26"
            ],
            [
             1,
             "#f0f921"
            ]
           ]
          },
          "colorway": [
           "#636efa",
           "#EF553B",
           "#00cc96",
           "#ab63fa",
           "#FFA15A",
           "#19d3f3",
           "#FF6692",
           "#B6E880",
           "#FF97FF",
           "#FECB52"
          ],
          "font": {
           "color": "#2a3f5f"
          },
          "geo": {
           "bgcolor": "white",
           "lakecolor": "white",
           "landcolor": "#E5ECF6",
           "showlakes": true,
           "showland": true,
           "subunitcolor": "white"
          },
          "hoverlabel": {
           "align": "left"
          },
          "hovermode": "closest",
          "mapbox": {
           "style": "light"
          },
          "paper_bgcolor": "white",
          "plot_bgcolor": "#E5ECF6",
          "polar": {
           "angularaxis": {
            "gridcolor": "white",
            "linecolor": "white",
            "ticks": ""
           },
           "bgcolor": "#E5ECF6",
           "radialaxis": {
            "gridcolor": "white",
            "linecolor": "white",
            "ticks": ""
           }
          },
          "scene": {
           "xaxis": {
            "backgroundcolor": "#E5ECF6",
            "gridcolor": "white",
            "gridwidth": 2,
            "linecolor": "white",
            "showbackground": true,
            "ticks": "",
            "zerolinecolor": "white"
           },
           "yaxis": {
            "backgroundcolor": "#E5ECF6",
            "gridcolor": "white",
            "gridwidth": 2,
            "linecolor": "white",
            "showbackground": true,
            "ticks": "",
            "zerolinecolor": "white"
           },
           "zaxis": {
            "backgroundcolor": "#E5ECF6",
            "gridcolor": "white",
            "gridwidth": 2,
            "linecolor": "white",
            "showbackground": true,
            "ticks": "",
            "zerolinecolor": "white"
           }
          },
          "shapedefaults": {
           "line": {
            "color": "#2a3f5f"
           }
          },
          "ternary": {
           "aaxis": {
            "gridcolor": "white",
            "linecolor": "white",
            "ticks": ""
           },
           "baxis": {
            "gridcolor": "white",
            "linecolor": "white",
            "ticks": ""
           },
           "bgcolor": "#E5ECF6",
           "caxis": {
            "gridcolor": "white",
            "linecolor": "white",
            "ticks": ""
           }
          },
          "title": {
           "x": 0.05
          },
          "xaxis": {
           "automargin": true,
           "gridcolor": "white",
           "linecolor": "white",
           "ticks": "",
           "title": {
            "standoff": 15
           },
           "zerolinecolor": "white",
           "zerolinewidth": 2
          },
          "yaxis": {
           "automargin": true,
           "gridcolor": "white",
           "linecolor": "white",
           "ticks": "",
           "title": {
            "standoff": 15
           },
           "zerolinecolor": "white",
           "zerolinewidth": 2
          }
         }
        },
        "width": 700
       }
      }
     },
     "metadata": {},
     "output_type": "display_data"
    }
   ],
   "source": [
    "# Ploting a map with hexagons depicting the demand difference in the evening\n",
    "\n",
    "variable = \"trips_difference_evening\"\n",
    "\n",
    "fig = plot_frequency(\n",
    "    dataset=hexagons7_df,\n",
    "    variable=variable,\n",
    "    labels={variable: \"Demand Difference Evening in Res7\"},\n",
    "    range_color=(\n",
    "        -hexagons7_df[variable].quantile(0.9), \n",
    "        hexagons7_df[variable].quantile(0.9),\n",
    "    ),\n",
    ")\n",
    "fig.show()"
   ]
  },
  {
   "cell_type": "markdown",
   "id": "19f26a0f",
   "metadata": {},
   "source": [
    "A big difference is visible in comparison to the demand difference in the morning. In the evening (14pm-20pm) the demand difference is negative for most part in Chicago. This could be because people come back from work or activities that they did in the evening, like shopping or dining out. \n",
    "The two Airports in O'Hare and Clearing have more starting trips, as people come back from work trips or vacation on a later time. \n",
    "On a lot of the peripheral parts of Chicago again there is no much demand difference, likely because of lower urban denisty and less activity options.\n",
    "Here we can also see Elk Grove Village being prominent for the first time. This place has different kinds of outdoor activities and seems to be mostly visited during evening time. With its family-oriented activities, it's plausible that people choose to visit this area after school or work hours."
   ]
  },
  {
   "cell_type": "markdown",
   "id": "5e3d1e27",
   "metadata": {},
   "source": [
    "# Hex8"
   ]
  },
  {
   "cell_type": "markdown",
   "id": "13651217",
   "metadata": {},
   "source": [
    "Next, we will look at resolution 8 to capture finer geographic details."
   ]
  },
  {
   "cell_type": "code",
   "execution_count": null,
   "id": "0fe4b0bb",
   "metadata": {},
   "outputs": [],
   "source": [
    "variable = \"starting_trips_08\"\n",
    "\n",
    "fig = plot_frequency(\n",
    "    dataset=hexagons8_df,\n",
    "    variable=variable,\n",
    "    labels={variable: \"Starting Trips in Res8\"},\n",
    "    range_color=(0, hexagons8_df[variable].quantile(0.9)),\n",
    "    palette=\"reds\"\n",
    ")\n",
    "\n",
    "fig.show()"
   ]
  },
  {
   "cell_type": "markdown",
   "id": "4b275763",
   "metadata": {},
   "source": [
    "Overall the Resolution 8 H3 map is very similar to the Resolution 7 map. The primary distinction lies in a few more differentiating features within the city center and the northern region. Notably, the area around Hyde Park has gained more visual prominence. "
   ]
  },
  {
   "cell_type": "code",
   "execution_count": null,
   "id": "7fe186e0",
   "metadata": {},
   "outputs": [],
   "source": [
    "variable = \"ending_trips_08\"\n",
    "\n",
    "fig = plot_frequency(\n",
    "    dataset=hexagons8_df,\n",
    "    variable=variable,\n",
    "    labels={variable: \"Ending Trips in Res8\"},\n",
    "    range_color=(0, hexagons8_df[variable].quantile(0.9)),\n",
    "    palette=\"reds\"\n",
    ")\n",
    "\n",
    "fig.show()"
   ]
  },
  {
   "cell_type": "markdown",
   "id": "107515ab",
   "metadata": {},
   "source": [
    "Once again, a similar pattern emerges as in Resolution 7. We observe increased dynamics within the city center and the northern regions, including areas like Lincoln Park and Uptown. Hyde Park also gains enhanced visibility in this resolution."
   ]
  },
  {
   "cell_type": "code",
   "execution_count": null,
   "id": "06746f28",
   "metadata": {},
   "outputs": [],
   "source": [
    "hexagons8_df[\"demand_difference_08\"] = hexagons8_df[\"starting_trips_08\"] - hexagons8_df[\"ending_trips_08\"]\n",
    "hexagons8_df.head(3)"
   ]
  },
  {
   "cell_type": "code",
   "execution_count": null,
   "id": "93381601",
   "metadata": {},
   "outputs": [],
   "source": [
    "# Ploting a map with hexagons depicting the difference in demand considering starting and ending trips\n",
    "\n",
    "variable = \"demand_difference_08\"\n",
    "\n",
    "fig = plot_frequency(\n",
    "    dataset=hexagons8_df,\n",
    "    variable=variable,\n",
    "    labels={variable: \"Demand difference Res8\"},\n",
    "    range_color=(\n",
    "        -hexagons8_df[variable].quantile(0.95),\n",
    "        hexagons8_df[variable].quantile(0.95),\n",
    "    ),\n",
    ")\n",
    "fig.show()"
   ]
  },
  {
   "cell_type": "markdown",
   "id": "55ec638c",
   "metadata": {},
   "source": [
    "Contrary to Resolution 7, we notice in Resolution 8 that the peripheral areas exhibit lower demand differences. This aligns with the earlier observations in Resolution 8 and 7, indicating a general scarcity of both starting and ending trips in these outer regions. One explanation for this pattern, besides the lower population density, could be the increased availability of public transport in these areas, particularly in the South. This option may be favored due to its cost-effectiveness compared to taking a taxi to the city center."
   ]
  },
  {
   "cell_type": "markdown",
   "id": "34741517",
   "metadata": {},
   "source": [
    "### During morning and evening rush hour"
   ]
  },
  {
   "cell_type": "code",
   "execution_count": null,
   "id": "a6d7c459",
   "metadata": {},
   "outputs": [],
   "source": [
    "# Ploting a map with hexagons depicting the demand difference in the morning\n",
    "\n",
    "variable = \"trips_difference_morning\"\n",
    "\n",
    "fig = plot_frequency(\n",
    "    dataset=hexagons8_df,\n",
    "    variable=variable,\n",
    "    labels={variable: \"Demand Difference Morning Res8\"},\n",
    "    range_color=(\n",
    "        -hexagons8_df[variable].quantile(0.9),\n",
    "        hexagons8_df[variable].quantile(0.9),\n",
    "    ),\n",
    ")\n",
    "fig.show()"
   ]
  },
  {
   "cell_type": "markdown",
   "id": "e407ed01",
   "metadata": {},
   "source": [
    "Interestingly, this resolution provides more detailed insights into the distribution of starting and ending trips in Chicago, particularly within the city center, as well as around Lincoln Park and Lake View."
   ]
  },
  {
   "cell_type": "code",
   "execution_count": null,
   "id": "41e0246c",
   "metadata": {},
   "outputs": [],
   "source": [
    "# Ploting a map with hexagons depicting the demand difference in the evening\n",
    "\n",
    "variable = \"trips_difference_evening\"\n",
    "\n",
    "fig = plot_frequency(\n",
    "    dataset=hexagons8_df,\n",
    "    variable=variable,\n",
    "    labels={variable: \"Demand Difference Evening Res8\"},\n",
    "    range_color=(\n",
    "        -hexagons8_df[variable].quantile(0.95),\n",
    "        hexagons8_df[variable].quantile(0.95),\n",
    "    ),\n",
    ")\n",
    "fig.show()"
   ]
  },
  {
   "cell_type": "markdown",
   "id": "78189e0c",
   "metadata": {},
   "source": [
    "Once again, this map exhibits a resemblance to Resolution 7, but it offers a clearer distinction of areas with higher starting trips within the broader red-colored regions, indicating locations where Taxi trips end more frequently than they start.\n",
    "\n",
    "Overall, we can observe patterns within Chicago that remain uncolored on the map, due to the increased level of detail provided by a higher hexagon resolution. This aspect already offers insights into locations with no Taxi trips, and we expect this distinction to be even more refined with Resolution 9."
   ]
  },
  {
   "cell_type": "markdown",
   "id": "2d305832",
   "metadata": {},
   "source": [
    "# Hex9"
   ]
  },
  {
   "cell_type": "markdown",
   "id": "6f58e382",
   "metadata": {},
   "source": [
    "Finally, we will look at Resolution 9 to analyze taxi demand in more detail. Since these maps are just a more detailed version of the other two Resolutions, showing more exact locations due to smaller hexagon sizes where certain hexagons are not drawn anymore, we will only comment on the maps where a bigger difference is visible."
   ]
  },
  {
   "cell_type": "code",
   "execution_count": null,
   "id": "6952a84c",
   "metadata": {},
   "outputs": [],
   "source": [
    "variable = \"starting_trips_09\"\n",
    "\n",
    "fig = plot_frequency(\n",
    "    dataset=hexagons9_df,\n",
    "    variable=variable,\n",
    "    labels={variable: \"Starting Trips in Res9\"},\n",
    "    range_color=(0, hexagons9_df[variable].quantile(0.9)),\n",
    "    palette=\"reds\"\n",
    ")\n",
    "\n",
    "fig.show()"
   ]
  },
  {
   "cell_type": "code",
   "execution_count": null,
   "id": "0cb58671",
   "metadata": {},
   "outputs": [],
   "source": [
    "variable = \"ending_trips_09\"\n",
    "\n",
    "fig = plot_frequency(\n",
    "    dataset=hexagons9_df,\n",
    "    variable=variable,\n",
    "    labels={variable: \"Ending Trips in Res9\"},\n",
    "    range_color=(0, hexagons9_df[variable].quantile(0.9)),\n",
    "    palette=\"reds\"\n",
    ")\n",
    "\n",
    "fig.show()"
   ]
  },
  {
   "cell_type": "code",
   "execution_count": null,
   "id": "3f0216a4",
   "metadata": {},
   "outputs": [],
   "source": [
    "hexagons9_df[\"demand_difference_09\"] = hexagons9_df[\"starting_trips_09\"] - hexagons9_df[\"ending_trips_09\"]\n",
    "hexagons9_df.head(3)"
   ]
  },
  {
   "cell_type": "code",
   "execution_count": null,
   "id": "c98e08bd",
   "metadata": {},
   "outputs": [],
   "source": [
    "# Ploting a map with hexagons depicting the difference in demand considering starting and ending trips\n",
    "\n",
    "variable = \"demand_difference_09\"\n",
    "\n",
    "fig = plot_frequency(\n",
    "    dataset=hexagons9_df,\n",
    "    variable=variable,\n",
    "    labels={variable: \"Demand difference Res9\"},\n",
    "    range_color=(\n",
    "        -hexagons9_df[variable].quantile(0.95),\n",
    "        hexagons9_df[variable].quantile(0.95),\n",
    "    ),\n",
    ")\n",
    "fig.show()"
   ]
  },
  {
   "cell_type": "markdown",
   "id": "a5f0463e",
   "metadata": {},
   "source": [
    "### During morning and evening rush hour"
   ]
  },
  {
   "cell_type": "code",
   "execution_count": null,
   "id": "b49d880a",
   "metadata": {},
   "outputs": [],
   "source": [
    "# Ploting a map with hexagons depicting the demand difference in the morning\n",
    "\n",
    "variable = \"trips_difference_morning\"\n",
    "\n",
    "fig = plot_frequency(\n",
    "    dataset=hexagons9_df,\n",
    "    variable=variable,\n",
    "    labels={variable: \"Demand Difference Morning Res9\"},\n",
    "    range_color=(\n",
    "        -hexagons9_df[variable].quantile(0.9),\n",
    "        hexagons9_df[variable].quantile(0.9),\n",
    "    ),\n",
    ")\n",
    "fig.show()"
   ]
  },
  {
   "cell_type": "code",
   "execution_count": null,
   "id": "6b29abb7",
   "metadata": {},
   "outputs": [],
   "source": [
    "# Ploting a map with hexagons depicting the demand difference in the evening\n",
    "\n",
    "variable = \"trips_difference_evening\"\n",
    "\n",
    "fig = plot_frequency(\n",
    "    dataset=hexagons9_df,\n",
    "    variable=variable,\n",
    "    labels={variable: \"Demand Difference Evening Res9\"},\n",
    "    range_color=(\n",
    "        -hexagons9_df[variable].quantile(0.95),\n",
    "        hexagons9_df[variable].quantile(0.95),\n",
    "    ),\n",
    ")\n",
    "fig.show()"
   ]
  },
  {
   "cell_type": "code",
   "execution_count": null,
   "id": "34e812c7",
   "metadata": {},
   "outputs": [],
   "source": [
    "hexagons9_df['geometry'] = hexagons9_df['geometry'].apply(lambda geom: geom.wkt) \n",
    "hexagons9_df.to_parquet('hexagons9_df.parquet', index=False)"
   ]
  },
  {
   "cell_type": "markdown",
   "id": "dc970627",
   "metadata": {},
   "source": [
    "Given the absence of comments on any of the H3 Resolution 9 maps, it can be conlcuded that Resolution 9 just captures more precise locations. On the other hand, Resolutions 7 and 8 seem to have effectively captured the broader essential patterns and insights."
   ]
  },
  {
   "cell_type": "markdown",
   "id": "0a03e8e5",
   "metadata": {},
   "source": [
    "# Average idle time between trips"
   ]
  },
  {
   "cell_type": "markdown",
   "id": "7cb65db6",
   "metadata": {},
   "source": [
    "When considering Taxis in Chicago, studying idle time is crucial because it unveils moments when taxis are not in active service, waiting for passengers. Analyzing idle time patterns can offer valuable information about taxi supply and demand dynamics, helping to identify areas or times of low passenger activity. This insight can guide Taxi operators in making informed decisions to strategically position taxis, minimize empty driving, and optimize earnings for both drivers and the overall Taxi system."
   ]
  },
  {
   "cell_type": "code",
   "execution_count": null,
   "id": "52647e5f",
   "metadata": {},
   "outputs": [],
   "source": [
    "# Method for visualizing average idle time in a hex map\n",
    "def plot_trips_net_monthly(h3_res: int, time_interval_length: int):\n",
    "\ttrips_monthly_net = get_trips_net_monthly(h3_res, time_interval_length)\n",
    "\n",
    "\ttrips_monthly_net['month'] = trips_monthly_net['datetime'].dt.month\n",
    "\ttrips_monthly_net = trips_monthly_net.sort_values(by=['month'])\n",
    "\n",
    "\th3_visualization.plot_choropleth(\n",
    "\t\ttrips_monthly_net,\n",
    "\t\thex_col=\"hex_id\",\n",
    "\t\tcolor_by_col=\"demand\",\n",
    "\t\tcenter=lat_lon_leipzig,\n",
    "\t\tcolor_continuous_scale=\"RdBu\",\n",
    "\t\trange_color=(\n",
    "\t\t\t-50,\n",
    "\t\t\t50\n",
    "\t\t),\n",
    "\t\tanimation_frame=\"month\",\n",
    "\t\topacity=0.7,\n",
    "\t\tzoom=10,\n",
    "\t\tlabels={'demand': 'inflow - outflow'},\n",
    "\t\tmapbox_style=\"open-street-map\",\n",
    "\t)"
   ]
  },
  {
   "cell_type": "code",
   "execution_count": null,
   "id": "4ac60760",
   "metadata": {},
   "outputs": [],
   "source": [
    "# Shift trips, so the idle time of a taxi can be calculated later on\n",
    "trips_shifted = trips_df.groupby(\"taxi_id\").shift(1).dropna(subset=[\"trip_start_timestamp\"])\n",
    "trips_with_next = trips_df.merge(\n",
    "    trips_shifted, left_index=True, right_index=True, how=\"inner\", suffixes=(\"\", \"_next\")\n",
    ")\n",
    "trips_with_next['taxi_id'] = trips_df['taxi_id']"
   ]
  },
  {
   "cell_type": "code",
   "execution_count": null,
   "id": "9b1f4fcc",
   "metadata": {},
   "outputs": [],
   "source": [
    "# Calculating idle time\n",
    "trips_with_next['idle_time'] = (\n",
    "    trips_with_next.trip_end_timestamp - trips_with_next.trip_start_timestamp_next\n",
    ")"
   ]
  },
  {
   "cell_type": "code",
   "execution_count": null,
   "id": "d232a916",
   "metadata": {},
   "outputs": [],
   "source": [
    "trips_with_next.idle_time.describe()"
   ]
  },
  {
   "cell_type": "code",
   "execution_count": null,
   "id": "6218e15b",
   "metadata": {},
   "outputs": [],
   "source": [
    "trips_with_next['timeinterval'] = (\n",
    "    trips_with_next.trip_start_timestamp.dt.floor('1D')\n",
    ")"
   ]
  },
  {
   "cell_type": "code",
   "execution_count": null,
   "id": "3b93a26f",
   "metadata": {},
   "outputs": [],
   "source": [
    "fig, ax = plt.subplots(figsize=(12, 6))\n",
    "\n",
    "ax.plot(\n",
    "    trips_with_next.groupby(\"timeinterval\").idle_time.median().dt.total_seconds()\n",
    "    / 60\n",
    "    / 60,\n",
    ")\n",
    "ax.set_xlabel(\"Time interval\")\n",
    "ax.set_ylabel(\"Median idle time (hours)\")\n",
    "ax.set_tile(\"Median idle time in hours over a one year time span\")\n",
    "\n",
    "plt.show()"
   ]
  },
  {
   "cell_type": "markdown",
   "id": "c623d8e0",
   "metadata": {},
   "source": [
    "With a linear plot we show the median idle time in hours for the one year period. The median idle time is overall very similar. We can see a bigger idle time around December, which could be attributed to holiday-related changes in travel demand. In our **Temporal Demand Pattern Notebook** we also observed that there are less Taxi usages in December. Additionally other short peaks during End of June to November can be seen, possibly due to seasonal events or factors influencing travel behavior, and one around January, likely related to weather conditions. For these month we also observed less Taxi usage.\n",
    "Around January to March smaller idle times can be seen, this phenomenon can be attributed to the colder weather prevalent in Chicago during this period. Around June a smaller idle time can also be observed. Conversely, in June, a reduction in idle time is discernible. This trend can be attributed to the onset of warmer weather, likely leading to more outdoor activities and higher demand for transportation services, thus reducing taxi idle times during this period."
   ]
  },
  {
   "cell_type": "code",
   "execution_count": null,
   "id": "d58a2d1e",
   "metadata": {},
   "outputs": [],
   "source": [
    "trips_with_next.head(3)"
   ]
  },
  {
   "cell_type": "code",
   "execution_count": null,
   "id": "37217e84",
   "metadata": {},
   "outputs": [],
   "source": [
    "trips_with_next['month'] = trips_with_next.trip_start_timestamp.dt.month"
   ]
  },
  {
   "cell_type": "code",
   "execution_count": null,
   "id": "06cfc014",
   "metadata": {},
   "outputs": [],
   "source": [
    "# Hex7\n",
    "idle_by_hex7_time_median = trips_with_next.groupby([\"h3_07_pickup_next\", \"month\"])[\n",
    "    \"idle_time\"\n",
    "].median().rename(\"idle_time_median\")\n",
    "idle_by_hex7_time_mean = trips_with_next.groupby([\"h3_07_pickup_next\", \"month\"])[\n",
    "    \"idle_time\"\n",
    "].mean().rename(\"idle_time_mean\")\n",
    "\n",
    "idle_by_hex7_time = pd.concat(\n",
    "\t[idle_by_hex7_time_median, idle_by_hex7_time_mean], axis=1\n",
    ").reset_index()\n",
    "\n",
    "# Hex9\n",
    "idle_by_hex9_time_median = trips_with_next.groupby([\"h3_09_pickup_next\", \"month\"])[\n",
    "    \"idle_time\"\n",
    "].median().rename(\"idle_time_median\")\n",
    "idle_by_hex9_time_mean = trips_with_next.groupby([\"h3_09_pickup_next\", \"month\"])[\n",
    "    \"idle_time\"\n",
    "].mean().rename(\"idle_time_mean\")\n",
    "\n",
    "idle_by_hex9_time = pd.concat(\n",
    "\t[idle_by_hex9_time_median, idle_by_hex9_time_mean], axis=1\n",
    ").reset_index()"
   ]
  },
  {
   "cell_type": "code",
   "execution_count": null,
   "id": "e9cfe590",
   "metadata": {},
   "outputs": [],
   "source": [
    "# Hex7\n",
    "idle_by_hex7_time[\"idle_time_median_days\"] = (\n",
    "    idle_by_hex7_time[\"idle_time_median\"].dt.total_seconds() / 60 / 60 / 24\n",
    ")\n",
    "idle_by_hex7_time[\"idle_time_mean_days\"] = (\n",
    "    idle_by_hex7_time[\"idle_time_mean\"].dt.total_seconds() / 60 / 60 / 24\n",
    ")\n",
    "\n",
    "# Hex9\n",
    "idle_by_hex9_time[\"idle_time_median_days\"] = (\n",
    "    idle_by_hex9_time[\"idle_time_median\"].dt.total_seconds() / 60 / 60 / 24\n",
    ")\n",
    "idle_by_hex9_time[\"idle_time_mean_days\"] = (\n",
    "    idle_by_hex9_time[\"idle_time_mean\"].dt.total_seconds() / 60 / 60 / 24\n",
    ")"
   ]
  },
  {
   "cell_type": "code",
   "execution_count": null,
   "id": "4f7e3083",
   "metadata": {},
   "outputs": [],
   "source": [
    "idle_by_hex7 = idle_by_hex7_time.groupby(\"h3_07_pickup_next\").mean().reset_index()\n",
    "\n",
    "# Hex9\n",
    "idle_by_hex9 = idle_by_hex9_time.groupby(\"h3_09_pickup_next\").mean().reset_index()"
   ]
  },
  {
   "cell_type": "code",
   "execution_count": null,
   "id": "52cd703e",
   "metadata": {},
   "outputs": [],
   "source": [
    "# Hex7\n",
    "idle_by_hex7.rename(columns={\"h3_07_pickup_next\":\"hex\"}, inplace=True)\n",
    "idle_by_hex7_time.rename(columns={\"h3_07_pickup_next\":\"hex\"}, inplace=True)\n",
    "\n",
    "# Hex9\n",
    "idle_by_hex9.rename(columns={\"h3_09_pickup_next\":\"hex\"}, inplace=True)\n",
    "idle_by_hex9_time.rename(columns={\"h3_09_pickup_next\":\"hex\"}, inplace=True)"
   ]
  },
  {
   "cell_type": "code",
   "execution_count": null,
   "id": "992b482b",
   "metadata": {},
   "outputs": [],
   "source": [
    "import math\n",
    "# Hex7\n",
    "idle_by_hex7['month'] = idle_by_hex7['month'].astype(int)\n",
    "\n",
    "idle_by_hex7.head(3)\n",
    "\n",
    "# Hex9\n",
    "idle_by_hex9['month'] = idle_by_hex9['month'].astype(int)\n",
    "\n",
    "idle_by_hex9.head(3)"
   ]
  },
  {
   "cell_type": "code",
   "execution_count": null,
   "id": "f5f4cb97",
   "metadata": {},
   "outputs": [],
   "source": [
    "# Hex7\n",
    "idle_by_hex7['geometry'] = (idle_by_hex7.apply(add_geometry,axis=1)) \n",
    "idle_by_hex7_time['geometry'] = (idle_by_hex7.apply(add_geometry,axis=1)) \n",
    "\n",
    "# Hex9\n",
    "idle_by_hex9['geometry'] = (idle_by_hex9.apply(add_geometry,axis=1)) \n",
    "idle_by_hex9_time['geometry'] = (idle_by_hex9.apply(add_geometry,axis=1)) "
   ]
  },
  {
   "cell_type": "code",
   "execution_count": null,
   "id": "400c6834",
   "metadata": {},
   "outputs": [],
   "source": [
    "# Hex7\n",
    "idle_by_hex7_time['geometry'].isna().sum()\n",
    "idle_by_hex7_time = idle_by_hex7_time.dropna(axis=0)\n",
    "idle_by_hex7_time.head(3)\n",
    "\n",
    "# Hex9\n",
    "idle_by_hex9_time['geometry'].isna().sum()\n",
    "idle_by_hex9_time = idle_by_hex9_time.dropna(axis=0)\n",
    "idle_by_hex9_time.head(3)"
   ]
  },
  {
   "cell_type": "markdown",
   "id": "094c159a",
   "metadata": {},
   "source": [
    "As there is little difference from Resolution 7 to 8, we will just visualize Reolution 7 and 9."
   ]
  },
  {
   "cell_type": "code",
   "execution_count": null,
   "id": "f04bf2a9",
   "metadata": {},
   "outputs": [],
   "source": [
    "idle_by_hex7 = idle_by_hex7.sort_values('month')\n",
    "\n",
    "variable = \"idle_time_median_days\"\n",
    "\n",
    "fig = plot_frequency(\n",
    "    dataset=idle_by_hex7,\n",
    "    variable=variable,\n",
    "    labels={variable: \"Idle Time in Res7\"},\n",
    "    range_color=(0, idle_by_hex7[variable].quantile(0.9)),\n",
    "    palette=\"reds\",\n",
    "\n",
    ")\n",
    "\n",
    "fig.show()"
   ]
  },
  {
   "cell_type": "markdown",
   "id": "5cf2a6c4",
   "metadata": {},
   "source": [
    "It can be observed that there is a higher idle time around peripheral areas in Chicago, possibly due to the patterns we have seen in the previous analysis, namely lower number of starting and ending trips, indicating a lower taxi demand in these regions. Possible reasons that we mentioned were due to alternative transportation options, longer distances resulting in higher fares, and lower resident population."
   ]
  },
  {
   "cell_type": "code",
   "execution_count": null,
   "id": "24d25fab",
   "metadata": {},
   "outputs": [],
   "source": [
    "idle_by_hex9 = idle_by_hex9.sort_values('month')\n",
    "\n",
    "variable = \"idle_time_median_days\"\n",
    "\n",
    "fig = plot_frequency(\n",
    "    dataset=idle_by_hex9,\n",
    "    variable=variable,\n",
    "    labels={variable: \"Idle Time in Res9\"},\n",
    "    range_color=(0, idle_by_hex9[variable].quantile(0.9)),\n",
    "    palette=\"reds\",\n",
    "\n",
    ")\n",
    "\n",
    "fig.show()"
   ]
  },
  {
   "cell_type": "markdown",
   "id": "dc4a42d9",
   "metadata": {},
   "source": [
    "Finally, with a Resolution of 9, we can see in more detail in which locations the idle time is higher or lower. This again is already well captured in Resolution 7, as both are similar. "
   ]
  }
 ],
 "metadata": {
  "kernelspec": {
   "display_name": "Python 3 (ipykernel)",
   "language": "python",
   "name": "python3"
  },
  "language_info": {
   "codemirror_mode": {
    "name": "ipython",
    "version": 3
   },
   "file_extension": ".py",
   "mimetype": "text/x-python",
   "name": "python",
   "nbconvert_exporter": "python",
   "pygments_lexer": "ipython3",
   "version": "3.10.9"
  }
 },
 "nbformat": 4,
 "nbformat_minor": 5
}
