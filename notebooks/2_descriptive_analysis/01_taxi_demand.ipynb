{
 "cells": [
  {
   "cell_type": "code",
   "execution_count": null,
   "id": "4264d7c5",
   "metadata": {},
   "outputs": [],
   "source": [
    "import numpy as np\n",
    "import pandas as pd\n",
    "import matplotlib.pyplot as plt\n",
    "import seaborn as sns\n",
    "import folium\n",
    "from folium import plugins\n",
    "from folium.plugins import HeatMap\n",
    "import h3\n",
    "from shapely.geometry import Polygon\n",
    "import geopandas\n",
    "from geojson import Feature, Point, FeatureCollection, Polygon\n",
    "from shapely.geometry import Polygon\n",
    "import plotly.express as px"
   ]
  },
  {
   "cell_type": "code",
   "execution_count": null,
   "id": "2897455f",
   "metadata": {},
   "outputs": [],
   "source": [
    "trips_df = pd.read_parquet('../../data/rides/Taxi_Trips_Sampled_Cleaned.parquet')"
   ]
  },
  {
   "cell_type": "code",
   "execution_count": null,
   "id": "9bf25fb7",
   "metadata": {},
   "outputs": [],
   "source": [
    "trips_df.info()"
   ]
  },
  {
   "cell_type": "code",
   "execution_count": null,
   "id": "850bbeda",
   "metadata": {},
   "outputs": [],
   "source": [
    "trips_df.head()"
   ]
  },
  {
   "cell_type": "code",
   "execution_count": null,
   "id": "f092e3b4",
   "metadata": {},
   "outputs": [],
   "source": [
    "trips_df.describe()"
   ]
  },
  {
   "cell_type": "code",
   "execution_count": null,
   "id": "1c56ae79",
   "metadata": {},
   "outputs": [],
   "source": [
    "trips_df.columns"
   ]
  },
  {
   "cell_type": "code",
   "execution_count": null,
   "id": "1c828242",
   "metadata": {},
   "outputs": [],
   "source": [
    "trips_df.rename(columns={\"Pickup Centroid\": \"pickup_centroid\", \"Dropoff Centroid\": \"dropoff_centroid\", \"Pickup Census Tract\": \"pickup_census_tract\", \"Dropoff Census Tract\": \"dropoff_census_tract\"}, inplace=True)"
   ]
  },
  {
   "cell_type": "code",
   "execution_count": null,
   "id": "4e2cb678",
   "metadata": {},
   "outputs": [],
   "source": [
    "from shapely import wkt"
   ]
  },
  {
   "cell_type": "code",
   "execution_count": null,
   "id": "68a281b9",
   "metadata": {},
   "outputs": [],
   "source": [
    "trips_df[\"pickup_centroid\"] = geopandas.GeoSeries.from_wkt(trips_df[\"pickup_centroid\"])"
   ]
  },
  {
   "cell_type": "code",
   "execution_count": null,
   "id": "9c6e6be5",
   "metadata": {},
   "outputs": [],
   "source": [
    "#geo_df_test = geopandas.GeoDataFrame(trips_df)\n",
    "#geo_df_test"
   ]
  },
  {
   "cell_type": "code",
   "execution_count": null,
   "id": "00a38b94",
   "metadata": {},
   "outputs": [],
   "source": [
    "trips_df.set_geometry('pickup_centroid')"
   ]
  },
  {
   "cell_type": "code",
   "execution_count": null,
   "id": "90696f94",
   "metadata": {},
   "outputs": [],
   "source": [
    "# https://geopandas.org/en/stable/gallery/plotting_with_folium.html \n",
    "geo_df_list = [[point.xy[1][0], point.xy[0][0]] for point in trips_df.pickup_centroid]\n"
   ]
  },
  {
   "cell_type": "code",
   "execution_count": null,
   "id": "3c87262d",
   "metadata": {},
   "outputs": [],
   "source": [
    "geo_df_pickup = geopandas.GeoDataFrame(geo_df_list, trips_df[\"pickup_census_tract\"])\n",
    "geo_df_pickup"
   ]
  },
  {
   "cell_type": "code",
   "execution_count": null,
   "id": "0a5b295e",
   "metadata": {},
   "outputs": [],
   "source": [
    "#geo_df_pickup = geo_df_pickup.reset_index()\n",
    "\n",
    "#geo_df_pickup.rename(columns={0: \"lat\", 1: \"lon\"}, inplace=True)\n",
    "geo_df_pickup = geo_df_pickup.reset_index()\n",
    "geo_df_pickup"
   ]
  },
  {
   "cell_type": "markdown",
   "id": "2e0261b3",
   "metadata": {},
   "source": [
    "# Heatmap - Taxi demand"
   ]
  },
  {
   "cell_type": "code",
   "execution_count": null,
   "id": "2721f184",
   "metadata": {},
   "outputs": [],
   "source": [
    "# Ploting heatmap that shows the stations and the frequency of trips starting there\n",
    "\n",
    "trips_heatmap = folium.Map(\n",
    "    location=(41.881832, -87.623177), # the orig mean values as location coordinates from https://www.latlong.net/place/chicago-il-usa-1855.html\n",
    "    zoom_start=13,\n",
    "    control_scale=True,\n",
    "    max_zoom=20,\n",
    ")\n",
    "\n",
    "trips_heatmap.add_child(plugins.HeatMap(geo_df_list, radius=30))\n",
    "\n",
    "#for _, row in geo_df_list.iterrows():\n",
    "#    folium.CircleMarker(\n",
    "#        radius=5,\n",
    "#        location=[row[\"lat\"], row[\"lon\"]],\n",
    "#        popup= row[\"name\"],\n",
    "#        color=\"crimson\",\n",
    "#        fill_color=\"crimson\",\n",
    "#    ).add_to(trips_heatmap)\n",
    "    \n",
    " \n",
    "\n",
    "for _,row in geo_df_pickup.iterrows():\n",
    "    folium.CircleMarker(\n",
    "        radius=5,\n",
    "        location=[row[0], row[1]],\n",
    "        popup= row[\"pickup_census_tract\"],\n",
    "        color=\"crimson\",\n",
    "        fill_color=\"crimson\",\n",
    "    ).add_to(trips_heatmap)\n",
    "    \n",
    "    \n",
    "trips_heatmap"
   ]
  },
  {
   "cell_type": "markdown",
   "id": "279b31ad",
   "metadata": {},
   "source": [
    "Census tract 17031839100.0 has the most pick up's -> Pick up hotspot"
   ]
  },
  {
   "cell_type": "code",
   "execution_count": null,
   "id": "8cc66f72",
   "metadata": {},
   "outputs": [],
   "source": [
    "trips_df[\"dropoff_centroid\"] = geopandas.GeoSeries.from_wkt(trips_df[\"dropoff_centroid\"])"
   ]
  },
  {
   "cell_type": "code",
   "execution_count": null,
   "id": "5275b1ef",
   "metadata": {},
   "outputs": [],
   "source": [
    "trips_df.set_geometry('dropoff_centroid')"
   ]
  },
  {
   "cell_type": "code",
   "execution_count": null,
   "id": "e141ccae",
   "metadata": {},
   "outputs": [],
   "source": [
    "geo_df_list_dropoff = [[point.xy[1][0], point.xy[0][0]] for point in trips_df.dropoff_centroid]"
   ]
  },
  {
   "cell_type": "code",
   "execution_count": null,
   "id": "89d780fb",
   "metadata": {},
   "outputs": [],
   "source": [
    "geo_df_dropoff = geopandas.GeoDataFrame(geo_df_list_dropoff, trips_df[\"dropoff_census_tract\"])"
   ]
  },
  {
   "cell_type": "code",
   "execution_count": null,
   "id": "b5192c28",
   "metadata": {},
   "outputs": [],
   "source": [
    "geo_df_dropoff = geo_df_dropoff.reset_index()\n",
    "geo_df_dropoff"
   ]
  },
  {
   "cell_type": "code",
   "execution_count": null,
   "id": "3e04b574",
   "metadata": {
    "scrolled": true
   },
   "outputs": [],
   "source": [
    "trips_heatmap = folium.Map(\n",
    "    location=(41.881832, -87.623177), # the orig mean values as location coordinates from https://www.latlong.net/place/chicago-il-usa-1855.html\n",
    "    zoom_start=13,\n",
    "    control_scale=True,\n",
    "    max_zoom=20,\n",
    ")\n",
    "\n",
    "trips_heatmap.add_child(plugins.HeatMap(geo_df_list_dropoff, radius=30))\n",
    "\n",
    "for _,row in geo_df_dropoff.iterrows():\n",
    "    folium.CircleMarker(\n",
    "        radius=5,\n",
    "        location=[row[0], row[1]],\n",
    "        popup= row[\"dropoff_census_tract\"],\n",
    "        color=\"crimson\",\n",
    "        fill_color=\"crimson\",\n",
    "    ).add_to(trips_heatmap)\n",
    "    \n",
    "    \n",
    "trips_heatmap"
   ]
  },
  {
   "cell_type": "markdown",
   "id": "6cf07d62",
   "metadata": {},
   "source": [
    "Dropoff census 17031839100.0 is hotspot, just like the pickups"
   ]
  },
  {
   "cell_type": "markdown",
   "id": "9a226cfb",
   "metadata": {},
   "source": [
    "# Incoming and outgoing trips"
   ]
  },
  {
   "cell_type": "code",
   "execution_count": null,
   "id": "022bd50b",
   "metadata": {},
   "outputs": [],
   "source": [
    "# Creating a dataframe that contains all hexagons where at least one trip started or ended\n",
    "\n",
    "hexagons7_df = pd.DataFrame()\n",
    "hexagons8_df = pd.DataFrame()\n",
    "hexagons9_df = pd.DataFrame()\n",
    "\n",
    "hexagons7_df[\"hex\"] = pd.concat([trips_df[\"h3_07_Pickup\"], trips_df[\"h3_07_Dropoff\"]]).unique()\n",
    "hexagons8_df[\"hex\"] = pd.concat([trips_df[\"h3_08_Pickup\"], trips_df[\"h3_08_Dropoff\"]]).unique()\n",
    "hexagons9_df[\"hex\"] = pd.concat([trips_df[\"h3_09_Pickup\"], trips_df[\"h3_09_Dropoff\"]]).unique()\n",
    "hexagons7_df.head(3)\n",
    "hexagons8_df.head(3)\n",
    "hexagons9_df.head(3)"
   ]
  },
  {
   "cell_type": "code",
   "execution_count": null,
   "id": "a2f0d624",
   "metadata": {},
   "outputs": [],
   "source": [
    "# Defining a funtion that generates heaxagon geometry for each hexagon\n",
    "# taken from https://medium.com/analytics-vidhya/how-to-create-a-choropleth-map-using-uber-h3-plotly-python-458f51593548\n",
    "\n",
    "def add_geometry(row):\n",
    "  points = h3.h3_to_geo_boundary(row['hex'], True)\n",
    "  return Polygon(points)"
   ]
  },
  {
   "cell_type": "code",
   "execution_count": null,
   "id": "8377011b",
   "metadata": {},
   "outputs": [],
   "source": [
    "#Applying function to our hexagons dataframe\n",
    "\n",
    "hexagons7_df['geometry'] = (hexagons7_df\n",
    "                                .apply(add_geometry,axis=1)) \n",
    "\n",
    "hexagons8_df['geometry'] = (hexagons8_df\n",
    "                                .apply(add_geometry,axis=1)) \n",
    "\n",
    "hexagons9_df['geometry'] = (hexagons9_df\n",
    "                                .apply(add_geometry,axis=1)) \n",
    "\n",
    "\n",
    "hexagons7_df.head(3)\n"
   ]
  },
  {
   "cell_type": "code",
   "execution_count": null,
   "id": "2c203e12",
   "metadata": {},
   "outputs": [],
   "source": [
    "# Defining a functions that will count trips for a given groupby value\n",
    "\n",
    "def calculate_hexagon_trips(hexagons_df, label, group_by):\n",
    "    hexagons_df[label] = trips_df.groupby(group_by).size()\n",
    "    hexagons_df[label] = hexagons_df[label].fillna(value=0)"
   ]
  },
  {
   "cell_type": "code",
   "execution_count": null,
   "id": "1ea1d285",
   "metadata": {},
   "outputs": [],
   "source": [
    "# Calculate starting and ending trips for each hexagon\n",
    "\n",
    "hexagons7_df = hexagons7_df.set_index('hex')\n",
    "hexagons8_df = hexagons8_df.set_index('hex')\n",
    "hexagons9_df = hexagons9_df.set_index('hex')\n",
    "\n",
    "\n",
    "calculate_hexagon_trips(hexagons7_df, label=\"starting_trips_07\", group_by=\"h3_07_Pickup\")\n",
    "calculate_hexagon_trips(hexagons7_df, label=\"ending_trips_07\", group_by=\"h3_07_Dropoff\")\n",
    "calculate_hexagon_trips(hexagons8_df, label=\"starting_trips_08\", group_by=\"h3_08_Pickup\")\n",
    "calculate_hexagon_trips(hexagons8_df, label=\"ending_trips_08\", group_by=\"h3_08_Dropoff\")\n",
    "calculate_hexagon_trips(hexagons9_df, label=\"starting_trips_09\", group_by=\"h3_09_Pickup\")\n",
    "calculate_hexagon_trips(hexagons9_df, label=\"ending_trips_09\", group_by=\"h3_09_Dropoff\")\n",
    "\n",
    "hexagons7_df = hexagons7_df.reset_index()\n",
    "hexagons8_df = hexagons8_df.reset_index()\n",
    "hexagons9_df = hexagons9_df.reset_index()\n",
    "\n",
    "hexagons9_df.head(3)"
   ]
  },
  {
   "cell_type": "code",
   "execution_count": null,
   "id": "8e7d195f",
   "metadata": {},
   "outputs": [],
   "source": [
    "# Computing the hex id for each station and merging the results with the hexagon data afterwards\n",
    "\n",
    "#stations_df[\"hex\"] = stations_df.apply(\n",
    "#    lambda station: convert_to_hex(station[\"lat\"], station[\"lon\"]), axis=1\n",
    "#)\n",
    "\n",
    "#stations_df = pd.merge(stations_df, hexagons_df, left_on=\"hex\", right_on=\"hex\")\n",
    "#stations_df.head(3)"
   ]
  },
  {
   "cell_type": "code",
   "execution_count": null,
   "id": "a35bbf92",
   "metadata": {},
   "outputs": [],
   "source": [
    "# Our approach uses the chloropleth_mapbox module of Plotly Express to build a map.\n",
    "# To do this a GeoJSON-formatted dictionary is created by this method that can be passed to Plotly express. \n",
    "\n",
    "# taken from https://medium.com/analytics-vidhya/how-to-create-a-choropleth-map-using-uber-h3-plotly-python-458f51593548\n",
    "\n",
    "def hexagons_dataframe_to_geojson(df_hex, value_field, file_output = None):\n",
    "\n",
    "    list_features = []\n",
    "\n",
    "    for i, row in df_hex.iterrows():\n",
    "        feature = Feature(geometry = row['geometry'],\n",
    "                          id = row['hex'],\n",
    "                          properties = {\"value\": row[value_field]})\n",
    "        list_features.append(feature)\n",
    "\n",
    "    feat_collection = FeatureCollection(list_features)\n",
    "\n",
    "    if file_output is not None:\n",
    "        with open(file_output, \"w\") as f:\n",
    "            json.dump(feat_collection, f)\n",
    "\n",
    "    else :\n",
    "      return feat_collection"
   ]
  },
  {
   "cell_type": "code",
   "execution_count": null,
   "id": "a50a68ca",
   "metadata": {},
   "outputs": [],
   "source": [
    "# Function that visualizes the H3 map\n",
    "\n",
    "# Adapted from https://medium.com/analytics-vidhya/how-to-create-a-choropleth-map-using-uber-h3-plotly-python-458f51593548\n",
    "\n",
    "def plot_frequency(dataset, variable, labels, range_color, palette=\"RdBu\"):\n",
    "    geojson_obj = (hexagons_dataframe_to_geojson(dataset, value_field=variable))\n",
    "\n",
    "    fig = (px.choropleth_mapbox(\n",
    "                    dataset,\n",
    "                    width=700,\n",
    "                    height=500,\n",
    "                    geojson=geojson_obj, \n",
    "                    locations='hex', \n",
    "                    #hover_name = \"name\",\n",
    "                    color=variable,\n",
    "                    color_continuous_scale=palette,\n",
    "                    range_color=range_color,\n",
    "                    mapbox_style='carto-positron',\n",
    "                    zoom=10.5,\n",
    "                    center = {\"lat\": 41.881832 ,\"lon\": -87.623177,},\n",
    "                    opacity=0.7,\n",
    "                    labels=labels))\n",
    "    fig.update_layout(\n",
    "        margin={\"r\": 0, \"t\": 0, \"l\": 0, \"b\": 0},\n",
    "    )\n",
    "    return fig "
   ]
  },
  {
   "cell_type": "markdown",
   "id": "768cea42",
   "metadata": {},
   "source": [
    "# Hex 07"
   ]
  },
  {
   "cell_type": "code",
   "execution_count": null,
   "id": "d5b848b6",
   "metadata": {},
   "outputs": [],
   "source": [
    "variable = \"starting_trips_07\"\n",
    "\n",
    "fig = plot_frequency(\n",
    "    dataset=hexagons7_df,\n",
    "    variable=variable,\n",
    "    labels={variable: \"Starting trips 07\"},\n",
    "    range_color=(0, hexagons7_df[variable].quantile(0.9)),\n",
    "    palette=\"reds\",\n",
    ")\n",
    "\n",
    "#fig.update_layout(\n",
    "#    title = 'Starting trips 07',\n",
    "    \n",
    "#)\n",
    "\n",
    "fig.show()"
   ]
  },
  {
   "cell_type": "code",
   "execution_count": null,
   "id": "f07f12ff",
   "metadata": {},
   "outputs": [],
   "source": [
    "variable = \"ending_trips_07\"\n",
    "\n",
    "fig = plot_frequency(\n",
    "    dataset=hexagons7_df,\n",
    "    variable=variable,\n",
    "    labels={variable: \"Ending trips 07\"},\n",
    "    range_color=(0, hexagons7_df[variable].quantile(0.9)),\n",
    "    palette=\"reds\"\n",
    ")\n",
    "\n",
    "fig.show()"
   ]
  },
  {
   "cell_type": "markdown",
   "id": "5e3d1e27",
   "metadata": {},
   "source": [
    "# Hex8"
   ]
  },
  {
   "cell_type": "code",
   "execution_count": null,
   "id": "0fe4b0bb",
   "metadata": {},
   "outputs": [],
   "source": [
    "variable = \"starting_trips_08\"\n",
    "\n",
    "fig = plot_frequency(\n",
    "    dataset=hexagons8_df,\n",
    "    variable=variable,\n",
    "    labels={variable: \"Starting trips 08\"},\n",
    "    range_color=(0, hexagons8_df[variable].quantile(0.9)),\n",
    "    palette=\"reds\"\n",
    ")\n",
    "\n",
    "fig.show()"
   ]
  },
  {
   "cell_type": "code",
   "execution_count": null,
   "id": "7fe186e0",
   "metadata": {},
   "outputs": [],
   "source": [
    "variable = \"ending_trips_08\"\n",
    "\n",
    "fig = plot_frequency(\n",
    "    dataset=hexagons8_df,\n",
    "    variable=variable,\n",
    "    labels={variable: \"Ending trips 07\"},\n",
    "    range_color=(0, hexagons8_df[variable].quantile(0.9)),\n",
    "    palette=\"reds\"\n",
    ")\n",
    "\n",
    "fig.show()"
   ]
  },
  {
   "cell_type": "markdown",
   "id": "2d305832",
   "metadata": {},
   "source": [
    "# Hex9"
   ]
  },
  {
   "cell_type": "code",
   "execution_count": null,
   "id": "6952a84c",
   "metadata": {},
   "outputs": [],
   "source": [
    "variable = \"starting_trips_09\"\n",
    "\n",
    "fig = plot_frequency(\n",
    "    dataset=hexagons9_df,\n",
    "    variable=variable,\n",
    "    labels={variable: \"Starting trips 09\"},\n",
    "    range_color=(0, hexagons9_df[variable].quantile(0.9)),\n",
    "    palette=\"reds\"\n",
    ")\n",
    "\n",
    "fig.show()"
   ]
  },
  {
   "cell_type": "code",
   "execution_count": null,
   "id": "0cb58671",
   "metadata": {},
   "outputs": [],
   "source": [
    "variable = \"ending_trips_09\"\n",
    "\n",
    "fig = plot_frequency(\n",
    "    dataset=hexagons9_df,\n",
    "    variable=variable,\n",
    "    labels={variable: \"Ending trips 09\"},\n",
    "    range_color=(0, hexagons9_df[variable].quantile(0.9)),\n",
    "    palette=\"reds\"\n",
    ")\n",
    "\n",
    "fig.show()"
   ]
  },
  {
   "cell_type": "code",
   "execution_count": null,
   "id": "3f0216a4",
   "metadata": {},
   "outputs": [],
   "source": []
  },
  {
   "cell_type": "code",
   "execution_count": null,
   "id": "c98e08bd",
   "metadata": {},
   "outputs": [],
   "source": []
  },
  {
   "cell_type": "code",
   "execution_count": null,
   "id": "883cae61",
   "metadata": {},
   "outputs": [],
   "source": []
  },
  {
   "cell_type": "code",
   "execution_count": null,
   "id": "b6a8f524",
   "metadata": {},
   "outputs": [],
   "source": []
  },
  {
   "cell_type": "code",
   "execution_count": null,
   "id": "5e8cbbfb",
   "metadata": {},
   "outputs": [],
   "source": []
  },
  {
   "cell_type": "markdown",
   "id": "5493ffde",
   "metadata": {},
   "source": [
    "# Census tract dict\n"
   ]
  },
  {
   "cell_type": "code",
   "execution_count": null,
   "id": "76d7e849",
   "metadata": {},
   "outputs": [],
   "source": [
    "csv_file = '../../data/census_tract/chicago_census_tract.csv'\n",
    "\n",
    "\n",
    "# Python3 program to read CSV file using DictReader\n",
    "  \n",
    "# Import necessary packages\n",
    "import csv\n",
    "  \n",
    "# Open file\n",
    "#with open(path) as file_obj:\n",
    "      \n",
    "    # Create reader object by passing the file\n",
    "    # object to DictReader method\n",
    " #   reader_obj = csv.DictReader(file_obj)\n",
    "      \n",
    "    # Iterate over each row in the csv file\n",
    "    # using reader object\n",
    "  #  for row in reader_obj:\n",
    "   #     print(row)\n",
    "\n",
    "\n",
    "        \n",
    "#with open(path) as f:\n",
    " #  for line in csv.DictReader(f, fieldnames=('GEOID', 'COMMUNIT_1')):\n",
    "  #    print(line)\n",
    "\n",
    "\n",
    "# Create an empty dictionary\n",
    "data_dict = {}\n",
    "\n",
    "# Open the CSV file\n",
    "with open(csv_file, 'r') as file:\n",
    "    reader = csv.reader(file)\n",
    "\n",
    "    # Skip the header row if present\n",
    "    next(reader)\n",
    "\n",
    "    # Iterate over each row in the CSV file\n",
    "    for row in reader:\n",
    "        geoid = row[0]  # Assuming GEOID20 is in the first column\n",
    "        community = row[2]  # Assuming COMMUNIT_1 is in the second column\n",
    "\n",
    "        # Add the data to the dictionary\n",
    "        data_dict[geoid] = community\n",
    "\n",
    "# Print the resulting dictionary\n",
    "print(data_dict)\n",
    "\n"
   ]
  },
  {
   "cell_type": "code",
   "execution_count": null,
   "id": "8db4696b",
   "metadata": {},
   "outputs": [],
   "source": [
    "# Create a new dictionary with integer keys\n",
    "new_data_dict = {int(key): value for key, value in data_dict.items()}\n",
    "\n",
    "# Print the new dictionary\n",
    "print(new_data_dict)"
   ]
  },
  {
   "cell_type": "code",
   "execution_count": null,
   "id": "7347b942",
   "metadata": {},
   "outputs": [],
   "source": [
    "trips_df['pickup_name'] = trips_df['pickup_census_tract'].map(new_data_dict)\n",
    "trips_df"
   ]
  },
  {
   "cell_type": "code",
   "execution_count": null,
   "id": "b489b11a",
   "metadata": {},
   "outputs": [],
   "source": [
    "key_types = [type(key) for key in new_data_dict.keys()]\n",
    "\n",
    "# Print the data types\n",
    "for key_type in key_types:\n",
    "    print(key_type)"
   ]
  },
  {
   "cell_type": "code",
   "execution_count": null,
   "id": "47b303a9",
   "metadata": {},
   "outputs": [],
   "source": [
    "trips_df['pickup_name'].isna().sum()"
   ]
  },
  {
   "cell_type": "markdown",
   "id": "0a03e8e5",
   "metadata": {},
   "source": [
    "# Average idle time between trips"
   ]
  },
  {
   "cell_type": "markdown",
   "id": "11d7b439",
   "metadata": {},
   "source": [
    "# Trip length"
   ]
  },
  {
   "cell_type": "code",
   "execution_count": null,
   "id": "52647e5f",
   "metadata": {},
   "outputs": [],
   "source": []
  },
  {
   "cell_type": "code",
   "execution_count": null,
   "id": "4ac60760",
   "metadata": {},
   "outputs": [],
   "source": []
  },
  {
   "cell_type": "code",
   "execution_count": null,
   "id": "7ca6ae7d",
   "metadata": {},
   "outputs": [],
   "source": []
  },
  {
   "cell_type": "markdown",
   "id": "f5790828",
   "metadata": {},
   "source": [
    "# POI"
   ]
  },
  {
   "cell_type": "code",
   "execution_count": null,
   "id": "9b1f4fcc",
   "metadata": {},
   "outputs": [],
   "source": []
  }
 ],
 "metadata": {
  "kernelspec": {
   "display_name": "Python 3 (ipykernel)",
   "language": "python",
   "name": "python3"
  },
  "language_info": {
   "codemirror_mode": {
    "name": "ipython",
    "version": 3
   },
   "file_extension": ".py",
   "mimetype": "text/x-python",
   "name": "python",
   "nbconvert_exporter": "python",
   "pygments_lexer": "ipython3",
   "version": "3.10.9"
  }
 },
 "nbformat": 4,
 "nbformat_minor": 5
}
