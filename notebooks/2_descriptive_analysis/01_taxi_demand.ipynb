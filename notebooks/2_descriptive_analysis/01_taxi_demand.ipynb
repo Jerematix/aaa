{
 "cells": [
  {
   "cell_type": "markdown",
   "id": "6c528a98",
   "metadata": {},
   "source": [
    "# Geospatial Taxi Demand Analysis"
   ]
  },
  {
   "cell_type": "markdown",
   "id": "35006687",
   "metadata": {},
   "source": [
    "To analyze the taxi trip data of Chicago from the year 2015, this notebook will visualize the taxi usage in a geospatial context. Here different h3 maps with different resolutions and heatmaps are used. "
   ]
  },
  {
   "cell_type": "code",
   "execution_count": null,
   "id": "4264d7c5",
   "metadata": {},
   "outputs": [],
   "source": [
    "import numpy as np\n",
    "import pandas as pd\n",
    "import matplotlib.pyplot as plt\n",
    "import seaborn as sns\n",
    "import folium\n",
    "from folium import plugins\n",
    "from folium.plugins import HeatMap\n",
    "import h3\n",
    "from shapely.geometry import Polygon\n",
    "import geopandas\n",
    "from geojson import Feature, Point, FeatureCollection, Polygon\n",
    "from shapely.geometry import Polygon\n",
    "import plotly.express as px\n",
    "from datetime import datetime"
   ]
  },
  {
   "cell_type": "code",
   "execution_count": null,
   "id": "2897455f",
   "metadata": {},
   "outputs": [],
   "source": [
    "#Import cleaned dataset\n",
    "\n",
    "trips_df = pd.read_parquet('../../data/rides/Taxi_Trips_Sampled_Cleaned.parquet')\n",
    "trips_df.head(3)"
   ]
  },
  {
   "cell_type": "markdown",
   "id": "93141789",
   "metadata": {},
   "source": [
    "We create a dictionary for each census tract name of Chicago and add it to our DataFrame to be able to reference to certain locations in our analysis more easily. The census tract list were retrived from [here](https://data.cityofchicago.org/Facilities-Geographic-Boundaries/Boundaries-Census-Tracts-2000/pt6c-hxpp). "
   ]
  },
  {
   "cell_type": "code",
   "execution_count": null,
   "id": "7ea03201",
   "metadata": {},
   "outputs": [],
   "source": [
    "import csv\n",
    "\n",
    "csv_file = '../../data/census_tract/chicago_census_tract.csv'\n",
    "\n",
    "# Create an empty dictionary\n",
    "data_dict = {}\n",
    "\n",
    "# Open the CSV file\n",
    "with open(csv_file, 'r') as file:\n",
    "    reader = csv.reader(file)\n",
    "\n",
    "    # Skip the header row if present\n",
    "    next(reader)\n",
    "\n",
    "    # Iterate over each row in the CSV file\n",
    "    for row in reader:\n",
    "        ca = row[1]  # CA is in the second column\n",
    "        community = row[2]  # COMMUNIT_1 is in the third column\n",
    "\n",
    "        # Add the data to the dictionary\n",
    "        data_dict[ca] = community\n",
    "\n",
    "data_dict = dict(sorted(data_dict.items(), key=lambda item: int(item[0])))\n",
    "print(data_dict)"
   ]
  },
  {
   "cell_type": "code",
   "execution_count": null,
   "id": "999c7293",
   "metadata": {},
   "outputs": [],
   "source": [
    "# Create a new dictionary with integer keys\n",
    "new_data_dict = {int(key): value for key, value in data_dict.items()}\n"
   ]
  },
  {
   "cell_type": "code",
   "execution_count": null,
   "id": "1778d38a",
   "metadata": {},
   "outputs": [],
   "source": [
    "key_types = [type(key) for key in new_data_dict.keys()]"
   ]
  },
  {
   "cell_type": "code",
   "execution_count": null,
   "id": "5dd8b556",
   "metadata": {},
   "outputs": [],
   "source": [
    "# Match census tract name to community area unique value\n",
    "trips_df['pickup_name'] = trips_df['pickup_community_area'].map(new_data_dict)\n",
    "trips_df['dropoff_name'] = trips_df['dropoff_community_area'].map(new_data_dict)\n",
    "trips_df.head(3)"
   ]
  },
  {
   "cell_type": "code",
   "execution_count": null,
   "id": "c717c168",
   "metadata": {},
   "outputs": [],
   "source": [
    "#Test for NAN values\n",
    "trips_df['pickup_name'].isna().sum()"
   ]
  },
  {
   "cell_type": "markdown",
   "id": "2e0261b3",
   "metadata": {},
   "source": [
    "## Heatmaps "
   ]
  },
  {
   "cell_type": "markdown",
   "id": "4067782f",
   "metadata": {},
   "source": [
    "In this section we use Heatmaps to visualize the number of starting trips and ending trips. Due to the heatmaps being to large, we have to remove the cell outputs of the mapping. \n",
    "We [uploaded screenshots]() of these as an alternative."
   ]
  },
  {
   "cell_type": "markdown",
   "id": "6c77c260",
   "metadata": {},
   "source": [
    "### Starting Trips"
   ]
  },
  {
   "cell_type": "code",
   "execution_count": null,
   "id": "4e2cb678",
   "metadata": {},
   "outputs": [],
   "source": [
    "from shapely import wkt"
   ]
  },
  {
   "cell_type": "code",
   "execution_count": null,
   "id": "68a281b9",
   "metadata": {},
   "outputs": [],
   "source": [
    "trips_df[\"pickup_centroid\"] = geopandas.GeoSeries.from_wkt(trips_df[\"pickup_centroid\"])"
   ]
  },
  {
   "cell_type": "code",
   "execution_count": null,
   "id": "00a38b94",
   "metadata": {},
   "outputs": [],
   "source": [
    "trips_df.set_geometry('pickup_centroid')"
   ]
  },
  {
   "cell_type": "code",
   "execution_count": null,
   "id": "90696f94",
   "metadata": {},
   "outputs": [],
   "source": [
    "#Split pickup_centroid into coordinates\n",
    "#taken from https://geopandas.org/en/stable/gallery/plotting_with_folium.html \n",
    "\n",
    "geo_df_list = [[point.xy[1][0], point.xy[0][0]] for point in trips_df.pickup_centroid]"
   ]
  },
  {
   "cell_type": "code",
   "execution_count": null,
   "id": "3c87262d",
   "metadata": {},
   "outputs": [],
   "source": [
    "geo_df_pickup = geopandas.GeoDataFrame(geo_df_list, trips_df[\"pickup_census_tract\"])\n",
    "geo_df_pickup = geo_df_pickup.reset_index()\n",
    "geo_df_pickup[\"pickup_name\"] = trips_df[\"pickup_name\"]\n",
    "\n",
    "geo_df_pickup"
   ]
  },
  {
   "cell_type": "code",
   "execution_count": null,
   "id": "0a5b295e",
   "metadata": {},
   "outputs": [],
   "source": [
    "#geo_df_pickup = geo_df_pickup.reset_index()\n",
    "\n",
    "#geo_df_pickup.rename(columns={0: \"lat\", 1: \"lon\"}, inplace=True)\n",
    "geo_df_pickup = geo_df_pickup.reset_index()\n",
    "geo_df_pickup"
   ]
  },
  {
   "cell_type": "code",
   "execution_count": null,
   "id": "2721f184",
   "metadata": {},
   "outputs": [],
   "source": [
    "# Ploting heatmap that shows the census tracts and the frequency of trips starting there\n",
    "\n",
    "trips_heatmap = folium.Map(\n",
    "    location=(41.881832, -87.623177), # the orig mean values as location coordinates from https://www.latlong.net/place/chicago-il-usa-1855.html\n",
    "    zoom_start=13,\n",
    "    control_scale=True,\n",
    "    max_zoom=20,\n",
    ")\n",
    "\n",
    "trips_heatmap.add_child(plugins.HeatMap(geo_df_list, radius=30))\n",
    "\n",
    "for _,row in geo_df_pickup.iterrows():\n",
    "    folium.CircleMarker(\n",
    "        radius=5,\n",
    "        location=[row[0], row[1]],\n",
    "        popup= row[\"pickup_name\"],\n",
    "        color=\"crimson\",\n",
    "        fill_color=\"crimson\",\n",
    "    ).add_to(trips_heatmap)\n",
    "    \n",
    "    \n",
    "trips_heatmap"
   ]
  },
  {
   "cell_type": "markdown",
   "id": "279b31ad",
   "metadata": {},
   "source": [
    "In the heatmap we can see that the most popular hotspot for Taxis is **insert here when maps load**."
   ]
  },
  {
   "cell_type": "markdown",
   "id": "413d9e47",
   "metadata": {},
   "source": [
    "## Ending Trips"
   ]
  },
  {
   "cell_type": "code",
   "execution_count": null,
   "id": "8cc66f72",
   "metadata": {},
   "outputs": [],
   "source": [
    "trips_df[\"dropoff_centroid\"] = geopandas.GeoSeries.from_wkt(trips_df[\"dropoff_centroid\"])"
   ]
  },
  {
   "cell_type": "code",
   "execution_count": null,
   "id": "5275b1ef",
   "metadata": {},
   "outputs": [],
   "source": [
    "trips_df.set_geometry('dropoff_centroid')"
   ]
  },
  {
   "cell_type": "code",
   "execution_count": null,
   "id": "e141ccae",
   "metadata": {},
   "outputs": [],
   "source": [
    "geo_df_list_dropoff = [[point.xy[1][0], point.xy[0][0]] for point in trips_df.dropoff_centroid]"
   ]
  },
  {
   "cell_type": "code",
   "execution_count": null,
   "id": "89d780fb",
   "metadata": {},
   "outputs": [],
   "source": [
    "geo_df_dropoff = geopandas.GeoDataFrame(geo_df_list_dropoff, trips_df[\"dropoff_census_tract\"])"
   ]
  },
  {
   "cell_type": "code",
   "execution_count": null,
   "id": "b5192c28",
   "metadata": {},
   "outputs": [],
   "source": [
    "geo_df_dropoff = geopandas.GeoDataFrame(geo_df_list, trips_df[\"dropoff_census_tract\"])\n",
    "geo_df_dropoff = geo_df_dropoff.reset_index()\n",
    "geo_df_dropoff[\"dropoff_name\"] = trips_df[\"dropoff_name\"]\n",
    "\n",
    "geo_df_dropoff"
   ]
  },
  {
   "cell_type": "code",
   "execution_count": null,
   "id": "3e04b574",
   "metadata": {
    "scrolled": false
   },
   "outputs": [],
   "source": [
    "# Ploting heatmap that shows the census tracts and the frequency of trips ending there\n",
    "\n",
    "trips_heatmap = folium.Map(\n",
    "    location=(41.881832, -87.623177), # the orig mean values as location coordinates from https://www.latlong.net/place/chicago-il-usa-1855.html\n",
    "    zoom_start=13,\n",
    "    control_scale=True,\n",
    "    max_zoom=20,\n",
    ")\n",
    "\n",
    "trips_heatmap.add_child(plugins.HeatMap(geo_df_list_dropoff, radius=30))\n",
    "\n",
    "for _,row in geo_df_dropoff.iterrows():\n",
    "    folium.CircleMarker(\n",
    "        radius=5,\n",
    "        location=[row[0], row[1]],\n",
    "        popup= row[\"dropoff_name\"],\n",
    "        color=\"crimson\",\n",
    "        fill_color=\"crimson\",\n",
    "    ).add_to(trips_heatmap)\n",
    "    \n",
    "    \n",
    "trips_heatmap"
   ]
  },
  {
   "cell_type": "markdown",
   "id": "6cf07d62",
   "metadata": {},
   "source": [
    "The most popular dropoff location is **insert here, when map finally loads**. "
   ]
  },
  {
   "cell_type": "markdown",
   "id": "9a226cfb",
   "metadata": {},
   "source": [
    "## H3 maps "
   ]
  },
  {
   "cell_type": "markdown",
   "id": "6183db4c",
   "metadata": {},
   "source": [
    "Another geospatial visualisation that we use are h3 maps. We use the resolution types 7,8 and 9.\n",
    "Due to the repetiveness of the resolutions for each categorie that we are looking at we will restrict the visualization to one resolution that represents the underlying analysis the best.\n",
    "\n",
    "First we start off by creating DataFrames for each resolution and creating methods for the calculation of Taxi demand, hex and for visualisations."
   ]
  },
  {
   "cell_type": "code",
   "execution_count": null,
   "id": "022bd50b",
   "metadata": {},
   "outputs": [],
   "source": [
    "# Creating a dataframe that contains all hexagons where at least one trip started or ended\n",
    "\n",
    "hexagons7_df = pd.DataFrame()\n",
    "hexagons8_df = pd.DataFrame()\n",
    "hexagons9_df = pd.DataFrame()\n",
    "\n",
    "hexagons7_df[\"hex\"] = pd.concat([trips_df[\"h3_07_pickup\"], trips_df[\"h3_07_dropoff\"]]).unique()\n",
    "hexagons8_df[\"hex\"] = pd.concat([trips_df[\"h3_08_pickup\"], trips_df[\"h3_08_dropoff\"]]).unique()\n",
    "hexagons9_df[\"hex\"] = pd.concat([trips_df[\"h3_09_pickup\"], trips_df[\"h3_09_dropoff\"]]).unique()\n",
    "hexagons7_df.head(3)\n",
    "hexagons8_df.head(3)\n",
    "hexagons9_df.head(3)"
   ]
  },
  {
   "cell_type": "code",
   "execution_count": null,
   "id": "a2f0d624",
   "metadata": {},
   "outputs": [],
   "source": [
    "# Defining a funtion that generates heaxagon geometry for each hexagon\n",
    "# taken from https://medium.com/analytics-vidhya/how-to-create-a-choropleth-map-using-uber-h3-plotly-python-458f51593548\n",
    "\n",
    "def add_geometry(row):\n",
    "  points = h3.h3_to_geo_boundary(row['hex'], True)\n",
    "  return Polygon(points)"
   ]
  },
  {
   "cell_type": "code",
   "execution_count": null,
   "id": "8377011b",
   "metadata": {},
   "outputs": [],
   "source": [
    "#Applying function to our hexagons dataframe\n",
    "\n",
    "hexagons7_df['geometry'] = (hexagons7_df\n",
    "                                .apply(add_geometry,axis=1)) \n",
    "\n",
    "hexagons8_df['geometry'] = (hexagons8_df\n",
    "                                .apply(add_geometry,axis=1)) \n",
    "\n",
    "hexagons9_df['geometry'] = (hexagons9_df\n",
    "                                .apply(add_geometry,axis=1)) \n",
    "\n",
    "\n",
    "hexagons7_df.head(3)\n"
   ]
  },
  {
   "cell_type": "code",
   "execution_count": null,
   "id": "2c203e12",
   "metadata": {},
   "outputs": [],
   "source": [
    "# Defining a functions that will count trips for a given groupby value\n",
    "\n",
    "def calculate_hexagon_trips(hexagons_df, label, group_by):\n",
    "    hexagons_df[label] = trips_df.groupby(group_by).size()\n",
    "    hexagons_df[label] = hexagons_df[label].fillna(value=0)"
   ]
  },
  {
   "cell_type": "code",
   "execution_count": null,
   "id": "1ea1d285",
   "metadata": {},
   "outputs": [],
   "source": [
    "# Calculate starting and ending trips for each hexagon\n",
    "\n",
    "hexagons7_df = hexagons7_df.set_index('hex')\n",
    "hexagons8_df = hexagons8_df.set_index('hex')\n",
    "hexagons9_df = hexagons9_df.set_index('hex')\n",
    "\n",
    "\n",
    "calculate_hexagon_trips(hexagons7_df, label=\"starting_trips_07\", group_by=\"h3_07_pickup\")\n",
    "calculate_hexagon_trips(hexagons7_df, label=\"ending_trips_07\", group_by=\"h3_07_dropoff\")\n",
    "calculate_hexagon_trips(hexagons8_df, label=\"starting_trips_08\", group_by=\"h3_08_pickup\")\n",
    "calculate_hexagon_trips(hexagons8_df, label=\"ending_trips_08\", group_by=\"h3_08_dropoff\")\n",
    "calculate_hexagon_trips(hexagons9_df, label=\"starting_trips_09\", group_by=\"h3_09_pickup\")\n",
    "calculate_hexagon_trips(hexagons9_df, label=\"ending_trips_09\", group_by=\"h3_09_dropoff\")\n",
    "\n",
    "hexagons7_df = hexagons7_df.reset_index()\n",
    "hexagons8_df = hexagons8_df.reset_index()\n",
    "hexagons9_df = hexagons9_df.reset_index()\n",
    "\n",
    "hexagons9_df.head(3)"
   ]
  },
  {
   "cell_type": "code",
   "execution_count": null,
   "id": "01697631",
   "metadata": {},
   "outputs": [],
   "source": [
    "hexagons7_df[\"pickup_name\"]=trips_df[\"pickup_name\"]\n",
    "hexagons8_df[\"pickup_name\"]=trips_df[\"pickup_name\"]\n",
    "hexagons9_df[\"pickup_name\"]=trips_df[\"pickup_name\"]\n",
    "\n",
    "hexagons7_df"
   ]
  },
  {
   "cell_type": "code",
   "execution_count": null,
   "id": "a35bbf92",
   "metadata": {},
   "outputs": [],
   "source": [
    "# Our approach uses the chloropleth_mapbox module of Plotly Express to build a map.\n",
    "# To do this a GeoJSON-formatted dictionary is created by this method that can be passed to Plotly express. \n",
    "\n",
    "# taken from https://medium.com/analytics-vidhya/how-to-create-a-choropleth-map-using-uber-h3-plotly-python-458f51593548\n",
    "\n",
    "def hexagons_dataframe_to_geojson(df_hex, value_field, file_output = None):\n",
    "\n",
    "    list_features = []\n",
    "\n",
    "    for i, row in df_hex.iterrows():\n",
    "        feature = Feature(geometry = row['geometry'],\n",
    "                          id = row['hex'],\n",
    "                          properties = {\"value\": row[value_field]})\n",
    "        list_features.append(feature)\n",
    "\n",
    "    feat_collection = FeatureCollection(list_features)\n",
    "\n",
    "    if file_output is not None:\n",
    "        with open(file_output, \"w\") as f:\n",
    "            json.dump(feat_collection, f)\n",
    "\n",
    "    else :\n",
    "      return feat_collection"
   ]
  },
  {
   "cell_type": "code",
   "execution_count": null,
   "id": "a50a68ca",
   "metadata": {},
   "outputs": [],
   "source": [
    "# Function that visualizes the H3 map\n",
    "\n",
    "# Adapted from https://medium.com/analytics-vidhya/how-to-create-a-choropleth-map-using-uber-h3-plotly-python-458f51593548\n",
    "\n",
    "def plot_frequency(dataset, variable, labels, range_color, palette=\"RdBu\"):\n",
    "    geojson_obj = (hexagons_dataframe_to_geojson(dataset, value_field=variable))\n",
    "\n",
    "    fig = (px.choropleth_mapbox(\n",
    "                    dataset,\n",
    "                    width=700,\n",
    "                    height=500,\n",
    "                    geojson=geojson_obj, \n",
    "                    locations='hex', \n",
    "                 #   hover_name = \"pickup_name\",\n",
    "                    color=variable,\n",
    "                    color_continuous_scale=palette,\n",
    "                    range_color=range_color,\n",
    "                    mapbox_style='carto-positron',\n",
    "                    zoom=10.5,\n",
    "                    center = {\"lat\": 41.881832 ,\"lon\": -87.623177,},\n",
    "                    opacity=0.7,\n",
    "                    labels=labels))\n",
    "    fig.update_layout(\n",
    "        margin={\"r\": 0, \"t\": 0, \"l\": 0, \"b\": 0},\n",
    "    )\n",
    "    return fig "
   ]
  },
  {
   "cell_type": "code",
   "execution_count": null,
   "id": "47c1f20c",
   "metadata": {},
   "outputs": [],
   "source": [
    "# Function to extract longitudes from a Polygon\n",
    "#def get_longitudes_from_polygon(polygon):\n",
    "#    return [coord[0] for coord in polygon.exterior.coords]\n",
    "\n",
    "# Function to extract latitudes from a Polygon\n",
    "#def get_latitudes_from_polygon(polygon):\n",
    "#    return [coord[1] for coord in polygon.exterior.coords]\n",
    "\n",
    "# Apply the function to the 'geometry' column to get the longitudes\n",
    "#hexagons7_df['longitudes'] = hexagons7_df['geometry'].apply(get_longitudes_from_polygon)\n",
    "#hexagons7_df['latitudes'] = hexagons7_df['geometry'].apply(get_latitudes_from_polygon)\n",
    "\n",
    "# Function to plot the frequency with choropleth colors based on the variable\n",
    "def plot_frequency_test(dataset, hover_name, variable, labels, range_color, palette=\"RdBu\"):\n",
    "    fig = (px.choropleth_mapbox(\n",
    "        dataset,\n",
    "        width=700,\n",
    "        height=500,\n",
    "        geojson=hexagons_dataframe_to_geojson(dataset, value_field=variable),\n",
    "        locations='hex',\n",
    "        hover_name=hover_name,\n",
    "        color=variable,  # Use the 'variable' directly as the color\n",
    "        color_continuous_scale=palette,\n",
    "        range_color=range_color,\n",
    "        zoom=10.5,\n",
    "        center={\"lat\": 41.881832, \"lon\": -87.623177},\n",
    "        opacity=0.7,\n",
    "        labels=labels,\n",
    "        animation_frame=\"month\",\n",
    "       # animation_group=\"hex\",\n",
    "        mapbox_style=\"open-street-map\",\n",
    "    ))\n",
    "    fig.update_layout(\n",
    "        sliders=[\n",
    "            dict(\n",
    "                active=0,\n",
    "                bgcolor='black'\n",
    "            )\n",
    "        ]\n",
    "    )\n",
    "    return fig\n"
   ]
  },
  {
   "cell_type": "markdown",
   "id": "768cea42",
   "metadata": {},
   "source": [
    "# Hex7"
   ]
  },
  {
   "cell_type": "markdown",
   "id": "a5565eea",
   "metadata": {},
   "source": [
    "## Starting Trips"
   ]
  },
  {
   "cell_type": "code",
   "execution_count": null,
   "id": "d5b848b6",
   "metadata": {},
   "outputs": [],
   "source": [
    "variable = \"starting_trips_07\"\n",
    "\n",
    "fig = plot_frequency(\n",
    "    dataset=hexagons7_df,\n",
    "    variable=variable,\n",
    "    labels={variable: \"Starting Trips in Res7\"},\n",
    "    range_color=(0, hexagons7_df[variable].quantile(0.9)),\n",
    "    palette=\"reds\",\n",
    ")\n",
    "\n",
    "#fig.update_layout(\n",
    "#    title = 'Starting trips 07',\n",
    "    \n",
    "#)\n",
    "\n",
    "fig.show()"
   ]
  },
  {
   "cell_type": "markdown",
   "id": "8615c4bb",
   "metadata": {},
   "source": [
    "## Ending Trips"
   ]
  },
  {
   "cell_type": "code",
   "execution_count": null,
   "id": "f07f12ff",
   "metadata": {},
   "outputs": [],
   "source": [
    "variable = \"ending_trips_07\"\n",
    "\n",
    "fig = plot_frequency(\n",
    "    dataset=hexagons7_df,\n",
    "    variable=variable,\n",
    "    labels={variable: \"Ending Trips in Res7\"},\n",
    "    range_color=(0, hexagons7_df[variable].quantile(0.9)),\n",
    "    palette=\"reds\"\n",
    ")\n",
    "\n",
    "fig.show()"
   ]
  },
  {
   "cell_type": "markdown",
   "id": "e79af946",
   "metadata": {},
   "source": [
    "## Demand Difference"
   ]
  },
  {
   "cell_type": "markdown",
   "id": "5302906e",
   "metadata": {},
   "source": [
    "### Overall"
   ]
  },
  {
   "cell_type": "code",
   "execution_count": null,
   "id": "5f218ef9",
   "metadata": {},
   "outputs": [],
   "source": [
    "hexagons7_df[\"demand_difference_07\"] = hexagons7_df[\"starting_trips_07\"] - hexagons7_df[\"ending_trips_07\"]\n",
    "hexagons7_df.head(3)"
   ]
  },
  {
   "cell_type": "code",
   "execution_count": null,
   "id": "275e5119",
   "metadata": {},
   "outputs": [],
   "source": [
    "# Ploting a map with hexagons depicting the difference in demand considering starting and ending trips\n",
    "\n",
    "variable = \"demand_difference_07\"\n",
    "\n",
    "fig = plot_frequency(\n",
    "    dataset=hexagons7_df,\n",
    "    variable=variable,\n",
    "    labels={variable: \"Demand difference\"},\n",
    "    range_color=(\n",
    "        -hexagons7_df[variable].quantile(0.95),\n",
    "        hexagons7_df[variable].quantile(0.95),\n",
    "    ),\n",
    ")\n",
    "fig.show()"
   ]
  },
  {
   "cell_type": "markdown",
   "id": "89dd82fb",
   "metadata": {},
   "source": [
    "### During morning and evening rush hour"
   ]
  },
  {
   "cell_type": "code",
   "execution_count": null,
   "id": "d87f0b3b",
   "metadata": {},
   "outputs": [],
   "source": [
    "# Function that returns the number of trips for the given hours and for the given 'group by' value\n",
    "\n",
    "def calculate_hexagon_trips_by_hours(hexagons_df, label, group_by, hours):\n",
    "    hexagons_df[label] = (\n",
    "        trips_df[\n",
    "            (trips_df[\"trip_start_timestamp\"].dt.hour >= hours[0])\n",
    "            & (trips_df[\"trip_start_timestamp\"].dt.hour <= hours[1])\n",
    "        ]\n",
    "        .groupby(group_by)\n",
    "        .size()\n",
    "    )\n",
    "    hexagons_df[label] = hexagons_df[label].fillna(value=0)"
   ]
  },
  {
   "cell_type": "code",
   "execution_count": null,
   "id": "168ec0f6",
   "metadata": {},
   "outputs": [],
   "source": [
    "# Function that returns the number of trips for the given hours and for the given 'group by' value\n",
    "\n",
    "def calculate_hexagon_trips_hour(hexagons_df, hexagon_num):\n",
    "    hexagon_label = f\"h3_0{hexagon_num}\"\n",
    "    #label_prefix = f\"hexagon_{hexagon_num}\"\n",
    "    #hexagons_df = hexagons_df.set_index(\"hex\")\n",
    "    now = datetime.now()\n",
    "    morning_hours = [now.replace(hour=6).hour, now.replace(hour=12).hour]\n",
    "    evening_hours = [now.replace(hour=14).hour, now.replace(hour=20).hour]\n",
    "\n",
    "    calculate_hexagon_trips_by_hours(\n",
    "        hexagons_df, label=\"starting_trips_morning\", group_by=f\"{hexagon_label}_pickup\", hours=morning_hours\n",
    "    )\n",
    "    calculate_hexagon_trips_by_hours(\n",
    "        hexagons_df, label= \"ending_trips_morning\", group_by=f\"{hexagon_label}_dropoff\", hours=morning_hours\n",
    "    )\n",
    "    calculate_hexagon_trips_by_hours(\n",
    "        hexagons_df, label= \"starting_trips_evening\", group_by=f\"{hexagon_label}_pickup\", hours=evening_hours\n",
    "    )\n",
    "    calculate_hexagon_trips_by_hours(\n",
    "        hexagons_df, label= \"ending_trips_evening\", group_by=f\"{hexagon_label}_dropoff\", hours=evening_hours\n",
    "    )\n",
    "\n",
    "    hexagons_df[\"trips_difference_morning\"] = (\n",
    "        hexagons_df[\"starting_trips_morning\"] - hexagons_df[\"ending_trips_morning\"]\n",
    "    )\n",
    "    hexagons_df[\"trips_difference_evening\"] = (\n",
    "        hexagons_df[\"starting_trips_evening\"] - hexagons_df[\"ending_trips_evening\"]\n",
    "    )\n",
    "\n",
    "    return hexagons_df"
   ]
  },
  {
   "cell_type": "code",
   "execution_count": null,
   "id": "987f92a3",
   "metadata": {},
   "outputs": [],
   "source": [
    "# Calculate the difference between starting and ending trips for the morning (06:00-12:00) \n",
    "#and for the evening (14:00-20:00) in Resolution 7,8+9\n",
    " \n",
    "hexagon_numbers = [7, 8, 9]\n",
    "for hexagon_num in hexagon_numbers:\n",
    "    hexagon_df = globals()[f\"hexagons{hexagon_num}_df\"]\n",
    "    hexagon_df = hexagon_df.set_index(\"hex\")\n",
    "    hexagon_df = calculate_hexagon_trips_hour(hexagon_df, hexagon_num)\n",
    "    hexagon_df = hexagon_df.reset_index()\n",
    "\n",
    "    # Optionally, you can assign the updated DataFrame back to its original variable\n",
    "    globals()[f\"hexagons{hexagon_num}_df\"] = hexagon_df\n",
    "\n",
    "hexagons7_df.head(3)\n"
   ]
  },
  {
   "cell_type": "code",
   "execution_count": null,
   "id": "d7744cca",
   "metadata": {},
   "outputs": [],
   "source": [
    "# Ploting a map with hexagons depicting the demand difference in the morning\n",
    "\n",
    "variable = \"trips_difference_morning\"\n",
    "\n",
    "fig = plot_frequency(\n",
    "    dataset=hexagons7_df,\n",
    "    variable=variable,\n",
    "    labels={variable: \"Demand Difference Morning\"},\n",
    "    range_color=(\n",
    "        -hexagons7_df[variable].quantile(0.9),\n",
    "        hexagons7_df[variable].quantile(0.9),\n",
    "    ),\n",
    ")\n",
    "fig.show()"
   ]
  },
  {
   "cell_type": "code",
   "execution_count": null,
   "id": "8eb3ea90",
   "metadata": {},
   "outputs": [],
   "source": [
    "# Ploting a map with hexagons depicting the demand difference in the evening\n",
    "\n",
    "variable = \"trips_difference_evening\"\n",
    "\n",
    "fig = plot_frequency(\n",
    "    dataset=hexagons7_df,\n",
    "    variable=variable,\n",
    "    labels={variable: \"Demand Difference Evening\"},\n",
    "    range_color=(\n",
    "        -hexagons7_df[variable].quantile(0.9),\n",
    "        hexagons7_df[variable].quantile(0.9),\n",
    "    ),\n",
    ")\n",
    "fig.show()"
   ]
  },
  {
   "cell_type": "markdown",
   "id": "5e3d1e27",
   "metadata": {},
   "source": [
    "# Hex8"
   ]
  },
  {
   "cell_type": "code",
   "execution_count": null,
   "id": "0fe4b0bb",
   "metadata": {},
   "outputs": [],
   "source": [
    "variable = \"starting_trips_08\"\n",
    "\n",
    "fig = plot_frequency(\n",
    "    dataset=hexagons8_df,\n",
    "    variable=variable,\n",
    "    labels={variable: \"Starting Trips in Res8\"},\n",
    "    range_color=(0, hexagons8_df[variable].quantile(0.9)),\n",
    "    palette=\"reds\"\n",
    ")\n",
    "\n",
    "fig.show()"
   ]
  },
  {
   "cell_type": "code",
   "execution_count": null,
   "id": "7fe186e0",
   "metadata": {},
   "outputs": [],
   "source": [
    "variable = \"ending_trips_08\"\n",
    "\n",
    "fig = plot_frequency(\n",
    "    dataset=hexagons8_df,\n",
    "    variable=variable,\n",
    "    labels={variable: \"Ending Trips in Res8\"},\n",
    "    range_color=(0, hexagons8_df[variable].quantile(0.9)),\n",
    "    palette=\"reds\"\n",
    ")\n",
    "\n",
    "fig.show()"
   ]
  },
  {
   "cell_type": "code",
   "execution_count": null,
   "id": "06746f28",
   "metadata": {},
   "outputs": [],
   "source": [
    "hexagons8_df[\"demand_difference_08\"] = hexagons8_df[\"starting_trips_08\"] - hexagons8_df[\"ending_trips_08\"]\n",
    "hexagons8_df.head(3)"
   ]
  },
  {
   "cell_type": "code",
   "execution_count": null,
   "id": "93381601",
   "metadata": {},
   "outputs": [],
   "source": [
    "# Ploting a map with hexagons depicting the difference in demand considering starting and ending trips\n",
    "\n",
    "variable = \"demand_difference_08\"\n",
    "\n",
    "fig = plot_frequency(\n",
    "    dataset=hexagons8_df,\n",
    "    variable=variable,\n",
    "    labels={variable: \"Demand difference\"},\n",
    "    range_color=(\n",
    "        -hexagons8_df[variable].quantile(0.95),\n",
    "        hexagons8_df[variable].quantile(0.95),\n",
    "    ),\n",
    ")\n",
    "fig.show()"
   ]
  },
  {
   "cell_type": "markdown",
   "id": "34741517",
   "metadata": {},
   "source": [
    "### During morning and evening rush hour"
   ]
  },
  {
   "cell_type": "code",
   "execution_count": null,
   "id": "a6d7c459",
   "metadata": {},
   "outputs": [],
   "source": [
    "# Ploting a map with hexagons depicting the demand difference in the morning\n",
    "\n",
    "variable = \"trips_difference_morning\"\n",
    "\n",
    "fig = plot_frequency(\n",
    "    dataset=hexagons8_df,\n",
    "    variable=variable,\n",
    "    labels={variable: \"Demand Difference Morning\"},\n",
    "    range_color=(\n",
    "        -hexagons8_df[variable].quantile(0.9),\n",
    "        hexagons8_df[variable].quantile(0.9),\n",
    "    ),\n",
    ")\n",
    "fig.show()"
   ]
  },
  {
   "cell_type": "code",
   "execution_count": null,
   "id": "41e0246c",
   "metadata": {},
   "outputs": [],
   "source": [
    "# Ploting a map with hexagons depicting the demand difference in the evening\n",
    "\n",
    "variable = \"trips_difference_evening\"\n",
    "\n",
    "fig = plot_frequency(\n",
    "    dataset=hexagons8_df,\n",
    "    variable=variable,\n",
    "    labels={variable: \"Demand Difference Evening\"},\n",
    "    range_color=(\n",
    "        -hexagons8_df[variable].quantile(0.95),\n",
    "        hexagons8_df[variable].quantile(0.95),\n",
    "    ),\n",
    ")\n",
    "fig.show()"
   ]
  },
  {
   "cell_type": "markdown",
   "id": "2d305832",
   "metadata": {},
   "source": [
    "# Hex9"
   ]
  },
  {
   "cell_type": "code",
   "execution_count": null,
   "id": "6952a84c",
   "metadata": {},
   "outputs": [],
   "source": [
    "variable = \"starting_trips_09\"\n",
    "\n",
    "fig = plot_frequency(\n",
    "    dataset=hexagons9_df,\n",
    "    variable=variable,\n",
    "    labels={variable: \"Starting Trips in Res9\"},\n",
    "    range_color=(0, hexagons9_df[variable].quantile(0.9)),\n",
    "    palette=\"reds\"\n",
    ")\n",
    "\n",
    "fig.show()"
   ]
  },
  {
   "cell_type": "code",
   "execution_count": null,
   "id": "0cb58671",
   "metadata": {},
   "outputs": [],
   "source": [
    "variable = \"ending_trips_09\"\n",
    "\n",
    "fig = plot_frequency(\n",
    "    dataset=hexagons9_df,\n",
    "    variable=variable,\n",
    "    labels={variable: \"Ending Trips in Res9\"},\n",
    "    range_color=(0, hexagons9_df[variable].quantile(0.9)),\n",
    "    palette=\"reds\"\n",
    ")\n",
    "\n",
    "fig.show()"
   ]
  },
  {
   "cell_type": "code",
   "execution_count": null,
   "id": "3f0216a4",
   "metadata": {},
   "outputs": [],
   "source": [
    "hexagons9_df[\"demand_difference_09\"] = hexagons9_df[\"starting_trips_09\"] - hexagons9_df[\"ending_trips_09\"]\n",
    "hexagons9_df"
   ]
  },
  {
   "cell_type": "code",
   "execution_count": null,
   "id": "c98e08bd",
   "metadata": {},
   "outputs": [],
   "source": [
    "# Ploting a map with hexagons depicting the difference in demand considering starting and ending trips\n",
    "\n",
    "variable = \"demand_difference_09\"\n",
    "\n",
    "fig = plot_frequency(\n",
    "    dataset=hexagons9_df,\n",
    "    variable=variable,\n",
    "    labels={variable: \"Demand difference\"},\n",
    "    range_color=(\n",
    "        -hexagons9_df[variable].quantile(0.95),\n",
    "        hexagons9_df[variable].quantile(0.95),\n",
    "    ),\n",
    ")\n",
    "fig.show()"
   ]
  },
  {
   "cell_type": "markdown",
   "id": "a5f0463e",
   "metadata": {},
   "source": [
    "### During morning and evening rush hour"
   ]
  },
  {
   "cell_type": "code",
   "execution_count": null,
   "id": "b49d880a",
   "metadata": {},
   "outputs": [],
   "source": [
    "# Ploting a map with hexagons depicting the demand difference in the morning\n",
    "\n",
    "variable = \"trips_difference_morning\"\n",
    "\n",
    "fig = plot_frequency(\n",
    "    dataset=hexagons9_df,\n",
    "    variable=variable,\n",
    "    labels={variable: \"Demand Difference Morning\"},\n",
    "    range_color=(\n",
    "        -hexagons9_df[variable].quantile(0.9),\n",
    "        hexagons9_df[variable].quantile(0.9),\n",
    "    ),\n",
    ")\n",
    "fig.show()"
   ]
  },
  {
   "cell_type": "code",
   "execution_count": null,
   "id": "6b29abb7",
   "metadata": {},
   "outputs": [],
   "source": [
    "# Ploting a map with hexagons depicting the demand difference in the evening\n",
    "\n",
    "variable = \"trips_difference_evening\"\n",
    "\n",
    "fig = plot_frequency(\n",
    "    dataset=hexagons9_df,\n",
    "    variable=variable,\n",
    "    labels={variable: \"Demand Difference Evening\"},\n",
    "    range_color=(\n",
    "        -hexagons9_df[variable].quantile(0.9),\n",
    "        hexagons9_df[variable].quantile(0.9),\n",
    "    ),\n",
    ")\n",
    "fig.show()"
   ]
  },
  {
   "cell_type": "markdown",
   "id": "0a03e8e5",
   "metadata": {},
   "source": [
    "# Average idle time between trips"
   ]
  },
  {
   "cell_type": "markdown",
   "id": "11d7b439",
   "metadata": {},
   "source": [
    "# Trip length"
   ]
  },
  {
   "cell_type": "code",
   "execution_count": null,
   "id": "52647e5f",
   "metadata": {},
   "outputs": [],
   "source": [
    "def plot_trips_net_monthly(h3_res: int, time_interval_length: int):\n",
    "\ttrips_monthly_net = get_trips_net_monthly(h3_res, time_interval_length)\n",
    "\n",
    "\ttrips_monthly_net['month'] = trips_monthly_net['datetime'].dt.month\n",
    "\ttrips_monthly_net = trips_monthly_net.sort_values(by=['month'])\n",
    "\n",
    "\th3_visualization.plot_choropleth(\n",
    "\t\ttrips_monthly_net,\n",
    "\t\thex_col=\"hex_id\",\n",
    "\t\tcolor_by_col=\"demand\",\n",
    "\t\tcenter=lat_lon_leipzig,\n",
    "\t\tcolor_continuous_scale=\"RdBu\",\n",
    "\t\trange_color=(\n",
    "\t\t\t-50,\n",
    "\t\t\t50\n",
    "\t\t),\n",
    "\t\tanimation_frame=\"month\",\n",
    "\t\topacity=0.7,\n",
    "\t\tzoom=10,\n",
    "\t\tlabels={'demand': 'inflow - outflow'},\n",
    "\t\tmapbox_style=\"open-street-map\",\n",
    "\t)"
   ]
  },
  {
   "cell_type": "code",
   "execution_count": null,
   "id": "4ac60760",
   "metadata": {},
   "outputs": [],
   "source": [
    "trips_shifted = trips_df.groupby(\"taxi_id\").shift(1).dropna(subset=[\"trip_start_timestamp\"])\n",
    "trips_with_next = trips_df.merge(\n",
    "    trips_shifted, left_index=True, right_index=True, how=\"inner\", suffixes=(\"\", \"_next\")\n",
    ")\n",
    "trips_with_next['taxi_id'] = trips_df['taxi_id']"
   ]
  },
  {
   "cell_type": "code",
   "execution_count": null,
   "id": "7ca6ae7d",
   "metadata": {},
   "outputs": [],
   "source": [
    "selected_columns = ['pickup_centroid', 'pickup_centroid_next', 'h3_07_pickup', 'h3_07_pickup_next']\n",
    "display_df = trips_with_next[selected_columns]\n",
    "display_df"
   ]
  },
  {
   "cell_type": "code",
   "execution_count": null,
   "id": "9b1f4fcc",
   "metadata": {},
   "outputs": [],
   "source": [
    "trips_with_next['idle_time'] = (\n",
    "    trips_with_next.trip_end_timestamp - trips_with_next.trip_start_timestamp_next\n",
    ")"
   ]
  },
  {
   "cell_type": "code",
   "execution_count": null,
   "id": "d232a916",
   "metadata": {},
   "outputs": [],
   "source": [
    "trips_with_next.idle_time.describe()"
   ]
  },
  {
   "cell_type": "code",
   "execution_count": null,
   "id": "6218e15b",
   "metadata": {},
   "outputs": [],
   "source": [
    "trips_with_next['timeinterval'] = (\n",
    "    trips_with_next.trip_start_timestamp.dt.floor('1D')\n",
    ")"
   ]
  },
  {
   "cell_type": "code",
   "execution_count": null,
   "id": "3b93a26f",
   "metadata": {},
   "outputs": [],
   "source": [
    "fig, ax = plt.subplots(figsize=(12, 6))\n",
    "\n",
    "ax.plot(\n",
    "    trips_with_next.groupby(\"timeinterval\").idle_time.median().dt.total_seconds()\n",
    "    / 60\n",
    "    / 60,\n",
    ")\n",
    "ax.set_xlabel(\"Time interval\")\n",
    "ax.set_ylabel(\"Median idle time (hours)\")\n",
    "\n",
    "plt.show()"
   ]
  },
  {
   "cell_type": "code",
   "execution_count": null,
   "id": "d58a2d1e",
   "metadata": {},
   "outputs": [],
   "source": [
    "trips_with_next.head()"
   ]
  },
  {
   "cell_type": "code",
   "execution_count": null,
   "id": "37217e84",
   "metadata": {},
   "outputs": [],
   "source": [
    "trips_with_next['month'] = trips_with_next.trip_start_timestamp.dt.month"
   ]
  },
  {
   "cell_type": "code",
   "execution_count": null,
   "id": "06cfc014",
   "metadata": {},
   "outputs": [],
   "source": [
    "idle_by_hex7_time_median = trips_with_next.groupby([\"h3_07_pickup_next\", \"month\"])[\n",
    "    \"idle_time\"\n",
    "].median().rename(\"idle_time_median\")\n",
    "idle_by_hex7_time_mean = trips_with_next.groupby([\"h3_07_pickup_next\", \"month\"])[\n",
    "    \"idle_time\"\n",
    "].mean().rename(\"idle_time_mean\")\n",
    "\n",
    "idle_by_hex7_time = pd.concat(\n",
    "\t[idle_by_hex7_time_median, idle_by_hex7_time_mean], axis=1\n",
    ").reset_index()"
   ]
  },
  {
   "cell_type": "code",
   "execution_count": null,
   "id": "e9cfe590",
   "metadata": {},
   "outputs": [],
   "source": [
    "idle_by_hex7_time[\"idle_time_median_days\"] = (\n",
    "    idle_by_hex7_time[\"idle_time_median\"].dt.total_seconds() / 60 / 60 / 24\n",
    ")\n",
    "idle_by_hex7_time[\"idle_time_mean_days\"] = (\n",
    "    idle_by_hex7_time[\"idle_time_mean\"].dt.total_seconds() / 60 / 60 / 24\n",
    ")"
   ]
  },
  {
   "cell_type": "code",
   "execution_count": null,
   "id": "4f7e3083",
   "metadata": {},
   "outputs": [],
   "source": [
    "idle_by_hex7 = idle_by_hex7_time.groupby(\"h3_07_pickup_next\").mean().reset_index()"
   ]
  },
  {
   "cell_type": "code",
   "execution_count": null,
   "id": "52cd703e",
   "metadata": {},
   "outputs": [],
   "source": [
    "idle_by_hex7.rename(columns={\"h3_07_pickup_next\":\"hex\"}, inplace=True)\n",
    "idle_by_hex7_time.rename(columns={\"h3_07_pickup_next\":\"hex\"}, inplace=True)"
   ]
  },
  {
   "cell_type": "code",
   "execution_count": null,
   "id": "992b482b",
   "metadata": {},
   "outputs": [],
   "source": [
    "import math\n",
    "\n",
    "idle_by_hex7['month'] = idle_by_hex7['month'].astype(int)\n",
    "\n",
    "idle_by_hex7.head()"
   ]
  },
  {
   "cell_type": "code",
   "execution_count": null,
   "id": "f5f4cb97",
   "metadata": {},
   "outputs": [],
   "source": [
    "idle_by_hex7['geometry'] = (idle_by_hex7.apply(add_geometry,axis=1)) \n",
    "idle_by_hex7_time['geometry'] = (idle_by_hex7.apply(add_geometry,axis=1)) "
   ]
  },
  {
   "cell_type": "code",
   "execution_count": null,
   "id": "400c6834",
   "metadata": {},
   "outputs": [],
   "source": [
    "idle_by_hex7_time['geometry'].isna().sum()\n",
    "idle_by_hex7_time = idle_by_hex7_time.dropna(axis=0)\n",
    "idle_by_hex7_time"
   ]
  },
  {
   "cell_type": "code",
   "execution_count": null,
   "id": "e490ee3b",
   "metadata": {},
   "outputs": [],
   "source": [
    "########### TEST ############### \n",
    "\n",
    "idle_by_hex7 = idle_by_hex7.sort_values('month')\n",
    "\n",
    "variable = \"idle_time_median_days\"\n",
    "\n",
    "fig = plot_frequency_test(\n",
    "    dataset=idle_by_hex7,\n",
    "    hover_name = 'hex',\n",
    "    variable=variable,\n",
    "    labels={variable: \"Idle Time in Res7\"},\n",
    "    range_color=(0, idle_by_hex7[variable].quantile(0.9)),\n",
    "    palette=\"reds\",\n",
    "\n",
    ")\n",
    "\n",
    "fig.show()"
   ]
  },
  {
   "cell_type": "code",
   "execution_count": null,
   "id": "f04bf2a9",
   "metadata": {},
   "outputs": [],
   "source": [
    "idle_by_hex7 = idle_by_hex7.sort_values('month')\n",
    "\n",
    "variable = \"idle_time_median_days\"\n",
    "\n",
    "fig = plot_frequency(\n",
    "    dataset=idle_by_hex7,\n",
    "    variable=variable,\n",
    "    labels={variable: \"Idle Time in Res7\"},\n",
    "    range_color=(0, idle_by_hex7[variable].quantile(0.9)),\n",
    "    palette=\"reds\",\n",
    "\n",
    ")\n",
    "\n",
    "fig.show()"
   ]
  }
 ],
 "metadata": {
  "kernelspec": {
   "display_name": "Python 3 (ipykernel)",
   "language": "python",
   "name": "python3"
  },
  "language_info": {
   "codemirror_mode": {
    "name": "ipython",
    "version": 3
   },
   "file_extension": ".py",
   "mimetype": "text/x-python",
   "name": "python",
   "nbconvert_exporter": "python",
   "pygments_lexer": "ipython3",
   "version": "3.10.9"
  }
 },
 "nbformat": 4,
 "nbformat_minor": 5
}
