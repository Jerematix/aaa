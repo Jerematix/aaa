{
 "cells": [
  {
   "cell_type": "code",
   "execution_count": 1,
   "id": "1c67cbee",
   "metadata": {},
   "outputs": [],
   "source": [
    "import numpy as np\n",
    "import pandas as pd\n",
    "import matplotlib.pyplot as plt\n",
    "import seaborn as sns\n",
    "import plotly.express as px\n",
    "from datetime import datetime\n",
    "from matplotlib.ticker import ScalarFormatter, FormatStrFormatter"
   ]
  },
  {
   "cell_type": "code",
   "execution_count": 2,
   "id": "0de899bd",
   "metadata": {},
   "outputs": [
    {
     "data": {
      "text/html": [
       "<div>\n",
       "<style scoped>\n",
       "    .dataframe tbody tr th:only-of-type {\n",
       "        vertical-align: middle;\n",
       "    }\n",
       "\n",
       "    .dataframe tbody tr th {\n",
       "        vertical-align: top;\n",
       "    }\n",
       "\n",
       "    .dataframe thead th {\n",
       "        text-align: right;\n",
       "    }\n",
       "</style>\n",
       "<table border=\"1\" class=\"dataframe\">\n",
       "  <thead>\n",
       "    <tr style=\"text-align: right;\">\n",
       "      <th></th>\n",
       "      <th>taxi_id</th>\n",
       "      <th>trip_start_timestamp</th>\n",
       "      <th>trip_end_timestamp</th>\n",
       "      <th>trip_seconds</th>\n",
       "      <th>trip_miles</th>\n",
       "      <th>pickup_census_tract</th>\n",
       "      <th>dropoff_census_tract</th>\n",
       "      <th>pickup_community_area</th>\n",
       "      <th>dropoff_community_area</th>\n",
       "      <th>fare</th>\n",
       "      <th>...</th>\n",
       "      <th>h3_07_dropoff</th>\n",
       "      <th>h3_08_pickup</th>\n",
       "      <th>h3_08_dropoff</th>\n",
       "      <th>h3_09_pickup</th>\n",
       "      <th>h3_09_dropoff</th>\n",
       "      <th>pickup_centroid</th>\n",
       "      <th>dropoff_centroid</th>\n",
       "      <th>datetime</th>\n",
       "      <th>temp</th>\n",
       "      <th>precip</th>\n",
       "    </tr>\n",
       "  </thead>\n",
       "  <tbody>\n",
       "    <tr>\n",
       "      <th>0</th>\n",
       "      <td>1</td>\n",
       "      <td>2015-01-01 00:00:00</td>\n",
       "      <td>2015-01-01 00:00:00</td>\n",
       "      <td>540.0</td>\n",
       "      <td>0.17</td>\n",
       "      <td>17031080300</td>\n",
       "      <td>17031063301</td>\n",
       "      <td>8</td>\n",
       "      <td>6</td>\n",
       "      <td>7.25</td>\n",
       "      <td>...</td>\n",
       "      <td>872664c10ffffff</td>\n",
       "      <td>882664c13bfffff</td>\n",
       "      <td>882664c101fffff</td>\n",
       "      <td>892664c13afffff</td>\n",
       "      <td>892664c101bffff</td>\n",
       "      <td>POINT (-87.63576009 41.90749193)</td>\n",
       "      <td>POINT (-87.643022804 41.934539716)</td>\n",
       "      <td>2015-01-01</td>\n",
       "      <td>-7.0115</td>\n",
       "      <td>0</td>\n",
       "    </tr>\n",
       "    <tr>\n",
       "      <th>1</th>\n",
       "      <td>2</td>\n",
       "      <td>2015-01-01 00:00:00</td>\n",
       "      <td>2015-01-01 00:00:00</td>\n",
       "      <td>480.0</td>\n",
       "      <td>0.90</td>\n",
       "      <td>17031320100</td>\n",
       "      <td>17031081500</td>\n",
       "      <td>32</td>\n",
       "      <td>8</td>\n",
       "      <td>6.25</td>\n",
       "      <td>...</td>\n",
       "      <td>872664c1effffff</td>\n",
       "      <td>882664c1e3fffff</td>\n",
       "      <td>882664c1e1fffff</td>\n",
       "      <td>892664c1e2fffff</td>\n",
       "      <td>892664c1e0fffff</td>\n",
       "      <td>POINT (-87.620992913 41.884987192)</td>\n",
       "      <td>POINT (-87.626214906 41.892507781)</td>\n",
       "      <td>2015-01-01</td>\n",
       "      <td>-7.0115</td>\n",
       "      <td>0</td>\n",
       "    </tr>\n",
       "    <tr>\n",
       "      <th>2</th>\n",
       "      <td>3</td>\n",
       "      <td>2015-01-01 00:15:00</td>\n",
       "      <td>2015-01-01 00:30:00</td>\n",
       "      <td>780.0</td>\n",
       "      <td>5.50</td>\n",
       "      <td>17031281900</td>\n",
       "      <td>17031063301</td>\n",
       "      <td>28</td>\n",
       "      <td>6</td>\n",
       "      <td>14.05</td>\n",
       "      <td>...</td>\n",
       "      <td>872664c10ffffff</td>\n",
       "      <td>882664c1adfffff</td>\n",
       "      <td>882664c101fffff</td>\n",
       "      <td>892664c1acfffff</td>\n",
       "      <td>892664c101bffff</td>\n",
       "      <td>POINT (-87.642648998 41.879255084)</td>\n",
       "      <td>POINT (-87.643022804 41.934539716)</td>\n",
       "      <td>2015-01-01</td>\n",
       "      <td>-7.0115</td>\n",
       "      <td>0</td>\n",
       "    </tr>\n",
       "    <tr>\n",
       "      <th>3</th>\n",
       "      <td>4</td>\n",
       "      <td>2015-01-01 00:30:00</td>\n",
       "      <td>2015-01-01 00:45:00</td>\n",
       "      <td>780.0</td>\n",
       "      <td>2.30</td>\n",
       "      <td>17031062900</td>\n",
       "      <td>17031031400</td>\n",
       "      <td>6</td>\n",
       "      <td>3</td>\n",
       "      <td>8.85</td>\n",
       "      <td>...</td>\n",
       "      <td>872664d89ffffff</td>\n",
       "      <td>882664c163fffff</td>\n",
       "      <td>882664d893fffff</td>\n",
       "      <td>892664c162fffff</td>\n",
       "      <td>892664d8923ffff</td>\n",
       "      <td>POINT (-87.656411531 41.936237179)</td>\n",
       "      <td>POINT (-87.645378762 41.962178629)</td>\n",
       "      <td>2015-01-01</td>\n",
       "      <td>-7.0115</td>\n",
       "      <td>0</td>\n",
       "    </tr>\n",
       "    <tr>\n",
       "      <th>4</th>\n",
       "      <td>5</td>\n",
       "      <td>2015-01-01 00:00:00</td>\n",
       "      <td>2015-01-01 00:15:00</td>\n",
       "      <td>600.0</td>\n",
       "      <td>2.40</td>\n",
       "      <td>17031071500</td>\n",
       "      <td>17031070700</td>\n",
       "      <td>7</td>\n",
       "      <td>7</td>\n",
       "      <td>8.85</td>\n",
       "      <td>...</td>\n",
       "      <td>872664c12ffffff</td>\n",
       "      <td>882664c115fffff</td>\n",
       "      <td>882664c121fffff</td>\n",
       "      <td>892664c114fffff</td>\n",
       "      <td>892664c1257ffff</td>\n",
       "      <td>POINT (-87.631717366 41.914616286)</td>\n",
       "      <td>POINT (-87.673807238 41.929272532)</td>\n",
       "      <td>2015-01-01</td>\n",
       "      <td>-7.0115</td>\n",
       "      <td>0</td>\n",
       "    </tr>\n",
       "  </tbody>\n",
       "</table>\n",
       "<p>5 rows × 44 columns</p>\n",
       "</div>"
      ],
      "text/plain": [
       "   taxi_id trip_start_timestamp  trip_end_timestamp  trip_seconds  trip_miles  \\\n",
       "0        1  2015-01-01 00:00:00 2015-01-01 00:00:00         540.0        0.17   \n",
       "1        2  2015-01-01 00:00:00 2015-01-01 00:00:00         480.0        0.90   \n",
       "2        3  2015-01-01 00:15:00 2015-01-01 00:30:00         780.0        5.50   \n",
       "3        4  2015-01-01 00:30:00 2015-01-01 00:45:00         780.0        2.30   \n",
       "4        5  2015-01-01 00:00:00 2015-01-01 00:15:00         600.0        2.40   \n",
       "\n",
       "   pickup_census_tract  dropoff_census_tract  pickup_community_area  \\\n",
       "0          17031080300           17031063301                      8   \n",
       "1          17031320100           17031081500                     32   \n",
       "2          17031281900           17031063301                     28   \n",
       "3          17031062900           17031031400                      6   \n",
       "4          17031071500           17031070700                      7   \n",
       "\n",
       "   dropoff_community_area   fare  ...    h3_07_dropoff     h3_08_pickup  \\\n",
       "0                       6   7.25  ...  872664c10ffffff  882664c13bfffff   \n",
       "1                       8   6.25  ...  872664c1effffff  882664c1e3fffff   \n",
       "2                       6  14.05  ...  872664c10ffffff  882664c1adfffff   \n",
       "3                       3   8.85  ...  872664d89ffffff  882664c163fffff   \n",
       "4                       7   8.85  ...  872664c12ffffff  882664c115fffff   \n",
       "\n",
       "     h3_08_dropoff     h3_09_pickup    h3_09_dropoff  \\\n",
       "0  882664c101fffff  892664c13afffff  892664c101bffff   \n",
       "1  882664c1e1fffff  892664c1e2fffff  892664c1e0fffff   \n",
       "2  882664c101fffff  892664c1acfffff  892664c101bffff   \n",
       "3  882664d893fffff  892664c162fffff  892664d8923ffff   \n",
       "4  882664c121fffff  892664c114fffff  892664c1257ffff   \n",
       "\n",
       "                      pickup_centroid                    dropoff_centroid  \\\n",
       "0    POINT (-87.63576009 41.90749193)  POINT (-87.643022804 41.934539716)   \n",
       "1  POINT (-87.620992913 41.884987192)  POINT (-87.626214906 41.892507781)   \n",
       "2  POINT (-87.642648998 41.879255084)  POINT (-87.643022804 41.934539716)   \n",
       "3  POINT (-87.656411531 41.936237179)  POINT (-87.645378762 41.962178629)   \n",
       "4  POINT (-87.631717366 41.914616286)  POINT (-87.673807238 41.929272532)   \n",
       "\n",
       "    datetime    temp  precip  \n",
       "0 2015-01-01 -7.0115       0  \n",
       "1 2015-01-01 -7.0115       0  \n",
       "2 2015-01-01 -7.0115       0  \n",
       "3 2015-01-01 -7.0115       0  \n",
       "4 2015-01-01 -7.0115       0  \n",
       "\n",
       "[5 rows x 44 columns]"
      ]
     },
     "execution_count": 2,
     "metadata": {},
     "output_type": "execute_result"
    }
   ],
   "source": [
    "#Import cleaned dataset\n",
    "\n",
    "trips_df = pd.read_parquet('../../data/rides/Taxi_Trips_Sampled_Cleaned.parquet')\n",
    "trips_df.head()"
   ]
  },
  {
   "cell_type": "code",
   "execution_count": 3,
   "id": "6528a46a",
   "metadata": {},
   "outputs": [
    {
     "data": {
      "text/html": [
       "<div>\n",
       "<style scoped>\n",
       "    .dataframe tbody tr th:only-of-type {\n",
       "        vertical-align: middle;\n",
       "    }\n",
       "\n",
       "    .dataframe tbody tr th {\n",
       "        vertical-align: top;\n",
       "    }\n",
       "\n",
       "    .dataframe thead th {\n",
       "        text-align: right;\n",
       "    }\n",
       "</style>\n",
       "<table border=\"1\" class=\"dataframe\">\n",
       "  <thead>\n",
       "    <tr style=\"text-align: right;\">\n",
       "      <th></th>\n",
       "      <th>trips_starting</th>\n",
       "      <th>trips_prev_active</th>\n",
       "      <th>ongoing_trips</th>\n",
       "      <th>day_of_year</th>\n",
       "      <th>hour</th>\n",
       "      <th>day_of_week</th>\n",
       "      <th>month</th>\n",
       "    </tr>\n",
       "  </thead>\n",
       "  <tbody>\n",
       "    <tr>\n",
       "      <th>2015-01-01 01:00:00</th>\n",
       "      <td>70.0</td>\n",
       "      <td>8.0</td>\n",
       "      <td>78.0</td>\n",
       "      <td>1</td>\n",
       "      <td>1</td>\n",
       "      <td>3</td>\n",
       "      <td>1</td>\n",
       "    </tr>\n",
       "    <tr>\n",
       "      <th>2015-01-01 02:00:00</th>\n",
       "      <td>91.0</td>\n",
       "      <td>22.0</td>\n",
       "      <td>113.0</td>\n",
       "      <td>1</td>\n",
       "      <td>2</td>\n",
       "      <td>3</td>\n",
       "      <td>1</td>\n",
       "    </tr>\n",
       "    <tr>\n",
       "      <th>2015-01-01 03:00:00</th>\n",
       "      <td>57.0</td>\n",
       "      <td>18.0</td>\n",
       "      <td>75.0</td>\n",
       "      <td>1</td>\n",
       "      <td>3</td>\n",
       "      <td>3</td>\n",
       "      <td>1</td>\n",
       "    </tr>\n",
       "    <tr>\n",
       "      <th>2015-01-01 04:00:00</th>\n",
       "      <td>17.0</td>\n",
       "      <td>6.0</td>\n",
       "      <td>23.0</td>\n",
       "      <td>1</td>\n",
       "      <td>4</td>\n",
       "      <td>3</td>\n",
       "      <td>1</td>\n",
       "    </tr>\n",
       "    <tr>\n",
       "      <th>2015-01-01 05:00:00</th>\n",
       "      <td>3.0</td>\n",
       "      <td>1.0</td>\n",
       "      <td>4.0</td>\n",
       "      <td>1</td>\n",
       "      <td>5</td>\n",
       "      <td>3</td>\n",
       "      <td>1</td>\n",
       "    </tr>\n",
       "    <tr>\n",
       "      <th>...</th>\n",
       "      <td>...</td>\n",
       "      <td>...</td>\n",
       "      <td>...</td>\n",
       "      <td>...</td>\n",
       "      <td>...</td>\n",
       "      <td>...</td>\n",
       "      <td>...</td>\n",
       "    </tr>\n",
       "    <tr>\n",
       "      <th>2015-12-31 08:00:00</th>\n",
       "      <td>8.0</td>\n",
       "      <td>2.0</td>\n",
       "      <td>10.0</td>\n",
       "      <td>365</td>\n",
       "      <td>8</td>\n",
       "      <td>3</td>\n",
       "      <td>12</td>\n",
       "    </tr>\n",
       "    <tr>\n",
       "      <th>2015-12-31 09:00:00</th>\n",
       "      <td>8.0</td>\n",
       "      <td>3.0</td>\n",
       "      <td>11.0</td>\n",
       "      <td>365</td>\n",
       "      <td>9</td>\n",
       "      <td>3</td>\n",
       "      <td>12</td>\n",
       "    </tr>\n",
       "    <tr>\n",
       "      <th>2015-12-31 10:00:00</th>\n",
       "      <td>8.0</td>\n",
       "      <td>2.0</td>\n",
       "      <td>10.0</td>\n",
       "      <td>365</td>\n",
       "      <td>10</td>\n",
       "      <td>3</td>\n",
       "      <td>12</td>\n",
       "    </tr>\n",
       "    <tr>\n",
       "      <th>2015-12-31 11:00:00</th>\n",
       "      <td>15.0</td>\n",
       "      <td>0.0</td>\n",
       "      <td>15.0</td>\n",
       "      <td>365</td>\n",
       "      <td>11</td>\n",
       "      <td>3</td>\n",
       "      <td>12</td>\n",
       "    </tr>\n",
       "    <tr>\n",
       "      <th>2015-12-31 12:00:00</th>\n",
       "      <td>2.0</td>\n",
       "      <td>3.0</td>\n",
       "      <td>5.0</td>\n",
       "      <td>365</td>\n",
       "      <td>12</td>\n",
       "      <td>3</td>\n",
       "      <td>12</td>\n",
       "    </tr>\n",
       "  </tbody>\n",
       "</table>\n",
       "<p>8355 rows × 7 columns</p>\n",
       "</div>"
      ],
      "text/plain": [
       "                     trips_starting  trips_prev_active  ongoing_trips  \\\n",
       "2015-01-01 01:00:00            70.0                8.0           78.0   \n",
       "2015-01-01 02:00:00            91.0               22.0          113.0   \n",
       "2015-01-01 03:00:00            57.0               18.0           75.0   \n",
       "2015-01-01 04:00:00            17.0                6.0           23.0   \n",
       "2015-01-01 05:00:00             3.0                1.0            4.0   \n",
       "...                             ...                ...            ...   \n",
       "2015-12-31 08:00:00             8.0                2.0           10.0   \n",
       "2015-12-31 09:00:00             8.0                3.0           11.0   \n",
       "2015-12-31 10:00:00             8.0                2.0           10.0   \n",
       "2015-12-31 11:00:00            15.0                0.0           15.0   \n",
       "2015-12-31 12:00:00             2.0                3.0            5.0   \n",
       "\n",
       "                     day_of_year  hour  day_of_week  month  \n",
       "2015-01-01 01:00:00            1     1            3      1  \n",
       "2015-01-01 02:00:00            1     2            3      1  \n",
       "2015-01-01 03:00:00            1     3            3      1  \n",
       "2015-01-01 04:00:00            1     4            3      1  \n",
       "2015-01-01 05:00:00            1     5            3      1  \n",
       "...                          ...   ...          ...    ...  \n",
       "2015-12-31 08:00:00          365     8            3     12  \n",
       "2015-12-31 09:00:00          365     9            3     12  \n",
       "2015-12-31 10:00:00          365    10            3     12  \n",
       "2015-12-31 11:00:00          365    11            3     12  \n",
       "2015-12-31 12:00:00          365    12            3     12  \n",
       "\n",
       "[8355 rows x 7 columns]"
      ]
     },
     "execution_count": 3,
     "metadata": {},
     "output_type": "execute_result"
    }
   ],
   "source": [
    "#Simplify times to full hour\n",
    "trips_df['start_time_hour'] = trips_df['trip_start_timestamp'].dt.floor('1H')\n",
    "trips_df['end_time_hour'] = trips_df['trip_end_timestamp'].dt.floor('1H')\n",
    "\n",
    "#Calculation of started and finished trips per hour\n",
    "trips_starting = (trips_df.groupby([\"start_time_hour\"]).size().to_frame(\"trips_starting\"))\n",
    "trips_ending = (trips_df.groupby([\"end_time_hour\"]).size().to_frame(\"trips_ending\"))\n",
    "\n",
    "#Combine DFs and fill empty values\n",
    "trips_hourly = pd.concat([trips_starting, trips_ending, ], axis=1)\n",
    "trips_hourly = trips_hourly.fillna(0)\n",
    "\n",
    "#Calculate difference of trips\n",
    "trips_hourly['trips_diff'] = trips_hourly['trips_starting'] - trips_hourly['trips_ending']\n",
    "trips_hourly['trips_active'] = trips_hourly['trips_diff'].cumsum()\n",
    "trips_hourly['trips_prev_active'] = trips_hourly['trips_active'].shift(1)\n",
    "\n",
    "#Keep only relevant features\n",
    "trips_hourly = trips_hourly[['trips_starting', 'trips_prev_active']]\n",
    "\n",
    "#Remove unavailable entries\n",
    "trips_hourly = trips_hourly.dropna()\n",
    "\n",
    "trips_hourly[\"ongoing_trips\"] = trips_hourly[\"trips_starting\"] + trips_hourly[\"trips_prev_active\"]\n",
    "\n",
    "trips_hourly['day_of_year'] = trips_hourly.index.day_of_year\n",
    "trips_hourly['hour'] = trips_hourly.index.hour\n",
    "trips_hourly['day_of_week'] = trips_hourly.index.day_of_week\n",
    "trips_hourly['month'] = trips_hourly.index.month\n",
    "\n",
    "trips_hourly\n"
   ]
  },
  {
   "cell_type": "code",
   "execution_count": 4,
   "id": "29b091d7",
   "metadata": {},
   "outputs": [
    {
     "data": {
      "text/html": [
       "<div>\n",
       "<style scoped>\n",
       "    .dataframe tbody tr th:only-of-type {\n",
       "        vertical-align: middle;\n",
       "    }\n",
       "\n",
       "    .dataframe tbody tr th {\n",
       "        vertical-align: top;\n",
       "    }\n",
       "\n",
       "    .dataframe thead th {\n",
       "        text-align: right;\n",
       "    }\n",
       "</style>\n",
       "<table border=\"1\" class=\"dataframe\">\n",
       "  <thead>\n",
       "    <tr style=\"text-align: right;\">\n",
       "      <th></th>\n",
       "      <th>index</th>\n",
       "      <th>trips_starting</th>\n",
       "      <th>trips_prev_active</th>\n",
       "      <th>ongoing_trips</th>\n",
       "      <th>day_of_year</th>\n",
       "      <th>hour</th>\n",
       "      <th>day_of_week</th>\n",
       "      <th>month</th>\n",
       "      <th>precip</th>\n",
       "    </tr>\n",
       "  </thead>\n",
       "  <tbody>\n",
       "    <tr>\n",
       "      <th>0</th>\n",
       "      <td>2015-01-01 01:00:00</td>\n",
       "      <td>70.0</td>\n",
       "      <td>8.0</td>\n",
       "      <td>78.0</td>\n",
       "      <td>1</td>\n",
       "      <td>1</td>\n",
       "      <td>3</td>\n",
       "      <td>1</td>\n",
       "      <td>0.0</td>\n",
       "    </tr>\n",
       "    <tr>\n",
       "      <th>70</th>\n",
       "      <td>2015-01-01 02:00:00</td>\n",
       "      <td>91.0</td>\n",
       "      <td>22.0</td>\n",
       "      <td>113.0</td>\n",
       "      <td>1</td>\n",
       "      <td>2</td>\n",
       "      <td>3</td>\n",
       "      <td>1</td>\n",
       "      <td>0.0</td>\n",
       "    </tr>\n",
       "    <tr>\n",
       "      <th>161</th>\n",
       "      <td>2015-01-01 03:00:00</td>\n",
       "      <td>57.0</td>\n",
       "      <td>18.0</td>\n",
       "      <td>75.0</td>\n",
       "      <td>1</td>\n",
       "      <td>3</td>\n",
       "      <td>3</td>\n",
       "      <td>1</td>\n",
       "      <td>0.0</td>\n",
       "    </tr>\n",
       "    <tr>\n",
       "      <th>218</th>\n",
       "      <td>2015-01-01 04:00:00</td>\n",
       "      <td>17.0</td>\n",
       "      <td>6.0</td>\n",
       "      <td>23.0</td>\n",
       "      <td>1</td>\n",
       "      <td>4</td>\n",
       "      <td>3</td>\n",
       "      <td>1</td>\n",
       "      <td>0.0</td>\n",
       "    </tr>\n",
       "    <tr>\n",
       "      <th>235</th>\n",
       "      <td>2015-01-01 05:00:00</td>\n",
       "      <td>3.0</td>\n",
       "      <td>1.0</td>\n",
       "      <td>4.0</td>\n",
       "      <td>1</td>\n",
       "      <td>5</td>\n",
       "      <td>3</td>\n",
       "      <td>1</td>\n",
       "      <td>0.0</td>\n",
       "    </tr>\n",
       "    <tr>\n",
       "      <th>...</th>\n",
       "      <td>...</td>\n",
       "      <td>...</td>\n",
       "      <td>...</td>\n",
       "      <td>...</td>\n",
       "      <td>...</td>\n",
       "      <td>...</td>\n",
       "      <td>...</td>\n",
       "      <td>...</td>\n",
       "      <td>...</td>\n",
       "    </tr>\n",
       "    <tr>\n",
       "      <th>170558</th>\n",
       "      <td>2015-12-31 08:00:00</td>\n",
       "      <td>8.0</td>\n",
       "      <td>2.0</td>\n",
       "      <td>10.0</td>\n",
       "      <td>365</td>\n",
       "      <td>8</td>\n",
       "      <td>3</td>\n",
       "      <td>12</td>\n",
       "      <td>0.0</td>\n",
       "    </tr>\n",
       "    <tr>\n",
       "      <th>170566</th>\n",
       "      <td>2015-12-31 09:00:00</td>\n",
       "      <td>8.0</td>\n",
       "      <td>3.0</td>\n",
       "      <td>11.0</td>\n",
       "      <td>365</td>\n",
       "      <td>9</td>\n",
       "      <td>3</td>\n",
       "      <td>12</td>\n",
       "      <td>0.0</td>\n",
       "    </tr>\n",
       "    <tr>\n",
       "      <th>170574</th>\n",
       "      <td>2015-12-31 10:00:00</td>\n",
       "      <td>8.0</td>\n",
       "      <td>2.0</td>\n",
       "      <td>10.0</td>\n",
       "      <td>365</td>\n",
       "      <td>10</td>\n",
       "      <td>3</td>\n",
       "      <td>12</td>\n",
       "      <td>0.0</td>\n",
       "    </tr>\n",
       "    <tr>\n",
       "      <th>170582</th>\n",
       "      <td>2015-12-31 11:00:00</td>\n",
       "      <td>15.0</td>\n",
       "      <td>0.0</td>\n",
       "      <td>15.0</td>\n",
       "      <td>365</td>\n",
       "      <td>11</td>\n",
       "      <td>3</td>\n",
       "      <td>12</td>\n",
       "      <td>0.0</td>\n",
       "    </tr>\n",
       "    <tr>\n",
       "      <th>170597</th>\n",
       "      <td>2015-12-31 12:00:00</td>\n",
       "      <td>2.0</td>\n",
       "      <td>3.0</td>\n",
       "      <td>5.0</td>\n",
       "      <td>365</td>\n",
       "      <td>12</td>\n",
       "      <td>3</td>\n",
       "      <td>12</td>\n",
       "      <td>0.0</td>\n",
       "    </tr>\n",
       "  </tbody>\n",
       "</table>\n",
       "<p>8355 rows × 9 columns</p>\n",
       "</div>"
      ],
      "text/plain": [
       "                     index  trips_starting  trips_prev_active  ongoing_trips  \\\n",
       "0      2015-01-01 01:00:00            70.0                8.0           78.0   \n",
       "70     2015-01-01 02:00:00            91.0               22.0          113.0   \n",
       "161    2015-01-01 03:00:00            57.0               18.0           75.0   \n",
       "218    2015-01-01 04:00:00            17.0                6.0           23.0   \n",
       "235    2015-01-01 05:00:00             3.0                1.0            4.0   \n",
       "...                    ...             ...                ...            ...   \n",
       "170558 2015-12-31 08:00:00             8.0                2.0           10.0   \n",
       "170566 2015-12-31 09:00:00             8.0                3.0           11.0   \n",
       "170574 2015-12-31 10:00:00             8.0                2.0           10.0   \n",
       "170582 2015-12-31 11:00:00            15.0                0.0           15.0   \n",
       "170597 2015-12-31 12:00:00             2.0                3.0            5.0   \n",
       "\n",
       "        day_of_year  hour  day_of_week  month  precip  \n",
       "0                 1     1            3      1     0.0  \n",
       "70                1     2            3      1     0.0  \n",
       "161               1     3            3      1     0.0  \n",
       "218               1     4            3      1     0.0  \n",
       "235               1     5            3      1     0.0  \n",
       "...             ...   ...          ...    ...     ...  \n",
       "170558          365     8            3     12     0.0  \n",
       "170566          365     9            3     12     0.0  \n",
       "170574          365    10            3     12     0.0  \n",
       "170582          365    11            3     12     0.0  \n",
       "170597          365    12            3     12     0.0  \n",
       "\n",
       "[8355 rows x 9 columns]"
      ]
     },
     "execution_count": 4,
     "metadata": {},
     "output_type": "execute_result"
    }
   ],
   "source": [
    "# Create a copy of the 'trips_df' DataFrame and set the floored datetime as the index\n",
    "trips_df_copy = trips_df.copy()\n",
    "trips_df_copy.set_index(trips_df_copy['trip_start_timestamp'].dt.floor('H'), inplace=True)\n",
    "\n",
    "# Select the relevant columns from 'trips_df_copy' to merge into 'trips_hourly'\n",
    "precip_columns = ['precip']\n",
    "\n",
    "# Create a new DataFrame with only the relevant columns from 'trips_df_copy'\n",
    "precip_data = trips_df_copy[precip_columns]\n",
    "\n",
    "# Merge 'precip_data' into 'trips_hourly' based on the datetime index\n",
    "trips_hourly_with_precip = trips_hourly.merge(precip_data, left_index=True, right_index=True, how='left')\n",
    "trips_hourly_with_precip = trips_hourly_with_precip.reset_index()\n",
    "\n",
    "trips_hourly_with_precip = trips_hourly_with_precip.drop_duplicates(subset=['index'])\n",
    "\n",
    "trips_hourly_with_precip"
   ]
  },
  {
   "cell_type": "code",
   "execution_count": 5,
   "id": "7ab2dc6e",
   "metadata": {},
   "outputs": [
    {
     "data": {
      "image/png": "[encoded data removed]",
      "text/plain": [
       "<Figure size 1000x400 with 1 Axes>"
      ]
     },
     "metadata": {},
     "output_type": "display_data"
    },
    {
     "data": {
      "image/png": "[encoded data removed]",
      "text/plain": [
       "<Figure size 1000x400 with 1 Axes>"
      ]
     },
     "metadata": {},
     "output_type": "display_data"
    }
   ],
   "source": [
    "trips_hourly_hour = trips_hourly.groupby([\"day_of_year\",\"hour\"])[\"ongoing_trips\"].sum()\n",
    "trips_hourly_hour = pd.DataFrame(trips_hourly_hour)\n",
    "hour=[0, 1, 2, 3, 4, 5, 6, 7, 8, 9, 10, 11, 12, 13, 14, 15, 16, 17, 18, 19, 20, 21, 22, 23]\n",
    "\n",
    "fig, ax1 = plt.subplots(figsize=(10, 4))\n",
    "sns.boxplot(x=trips_hourly_hour.index.get_level_values(1), y=trips_hourly_hour[\"ongoing_trips\"], ax=ax1, palette=\"magma\", showfliers=False)\n",
    "ax1.set_title(\"Taxi Usage depending on the Time of Day\", fontsize=18, fontname=\"Arial\")\n",
    "ax1.set_xlabel(\"Hour\")\n",
    "ax1.set_ylabel(\"Usage\")\n",
    "ax1.set_xticklabels(hour)\n",
    "\n",
    "\n",
    "\n",
    "weekday=['Monday','Tuesday','Wednesday','Thursday','Friday','Saturday','Sunday']\n",
    "trips_hourly_week = trips_hourly.groupby([\"day_of_year\",\"day_of_week\"])[\"ongoing_trips\"].sum()\n",
    "trips_hourly_week = pd.DataFrame(trips_hourly_week)\n",
    "\n",
    "fig, ax2 = plt.subplots(figsize=(10, 4))\n",
    "sns.boxplot(x=trips_hourly_week.index.get_level_values(1), y=trips_hourly_week[\"ongoing_trips\"], ax=ax2, palette=\"magma\", showfliers=False)\n",
    "ax2.set_title(\"Taxi Usage depending on the Day of Week\", fontsize=18, fontname=\"Arial\")\n",
    "ax2.set_xlabel(\"Weekday\")\n",
    "ax2.set_ylabel(\"Usage\")\n",
    "ax2.set_xticklabels(weekday)\n",
    "plt.show()\n"
   ]
  },
  {
   "cell_type": "code",
   "execution_count": 6,
   "id": "51b2a149",
   "metadata": {},
   "outputs": [
    {
     "data": {
      "image/png": "[encoded data removed]",
      "text/plain": [
       "<Figure size 1000x400 with 1 Axes>"
      ]
     },
     "metadata": {},
     "output_type": "display_data"
    }
   ],
   "source": [
    "# Create a new column for the 4-hour blocks\n",
    "trips_hourly['4_hour_block'] = trips_hourly['hour'] // 4\n",
    "\n",
    "# Group by the new 4-hour block column and aggregate the data\n",
    "trips_hourly_block = trips_hourly.groupby(['day_of_year', '4_hour_block'])[['trips_starting', 'trips_prev_active', 'ongoing_trips']].sum().reset_index()\n",
    "\n",
    "# Displaying values graphically\n",
    "fig, ax = plt.subplots(figsize=(10, 4))\n",
    "sns.boxplot(x=trips_hourly_block['4_hour_block'], y=trips_hourly_block['ongoing_trips'], ax=ax, palette='magma', showfliers=False)\n",
    "ax.set_title('Taxi Usage depending on 4-Hour Blocks of the Day', fontsize=18, fontname='Arial')\n",
    "ax.set_xlabel('4-Hour Block')\n",
    "ax.set_ylabel('Usage')\n",
    "plt.tight_layout()\n",
    "plt.show()\n"
   ]
  },
  {
   "cell_type": "code",
   "execution_count": 7,
   "id": "d15181aa",
   "metadata": {},
   "outputs": [
    {
     "name": "stdout",
     "output_type": "stream",
     "text": [
      "210853.0\n",
      "Total ongoing trips for hour==1: 5973.0\n"
     ]
    }
   ],
   "source": [
    "################# Why is number of ongoing trips higher than the size of our datadrame (171339)? ###############\n",
    "print(trips_hourly_hour['ongoing_trips'].sum())\n",
    "trips_hourly_hour\n",
    "\n",
    "hour_1_data = trips_hourly_hour[trips_hourly_hour.index.get_level_values('hour') == 1]\n",
    "\n",
    "sum_ongoing_trips_hour_1 = hour_1_data['ongoing_trips'].sum()\n",
    "\n",
    "print(\"Total ongoing trips for hour==1:\", sum_ongoing_trips_hour_1)"
   ]
  },
  {
   "cell_type": "code",
   "execution_count": 8,
   "id": "13e0e30f",
   "metadata": {},
   "outputs": [
    {
     "data": {
      "image/png": "[encoded data removed]",
      "text/plain": [
       "<Figure size 1200x400 with 2 Axes>"
      ]
     },
     "metadata": {},
     "output_type": "display_data"
    }
   ],
   "source": [
    "trips_monthly = trips_hourly.groupby([\"month\"])[\"ongoing_trips\"].sum().reset_index()\n",
    "trips_monthly = pd.DataFrame(trips_monthly)\n",
    "\n",
    "fig,ax = plt.subplots(figsize=(12,4)) \n",
    "sns.barplot(data=trips_monthly, x=\"month\", y=\"ongoing_trips\", palette=\"magma\", ax=ax)\n",
    "ax.set_title(\"Taxi usage depending on the month and temperature\", fontsize=18, fontname=\"Arial\")\n",
    "ax.set_xlabel(\"Month\")\n",
    "ax.set_ylabel(\"Usage\")\n",
    "\n",
    "ax2 = ax.twinx()\n",
    "# month start -1 to fit it to the taxi usage \n",
    "sns.lineplot(x=(trips_df[\"month_start\"]-1), y=trips_df[\"temp\"], ax=ax2, color='red', marker='o')\n",
    "ax2.set_ylabel(\"Maximal temperature in °C\")\n",
    "ax.yaxis.grid(False)"
   ]
  },
  {
   "cell_type": "code",
   "execution_count": 9,
   "id": "4d29d612",
   "metadata": {},
   "outputs": [
    {
     "data": {
      "image/png": "[encoded data removed]",
      "text/plain": [
       "<Figure size 1000x400 with 1 Axes>"
      ]
     },
     "metadata": {},
     "output_type": "display_data"
    }
   ],
   "source": [
    "\n",
    "#group by precipitation and plot\n",
    "trips_precip = trips_hourly_with_precip.groupby([\"day_of_year\",\"precip\"])[\"ongoing_trips\"].sum()\n",
    "trips_precip = pd.DataFrame(trips_precip)\n",
    "\n",
    "fig,ax = plt.subplots(figsize=(10,4)) \n",
    "\n",
    "sns.boxplot(x=trips_precip.index.get_level_values(1), y=trips_precip[\"ongoing_trips\"],ax=ax, palette=\"magma\", showfliers=False)\n",
    "ax.set_title(\"Taxi Usage depending on Precipitation\", fontsize=18, fontname=\"Arial\")\n",
    "ax.set_xlabel(\"Precipitation\")\n",
    "ax.set_ylabel(\"Usage\")\n",
    "\n",
    "\n",
    "ax.xaxis.set_major_formatter(FormatStrFormatter('%.0f'))\n",
    "plt.show()"
   ]
  },
  {
   "cell_type": "code",
   "execution_count": 10,
   "id": "3155379b",
   "metadata": {},
   "outputs": [],
   "source": [
    "trips_precip = trips_precip.reset_index()\n",
    "\n",
    "precip_count = (trips_precip['precip'] == 1.0).sum()\n",
    "non_precip_count = (trips_precip['precip'] == 0.0).sum()\n",
    "\n",
    "ratio = precip_count / non_precip_count"
   ]
  },
  {
   "cell_type": "code",
   "execution_count": 14,
   "id": "b7cef497",
   "metadata": {},
   "outputs": [
    {
     "data": {
      "application/vnd.plotly.v1+json": {
       "config": {
        "plotlyServerURL": "https://plot.ly"
       },
       "data": [
        {
         "domain": {
          "x": [
           0,
           1
          ],
          "y": [
           0,
           1
          ]
         },
         "hovertemplate": "label=%{label}<br>value=%{value}<extra></extra>",
         "labels": [
          "Precip",
          "Non Precip"
         ],
         "legendgroup": "",
         "name": "",
         "showlegend": true,
         "type": "pie",
         "values": [
          16,
          364
         ]
        }
       ],
       "layout": {
        "legend": {
         "tracegroupgap": 0
        },
        "piecolorway": [
         "#4B2991",
         "#F6A97A"
        ],
        "template": {
         "data": {
          "bar": [
           {
            "error_x": {
             "color": "#2a3f5f"
            },
            "error_y": {
             "color": "#2a3f5f"
            },
            "marker": {
             "line": {
              "color": "#E5ECF6",
              "width": 0.5
             },
             "pattern": {
              "fillmode": "overlay",
              "size": 10,
              "solidity": 0.2
             }
            },
            "type": "bar"
           }
          ],
          "barpolar": [
           {
            "marker": {
             "line": {
              "color": "#E5ECF6",
              "width": 0.5
             },
             "pattern": {
              "fillmode": "overlay",
              "size": 10,
              "solidity": 0.2
             }
            },
            "type": "barpolar"
           }
          ],
          "carpet": [
           {
            "aaxis": {
             "endlinecolor": "#2a3f5f",
             "gridcolor": "white",
             "linecolor": "white",
             "minorgridcolor": "white",
             "startlinecolor": "#2a3f5f"
            },
            "baxis": {
             "endlinecolor": "#2a3f5f",
             "gridcolor": "white",
             "linecolor": "white",
             "minorgridcolor": "white",
             "startlinecolor": "#2a3f5f"
            },
            "type": "carpet"
           }
          ],
          "choropleth": [
           {
            "colorbar": {
             "outlinewidth": 0,
             "ticks": ""
            },
            "type": "choropleth"
           }
          ],
          "contour": [
           {
            "colorbar": {
             "outlinewidth": 0,
             "ticks": ""
            },
            "colorscale": [
             [
              0,
              "#0d0887"
             ],
             [
              0.1111111111111111,
              "#46039f"
             ],
             [
              0.2222222222222222,
              "#7201a8"
             ],
             [
              0.3333333333333333,
              "#9c179e"
             ],
             [
              0.4444444444444444,
              "#bd3786"
             ],
             [
              0.5555555555555556,
              "#d8576b"
             ],
             [
              0.6666666666666666,
              "#ed7953"
             ],
             [
              0.7777777777777778,
              "#fb9f3a"
             ],
             [
              0.8888888888888888,
              "#fdca26"
             ],
             [
              1,
              "#f0f921"
             ]
            ],
            "type": "contour"
           }
          ],
          "contourcarpet": [
           {
            "colorbar": {
             "outlinewidth": 0,
             "ticks": ""
            },
            "type": "contourcarpet"
           }
          ],
          "heatmap": [
           {
            "colorbar": {
             "outlinewidth": 0,
             "ticks": ""
            },
            "colorscale": [
             [
              0,
              "#0d0887"
             ],
             [
              0.1111111111111111,
              "#46039f"
             ],
             [
              0.2222222222222222,
              "#7201a8"
             ],
             [
              0.3333333333333333,
              "#9c179e"
             ],
             [
              0.4444444444444444,
              "#bd3786"
             ],
             [
              0.5555555555555556,
              "#d8576b"
             ],
             [
              0.6666666666666666,
              "#ed7953"
             ],
             [
              0.7777777777777778,
              "#fb9f3a"
             ],
             [
              0.8888888888888888,
              "#fdca26"
             ],
             [
              1,
              "#f0f921"
             ]
            ],
            "type": "heatmap"
           }
          ],
          "heatmapgl": [
           {
            "colorbar": {
             "outlinewidth": 0,
             "ticks": ""
            },
            "colorscale": [
             [
              0,
              "#0d0887"
             ],
             [
              0.1111111111111111,
              "#46039f"
             ],
             [
              0.2222222222222222,
              "#7201a8"
             ],
             [
              0.3333333333333333,
              "#9c179e"
             ],
             [
              0.4444444444444444,
              "#bd3786"
             ],
             [
              0.5555555555555556,
              "#d8576b"
             ],
             [
              0.6666666666666666,
              "#ed7953"
             ],
             [
              0.7777777777777778,
              "#fb9f3a"
             ],
             [
              0.8888888888888888,
              "#fdca26"
             ],
             [
              1,
              "#f0f921"
             ]
            ],
            "type": "heatmapgl"
           }
          ],
          "histogram": [
           {
            "marker": {
             "pattern": {
              "fillmode": "overlay",
              "size": 10,
              "solidity": 0.2
             }
            },
            "type": "histogram"
           }
          ],
          "histogram2d": [
           {
            "colorbar": {
             "outlinewidth": 0,
             "ticks": ""
            },
            "colorscale": [
             [
              0,
              "#0d0887"
             ],
             [
              0.1111111111111111,
              "#46039f"
             ],
             [
              0.2222222222222222,
              "#7201a8"
             ],
             [
              0.3333333333333333,
              "#9c179e"
             ],
             [
              0.4444444444444444,
              "#bd3786"
             ],
             [
              0.5555555555555556,
              "#d8576b"
             ],
             [
              0.6666666666666666,
              "#ed7953"
             ],
             [
              0.7777777777777778,
              "#fb9f3a"
             ],
             [
              0.8888888888888888,
              "#fdca26"
             ],
             [
              1,
              "#f0f921"
             ]
            ],
            "type": "histogram2d"
           }
          ],
          "histogram2dcontour": [
           {
            "colorbar": {
             "outlinewidth": 0,
             "ticks": ""
            },
            "colorscale": [
             [
              0,
              "#0d0887"
             ],
             [
              0.1111111111111111,
              "#46039f"
             ],
             [
              0.2222222222222222,
              "#7201a8"
             ],
             [
              0.3333333333333333,
              "#9c179e"
             ],
             [
              0.4444444444444444,
              "#bd3786"
             ],
             [
              0.5555555555555556,
              "#d8576b"
             ],
             [
              0.6666666666666666,
              "#ed7953"
             ],
             [
              0.7777777777777778,
              "#fb9f3a"
             ],
             [
              0.8888888888888888,
              "#fdca26"
             ],
             [
              1,
              "#f0f921"
             ]
            ],
            "type": "histogram2dcontour"
           }
          ],
          "mesh3d": [
           {
            "colorbar": {
             "outlinewidth": 0,
             "ticks": ""
            },
            "type": "mesh3d"
           }
          ],
          "parcoords": [
           {
            "line": {
             "colorbar": {
              "outlinewidth": 0,
              "ticks": ""
             }
            },
            "type": "parcoords"
           }
          ],
          "pie": [
           {
            "automargin": true,
            "type": "pie"
           }
          ],
          "scatter": [
           {
            "fillpattern": {
             "fillmode": "overlay",
             "size": 10,
             "solidity": 0.2
            },
            "type": "scatter"
           }
          ],
          "scatter3d": [
           {
            "line": {
             "colorbar": {
              "outlinewidth": 0,
              "ticks": ""
             }
            },
            "marker": {
             "colorbar": {
              "outlinewidth": 0,
              "ticks": ""
             }
            },
            "type": "scatter3d"
           }
          ],
          "scattercarpet": [
           {
            "marker": {
             "colorbar": {
              "outlinewidth": 0,
              "ticks": ""
             }
            },
            "type": "scattercarpet"
           }
          ],
          "scattergeo": [
           {
            "marker": {
             "colorbar": {
              "outlinewidth": 0,
              "ticks": ""
             }
            },
            "type": "scattergeo"
           }
          ],
          "scattergl": [
           {
            "marker": {
             "colorbar": {
              "outlinewidth": 0,
              "ticks": ""
             }
            },
            "type": "scattergl"
           }
          ],
          "scattermapbox": [
           {
            "marker": {
             "colorbar": {
              "outlinewidth": 0,
              "ticks": ""
             }
            },
            "type": "scattermapbox"
           }
          ],
          "scatterpolar": [
           {
            "marker": {
             "colorbar": {
              "outlinewidth": 0,
              "ticks": ""
             }
            },
            "type": "scatterpolar"
           }
          ],
          "scatterpolargl": [
           {
            "marker": {
             "colorbar": {
              "outlinewidth": 0,
              "ticks": ""
             }
            },
            "type": "scatterpolargl"
           }
          ],
          "scatterternary": [
           {
            "marker": {
             "colorbar": {
              "outlinewidth": 0,
              "ticks": ""
             }
            },
            "type": "scatterternary"
           }
          ],
          "surface": [
           {
            "colorbar": {
             "outlinewidth": 0,
             "ticks": ""
            },
            "colorscale": [
             [
              0,
              "#0d0887"
             ],
             [
              0.1111111111111111,
              "#46039f"
             ],
             [
              0.2222222222222222,
              "#7201a8"
             ],
             [
              0.3333333333333333,
              "#9c179e"
             ],
             [
              0.4444444444444444,
              "#bd3786"
             ],
             [
              0.5555555555555556,
              "#d8576b"
             ],
             [
              0.6666666666666666,
              "#ed7953"
             ],
             [
              0.7777777777777778,
              "#fb9f3a"
             ],
             [
              0.8888888888888888,
              "#fdca26"
             ],
             [
              1,
              "#f0f921"
             ]
            ],
            "type": "surface"
           }
          ],
          "table": [
           {
            "cells": {
             "fill": {
              "color": "#EBF0F8"
             },
             "line": {
              "color": "white"
             }
            },
            "header": {
             "fill": {
              "color": "#C8D4E3"
             },
             "line": {
              "color": "white"
             }
            },
            "type": "table"
           }
          ]
         },
         "layout": {
          "annotationdefaults": {
           "arrowcolor": "#2a3f5f",
           "arrowhead": 0,
           "arrowwidth": 1
          },
          "autotypenumbers": "strict",
          "coloraxis": {
           "colorbar": {
            "outlinewidth": 0,
            "ticks": ""
           }
          },
          "colorscale": {
           "diverging": [
            [
             0,
             "#8e0152"
            ],
            [
             0.1,
             "#c51b7d"
            ],
            [
             0.2,
             "#de77ae"
            ],
            [
             0.3,
             "#f1b6da"
            ],
            [
             0.4,
             "#fde0ef"
            ],
            [
             0.5,
             "#f7f7f7"
            ],
            [
             0.6,
             "#e6f5d0"
            ],
            [
             0.7,
             "#b8e186"
            ],
            [
             0.8,
             "#7fbc41"
            ],
            [
             0.9,
             "#4d9221"
            ],
            [
             1,
             "#276419"
            ]
           ],
           "sequential": [
            [
             0,
             "#0d0887"
            ],
            [
             0.1111111111111111,
             "#46039f"
            ],
            [
             0.2222222222222222,
             "#7201a8"
            ],
            [
             0.3333333333333333,
             "#9c179e"
            ],
            [
             0.4444444444444444,
             "#bd3786"
            ],
            [
             0.5555555555555556,
             "#d8576b"
            ],
            [
             0.6666666666666666,
             "#ed7953"
            ],
            [
             0.7777777777777778,
             "#fb9f3a"
            ],
            [
             0.8888888888888888,
             "#fdca26"
            ],
            [
             1,
             "#f0f921"
            ]
           ],
           "sequentialminus": [
            [
             0,
             "#0d0887"
            ],
            [
             0.1111111111111111,
             "#46039f"
            ],
            [
             0.2222222222222222,
             "#7201a8"
            ],
            [
             0.3333333333333333,
             "#9c179e"
            ],
            [
             0.4444444444444444,
             "#bd3786"
            ],
            [
             0.5555555555555556,
             "#d8576b"
            ],
            [
             0.6666666666666666,
             "#ed7953"
            ],
            [
             0.7777777777777778,
             "#fb9f3a"
            ],
            [
             0.8888888888888888,
             "#fdca26"
            ],
            [
             1,
             "#f0f921"
            ]
           ]
          },
          "colorway": [
           "#636efa",
           "#EF553B",
           "#00cc96",
           "#ab63fa",
           "#FFA15A",
           "#19d3f3",
           "#FF6692",
           "#B6E880",
           "#FF97FF",
           "#FECB52"
          ],
          "font": {
           "color": "#2a3f5f"
          },
          "geo": {
           "bgcolor": "white",
           "lakecolor": "white",
           "landcolor": "#E5ECF6",
           "showlakes": true,
           "showland": true,
           "subunitcolor": "white"
          },
          "hoverlabel": {
           "align": "left"
          },
          "hovermode": "closest",
          "mapbox": {
           "style": "light"
          },
          "paper_bgcolor": "white",
          "plot_bgcolor": "#E5ECF6",
          "polar": {
           "angularaxis": {
            "gridcolor": "white",
            "linecolor": "white",
            "ticks": ""
           },
           "bgcolor": "#E5ECF6",
           "radialaxis": {
            "gridcolor": "white",
            "linecolor": "white",
            "ticks": ""
           }
          },
          "scene": {
           "xaxis": {
            "backgroundcolor": "#E5ECF6",
            "gridcolor": "white",
            "gridwidth": 2,
            "linecolor": "white",
            "showbackground": true,
            "ticks": "",
            "zerolinecolor": "white"
           },
           "yaxis": {
            "backgroundcolor": "#E5ECF6",
            "gridcolor": "white",
            "gridwidth": 2,
            "linecolor": "white",
            "showbackground": true,
            "ticks": "",
            "zerolinecolor": "white"
           },
           "zaxis": {
            "backgroundcolor": "#E5ECF6",
            "gridcolor": "white",
            "gridwidth": 2,
            "linecolor": "white",
            "showbackground": true,
            "ticks": "",
            "zerolinecolor": "white"
           }
          },
          "shapedefaults": {
           "line": {
            "color": "#2a3f5f"
           }
          },
          "ternary": {
           "aaxis": {
            "gridcolor": "white",
            "linecolor": "white",
            "ticks": ""
           },
           "baxis": {
            "gridcolor": "white",
            "linecolor": "white",
            "ticks": ""
           },
           "bgcolor": "#E5ECF6",
           "caxis": {
            "gridcolor": "white",
            "linecolor": "white",
            "ticks": ""
           }
          },
          "title": {
           "x": 0.05
          },
          "xaxis": {
           "automargin": true,
           "gridcolor": "white",
           "linecolor": "white",
           "ticks": "",
           "title": {
            "standoff": 15
           },
           "zerolinecolor": "white",
           "zerolinewidth": 2
          },
          "yaxis": {
           "automargin": true,
           "gridcolor": "white",
           "linecolor": "white",
           "ticks": "",
           "title": {
            "standoff": 15
           },
           "zerolinecolor": "white",
           "zerolinewidth": 2
          }
         }
        },
        "title": {
         "text": "Ratio of Precipitation to No Precipitation"
        }
       }
      },
      "text/html": [
       "<div>                            <div id=\"4a503b64-be58-49c4-b17f-06ea8f9cd80d\" class=\"plotly-graph-div\" style=\"height:525px; width:100%;\"></div>            <script type=\"text/javascript\">                require([\"plotly\"], function(Plotly) {                    window.PLOTLYENV=window.PLOTLYENV || {};                                    if (document.getElementById(\"4a503b64-be58-49c4-b17f-06ea8f9cd80d\")) {                    Plotly.newPlot(                        \"4a503b64-be58-49c4-b17f-06ea8f9cd80d\",                        [{\"domain\":{\"x\":[0.0,1.0],\"y\":[0.0,1.0]},\"hovertemplate\":\"label=%{label}<br>value=%{value}<extra></extra>\",\"labels\":[\"Precip\",\"Non Precip\"],\"legendgroup\":\"\",\"name\":\"\",\"showlegend\":true,\"values\":[16,364],\"type\":\"pie\"}],                        {\"template\":{\"data\":{\"histogram2dcontour\":[{\"type\":\"histogram2dcontour\",\"colorbar\":{\"outlinewidth\":0,\"ticks\":\"\"},\"colorscale\":[[0.0,\"#0d0887\"],[0.1111111111111111,\"#46039f\"],[0.2222222222222222,\"#7201a8\"],[0.3333333333333333,\"#9c179e\"],[0.4444444444444444,\"#bd3786\"],[0.5555555555555556,\"#d8576b\"],[0.6666666666666666,\"#ed7953\"],[0.7777777777777778,\"#fb9f3a\"],[0.8888888888888888,\"#fdca26\"],[1.0,\"#f0f921\"]]}],\"choropleth\":[{\"type\":\"choropleth\",\"colorbar\":{\"outlinewidth\":0,\"ticks\":\"\"}}],\"histogram2d\":[{\"type\":\"histogram2d\",\"colorbar\":{\"outlinewidth\":0,\"ticks\":\"\"},\"colorscale\":[[0.0,\"#0d0887\"],[0.1111111111111111,\"#46039f\"],[0.2222222222222222,\"#7201a8\"],[0.3333333333333333,\"#9c179e\"],[0.4444444444444444,\"#bd3786\"],[0.5555555555555556,\"#d8576b\"],[0.6666666666666666,\"#ed7953\"],[0.7777777777777778,\"#fb9f3a\"],[0.8888888888888888,\"#fdca26\"],[1.0,\"#f0f921\"]]}],\"heatmap\":[{\"type\":\"heatmap\",\"colorbar\":{\"outlinewidth\":0,\"ticks\":\"\"},\"colorscale\":[[0.0,\"#0d0887\"],[0.1111111111111111,\"#46039f\"],[0.2222222222222222,\"#7201a8\"],[0.3333333333333333,\"#9c179e\"],[0.4444444444444444,\"#bd3786\"],[0.5555555555555556,\"#d8576b\"],[0.6666666666666666,\"#ed7953\"],[0.7777777777777778,\"#fb9f3a\"],[0.8888888888888888,\"#fdca26\"],[1.0,\"#f0f921\"]]}],\"heatmapgl\":[{\"type\":\"heatmapgl\",\"colorbar\":{\"outlinewidth\":0,\"ticks\":\"\"},\"colorscale\":[[0.0,\"#0d0887\"],[0.1111111111111111,\"#46039f\"],[0.2222222222222222,\"#7201a8\"],[0.3333333333333333,\"#9c179e\"],[0.4444444444444444,\"#bd3786\"],[0.5555555555555556,\"#d8576b\"],[0.6666666666666666,\"#ed7953\"],[0.7777777777777778,\"#fb9f3a\"],[0.8888888888888888,\"#fdca26\"],[1.0,\"#f0f921\"]]}],\"contourcarpet\":[{\"type\":\"contourcarpet\",\"colorbar\":{\"outlinewidth\":0,\"ticks\":\"\"}}],\"contour\":[{\"type\":\"contour\",\"colorbar\":{\"outlinewidth\":0,\"ticks\":\"\"},\"colorscale\":[[0.0,\"#0d0887\"],[0.1111111111111111,\"#46039f\"],[0.2222222222222222,\"#7201a8\"],[0.3333333333333333,\"#9c179e\"],[0.4444444444444444,\"#bd3786\"],[0.5555555555555556,\"#d8576b\"],[0.6666666666666666,\"#ed7953\"],[0.7777777777777778,\"#fb9f3a\"],[0.8888888888888888,\"#fdca26\"],[1.0,\"#f0f921\"]]}],\"surface\":[{\"type\":\"surface\",\"colorbar\":{\"outlinewidth\":0,\"ticks\":\"\"},\"colorscale\":[[0.0,\"#0d0887\"],[0.1111111111111111,\"#46039f\"],[0.2222222222222222,\"#7201a8\"],[0.3333333333333333,\"#9c179e\"],[0.4444444444444444,\"#bd3786\"],[0.5555555555555556,\"#d8576b\"],[0.6666666666666666,\"#ed7953\"],[0.7777777777777778,\"#fb9f3a\"],[0.8888888888888888,\"#fdca26\"],[1.0,\"#f0f921\"]]}],\"mesh3d\":[{\"type\":\"mesh3d\",\"colorbar\":{\"outlinewidth\":0,\"ticks\":\"\"}}],\"scatter\":[{\"fillpattern\":{\"fillmode\":\"overlay\",\"size\":10,\"solidity\":0.2},\"type\":\"scatter\"}],\"parcoords\":[{\"type\":\"parcoords\",\"line\":{\"colorbar\":{\"outlinewidth\":0,\"ticks\":\"\"}}}],\"scatterpolargl\":[{\"type\":\"scatterpolargl\",\"marker\":{\"colorbar\":{\"outlinewidth\":0,\"ticks\":\"\"}}}],\"bar\":[{\"error_x\":{\"color\":\"#2a3f5f\"},\"error_y\":{\"color\":\"#2a3f5f\"},\"marker\":{\"line\":{\"color\":\"#E5ECF6\",\"width\":0.5},\"pattern\":{\"fillmode\":\"overlay\",\"size\":10,\"solidity\":0.2}},\"type\":\"bar\"}],\"scattergeo\":[{\"type\":\"scattergeo\",\"marker\":{\"colorbar\":{\"outlinewidth\":0,\"ticks\":\"\"}}}],\"scatterpolar\":[{\"type\":\"scatterpolar\",\"marker\":{\"colorbar\":{\"outlinewidth\":0,\"ticks\":\"\"}}}],\"histogram\":[{\"marker\":{\"pattern\":{\"fillmode\":\"overlay\",\"size\":10,\"solidity\":0.2}},\"type\":\"histogram\"}],\"scattergl\":[{\"type\":\"scattergl\",\"marker\":{\"colorbar\":{\"outlinewidth\":0,\"ticks\":\"\"}}}],\"scatter3d\":[{\"type\":\"scatter3d\",\"line\":{\"colorbar\":{\"outlinewidth\":0,\"ticks\":\"\"}},\"marker\":{\"colorbar\":{\"outlinewidth\":0,\"ticks\":\"\"}}}],\"scattermapbox\":[{\"type\":\"scattermapbox\",\"marker\":{\"colorbar\":{\"outlinewidth\":0,\"ticks\":\"\"}}}],\"scatterternary\":[{\"type\":\"scatterternary\",\"marker\":{\"colorbar\":{\"outlinewidth\":0,\"ticks\":\"\"}}}],\"scattercarpet\":[{\"type\":\"scattercarpet\",\"marker\":{\"colorbar\":{\"outlinewidth\":0,\"ticks\":\"\"}}}],\"carpet\":[{\"aaxis\":{\"endlinecolor\":\"#2a3f5f\",\"gridcolor\":\"white\",\"linecolor\":\"white\",\"minorgridcolor\":\"white\",\"startlinecolor\":\"#2a3f5f\"},\"baxis\":{\"endlinecolor\":\"#2a3f5f\",\"gridcolor\":\"white\",\"linecolor\":\"white\",\"minorgridcolor\":\"white\",\"startlinecolor\":\"#2a3f5f\"},\"type\":\"carpet\"}],\"table\":[{\"cells\":{\"fill\":{\"color\":\"#EBF0F8\"},\"line\":{\"color\":\"white\"}},\"header\":{\"fill\":{\"color\":\"#C8D4E3\"},\"line\":{\"color\":\"white\"}},\"type\":\"table\"}],\"barpolar\":[{\"marker\":{\"line\":{\"color\":\"#E5ECF6\",\"width\":0.5},\"pattern\":{\"fillmode\":\"overlay\",\"size\":10,\"solidity\":0.2}},\"type\":\"barpolar\"}],\"pie\":[{\"automargin\":true,\"type\":\"pie\"}]},\"layout\":{\"autotypenumbers\":\"strict\",\"colorway\":[\"#636efa\",\"#EF553B\",\"#00cc96\",\"#ab63fa\",\"#FFA15A\",\"#19d3f3\",\"#FF6692\",\"#B6E880\",\"#FF97FF\",\"#FECB52\"],\"font\":{\"color\":\"#2a3f5f\"},\"hovermode\":\"closest\",\"hoverlabel\":{\"align\":\"left\"},\"paper_bgcolor\":\"white\",\"plot_bgcolor\":\"#E5ECF6\",\"polar\":{\"bgcolor\":\"#E5ECF6\",\"angularaxis\":{\"gridcolor\":\"white\",\"linecolor\":\"white\",\"ticks\":\"\"},\"radialaxis\":{\"gridcolor\":\"white\",\"linecolor\":\"white\",\"ticks\":\"\"}},\"ternary\":{\"bgcolor\":\"#E5ECF6\",\"aaxis\":{\"gridcolor\":\"white\",\"linecolor\":\"white\",\"ticks\":\"\"},\"baxis\":{\"gridcolor\":\"white\",\"linecolor\":\"white\",\"ticks\":\"\"},\"caxis\":{\"gridcolor\":\"white\",\"linecolor\":\"white\",\"ticks\":\"\"}},\"coloraxis\":{\"colorbar\":{\"outlinewidth\":0,\"ticks\":\"\"}},\"colorscale\":{\"sequential\":[[0.0,\"#0d0887\"],[0.1111111111111111,\"#46039f\"],[0.2222222222222222,\"#7201a8\"],[0.3333333333333333,\"#9c179e\"],[0.4444444444444444,\"#bd3786\"],[0.5555555555555556,\"#d8576b\"],[0.6666666666666666,\"#ed7953\"],[0.7777777777777778,\"#fb9f3a\"],[0.8888888888888888,\"#fdca26\"],[1.0,\"#f0f921\"]],\"sequentialminus\":[[0.0,\"#0d0887\"],[0.1111111111111111,\"#46039f\"],[0.2222222222222222,\"#7201a8\"],[0.3333333333333333,\"#9c179e\"],[0.4444444444444444,\"#bd3786\"],[0.5555555555555556,\"#d8576b\"],[0.6666666666666666,\"#ed7953\"],[0.7777777777777778,\"#fb9f3a\"],[0.8888888888888888,\"#fdca26\"],[1.0,\"#f0f921\"]],\"diverging\":[[0,\"#8e0152\"],[0.1,\"#c51b7d\"],[0.2,\"#de77ae\"],[0.3,\"#f1b6da\"],[0.4,\"#fde0ef\"],[0.5,\"#f7f7f7\"],[0.6,\"#e6f5d0\"],[0.7,\"#b8e186\"],[0.8,\"#7fbc41\"],[0.9,\"#4d9221\"],[1,\"#276419\"]]},\"xaxis\":{\"gridcolor\":\"white\",\"linecolor\":\"white\",\"ticks\":\"\",\"title\":{\"standoff\":15},\"zerolinecolor\":\"white\",\"automargin\":true,\"zerolinewidth\":2},\"yaxis\":{\"gridcolor\":\"white\",\"linecolor\":\"white\",\"ticks\":\"\",\"title\":{\"standoff\":15},\"zerolinecolor\":\"white\",\"automargin\":true,\"zerolinewidth\":2},\"scene\":{\"xaxis\":{\"backgroundcolor\":\"#E5ECF6\",\"gridcolor\":\"white\",\"linecolor\":\"white\",\"showbackground\":true,\"ticks\":\"\",\"zerolinecolor\":\"white\",\"gridwidth\":2},\"yaxis\":{\"backgroundcolor\":\"#E5ECF6\",\"gridcolor\":\"white\",\"linecolor\":\"white\",\"showbackground\":true,\"ticks\":\"\",\"zerolinecolor\":\"white\",\"gridwidth\":2},\"zaxis\":{\"backgroundcolor\":\"#E5ECF6\",\"gridcolor\":\"white\",\"linecolor\":\"white\",\"showbackground\":true,\"ticks\":\"\",\"zerolinecolor\":\"white\",\"gridwidth\":2}},\"shapedefaults\":{\"line\":{\"color\":\"#2a3f5f\"}},\"annotationdefaults\":{\"arrowcolor\":\"#2a3f5f\",\"arrowhead\":0,\"arrowwidth\":1},\"geo\":{\"bgcolor\":\"white\",\"landcolor\":\"#E5ECF6\",\"subunitcolor\":\"white\",\"showland\":true,\"showlakes\":true,\"lakecolor\":\"white\"},\"title\":{\"x\":0.05},\"mapbox\":{\"style\":\"light\"}}},\"legend\":{\"tracegroupgap\":0},\"title\":{\"text\":\"Ratio of Precipitation to No Precipitation\"},\"piecolorway\":[\"#4B2991\",\"#F6A97A\"]},                        {\"responsive\": true}                    ).then(function(){\n",
       "                            \n",
       "var gd = document.getElementById('4a503b64-be58-49c4-b17f-06ea8f9cd80d');\n",
       "var x = new MutationObserver(function (mutations, observer) {{\n",
       "        var display = window.getComputedStyle(gd).display;\n",
       "        if (!display || display === 'none') {{\n",
       "            console.log([gd, 'removed!']);\n",
       "            Plotly.purge(gd);\n",
       "            observer.disconnect();\n",
       "        }}\n",
       "}});\n",
       "\n",
       "// Listen for the removal of the full notebook cells\n",
       "var notebookContainer = gd.closest('#notebook-container');\n",
       "if (notebookContainer) {{\n",
       "    x.observe(notebookContainer, {childList: true});\n",
       "}}\n",
       "\n",
       "// Listen for the clearing of the current output cell\n",
       "var outputEl = gd.closest('.output');\n",
       "if (outputEl) {{\n",
       "    x.observe(outputEl, {childList: true});\n",
       "}}\n",
       "\n",
       "                        })                };                });            </script>        </div>"
      ]
     },
     "metadata": {},
     "output_type": "display_data"
    }
   ],
   "source": [
    "######### Hier aufzeigen, dass es in Chicago generell kaum regnet, weshalb die Werte darüber zeigen, dass es mehr Taxifahrten ohen Regen gibt (ander als unsere Erwartung)\n",
    "categories = ['Precip', 'Non Precip']\n",
    "values = [precip_count, non_precip_count]\n",
    "\n",
    "fig = px.pie(\n",
    "    names=categories,\n",
    "    values=values,\n",
    "    title='Ratio of Precipitation to No Precipitation',\n",
    "    color_discrete_sequence=[\"#4B2991\",\"#F6A97A\"]\n",
    ")\n",
    "\n",
    "fig.show()\n"
   ]
  },
  {
   "cell_type": "markdown",
   "id": "b6d1156e",
   "metadata": {},
   "source": [
    "### Price analysis"
   ]
  },
  {
   "cell_type": "code",
   "execution_count": 12,
   "id": "7b42d3ce",
   "metadata": {},
   "outputs": [
    {
     "data": {
      "image/png": "[encoded data removed]",
      "text/plain": [
       "<Figure size 1200x600 with 2 Axes>"
      ]
     },
     "metadata": {},
     "output_type": "display_data"
    }
   ],
   "source": [
    "plt.figure(figsize=(12, 6))\n",
    "\n",
    "# Boxplot for weekday\n",
    "plt.subplot(1, 2, 1)\n",
    "sns.boxplot(data=trips_df, x=\"dayofweek_start\", y=\"trip_total\", palette=\"magma\", showfliers=False)\n",
    "plt.title(\"Distribution of Total Fare by Weekday\")\n",
    "plt.xlabel(\"Weekday\")\n",
    "plt.ylabel(\"Total Fare\")\n",
    "plt.xticks(range(7), weekday)\n",
    "\n",
    "# Boxplot for month\n",
    "plt.subplot(1, 2, 2)\n",
    "sns.boxplot(data=trips_df, x=\"month_start\", y=\"trip_total\", palette=\"magma\", showfliers=False)\n",
    "plt.title(\"Distribution of Total Fare by Month\")\n",
    "plt.xlabel(\"Month\")\n",
    "plt.ylabel(\"Total Fare\")\n",
    "plt.xticks(range(0, 12), [\"Jan\", \"Feb\", \"Mar\", \"Apr\", \"May\", \"Jun\", \"Jul\", \"Aug\", \"Sep\", \"Oct\", \"Nov\", \"Dec\"])\n",
    "\n",
    "plt.tight_layout()\n",
    "plt.show()\n"
   ]
  },
  {
   "cell_type": "code",
   "execution_count": 13,
   "id": "b397f116",
   "metadata": {},
   "outputs": [
    {
     "data": {
      "image/png": "[encoded data removed]",
      "text/plain": [
       "<Figure size 1600x800 with 2 Axes>"
      ]
     },
     "metadata": {},
     "output_type": "display_data"
    }
   ],
   "source": [
    "plt.figure(figsize=(16, 8))\n",
    "# Group by hour and calculate the average of tips for each hour\n",
    "tips_by_hour = trips_df.groupby('hour_end')['tips'].mean().reset_index()\n",
    "\n",
    "plt.subplot(1, 2, 1)\n",
    "sns.barplot(x='hour_end', y='tips', palette=\"magma\", data=tips_by_hour)\n",
    "plt.xlabel('Hour of the Day')\n",
    "plt.ylabel('Average Tips')\n",
    "plt.title('Average Tips by Hour of the Day')\n",
    "\n",
    "# Group by weekday and calculate the average of tips for each weekday\n",
    "tips_by_weekday = trips_df.groupby('dayofweek_end')['tips'].mean().reset_index()\n",
    "\n",
    "# Create a bar plot for average tips by weekday\n",
    "plt.subplot(1, 2, 2)\n",
    "sns.barplot(x='dayofweek_end', y='tips', palette=\"magma\", data=tips_by_weekday)\n",
    "plt.xticks(range(7), ['Monday', 'Tuesday', 'Wednesday', 'Thursday', 'Friday', 'Saturday', 'Sunday'])\n",
    "plt.xlabel('Weekday')\n",
    "plt.ylabel('Average Tips')\n",
    "plt.title('Average Tips by Weekday')\n",
    "\n",
    "plt.tight_layout()\n",
    "plt.show()\n"
   ]
  },
  {
   "cell_type": "code",
   "execution_count": null,
   "id": "4c032b68",
   "metadata": {},
   "outputs": [],
   "source": []
  },
  {
   "cell_type": "code",
   "execution_count": null,
   "id": "7dcc9dfb",
   "metadata": {},
   "outputs": [],
   "source": []
  }
 ],
 "metadata": {
  "kernelspec": {
   "display_name": "Python 3 (ipykernel)",
   "language": "python",
   "name": "python3"
  },
  "language_info": {
   "codemirror_mode": {
    "name": "ipython",
    "version": 3
   },
   "file_extension": ".py",
   "mimetype": "text/x-python",
   "name": "python",
   "nbconvert_exporter": "python",
   "pygments_lexer": "ipython3",
   "version": "3.10.9"
  }
 },
 "nbformat": 4,
 "nbformat_minor": 5
}
