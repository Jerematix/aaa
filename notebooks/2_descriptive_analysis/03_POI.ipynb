{
 "cells": [
  {
   "cell_type": "code",
   "execution_count": null,
   "id": "566ccbb8",
   "metadata": {},
   "outputs": [],
   "source": [
    "import numpy as np\n",
    "import pandas as pd\n",
    "import matplotlib.pyplot as plt\n",
    "import seaborn as sns\n",
    "import folium\n",
    "from folium import plugins\n",
    "from folium.plugins import HeatMap\n",
    "import h3\n",
    "from shapely.geometry import Polygon\n",
    "import geopandas\n",
    "from geojson import Feature, Point, FeatureCollection, Polygon\n",
    "from shapely.geometry import Polygon\n",
    "import plotly.express as px\n",
    "from datetime import datetime"
   ]
  },
  {
   "cell_type": "code",
   "execution_count": null,
   "id": "814b126a",
   "metadata": {},
   "outputs": [],
   "source": [
    "#Import cleaned dataset\n",
    "\n",
    "trips_df = pd.read_parquet('../../data/rides/Taxi_Trips_Sampled_Cleaned.parquet')\n",
    "trips_df.columns"
   ]
  },
  {
   "cell_type": "code",
   "execution_count": null,
   "id": "60ee288b",
   "metadata": {},
   "outputs": [],
   "source": [
    "poi_df = pd.read_parquet('../../data/poi/poi_data.parquet')\n",
    "print(poi_df.head())\n",
    "print(poi_df.category.unique())\n",
    "print(poi_df.amenity.unique())"
   ]
  },
  {
   "cell_type": "code",
   "execution_count": null,
   "id": "ec7759be",
   "metadata": {},
   "outputs": [],
   "source": [
    "poi_count_df = pd.read_parquet('../../data/poi/poi_hexagon_data.parquet')\n",
    "poi_count_df.head()"
   ]
  },
  {
   "cell_type": "code",
   "execution_count": null,
   "id": "1dcb426c",
   "metadata": {},
   "outputs": [],
   "source": [
    " # Import necessary packages\n",
    "import csv\n",
    "\n",
    "csv_file = '../../data/census_tract/chicago_census_tract.csv'\n",
    "\n",
    "# Create an empty dictionary\n",
    "data_dict = {}\n",
    "\n",
    "# Open the CSV file\n",
    "with open(csv_file, 'r') as file:\n",
    "    reader = csv.reader(file)\n",
    "\n",
    "    # Skip the header row if present\n",
    "    next(reader)\n",
    "\n",
    "    # Iterate over each row in the CSV file\n",
    "    for row in reader:\n",
    "        ca = row[1]  # CA is in the second column\n",
    "        community = row[2]  # COMMUNIT_1 is in the third column\n",
    "\n",
    "        # Add the data to the dictionary\n",
    "        data_dict[ca] = community\n",
    "\n",
    "# Print the resulting dictionary\n",
    "data_dict = dict(sorted(data_dict.items(), key=lambda item: int(item[0])))\n",
    "print(data_dict)\n",
    "\n",
    "# Create a new dictionary with integer keys\n",
    "new_data_dict = {int(key): value for key, value in data_dict.items()}\n",
    "\n",
    "key_types = [type(key) for key in new_data_dict.keys()]\n",
    "trips_df['pickup_name'] = trips_df['pickup_community_area'].map(new_data_dict)\n",
    "trips_df['dropoff_name'] = trips_df['dropoff_community_area'].map(new_data_dict)\n",
    "trips_df"
   ]
  },
  {
   "cell_type": "code",
   "execution_count": null,
   "id": "224c9827",
   "metadata": {},
   "outputs": [],
   "source": [
    "print(poi_count_df['sustenance_poi'].sum())"
   ]
  },
  {
   "cell_type": "code",
   "execution_count": null,
   "id": "10db39a4",
   "metadata": {},
   "outputs": [],
   "source": [
    "pickup_poi = pd.DataFrame()\n",
    "pickup_poi['pickup_count'] = trips_df['pickup_name'].value_counts() \n",
    "pickup_poi['dropoff_count'] = trips_df['dropoff_name'].value_counts() \n",
    "pickup_poi = pickup_poi.fillna(0)\n",
    "pickup_poi['dropoff_count'] = pickup_poi['dropoff_count'].astype(int)\n",
    "pickup_poi = pickup_poi.sort_index()\n",
    "pickup_poi\n"
   ]
  },
  {
   "cell_type": "code",
   "execution_count": null,
   "id": "c250884e",
   "metadata": {},
   "outputs": [],
   "source": [
    "print(pickup_poi['pickup_count'].sum())"
   ]
  },
  {
   "cell_type": "code",
   "execution_count": null,
   "id": "684da505",
   "metadata": {},
   "outputs": [],
   "source": [
    "pickup_name_counts = trips_df['pickup_name'].value_counts()\n",
    "count_for_loop = pickup_name_counts.get('Dunning', 0)\n",
    "print(count_for_loop)\n"
   ]
  },
  {
   "cell_type": "code",
   "execution_count": null,
   "id": "a134b507",
   "metadata": {},
   "outputs": [],
   "source": [
    "# custom legend name from: https://stackoverflow.com/questions/64371174/how-to-change-variable-label-names-for-the-legend-in-a-plotly-express-line-chart\n",
    "def custom_legend_name(new_names):\n",
    "    for i, new_name in enumerate(new_names):\n",
    "        fig.data[i].name = new_name\n",
    "\n",
    "\n",
    "fig = px.bar(\n",
    "    x=pickup_poi.index,\n",
    "    y=[pickup_poi['pickup_count'], pickup_poi['dropoff_count']],\n",
    "    log_y=True,\n",
    "    labels={'x': 'Neighborhood', 'y': 'Trip count'},\n",
    "    title='Starting and Ending Trips for each Neighborhood',\n",
    "    color_discrete_sequence=[\"#4B2991\",\"#F6A97A\"],  \n",
    "    barmode='group'\n",
    ")\n",
    "\n",
    "custom_legend_name(['Starting trips','Ending trips'])\n",
    "fig.update_yaxes(type='log', dtick='D3') # blend out intermediate (log) values\n",
    "fig.show()"
   ]
  },
  {
   "cell_type": "code",
   "execution_count": null,
   "id": "c0bcfad4",
   "metadata": {},
   "outputs": [],
   "source": [
    "pois_starts = pd.merge(trips_df, poi_count_df, how='left', left_on = \"h3_07_pickup\", right_on = \"h3\")\n",
    "pois_ends = pd.merge(trips_df, poi_count_df, how='left', left_on = \"h3_07_dropoff\", right_on = \"h3\")\n",
    "pois_starts"
   ]
  },
  {
   "cell_type": "code",
   "execution_count": null,
   "id": "68c68252",
   "metadata": {},
   "outputs": [],
   "source": [
    "grouped_df = pd.DataFrame()\n",
    "grouped_df = pois_starts.groupby(['h3', 'pickup_name'])['sustenance_poi'].sum().reset_index()\n",
    "grouped_df"
   ]
  },
  {
   "cell_type": "code",
   "execution_count": null,
   "id": "c07958d1",
   "metadata": {},
   "outputs": [],
   "source": [
    "print(grouped_df['sustenance_poi'].sum())"
   ]
  },
  {
   "cell_type": "code",
   "execution_count": null,
   "id": "d9486ab4",
   "metadata": {},
   "outputs": [],
   "source": [
    "unique_hex_df = pois_starts.drop_duplicates(subset=['pickup_census_tract'])\n",
    "\n",
    "# Gruppieren nach 'hex' und Summe der 'restaurant_count'\n",
    "grouped_sum = unique_hex_df.groupby('h3')['sustenance_poi'].sum().reset_index()\n",
    "grouped_sum"
   ]
  },
  {
   "cell_type": "code",
   "execution_count": null,
   "id": "7436042b",
   "metadata": {},
   "outputs": [],
   "source": [
    "print(grouped_sum['sustenance_poi'].sum())"
   ]
  },
  {
   "cell_type": "code",
   "execution_count": null,
   "id": "09274f83",
   "metadata": {},
   "outputs": [],
   "source": [
    "start_poi = pd.DataFrame()\n",
    "start_poi['count'] = pois_starts.groupby('pickup_name')['sustenance_poi'].sum()\n",
    "start_poi"
   ]
  },
  {
   "cell_type": "code",
   "execution_count": null,
   "id": "dd4b9660",
   "metadata": {},
   "outputs": [],
   "source": [
    "print(pois_starts['sustenance_poi'].sum())"
   ]
  },
  {
   "cell_type": "code",
   "execution_count": null,
   "id": "1e974013",
   "metadata": {},
   "outputs": [],
   "source": [
    "unique_df = pois_starts.drop_duplicates(subset=['pickup_name', 'sustenance_poi'])\n",
    "\n",
    "# Gruppieren nach Pickup-Namen und Sustenance-POI und Summieren der Sustenance-POI\n",
    "sustenance_counts = unique_df.groupby('pickup_name')['sustenance_poi'].sum().reset_index()\n",
    "\n",
    "print(sustenance_counts)\n"
   ]
  },
  {
   "cell_type": "code",
   "execution_count": null,
   "id": "c1809660",
   "metadata": {},
   "outputs": [],
   "source": [
    "print(sustenance_counts['sustenance_poi'].sum())"
   ]
  },
  {
   "cell_type": "code",
   "execution_count": null,
   "id": "fc71ccba",
   "metadata": {},
   "outputs": [],
   "source": [
    "# Defining a funtion that generates heaxagon geometry for each hexagon\n",
    "# taken from https://medium.com/analytics-vidhya/how-to-create-a-choropleth-map-using-uber-h3-plotly-python-458f51593548\n",
    "\n",
    "def add_geometry(row):\n",
    "  points = h3.h3_to_geo_boundary(row['hex'], True)\n",
    "  return Polygon(points)"
   ]
  },
  {
   "cell_type": "code",
   "execution_count": null,
   "id": "cc5cb844",
   "metadata": {},
   "outputs": [],
   "source": [
    "# Function that visualizes the H3 map\n",
    "\n",
    "# Adapted from https://medium.com/analytics-vidhya/how-to-create-a-choropleth-map-using-uber-h3-plotly-python-458f51593548\n",
    "\n",
    "#def plot_frequency(dataset, hover_name, variable, labels, range_color, palette=\"RdBu\"):\n",
    "    \n",
    "def plot_frequency(dataset, variable, labels, range_color, palette=\"RdBu\"):\n",
    "    geojson_obj = (hexagons_dataframe_to_geojson(dataset, value_field=variable))\n",
    "\n",
    "    fig = (px.choropleth_mapbox(\n",
    "                    dataset,\n",
    "                    width=700,\n",
    "                    height=500,\n",
    "                    geojson=geojson_obj, \n",
    "                    locations='hex', \n",
    "                  #  hover_name = hover_name,\n",
    "                    color=variable,\n",
    "                    color_continuous_scale=palette,\n",
    "                    range_color=range_color,\n",
    "                    mapbox_style='carto-positron',\n",
    "                    zoom=10.5,\n",
    "                    center = {\"lat\": 41.881832 ,\"lon\": -87.623177,},\n",
    "                    opacity=0.7,\n",
    "                    labels=labels))\n",
    "    fig.update_layout(\n",
    "        margin={\"r\": 0, \"t\": 0, \"l\": 0, \"b\": 0},\n",
    "    )\n",
    "    return fig "
   ]
  },
  {
   "cell_type": "code",
   "execution_count": null,
   "id": "49428ac5",
   "metadata": {},
   "outputs": [],
   "source": [
    "# Our approach uses the chloropleth_mapbox module of Plotly Express to build a map.\n",
    "# To do this a GeoJSON-formatted dictionary is created by this method that can be passed to Plotly express. \n",
    "\n",
    "# taken from https://medium.com/analytics-vidhya/how-to-create-a-choropleth-map-using-uber-h3-plotly-python-458f51593548\n",
    "\n",
    "def hexagons_dataframe_to_geojson(df_hex, value_field, file_output = None):\n",
    "\n",
    "    list_features = []\n",
    "\n",
    "    for i, row in df_hex.iterrows():\n",
    "        feature = Feature(geometry = row['geometry'],\n",
    "                          id = row['hex'],\n",
    "                          properties = {\"value\": row[value_field]})\n",
    "        list_features.append(feature)\n",
    "\n",
    "    feat_collection = FeatureCollection(list_features)\n",
    "\n",
    "    if file_output is not None:\n",
    "        with open(file_output, \"w\") as f:\n",
    "            json.dump(feat_collection, f)\n",
    "\n",
    "    else :\n",
    "      return feat_collection"
   ]
  },
  {
   "cell_type": "code",
   "execution_count": null,
   "id": "76e8d0a4",
   "metadata": {},
   "outputs": [],
   "source": [
    "poi_count_df = poi_count_df.rename(columns={'h3':'hex'})\n",
    "\n",
    "poi_count_df[\"geometry\"] = poi_count_df.apply(add_geometry, axis=1)\n",
    "\n",
    "# Set geometry column\n",
    "poi_count_df.set_geometry('geometry')\n",
    "\n",
    "# Display the GeoDataFrame\n",
    "poi_count_df.head()\n"
   ]
  },
  {
   "cell_type": "markdown",
   "id": "e62128be",
   "metadata": {},
   "source": [
    "### Sustenance"
   ]
  },
  {
   "cell_type": "code",
   "execution_count": null,
   "id": "683a3299",
   "metadata": {},
   "outputs": [],
   "source": [
    "variable = \"sustenance_poi\"\n",
    "sustenance6_df = poi_count_df[poi_count_df[\"h3_res\"] == 6]\n",
    "\n",
    "fig = plot_frequency(\n",
    "    dataset=sustenance6_df,\n",
    "   # hover_name=variable,\n",
    "    variable=variable,\n",
    "    labels={variable: \"Sustenance POI in Res6\"},\n",
    "    range_color=(0, sustenance6_df[variable].quantile(0.9)),\n",
    "    palette=\"reds\"\n",
    ")\n",
    "\n",
    "fig.show()\n"
   ]
  },
  {
   "cell_type": "code",
   "execution_count": null,
   "id": "4c42e788",
   "metadata": {},
   "outputs": [],
   "source": [
    "variable = \"sustenance_poi\"\n",
    "sustenance7_df = poi_count_df[poi_count_df[\"h3_res\"] == 7]\n",
    "\n",
    "fig = plot_frequency(\n",
    "    dataset=sustenance7_df,\n",
    " #   hover_name=variable,\n",
    "    variable=variable,\n",
    "    labels={variable: \"Sustenance POI in Res7\"},\n",
    "    range_color=(0, sustenance7_df[variable].quantile(0.9)),\n",
    "    palette=\"reds\"\n",
    ")\n",
    "\n",
    "fig.show()\n"
   ]
  },
  {
   "cell_type": "code",
   "execution_count": null,
   "id": "6143e594",
   "metadata": {},
   "outputs": [],
   "source": [
    "sustenance7_df = poi_count_df[poi_count_df[\"h3_res\"] == 7]\n",
    "sustenance8_df = poi_count_df[poi_count_df[\"h3_res\"] == 8]\n",
    "sustenance9_df = poi_count_df[poi_count_df[\"h3_res\"] == 9]"
   ]
  },
  {
   "cell_type": "code",
   "execution_count": null,
   "id": "5222cdbd",
   "metadata": {},
   "outputs": [],
   "source": [
    "variable = \"sustenance_poi\"\n",
    "fig = plot_frequency(\n",
    "    dataset=sustenance8_df,\n",
    " #   hover_name= variable,\n",
    "    variable=variable,\n",
    "    labels={variable: \"sustenance hex8\"},\n",
    "    range_color=(0, sustenance8_df[variable].max()),\n",
    "    palette=\"greens\",\n",
    ")\n",
    "fig.show()"
   ]
  },
  {
   "cell_type": "code",
   "execution_count": null,
   "id": "c0c2a6c7",
   "metadata": {},
   "outputs": [],
   "source": [
    "variable = \"sustenance_poi\"\n",
    "fig = plot_frequency(\n",
    "    dataset=sustenance9_df,\n",
    " #   hover_name= variable,\n",
    "    variable=variable,\n",
    "    labels={variable: \"sustenance hex9\"},\n",
    "    range_color=(0, sustenance9_df[variable].max()),\n",
    "    palette=\"greens\",\n",
    ")\n",
    "fig.show()"
   ]
  },
  {
   "cell_type": "markdown",
   "id": "16a9635f",
   "metadata": {},
   "source": [
    "### Public transport"
   ]
  },
  {
   "cell_type": "code",
   "execution_count": null,
   "id": "79d5728d",
   "metadata": {},
   "outputs": [],
   "source": [
    "variable = \"public_transport_poi\"\n",
    "public_transport6_df = poi_count_df[poi_count_df[\"h3_res\"] == 6]\n",
    "\n",
    "fig = plot_frequency(\n",
    "    dataset=public_transport6_df,\n",
    "  #  hover_name=variable,\n",
    "    variable=variable,\n",
    "    labels={variable: \"Public transport POI in Res6\"},\n",
    "    range_color=(0, public_transport6_df[variable].quantile(0.9)),\n",
    "    palette=\"reds\"\n",
    ")\n",
    "\n",
    "fig.show()\n"
   ]
  },
  {
   "cell_type": "code",
   "execution_count": null,
   "id": "da652a01",
   "metadata": {},
   "outputs": [],
   "source": [
    "variable = \"public_transport_poi\"\n",
    "public_transport7_df = poi_count_df[poi_count_df[\"h3_res\"] == 7]\n",
    "\n",
    "fig = plot_frequency(\n",
    "    dataset=public_transport7_df,\n",
    "  #  hover_name=variable,\n",
    "    variable=variable,\n",
    "    labels={variable: \"Public transport POI in Res7\"},\n",
    "    range_color=(0, public_transport7_df[variable].quantile(0.9)),\n",
    "    palette=\"reds\"\n",
    ")\n",
    "\n",
    "fig.show()\n"
   ]
  },
  {
   "cell_type": "code",
   "execution_count": null,
   "id": "2b023c1f",
   "metadata": {},
   "outputs": [],
   "source": [
    "variable = \"public_transport_poi\"\n",
    "public_transport8_df = poi_count_df[poi_count_df[\"h3_res\"] == 8]\n",
    "\n",
    "fig = plot_frequency(\n",
    "    dataset=public_transport8_df,\n",
    "  #  hover_name=variable,\n",
    "    variable=variable,\n",
    "    labels={variable: \"Public transport POI in Res8\"},\n",
    "    range_color=(0, public_transport8_df[variable].quantile(0.9)),\n",
    "    palette=\"reds\"\n",
    ")\n",
    "\n",
    "fig.show()\n"
   ]
  },
  {
   "cell_type": "code",
   "execution_count": null,
   "id": "430f1684",
   "metadata": {},
   "outputs": [],
   "source": [
    "variable = \"public_transport_poi\"\n",
    "public_transport9_df = poi_count_df[poi_count_df[\"h3_res\"] == 9]\n",
    "\n",
    "fig = plot_frequency(\n",
    "    dataset=public_transport9_df,\n",
    "  #  hover_name=variable,\n",
    "    variable=variable,\n",
    "    labels={variable: \"Public transport POI in Res9\"},\n",
    "    range_color=(0, public_transport9_df[variable].quantile(0.9)),\n",
    "    palette=\"reds\"\n",
    ")\n",
    "\n",
    "fig.show()\n"
   ]
  },
  {
   "cell_type": "markdown",
   "id": "d5d768b7",
   "metadata": {},
   "source": [
    "### Education"
   ]
  },
  {
   "cell_type": "code",
   "execution_count": null,
   "id": "bd3f4273",
   "metadata": {},
   "outputs": [],
   "source": [
    "variable = \"education_poi\"\n",
    "education6_df = poi_count_df[poi_count_df[\"h3_res\"] == 6]\n",
    "\n",
    "fig = plot_frequency(\n",
    "    dataset=education6_df,\n",
    " #   hover_name=variable,\n",
    "    variable=variable,\n",
    "    labels={variable: \"Education POI in Res6\"},\n",
    "    range_color=(0, education6_df[variable].quantile(0.9)),\n",
    "    palette=\"reds\"\n",
    ")\n",
    "\n",
    "fig.show()\n"
   ]
  },
  {
   "cell_type": "code",
   "execution_count": null,
   "id": "fe558747",
   "metadata": {},
   "outputs": [],
   "source": [
    "variable = \"education_poi\"\n",
    "education7_df = poi_count_df[poi_count_df[\"h3_res\"] == 7]\n",
    "\n",
    "fig = plot_frequency(\n",
    "    dataset=education7_df,\n",
    " #   hover_name=variable,\n",
    "    variable=variable,\n",
    "    labels={variable: \"Education POI in Res7\"},\n",
    "    range_color=(0, education7_df[variable].quantile(0.9)),\n",
    "    palette=\"reds\"\n",
    ")\n",
    "\n",
    "fig.show()"
   ]
  },
  {
   "cell_type": "code",
   "execution_count": null,
   "id": "91669915",
   "metadata": {},
   "outputs": [],
   "source": [
    "variable = \"education_poi\"\n",
    "education8_df = poi_count_df[poi_count_df[\"h3_res\"] == 8]\n",
    "\n",
    "fig = plot_frequency(\n",
    "    dataset=education8_df,\n",
    "   # hover_name=variable,\n",
    "    variable=variable,\n",
    "    labels={variable: \"Education POI in Res8\"},\n",
    "    range_color=(0, education8_df[variable].quantile(0.9)),\n",
    "    palette=\"reds\"\n",
    ")\n",
    "\n",
    "fig.show()"
   ]
  },
  {
   "cell_type": "code",
   "execution_count": null,
   "id": "c27a40dd",
   "metadata": {},
   "outputs": [],
   "source": [
    "variable = \"education_poi\"\n",
    "education9_df = poi_count_df[poi_count_df[\"h3_res\"] == 9]\n",
    "\n",
    "fig = plot_frequency(\n",
    "    dataset=education9_df,\n",
    "   # hover_name=variable,\n",
    "    variable=variable,\n",
    "    labels={variable: \"Education POI in Res9\"},\n",
    "    range_color=(0, education9_df[variable].quantile(0.9)),\n",
    "    palette=\"reds\"\n",
    ")\n",
    "\n",
    "fig.show()"
   ]
  },
  {
   "cell_type": "markdown",
   "id": "0ba47ab4",
   "metadata": {},
   "source": [
    "### Arts and culture"
   ]
  },
  {
   "cell_type": "code",
   "execution_count": null,
   "id": "b8c2a8d9",
   "metadata": {},
   "outputs": [],
   "source": [
    "variable = \"arts_and_culture_poi\"\n",
    "aac6_df = poi_count_df[poi_count_df[\"h3_res\"] == 6]\n",
    "\n",
    "fig = plot_frequency(\n",
    "    dataset=aac6_df,\n",
    " #   hover_name=variable,\n",
    "    variable=variable,\n",
    "    labels={variable: \"Arts and culture in Res6\"},\n",
    "    range_color=(0, aac6_df[variable].quantile(0.9)),\n",
    "    palette=\"reds\"\n",
    ")\n",
    "\n",
    "fig.show()"
   ]
  },
  {
   "cell_type": "code",
   "execution_count": null,
   "id": "7126421d",
   "metadata": {},
   "outputs": [],
   "source": [
    "variable = \"arts_and_culture_poi\"\n",
    "aac7_df = poi_count_df[poi_count_df[\"h3_res\"] == 7]\n",
    "\n",
    "fig = plot_frequency(\n",
    "    dataset=aac7_df,\n",
    " #   hover_name=variable,\n",
    "    variable=variable,\n",
    "    labels={variable: \"Arts and culture in Res7\"},\n",
    "    range_color=(0, aac7_df[variable].quantile(0.9)),\n",
    "    palette=\"reds\"\n",
    ")\n",
    "\n",
    "fig.show()"
   ]
  },
  {
   "cell_type": "code",
   "execution_count": null,
   "id": "09ce2890",
   "metadata": {},
   "outputs": [],
   "source": [
    "variable = \"arts_and_culture_poi\"\n",
    "aac8_df = poi_count_df[poi_count_df[\"h3_res\"] == 8]\n",
    "\n",
    "fig = plot_frequency(\n",
    "    dataset=aac8_df,\n",
    "   # hover_name=variable,\n",
    "    variable=variable,\n",
    "    labels={variable: \"Arts and culture in Res8\"},\n",
    "    range_color=(0, aac8_df[variable].quantile(0.9)),\n",
    "    palette=\"reds\"\n",
    ")\n",
    "\n",
    "fig.show()"
   ]
  },
  {
   "cell_type": "code",
   "execution_count": null,
   "id": "ee7fd470",
   "metadata": {},
   "outputs": [],
   "source": [
    "variable = \"arts_and_culture_poi\"\n",
    "aac9_df = poi_count_df[poi_count_df[\"h3_res\"] == 9]\n",
    "\n",
    "fig = plot_frequency(\n",
    "    dataset=aac9_df,\n",
    "  #  hover_name=variable,\n",
    "    variable=variable,\n",
    "    labels={variable: \"Arts and culture in Res6\"},\n",
    "    range_color=(0, aac9_df[variable].quantile(0.9)),\n",
    "    palette=\"reds\"\n",
    ")\n",
    "\n",
    "fig.show()"
   ]
  },
  {
   "cell_type": "markdown",
   "id": "7ae6225f",
   "metadata": {},
   "source": [
    "### Sports"
   ]
  },
  {
   "cell_type": "code",
   "execution_count": null,
   "id": "977417d9",
   "metadata": {},
   "outputs": [],
   "source": [
    "variable = \"sports_poi\"\n",
    "sports6_df = poi_count_df[poi_count_df[\"h3_res\"] == 6]\n",
    "\n",
    "fig = plot_frequency(\n",
    "    dataset=sports6_df,\n",
    " #   hover_name=variable,\n",
    "    variable=variable,\n",
    "    labels={variable: \"Sports in Res6\"},\n",
    "    range_color=(0, sports6_df[variable].quantile(0.9)),\n",
    "    palette=\"reds\"\n",
    ")\n",
    "\n",
    "fig.show()"
   ]
  },
  {
   "cell_type": "code",
   "execution_count": null,
   "id": "ea0b025c",
   "metadata": {},
   "outputs": [],
   "source": [
    "variable = \"sports_poi\"\n",
    "sports7_df = poi_count_df[poi_count_df[\"h3_res\"] == 7]\n",
    "\n",
    "fig = plot_frequency(\n",
    "    dataset=sports7_df,\n",
    "   # hover_name=variable,\n",
    "    variable=variable,\n",
    "    labels={variable: \"Sports in Res7\"},\n",
    "    range_color=(0, sports7_df[variable].quantile(0.9)),\n",
    "    palette=\"reds\"\n",
    ")\n",
    "\n",
    "fig.show()"
   ]
  },
  {
   "cell_type": "code",
   "execution_count": null,
   "id": "1b90e7d2",
   "metadata": {},
   "outputs": [],
   "source": [
    "variable = \"sports_poi\"\n",
    "sports8_df = poi_count_df[poi_count_df[\"h3_res\"] == 8]\n",
    "\n",
    "fig = plot_frequency(\n",
    "    dataset=sports8_df,\n",
    "   # hover_name=variable,\n",
    "    variable=variable,\n",
    "    labels={variable: \"Sports in Res8\"},\n",
    "    range_color=(0, sports8_df[variable].quantile(0.9)),\n",
    "    palette=\"reds\"\n",
    ")\n",
    "\n",
    "fig.show()"
   ]
  },
  {
   "cell_type": "code",
   "execution_count": null,
   "id": "31e5b436",
   "metadata": {},
   "outputs": [],
   "source": [
    "variable = \"sports_poi\"\n",
    "sports9_df = poi_count_df[poi_count_df[\"h3_res\"] == 9]\n",
    "\n",
    "fig = plot_frequency(\n",
    "    dataset=sports9_df,\n",
    "  #  hover_name=variable,\n",
    "    variable=variable,\n",
    "    labels={variable: \"Sports in Res9\"},\n",
    "    range_color=(0, sports9_df[variable].quantile(0.9)),\n",
    "    palette=\"reds\"\n",
    ")\n",
    "\n",
    "fig.show()"
   ]
  },
  {
   "cell_type": "code",
   "execution_count": null,
   "id": "58278bd5",
   "metadata": {},
   "outputs": [],
   "source": [
    "poicategories = ['sustenance_poi',\n",
    "       'public_transport_poi', 'education_poi', 'arts_and_culture_poi',\n",
    "       'sports_poi']\n",
    "\n",
    "pois9 = poi_count_df[poi_count_df[\"h3_res\"] == 9]\n",
    "naive_pois = pois9.copy()\n",
    "\n",
    "for poi in poicategories:\n",
    "    naive_pois[poi] = naive_pois[poi].clip(0,1)\n",
    "naive_pois\n",
    "\n",
    "\n",
    "trips_9 = poi_count_df[poi_count_df[\"h3_res\"] == 9]\n",
    "poiratios = pd.DataFrame(index = poicategories, columns = [\"ratio\"])\n",
    "pois9[\"all_pois\"] = pois9.sustenance_poi + pois9.public_transport_poi + pois9.education_poi + pois9.arts_and_culture_poi + pois9.sports_poi\n",
    "for poi in poicategories:\n",
    "    poiratios[\"ratio\"][poiratios.index == poi] = pois9[poi].sum() / pois9[\"all_pois\"].sum()\n",
    "\n",
    "poiratios"
   ]
  },
  {
   "cell_type": "code",
   "execution_count": null,
   "id": "010b2bd2",
   "metadata": {},
   "outputs": [],
   "source": [
    "fig = px.pie(values=poiratios[\"ratio\"], names=poicategories, title='POI ratio', color_discrete_sequence=[\"#4B2991\",\"#F6A97A\"])\n",
    "fig.show()"
   ]
  }
 ],
 "metadata": {
  "kernelspec": {
   "display_name": "Python 3 (ipykernel)",
   "language": "python",
   "name": "python3"
  },
  "language_info": {
   "codemirror_mode": {
    "name": "ipython",
    "version": 3
   },
   "file_extension": ".py",
   "mimetype": "text/x-python",
   "name": "python",
   "nbconvert_exporter": "python",
   "pygments_lexer": "ipython3",
   "version": "3.10.9"
  }
 },
 "nbformat": 4,
 "nbformat_minor": 5
}
