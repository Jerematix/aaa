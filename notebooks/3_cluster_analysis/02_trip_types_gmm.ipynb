{
 "cells": [
  {
   "cell_type": "markdown",
   "source": [
    "## Trip types - Soft clustering\n",
    "In the following, an attempt is made to divide the cab journeys into clusters using the prepared data set, with which different types of drivers are to be identified.\n",
    "\n",
    "The approach of soft clustering with GMM is used."
   ],
   "metadata": {
    "collapsed": false
   }
  },
  {
   "cell_type": "markdown",
   "source": [
    "### Imports and preparatory calculations\n",
    "In the following, the necessary libraries are imported and the data set is loaded and displayed superficially. \n",
    "\n",
    "Furthermore, preparatory calculations are performed to encode categorical variables."
   ],
   "metadata": {
    "collapsed": false
   }
  },
  {
   "cell_type": "code",
   "execution_count": 8,
   "metadata": {
    "collapsed": true,
    "ExecuteTime": {
     "end_time": "2023-08-09T21:22:27.843502Z",
     "start_time": "2023-08-09T21:22:27.777206Z"
    }
   },
   "outputs": [],
   "source": [
    "# Import necessary libraries\n",
    "import pandas as pd\n",
    "import seaborn as sns\n",
    "import matplotlib.pyplot as plt\n",
    "from sklearn.preprocessing import LabelEncoder\n",
    "from sklearn.cluster import KMeans\n",
    "from sklearn.preprocessing import StandardScaler\n",
    "from sklearn.mixture import GaussianMixture"
   ]
  },
  {
   "cell_type": "code",
   "execution_count": 9,
   "outputs": [],
   "source": [
    "# Import dataset\n",
    "trips_df = pd.read_parquet('../../data/rides/Taxi_Trips_Sampled_Cleaned.parquet')"
   ],
   "metadata": {
    "collapsed": false,
    "ExecuteTime": {
     "end_time": "2023-08-09T21:22:27.902495Z",
     "start_time": "2023-08-09T21:22:27.780420Z"
    }
   }
  },
  {
   "cell_type": "code",
   "execution_count": 10,
   "outputs": [
    {
     "name": "stdout",
     "output_type": "stream",
     "text": [
      "<class 'pandas.core.frame.DataFrame'>\n",
      "RangeIndex: 170568 entries, 0 to 170567\n",
      "Data columns (total 44 columns):\n",
      " #   Column                  Non-Null Count   Dtype         \n",
      "---  ------                  --------------   -----         \n",
      " 0   taxi_id                 170568 non-null  int64         \n",
      " 1   trip_start_timestamp    170568 non-null  datetime64[ns]\n",
      " 2   trip_end_timestamp      170568 non-null  datetime64[ns]\n",
      " 3   trip_seconds            170568 non-null  float64       \n",
      " 4   trip_miles              170568 non-null  float64       \n",
      " 5   pickup_census_tract     170568 non-null  int64         \n",
      " 6   dropoff_census_tract    170568 non-null  int64         \n",
      " 7   pickup_community_area   170568 non-null  int64         \n",
      " 8   dropoff_community_area  170568 non-null  int64         \n",
      " 9   fare                    170568 non-null  float64       \n",
      " 10  tips                    170568 non-null  float64       \n",
      " 11  tolls                   170568 non-null  float64       \n",
      " 12  Extras                  170568 non-null  float64       \n",
      " 13  trip_total              170568 non-null  float64       \n",
      " 14  payment_type            170568 non-null  object        \n",
      " 15  Company                 170568 non-null  object        \n",
      " 16  hour_start              170568 non-null  int32         \n",
      " 17  4_hour_block_start      170568 non-null  int32         \n",
      " 18  day_start               170568 non-null  int32         \n",
      " 19  dayofweek_start         170568 non-null  int32         \n",
      " 20  week_start              170568 non-null  UInt32        \n",
      " 21  month_start             170568 non-null  int32         \n",
      " 22  hour_end                170568 non-null  int32         \n",
      " 23  4_hour_block_end        170568 non-null  int32         \n",
      " 24  day_end                 170568 non-null  int32         \n",
      " 25  dayofweek_end           170568 non-null  int32         \n",
      " 26  week_end                170568 non-null  UInt32        \n",
      " 27  month_end               170568 non-null  int32         \n",
      " 28  is_weekday              170568 non-null  bool          \n",
      " 29  h3_05_pickup            170568 non-null  object        \n",
      " 30  h3_05_dropoff           170568 non-null  object        \n",
      " 31  h3_06_pickup            170568 non-null  object        \n",
      " 32  h3_06_dropoff           170568 non-null  object        \n",
      " 33  h3_07_pickup            170568 non-null  object        \n",
      " 34  h3_07_dropoff           170568 non-null  object        \n",
      " 35  h3_08_pickup            170568 non-null  object        \n",
      " 36  h3_08_dropoff           170568 non-null  object        \n",
      " 37  h3_09_pickup            170568 non-null  object        \n",
      " 38  h3_09_dropoff           170568 non-null  object        \n",
      " 39  pickup_centroid         170568 non-null  object        \n",
      " 40  dropoff_centroid        170568 non-null  object        \n",
      " 41  datetime                170568 non-null  datetime64[ns]\n",
      " 42  temp                    170568 non-null  float64       \n",
      " 43  precip                  170568 non-null  int64         \n",
      "dtypes: UInt32(2), bool(1), datetime64[ns](3), float64(8), int32(10), int64(6), object(14)\n",
      "memory usage: 48.6+ MB\n"
     ]
    },
    {
     "data": {
      "text/plain": "   taxi_id trip_start_timestamp  trip_end_timestamp  trip_seconds  trip_miles  \\\n0        1  2015-01-01 00:00:00 2015-01-01 00:00:00         540.0        0.17   \n1        2  2015-01-01 00:00:00 2015-01-01 00:00:00         480.0        0.90   \n2        3  2015-01-01 00:15:00 2015-01-01 00:30:00         780.0        5.50   \n3        4  2015-01-01 00:30:00 2015-01-01 00:45:00         780.0        2.30   \n4        5  2015-01-01 00:00:00 2015-01-01 00:15:00         600.0        2.40   \n\n   pickup_census_tract  dropoff_census_tract  pickup_community_area  \\\n0          17031080300           17031063301                      8   \n1          17031320100           17031081500                     32   \n2          17031281900           17031063301                     28   \n3          17031062900           17031031400                      6   \n4          17031071500           17031070700                      7   \n\n   dropoff_community_area   fare  ...    h3_07_dropoff     h3_08_pickup  \\\n0                       6   7.25  ...  872664c10ffffff  882664c13bfffff   \n1                       8   6.25  ...  872664c1effffff  882664c1e3fffff   \n2                       6  14.05  ...  872664c10ffffff  882664c1adfffff   \n3                       3   8.85  ...  872664d89ffffff  882664c163fffff   \n4                       7   8.85  ...  872664c12ffffff  882664c115fffff   \n\n     h3_08_dropoff     h3_09_pickup    h3_09_dropoff  \\\n0  882664c101fffff  892664c13afffff  892664c101bffff   \n1  882664c1e1fffff  892664c1e2fffff  892664c1e0fffff   \n2  882664c101fffff  892664c1acfffff  892664c101bffff   \n3  882664d893fffff  892664c162fffff  892664d8923ffff   \n4  882664c121fffff  892664c114fffff  892664c1257ffff   \n\n                      pickup_centroid                    dropoff_centroid  \\\n0    POINT (-87.63576009 41.90749193)  POINT (-87.643022804 41.934539716)   \n1  POINT (-87.620992913 41.884987192)  POINT (-87.626214906 41.892507781)   \n2  POINT (-87.642648998 41.879255084)  POINT (-87.643022804 41.934539716)   \n3  POINT (-87.656411531 41.936237179)  POINT (-87.645378762 41.962178629)   \n4  POINT (-87.631717366 41.914616286)  POINT (-87.673807238 41.929272532)   \n\n    datetime    temp  precip  \n0 2015-01-01 -7.0115       0  \n1 2015-01-01 -7.0115       0  \n2 2015-01-01 -7.0115       0  \n3 2015-01-01 -7.0115       0  \n4 2015-01-01 -7.0115       0  \n\n[5 rows x 44 columns]",
      "text/html": "<div>\n<style scoped>\n    .dataframe tbody tr th:only-of-type {\n        vertical-align: middle;\n    }\n\n    .dataframe tbody tr th {\n        vertical-align: top;\n    }\n\n    .dataframe thead th {\n        text-align: right;\n    }\n</style>\n<table border=\"1\" class=\"dataframe\">\n  <thead>\n    <tr style=\"text-align: right;\">\n      <th></th>\n      <th>taxi_id</th>\n      <th>trip_start_timestamp</th>\n      <th>trip_end_timestamp</th>\n      <th>trip_seconds</th>\n      <th>trip_miles</th>\n      <th>pickup_census_tract</th>\n      <th>dropoff_census_tract</th>\n      <th>pickup_community_area</th>\n      <th>dropoff_community_area</th>\n      <th>fare</th>\n      <th>...</th>\n      <th>h3_07_dropoff</th>\n      <th>h3_08_pickup</th>\n      <th>h3_08_dropoff</th>\n      <th>h3_09_pickup</th>\n      <th>h3_09_dropoff</th>\n      <th>pickup_centroid</th>\n      <th>dropoff_centroid</th>\n      <th>datetime</th>\n      <th>temp</th>\n      <th>precip</th>\n    </tr>\n  </thead>\n  <tbody>\n    <tr>\n      <th>0</th>\n      <td>1</td>\n      <td>2015-01-01 00:00:00</td>\n      <td>2015-01-01 00:00:00</td>\n      <td>540.0</td>\n      <td>0.17</td>\n      <td>17031080300</td>\n      <td>17031063301</td>\n      <td>8</td>\n      <td>6</td>\n      <td>7.25</td>\n      <td>...</td>\n      <td>872664c10ffffff</td>\n      <td>882664c13bfffff</td>\n      <td>882664c101fffff</td>\n      <td>892664c13afffff</td>\n      <td>892664c101bffff</td>\n      <td>POINT (-87.63576009 41.90749193)</td>\n      <td>POINT (-87.643022804 41.934539716)</td>\n      <td>2015-01-01</td>\n      <td>-7.0115</td>\n      <td>0</td>\n    </tr>\n    <tr>\n      <th>1</th>\n      <td>2</td>\n      <td>2015-01-01 00:00:00</td>\n      <td>2015-01-01 00:00:00</td>\n      <td>480.0</td>\n      <td>0.90</td>\n      <td>17031320100</td>\n      <td>17031081500</td>\n      <td>32</td>\n      <td>8</td>\n      <td>6.25</td>\n      <td>...</td>\n      <td>872664c1effffff</td>\n      <td>882664c1e3fffff</td>\n      <td>882664c1e1fffff</td>\n      <td>892664c1e2fffff</td>\n      <td>892664c1e0fffff</td>\n      <td>POINT (-87.620992913 41.884987192)</td>\n      <td>POINT (-87.626214906 41.892507781)</td>\n      <td>2015-01-01</td>\n      <td>-7.0115</td>\n      <td>0</td>\n    </tr>\n    <tr>\n      <th>2</th>\n      <td>3</td>\n      <td>2015-01-01 00:15:00</td>\n      <td>2015-01-01 00:30:00</td>\n      <td>780.0</td>\n      <td>5.50</td>\n      <td>17031281900</td>\n      <td>17031063301</td>\n      <td>28</td>\n      <td>6</td>\n      <td>14.05</td>\n      <td>...</td>\n      <td>872664c10ffffff</td>\n      <td>882664c1adfffff</td>\n      <td>882664c101fffff</td>\n      <td>892664c1acfffff</td>\n      <td>892664c101bffff</td>\n      <td>POINT (-87.642648998 41.879255084)</td>\n      <td>POINT (-87.643022804 41.934539716)</td>\n      <td>2015-01-01</td>\n      <td>-7.0115</td>\n      <td>0</td>\n    </tr>\n    <tr>\n      <th>3</th>\n      <td>4</td>\n      <td>2015-01-01 00:30:00</td>\n      <td>2015-01-01 00:45:00</td>\n      <td>780.0</td>\n      <td>2.30</td>\n      <td>17031062900</td>\n      <td>17031031400</td>\n      <td>6</td>\n      <td>3</td>\n      <td>8.85</td>\n      <td>...</td>\n      <td>872664d89ffffff</td>\n      <td>882664c163fffff</td>\n      <td>882664d893fffff</td>\n      <td>892664c162fffff</td>\n      <td>892664d8923ffff</td>\n      <td>POINT (-87.656411531 41.936237179)</td>\n      <td>POINT (-87.645378762 41.962178629)</td>\n      <td>2015-01-01</td>\n      <td>-7.0115</td>\n      <td>0</td>\n    </tr>\n    <tr>\n      <th>4</th>\n      <td>5</td>\n      <td>2015-01-01 00:00:00</td>\n      <td>2015-01-01 00:15:00</td>\n      <td>600.0</td>\n      <td>2.40</td>\n      <td>17031071500</td>\n      <td>17031070700</td>\n      <td>7</td>\n      <td>7</td>\n      <td>8.85</td>\n      <td>...</td>\n      <td>872664c12ffffff</td>\n      <td>882664c115fffff</td>\n      <td>882664c121fffff</td>\n      <td>892664c114fffff</td>\n      <td>892664c1257ffff</td>\n      <td>POINT (-87.631717366 41.914616286)</td>\n      <td>POINT (-87.673807238 41.929272532)</td>\n      <td>2015-01-01</td>\n      <td>-7.0115</td>\n      <td>0</td>\n    </tr>\n  </tbody>\n</table>\n<p>5 rows × 44 columns</p>\n</div>"
     },
     "execution_count": 10,
     "metadata": {},
     "output_type": "execute_result"
    }
   ],
   "source": [
    "# General presentation of the dataframe\n",
    "trips_df.info()\n",
    "trips_df.head(5)"
   ],
   "metadata": {
    "collapsed": false,
    "ExecuteTime": {
     "end_time": "2023-08-09T21:22:28.007795Z",
     "start_time": "2023-08-09T21:22:27.841315Z"
    }
   }
  },
  {
   "cell_type": "code",
   "execution_count": 11,
   "outputs": [],
   "source": [
    "# Initialize the LabelEncoder and add it to the dataframe\n",
    "label_encoder = LabelEncoder()\n",
    "trips_df['payment_type_encoded'] = label_encoder.fit_transform(trips_df['payment_type'])\n",
    "trips_df['weekday_encoded'] = label_encoder.fit_transform(trips_df['is_weekday'])"
   ],
   "metadata": {
    "collapsed": false,
    "ExecuteTime": {
     "end_time": "2023-08-09T21:22:28.024668Z",
     "start_time": "2023-08-09T21:22:28.020153Z"
    }
   }
  },
  {
   "cell_type": "markdown",
   "source": [
    "### Calculation of the optimal number of clusters with the elbow method\n",
    "First, we compute the inertia for up to 10 clusters and then use the visualization to select the optimal number of clusters at the point where an elbow can be seen."
   ],
   "metadata": {
    "collapsed": false
   }
  },
  {
   "cell_type": "code",
   "execution_count": null,
   "outputs": [],
   "source": [
    "# Features used in clustering \n",
    "numerical_columns = ['trip_seconds', 'trip_miles', 'fare', 'tips', 'payment_type_encoded', 'weekday_encoded']\n",
    "\n",
    "# Standardizing the numerical columns in the dataframe\n",
    "scaler = StandardScaler()\n",
    "trips_df[numerical_columns] = scaler.fit_transform(trips_df[numerical_columns])\n",
    "\n",
    "# Maximum number of clusters to consider for GMM\n",
    "k_max = 10\n",
    "\n",
    "clusters = []\n",
    "bics = []\n",
    "aics = []\n",
    "\n",
    "# Loop to fit GMM models for different number of components and store the results\n",
    "for k in range(1, k_max + 1):\n",
    "    model = GaussianMixture(n_components=k, n_init=10, random_state=4711)\n",
    "    model.fit(trips_df[numerical_columns])\n",
    "    clusters.append(k)\n",
    "    bics.append(model.bic(trips_df[numerical_columns]))\n",
    "    aics.append(model.aic(trips_df[numerical_columns]))\n",
    "\n",
    "# Visualization\n",
    "plt.figure(figsize=(12, 6))\n",
    "plt.plot(clusters, bics, marker='o', label='BIC')\n",
    "plt.plot(clusters, aics, marker='o', label='AIC', linestyle='--')\n",
    "plt.title('GMM Model Selection')\n",
    "plt.xlabel('Number of components')\n",
    "plt.ylabel('Criterion Value')\n",
    "plt.xticks(clusters)\n",
    "plt.legend()\n",
    "plt.show()\n"
   ],
   "metadata": {
    "collapsed": false,
    "is_executing": true,
    "ExecuteTime": {
     "start_time": "2023-08-09T21:22:28.027414Z"
    }
   }
  },
  {
   "cell_type": "markdown",
   "source": [
    "It can be seen that the inertia does not decrease noticeably after 4 to 5 clusters. Therefore, 4 clusters are now calculated in GMM in order to further anlayze them."
   ],
   "metadata": {
    "collapsed": false
   }
  },
  {
   "cell_type": "markdown",
   "source": [
    "### Clustering with GMM and first representation of the clusters\n",
    "First, we compute the inertia for up to 10 clusters and then use the visualization to select the optimal number of clusters at the point where an elbow can be seen."
   ],
   "metadata": {
    "collapsed": false
   }
  },
  {
   "cell_type": "code",
   "execution_count": null,
   "outputs": [],
   "source": [
    "from sklearn.mixture import GaussianMixture\n",
    "\n",
    "# Standardization\n",
    "scaler = StandardScaler()\n",
    "trips_df[numerical_columns] = scaler.fit_transform(trips_df[numerical_columns])\n",
    "\n",
    "num_components = 4\n",
    "gmm = GaussianMixture(n_components=num_components, n_init=10, random_state=42)\n",
    "trips_df['driver_profile_cluster'] = gmm.fit_predict(trips_df[numerical_columns])\n",
    "\n",
    "cluster_counts = trips_df['driver_profile_cluster'].value_counts().sort_index()\n",
    "cluster_percentages = (cluster_counts / len(trips_df)) * 100\n",
    "\n",
    "# Fetching the muted palette colors for the clusters\n",
    "colors_muted = sns.color_palette(\"muted\", num_components)\n",
    "\n",
    "# Create subplots\n",
    "fig, axes = plt.subplots(nrows=1, ncols=2, figsize=(14, 6))\n",
    "\n",
    "# Adjust cluster labels from 0-based (0,1,2,3) to 1-based (1,2,3,4)\n",
    "adjusted_labels = [\"Cluster \" + str(i+1) for i in cluster_counts.index]\n",
    "\n",
    "# Pie chart\n",
    "axes[0].pie(cluster_percentages, labels=adjusted_labels, autopct='%1.1f%%', startangle=90, colors=colors_muted)\n",
    "axes[0].set_title('Distribution of Driver Profile Clusters')\n",
    "axes[0].axis('equal')\n",
    "\n",
    "# Countplot\n",
    "sns.countplot(data=trips_df, x='driver_profile_cluster', ax=axes[1], palette=colors_muted, order=cluster_counts.index)\n",
    "axes[1].set_title('Number of Entries per Driver Profile Cluster')\n",
    "\n",
    "# Adjust the x-ticks labels for the countplot\n",
    "axes[1].set_xticklabels(adjusted_labels)\n",
    "axes[1].set_xlabel(\"\")\n",
    "axes[1].set_ylabel(\"Number of entries\")\n",
    "\n",
    "plt.tight_layout()\n",
    "plt.show()"
   ],
   "metadata": {
    "collapsed": false,
    "is_executing": true
   }
  },
  {
   "cell_type": "markdown",
   "source": [
    "### Analysis of clusters for sensitivity to different features\n",
    "In the following, the clusters already created are plotted against different features from the data set and analyzed for their sensitivity in order to enable a classification of the customers or drivers in the trips of the clusters."
   ],
   "metadata": {
    "collapsed": false
   }
  },
  {
   "cell_type": "markdown",
   "source": [
    "#### Driver Profile Cluster vs Day of the Week"
   ],
   "metadata": {
    "collapsed": false
   }
  },
  {
   "cell_type": "code",
   "execution_count": null,
   "outputs": [],
   "source": [
    "# Create a new DataFrame with the necessary columns for the violin plot\n",
    "# Adjust 'dayofweek_start' by adding 1 so that the days shift from 1-7\n",
    "violin_df = trips_df.copy()\n",
    "violin_df['dayofweek_start'] += 1\n",
    "\n",
    "# Create the violin plot\n",
    "plt.figure(figsize=(10, 6))\n",
    "sns.violinplot(data=violin_df, x='driver_profile_cluster', y='dayofweek_start', inner=None, scale='count', palette='muted')\n",
    "\n",
    "# Modify x-axis labels\n",
    "cluster_labels = [f\"Cluster {i+1}\" for i in range(num_clusters)]\n",
    "plt.xticks(range(num_clusters), cluster_labels)\n",
    "plt.xlabel('')  # Remove x-axis label\n",
    "plt.ylabel('Day of Week (1: Monday, 7: Sunday)')\n",
    "plt.title('Driver Profile Cluster vs Day of the Week')\n",
    "plt.show()"
   ],
   "metadata": {
    "collapsed": false,
    "is_executing": true
   }
  },
  {
   "cell_type": "markdown",
   "source": [
    "It is noticeable that cluster 1 is only used on weekdays and cluster 4 only on weekends. Furthermore, clusters 2 and 3 are represented on all days, whereby cluster 2 remains clearly more even and cluster 3 only has a low level of expression on the weekend.\n",
    "\n",
    "Thus, it can currently be assumed that cluster 1 is business travelers and cluster 2 is domestic travelers who regularly take cabs. Cluster 3 cannot be precisely classified, while cluster 4 is probably weekend visitors."
   ],
   "metadata": {
    "collapsed": false
   }
  },
  {
   "cell_type": "markdown",
   "source": [
    "#### Driver Profile Cluster vs Temperatur"
   ],
   "metadata": {
    "collapsed": false
   }
  },
  {
   "cell_type": "code",
   "execution_count": null,
   "outputs": [],
   "source": [
    "# Create a new DataFrame with the necessary columns for the boxplots\n",
    "boxplot_df = trips_df[['driver_profile_cluster', 'temp']]\n",
    "\n",
    "# Create the boxplot\n",
    "plt.figure(figsize=(6, 6))\n",
    "order = sorted(boxplot_df['driver_profile_cluster'].unique())\n",
    "sns.boxplot(data=boxplot_df, x='driver_profile_cluster', y='temp', palette='muted', order=order)\n",
    "cluster_labels = [f\"Cluster {i+1}\" for i in order]\n",
    "plt.xticks(range(len(cluster_labels)), cluster_labels)\n",
    "plt.xlabel('')\n",
    "plt.ylabel('Temperature')\n",
    "plt.title('Driver Profile Cluster vs Temperature')\n",
    "plt.tight_layout()\n",
    "plt.show()"
   ],
   "metadata": {
    "collapsed": false,
    "is_executing": true
   }
  },
  {
   "cell_type": "markdown",
   "source": [
    "If now the temperature is considered it is noticeable that actually all clusters are not temperature sensitive whereby however cluster 2 and 3 fall out, where more outliers are at temperatures with approx. -20 degrees. This complements the assumption"
   ],
   "metadata": {
    "collapsed": false
   }
  },
  {
   "cell_type": "markdown",
   "source": [
    "#### Driver Profile Cluster vs. distance and vs. duration of the trip"
   ],
   "metadata": {
    "collapsed": false
   }
  },
  {
   "cell_type": "code",
   "execution_count": null,
   "outputs": [],
   "source": [
    "# Set the color palette to \"muted\"\n",
    "sns.set_palette(\"muted\")\n",
    "\n",
    "# Create Figure and Axes objects for the subplots\n",
    "fig, axes = plt.subplots(nrows=1, ncols=2, figsize=(20, 8))\n",
    "\n",
    "# Get the unique clusters\n",
    "unique_clusters = sorted(trips_df['driver_profile_cluster'].unique())\n",
    "\n",
    "# Generate the correct cluster labels\n",
    "cluster_labels = [f\"Cluster {i+1}\" for i in unique_clusters]\n",
    "\n",
    "# Violin-Plot for trip_miles\n",
    "sns.violinplot(x='driver_profile_cluster', y='trip_miles', data=trips_df, inner=\"quartile\", ax=axes[0])\n",
    "axes[0].set_title('Driver Profile Cluster vs. Distance')\n",
    "axes[0].set_ylabel('Trip Miles')\n",
    "axes[0].set_xlabel('')\n",
    "axes[0].set_xticklabels(cluster_labels)\n",
    "\n",
    "# Violin-Plot for trip_seconds\n",
    "sns.violinplot(x='driver_profile_cluster', y='trip_seconds', data=trips_df, inner=\"quartile\", ax=axes[1])\n",
    "axes[1].set_title('Driver Profile Cluster vs. Duration of the Trip')\n",
    "axes[1].set_ylabel('Trip Seconds')\n",
    "axes[1].set_xlabel('')\n",
    "axes[1].set_xticklabels(cluster_labels)\n",
    "\n",
    "plt.tight_layout()\n",
    "plt.show()\n"
   ],
   "metadata": {
    "collapsed": false,
    "is_executing": true
   }
  },
  {
   "cell_type": "markdown",
   "source": [
    "#### Driver Profile Cluster vs. Start Time of the trip"
   ],
   "metadata": {
    "collapsed": false
   }
  },
  {
   "cell_type": "code",
   "execution_count": null,
   "outputs": [],
   "source": [
    "# Extract only the hour from trip_start_timestamp\n",
    "trips_df_copy = trips_df.copy()\n",
    "trips_df_copy['hour'] = trips_df_copy['trip_start_timestamp'].dt.hour\n",
    "\n",
    "# Create the Violin-Plot\n",
    "plt.figure(figsize=(12, 8))\n",
    "sns.violinplot(x=\"driver_profile_cluster\", y=\"hour\", data=trips_df_copy, palette=\"muted\", inner=\"quartile\")\n",
    "\n",
    "# Setting the title and y-label, and removing x-label \n",
    "plt.title('Driver Profile Cluster vs. Start Time of the Trip')\n",
    "plt.ylabel('Time (Hour)')\n",
    "plt.xlabel('')\n",
    "\n",
    "# Adjust the x-tick labels to have the cluster names as Cluster 1, Cluster 2, etc.\n",
    "unique_clusters = sorted(trips_df_copy['driver_profile_cluster'].unique())\n",
    "cluster_labels = [f\"Cluster {i+1}\" for i in unique_clusters]\n",
    "plt.xticks(ticks=range(len(unique_clusters)), labels=cluster_labels)\n",
    "plt.show()"
   ],
   "metadata": {
    "collapsed": false,
    "is_executing": true
   }
  },
  {
   "cell_type": "markdown",
   "source": [
    "#### Driver Profile Cluster vs. Tips"
   ],
   "metadata": {
    "collapsed": false
   }
  },
  {
   "cell_type": "code",
   "execution_count": null,
   "outputs": [],
   "source": [
    "# Create a new DataFrame with necessary columns for the boxplot\n",
    "boxplot_df = trips_df[['driver_profile_cluster', 'tips']]\n",
    "\n",
    "# Create the boxplot\n",
    "plt.figure(figsize=(8, 6))\n",
    "sns.boxplot(data=boxplot_df, x='driver_profile_cluster', y='tips', palette='muted')\n",
    "\n",
    "# Setting the title and y-label, and removing x-label \n",
    "plt.title('Driver Profile Cluster vs. Tips')\n",
    "plt.ylabel('Tips')\n",
    "plt.xlabel('')\n",
    "\n",
    "# Adjust the x-tick labels to have the cluster names as Cluster 1, Cluster 2, etc.\n",
    "unique_clusters = sorted(boxplot_df['driver_profile_cluster'].unique())\n",
    "cluster_labels = [f\"Cluster {i+1}\" for i in unique_clusters]\n",
    "plt.xticks(ticks=range(len(unique_clusters)), labels=cluster_labels)\n",
    "\n",
    "plt.show()"
   ],
   "metadata": {
    "collapsed": false,
    "is_executing": true
   }
  },
  {
   "cell_type": "markdown",
   "source": [
    "#### Distribution of payment types among the Driver Profile Cluster \n",
    "Note: Payment types with less than one percent share in the cluster have been hidden for better visualization."
   ],
   "metadata": {
    "collapsed": false
   }
  },
  {
   "cell_type": "code",
   "execution_count": null,
   "outputs": [],
   "source": [
    "unique_clusters = trips_df['driver_profile_cluster'].unique()\n",
    "\n",
    "# Color assignments for specific payment methods\n",
    "color_dict = {\n",
    "    'Credit Card': 'orange',\n",
    "    'No Charge': 'red',\n",
    "    'Cash': 'blue'\n",
    "}\n",
    "\n",
    "# Create a plot with 1 row and as many columns as unique_clusters\n",
    "fig, axes = plt.subplots(nrows=1, ncols=len(unique_clusters), figsize=(20, 5))\n",
    "\n",
    "for index, cluster in enumerate(sorted(unique_clusters)):\n",
    "    subset = trips_df[trips_df['driver_profile_cluster'] == cluster]\n",
    "    counts = subset['payment_type'].value_counts(normalize=True) * 100  # in percentage\n",
    "\n",
    "    # Exclude clusters with less than 1%\n",
    "    counts = counts[counts >= 1]\n",
    "    labels = counts.index\n",
    "\n",
    "    # Retrieve/create colors for the current labels\n",
    "    colors = [color_dict.get(label, 'grey') for label in labels]  # 'grey' is the default color\n",
    "\n",
    "    # Draw the pie chart on the current axis object\n",
    "    axes[index].pie(counts, labels=labels, colors=colors, autopct='%1.1f%%', startangle=90)\n",
    "\n",
    "    # Adjusting the cluster number and setting it as x-axis title to display below each pie chart\n",
    "    axes[index].set_xlabel(f'Cluster {cluster + 1}')\n",
    "    axes[index].xaxis.set_label_position('bottom')  # ensure label is at the bottom\n",
    "\n",
    "# Set main title for the entire graphic\n",
    "plt.suptitle('Distribution of Payment Types Among Driver Profile Clusters')\n",
    "plt.tight_layout()\n",
    "plt.show()"
   ],
   "metadata": {
    "collapsed": false,
    "is_executing": true
   }
  }
 ],
 "metadata": {
  "kernelspec": {
   "display_name": "Python 3",
   "language": "python",
   "name": "python3"
  },
  "language_info": {
   "codemirror_mode": {
    "name": "ipython",
    "version": 2
   },
   "file_extension": ".py",
   "mimetype": "text/x-python",
   "name": "python",
   "nbconvert_exporter": "python",
   "pygments_lexer": "ipython2",
   "version": "2.7.6"
  }
 },
 "nbformat": 4,
 "nbformat_minor": 0
}
