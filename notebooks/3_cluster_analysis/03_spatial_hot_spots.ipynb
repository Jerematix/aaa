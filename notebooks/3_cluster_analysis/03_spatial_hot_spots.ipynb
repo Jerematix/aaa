{
 "cells": [
  {
   "cell_type": "markdown",
   "source": [
    "## Spatial Hot Spots"
   ],
   "metadata": {
    "collapsed": false
   }
  },
  {
   "cell_type": "markdown",
   "source": [
    "### Importe und vorbereitende Berechnungen"
   ],
   "metadata": {
    "collapsed": false
   }
  },
  {
   "cell_type": "code",
   "execution_count": 16,
   "outputs": [],
   "source": [
    "import re\n",
    "import folium\n",
    "import pandas as pd\n",
    "import numpy as np\n",
    "import matplotlib.pyplot as plt\n",
    "from sklearn.mixture import GaussianMixture\n",
    "from sklearn.model_selection import GridSearchCV\n",
    "from sklearn.neighbors import KernelDensity"
   ],
   "metadata": {
    "collapsed": false,
    "ExecuteTime": {
     "end_time": "2023-08-05T15:34:38.408110Z",
     "start_time": "2023-08-05T15:34:38.369504Z"
    }
   }
  },
  {
   "cell_type": "code",
   "execution_count": 17,
   "outputs": [],
   "source": [
    "# Import vom DF\n",
    "trips_df = pd.read_parquet('../../data/rides/Taxi_Trips_Sampled_Cleaned.parquet')"
   ],
   "metadata": {
    "collapsed": false,
    "ExecuteTime": {
     "end_time": "2023-08-05T15:34:38.469714Z",
     "start_time": "2023-08-05T15:34:38.372932Z"
    }
   }
  },
  {
   "cell_type": "code",
   "execution_count": 18,
   "metadata": {
    "collapsed": true,
    "ExecuteTime": {
     "end_time": "2023-08-05T15:34:38.544559Z",
     "start_time": "2023-08-05T15:34:38.424041Z"
    }
   },
   "outputs": [
    {
     "name": "stdout",
     "output_type": "stream",
     "text": [
      "<class 'pandas.core.frame.DataFrame'>\n",
      "RangeIndex: 170749 entries, 0 to 170748\n",
      "Data columns (total 40 columns):\n",
      " #   Column                  Non-Null Count   Dtype         \n",
      "---  ------                  --------------   -----         \n",
      " 0   taxi_id                 170749 non-null  int64         \n",
      " 1   trip_start_timestamp    170749 non-null  datetime64[ns]\n",
      " 2   trip_end_timestamp      170749 non-null  datetime64[ns]\n",
      " 3   trip_seconds            170749 non-null  float64       \n",
      " 4   trip_miles              170749 non-null  float64       \n",
      " 5   pickup_census_tract     170749 non-null  int64         \n",
      " 6   dropoff_census_tract    170749 non-null  int64         \n",
      " 7   pickup_community_area   170749 non-null  int64         \n",
      " 8   dropoff_community_area  170749 non-null  int64         \n",
      " 9   fare                    170749 non-null  float64       \n",
      " 10  tips                    170749 non-null  float64       \n",
      " 11  tolls                   170749 non-null  float64       \n",
      " 12  Extras                  170749 non-null  float64       \n",
      " 13  trip_total              170749 non-null  float64       \n",
      " 14  payment_type            170749 non-null  object        \n",
      " 15  Company                 170749 non-null  object        \n",
      " 16  hour_start              170749 non-null  int32         \n",
      " 17  4_hour_block_start      170749 non-null  int32         \n",
      " 18  day_start               170749 non-null  int32         \n",
      " 19  dayofweek_start         170749 non-null  int32         \n",
      " 20  week_start              170749 non-null  UInt32        \n",
      " 21  month_start             170749 non-null  int32         \n",
      " 22  hour_end                170749 non-null  int32         \n",
      " 23  4_hour_block_end        170749 non-null  int32         \n",
      " 24  day_end                 170749 non-null  int32         \n",
      " 25  dayofweek_end           170749 non-null  int32         \n",
      " 26  week_end                170749 non-null  UInt32        \n",
      " 27  month_end               170749 non-null  int32         \n",
      " 28  is_weekday              170749 non-null  bool          \n",
      " 29  h3_07_pickup            170749 non-null  object        \n",
      " 30  h3_07_dropoff           170749 non-null  object        \n",
      " 31  h3_08_pickup            170749 non-null  object        \n",
      " 32  h3_08_dropoff           170749 non-null  object        \n",
      " 33  h3_09_pickup            170749 non-null  object        \n",
      " 34  h3_09_dropoff           170749 non-null  object        \n",
      " 35  pickup_centroid         170749 non-null  object        \n",
      " 36  dropoff_centroid        170749 non-null  object        \n",
      " 37  datetime                170749 non-null  datetime64[ns]\n",
      " 38  temp                    170749 non-null  float64       \n",
      " 39  precip                  170749 non-null  int64         \n",
      "dtypes: UInt32(2), bool(1), datetime64[ns](3), float64(8), int32(10), int64(6), object(10)\n",
      "memory usage: 43.5+ MB\n"
     ]
    },
    {
     "data": {
      "text/plain": "   taxi_id trip_start_timestamp  trip_end_timestamp  trip_seconds  trip_miles  \\\n0        1  2015-01-01 00:00:00 2015-01-01 00:15:00         840.0         2.9   \n1        2  2015-01-01 00:00:00 2015-01-01 00:00:00         480.0         0.9   \n2        3  2015-01-01 00:00:00 2015-01-01 00:15:00         600.0         2.4   \n3        4  2015-01-01 00:15:00 2015-01-01 00:15:00         377.0         1.4   \n4        5  2015-01-01 00:15:00 2015-01-01 00:30:00         480.0         1.4   \n\n   pickup_census_tract  dropoff_census_tract  pickup_community_area  \\\n0          17031241400           17031062800                     24   \n1          17031320100           17031081500                     32   \n2          17031071500           17031070700                      7   \n3          17031081700           17031281900                      8   \n4          17031080300           17031081700                      8   \n\n   dropoff_community_area  fare  ...    h3_07_dropoff     h3_08_pickup  \\\n0                       6  9.85  ...  872664c12ffffff  882664cac1fffff   \n1                       8  6.25  ...  872664c1effffff  882664c1e3fffff   \n2                       7  8.85  ...  872664c12ffffff  882664c115fffff   \n3                      28  6.45  ...  872664c1affffff  882664c1e7fffff   \n4                       8  6.65  ...  872664c1effffff  882664c13bfffff   \n\n     h3_08_dropoff     h3_09_pickup    h3_09_dropoff  \\\n0  882664c129fffff  892664cac03ffff  892664c1293ffff   \n1  882664c1e1fffff  892664c1e2fffff  892664c1e0fffff   \n2  882664c121fffff  892664c114fffff  892664c1257ffff   \n3  882664c1adfffff  892664c1e73ffff  892664c1acfffff   \n4  882664c1e7fffff  892664c13afffff  892664c1e73ffff   \n\n                      pickup_centroid                    dropoff_centroid  \\\n0  POINT (-87.675311622 41.906025969)  POINT (-87.661265218 41.936159071)   \n1  POINT (-87.620992913 41.884987192)  POINT (-87.626214906 41.892507781)   \n2  POINT (-87.631717366 41.914616286)  POINT (-87.673807238 41.929272532)   \n3   POINT (-87.63186395 41.892042136)  POINT (-87.642648998 41.879255084)   \n4    POINT (-87.63576009 41.90749193)   POINT (-87.63186395 41.892042136)   \n\n    datetime    temp  precip  \n0 2015-01-01 -7.0115       0  \n1 2015-01-01 -7.0115       0  \n2 2015-01-01 -7.0115       0  \n3 2015-01-01 -7.0115       0  \n4 2015-01-01 -7.0115       0  \n\n[5 rows x 40 columns]",
      "text/html": "<div>\n<style scoped>\n    .dataframe tbody tr th:only-of-type {\n        vertical-align: middle;\n    }\n\n    .dataframe tbody tr th {\n        vertical-align: top;\n    }\n\n    .dataframe thead th {\n        text-align: right;\n    }\n</style>\n<table border=\"1\" class=\"dataframe\">\n  <thead>\n    <tr style=\"text-align: right;\">\n      <th></th>\n      <th>taxi_id</th>\n      <th>trip_start_timestamp</th>\n      <th>trip_end_timestamp</th>\n      <th>trip_seconds</th>\n      <th>trip_miles</th>\n      <th>pickup_census_tract</th>\n      <th>dropoff_census_tract</th>\n      <th>pickup_community_area</th>\n      <th>dropoff_community_area</th>\n      <th>fare</th>\n      <th>...</th>\n      <th>h3_07_dropoff</th>\n      <th>h3_08_pickup</th>\n      <th>h3_08_dropoff</th>\n      <th>h3_09_pickup</th>\n      <th>h3_09_dropoff</th>\n      <th>pickup_centroid</th>\n      <th>dropoff_centroid</th>\n      <th>datetime</th>\n      <th>temp</th>\n      <th>precip</th>\n    </tr>\n  </thead>\n  <tbody>\n    <tr>\n      <th>0</th>\n      <td>1</td>\n      <td>2015-01-01 00:00:00</td>\n      <td>2015-01-01 00:15:00</td>\n      <td>840.0</td>\n      <td>2.9</td>\n      <td>17031241400</td>\n      <td>17031062800</td>\n      <td>24</td>\n      <td>6</td>\n      <td>9.85</td>\n      <td>...</td>\n      <td>872664c12ffffff</td>\n      <td>882664cac1fffff</td>\n      <td>882664c129fffff</td>\n      <td>892664cac03ffff</td>\n      <td>892664c1293ffff</td>\n      <td>POINT (-87.675311622 41.906025969)</td>\n      <td>POINT (-87.661265218 41.936159071)</td>\n      <td>2015-01-01</td>\n      <td>-7.0115</td>\n      <td>0</td>\n    </tr>\n    <tr>\n      <th>1</th>\n      <td>2</td>\n      <td>2015-01-01 00:00:00</td>\n      <td>2015-01-01 00:00:00</td>\n      <td>480.0</td>\n      <td>0.9</td>\n      <td>17031320100</td>\n      <td>17031081500</td>\n      <td>32</td>\n      <td>8</td>\n      <td>6.25</td>\n      <td>...</td>\n      <td>872664c1effffff</td>\n      <td>882664c1e3fffff</td>\n      <td>882664c1e1fffff</td>\n      <td>892664c1e2fffff</td>\n      <td>892664c1e0fffff</td>\n      <td>POINT (-87.620992913 41.884987192)</td>\n      <td>POINT (-87.626214906 41.892507781)</td>\n      <td>2015-01-01</td>\n      <td>-7.0115</td>\n      <td>0</td>\n    </tr>\n    <tr>\n      <th>2</th>\n      <td>3</td>\n      <td>2015-01-01 00:00:00</td>\n      <td>2015-01-01 00:15:00</td>\n      <td>600.0</td>\n      <td>2.4</td>\n      <td>17031071500</td>\n      <td>17031070700</td>\n      <td>7</td>\n      <td>7</td>\n      <td>8.85</td>\n      <td>...</td>\n      <td>872664c12ffffff</td>\n      <td>882664c115fffff</td>\n      <td>882664c121fffff</td>\n      <td>892664c114fffff</td>\n      <td>892664c1257ffff</td>\n      <td>POINT (-87.631717366 41.914616286)</td>\n      <td>POINT (-87.673807238 41.929272532)</td>\n      <td>2015-01-01</td>\n      <td>-7.0115</td>\n      <td>0</td>\n    </tr>\n    <tr>\n      <th>3</th>\n      <td>4</td>\n      <td>2015-01-01 00:15:00</td>\n      <td>2015-01-01 00:15:00</td>\n      <td>377.0</td>\n      <td>1.4</td>\n      <td>17031081700</td>\n      <td>17031281900</td>\n      <td>8</td>\n      <td>28</td>\n      <td>6.45</td>\n      <td>...</td>\n      <td>872664c1affffff</td>\n      <td>882664c1e7fffff</td>\n      <td>882664c1adfffff</td>\n      <td>892664c1e73ffff</td>\n      <td>892664c1acfffff</td>\n      <td>POINT (-87.63186395 41.892042136)</td>\n      <td>POINT (-87.642648998 41.879255084)</td>\n      <td>2015-01-01</td>\n      <td>-7.0115</td>\n      <td>0</td>\n    </tr>\n    <tr>\n      <th>4</th>\n      <td>5</td>\n      <td>2015-01-01 00:15:00</td>\n      <td>2015-01-01 00:30:00</td>\n      <td>480.0</td>\n      <td>1.4</td>\n      <td>17031080300</td>\n      <td>17031081700</td>\n      <td>8</td>\n      <td>8</td>\n      <td>6.65</td>\n      <td>...</td>\n      <td>872664c1effffff</td>\n      <td>882664c13bfffff</td>\n      <td>882664c1e7fffff</td>\n      <td>892664c13afffff</td>\n      <td>892664c1e73ffff</td>\n      <td>POINT (-87.63576009 41.90749193)</td>\n      <td>POINT (-87.63186395 41.892042136)</td>\n      <td>2015-01-01</td>\n      <td>-7.0115</td>\n      <td>0</td>\n    </tr>\n  </tbody>\n</table>\n<p>5 rows × 40 columns</p>\n</div>"
     },
     "execution_count": 18,
     "metadata": {},
     "output_type": "execute_result"
    }
   ],
   "source": [
    "# Allgemeine Infos zum DF\n",
    "trips_df.info()\n",
    "trips_df.head(5)"
   ]
  },
  {
   "cell_type": "code",
   "execution_count": 19,
   "outputs": [],
   "source": [
    "# Extrahieren der Längen- und Breitengrade\n",
    "def extract_coordinates(point):\n",
    "    coords = re.findall(r\"[-+]?\\d*\\.\\d+|\\d+\", point)\n",
    "    return [float(coord) for coord in coords]\n",
    "\n",
    "trips_df['pickup_point'] = trips_df['pickup_centroid'].apply(extract_coordinates)\n",
    "trips_df['dropoff_point'] = trips_df['dropoff_centroid'].apply(extract_coordinates)\n",
    "\n",
    "pickup_coordinates = np.vstack(trips_df['pickup_point'].values)\n",
    "dropoff_coordinates = np.vstack(trips_df['dropoff_point'].values)"
   ],
   "metadata": {
    "collapsed": false,
    "ExecuteTime": {
     "end_time": "2023-08-05T15:34:39.294467Z",
     "start_time": "2023-08-05T15:34:38.545021Z"
    }
   }
  },
  {
   "cell_type": "markdown",
   "source": [
    "### Bestimmung der Hyperparameter\n",
    "#### Number of clusters"
   ],
   "metadata": {
    "collapsed": false
   }
  },
  {
   "cell_type": "code",
   "execution_count": 20,
   "outputs": [],
   "source": [
    "# Ellbogen Methode für pickup und dropoff\n",
    "n_components = np.arange(1, 10)\n",
    "\n",
    "# Modelle für pickup\n",
    "models_pickup = [GaussianMixture(n, covariance_type='full', random_state=0).fit(pickup_coordinates)\n",
    "                 for n in n_components]\n",
    "# Modelle für dropoff\n",
    "models_dropoff = [GaussianMixture(n, covariance_type='full', random_state=0).fit(dropoff_coordinates)\n",
    "                  for n in n_components]"
   ],
   "metadata": {
    "collapsed": false,
    "ExecuteTime": {
     "end_time": "2023-08-05T15:35:10.997666Z",
     "start_time": "2023-08-05T15:34:39.295909Z"
    }
   }
  },
  {
   "cell_type": "code",
   "execution_count": 21,
   "outputs": [
    {
     "data": {
      "text/plain": "<Figure size 800x600 with 1 Axes>",
      "image/png": "[encoded data removed]"
     },
     "metadata": {},
     "output_type": "display_data"
    }
   ],
   "source": [
    "# Erstellen Sie eine einzelne Figur\n",
    "plt.figure(figsize=(8, 6))\n",
    "\n",
    "# Zeichnen Sie den Plot für pickup\n",
    "plt.plot(n_components, [-m.score(pickup_coordinates) for m in models_pickup], color='blue', label='Pickup', marker='o')\n",
    "\n",
    "# Zeichnen Sie den Plot für dropoff\n",
    "plt.plot(n_components, [-m.score(dropoff_coordinates) for m in models_dropoff], color='red', label='Dropoff', marker='o')\n",
    "\n",
    "# Beschriftung und Legende\n",
    "plt.title('Elbow method for determining the optimal number of clusters')\n",
    "plt.xlabel('Number of clusters')\n",
    "plt.legend(loc='best')\n",
    "plt.show()"
   ],
   "metadata": {
    "collapsed": false,
    "ExecuteTime": {
     "end_time": "2023-08-05T15:35:11.991668Z",
     "start_time": "2023-08-05T15:35:11.018644Z"
    }
   }
  },
  {
   "cell_type": "markdown",
   "source": [
    "### optimal bandwith "
   ],
   "metadata": {
    "collapsed": false
   }
  },
  {
   "cell_type": "code",
   "execution_count": 22,
   "outputs": [
    {
     "name": "stdout",
     "output_type": "stream",
     "text": [
      "Beste Bandbreite Pickup:  0.1\n",
      "Beste Bandbreite Dropoff:  0.1\n"
     ]
    }
   ],
   "source": [
    "def calculate_best_bandwidth(coordinates, bandwidths_range=(-1, 1, 10), cv=5, n_jobs=-1):\n",
    "    # Berechnung einer optimalen Bandbreite\n",
    "    bandwidths = 10 ** np.linspace(*bandwidths_range)\n",
    "\n",
    "    # Erzeugen Sie ein KernelDensity-Objekt\n",
    "    kde = KernelDensity()\n",
    "\n",
    "    # Nutzen Sie GridSearchCV, um die beste Bandbreite zu finden\n",
    "    # Hier setzen wir n_jobs=-1, um alle verfügbaren Kerne zu nutzen\n",
    "    grid = GridSearchCV(kde, {'bandwidth': bandwidths}, cv=cv, n_jobs=n_jobs)  # Kreuzvalidierung\n",
    "    grid.fit(coordinates)\n",
    "\n",
    "    # Beste Bandbreite\n",
    "    best_bandwidth = grid.best_params_['bandwidth']\n",
    "\n",
    "    return best_bandwidth\n",
    "\n",
    "# Beste Bandbreite für Abholort berechnen\n",
    "best_bandwidth_pickup = calculate_best_bandwidth(pickup_coordinates)\n",
    "print(\"Beste Bandbreite Pickup: \", best_bandwidth_pickup)\n",
    "\n",
    "# Beste Bandbreite für Absetzort berechnen\n",
    "best_bandwidth_dropoff = calculate_best_bandwidth(dropoff_coordinates)\n",
    "print(\"Beste Bandbreite Dropoff: \", best_bandwidth_dropoff)"
   ],
   "metadata": {
    "collapsed": false,
    "ExecuteTime": {
     "end_time": "2023-08-05T16:10:28.580797Z",
     "start_time": "2023-08-05T15:35:11.988802Z"
    }
   }
  },
  {
   "cell_type": "markdown",
   "source": [
    "#### KDE Bandwith"
   ],
   "metadata": {
    "collapsed": false
   }
  },
  {
   "cell_type": "code",
   "execution_count": 23,
   "outputs": [],
   "source": [
    "# Erstellen Sie eine räumliche Kerndichteschätzung\n",
    "kde_pickup = KernelDensity(kernel='gaussian', bandwidth=best_bandwidth_pickup).fit(pickup_coordinates)\n",
    "kde_dropoff = KernelDensity(kernel='gaussian', bandwidth=best_bandwidth_dropoff).fit(dropoff_coordinates)\n",
    "\n",
    "# Berechnen Sie die Dichte-Schätzung für die Datenpunkte\n",
    "pickup_density = np.exp(kde_pickup.score_samples(pickup_coordinates))\n",
    "dropoff_density = np.exp(kde_dropoff.score_samples(dropoff_coordinates))"
   ],
   "metadata": {
    "collapsed": false,
    "ExecuteTime": {
     "end_time": "2023-08-05T16:48:19.895701Z",
     "start_time": "2023-08-05T16:10:28.583280Z"
    }
   }
  },
  {
   "cell_type": "markdown",
   "source": [
    "## GMM"
   ],
   "metadata": {
    "collapsed": false
   }
  },
  {
   "cell_type": "code",
   "execution_count": 24,
   "outputs": [],
   "source": [
    "# Anwendung der Gaußschen Mischmodelle auf die Dichteschätzung\n",
    "gmm_pickup = GaussianMixture(n_components=4).fit(pickup_coordinates, pickup_density)\n",
    "gmm_dropoff = GaussianMixture(n_components=4).fit(dropoff_coordinates, dropoff_density)"
   ],
   "metadata": {
    "collapsed": false,
    "ExecuteTime": {
     "end_time": "2023-08-05T16:48:21.528311Z",
     "start_time": "2023-08-05T16:48:19.898169Z"
    }
   }
  },
  {
   "cell_type": "code",
   "execution_count": 25,
   "outputs": [
    {
     "name": "stdout",
     "output_type": "stream",
     "text": [
      "Hotspot-Zentren (Abholung): [[-87.62843786  41.88848556]\n",
      " [-87.90303966  41.97907082]\n",
      " [-87.64299676  41.9037069 ]\n",
      " [-87.75093429  41.78599852]]\n",
      "Hotspot-Größen (Abholung): [[[ 5.50485375e-05  1.49842467e-05]\n",
      "  [ 1.49842467e-05  5.70015907e-05]]\n",
      "\n",
      " [[ 1.00000000e-06  9.93586087e-26]\n",
      "  [ 9.93586087e-26  1.00000000e-06]]\n",
      "\n",
      " [[ 3.32098880e-04 -3.02341700e-04]\n",
      "  [-3.02341700e-04  9.66284738e-04]]\n",
      "\n",
      " [[ 1.00000000e-06 -2.45384116e-16]\n",
      "  [-2.45384116e-16  1.00000000e-06]]]\n",
      "Hotspot-Zentren (Absetzung): [[-87.62845568  41.88851111]\n",
      " [-87.90303966  41.97907082]\n",
      " [-87.64636155  41.90550038]\n",
      " [-87.75093429  41.78599852]]\n",
      "Hotspot-Größen (Absetzung): [[[ 5.77562451e-05  1.40381936e-05]\n",
      "  [ 1.40381936e-05  6.60585347e-05]]\n",
      "\n",
      " [[ 1.00000000e-06 -6.55322531e-26]\n",
      "  [-6.55322531e-26  1.00000000e-06]]\n",
      "\n",
      " [[ 4.17188557e-04 -3.28747323e-04]\n",
      "  [-3.28747323e-04  1.07094505e-03]]\n",
      "\n",
      " [[ 1.00000000e-06  1.05506279e-23]\n",
      "  [ 1.05506279e-23  1.00000000e-06]]]\n"
     ]
    }
   ],
   "source": [
    "pickup_covariances = gmm_pickup.covariances_\n",
    "dropoff_covariances = gmm_dropoff.covariances_\n",
    "pickup_centers = gmm_pickup.means_\n",
    "dropoff_centers = gmm_dropoff.means_\n",
    "\n",
    "# Ausgabe der Position (Mittelwerte) und Größe (Varianzen) der identifizierten Hotspots\n",
    "print(\"Hotspot-Zentren (Abholung):\", gmm_pickup.means_)\n",
    "print(\"Hotspot-Größen (Abholung):\", gmm_pickup.covariances_)\n",
    "print(\"Hotspot-Zentren (Absetzung):\", gmm_dropoff.means_)\n",
    "print(\"Hotspot-Größen (Absetzung):\", gmm_dropoff.covariances_)"
   ],
   "metadata": {
    "collapsed": false,
    "ExecuteTime": {
     "end_time": "2023-08-05T16:48:21.540083Z",
     "start_time": "2023-08-05T16:48:21.533027Z"
    }
   }
  },
  {
   "cell_type": "markdown",
   "source": [
    "## Visualsisierung"
   ],
   "metadata": {
    "collapsed": false
   }
  },
  {
   "cell_type": "code",
   "execution_count": 27,
   "outputs": [
    {
     "data": {
      "text/plain": "<folium.folium.Map at 0x2adca4190>",
      "text/html": "<div style=\"width:100%;\"><div style=\"position:relative;width:100%;height:0;padding-bottom:60%;\"><span style=\"color:#565656\">Make this Notebook Trusted to load map: File -> Trust Notebook</span><iframe srcdoc=\"&lt;!DOCTYPE html&gt;\n&lt;html&gt;\n&lt;head&gt;\n    \n    &lt;meta http-equiv=&quot;content-type&quot; content=&quot;text/html; charset=UTF-8&quot; /&gt;\n    \n        &lt;script&gt;\n            L_NO_TOUCH = false;\n            L_DISABLE_3D = false;\n        &lt;/script&gt;\n    \n    &lt;style&gt;html, body {width: 100%;height: 100%;margin: 0;padding: 0;}&lt;/style&gt;\n    &lt;style&gt;#map {position:absolute;top:0;bottom:0;right:0;left:0;}&lt;/style&gt;\n    &lt;script src=&quot;https://cdn.jsdelivr.net/npm/leaflet@1.9.3/dist/leaflet.js&quot;&gt;&lt;/script&gt;\n    &lt;script src=&quot;https://code.jquery.com/jquery-1.12.4.min.js&quot;&gt;&lt;/script&gt;\n    &lt;script src=&quot;https://cdn.jsdelivr.net/npm/bootstrap@5.2.2/dist/js/bootstrap.bundle.min.js&quot;&gt;&lt;/script&gt;\n    &lt;script src=&quot;https://cdnjs.cloudflare.com/ajax/libs/Leaflet.awesome-markers/2.0.2/leaflet.awesome-markers.js&quot;&gt;&lt;/script&gt;\n    &lt;link rel=&quot;stylesheet&quot; href=&quot;https://cdn.jsdelivr.net/npm/leaflet@1.9.3/dist/leaflet.css&quot;/&gt;\n    &lt;link rel=&quot;stylesheet&quot; href=&quot;https://cdn.jsdelivr.net/npm/bootstrap@5.2.2/dist/css/bootstrap.min.css&quot;/&gt;\n    &lt;link rel=&quot;stylesheet&quot; href=&quot;https://netdna.bootstrapcdn.com/bootstrap/3.0.0/css/bootstrap.min.css&quot;/&gt;\n    &lt;link rel=&quot;stylesheet&quot; href=&quot;https://cdn.jsdelivr.net/npm/@fortawesome/fontawesome-free@6.2.0/css/all.min.css&quot;/&gt;\n    &lt;link rel=&quot;stylesheet&quot; href=&quot;https://cdnjs.cloudflare.com/ajax/libs/Leaflet.awesome-markers/2.0.2/leaflet.awesome-markers.css&quot;/&gt;\n    &lt;link rel=&quot;stylesheet&quot; href=&quot;https://cdn.jsdelivr.net/gh/python-visualization/folium/folium/templates/leaflet.awesome.rotate.min.css&quot;/&gt;\n    \n            &lt;meta name=&quot;viewport&quot; content=&quot;width=device-width,\n                initial-scale=1.0, maximum-scale=1.0, user-scalable=no&quot; /&gt;\n            &lt;style&gt;\n                #map_ed6d1b9d69a49d335c335fd3beb03c32 {\n                    position: relative;\n                    width: 100.0%;\n                    height: 100.0%;\n                    left: 0.0%;\n                    top: 0.0%;\n                }\n                .leaflet-container { font-size: 1rem; }\n            &lt;/style&gt;\n        \n&lt;/head&gt;\n&lt;body&gt;\n    \n    \n            &lt;div class=&quot;folium-map&quot; id=&quot;map_ed6d1b9d69a49d335c335fd3beb03c32&quot; &gt;&lt;/div&gt;\n        \n&lt;/body&gt;\n&lt;script&gt;\n    \n    \n            var map_ed6d1b9d69a49d335c335fd3beb03c32 = L.map(\n                &quot;map_ed6d1b9d69a49d335c335fd3beb03c32&quot;,\n                {\n                    center: [41.8781, -87.6298],\n                    crs: L.CRS.EPSG3857,\n                    zoom: 11,\n                    zoomControl: true,\n                    preferCanvas: false,\n                }\n            );\n\n            \n\n        \n    \n            var tile_layer_10569c4595173e3b6d5782c0eeb492c8 = L.tileLayer(\n                &quot;https://{s}.tile.openstreetmap.org/{z}/{x}/{y}.png&quot;,\n                {&quot;attribution&quot;: &quot;Data by \\u0026copy; \\u003ca target=\\&quot;_blank\\&quot; href=\\&quot;http://openstreetmap.org\\&quot;\\u003eOpenStreetMap\\u003c/a\\u003e, under \\u003ca target=\\&quot;_blank\\&quot; href=\\&quot;http://www.openstreetmap.org/copyright\\&quot;\\u003eODbL\\u003c/a\\u003e.&quot;, &quot;detectRetina&quot;: false, &quot;maxNativeZoom&quot;: 18, &quot;maxZoom&quot;: 18, &quot;minZoom&quot;: 0, &quot;noWrap&quot;: false, &quot;opacity&quot;: 1, &quot;subdomains&quot;: &quot;abc&quot;, &quot;tms&quot;: false}\n            ).addTo(map_ed6d1b9d69a49d335c335fd3beb03c32);\n        \n    \n            var marker_fa3b86b2f631b863245d89ebdef9bebb = L.marker(\n                [41.88848555763011, -87.62843786081062],\n                {}\n            ).addTo(map_ed6d1b9d69a49d335c335fd3beb03c32);\n        \n    \n            var icon_480396285d4aac2a7e5a649b87139e18 = L.AwesomeMarkers.icon(\n                {&quot;extraClasses&quot;: &quot;fa-rotate-0&quot;, &quot;icon&quot;: &quot;info-sign&quot;, &quot;iconColor&quot;: &quot;white&quot;, &quot;markerColor&quot;: &quot;blue&quot;, &quot;prefix&quot;: &quot;glyphicon&quot;}\n            );\n            marker_fa3b86b2f631b863245d89ebdef9bebb.setIcon(icon_480396285d4aac2a7e5a649b87139e18);\n        \n    \n        var popup_388f60ef78fb2a0667fe9cea4fd86261 = L.popup({&quot;maxWidth&quot;: &quot;100%&quot;});\n\n        \n            \n                var html_a3773de0bb064971711075a78f7c3d0c = $(`&lt;div id=&quot;html_a3773de0bb064971711075a78f7c3d0c&quot; style=&quot;width: 100.0%; height: 100.0%;&quot;&gt;Pickup Center&lt;/div&gt;`)[0];\n                popup_388f60ef78fb2a0667fe9cea4fd86261.setContent(html_a3773de0bb064971711075a78f7c3d0c);\n            \n        \n\n        marker_fa3b86b2f631b863245d89ebdef9bebb.bindPopup(popup_388f60ef78fb2a0667fe9cea4fd86261)\n        ;\n\n        \n    \n    \n            var marker_71a5a625578e5fb553c5fcf36069a82a = L.marker(\n                [41.97907081999991, -87.90303966100116],\n                {}\n            ).addTo(map_ed6d1b9d69a49d335c335fd3beb03c32);\n        \n    \n            var icon_963e646e7560181420902d6d9815c474 = L.AwesomeMarkers.icon(\n                {&quot;extraClasses&quot;: &quot;fa-rotate-0&quot;, &quot;icon&quot;: &quot;info-sign&quot;, &quot;iconColor&quot;: &quot;white&quot;, &quot;markerColor&quot;: &quot;blue&quot;, &quot;prefix&quot;: &quot;glyphicon&quot;}\n            );\n            marker_71a5a625578e5fb553c5fcf36069a82a.setIcon(icon_963e646e7560181420902d6d9815c474);\n        \n    \n        var popup_64c8c3c16c0d17bb0d5f37d5937ec7c0 = L.popup({&quot;maxWidth&quot;: &quot;100%&quot;});\n\n        \n            \n                var html_475edec0ca352324b982d046702de639 = $(`&lt;div id=&quot;html_475edec0ca352324b982d046702de639&quot; style=&quot;width: 100.0%; height: 100.0%;&quot;&gt;Pickup Center&lt;/div&gt;`)[0];\n                popup_64c8c3c16c0d17bb0d5f37d5937ec7c0.setContent(html_475edec0ca352324b982d046702de639);\n            \n        \n\n        marker_71a5a625578e5fb553c5fcf36069a82a.bindPopup(popup_64c8c3c16c0d17bb0d5f37d5937ec7c0)\n        ;\n\n        \n    \n    \n            var marker_dc3ed5d6e15dd124a7228abf38d64844 = L.marker(\n                [41.903706897471544, -87.64299676117942],\n                {}\n            ).addTo(map_ed6d1b9d69a49d335c335fd3beb03c32);\n        \n    \n            var icon_d0e5aab80c257d82b0521197b46c98af = L.AwesomeMarkers.icon(\n                {&quot;extraClasses&quot;: &quot;fa-rotate-0&quot;, &quot;icon&quot;: &quot;info-sign&quot;, &quot;iconColor&quot;: &quot;white&quot;, &quot;markerColor&quot;: &quot;blue&quot;, &quot;prefix&quot;: &quot;glyphicon&quot;}\n            );\n            marker_dc3ed5d6e15dd124a7228abf38d64844.setIcon(icon_d0e5aab80c257d82b0521197b46c98af);\n        \n    \n        var popup_8398012f3ccf664fb072fafa4b41f39c = L.popup({&quot;maxWidth&quot;: &quot;100%&quot;});\n\n        \n            \n                var html_11d0658ad2100effa235c68250545561 = $(`&lt;div id=&quot;html_11d0658ad2100effa235c68250545561&quot; style=&quot;width: 100.0%; height: 100.0%;&quot;&gt;Pickup Center&lt;/div&gt;`)[0];\n                popup_8398012f3ccf664fb072fafa4b41f39c.setContent(html_11d0658ad2100effa235c68250545561);\n            \n        \n\n        marker_dc3ed5d6e15dd124a7228abf38d64844.bindPopup(popup_8398012f3ccf664fb072fafa4b41f39c)\n        ;\n\n        \n    \n    \n            var marker_f4a2e96b0b26b6814f3a4811d680397e = L.marker(\n                [41.78599851799963, -87.75093428900014],\n                {}\n            ).addTo(map_ed6d1b9d69a49d335c335fd3beb03c32);\n        \n    \n            var icon_7cf7e51b44d4f4298d03ecb62f52650b = L.AwesomeMarkers.icon(\n                {&quot;extraClasses&quot;: &quot;fa-rotate-0&quot;, &quot;icon&quot;: &quot;info-sign&quot;, &quot;iconColor&quot;: &quot;white&quot;, &quot;markerColor&quot;: &quot;blue&quot;, &quot;prefix&quot;: &quot;glyphicon&quot;}\n            );\n            marker_f4a2e96b0b26b6814f3a4811d680397e.setIcon(icon_7cf7e51b44d4f4298d03ecb62f52650b);\n        \n    \n        var popup_35357e6dc5f1523e43b0cb7d01132c3b = L.popup({&quot;maxWidth&quot;: &quot;100%&quot;});\n\n        \n            \n                var html_8e3ca473a2ddd2f2d844537561883dd9 = $(`&lt;div id=&quot;html_8e3ca473a2ddd2f2d844537561883dd9&quot; style=&quot;width: 100.0%; height: 100.0%;&quot;&gt;Pickup Center&lt;/div&gt;`)[0];\n                popup_35357e6dc5f1523e43b0cb7d01132c3b.setContent(html_8e3ca473a2ddd2f2d844537561883dd9);\n            \n        \n\n        marker_f4a2e96b0b26b6814f3a4811d680397e.bindPopup(popup_35357e6dc5f1523e43b0cb7d01132c3b)\n        ;\n\n        \n    \n    \n            var marker_ceeb0b3b8e1d765fbb35c09f02e2b9b6 = L.marker(\n                [41.88851111257837, -87.62845567766229],\n                {}\n            ).addTo(map_ed6d1b9d69a49d335c335fd3beb03c32);\n        \n    \n            var icon_4a737a90903a7ef1451bfca6ef35c8fe = L.AwesomeMarkers.icon(\n                {&quot;extraClasses&quot;: &quot;fa-rotate-0&quot;, &quot;icon&quot;: &quot;info-sign&quot;, &quot;iconColor&quot;: &quot;white&quot;, &quot;markerColor&quot;: &quot;red&quot;, &quot;prefix&quot;: &quot;glyphicon&quot;}\n            );\n            marker_ceeb0b3b8e1d765fbb35c09f02e2b9b6.setIcon(icon_4a737a90903a7ef1451bfca6ef35c8fe);\n        \n    \n        var popup_20f76731ae440d7464671dce57e8f214 = L.popup({&quot;maxWidth&quot;: &quot;100%&quot;});\n\n        \n            \n                var html_2e1f0f1b88140510fa59cd8fd67e1832 = $(`&lt;div id=&quot;html_2e1f0f1b88140510fa59cd8fd67e1832&quot; style=&quot;width: 100.0%; height: 100.0%;&quot;&gt;Dropoff Center&lt;/div&gt;`)[0];\n                popup_20f76731ae440d7464671dce57e8f214.setContent(html_2e1f0f1b88140510fa59cd8fd67e1832);\n            \n        \n\n        marker_ceeb0b3b8e1d765fbb35c09f02e2b9b6.bindPopup(popup_20f76731ae440d7464671dce57e8f214)\n        ;\n\n        \n    \n    \n            var marker_a6a6f2b8336986d090919b2f1c1a4ff6 = L.marker(\n                [41.979070820000075, -87.90303966100083],\n                {}\n            ).addTo(map_ed6d1b9d69a49d335c335fd3beb03c32);\n        \n    \n            var icon_b5800c14503e335debc201b9f61511e3 = L.AwesomeMarkers.icon(\n                {&quot;extraClasses&quot;: &quot;fa-rotate-0&quot;, &quot;icon&quot;: &quot;info-sign&quot;, &quot;iconColor&quot;: &quot;white&quot;, &quot;markerColor&quot;: &quot;red&quot;, &quot;prefix&quot;: &quot;glyphicon&quot;}\n            );\n            marker_a6a6f2b8336986d090919b2f1c1a4ff6.setIcon(icon_b5800c14503e335debc201b9f61511e3);\n        \n    \n        var popup_3b7bb22e412c41368a1a9ca946471b3b = L.popup({&quot;maxWidth&quot;: &quot;100%&quot;});\n\n        \n            \n                var html_93a6aa396f3692bf6209102709bcab80 = $(`&lt;div id=&quot;html_93a6aa396f3692bf6209102709bcab80&quot; style=&quot;width: 100.0%; height: 100.0%;&quot;&gt;Dropoff Center&lt;/div&gt;`)[0];\n                popup_3b7bb22e412c41368a1a9ca946471b3b.setContent(html_93a6aa396f3692bf6209102709bcab80);\n            \n        \n\n        marker_a6a6f2b8336986d090919b2f1c1a4ff6.bindPopup(popup_3b7bb22e412c41368a1a9ca946471b3b)\n        ;\n\n        \n    \n    \n            var marker_182004df64f2138717e7c77981157d68 = L.marker(\n                [41.905500375266044, -87.64636154654055],\n                {}\n            ).addTo(map_ed6d1b9d69a49d335c335fd3beb03c32);\n        \n    \n            var icon_f5af07fe2e0efc1f75f16f751fd05edd = L.AwesomeMarkers.icon(\n                {&quot;extraClasses&quot;: &quot;fa-rotate-0&quot;, &quot;icon&quot;: &quot;info-sign&quot;, &quot;iconColor&quot;: &quot;white&quot;, &quot;markerColor&quot;: &quot;red&quot;, &quot;prefix&quot;: &quot;glyphicon&quot;}\n            );\n            marker_182004df64f2138717e7c77981157d68.setIcon(icon_f5af07fe2e0efc1f75f16f751fd05edd);\n        \n    \n        var popup_ffdc9ae5ca90127e9fc8425b0be6ad4f = L.popup({&quot;maxWidth&quot;: &quot;100%&quot;});\n\n        \n            \n                var html_cfa1d5e2cd61092a6fa8e243481b8aad = $(`&lt;div id=&quot;html_cfa1d5e2cd61092a6fa8e243481b8aad&quot; style=&quot;width: 100.0%; height: 100.0%;&quot;&gt;Dropoff Center&lt;/div&gt;`)[0];\n                popup_ffdc9ae5ca90127e9fc8425b0be6ad4f.setContent(html_cfa1d5e2cd61092a6fa8e243481b8aad);\n            \n        \n\n        marker_182004df64f2138717e7c77981157d68.bindPopup(popup_ffdc9ae5ca90127e9fc8425b0be6ad4f)\n        ;\n\n        \n    \n    \n            var marker_8ce1d43d1e2662e55247d09b741bcde1 = L.marker(\n                [41.785998517999616, -87.75093428900011],\n                {}\n            ).addTo(map_ed6d1b9d69a49d335c335fd3beb03c32);\n        \n    \n            var icon_af73ce855ad05ab0d0e63d8b27ab5af6 = L.AwesomeMarkers.icon(\n                {&quot;extraClasses&quot;: &quot;fa-rotate-0&quot;, &quot;icon&quot;: &quot;info-sign&quot;, &quot;iconColor&quot;: &quot;white&quot;, &quot;markerColor&quot;: &quot;red&quot;, &quot;prefix&quot;: &quot;glyphicon&quot;}\n            );\n            marker_8ce1d43d1e2662e55247d09b741bcde1.setIcon(icon_af73ce855ad05ab0d0e63d8b27ab5af6);\n        \n    \n        var popup_16f023f20a5d6c7d6d559519fc217c61 = L.popup({&quot;maxWidth&quot;: &quot;100%&quot;});\n\n        \n            \n                var html_e85d25b1ded6d739f8d4e77e9ca28ee4 = $(`&lt;div id=&quot;html_e85d25b1ded6d739f8d4e77e9ca28ee4&quot; style=&quot;width: 100.0%; height: 100.0%;&quot;&gt;Dropoff Center&lt;/div&gt;`)[0];\n                popup_16f023f20a5d6c7d6d559519fc217c61.setContent(html_e85d25b1ded6d739f8d4e77e9ca28ee4);\n            \n        \n\n        marker_8ce1d43d1e2662e55247d09b741bcde1.bindPopup(popup_16f023f20a5d6c7d6d559519fc217c61)\n        ;\n\n        \n    \n&lt;/script&gt;\n&lt;/html&gt;\" style=\"position:absolute;width:100%;height:100%;left:0;top:0;border:none !important;\" allowfullscreen webkitallowfullscreen mozallowfullscreen></iframe></div></div>"
     },
     "execution_count": 27,
     "metadata": {},
     "output_type": "execute_result"
    }
   ],
   "source": [
    "# Erstellen einer Karte zentriert auf Chicago\n",
    "m = folium.Map(location=[41.8781, -87.6298], zoom_start=11, control_scale=False)\n",
    "\n",
    "# Abrufen der Zentren und Kovarianzen\n",
    "pickup_centers = gmm_pickup.means_\n",
    "dropoff_centers = gmm_dropoff.means_\n",
    "\n",
    "# Hinzufügen von Markierungen für Abholzentren\n",
    "for center in pickup_centers:\n",
    "    folium.Marker(location=[center[1], center[0]],\n",
    "                  icon=folium.Icon(color='blue'),\n",
    "                  popup='Pickup Center').add_to(m)\n",
    "\n",
    "# Hinzufügen von Markierungen für Absetzungszentren\n",
    "for center in dropoff_centers:\n",
    "    folium.Marker(location=[center[1], center[0]],\n",
    "                  icon=folium.Icon(color='red'),\n",
    "                  popup='Dropoff Center').add_to(m)\n",
    "\n",
    "# Anzeigen der Karte\n",
    "m"
   ],
   "metadata": {
    "collapsed": false,
    "ExecuteTime": {
     "end_time": "2023-08-05T23:31:01.841974Z",
     "start_time": "2023-08-05T23:31:01.817738Z"
    }
   }
  },
  {
   "cell_type": "code",
   "execution_count": null,
   "outputs": [],
   "source": [],
   "metadata": {
    "collapsed": false
   }
  }
 ],
 "metadata": {
  "kernelspec": {
   "display_name": "Python 3",
   "language": "python",
   "name": "python3"
  },
  "language_info": {
   "codemirror_mode": {
    "name": "ipython",
    "version": 2
   },
   "file_extension": ".py",
   "mimetype": "text/x-python",
   "name": "python",
   "nbconvert_exporter": "python",
   "pygments_lexer": "ipython2",
   "version": "2.7.6"
  }
 },
 "nbformat": 4,
 "nbformat_minor": 0
}
