{
 "cells": [
  {
   "cell_type": "markdown",
   "source": [
    "## Spatial Hot Spots\n",
    "\n",
    "In the following, an attempt is made to classify the cab trips into clusters of start and end points using the processed dataset, with spatial hotspots can be identified.\n",
    "\n",
    "The approach of soft clustering with GMM is used. The dataset is analyzed on the basis of the start and end points, since these can be different due to empty trips, which are not included in the dataset.\n",
    "\n",
    "Only the sampled dataset with about 1% of the data is used because a calculation of the full dataset was not completed after more than 96 hours."
   ],
   "metadata": {
    "collapsed": false
   }
  },
  {
   "cell_type": "markdown",
   "source": [
    "#### Imports and preparatory calculations\n",
    "In the following, the necessary libraries are imported and the data set is loaded and displayed superficially.\n",
    "\n",
    "Furthermore, preparatory calculations are performed to extracte the longitude and latitude ."
   ],
   "metadata": {
    "collapsed": false
   }
  },
  {
   "cell_type": "code",
   "execution_count": 1,
   "outputs": [],
   "source": [
    "# Import necessary libraries\n",
    "import re\n",
    "import folium\n",
    "import pandas as pd\n",
    "import numpy as np\n",
    "import matplotlib.pyplot as plt\n",
    "from sklearn.mixture import GaussianMixture\n",
    "from sklearn.model_selection import GridSearchCV\n",
    "from sklearn.neighbors import KernelDensity"
   ],
   "metadata": {
    "collapsed": false,
    "ExecuteTime": {
     "end_time": "2023-08-13T06:12:31.502990Z",
     "start_time": "2023-08-13T06:12:31.144112Z"
    }
   }
  },
  {
   "cell_type": "code",
   "execution_count": 2,
   "outputs": [],
   "source": [
    "# Import dataset\n",
    "trips_df = pd.read_parquet('../../data/rides/Taxi_Trips_Sampled_Cleaned.parquet') #Sampled\n",
    "#trips_df = pd.read_parquet('../../data/rides/Taxi_Trips_Cleaned.parquet') #NonSampled"
   ],
   "metadata": {
    "collapsed": false,
    "ExecuteTime": {
     "end_time": "2023-08-13T06:12:31.579842Z",
     "start_time": "2023-08-13T06:12:31.503567Z"
    }
   }
  },
  {
   "cell_type": "code",
   "execution_count": 3,
   "metadata": {
    "collapsed": true,
    "ExecuteTime": {
     "end_time": "2023-08-13T06:12:31.740196Z",
     "start_time": "2023-08-13T06:12:31.580158Z"
    }
   },
   "outputs": [
    {
     "name": "stdout",
     "output_type": "stream",
     "text": [
      "<class 'pandas.core.frame.DataFrame'>\n",
      "RangeIndex: 170568 entries, 0 to 170567\n",
      "Data columns (total 44 columns):\n",
      " #   Column                  Non-Null Count   Dtype         \n",
      "---  ------                  --------------   -----         \n",
      " 0   taxi_id                 170568 non-null  int64         \n",
      " 1   trip_start_timestamp    170568 non-null  datetime64[ns]\n",
      " 2   trip_end_timestamp      170568 non-null  datetime64[ns]\n",
      " 3   trip_seconds            170568 non-null  float64       \n",
      " 4   trip_miles              170568 non-null  float64       \n",
      " 5   pickup_census_tract     170568 non-null  int64         \n",
      " 6   dropoff_census_tract    170568 non-null  int64         \n",
      " 7   pickup_community_area   170568 non-null  int64         \n",
      " 8   dropoff_community_area  170568 non-null  int64         \n",
      " 9   fare                    170568 non-null  float64       \n",
      " 10  tips                    170568 non-null  float64       \n",
      " 11  tolls                   170568 non-null  float64       \n",
      " 12  Extras                  170568 non-null  float64       \n",
      " 13  trip_total              170568 non-null  float64       \n",
      " 14  payment_type            170568 non-null  object        \n",
      " 15  Company                 170568 non-null  object        \n",
      " 16  hour_start              170568 non-null  int32         \n",
      " 17  4_hour_block_start      170568 non-null  int32         \n",
      " 18  day_start               170568 non-null  int32         \n",
      " 19  dayofweek_start         170568 non-null  int32         \n",
      " 20  week_start              170568 non-null  UInt32        \n",
      " 21  month_start             170568 non-null  int32         \n",
      " 22  hour_end                170568 non-null  int32         \n",
      " 23  4_hour_block_end        170568 non-null  int32         \n",
      " 24  day_end                 170568 non-null  int32         \n",
      " 25  dayofweek_end           170568 non-null  int32         \n",
      " 26  week_end                170568 non-null  UInt32        \n",
      " 27  month_end               170568 non-null  int32         \n",
      " 28  is_weekday              170568 non-null  bool          \n",
      " 29  h3_05_pickup            170568 non-null  object        \n",
      " 30  h3_05_dropoff           170568 non-null  object        \n",
      " 31  h3_06_pickup            170568 non-null  object        \n",
      " 32  h3_06_dropoff           170568 non-null  object        \n",
      " 33  h3_07_pickup            170568 non-null  object        \n",
      " 34  h3_07_dropoff           170568 non-null  object        \n",
      " 35  h3_08_pickup            170568 non-null  object        \n",
      " 36  h3_08_dropoff           170568 non-null  object        \n",
      " 37  h3_09_pickup            170568 non-null  object        \n",
      " 38  h3_09_dropoff           170568 non-null  object        \n",
      " 39  pickup_centroid         170568 non-null  object        \n",
      " 40  dropoff_centroid        170568 non-null  object        \n",
      " 41  datetime                170568 non-null  datetime64[ns]\n",
      " 42  temp                    170568 non-null  float64       \n",
      " 43  precip                  170568 non-null  int64         \n",
      "dtypes: UInt32(2), bool(1), datetime64[ns](3), float64(8), int32(10), int64(6), object(14)\n",
      "memory usage: 48.6+ MB\n"
     ]
    },
    {
     "data": {
      "text/plain": "   taxi_id trip_start_timestamp  trip_end_timestamp  trip_seconds  trip_miles  \\\n0        1  2015-01-01 00:00:00 2015-01-01 00:00:00         540.0        0.17   \n1        2  2015-01-01 00:00:00 2015-01-01 00:00:00         480.0        0.90   \n2        3  2015-01-01 00:15:00 2015-01-01 00:30:00         780.0        5.50   \n3        4  2015-01-01 00:30:00 2015-01-01 00:45:00         780.0        2.30   \n4        5  2015-01-01 00:00:00 2015-01-01 00:15:00         600.0        2.40   \n\n   pickup_census_tract  dropoff_census_tract  pickup_community_area  \\\n0          17031080300           17031063301                      8   \n1          17031320100           17031081500                     32   \n2          17031281900           17031063301                     28   \n3          17031062900           17031031400                      6   \n4          17031071500           17031070700                      7   \n\n   dropoff_community_area   fare  ...    h3_07_dropoff     h3_08_pickup  \\\n0                       6   7.25  ...  872664c10ffffff  882664c13bfffff   \n1                       8   6.25  ...  872664c1effffff  882664c1e3fffff   \n2                       6  14.05  ...  872664c10ffffff  882664c1adfffff   \n3                       3   8.85  ...  872664d89ffffff  882664c163fffff   \n4                       7   8.85  ...  872664c12ffffff  882664c115fffff   \n\n     h3_08_dropoff     h3_09_pickup    h3_09_dropoff  \\\n0  882664c101fffff  892664c13afffff  892664c101bffff   \n1  882664c1e1fffff  892664c1e2fffff  892664c1e0fffff   \n2  882664c101fffff  892664c1acfffff  892664c101bffff   \n3  882664d893fffff  892664c162fffff  892664d8923ffff   \n4  882664c121fffff  892664c114fffff  892664c1257ffff   \n\n                      pickup_centroid                    dropoff_centroid  \\\n0    POINT (-87.63576009 41.90749193)  POINT (-87.643022804 41.934539716)   \n1  POINT (-87.620992913 41.884987192)  POINT (-87.626214906 41.892507781)   \n2  POINT (-87.642648998 41.879255084)  POINT (-87.643022804 41.934539716)   \n3  POINT (-87.656411531 41.936237179)  POINT (-87.645378762 41.962178629)   \n4  POINT (-87.631717366 41.914616286)  POINT (-87.673807238 41.929272532)   \n\n    datetime    temp  precip  \n0 2015-01-01 -7.0115       0  \n1 2015-01-01 -7.0115       0  \n2 2015-01-01 -7.0115       0  \n3 2015-01-01 -7.0115       0  \n4 2015-01-01 -7.0115       0  \n\n[5 rows x 44 columns]",
      "text/html": "<div>\n<style scoped>\n    .dataframe tbody tr th:only-of-type {\n        vertical-align: middle;\n    }\n\n    .dataframe tbody tr th {\n        vertical-align: top;\n    }\n\n    .dataframe thead th {\n        text-align: right;\n    }\n</style>\n<table border=\"1\" class=\"dataframe\">\n  <thead>\n    <tr style=\"text-align: right;\">\n      <th></th>\n      <th>taxi_id</th>\n      <th>trip_start_timestamp</th>\n      <th>trip_end_timestamp</th>\n      <th>trip_seconds</th>\n      <th>trip_miles</th>\n      <th>pickup_census_tract</th>\n      <th>dropoff_census_tract</th>\n      <th>pickup_community_area</th>\n      <th>dropoff_community_area</th>\n      <th>fare</th>\n      <th>...</th>\n      <th>h3_07_dropoff</th>\n      <th>h3_08_pickup</th>\n      <th>h3_08_dropoff</th>\n      <th>h3_09_pickup</th>\n      <th>h3_09_dropoff</th>\n      <th>pickup_centroid</th>\n      <th>dropoff_centroid</th>\n      <th>datetime</th>\n      <th>temp</th>\n      <th>precip</th>\n    </tr>\n  </thead>\n  <tbody>\n    <tr>\n      <th>0</th>\n      <td>1</td>\n      <td>2015-01-01 00:00:00</td>\n      <td>2015-01-01 00:00:00</td>\n      <td>540.0</td>\n      <td>0.17</td>\n      <td>17031080300</td>\n      <td>17031063301</td>\n      <td>8</td>\n      <td>6</td>\n      <td>7.25</td>\n      <td>...</td>\n      <td>872664c10ffffff</td>\n      <td>882664c13bfffff</td>\n      <td>882664c101fffff</td>\n      <td>892664c13afffff</td>\n      <td>892664c101bffff</td>\n      <td>POINT (-87.63576009 41.90749193)</td>\n      <td>POINT (-87.643022804 41.934539716)</td>\n      <td>2015-01-01</td>\n      <td>-7.0115</td>\n      <td>0</td>\n    </tr>\n    <tr>\n      <th>1</th>\n      <td>2</td>\n      <td>2015-01-01 00:00:00</td>\n      <td>2015-01-01 00:00:00</td>\n      <td>480.0</td>\n      <td>0.90</td>\n      <td>17031320100</td>\n      <td>17031081500</td>\n      <td>32</td>\n      <td>8</td>\n      <td>6.25</td>\n      <td>...</td>\n      <td>872664c1effffff</td>\n      <td>882664c1e3fffff</td>\n      <td>882664c1e1fffff</td>\n      <td>892664c1e2fffff</td>\n      <td>892664c1e0fffff</td>\n      <td>POINT (-87.620992913 41.884987192)</td>\n      <td>POINT (-87.626214906 41.892507781)</td>\n      <td>2015-01-01</td>\n      <td>-7.0115</td>\n      <td>0</td>\n    </tr>\n    <tr>\n      <th>2</th>\n      <td>3</td>\n      <td>2015-01-01 00:15:00</td>\n      <td>2015-01-01 00:30:00</td>\n      <td>780.0</td>\n      <td>5.50</td>\n      <td>17031281900</td>\n      <td>17031063301</td>\n      <td>28</td>\n      <td>6</td>\n      <td>14.05</td>\n      <td>...</td>\n      <td>872664c10ffffff</td>\n      <td>882664c1adfffff</td>\n      <td>882664c101fffff</td>\n      <td>892664c1acfffff</td>\n      <td>892664c101bffff</td>\n      <td>POINT (-87.642648998 41.879255084)</td>\n      <td>POINT (-87.643022804 41.934539716)</td>\n      <td>2015-01-01</td>\n      <td>-7.0115</td>\n      <td>0</td>\n    </tr>\n    <tr>\n      <th>3</th>\n      <td>4</td>\n      <td>2015-01-01 00:30:00</td>\n      <td>2015-01-01 00:45:00</td>\n      <td>780.0</td>\n      <td>2.30</td>\n      <td>17031062900</td>\n      <td>17031031400</td>\n      <td>6</td>\n      <td>3</td>\n      <td>8.85</td>\n      <td>...</td>\n      <td>872664d89ffffff</td>\n      <td>882664c163fffff</td>\n      <td>882664d893fffff</td>\n      <td>892664c162fffff</td>\n      <td>892664d8923ffff</td>\n      <td>POINT (-87.656411531 41.936237179)</td>\n      <td>POINT (-87.645378762 41.962178629)</td>\n      <td>2015-01-01</td>\n      <td>-7.0115</td>\n      <td>0</td>\n    </tr>\n    <tr>\n      <th>4</th>\n      <td>5</td>\n      <td>2015-01-01 00:00:00</td>\n      <td>2015-01-01 00:15:00</td>\n      <td>600.0</td>\n      <td>2.40</td>\n      <td>17031071500</td>\n      <td>17031070700</td>\n      <td>7</td>\n      <td>7</td>\n      <td>8.85</td>\n      <td>...</td>\n      <td>872664c12ffffff</td>\n      <td>882664c115fffff</td>\n      <td>882664c121fffff</td>\n      <td>892664c114fffff</td>\n      <td>892664c1257ffff</td>\n      <td>POINT (-87.631717366 41.914616286)</td>\n      <td>POINT (-87.673807238 41.929272532)</td>\n      <td>2015-01-01</td>\n      <td>-7.0115</td>\n      <td>0</td>\n    </tr>\n  </tbody>\n</table>\n<p>5 rows × 44 columns</p>\n</div>"
     },
     "execution_count": 3,
     "metadata": {},
     "output_type": "execute_result"
    }
   ],
   "source": [
    "# General presentation of the dataframe\n",
    "trips_df.info()\n",
    "trips_df.head(5)"
   ]
  },
  {
   "cell_type": "markdown",
   "source": [
    "#### Extract the longitude and latitude\n",
    "First, we extract the longitude and latitude from the data to cluster based on them.  \n",
    "This is done once for the pickup data and once for the dropoff data."
   ],
   "metadata": {
    "collapsed": false
   }
  },
  {
   "cell_type": "code",
   "execution_count": 4,
   "outputs": [],
   "source": [
    "# Extract the longitude and latitude\n",
    "def extract_coordinates(point):\n",
    "    coords = re.findall(r\"[-+]?\\d*\\.\\d+|\\d+\", point)\n",
    "    return [float(coord) for coord in coords]\n",
    "\n",
    "trips_df['pickup_point'] = trips_df['pickup_centroid'].apply(extract_coordinates)\n",
    "trips_df['dropoff_point'] = trips_df['dropoff_centroid'].apply(extract_coordinates)\n",
    "\n",
    "pickup_coordinates = np.vstack(trips_df['pickup_point'].values)\n",
    "dropoff_coordinates = np.vstack(trips_df['dropoff_point'].values)"
   ],
   "metadata": {
    "collapsed": false,
    "ExecuteTime": {
     "end_time": "2023-08-13T06:12:32.447549Z",
     "start_time": "2023-08-13T06:12:31.740819Z"
    }
   }
  },
  {
   "cell_type": "markdown",
   "source": [
    "### Determination of the hyperparameters\n",
    "\n",
    "We would now like to set the hyperparameters for our GMM. This is first the number of clusters we want to find. Furthermore, the optimal bandwidth for the kernel density estimation has to be found. \n",
    "\n",
    "#### Calculation of the optimal number of clusters with the elbow method\n",
    "First, we compute the inertia for up to 10 clusters and then use the visualization to select the optimal number of clusters at the point where an elbow can be seen."
   ],
   "metadata": {
    "collapsed": false
   }
  },
  {
   "cell_type": "code",
   "execution_count": 5,
   "outputs": [],
   "source": [
    "n_components = np.arange(1, 10)\n",
    "\n",
    "# Model for pickup\n",
    "models_pickup = [GaussianMixture(n, covariance_type='full', random_state=0).fit(pickup_coordinates)\n",
    "                 for n in n_components]\n",
    "# Model for dropoff\n",
    "models_dropoff = [GaussianMixture(n, covariance_type='full', random_state=0).fit(dropoff_coordinates)\n",
    "                  for n in n_components]"
   ],
   "metadata": {
    "collapsed": false,
    "ExecuteTime": {
     "end_time": "2023-08-13T06:13:54.809154Z",
     "start_time": "2023-08-13T06:12:32.449042Z"
    }
   }
  },
  {
   "cell_type": "code",
   "execution_count": 6,
   "outputs": [
    {
     "data": {
      "text/plain": "<Figure size 800x600 with 1 Axes>",
      "image/png": "[encoded data removed]"
     },
     "metadata": {},
     "output_type": "display_data"
    }
   ],
   "source": [
    "plt.figure(figsize=(8, 6))\n",
    "\n",
    "# Plot pickup\n",
    "plt.plot(n_components, [-m.score(pickup_coordinates) for m in models_pickup], color='blue', label='Pickup', marker='o')\n",
    "\n",
    "# Plot dropoff\n",
    "plt.plot(n_components, [-m.score(dropoff_coordinates) for m in models_dropoff], color='red', label='Dropoff', marker='o')\n",
    "\n",
    "# Labeling and legend\n",
    "plt.title('Elbow method for determining the optimal number of clusters')\n",
    "plt.xlabel('Number of clusters')\n",
    "plt.legend(loc='best')\n",
    "plt.show()"
   ],
   "metadata": {
    "collapsed": false,
    "ExecuteTime": {
     "end_time": "2023-08-13T06:13:58.122259Z",
     "start_time": "2023-08-13T06:13:54.820108Z"
    }
   }
  },
  {
   "cell_type": "markdown",
   "source": [
    "It can be seen that the inertia does not decrease noticeably after 4 to 5 clusters. Therefore, 4 clusters are now calculated in K Means in order to further anlayze them."
   ],
   "metadata": {
    "collapsed": false
   }
  },
  {
   "cell_type": "markdown",
   "source": [
    "#### Calculation of the optimal bandwith for KDE\n",
    "Define a function, calculate_best_bandwidth, which determines the optimal bandwidth value for kernel density estimation by using GridSearchCV.Then calculates the best bandwidth values for both pickup and dropoff coordinates of trips."
   ],
   "metadata": {
    "collapsed": false
   }
  },
  {
   "cell_type": "code",
   "execution_count": 7,
   "outputs": [
    {
     "name": "stdout",
     "output_type": "stream",
     "text": [
      "Best Bandwidth Pickup:  0.1\n",
      "Best Bandwidth Dropoff:  0.1\n"
     ]
    }
   ],
   "source": [
    "def calculate_best_bandwidth(coordinates, bandwidths_range=(-1, 1, 10), cv=5, n_jobs=-1):\n",
    "    # Calculate the optimal bandwidth\n",
    "    bandwidths = 10 ** np.linspace(*bandwidths_range)\n",
    "\n",
    "    # Generate a KernelDensity object\n",
    "    kde = KernelDensity()\n",
    "\n",
    "    # Use GridSearchCV to find the best bandwidth\n",
    "    # Set n_jobs=-1 to use all available cores\n",
    "    grid = GridSearchCV(kde, {'bandwidth': bandwidths}, cv=cv, n_jobs=n_jobs)  # Cross-validation\n",
    "    grid.fit(coordinates)\n",
    "\n",
    "    # Best bandwidth\n",
    "    best_bandwidth = grid.best_params_['bandwidth']\n",
    "\n",
    "    return best_bandwidth\n",
    "\n",
    "# Calculate best bandwidth for pickup location\n",
    "best_bandwidth_pickup = calculate_best_bandwidth(pickup_coordinates)\n",
    "print(\"Best Bandwidth Pickup: \", best_bandwidth_pickup)\n",
    "\n",
    "# Calculate best bandwidth for dropoff location\n",
    "best_bandwidth_dropoff = calculate_best_bandwidth(dropoff_coordinates)\n",
    "print(\"Best Bandwidth Dropoff: \", best_bandwidth_dropoff)"
   ],
   "metadata": {
    "collapsed": false,
    "ExecuteTime": {
     "end_time": "2023-08-13T06:51:53.275120Z",
     "start_time": "2023-08-13T06:13:58.087586Z"
    }
   }
  },
  {
   "cell_type": "markdown",
   "source": [
    "#### Create a spatial kernel density estimate\n",
    "Now we establishe a spatial kernel density estimation for both pickup and dropoff coordinates using a Gaussian kernel. Then, computes the density estimates for the data points of these coordinates."
   ],
   "metadata": {
    "collapsed": false
   }
  },
  {
   "cell_type": "code",
   "execution_count": 8,
   "outputs": [],
   "source": [
    "# Create a spatial kernel density estimation\n",
    "kde_pickup = KernelDensity(kernel='gaussian', bandwidth=best_bandwidth_pickup).fit(pickup_coordinates)\n",
    "kde_dropoff = KernelDensity(kernel='gaussian', bandwidth=best_bandwidth_dropoff).fit(dropoff_coordinates)\n",
    "\n",
    "# Calculate the density estimation for the data points\n",
    "pickup_density = np.exp(kde_pickup.score_samples(pickup_coordinates))\n",
    "dropoff_density = np.exp(kde_dropoff.score_samples(dropoff_coordinates))"
   ],
   "metadata": {
    "collapsed": false,
    "ExecuteTime": {
     "end_time": "2023-08-13T07:30:55.434242Z",
     "start_time": "2023-08-13T06:51:53.273915Z"
    }
   }
  },
  {
   "cell_type": "markdown",
   "source": [
    "## Gaussian Mixture Model\n",
    "\n",
    "Now we create the GMM based on the KDE and calculate the spatial hotspot centers and their sizes"
   ],
   "metadata": {
    "collapsed": false
   }
  },
  {
   "cell_type": "code",
   "execution_count": 9,
   "outputs": [],
   "source": [
    "# Application of Gaussian mixed models to density estimation\n",
    "gmm_pickup = GaussianMixture(n_components=4).fit(pickup_coordinates, pickup_density)\n",
    "gmm_dropoff = GaussianMixture(n_components=4).fit(dropoff_coordinates, dropoff_density)"
   ],
   "metadata": {
    "collapsed": false,
    "ExecuteTime": {
     "end_time": "2023-08-13T07:31:00.463281Z",
     "start_time": "2023-08-13T07:30:55.434689Z"
    }
   }
  },
  {
   "cell_type": "code",
   "execution_count": 10,
   "outputs": [
    {
     "name": "stdout",
     "output_type": "stream",
     "text": [
      "Hotspot Centers (Pickup): [[-87.62848161  41.88854742]\n",
      " [-87.90303966  41.97907082]\n",
      " [-87.75093429  41.78599852]\n",
      " [-87.64382642  41.90454414]]\n",
      "Hotspot Sizes (Pickup): [[[ 5.52677249e-05  1.39740990e-05]\n",
      "  [ 1.39740990e-05  6.05022185e-05]]\n",
      "\n",
      " [[ 1.00000000e-06  5.93728272e-26]\n",
      "  [ 5.93728272e-26  1.00000000e-06]]\n",
      "\n",
      " [[ 1.00000000e-06 -2.02509475e-17]\n",
      "  [-2.02509475e-17  1.00000000e-06]]\n",
      "\n",
      " [[ 3.37946467e-04 -3.08790176e-04]\n",
      "  [-3.08790176e-04  1.00445810e-03]]]\n",
      "Hotspot Centers (Dropoff): [[-87.62845893  41.88851006]\n",
      " [-87.90303966  41.97907082]\n",
      " [-87.75093429  41.78599852]\n",
      " [-87.64636563  41.90550399]]\n",
      "Hotspot Sizes (Dropoff): [[[ 5.77761042e-05  1.40400357e-05]\n",
      "  [ 1.40400357e-05  6.60797763e-05]]\n",
      "\n",
      " [[ 1.00000000e-06 -7.21965500e-26]\n",
      "  [-7.21965500e-26  1.00000000e-06]]\n",
      "\n",
      " [[ 1.00000000e-06  1.04704913e-23]\n",
      "  [ 1.04704913e-23  1.00000000e-06]]\n",
      "\n",
      " [[ 4.17171625e-04 -3.28631778e-04]\n",
      "  [-3.28631778e-04  1.07072205e-03]]]\n"
     ]
    }
   ],
   "source": [
    "# Cache the results in variables\n",
    "pickup_covariances = gmm_pickup.covariances_\n",
    "dropoff_covariances = gmm_dropoff.covariances_\n",
    "pickup_centers = gmm_pickup.means_\n",
    "dropoff_centers = gmm_dropoff.means_\n",
    "\n",
    "# Display the location (means) and size (variances) of the identified hotspots\n",
    "print(\"Hotspot Centers (Pickup):\", gmm_pickup.means_)\n",
    "print(\"Hotspot Sizes (Pickup):\", gmm_pickup.covariances_)\n",
    "print(\"Hotspot Centers (Dropoff):\", gmm_dropoff.means_)\n",
    "print(\"Hotspot Sizes (Dropoff):\", gmm_dropoff.covariances_)"
   ],
   "metadata": {
    "collapsed": false,
    "ExecuteTime": {
     "end_time": "2023-08-13T07:31:00.472302Z",
     "start_time": "2023-08-13T07:31:00.464512Z"
    }
   }
  },
  {
   "cell_type": "markdown",
   "source": [
    "## Visualization\n",
    "Now we visualize the identified hotspots for both pickup and dropoff locations on a map centered around Chicago. Blue markers indicate pickup centers, while red markers represent dropoff centers. "
   ],
   "metadata": {
    "collapsed": false
   }
  },
  {
   "cell_type": "code",
   "execution_count": 12,
   "outputs": [
    {
     "data": {
      "text/plain": "<folium.folium.Map at 0x16cadd390>",
      "text/html": "<div style=\"width:100%;\"><div style=\"position:relative;width:100%;height:0;padding-bottom:60%;\"><span style=\"color:#565656\">Make this Notebook Trusted to load map: File -> Trust Notebook</span><iframe srcdoc=\"&lt;!DOCTYPE html&gt;\n&lt;html&gt;\n&lt;head&gt;\n    \n    &lt;meta http-equiv=&quot;content-type&quot; content=&quot;text/html; charset=UTF-8&quot; /&gt;\n    \n        &lt;script&gt;\n            L_NO_TOUCH = false;\n            L_DISABLE_3D = false;\n        &lt;/script&gt;\n    \n    &lt;style&gt;html, body {width: 100%;height: 100%;margin: 0;padding: 0;}&lt;/style&gt;\n    &lt;style&gt;#map {position:absolute;top:0;bottom:0;right:0;left:0;}&lt;/style&gt;\n    &lt;script src=&quot;https://cdn.jsdelivr.net/npm/leaflet@1.9.3/dist/leaflet.js&quot;&gt;&lt;/script&gt;\n    &lt;script src=&quot;https://code.jquery.com/jquery-1.12.4.min.js&quot;&gt;&lt;/script&gt;\n    &lt;script src=&quot;https://cdn.jsdelivr.net/npm/bootstrap@5.2.2/dist/js/bootstrap.bundle.min.js&quot;&gt;&lt;/script&gt;\n    &lt;script src=&quot;https://cdnjs.cloudflare.com/ajax/libs/Leaflet.awesome-markers/2.0.2/leaflet.awesome-markers.js&quot;&gt;&lt;/script&gt;\n    &lt;link rel=&quot;stylesheet&quot; href=&quot;https://cdn.jsdelivr.net/npm/leaflet@1.9.3/dist/leaflet.css&quot;/&gt;\n    &lt;link rel=&quot;stylesheet&quot; href=&quot;https://cdn.jsdelivr.net/npm/bootstrap@5.2.2/dist/css/bootstrap.min.css&quot;/&gt;\n    &lt;link rel=&quot;stylesheet&quot; href=&quot;https://netdna.bootstrapcdn.com/bootstrap/3.0.0/css/bootstrap.min.css&quot;/&gt;\n    &lt;link rel=&quot;stylesheet&quot; href=&quot;https://cdn.jsdelivr.net/npm/@fortawesome/fontawesome-free@6.2.0/css/all.min.css&quot;/&gt;\n    &lt;link rel=&quot;stylesheet&quot; href=&quot;https://cdnjs.cloudflare.com/ajax/libs/Leaflet.awesome-markers/2.0.2/leaflet.awesome-markers.css&quot;/&gt;\n    &lt;link rel=&quot;stylesheet&quot; href=&quot;https://cdn.jsdelivr.net/gh/python-visualization/folium/folium/templates/leaflet.awesome.rotate.min.css&quot;/&gt;\n    \n            &lt;meta name=&quot;viewport&quot; content=&quot;width=device-width,\n                initial-scale=1.0, maximum-scale=1.0, user-scalable=no&quot; /&gt;\n            &lt;style&gt;\n                #map_eedb45eca7fe27494e66fce54ef936fa {\n                    position: relative;\n                    width: 100.0%;\n                    height: 100.0%;\n                    left: 0.0%;\n                    top: 0.0%;\n                }\n                .leaflet-container { font-size: 1rem; }\n            &lt;/style&gt;\n        \n&lt;/head&gt;\n&lt;body&gt;\n    \n    \n            &lt;div class=&quot;folium-map&quot; id=&quot;map_eedb45eca7fe27494e66fce54ef936fa&quot; &gt;&lt;/div&gt;\n        \n&lt;/body&gt;\n&lt;script&gt;\n    \n    \n            var map_eedb45eca7fe27494e66fce54ef936fa = L.map(\n                &quot;map_eedb45eca7fe27494e66fce54ef936fa&quot;,\n                {\n                    center: [41.8781, -87.6298],\n                    crs: L.CRS.EPSG3857,\n                    zoom: 11,\n                    zoomControl: true,\n                    preferCanvas: false,\n                }\n            );\n\n            \n\n        \n    \n            var tile_layer_102b2c47033b4f3f67d2eecad9a29cc4 = L.tileLayer(\n                &quot;https://{s}.tile.openstreetmap.org/{z}/{x}/{y}.png&quot;,\n                {&quot;attribution&quot;: &quot;Data by \\u0026copy; \\u003ca target=\\&quot;_blank\\&quot; href=\\&quot;http://openstreetmap.org\\&quot;\\u003eOpenStreetMap\\u003c/a\\u003e, under \\u003ca target=\\&quot;_blank\\&quot; href=\\&quot;http://www.openstreetmap.org/copyright\\&quot;\\u003eODbL\\u003c/a\\u003e.&quot;, &quot;detectRetina&quot;: false, &quot;maxNativeZoom&quot;: 18, &quot;maxZoom&quot;: 18, &quot;minZoom&quot;: 0, &quot;noWrap&quot;: false, &quot;opacity&quot;: 1, &quot;subdomains&quot;: &quot;abc&quot;, &quot;tms&quot;: false}\n            ).addTo(map_eedb45eca7fe27494e66fce54ef936fa);\n        \n    \n            var marker_ff0213f40bbcc24431652a92bf23143c = L.marker(\n                [41.88854742194645, -87.62848160745338],\n                {}\n            ).addTo(map_eedb45eca7fe27494e66fce54ef936fa);\n        \n    \n            var icon_dc3ac7b73a7877f9039408b058214c3c = L.AwesomeMarkers.icon(\n                {&quot;extraClasses&quot;: &quot;fa-rotate-0&quot;, &quot;icon&quot;: &quot;info-sign&quot;, &quot;iconColor&quot;: &quot;white&quot;, &quot;markerColor&quot;: &quot;blue&quot;, &quot;prefix&quot;: &quot;glyphicon&quot;}\n            );\n            marker_ff0213f40bbcc24431652a92bf23143c.setIcon(icon_dc3ac7b73a7877f9039408b058214c3c);\n        \n    \n        var popup_f233da8a69d466528eac9135230eb6d1 = L.popup({&quot;maxWidth&quot;: &quot;100%&quot;});\n\n        \n            \n                var html_14df8150aa5cac2aec830a9a63bbd50a = $(`&lt;div id=&quot;html_14df8150aa5cac2aec830a9a63bbd50a&quot; style=&quot;width: 100.0%; height: 100.0%;&quot;&gt;Pickup Center&lt;/div&gt;`)[0];\n                popup_f233da8a69d466528eac9135230eb6d1.setContent(html_14df8150aa5cac2aec830a9a63bbd50a);\n            \n        \n\n        marker_ff0213f40bbcc24431652a92bf23143c.bindPopup(popup_f233da8a69d466528eac9135230eb6d1)\n        ;\n\n        \n    \n    \n            var marker_86b66c7bd910372b3ba7a2e523313b93 = L.marker(\n                [41.97907081999995, -87.90303966100119],\n                {}\n            ).addTo(map_eedb45eca7fe27494e66fce54ef936fa);\n        \n    \n            var icon_99feacb1b79024b6173c6d09df1c60a5 = L.AwesomeMarkers.icon(\n                {&quot;extraClasses&quot;: &quot;fa-rotate-0&quot;, &quot;icon&quot;: &quot;info-sign&quot;, &quot;iconColor&quot;: &quot;white&quot;, &quot;markerColor&quot;: &quot;blue&quot;, &quot;prefix&quot;: &quot;glyphicon&quot;}\n            );\n            marker_86b66c7bd910372b3ba7a2e523313b93.setIcon(icon_99feacb1b79024b6173c6d09df1c60a5);\n        \n    \n        var popup_2466bba787fa17b399fa8755c17265a4 = L.popup({&quot;maxWidth&quot;: &quot;100%&quot;});\n\n        \n            \n                var html_cc242d74dd8fd3f25f63ace155709046 = $(`&lt;div id=&quot;html_cc242d74dd8fd3f25f63ace155709046&quot; style=&quot;width: 100.0%; height: 100.0%;&quot;&gt;Pickup Center&lt;/div&gt;`)[0];\n                popup_2466bba787fa17b399fa8755c17265a4.setContent(html_cc242d74dd8fd3f25f63ace155709046);\n            \n        \n\n        marker_86b66c7bd910372b3ba7a2e523313b93.bindPopup(popup_2466bba787fa17b399fa8755c17265a4)\n        ;\n\n        \n    \n    \n            var marker_fa6aab81d8cda6162074998254acb5e3 = L.marker(\n                [41.78599851799962, -87.75093428900033],\n                {}\n            ).addTo(map_eedb45eca7fe27494e66fce54ef936fa);\n        \n    \n            var icon_961e1a78b3f7df1989fa0bfb0eefcac1 = L.AwesomeMarkers.icon(\n                {&quot;extraClasses&quot;: &quot;fa-rotate-0&quot;, &quot;icon&quot;: &quot;info-sign&quot;, &quot;iconColor&quot;: &quot;white&quot;, &quot;markerColor&quot;: &quot;blue&quot;, &quot;prefix&quot;: &quot;glyphicon&quot;}\n            );\n            marker_fa6aab81d8cda6162074998254acb5e3.setIcon(icon_961e1a78b3f7df1989fa0bfb0eefcac1);\n        \n    \n        var popup_6f90399823e197fb8e013945d1c3e1fc = L.popup({&quot;maxWidth&quot;: &quot;100%&quot;});\n\n        \n            \n                var html_ed367690eec287ebd816e1cba622f1ed = $(`&lt;div id=&quot;html_ed367690eec287ebd816e1cba622f1ed&quot; style=&quot;width: 100.0%; height: 100.0%;&quot;&gt;Pickup Center&lt;/div&gt;`)[0];\n                popup_6f90399823e197fb8e013945d1c3e1fc.setContent(html_ed367690eec287ebd816e1cba622f1ed);\n            \n        \n\n        marker_fa6aab81d8cda6162074998254acb5e3.bindPopup(popup_6f90399823e197fb8e013945d1c3e1fc)\n        ;\n\n        \n    \n    \n            var marker_12777de08b9a5fe97063ab26c4c2f7fb = L.marker(\n                [41.90454414109414, -87.6438264185515],\n                {}\n            ).addTo(map_eedb45eca7fe27494e66fce54ef936fa);\n        \n    \n            var icon_ab394c5d2303c745e2f0de1fedc7864d = L.AwesomeMarkers.icon(\n                {&quot;extraClasses&quot;: &quot;fa-rotate-0&quot;, &quot;icon&quot;: &quot;info-sign&quot;, &quot;iconColor&quot;: &quot;white&quot;, &quot;markerColor&quot;: &quot;blue&quot;, &quot;prefix&quot;: &quot;glyphicon&quot;}\n            );\n            marker_12777de08b9a5fe97063ab26c4c2f7fb.setIcon(icon_ab394c5d2303c745e2f0de1fedc7864d);\n        \n    \n        var popup_a04934a0bd18b298962d443cee9f2624 = L.popup({&quot;maxWidth&quot;: &quot;100%&quot;});\n\n        \n            \n                var html_b797c9312a2a3a00eb53a5cbf33d1e52 = $(`&lt;div id=&quot;html_b797c9312a2a3a00eb53a5cbf33d1e52&quot; style=&quot;width: 100.0%; height: 100.0%;&quot;&gt;Pickup Center&lt;/div&gt;`)[0];\n                popup_a04934a0bd18b298962d443cee9f2624.setContent(html_b797c9312a2a3a00eb53a5cbf33d1e52);\n            \n        \n\n        marker_12777de08b9a5fe97063ab26c4c2f7fb.bindPopup(popup_a04934a0bd18b298962d443cee9f2624)\n        ;\n\n        \n    \n    \n            var marker_d33dcccdaf95f73d8470d9f735d85c3c = L.marker(\n                [41.8885100555665, -87.62845892788218],\n                {}\n            ).addTo(map_eedb45eca7fe27494e66fce54ef936fa);\n        \n    \n            var icon_c5119d9154978a148af3d322d05cc779 = L.AwesomeMarkers.icon(\n                {&quot;extraClasses&quot;: &quot;fa-rotate-0&quot;, &quot;icon&quot;: &quot;info-sign&quot;, &quot;iconColor&quot;: &quot;white&quot;, &quot;markerColor&quot;: &quot;red&quot;, &quot;prefix&quot;: &quot;glyphicon&quot;}\n            );\n            marker_d33dcccdaf95f73d8470d9f735d85c3c.setIcon(icon_c5119d9154978a148af3d322d05cc779);\n        \n    \n        var popup_08e8261deef67f712b69b96f9a91cc3c = L.popup({&quot;maxWidth&quot;: &quot;100%&quot;});\n\n        \n            \n                var html_b9ff771411ab1dd79c937aae0e7908d7 = $(`&lt;div id=&quot;html_b9ff771411ab1dd79c937aae0e7908d7&quot; style=&quot;width: 100.0%; height: 100.0%;&quot;&gt;Dropoff Center&lt;/div&gt;`)[0];\n                popup_08e8261deef67f712b69b96f9a91cc3c.setContent(html_b9ff771411ab1dd79c937aae0e7908d7);\n            \n        \n\n        marker_d33dcccdaf95f73d8470d9f735d85c3c.bindPopup(popup_08e8261deef67f712b69b96f9a91cc3c)\n        ;\n\n        \n    \n    \n            var marker_f75bc41a9f6b35d1ac03eb3a29841970 = L.marker(\n                [41.97907082000009, -87.90303966100078],\n                {}\n            ).addTo(map_eedb45eca7fe27494e66fce54ef936fa);\n        \n    \n            var icon_487c5508fe157188c17a481da45cd39a = L.AwesomeMarkers.icon(\n                {&quot;extraClasses&quot;: &quot;fa-rotate-0&quot;, &quot;icon&quot;: &quot;info-sign&quot;, &quot;iconColor&quot;: &quot;white&quot;, &quot;markerColor&quot;: &quot;red&quot;, &quot;prefix&quot;: &quot;glyphicon&quot;}\n            );\n            marker_f75bc41a9f6b35d1ac03eb3a29841970.setIcon(icon_487c5508fe157188c17a481da45cd39a);\n        \n    \n        var popup_43b09437a1e70ada39090e523d81c4c2 = L.popup({&quot;maxWidth&quot;: &quot;100%&quot;});\n\n        \n            \n                var html_02695124d3172b425068ac72ee1911e9 = $(`&lt;div id=&quot;html_02695124d3172b425068ac72ee1911e9&quot; style=&quot;width: 100.0%; height: 100.0%;&quot;&gt;Dropoff Center&lt;/div&gt;`)[0];\n                popup_43b09437a1e70ada39090e523d81c4c2.setContent(html_02695124d3172b425068ac72ee1911e9);\n            \n        \n\n        marker_f75bc41a9f6b35d1ac03eb3a29841970.bindPopup(popup_43b09437a1e70ada39090e523d81c4c2)\n        ;\n\n        \n    \n    \n            var marker_36efbf239b5075cc0b3a04b5c3e3bf0d = L.marker(\n                [41.7859985179996, -87.75093428900006],\n                {}\n            ).addTo(map_eedb45eca7fe27494e66fce54ef936fa);\n        \n    \n            var icon_fb152ce2112d6aa376d35b9fa9f7aeb4 = L.AwesomeMarkers.icon(\n                {&quot;extraClasses&quot;: &quot;fa-rotate-0&quot;, &quot;icon&quot;: &quot;info-sign&quot;, &quot;iconColor&quot;: &quot;white&quot;, &quot;markerColor&quot;: &quot;red&quot;, &quot;prefix&quot;: &quot;glyphicon&quot;}\n            );\n            marker_36efbf239b5075cc0b3a04b5c3e3bf0d.setIcon(icon_fb152ce2112d6aa376d35b9fa9f7aeb4);\n        \n    \n        var popup_23502d9d0942f6c33bb58d6c1139d782 = L.popup({&quot;maxWidth&quot;: &quot;100%&quot;});\n\n        \n            \n                var html_63303740ffb59534a6a3bcc62f62b7d8 = $(`&lt;div id=&quot;html_63303740ffb59534a6a3bcc62f62b7d8&quot; style=&quot;width: 100.0%; height: 100.0%;&quot;&gt;Dropoff Center&lt;/div&gt;`)[0];\n                popup_23502d9d0942f6c33bb58d6c1139d782.setContent(html_63303740ffb59534a6a3bcc62f62b7d8);\n            \n        \n\n        marker_36efbf239b5075cc0b3a04b5c3e3bf0d.bindPopup(popup_23502d9d0942f6c33bb58d6c1139d782)\n        ;\n\n        \n    \n    \n            var marker_5b3ad7bad0d05d331e74a6fe8030ecb0 = L.marker(\n                [41.90550399022846, -87.6463656327074],\n                {}\n            ).addTo(map_eedb45eca7fe27494e66fce54ef936fa);\n        \n    \n            var icon_0740fa5b7a84cef56ade9dba8978ad79 = L.AwesomeMarkers.icon(\n                {&quot;extraClasses&quot;: &quot;fa-rotate-0&quot;, &quot;icon&quot;: &quot;info-sign&quot;, &quot;iconColor&quot;: &quot;white&quot;, &quot;markerColor&quot;: &quot;red&quot;, &quot;prefix&quot;: &quot;glyphicon&quot;}\n            );\n            marker_5b3ad7bad0d05d331e74a6fe8030ecb0.setIcon(icon_0740fa5b7a84cef56ade9dba8978ad79);\n        \n    \n        var popup_ac76df3c6bc8d441f0a81be82d9ce158 = L.popup({&quot;maxWidth&quot;: &quot;100%&quot;});\n\n        \n            \n                var html_4a9f7982e72aa46c8f56c273207e622b = $(`&lt;div id=&quot;html_4a9f7982e72aa46c8f56c273207e622b&quot; style=&quot;width: 100.0%; height: 100.0%;&quot;&gt;Dropoff Center&lt;/div&gt;`)[0];\n                popup_ac76df3c6bc8d441f0a81be82d9ce158.setContent(html_4a9f7982e72aa46c8f56c273207e622b);\n            \n        \n\n        marker_5b3ad7bad0d05d331e74a6fe8030ecb0.bindPopup(popup_ac76df3c6bc8d441f0a81be82d9ce158)\n        ;\n\n        \n    \n&lt;/script&gt;\n&lt;/html&gt;\" style=\"position:absolute;width:100%;height:100%;left:0;top:0;border:none !important;\" allowfullscreen webkitallowfullscreen mozallowfullscreen></iframe></div></div>"
     },
     "execution_count": 12,
     "metadata": {},
     "output_type": "execute_result"
    }
   ],
   "source": [
    "# Creating a map centered on Chicago\n",
    "m = folium.Map(location=[41.8781, -87.6298], zoom_start=11, control_scale=False)\n",
    "\n",
    "# Fetching the centers and covariances\n",
    "pickup_centers = gmm_pickup.means_\n",
    "dropoff_centers = gmm_dropoff.means_\n",
    "\n",
    "# Adding markers for pickup centers\n",
    "for center in pickup_centers:\n",
    "    folium.Marker(location=[center[1], center[0]],\n",
    "                  icon=folium.Icon(color='blue'),\n",
    "                  popup='Pickup Center').add_to(m)\n",
    "\n",
    "# Adding markers for dropoff centers\n",
    "for center in dropoff_centers:\n",
    "    folium.Marker(location=[center[1], center[0]],\n",
    "                  icon=folium.Icon(color='red'),\n",
    "                  popup='Dropoff Center').add_to(m)\n",
    "\n",
    "# Display the map\n",
    "m"
   ],
   "metadata": {
    "collapsed": false,
    "ExecuteTime": {
     "end_time": "2023-08-13T08:16:05.696368Z",
     "start_time": "2023-08-13T08:16:05.677807Z"
    }
   }
  },
  {
   "cell_type": "code",
   "execution_count": 11,
   "outputs": [],
   "source": [],
   "metadata": {
    "collapsed": false,
    "ExecuteTime": {
     "end_time": "2023-08-13T07:31:00.525983Z",
     "start_time": "2023-08-13T07:31:00.497628Z"
    }
   }
  }
 ],
 "metadata": {
  "kernelspec": {
   "display_name": "Python 3",
   "language": "python",
   "name": "python3"
  },
  "language_info": {
   "codemirror_mode": {
    "name": "ipython",
    "version": 2
   },
   "file_extension": ".py",
   "mimetype": "text/x-python",
   "name": "python",
   "nbconvert_exporter": "python",
   "pygments_lexer": "ipython2",
   "version": "2.7.6"
  }
 },
 "nbformat": 4,
 "nbformat_minor": 0
}
