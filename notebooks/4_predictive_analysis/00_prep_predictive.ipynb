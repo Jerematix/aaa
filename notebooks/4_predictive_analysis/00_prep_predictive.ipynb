{
 "cells": [
  {
   "cell_type": "code",
   "execution_count": 1,
   "metadata": {},
   "outputs": [],
   "source": [
    "import pandas as pd"
   ]
  },
  {
   "cell_type": "code",
   "execution_count": 2,
   "metadata": {},
   "outputs": [
    {
     "data": {
      "text/plain": [
       "Index(['Trip Start Timestamp', 'hour_start', '4_hour_block_start', 'day_start',\n",
       "       'week_start', 'month_start', 'h3_07_Pickup', 'h3_08_Pickup',\n",
       "       'h3_09_Pickup', 'Pickup Centroid', 'temp', 'Precip', 'day_of_week',\n",
       "       'is_weekday'],\n",
       "      dtype='object')"
      ]
     },
     "execution_count": 2,
     "metadata": {},
     "output_type": "execute_result"
    }
   ],
   "source": [
    "df = pd.read_parquet('../../data/rides/Taxi_Trips_Sampled_Cleaned.parquet')\n",
    "\n",
    "df.drop(columns=[\n",
    "    # drop trip specific columns\n",
    "    \"Trip Seconds\",\n",
    "    \"Trip Miles\",\n",
    "    \"Fare\",\n",
    "    \"Tips\",\n",
    "    \"Tolls\",\n",
    "    \"Extras\",\n",
    "    \"Trip Total\",\n",
    "    \"Payment Type\",\n",
    "    \"Company\",\n",
    "    # drop end time columns\n",
    "    \"Trip End Timestamp\",\n",
    "    \"hour_end\",\n",
    "    \"4_hour_block_end\",\n",
    "    \"day_end\",\n",
    "    \"week_end\",\n",
    "    \"month_end\",\n",
    "    # drop end location columns\n",
    "    \"Dropoff Census Tract\",\n",
    "    \"h3_07_Dropoff\",\n",
    "    \"h3_08_Dropoff\",\n",
    "    \"h3_09_Dropoff\",\n",
    "    \"Dropoff Centroid\",\n",
    "    # drop Pickup Census Tract because equal to Pickup Centroid\n",
    "    \"Pickup Census Tract\",\n",
    "    # drop datetime because Time Start Timestamp sufficient\n",
    "    \"datetime\"\n",
    "    ],\n",
    "    inplace=True)\n",
    "\n",
    "df[\"day_of_week\"] = df[\"Trip Start Timestamp\"].apply(lambda x: x.dayofweek)\n",
    "df[\"is_weekday\"] = df[\"day_of_week\"] >= 5\n",
    "\n",
    "df.columns"
   ]
  },
  {
   "cell_type": "code",
   "execution_count": 3,
   "metadata": {},
   "outputs": [
    {
     "data": {
      "text/plain": [
       "Index(['datetime', 'hour', '4_hour_block', 'day', 'week', 'month', 'h3_07',\n",
       "       'h3_08', 'h3_09', 'centroid', 'temp', 'precip', 'day_of_week',\n",
       "       'is_weekday'],\n",
       "      dtype='object')"
      ]
     },
     "execution_count": 3,
     "metadata": {},
     "output_type": "execute_result"
    }
   ],
   "source": [
    "df.rename(columns={col:col[:-6] for col in df.columns if \"start\" in col}, inplace=True) # remove _start from column names\n",
    "df.rename(columns={col:col[:-7] for col in df.columns if \"h3\" in col}, inplace=True) # remove _Pickup from column names\n",
    "df.rename(columns={\"Trip Start Timestamp\": \"datetime\", \"Pickup Centroid\": \"centroid\", \"Precip\": \"precip\"}, inplace=True)\n",
    "df.columns"
   ]
  },
  {
   "cell_type": "code",
   "execution_count": 4,
   "metadata": {},
   "outputs": [
    {
     "data": {
      "text/html": [
       "<div>\n",
       "<style scoped>\n",
       "    .dataframe tbody tr th:only-of-type {\n",
       "        vertical-align: middle;\n",
       "    }\n",
       "\n",
       "    .dataframe tbody tr th {\n",
       "        vertical-align: top;\n",
       "    }\n",
       "\n",
       "    .dataframe thead th {\n",
       "        text-align: right;\n",
       "    }\n",
       "</style>\n",
       "<table border=\"1\" class=\"dataframe\">\n",
       "  <thead>\n",
       "    <tr style=\"text-align: right;\">\n",
       "      <th></th>\n",
       "      <th>datetime</th>\n",
       "      <th>hour</th>\n",
       "      <th>4_hour_block</th>\n",
       "      <th>day</th>\n",
       "      <th>week</th>\n",
       "      <th>month</th>\n",
       "      <th>day_of_week</th>\n",
       "      <th>is_weekday</th>\n",
       "      <th>temp</th>\n",
       "      <th>precip</th>\n",
       "      <th>h3_07</th>\n",
       "      <th>h3_08</th>\n",
       "      <th>h3_09</th>\n",
       "      <th>centroid</th>\n",
       "    </tr>\n",
       "  </thead>\n",
       "  <tbody>\n",
       "    <tr>\n",
       "      <th>0</th>\n",
       "      <td>2015-01-01 00:00:00</td>\n",
       "      <td>0</td>\n",
       "      <td>0</td>\n",
       "      <td>1</td>\n",
       "      <td>1</td>\n",
       "      <td>1</td>\n",
       "      <td>3</td>\n",
       "      <td>False</td>\n",
       "      <td>-7.0115</td>\n",
       "      <td>0</td>\n",
       "      <td>872664c11ffffff</td>\n",
       "      <td>882664c115fffff</td>\n",
       "      <td>892664c114fffff</td>\n",
       "      <td>POINT (-87.631717366 41.914616286)</td>\n",
       "    </tr>\n",
       "    <tr>\n",
       "      <th>1</th>\n",
       "      <td>2015-01-01 00:30:00</td>\n",
       "      <td>0</td>\n",
       "      <td>0</td>\n",
       "      <td>1</td>\n",
       "      <td>1</td>\n",
       "      <td>1</td>\n",
       "      <td>3</td>\n",
       "      <td>False</td>\n",
       "      <td>-7.0115</td>\n",
       "      <td>0</td>\n",
       "      <td>872664ca5ffffff</td>\n",
       "      <td>882664c165fffff</td>\n",
       "      <td>892664ca597ffff</td>\n",
       "      <td>POINT (-87.676182496 41.950545696)</td>\n",
       "    </tr>\n",
       "    <tr>\n",
       "      <th>2</th>\n",
       "      <td>2015-01-01 00:15:00</td>\n",
       "      <td>0</td>\n",
       "      <td>0</td>\n",
       "      <td>1</td>\n",
       "      <td>1</td>\n",
       "      <td>1</td>\n",
       "      <td>3</td>\n",
       "      <td>False</td>\n",
       "      <td>-7.0115</td>\n",
       "      <td>0</td>\n",
       "      <td>872664c1affffff</td>\n",
       "      <td>882664c1a9fffff</td>\n",
       "      <td>892664c1a8bffff</td>\n",
       "      <td>POINT (-87.632746489 41.880994471)</td>\n",
       "    </tr>\n",
       "    <tr>\n",
       "      <th>3</th>\n",
       "      <td>2015-01-01 00:00:00</td>\n",
       "      <td>0</td>\n",
       "      <td>0</td>\n",
       "      <td>1</td>\n",
       "      <td>1</td>\n",
       "      <td>1</td>\n",
       "      <td>3</td>\n",
       "      <td>False</td>\n",
       "      <td>-7.0115</td>\n",
       "      <td>0</td>\n",
       "      <td>872664c13ffffff</td>\n",
       "      <td>882664c13bfffff</td>\n",
       "      <td>892664c13afffff</td>\n",
       "      <td>POINT (-87.63576009 41.90749193)</td>\n",
       "    </tr>\n",
       "    <tr>\n",
       "      <th>4</th>\n",
       "      <td>2015-01-01 00:30:00</td>\n",
       "      <td>0</td>\n",
       "      <td>0</td>\n",
       "      <td>1</td>\n",
       "      <td>1</td>\n",
       "      <td>1</td>\n",
       "      <td>3</td>\n",
       "      <td>False</td>\n",
       "      <td>-7.0115</td>\n",
       "      <td>0</td>\n",
       "      <td>872664c1effffff</td>\n",
       "      <td>882664c1e3fffff</td>\n",
       "      <td>892664c1e2fffff</td>\n",
       "      <td>POINT (-87.620992913 41.884987192)</td>\n",
       "    </tr>\n",
       "  </tbody>\n",
       "</table>\n",
       "</div>"
      ],
      "text/plain": [
       "             datetime  hour  4_hour_block  day  week  month  day_of_week   \n",
       "0 2015-01-01 00:00:00     0             0    1     1      1            3  \\\n",
       "1 2015-01-01 00:30:00     0             0    1     1      1            3   \n",
       "2 2015-01-01 00:15:00     0             0    1     1      1            3   \n",
       "3 2015-01-01 00:00:00     0             0    1     1      1            3   \n",
       "4 2015-01-01 00:30:00     0             0    1     1      1            3   \n",
       "\n",
       "   is_weekday    temp  precip            h3_07            h3_08   \n",
       "0       False -7.0115       0  872664c11ffffff  882664c115fffff  \\\n",
       "1       False -7.0115       0  872664ca5ffffff  882664c165fffff   \n",
       "2       False -7.0115       0  872664c1affffff  882664c1a9fffff   \n",
       "3       False -7.0115       0  872664c13ffffff  882664c13bfffff   \n",
       "4       False -7.0115       0  872664c1effffff  882664c1e3fffff   \n",
       "\n",
       "             h3_09                            centroid  \n",
       "0  892664c114fffff  POINT (-87.631717366 41.914616286)  \n",
       "1  892664ca597ffff  POINT (-87.676182496 41.950545696)  \n",
       "2  892664c1a8bffff  POINT (-87.632746489 41.880994471)  \n",
       "3  892664c13afffff    POINT (-87.63576009 41.90749193)  \n",
       "4  892664c1e2fffff  POINT (-87.620992913 41.884987192)  "
      ]
     },
     "execution_count": 4,
     "metadata": {},
     "output_type": "execute_result"
    }
   ],
   "source": [
    "location_cols = [\"h3_07\", \"h3_08\", \"h3_09\", \"centroid\"]\n",
    "time_related_columns = [\"datetime\", \"hour\", \"4_hour_block\", \"day\", \"week\", \"month\", \"day_of_week\", \"is_weekday\"]\n",
    "wheather_related_columns = [\"temp\", \"precip\"]\n",
    "\n",
    "df = df[time_related_columns + wheather_related_columns + location_cols]\n",
    "df.head()"
   ]
  },
  {
   "cell_type": "code",
   "execution_count": 5,
   "metadata": {},
   "outputs": [],
   "source": [
    "df.to_parquet(\"../../data/predictive/Taxi_Trips_Sampled_Predictive.parquet\")"
   ]
  }
 ],
 "metadata": {
  "kernelspec": {
   "display_name": ".venv",
   "language": "python",
   "name": "python3"
  },
  "language_info": {
   "codemirror_mode": {
    "name": "ipython",
    "version": 3
   },
   "file_extension": ".py",
   "mimetype": "text/x-python",
   "name": "python",
   "nbconvert_exporter": "python",
   "pygments_lexer": "ipython3",
   "version": "3.9.6"
  },
  "orig_nbformat": 4
 },
 "nbformat": 4,
 "nbformat_minor": 2
}
