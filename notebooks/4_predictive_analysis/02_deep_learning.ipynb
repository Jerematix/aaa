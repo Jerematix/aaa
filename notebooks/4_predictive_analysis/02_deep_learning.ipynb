{
 "cells": [
  {
   "cell_type": "code",
   "execution_count": 1,
   "metadata": {},
   "outputs": [],
   "source": [
    "import pandas as pd\n",
    "import numpy as np\n",
    "from sklearn.preprocessing import StandardScaler\n",
    "#from sklearn.experimental import enable_halving_search_cv\n",
    "from sklearn.model_selection import train_test_split#, HalvingGridSearchCV\n",
    "#from sklearn.metrics import mean_squared_error, mean_absolute_error, r2_score\n",
    "import random\n",
    "import matplotlib.pyplot as plt\n",
    "\n",
    "from keras import models\n",
    "from keras import layers\n",
    "from keras.optimizers.legacy import RMSprop\n",
    "from keras.callbacks import EarlyStopping\n",
    "\n",
    "import warnings\n",
    "warnings.filterwarnings('ignore')"
   ]
  },
  {
   "cell_type": "code",
   "execution_count": 2,
   "metadata": {},
   "outputs": [],
   "source": [
    "def scale_data_and_get_dummies(data, location_bucket):\n",
    "    # scale data except location bucket and demand\n",
    "    col_scale_list = data.columns.to_list()\n",
    "    col_scale_list.remove(location_bucket)\n",
    "    col_scale_list.remove(\"demand\")\n",
    "    scaler = StandardScaler()\n",
    "    data[col_scale_list] = scaler.fit_transform(data[col_scale_list])\n",
    "    # create one hot encoding for location bucket feature\n",
    "    data = pd.get_dummies(data, columns=[location_bucket], dtype=int)\n",
    "    return data\n",
    "\n",
    "def split_train_test(data, target_col=\"demand\"):\n",
    "    # split data into train and test\n",
    "    X = data.drop(columns=[target_col])\n",
    "    y = data[target_col]\n",
    "    X_train, X_test, y_train, y_test = train_test_split(X, y, test_size=0.2, random_state=4711)\n",
    "    return X_train, X_test, y_train, y_test "
   ]
  },
  {
   "cell_type": "markdown",
   "metadata": {},
   "source": []
  },
  {
   "cell_type": "code",
   "execution_count": 3,
   "metadata": {},
   "outputs": [],
   "source": [
    "time_bucket_length = 6\n",
    "location_bucket = \"h3_07\""
   ]
  },
  {
   "cell_type": "code",
   "execution_count": 4,
   "metadata": {},
   "outputs": [
    {
     "name": "stdout",
     "output_type": "stream",
     "text": [
      "Time bucket length: 6h\n",
      "Location bucket: h3_07\n",
      "(39374, 13)\n"
     ]
    }
   ],
   "source": [
    "print(f\"Time bucket length: {time_bucket_length}h\")\n",
    "print(f\"Location bucket: {location_bucket}\")\n",
    "\n",
    "# read in data\n",
    "data = pd.read_parquet(f\"../../data/predictive/Taxi_Trips_Spatio_Temporal_{time_bucket_length}_{location_bucket}.parquet\")\n",
    "print(data.shape)"
   ]
  },
  {
   "cell_type": "code",
   "execution_count": 5,
   "metadata": {},
   "outputs": [
    {
     "name": "stdout",
     "output_type": "stream",
     "text": [
      "(16428, 13)\n"
     ]
    }
   ],
   "source": [
    "# create sample from data with 10 hexagons\n",
    "sampled_hexagons =  random.sample(data[location_bucket].unique().tolist(), 30)\n",
    "data_sampled = data[data[location_bucket].isin(sampled_hexagons)]\n",
    "print(data_sampled.shape)\n",
    "if data_sampled.shape[0] >= 50000:\n",
    "    data_sampled = data_sampled.sample(50000, random_state=4711)\n",
    "    print(data_sampled.shape)\n",
    "\n",
    "data_sampled = data"
   ]
  },
  {
   "cell_type": "code",
   "execution_count": 6,
   "metadata": {},
   "outputs": [
    {
     "name": "stdout",
     "output_type": "stream",
     "text": [
      "(39374, 103)\n"
     ]
    }
   ],
   "source": [
    "# scale data and create one hot encoding for location bucket feature\n",
    "scaled_data = scale_data_and_get_dummies(data_sampled, location_bucket)\n",
    "print(scaled_data.shape)"
   ]
  },
  {
   "cell_type": "code",
   "execution_count": 7,
   "metadata": {},
   "outputs": [],
   "source": [
    "# split data into train and test\n",
    "X_train, X_test, y_train, y_test = split_train_test(scaled_data)"
   ]
  },
  {
   "cell_type": "code",
   "execution_count": 8,
   "metadata": {},
   "outputs": [],
   "source": [
    "def build_model(X_train, layer_nodes = [64, 64], learning_rate=0.001, dropout=0, activation = 'relu', optimizer = RMSprop):\n",
    "    model = models.Sequential()\n",
    "    model.add(layers.Dense(layer_nodes[0], activation=activation, input_shape=(X_train.shape[1],)))\n",
    "    for nodes in layer_nodes[1:]:\n",
    "        model.add(layers.Dense(nodes, activation=activation))\n",
    "        if dropout >= 0:\n",
    "            model.add(layers.Dropout(dropout))\n",
    "    model.add(layers.Dense(1, activation='relu'))\n",
    "\n",
    "    opt = optimizer(lr=learning_rate)\n",
    "    model.compile(optimizer=opt, loss='mse', metrics=['mae'])\n",
    "    return model"
   ]
  },
  {
   "cell_type": "code",
   "execution_count": 9,
   "metadata": {},
   "outputs": [],
   "source": [
    "hyperaparameters = {\n",
    "    'layer_nodes': [64, 64],\n",
    "    'learning_rate': 0.001,\n",
    "    'dropout': 0,\n",
    "    'activation': 'relu',\n",
    "    'optimizer': RMSprop\n",
    "}\n",
    "\n",
    "def k_fold_nn(\n",
    "        X_train, \n",
    "        y_train, \n",
    "        k=4, \n",
    "        epochs=50, \n",
    "        batch_size=1, \n",
    "        verbose=0,\n",
    "        hyperaparams=hyperaparameters\n",
    "        ):\n",
    "    num_val_samples = len(X_train) // k\n",
    "    num_epochs = epochs\n",
    "    all_scores_mae = []\n",
    "    all_scores_mse = []\n",
    "    all_mae_histories = []\n",
    "    all_mse_histories = []\n",
    "\n",
    "    for i in range(k):\n",
    "        print('processing fold #', i, \" of \", k)\n",
    "        val_data = X_train[i * num_val_samples: (i + 1) * num_val_samples]    # Slice Get Validation Data \n",
    "        val_targets = y_train[i * num_val_samples: (i + 1) * num_val_samples] # Slice Val. Target Data\n",
    "\n",
    "        # Exclude validation data from the training data\n",
    "        partial_train_data = np.concatenate(\n",
    "            [\n",
    "                X_train[:i * num_val_samples],\n",
    "                X_train[(i + 1) * num_val_samples:]\n",
    "            ],\n",
    "            axis=0)\n",
    "        partial_train_targets = np.concatenate(\n",
    "            [\n",
    "                y_train[:i * num_val_samples],\n",
    "                y_train[(i + 1) * num_val_samples:]\n",
    "            ],\n",
    "            axis=0)\n",
    "        \n",
    "        # build, fit and evaluate Model\n",
    "        model = build_model(\n",
    "            X_train,\n",
    "            layer_nodes=hyperaparams[\"layer_nodes\"],\n",
    "            learning_rate=hyperaparams[\"learning_rate\"],\n",
    "            dropout=hyperaparams[\"dropout\"],\n",
    "            activation=hyperaparams[\"activation\"],\n",
    "            optimizer=hyperaparams[\"optimizer\"])\n",
    "        \n",
    "        early_stop = EarlyStopping(\n",
    "            monitor='val_loss',\n",
    "            patience=20, \n",
    "            min_delta=y_train.std()*0.1, \n",
    "            restore_best_weights=True)\n",
    "\n",
    "        history = model.fit(\n",
    "            partial_train_data,\n",
    "            partial_train_targets,\n",
    "            validation_data=(val_data, val_targets),\n",
    "            epochs=num_epochs,\n",
    "            batch_size=batch_size,\n",
    "            verbose=verbose,\n",
    "            callbacks=[early_stop]\n",
    "            )\n",
    "        val_mse, val_mae = model.evaluate(val_data, val_targets, verbose=verbose)\n",
    "\n",
    "        # add metrics to lists\n",
    "        all_mae_histories.append(history.history['mae'])\n",
    "        all_mse_histories.append(history.history['loss'])\n",
    "        all_scores_mae.append(val_mae)\n",
    "        all_scores_mse.append(val_mse)\n",
    "\n",
    "    # return metrics\n",
    "    return all_scores_mae, all_scores_mse, all_mae_histories, all_mse_histories"
   ]
  },
  {
   "cell_type": "code",
   "execution_count": 10,
   "metadata": {},
   "outputs": [
    {
     "name": "stdout",
     "output_type": "stream",
     "text": [
      "processing fold # 0  of  5\n",
      "processing fold # 1  of  5\n",
      "processing fold # 2  of  5\n",
      "processing fold # 3  of  5\n",
      "processing fold # 4  of  5\n"
     ]
    }
   ],
   "source": [
    "val_mae, val_mse, mae_hist, mse_hist = k_fold_nn(\n",
    "    X_train, \n",
    "    y_train, \n",
    "    k=5, \n",
    "    epochs=1000, \n",
    "    batch_size=64)"
   ]
  },
  {
   "cell_type": "code",
   "execution_count": 17,
   "metadata": {},
   "outputs": [
    {
     "data": {
      "text/plain": [
       "94.774169921875"
      ]
     },
     "execution_count": 17,
     "metadata": {},
     "output_type": "execute_result"
    }
   ],
   "source": [
    "# Get MAE for each k-fold set\n",
    "np.mean(val_mae)"
   ]
  },
  {
   "cell_type": "code",
   "execution_count": 20,
   "metadata": {},
   "outputs": [
    {
     "data": {
      "text/plain": [
       "1018.158502667193"
      ]
     },
     "execution_count": 20,
     "metadata": {},
     "output_type": "execute_result"
    }
   ],
   "source": [
    "y_train.std()"
   ]
  },
  {
   "cell_type": "code",
   "execution_count": 18,
   "metadata": {},
   "outputs": [
    {
     "data": {
      "image/png": "[encoded data removed]",
      "text/plain": [
       "<Figure size 640x480 with 1 Axes>"
      ]
     },
     "metadata": {},
     "output_type": "display_data"
    }
   ],
   "source": [
    "k = 2\n",
    "# Plot MAE History\n",
    "\n",
    "for i in range(k):\n",
    "    plt.plot(range(1, len(mae_hist[i]) + 1), mae_hist[i])\n",
    "plt.xlabel('Epochs')\n",
    "plt.ylabel('Validation MAE')\n",
    "plt.show()"
   ]
  },
  {
   "cell_type": "code",
   "execution_count": 43,
   "metadata": {},
   "outputs": [],
   "source": [
    "# Each iteration generated a history object w\n",
    "average_mae_history = [np.mean([x[i] for x in mae_hist]) for i in range(50)]"
   ]
  },
  {
   "cell_type": "code",
   "execution_count": 44,
   "metadata": {},
   "outputs": [
    {
     "data": {
      "image/png": "[encoded data removed]",
      "text/plain": [
       "<Figure size 640x480 with 1 Axes>"
      ]
     },
     "metadata": {},
     "output_type": "display_data"
    }
   ],
   "source": [
    "# Plot average MAE History\n",
    "import matplotlib.pyplot as plt\n",
    "plt.plot(range(1, len(average_mae_history) + 1), average_mae_history)\n",
    "plt.xlabel('Epochs')\n",
    "plt.ylabel('Validation MAE')\n",
    "plt.show()"
   ]
  },
  {
   "cell_type": "code",
   "execution_count": 33,
   "metadata": {},
   "outputs": [
    {
     "name": "stdout",
     "output_type": "stream",
     "text": [
      "61/61 [==============================] - 0s 495us/step - loss: 99316.4297 - mae: 116.8060\n"
     ]
    }
   ],
   "source": [
    "hyperaparams = hyperaparameters\n",
    "# Evaluating the Model with the Test Set\n",
    "model = build_model(X_train,\n",
    "                    layer_nodes=hyperaparams[\"layer_nodes\"],\n",
    "                    learning_rate=hyperaparams[\"learning_rate\"],\n",
    "                    dropout=hyperaparams[\"dropout\"],\n",
    "                    activation=hyperaparams[\"activation\"],\n",
    "                    optimizer=hyperaparams[\"optimizer\"])\n",
    "model.fit(X_train, y_train, epochs=80, batch_size=64, verbose=0)\n",
    "test_mse_score, test_mae_score = model.evaluate(X_test, y_test)"
   ]
  },
  {
   "cell_type": "code",
   "execution_count": 34,
   "metadata": {},
   "outputs": [
    {
     "data": {
      "text/plain": [
       "116.80601501464844"
      ]
     },
     "execution_count": 34,
     "metadata": {},
     "output_type": "execute_result"
    }
   ],
   "source": [
    "# Voila.\n",
    "test_mae_score"
   ]
  },
  {
   "cell_type": "code",
   "execution_count": null,
   "metadata": {},
   "outputs": [],
   "source": []
  },
  {
   "cell_type": "code",
   "execution_count": null,
   "metadata": {},
   "outputs": [],
   "source": []
  },
  {
   "cell_type": "code",
   "execution_count": null,
   "metadata": {},
   "outputs": [],
   "source": []
  },
  {
   "cell_type": "code",
   "execution_count": null,
   "metadata": {},
   "outputs": [],
   "source": []
  },
  {
   "cell_type": "code",
   "execution_count": null,
   "metadata": {},
   "outputs": [],
   "source": []
  },
  {
   "cell_type": "code",
   "execution_count": null,
   "metadata": {},
   "outputs": [],
   "source": []
  },
  {
   "cell_type": "code",
   "execution_count": 42,
   "metadata": {},
   "outputs": [
    {
     "name": "stdout",
     "output_type": "stream",
     "text": [
      "processing fold # 0\n",
      "processing fold # 1\n",
      "processing fold # 2\n",
      "processing fold # 3\n"
     ]
    }
   ],
   "source": [
    "\n",
    "\n",
    "k = 4\n",
    "num_val_samples = len(X_train) // k # returns an integer instead of float\n",
    "num_epochs = 4\n",
    "all_scores_mae = []\n",
    "all_scores_mse = []\n",
    "all_mae_histories = []\n",
    "all_mse_histories = []\n",
    "\n",
    "for i in range(k):\n",
    "    print('processing fold #', i) \n",
    "    val_data = X_train[i * num_val_samples: (i + 1) * num_val_samples]    # Slice Get Validation Data \n",
    "    val_targets = y_train[i * num_val_samples: (i + 1) * num_val_samples] # Slice Val. Target Data\n",
    "    \n",
    "    # Exclude validation data from the training data\n",
    "    partial_train_data = np.concatenate(\n",
    "        [\n",
    "            X_train[:i * num_val_samples],\n",
    "            X_train[(i + 1) * num_val_samples:]\n",
    "        ],\n",
    "        axis=0)\n",
    "    partial_train_targets = np.concatenate(\n",
    "        [\n",
    "            y_train[:i * num_val_samples],\n",
    "            y_train[(i + 1) * num_val_samples:]\n",
    "        ],\n",
    "        axis=0)\n",
    "    \n",
    "    # Build Model\n",
    "    model = build_model(X_train)\n",
    "\n",
    "    # Fit Model\n",
    "    history = model.fit(partial_train_data, partial_train_targets, epochs=num_epochs, batch_size=1, verbose=0)\n",
    "\n",
    "    # Cache MAE History  # <-- This is changed\n",
    "    mae_history = history.history['mae']  \n",
    "    mse_history = history.history['loss']  \n",
    "    \n",
    "    # Evaluate Model\n",
    "    val_mse, val_mae = model.evaluate(val_data, val_targets, verbose=0)\n",
    "    \n",
    "    # Add Mean Absolut Error to All Scored List\n",
    "    all_scores_mae.append(val_mae)\n",
    "    all_scores_mse.append(val_mse)\n",
    "\n",
    "    # Add Mean Absolut Error to All Scored List # <-- This is changed\n",
    "    all_mae_histories.append(mae_history)\n",
    "    all_mse_histories.append(mse_history)"
   ]
  },
  {
   "cell_type": "code",
   "execution_count": null,
   "metadata": {},
   "outputs": [],
   "source": [
    "## REGULARIZATION\n",
    "from keras import regularizers\n",
    "model = models.Sequential()\n",
    "# kernel_regularizer = regularizers.l2(0.001), add those weights to the loss with an alpha of 0.001\n",
    "# you could use also: regularizers.l1(0.001) for L1 regularization\n",
    "# Documentation: https://keras.io/api/layers/regularizers/\n",
    "model.add(layers.Dense(16, kernel_regularizer=regularizers.l2(0.001),activation='relu', input_shape=(10000,)))\n",
    "model.add(layers.Dense(16, kernel_regularizer=regularizers.l2(0.001), activation='relu'))\n",
    "model.add(layers.Dense(1, activation='sigmoid'))"
   ]
  },
  {
   "cell_type": "markdown",
   "metadata": {},
   "source": [
    "### To recap, these are the most common ways to prevent overfitting in neural networks:\n",
    "1. Get more training data.\n",
    "2. Reduce the capacity of the network.\n",
    "3. Add weight regularization.\n",
    "4. Add dropout.\n",
    "5. Data Augmentation (for image classification tasks)"
   ]
  }
 ],
 "metadata": {
  "kernelspec": {
   "display_name": ".venv",
   "language": "python",
   "name": "python3"
  },
  "language_info": {
   "codemirror_mode": {
    "name": "ipython",
    "version": 3
   },
   "file_extension": ".py",
   "mimetype": "text/x-python",
   "name": "python",
   "nbconvert_exporter": "python",
   "pygments_lexer": "ipython3",
   "version": "3.9.6"
  },
  "orig_nbformat": 4
 },
 "nbformat": 4,
 "nbformat_minor": 2
}
