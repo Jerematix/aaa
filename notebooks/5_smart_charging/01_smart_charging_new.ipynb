{
 "cells": [
  {
   "cell_type": "code",
   "execution_count": 1,
   "metadata": {},
   "outputs": [],
   "source": [
    "import numpy as np\n",
    "from gym import Env\n",
    "from gym.spaces import Box, Discrete\n",
    "import random"
   ]
  },
  {
   "cell_type": "code",
   "execution_count": 2,
   "metadata": {},
   "outputs": [],
   "source": [
    "class ChargingEnv(Env):\n",
    "    def __init__(self, max_charging_rate=22, mu=30, sigma=5):\n",
    "        self.max_charging_rate = max_charging_rate\n",
    "        self.battery_capacity = 100\n",
    "        self.mu = mu\n",
    "        self.sigma = sigma\n",
    "        self.action_space = Discrete(4)\n",
    "        self.observation_space = Box(low=np.array([0]), high=np.array([self.battery_capacity]))\n",
    "        self.state = 10 + random.randint(-5,5) # starting battery load\n",
    "        self.charging_length = 120\n",
    "\n",
    "    def step(self, action): \n",
    "        charging_rate = action * (self.max_charging_rate/3) # assuming highest rate is 22 per 15min\n",
    "        self.state += charging_rate \n",
    "        self.state = min(self.state, self.battery_capacity)\n",
    "        self.charging_length -= 15\n",
    "\n",
    "        # Checking if charging is done\n",
    "        if self.charging_length <= 0: \n",
    "            done = True\n",
    "        else:\n",
    "            done = False\n",
    "\n",
    "        # Calculate charging cost\n",
    "        charging_cost = 0.25 * np.exp(charging_rate)  # as per the given formula, assuming alpha t is 0.25 for the 15min interval\n",
    "        \n",
    "        # Calculating the reward\n",
    "        if done:\n",
    "            energy_demand = np.random.normal(self.mu, self.sigma)\n",
    "            if self.state < energy_demand:\n",
    "                reward = -10000  # Penalty for running out of energy\n",
    "            else:\n",
    "                # Reward is proportional to the energy saved\n",
    "                reward = -charging_cost\n",
    "        else:\n",
    "            reward = -charging_cost\n",
    "        \n",
    "        \n",
    "        \n",
    "        # Setting the placeholder for info\n",
    "        info = {}\n",
    "        \n",
    "        # Returning the step information\n",
    "        return self.state, reward, done, info\n",
    "    \n",
    "    def reset(self):\n",
    "        self.state = 0\n",
    "        self.charging_length = 120 \n",
    "        return self.state"
   ]
  },
  {
   "cell_type": "code",
   "execution_count": 3,
   "metadata": {},
   "outputs": [
    {
     "name": "stderr",
     "output_type": "stream",
     "text": [
      "/Users/julialauten/git/aaa/.venv/lib/python3.9/site-packages/gym/spaces/box.py:127: UserWarning: \u001b[33mWARN: Box bound precision lowered by casting to float32\u001b[0m\n",
      "  logger.warn(f\"Box bound precision lowered by casting to {self.dtype}\")\n"
     ]
    }
   ],
   "source": [
    "env = ChargingEnv()"
   ]
  },
  {
   "cell_type": "code",
   "execution_count": 4,
   "metadata": {},
   "outputs": [
    {
     "name": "stdout",
     "output_type": "stream",
     "text": [
      "Episode:1 Score:-2343119.039616757\n",
      "Episode:2 Score:-1793628365.4543197\n",
      "Episode:3 Score:-1794799159.2366972\n",
      "Episode:4 Score:-897985359.8782529\n",
      "Episode:5 Score:-896815713.2020215\n",
      "Episode:6 Score:-897985742.2469683\n",
      "Episode:7 Score:-2689270988.6616707\n",
      "Episode:8 Score:-897400154.1714218\n",
      "Episode:9 Score:-1793628365.4543197\n",
      "Episode:10 Score:-896815330.8333061\n",
      "Episode:11 Score:-1793043924.4849198\n",
      "Episode:12 Score:-1793627983.0856042\n",
      "Episode:13 Score:-1758295.7015011082\n",
      "Episode:14 Score:-2689270606.2929554\n",
      "Episode:15 Score:-1793043159.7474887\n",
      "Episode:16 Score:-2689270988.661671\n",
      "Episode:17 Score:-3586084405.6513996\n",
      "Episode:18 Score:-1794213953.5298662\n",
      "Episode:19 Score:-3513912.8219943037\n",
      "Episode:20 Score:-897400154.1714218\n"
     ]
    }
   ],
   "source": [
    "episodes = 20 #20 shower episodes\n",
    "for episode in range(1, episodes+1):\n",
    "    state = env.reset()\n",
    "    done = False\n",
    "    score = 0 \n",
    "    \n",
    "    while not done:\n",
    "        action = env.action_space.sample()\n",
    "        n_state, reward, done, info = env.step(action)\n",
    "        score+=reward\n",
    "    print('Episode:{} Score:{}'.format(episode, score))"
   ]
  },
  {
   "cell_type": "code",
   "execution_count": 5,
   "metadata": {},
   "outputs": [],
   "source": [
    "import numpy as np\n",
    "from tensorflow.keras.models import Sequential\n",
    "from tensorflow.keras.layers import Dense, Flatten\n",
    "from tensorflow.keras.optimizers.legacy import Adam"
   ]
  },
  {
   "cell_type": "code",
   "execution_count": 6,
   "metadata": {},
   "outputs": [],
   "source": [
    "states = env.observation_space.shape\n",
    "actions = env.action_space.n"
   ]
  },
  {
   "cell_type": "code",
   "execution_count": 7,
   "metadata": {},
   "outputs": [],
   "source": [
    "model = Sequential()    \n",
    "model.add(Dense(24, activation='relu', input_shape=states))\n",
    "model.add(Dense(24, activation='relu'))\n",
    "model.add(Dense(actions, activation='linear'))"
   ]
  },
  {
   "cell_type": "code",
   "execution_count": 8,
   "metadata": {},
   "outputs": [
    {
     "name": "stdout",
     "output_type": "stream",
     "text": [
      "Model: \"sequential\"\n",
      "_________________________________________________________________\n",
      " Layer (type)                Output Shape              Param #   \n",
      "=================================================================\n",
      " dense (Dense)               (None, 24)                48        \n",
      "                                                                 \n",
      " dense_1 (Dense)             (None, 24)                600       \n",
      "                                                                 \n",
      " dense_2 (Dense)             (None, 4)                 100       \n",
      "                                                                 \n",
      "=================================================================\n",
      "Total params: 748 (2.92 KB)\n",
      "Trainable params: 748 (2.92 KB)\n",
      "Non-trainable params: 0 (0.00 Byte)\n",
      "_________________________________________________________________\n"
     ]
    }
   ],
   "source": [
    "model.summary()"
   ]
  },
  {
   "cell_type": "code",
   "execution_count": 9,
   "metadata": {},
   "outputs": [],
   "source": [
    "from rl.agents import DQNAgent\n",
    "from rl.policy import BoltzmannQPolicy\n",
    "from rl.memory import SequentialMemory"
   ]
  },
  {
   "cell_type": "code",
   "execution_count": 10,
   "metadata": {},
   "outputs": [],
   "source": [
    "def build_agent(model, actions):\n",
    "    policy = BoltzmannQPolicy()\n",
    "    memory = SequentialMemory(limit=50000, window_length=1)\n",
    "    dqn = DQNAgent(model=model, memory=memory, policy=policy, \n",
    "                  nb_actions=actions, nb_steps_warmup=10, target_model_update=1e-2)\n",
    "    return dqn"
   ]
  },
  {
   "cell_type": "code",
   "execution_count": 11,
   "metadata": {},
   "outputs": [
    {
     "ename": "AttributeError",
     "evalue": "'Sequential' object has no attribute '_compile_time_distribution_strategy'",
     "output_type": "error",
     "traceback": [
      "\u001b[0;31m---------------------------------------------------------------------------\u001b[0m",
      "\u001b[0;31mAttributeError\u001b[0m                            Traceback (most recent call last)",
      "Cell \u001b[0;32mIn[11], line 3\u001b[0m\n\u001b[1;32m      1\u001b[0m dqn \u001b[39m=\u001b[39m build_agent(model, actions)\n\u001b[1;32m      2\u001b[0m \u001b[39mdel\u001b[39;00m model\n\u001b[0;32m----> 3\u001b[0m dqn\u001b[39m.\u001b[39;49mcompile(Adam(learning_rate\u001b[39m=\u001b[39;49m\u001b[39m1e-3\u001b[39;49m), metrics\u001b[39m=\u001b[39;49m[\u001b[39m'\u001b[39;49m\u001b[39mmae\u001b[39;49m\u001b[39m'\u001b[39;49m])\n\u001b[1;32m      4\u001b[0m dqn\u001b[39m.\u001b[39mfit(env, nb_steps\u001b[39m=\u001b[39m\u001b[39m60000\u001b[39m, visualize\u001b[39m=\u001b[39m\u001b[39mFalse\u001b[39;00m, verbose\u001b[39m=\u001b[39m\u001b[39m1\u001b[39m)\n",
      "File \u001b[0;32m~/git/aaa/.venv/lib/python3.9/site-packages/rl/agents/dqn.py:167\u001b[0m, in \u001b[0;36mDQNAgent.compile\u001b[0;34m(self, optimizer, metrics)\u001b[0m\n\u001b[1;32m    164\u001b[0m metrics \u001b[39m+\u001b[39m\u001b[39m=\u001b[39m [mean_q]  \u001b[39m# register default metrics\u001b[39;00m\n\u001b[1;32m    166\u001b[0m \u001b[39m# We never train the target model, hence we can set the optimizer and loss arbitrarily.\u001b[39;00m\n\u001b[0;32m--> 167\u001b[0m \u001b[39mself\u001b[39m\u001b[39m.\u001b[39mtarget_model \u001b[39m=\u001b[39m clone_model(\u001b[39mself\u001b[39;49m\u001b[39m.\u001b[39;49mmodel, \u001b[39mself\u001b[39;49m\u001b[39m.\u001b[39;49mcustom_model_objects)\n\u001b[1;32m    168\u001b[0m \u001b[39mself\u001b[39m\u001b[39m.\u001b[39mtarget_model\u001b[39m.\u001b[39mcompile(optimizer\u001b[39m=\u001b[39m\u001b[39m'\u001b[39m\u001b[39msgd\u001b[39m\u001b[39m'\u001b[39m, loss\u001b[39m=\u001b[39m\u001b[39m'\u001b[39m\u001b[39mmse\u001b[39m\u001b[39m'\u001b[39m)\n\u001b[1;32m    169\u001b[0m \u001b[39mself\u001b[39m\u001b[39m.\u001b[39mmodel\u001b[39m.\u001b[39mcompile(optimizer\u001b[39m=\u001b[39m\u001b[39m'\u001b[39m\u001b[39msgd\u001b[39m\u001b[39m'\u001b[39m, loss\u001b[39m=\u001b[39m\u001b[39m'\u001b[39m\u001b[39mmse\u001b[39m\u001b[39m'\u001b[39m)\n",
      "File \u001b[0;32m~/git/aaa/.venv/lib/python3.9/site-packages/rl/util.py:16\u001b[0m, in \u001b[0;36mclone_model\u001b[0;34m(model, custom_objects)\u001b[0m\n\u001b[1;32m     11\u001b[0m config \u001b[39m=\u001b[39m {\n\u001b[1;32m     12\u001b[0m     \u001b[39m'\u001b[39m\u001b[39mclass_name\u001b[39m\u001b[39m'\u001b[39m: model\u001b[39m.\u001b[39m\u001b[39m__class__\u001b[39m\u001b[39m.\u001b[39m\u001b[39m__name__\u001b[39m,\n\u001b[1;32m     13\u001b[0m     \u001b[39m'\u001b[39m\u001b[39mconfig\u001b[39m\u001b[39m'\u001b[39m: model\u001b[39m.\u001b[39mget_config(),\n\u001b[1;32m     14\u001b[0m }\n\u001b[1;32m     15\u001b[0m clone \u001b[39m=\u001b[39m model_from_config(config, custom_objects\u001b[39m=\u001b[39mcustom_objects)\n\u001b[0;32m---> 16\u001b[0m clone\u001b[39m.\u001b[39mset_weights(model\u001b[39m.\u001b[39;49mget_weights())\n\u001b[1;32m     17\u001b[0m \u001b[39mreturn\u001b[39;00m clone\n",
      "File \u001b[0;32m~/git/aaa/.venv/lib/python3.9/site-packages/keras/src/engine/training_v1.py:160\u001b[0m, in \u001b[0;36mModel.get_weights\u001b[0;34m(self)\u001b[0m\n\u001b[1;32m    152\u001b[0m \u001b[39mdef\u001b[39;00m \u001b[39mget_weights\u001b[39m(\u001b[39mself\u001b[39m):\n\u001b[1;32m    153\u001b[0m \u001b[39m    \u001b[39m\u001b[39m\"\"\"Retrieves the weights of the model.\u001b[39;00m\n\u001b[1;32m    154\u001b[0m \n\u001b[1;32m    155\u001b[0m \u001b[39m    Returns:\u001b[39;00m\n\u001b[1;32m    156\u001b[0m \u001b[39m        A flat list of Numpy arrays.\u001b[39;00m\n\u001b[1;32m    157\u001b[0m \u001b[39m    \"\"\"\u001b[39;00m\n\u001b[1;32m    158\u001b[0m     strategy \u001b[39m=\u001b[39m (\n\u001b[1;32m    159\u001b[0m         \u001b[39mself\u001b[39m\u001b[39m.\u001b[39m_distribution_strategy\n\u001b[0;32m--> 160\u001b[0m         \u001b[39mor\u001b[39;00m \u001b[39mself\u001b[39;49m\u001b[39m.\u001b[39;49m_compile_time_distribution_strategy\n\u001b[1;32m    161\u001b[0m     )\n\u001b[1;32m    162\u001b[0m     \u001b[39mif\u001b[39;00m strategy:\n\u001b[1;32m    163\u001b[0m         \u001b[39mwith\u001b[39;00m strategy\u001b[39m.\u001b[39mscope():\n",
      "\u001b[0;31mAttributeError\u001b[0m: 'Sequential' object has no attribute '_compile_time_distribution_strategy'"
     ]
    }
   ],
   "source": [
    "dqn = build_agent(model, actions)\n",
    "del model\n",
    "dqn.compile(Adam(learning_rate=1e-3), metrics=['mae'])\n",
    "dqn.fit(env, nb_steps=60000, visualize=False, verbose=1)"
   ]
  },
  {
   "cell_type": "code",
   "execution_count": null,
   "metadata": {},
   "outputs": [],
   "source": []
  },
  {
   "cell_type": "code",
   "execution_count": null,
   "metadata": {},
   "outputs": [],
   "source": []
  },
  {
   "cell_type": "code",
   "execution_count": null,
   "metadata": {},
   "outputs": [],
   "source": []
  },
  {
   "cell_type": "code",
   "execution_count": null,
   "metadata": {},
   "outputs": [],
   "source": []
  },
  {
   "cell_type": "code",
   "execution_count": 10,
   "metadata": {},
   "outputs": [
    {
     "ename": "NameError",
     "evalue": "name 'rl' is not defined",
     "output_type": "error",
     "traceback": [
      "\u001b[0;31m---------------------------------------------------------------------------\u001b[0m",
      "\u001b[0;31mNameError\u001b[0m                                 Traceback (most recent call last)",
      "Cell \u001b[0;32mIn[10], line 2\u001b[0m\n\u001b[1;32m      1\u001b[0m \u001b[39m# Defining and training of Deep Q-Network Agent\u001b[39;00m\n\u001b[0;32m----> 2\u001b[0m policy \u001b[39m=\u001b[39m rl\u001b[39m.\u001b[39mBoltzmannQPolicy()\n\u001b[1;32m      3\u001b[0m memory \u001b[39m=\u001b[39m SequentialMemory(limit\u001b[39m=\u001b[39m\u001b[39m10000\u001b[39m\u001b[39m*\u001b[39m\u001b[39m2\u001b[39m, window_length\u001b[39m=\u001b[39m\u001b[39m1\u001b[39m)\n\u001b[1;32m      4\u001b[0m dqn \u001b[39m=\u001b[39m DQNAgent(model\u001b[39m=\u001b[39mmodel, memory\u001b[39m=\u001b[39mmemory, policy\u001b[39m=\u001b[39mpolicy, nb_actions\u001b[39m=\u001b[39mactions, nb_steps_warmup\u001b[39m=\u001b[39m\u001b[39m10000\u001b[39m\u001b[39m*\u001b[39m\u001b[39m1\u001b[39m, target_model_update\u001b[39m=\u001b[39m\u001b[39m1e-2\u001b[39m)\n",
      "\u001b[0;31mNameError\u001b[0m: name 'rl' is not defined"
     ]
    }
   ],
   "source": [
    "# Defining and training of Deep Q-Network Agent\n",
    "policy = BoltzmannQPolicy()\n",
    "memory = SequentialMemory(limit=10000*2, window_length=1)\n",
    "dqn = DQNAgent(model=model, memory=memory, policy=policy, nb_actions=actions, nb_steps_warmup=10000*1, target_model_update=1e-2)\n",
    "dqn.compile(Adam(learning_rate=0.1), metrics=['mae'])\n",
    "dqn.fit(env, nb_steps=10000*10, visualize=False, verbose=1)"
   ]
  },
  {
   "cell_type": "code",
   "execution_count": null,
   "metadata": {},
   "outputs": [],
   "source": [
    "# Testing the agent on the simple Environment\n",
    "results = dqn.test(printEnv, nb_episodes=2, visualize=False)\n",
    "print(np.mean(results.history['episode_reward']))"
   ]
  }
 ],
 "metadata": {
  "kernelspec": {
   "display_name": ".venv",
   "language": "python",
   "name": "python3"
  },
  "language_info": {
   "codemirror_mode": {
    "name": "ipython",
    "version": 3
   },
   "file_extension": ".py",
   "mimetype": "text/x-python",
   "name": "python",
   "nbconvert_exporter": "python",
   "pygments_lexer": "ipython3",
   "version": "3.9.6"
  },
  "orig_nbformat": 4
 },
 "nbformat": 4,
 "nbformat_minor": 2
}
