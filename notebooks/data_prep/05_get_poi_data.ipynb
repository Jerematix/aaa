{
 "cells": [
  {
   "cell_type": "code",
   "execution_count": 54,
   "metadata": {
    "collapsed": true,
    "ExecuteTime": {
     "start_time": "2023-05-21T20:26:44.392504Z",
     "end_time": "2023-05-21T20:26:44.414603Z"
    }
   },
   "outputs": [],
   "source": [
    "import requests\n",
    "import pandas as pd\n",
    "import h3\n",
    "import json\n",
    "import os\n",
    "import h3pandas"
   ]
  },
  {
   "cell_type": "code",
   "execution_count": 55,
   "outputs": [],
   "source": [
    "def get_metadata():\n",
    "    with open(\"../../data/poi/metadata.json\") as f:\n",
    "        return json.load(f)"
   ],
   "metadata": {
    "collapsed": false,
    "ExecuteTime": {
     "start_time": "2023-05-21T20:26:44.570213Z",
     "end_time": "2023-05-21T20:26:44.588403Z"
    }
   }
  },
  {
   "cell_type": "code",
   "execution_count": 56,
   "outputs": [],
   "source": [
    "metadata = get_metadata()"
   ],
   "metadata": {
    "collapsed": false,
    "ExecuteTime": {
     "start_time": "2023-05-21T20:26:44.761409Z",
     "end_time": "2023-05-21T20:26:44.777623Z"
    }
   }
  },
  {
   "cell_type": "code",
   "execution_count": 57,
   "outputs": [],
   "source": [
    "def get_data_file_path(category):\n",
    "    return f'../../data/poi/{metadata[category][\"filename\"]}'\n",
    "\n",
    "def is_data_file_exists(category):\n",
    "    return os.path.isfile(get_data_file_path(category))\n",
    "\n",
    "def read_data_file(category):\n",
    "    with open(get_data_file_path(category)) as f:\n",
    "        data = json.load(f)\n",
    "    return data\n",
    "\n",
    "def save_data_file(category, data):\n",
    "    with open(get_data_file_path(category), \"w\") as f:\n",
    "        json.dump(data, f)\n",
    "\n",
    "def fetch_data(category):\n",
    "    response = requests.get(\n",
    "        \"http://overpass-api.de/api/interpreter\",\n",
    "        params={\"data\": metadata[category][\"query\"]},\n",
    "    )\n",
    "    data = response.json()\n",
    "    save_data_file(category, data)\n",
    "    return data\n",
    "\n",
    "def get_data(category):\n",
    "    if is_data_file_exists(category):\n",
    "        return read_data_file(category)\n",
    "    return fetch_data(category)"
   ],
   "metadata": {
    "collapsed": false,
    "ExecuteTime": {
     "start_time": "2023-05-21T20:26:45.207734Z",
     "end_time": "2023-05-21T20:26:45.232734Z"
    }
   }
  },
  {
   "cell_type": "code",
   "execution_count": 59,
   "outputs": [],
   "source": [
    "poi_dfs = []\n",
    "categories = [['sustenance', True], ['public_transport', False], ['education', True], ['arts_and_culture', True], ['sports', False]]\n",
    "\n",
    "for category, amenity in categories:\n",
    "    data = get_data(category)\n",
    "    df = pd.DataFrame(data[\"elements\"])\n",
    "    df[\"category\"] = category\n",
    "    if amenity:\n",
    "        df[\"amenity\"] = df[\"tags\"].apply(lambda tags: tags[\"amenity\"])\n",
    "    poi_dfs.append(df)"
   ],
   "metadata": {
    "collapsed": false,
    "ExecuteTime": {
     "start_time": "2023-05-21T20:27:21.499887Z",
     "end_time": "2023-05-21T20:27:21.614063Z"
    }
   }
  },
  {
   "cell_type": "code",
   "execution_count": 60,
   "outputs": [
    {
     "data": {
      "text/plain": "           lat        lon    category        amenity\n0    41.925574 -87.649212  sustenance      fast_food\n1    41.879673 -87.626422  sustenance      fast_food\n2    41.880136 -87.627940  sustenance      fast_food\n3    41.880226 -87.624665  sustenance      fast_food\n4    41.880648 -87.626422  sustenance           cafe\n..         ...        ...         ...            ...\n106  41.898906 -87.686700      sports  Not Specified\n107  41.855305 -87.626832      sports  Not Specified\n108  41.937489 -87.644507      sports  Not Specified\n109  42.008272 -87.659333      sports  Not Specified\n110  42.007804 -87.659156      sports  Not Specified\n\n[10700 rows x 4 columns]",
      "text/html": "<div>\n<style scoped>\n    .dataframe tbody tr th:only-of-type {\n        vertical-align: middle;\n    }\n\n    .dataframe tbody tr th {\n        vertical-align: top;\n    }\n\n    .dataframe thead th {\n        text-align: right;\n    }\n</style>\n<table border=\"1\" class=\"dataframe\">\n  <thead>\n    <tr style=\"text-align: right;\">\n      <th></th>\n      <th>lat</th>\n      <th>lon</th>\n      <th>category</th>\n      <th>amenity</th>\n    </tr>\n  </thead>\n  <tbody>\n    <tr>\n      <th>0</th>\n      <td>41.925574</td>\n      <td>-87.649212</td>\n      <td>sustenance</td>\n      <td>fast_food</td>\n    </tr>\n    <tr>\n      <th>1</th>\n      <td>41.879673</td>\n      <td>-87.626422</td>\n      <td>sustenance</td>\n      <td>fast_food</td>\n    </tr>\n    <tr>\n      <th>2</th>\n      <td>41.880136</td>\n      <td>-87.627940</td>\n      <td>sustenance</td>\n      <td>fast_food</td>\n    </tr>\n    <tr>\n      <th>3</th>\n      <td>41.880226</td>\n      <td>-87.624665</td>\n      <td>sustenance</td>\n      <td>fast_food</td>\n    </tr>\n    <tr>\n      <th>4</th>\n      <td>41.880648</td>\n      <td>-87.626422</td>\n      <td>sustenance</td>\n      <td>cafe</td>\n    </tr>\n    <tr>\n      <th>...</th>\n      <td>...</td>\n      <td>...</td>\n      <td>...</td>\n      <td>...</td>\n    </tr>\n    <tr>\n      <th>106</th>\n      <td>41.898906</td>\n      <td>-87.686700</td>\n      <td>sports</td>\n      <td>Not Specified</td>\n    </tr>\n    <tr>\n      <th>107</th>\n      <td>41.855305</td>\n      <td>-87.626832</td>\n      <td>sports</td>\n      <td>Not Specified</td>\n    </tr>\n    <tr>\n      <th>108</th>\n      <td>41.937489</td>\n      <td>-87.644507</td>\n      <td>sports</td>\n      <td>Not Specified</td>\n    </tr>\n    <tr>\n      <th>109</th>\n      <td>42.008272</td>\n      <td>-87.659333</td>\n      <td>sports</td>\n      <td>Not Specified</td>\n    </tr>\n    <tr>\n      <th>110</th>\n      <td>42.007804</td>\n      <td>-87.659156</td>\n      <td>sports</td>\n      <td>Not Specified</td>\n    </tr>\n  </tbody>\n</table>\n<p>10700 rows × 4 columns</p>\n</div>"
     },
     "execution_count": 60,
     "metadata": {},
     "output_type": "execute_result"
    }
   ],
   "source": [
    "all_poi_df = pd.concat(poi_dfs)\n",
    "all_poi_df = all_poi_df.drop(columns={\"type\", \"id\", \"tags\"})\n",
    "all_poi_df = all_poi_df.fillna(\"Not Specified\")\n",
    "all_poi_df"
   ],
   "metadata": {
    "collapsed": false,
    "ExecuteTime": {
     "start_time": "2023-05-21T20:27:22.281390Z",
     "end_time": "2023-05-21T20:27:22.323971Z"
    }
   }
  },
  {
   "cell_type": "code",
   "execution_count": 61,
   "outputs": [],
   "source": [
    "all_poi_df.to_parquet(\"../../data/poi/poi_data.parquet\")"
   ],
   "metadata": {
    "collapsed": false,
    "ExecuteTime": {
     "start_time": "2023-05-21T20:27:29.187095Z",
     "end_time": "2023-05-21T20:27:29.230708Z"
    }
   }
  },
  {
   "cell_type": "code",
   "execution_count": 62,
   "outputs": [],
   "source": [
    "dfs = []\n",
    "for h3_res in range(7,10):\n",
    "    h3_col = \"h3_\" + \"{:02d}\".format(h3_res)\n",
    "    all_poi_df = all_poi_df.h3.geo_to_h3(h3_res, \"lat\", \"lon\", set_index=False)\n",
    "    all_h3_with_poi = all_poi_df.groupby([h3_col, \"category\"]).size().to_frame()\n",
    "    all_h3_with_poi = all_h3_with_poi.reset_index()\n",
    "    all_h3_with_poi[\"h3_res\"] = h3_res\n",
    "    all_h3_with_poi = all_h3_with_poi.rename(columns={0: \"pois\", h3_col: \"h3\"})\n",
    "    dfs.append(all_h3_with_poi)"
   ],
   "metadata": {
    "collapsed": false,
    "ExecuteTime": {
     "start_time": "2023-05-21T20:27:30.494194Z",
     "end_time": "2023-05-21T20:27:30.671577Z"
    }
   }
  },
  {
   "cell_type": "code",
   "execution_count": 63,
   "outputs": [
    {
     "data": {
      "text/plain": "                   h3          category  pois  h3_res\n0     872664190ffffff  public_transport     9       7\n1     872664191ffffff  public_transport    16       7\n2     872664191ffffff        sustenance     1       7\n3     872664193ffffff  public_transport    11       7\n4     872664194ffffff  public_transport    48       7\n...               ...               ...   ...     ...\n5066  89275936d4fffff        sustenance     3       9\n5067  89275936d63ffff        sustenance     1       9\n5068  89275936dc3ffff        sustenance     2       9\n5069  89275936dd3ffff        sustenance     2       9\n5070  892b9bcdeb3ffff        sustenance     1       9\n\n[5071 rows x 4 columns]",
      "text/html": "<div>\n<style scoped>\n    .dataframe tbody tr th:only-of-type {\n        vertical-align: middle;\n    }\n\n    .dataframe tbody tr th {\n        vertical-align: top;\n    }\n\n    .dataframe thead th {\n        text-align: right;\n    }\n</style>\n<table border=\"1\" class=\"dataframe\">\n  <thead>\n    <tr style=\"text-align: right;\">\n      <th></th>\n      <th>h3</th>\n      <th>category</th>\n      <th>pois</th>\n      <th>h3_res</th>\n    </tr>\n  </thead>\n  <tbody>\n    <tr>\n      <th>0</th>\n      <td>872664190ffffff</td>\n      <td>public_transport</td>\n      <td>9</td>\n      <td>7</td>\n    </tr>\n    <tr>\n      <th>1</th>\n      <td>872664191ffffff</td>\n      <td>public_transport</td>\n      <td>16</td>\n      <td>7</td>\n    </tr>\n    <tr>\n      <th>2</th>\n      <td>872664191ffffff</td>\n      <td>sustenance</td>\n      <td>1</td>\n      <td>7</td>\n    </tr>\n    <tr>\n      <th>3</th>\n      <td>872664193ffffff</td>\n      <td>public_transport</td>\n      <td>11</td>\n      <td>7</td>\n    </tr>\n    <tr>\n      <th>4</th>\n      <td>872664194ffffff</td>\n      <td>public_transport</td>\n      <td>48</td>\n      <td>7</td>\n    </tr>\n    <tr>\n      <th>...</th>\n      <td>...</td>\n      <td>...</td>\n      <td>...</td>\n      <td>...</td>\n    </tr>\n    <tr>\n      <th>5066</th>\n      <td>89275936d4fffff</td>\n      <td>sustenance</td>\n      <td>3</td>\n      <td>9</td>\n    </tr>\n    <tr>\n      <th>5067</th>\n      <td>89275936d63ffff</td>\n      <td>sustenance</td>\n      <td>1</td>\n      <td>9</td>\n    </tr>\n    <tr>\n      <th>5068</th>\n      <td>89275936dc3ffff</td>\n      <td>sustenance</td>\n      <td>2</td>\n      <td>9</td>\n    </tr>\n    <tr>\n      <th>5069</th>\n      <td>89275936dd3ffff</td>\n      <td>sustenance</td>\n      <td>2</td>\n      <td>9</td>\n    </tr>\n    <tr>\n      <th>5070</th>\n      <td>892b9bcdeb3ffff</td>\n      <td>sustenance</td>\n      <td>1</td>\n      <td>9</td>\n    </tr>\n  </tbody>\n</table>\n<p>5071 rows × 4 columns</p>\n</div>"
     },
     "execution_count": 63,
     "metadata": {},
     "output_type": "execute_result"
    }
   ],
   "source": [
    "all_h3_with_poi = pd.concat(dfs, ignore_index=True, axis=0)\n",
    "all_h3_with_poi"
   ],
   "metadata": {
    "collapsed": false,
    "ExecuteTime": {
     "start_time": "2023-05-21T20:27:30.995995Z",
     "end_time": "2023-05-21T20:27:31.048534Z"
    }
   }
  },
  {
   "cell_type": "code",
   "execution_count": 64,
   "outputs": [
    {
     "data": {
      "text/plain": "                   h3  h3_res   \n0     872664190ffffff       7  \\\n1     872664191ffffff       7   \n3     872664193ffffff       7   \n4     872664194ffffff       7   \n6     872664195ffffff       7   \n...               ...     ...   \n5065  89275936d4fffff       9   \n5067  89275936d63ffff       9   \n5068  89275936dc3ffff       9   \n5069  89275936dd3ffff       9   \n5070  892b9bcdeb3ffff       9   \n\n                                      h3_incl_neighbors  \n0     [872664191ffffff, 872664195ffffff, 872664193ff...  \n1     [872664191ffffff, 872664182ffffff, 872664195ff...  \n3     [872664191ffffff, 87266456dffffff, 872664193ff...  \n4     [872664cc9ffffff, 872664195ffffff, 8726641b2ff...  \n6     [872664191ffffff, 872664195ffffff, 872664182ff...  \n...                                                 ...  \n5065  [89275936d7bffff, 89275936d4bffff, 892759368b7...  \n5067  [89275936d7bffff, 89275936d73ffff, 89275936d6b...  \n5068  [89275936dd3ffff, 89275936dd7ffff, 89275936dcb...  \n5069  [892664d936bffff, 89275936dd3ffff, 89275936ca7...  \n5070  [892b9bcdc4fffff, 892b9bcdeb3ffff, 892b9bcdc4b...  \n\n[3196 rows x 3 columns]",
      "text/html": "<div>\n<style scoped>\n    .dataframe tbody tr th:only-of-type {\n        vertical-align: middle;\n    }\n\n    .dataframe tbody tr th {\n        vertical-align: top;\n    }\n\n    .dataframe thead th {\n        text-align: right;\n    }\n</style>\n<table border=\"1\" class=\"dataframe\">\n  <thead>\n    <tr style=\"text-align: right;\">\n      <th></th>\n      <th>h3</th>\n      <th>h3_res</th>\n      <th>h3_incl_neighbors</th>\n    </tr>\n  </thead>\n  <tbody>\n    <tr>\n      <th>0</th>\n      <td>872664190ffffff</td>\n      <td>7</td>\n      <td>[872664191ffffff, 872664195ffffff, 872664193ff...</td>\n    </tr>\n    <tr>\n      <th>1</th>\n      <td>872664191ffffff</td>\n      <td>7</td>\n      <td>[872664191ffffff, 872664182ffffff, 872664195ff...</td>\n    </tr>\n    <tr>\n      <th>3</th>\n      <td>872664193ffffff</td>\n      <td>7</td>\n      <td>[872664191ffffff, 87266456dffffff, 872664193ff...</td>\n    </tr>\n    <tr>\n      <th>4</th>\n      <td>872664194ffffff</td>\n      <td>7</td>\n      <td>[872664cc9ffffff, 872664195ffffff, 8726641b2ff...</td>\n    </tr>\n    <tr>\n      <th>6</th>\n      <td>872664195ffffff</td>\n      <td>7</td>\n      <td>[872664191ffffff, 872664195ffffff, 872664182ff...</td>\n    </tr>\n    <tr>\n      <th>...</th>\n      <td>...</td>\n      <td>...</td>\n      <td>...</td>\n    </tr>\n    <tr>\n      <th>5065</th>\n      <td>89275936d4fffff</td>\n      <td>9</td>\n      <td>[89275936d7bffff, 89275936d4bffff, 892759368b7...</td>\n    </tr>\n    <tr>\n      <th>5067</th>\n      <td>89275936d63ffff</td>\n      <td>9</td>\n      <td>[89275936d7bffff, 89275936d73ffff, 89275936d6b...</td>\n    </tr>\n    <tr>\n      <th>5068</th>\n      <td>89275936dc3ffff</td>\n      <td>9</td>\n      <td>[89275936dd3ffff, 89275936dd7ffff, 89275936dcb...</td>\n    </tr>\n    <tr>\n      <th>5069</th>\n      <td>89275936dd3ffff</td>\n      <td>9</td>\n      <td>[892664d936bffff, 89275936dd3ffff, 89275936ca7...</td>\n    </tr>\n    <tr>\n      <th>5070</th>\n      <td>892b9bcdeb3ffff</td>\n      <td>9</td>\n      <td>[892b9bcdc4fffff, 892b9bcdeb3ffff, 892b9bcdc4b...</td>\n    </tr>\n  </tbody>\n</table>\n<p>3196 rows × 3 columns</p>\n</div>"
     },
     "execution_count": 64,
     "metadata": {},
     "output_type": "execute_result"
    }
   ],
   "source": [
    "hexagons_df = all_h3_with_poi[[\"h3\", \"h3_res\"]].drop_duplicates().copy()\n",
    "hexagons_df[\"h3_incl_neighbors\"] = hexagons_df.apply(\n",
    "    lambda row: list(h3.k_ring(row[\"h3\"], 1)), axis=1\n",
    ")\n",
    "hexagons_df"
   ],
   "metadata": {
    "collapsed": false,
    "ExecuteTime": {
     "start_time": "2023-05-21T20:27:32.410470Z",
     "end_time": "2023-05-21T20:27:32.527791Z"
    }
   }
  },
  {
   "cell_type": "code",
   "execution_count": 65,
   "outputs": [],
   "source": [
    "def calculate_poi(hex_and_neighbors, category):\n",
    "    return all_h3_with_poi[\n",
    "        (\n",
    "               (all_h3_with_poi[\"h3\"].isin(hex_and_neighbors))\n",
    "                & (all_h3_with_poi[\"category\"] == category)\n",
    "        )\n",
    "    ][\"pois\"].sum()"
   ],
   "metadata": {
    "collapsed": false,
    "ExecuteTime": {
     "start_time": "2023-05-21T20:27:33.268852Z",
     "end_time": "2023-05-21T20:27:33.324219Z"
    }
   }
  },
  {
   "cell_type": "code",
   "execution_count": 66,
   "outputs": [
    {
     "data": {
      "text/plain": "                   h3  h3_res   \n0     872664190ffffff       7  \\\n1     872664191ffffff       7   \n3     872664193ffffff       7   \n4     872664194ffffff       7   \n6     872664195ffffff       7   \n...               ...     ...   \n5065  89275936d4fffff       9   \n5067  89275936d63ffff       9   \n5068  89275936dc3ffff       9   \n5069  89275936dd3ffff       9   \n5070  892b9bcdeb3ffff       9   \n\n                                      h3_incl_neighbors  sustenance_poi   \n0     [872664191ffffff, 872664195ffffff, 872664193ff...               8  \\\n1     [872664191ffffff, 872664182ffffff, 872664195ff...               3   \n3     [872664191ffffff, 87266456dffffff, 872664193ff...               2   \n4     [872664cc9ffffff, 872664195ffffff, 8726641b2ff...              13   \n6     [872664191ffffff, 872664195ffffff, 872664182ff...               9   \n...                                                 ...             ...   \n5065  [89275936d7bffff, 89275936d4bffff, 892759368b7...               5   \n5067  [89275936d7bffff, 89275936d73ffff, 89275936d6b...               1   \n5068  [89275936dd3ffff, 89275936dd7ffff, 89275936dcb...               4   \n5069  [892664d936bffff, 89275936dd3ffff, 89275936ca7...               4   \n5070  [892b9bcdc4fffff, 892b9bcdeb3ffff, 892b9bcdc4b...               1   \n\n      public_transport_poi  education_poi  arts_and_culture_poi  sports_poi  \n0                       93              0                     0           1  \n1                       55              0                     0           1  \n3                       64              2                     0           0  \n4                      191              1                     0           1  \n6                       93              0                     0           1  \n...                    ...            ...                   ...         ...  \n5065                     5              0                     0           0  \n5067                     0              0                     0           0  \n5068                     0              0                     0           0  \n5069                     0              0                     0           0  \n5070                     0              0                     0           0  \n\n[3196 rows x 8 columns]",
      "text/html": "<div>\n<style scoped>\n    .dataframe tbody tr th:only-of-type {\n        vertical-align: middle;\n    }\n\n    .dataframe tbody tr th {\n        vertical-align: top;\n    }\n\n    .dataframe thead th {\n        text-align: right;\n    }\n</style>\n<table border=\"1\" class=\"dataframe\">\n  <thead>\n    <tr style=\"text-align: right;\">\n      <th></th>\n      <th>h3</th>\n      <th>h3_res</th>\n      <th>h3_incl_neighbors</th>\n      <th>sustenance_poi</th>\n      <th>public_transport_poi</th>\n      <th>education_poi</th>\n      <th>arts_and_culture_poi</th>\n      <th>sports_poi</th>\n    </tr>\n  </thead>\n  <tbody>\n    <tr>\n      <th>0</th>\n      <td>872664190ffffff</td>\n      <td>7</td>\n      <td>[872664191ffffff, 872664195ffffff, 872664193ff...</td>\n      <td>8</td>\n      <td>93</td>\n      <td>0</td>\n      <td>0</td>\n      <td>1</td>\n    </tr>\n    <tr>\n      <th>1</th>\n      <td>872664191ffffff</td>\n      <td>7</td>\n      <td>[872664191ffffff, 872664182ffffff, 872664195ff...</td>\n      <td>3</td>\n      <td>55</td>\n      <td>0</td>\n      <td>0</td>\n      <td>1</td>\n    </tr>\n    <tr>\n      <th>3</th>\n      <td>872664193ffffff</td>\n      <td>7</td>\n      <td>[872664191ffffff, 87266456dffffff, 872664193ff...</td>\n      <td>2</td>\n      <td>64</td>\n      <td>2</td>\n      <td>0</td>\n      <td>0</td>\n    </tr>\n    <tr>\n      <th>4</th>\n      <td>872664194ffffff</td>\n      <td>7</td>\n      <td>[872664cc9ffffff, 872664195ffffff, 8726641b2ff...</td>\n      <td>13</td>\n      <td>191</td>\n      <td>1</td>\n      <td>0</td>\n      <td>1</td>\n    </tr>\n    <tr>\n      <th>6</th>\n      <td>872664195ffffff</td>\n      <td>7</td>\n      <td>[872664191ffffff, 872664195ffffff, 872664182ff...</td>\n      <td>9</td>\n      <td>93</td>\n      <td>0</td>\n      <td>0</td>\n      <td>1</td>\n    </tr>\n    <tr>\n      <th>...</th>\n      <td>...</td>\n      <td>...</td>\n      <td>...</td>\n      <td>...</td>\n      <td>...</td>\n      <td>...</td>\n      <td>...</td>\n      <td>...</td>\n    </tr>\n    <tr>\n      <th>5065</th>\n      <td>89275936d4fffff</td>\n      <td>9</td>\n      <td>[89275936d7bffff, 89275936d4bffff, 892759368b7...</td>\n      <td>5</td>\n      <td>5</td>\n      <td>0</td>\n      <td>0</td>\n      <td>0</td>\n    </tr>\n    <tr>\n      <th>5067</th>\n      <td>89275936d63ffff</td>\n      <td>9</td>\n      <td>[89275936d7bffff, 89275936d73ffff, 89275936d6b...</td>\n      <td>1</td>\n      <td>0</td>\n      <td>0</td>\n      <td>0</td>\n      <td>0</td>\n    </tr>\n    <tr>\n      <th>5068</th>\n      <td>89275936dc3ffff</td>\n      <td>9</td>\n      <td>[89275936dd3ffff, 89275936dd7ffff, 89275936dcb...</td>\n      <td>4</td>\n      <td>0</td>\n      <td>0</td>\n      <td>0</td>\n      <td>0</td>\n    </tr>\n    <tr>\n      <th>5069</th>\n      <td>89275936dd3ffff</td>\n      <td>9</td>\n      <td>[892664d936bffff, 89275936dd3ffff, 89275936ca7...</td>\n      <td>4</td>\n      <td>0</td>\n      <td>0</td>\n      <td>0</td>\n      <td>0</td>\n    </tr>\n    <tr>\n      <th>5070</th>\n      <td>892b9bcdeb3ffff</td>\n      <td>9</td>\n      <td>[892b9bcdc4fffff, 892b9bcdeb3ffff, 892b9bcdc4b...</td>\n      <td>1</td>\n      <td>0</td>\n      <td>0</td>\n      <td>0</td>\n      <td>0</td>\n    </tr>\n  </tbody>\n</table>\n<p>3196 rows × 8 columns</p>\n</div>"
     },
     "execution_count": 66,
     "metadata": {},
     "output_type": "execute_result"
    }
   ],
   "source": [
    "for category, _ in categories:\n",
    "    hexagons_df[f\"{category}_poi\"] = hexagons_df[\"h3_incl_neighbors\"].apply(\n",
    "        lambda row: calculate_poi(row, category)\n",
    "    )\n",
    "\n",
    "hexagons_df"
   ],
   "metadata": {
    "collapsed": false,
    "ExecuteTime": {
     "start_time": "2023-05-21T20:27:34.462109Z",
     "end_time": "2023-05-21T20:27:56.999645Z"
    }
   }
  },
  {
   "cell_type": "code",
   "execution_count": 67,
   "outputs": [],
   "source": [
    "hexagons_df.to_parquet(\"../../data/poi/poi_hexagon_data.parquet\")"
   ],
   "metadata": {
    "collapsed": false,
    "ExecuteTime": {
     "start_time": "2023-05-21T20:27:57.018997Z",
     "end_time": "2023-05-21T20:27:57.085666Z"
    }
   }
  }
 ],
 "metadata": {
  "kernelspec": {
   "display_name": "Python 3",
   "language": "python",
   "name": "python3"
  },
  "language_info": {
   "codemirror_mode": {
    "name": "ipython",
    "version": 2
   },
   "file_extension": ".py",
   "mimetype": "text/x-python",
   "name": "python",
   "nbconvert_exporter": "python",
   "pygments_lexer": "ipython2",
   "version": "2.7.6"
  }
 },
 "nbformat": 4,
 "nbformat_minor": 0
}
