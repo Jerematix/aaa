{
 "cells": [
  {
   "cell_type": "code",
   "execution_count": 1,
   "outputs": [],
   "source": [
    "import pandas as pd\n",
    "import fastparquet as fp"
   ],
   "metadata": {
    "collapsed": false,
    "ExecuteTime": {
     "start_time": "2023-05-04T20:04:45.235759Z",
     "end_time": "2023-05-04T20:04:46.651070Z"
    }
   }
  },
  {
   "cell_type": "code",
   "execution_count": 2,
   "outputs": [],
   "source": [
    "chunksize = 1_000_000\n",
    "filename = '../../data/Taxi_Trips.csv'\n",
    "output_filename = '../../data/Taxi_Trips.parquet'\n",
    "first = True\n",
    "\n",
    "for chunk in pd.read_csv(filename, chunksize=chunksize):\n",
    "    if first:\n",
    "        fp.write(output_filename, chunk, compression='snappy')\n",
    "        first = False\n",
    "    else:\n",
    "        fp.write(output_filename, chunk, compression='snappy', append=True)"
   ],
   "metadata": {
    "collapsed": false,
    "ExecuteTime": {
     "start_time": "2023-05-04T20:04:46.653071Z",
     "end_time": "2023-05-04T20:10:23.183675Z"
    }
   }
  },
  {
   "cell_type": "code",
   "execution_count": null,
   "outputs": [],
   "source": [
    "df = pd.read_parquet('../../data/Taxi_Trips.parquet')"
   ],
   "metadata": {
    "collapsed": false,
    "pycharm": {
     "is_executing": true
    }
   }
  },
  {
   "cell_type": "code",
   "execution_count": null,
   "outputs": [],
   "source": [],
   "metadata": {
    "collapsed": false
   }
  }
 ],
 "metadata": {
  "kernelspec": {
   "display_name": "Python 3",
   "language": "python",
   "name": "python3"
  },
  "language_info": {
   "codemirror_mode": {
    "name": "ipython",
    "version": 2
   },
   "file_extension": ".py",
   "mimetype": "text/x-python",
   "name": "python",
   "nbconvert_exporter": "python",
   "pygments_lexer": "ipython2",
   "version": "2.7.6"
  }
 },
 "nbformat": 4,
 "nbformat_minor": 0
}
