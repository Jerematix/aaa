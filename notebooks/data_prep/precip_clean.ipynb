{
 "cells": [
  {
   "cell_type": "code",
   "execution_count": 27,
   "metadata": {
    "collapsed": true,
    "ExecuteTime": {
     "start_time": "2023-05-18T21:10:47.374162Z",
     "end_time": "2023-05-18T21:10:47.405433Z"
    }
   },
   "outputs": [],
   "source": [
    "import pandas as pd"
   ]
  },
  {
   "cell_type": "code",
   "execution_count": 28,
   "outputs": [],
   "source": [
    "df = pd.read_csv('../../data/weather_description.csv')"
   ],
   "metadata": {
    "collapsed": false,
    "ExecuteTime": {
     "start_time": "2023-05-18T21:10:47.374162Z",
     "end_time": "2023-05-18T21:10:48.338661Z"
    }
   }
  },
  {
   "cell_type": "code",
   "execution_count": 29,
   "outputs": [
    {
     "name": "stdout",
     "output_type": "stream",
     "text": [
      "<class 'pandas.core.frame.DataFrame'>\n",
      "RangeIndex: 45253 entries, 0 to 45252\n",
      "Data columns (total 37 columns):\n",
      " #   Column             Non-Null Count  Dtype \n",
      "---  ------             --------------  ----- \n",
      " 0   datetime           45253 non-null  object\n",
      " 1   Vancouver          44460 non-null  object\n",
      " 2   Portland           45252 non-null  object\n",
      " 3   San Francisco      44460 non-null  object\n",
      " 4   Seattle            45252 non-null  object\n",
      " 5   Los Angeles        45252 non-null  object\n",
      " 6   San Diego          45252 non-null  object\n",
      " 7   Las Vegas          45252 non-null  object\n",
      " 8   Phoenix            45252 non-null  object\n",
      " 9   Albuquerque        45252 non-null  object\n",
      " 10  Denver             45252 non-null  object\n",
      " 11  San Antonio        45252 non-null  object\n",
      " 12  Dallas             45252 non-null  object\n",
      " 13  Houston            45252 non-null  object\n",
      " 14  Kansas City        45252 non-null  object\n",
      " 15  Minneapolis        45252 non-null  object\n",
      " 16  Saint Louis        45252 non-null  object\n",
      " 17  Chicago            45252 non-null  object\n",
      " 18  Nashville          45252 non-null  object\n",
      " 19  Indianapolis       45252 non-null  object\n",
      " 20  Atlanta            45252 non-null  object\n",
      " 21  Detroit            45252 non-null  object\n",
      " 22  Jacksonville       45252 non-null  object\n",
      " 23  Charlotte          45252 non-null  object\n",
      " 24  Miami              44460 non-null  object\n",
      " 25  Pittsburgh         45252 non-null  object\n",
      " 26  Toronto            45252 non-null  object\n",
      " 27  Philadelphia       45252 non-null  object\n",
      " 28  New York           44460 non-null  object\n",
      " 29  Montreal           45252 non-null  object\n",
      " 30  Boston             45252 non-null  object\n",
      " 31  Beersheba          44460 non-null  object\n",
      " 32  Tel Aviv District  44460 non-null  object\n",
      " 33  Eilat              44461 non-null  object\n",
      " 34  Haifa              44460 non-null  object\n",
      " 35  Nahariyya          44460 non-null  object\n",
      " 36  Jerusalem          44460 non-null  object\n",
      "dtypes: object(37)\n",
      "memory usage: 12.8+ MB\n"
     ]
    }
   ],
   "source": [
    "df.info()"
   ],
   "metadata": {
    "collapsed": false,
    "ExecuteTime": {
     "start_time": "2023-05-18T21:10:48.338661Z",
     "end_time": "2023-05-18T21:10:48.464178Z"
    }
   }
  },
  {
   "cell_type": "code",
   "execution_count": 30,
   "outputs": [],
   "source": [
    "keep = ['datetime', 'Chicago']\n",
    "df = df[keep]"
   ],
   "metadata": {
    "collapsed": false,
    "ExecuteTime": {
     "start_time": "2023-05-18T21:10:48.448564Z",
     "end_time": "2023-05-18T21:10:48.542749Z"
    }
   }
  },
  {
   "cell_type": "code",
   "execution_count": 31,
   "outputs": [],
   "source": [
    "df['datetime'] = pd.to_datetime(df['datetime'])\n",
    "df = df[df['datetime'].dt.year == 2015].copy()"
   ],
   "metadata": {
    "collapsed": false,
    "ExecuteTime": {
     "start_time": "2023-05-18T21:10:48.480233Z",
     "end_time": "2023-05-18T21:10:48.652576Z"
    }
   }
  },
  {
   "cell_type": "code",
   "execution_count": 32,
   "outputs": [
    {
     "name": "stdout",
     "output_type": "stream",
     "text": [
      "['sky is clear' 'scattered clouds' 'few clouds' 'broken clouds' 'snow'\n",
      " 'light rain' 'moderate rain' 'heavy intensity rain' 'light snow'\n",
      " 'overcast clouds' 'heavy snow' 'very heavy rain' 'mist' 'haze'\n",
      " 'light intensity drizzle' 'drizzle' 'thunderstorm' 'fog'\n",
      " 'proximity thunderstorm' 'thunderstorm with rain'\n",
      " 'thunderstorm with heavy rain' 'thunderstorm with light rain'\n",
      " 'proximity thunderstorm with rain' 'proximity thunderstorm with drizzle'\n",
      " 'squalls' 'heavy intensity drizzle' 'freezing rain']\n"
     ]
    }
   ],
   "source": [
    "print(df['Chicago'].unique())"
   ],
   "metadata": {
    "collapsed": false,
    "ExecuteTime": {
     "start_time": "2023-05-18T21:10:48.621320Z",
     "end_time": "2023-05-18T21:10:48.668627Z"
    }
   }
  },
  {
   "cell_type": "code",
   "execution_count": 33,
   "outputs": [],
   "source": [
    "def check_precipitation(value):\n",
    "    if value in ['rain', 'snow']:\n",
    "        return 1\n",
    "    else:\n",
    "        return 0"
   ],
   "metadata": {
    "collapsed": false,
    "ExecuteTime": {
     "start_time": "2023-05-18T21:10:48.621320Z",
     "end_time": "2023-05-18T21:10:48.668627Z"
    }
   }
  },
  {
   "cell_type": "code",
   "execution_count": 34,
   "outputs": [],
   "source": [
    "df['Precip'] = df['Chicago'].apply(check_precipitation)"
   ],
   "metadata": {
    "collapsed": false,
    "ExecuteTime": {
     "start_time": "2023-05-18T21:10:48.636952Z",
     "end_time": "2023-05-18T21:10:48.699900Z"
    }
   }
  },
  {
   "cell_type": "code",
   "execution_count": 35,
   "outputs": [],
   "source": [
    "del df['Chicago']"
   ],
   "metadata": {
    "collapsed": false,
    "ExecuteTime": {
     "start_time": "2023-05-18T21:10:48.668627Z",
     "end_time": "2023-05-18T21:10:48.699900Z"
    }
   }
  },
  {
   "cell_type": "code",
   "execution_count": 36,
   "outputs": [
    {
     "name": "stdout",
     "output_type": "stream",
     "text": [
      "<class 'pandas.core.frame.DataFrame'>\n",
      "Index: 8760 entries, 19716 to 28475\n",
      "Data columns (total 2 columns):\n",
      " #   Column    Non-Null Count  Dtype         \n",
      "---  ------    --------------  -----         \n",
      " 0   datetime  8760 non-null   datetime64[ns]\n",
      " 1   Precip    8760 non-null   int64         \n",
      "dtypes: datetime64[ns](1), int64(1)\n",
      "memory usage: 205.3 KB\n"
     ]
    }
   ],
   "source": [
    "df.info()"
   ],
   "metadata": {
    "collapsed": false,
    "ExecuteTime": {
     "start_time": "2023-05-18T21:10:48.684272Z",
     "end_time": "2023-05-18T21:10:48.794084Z"
    }
   }
  },
  {
   "cell_type": "code",
   "execution_count": 37,
   "outputs": [],
   "source": [
    "df.to_parquet('../../data/weather_description_cleaned.parquet')"
   ],
   "metadata": {
    "collapsed": false,
    "ExecuteTime": {
     "start_time": "2023-05-18T21:10:48.746769Z",
     "end_time": "2023-05-18T21:10:48.794084Z"
    }
   }
  }
 ],
 "metadata": {
  "kernelspec": {
   "display_name": "Python 3",
   "language": "python",
   "name": "python3"
  },
  "language_info": {
   "codemirror_mode": {
    "name": "ipython",
    "version": 2
   },
   "file_extension": ".py",
   "mimetype": "text/x-python",
   "name": "python",
   "nbconvert_exporter": "python",
   "pygments_lexer": "ipython2",
   "version": "2.7.6"
  }
 },
 "nbformat": 4,
 "nbformat_minor": 0
}
