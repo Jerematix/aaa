{
 "cells": [
  {
   "cell_type": "markdown",
   "source": [
    "Data Collection and Preparation: You have access to the taxi trip data. Select the year(s) that have\n",
    "been assigned to you and clean your dataset for use in later stages of your project. As the CSV file might\n",
    "be too large for your computer to open it with Python, you could preprocess the file first with tools like\n",
    "“sed” or “xsv” in order to filter out not needed rows and columns. To obtain hourly weather data, access\n",
    "the links provided above (or reach out to us). Also, provide a detailed description of the trip dataset\n",
    "such that there are no pending questions. Due to privacy reasons, spatial data is given only on census\n",
    "tract level. To better analyze location data – specifically in lower dimensions - further discretize the city\n",
    "in scope with the help of suitable tools (such as a matrix of hexagons using h3-Uber). This discretization\n",
    "is crucial for the analysis of the spatial resolution. Furthermore, you should also consider different\n",
    "temporal discretization (e.g., hourly, 4-hourly, daily) etc."
   ],
   "metadata": {
    "collapsed": false
   }
  },
  {
   "cell_type": "code",
   "execution_count": 41,
   "metadata": {
    "collapsed": true,
    "ExecuteTime": {
     "start_time": "2023-05-18T22:09:48.841996Z",
     "end_time": "2023-05-18T22:09:49.171342Z"
    }
   },
   "outputs": [],
   "source": [
    "import pandas as pd\n",
    "import h3pandas\n",
    "import fastparquet\n",
    "import geopandas as gpd\n",
    "import seaborn as sns"
   ]
  },
  {
   "cell_type": "code",
   "execution_count": 42,
   "outputs": [],
   "source": [
    "df = pd.read_parquet('../../data/Taxi_Trips_Sampled.parquet')"
   ],
   "metadata": {
    "collapsed": false,
    "ExecuteTime": {
     "start_time": "2023-05-18T22:09:48.857662Z",
     "end_time": "2023-05-18T22:09:49.615210Z"
    }
   }
  },
  {
   "cell_type": "code",
   "execution_count": 43,
   "outputs": [
    {
     "name": "stdout",
     "output_type": "stream",
     "text": [
      "0.0 86340.0\n"
     ]
    }
   ],
   "source": [
    "print(df['Trip Seconds'].min(), df['Trip Seconds'].max())"
   ],
   "metadata": {
    "collapsed": false,
    "ExecuteTime": {
     "start_time": "2023-05-18T22:09:49.615210Z",
     "end_time": "2023-05-18T22:09:49.631236Z"
    }
   }
  },
  {
   "cell_type": "code",
   "execution_count": 44,
   "outputs": [
    {
     "data": {
      "text/plain": "<Axes: xlabel='Trip Seconds', ylabel='Count'>"
     },
     "execution_count": 44,
     "metadata": {},
     "output_type": "execute_result"
    },
    {
     "data": {
      "text/plain": "<Figure size 640x480 with 1 Axes>",
      "image/png": "[encoded data removed]"
     },
     "metadata": {},
     "output_type": "display_data"
    }
   ],
   "source": [
    "sns.histplot(df, x=\"Trip Seconds\")"
   ],
   "metadata": {
    "collapsed": false,
    "ExecuteTime": {
     "start_time": "2023-05-18T22:09:49.631236Z",
     "end_time": "2023-05-18T22:09:57.959569Z"
    }
   }
  },
  {
   "cell_type": "code",
   "execution_count": 45,
   "outputs": [],
   "source": [
    "df = df[df['Trip Seconds'] < 7200]\n",
    "#Seconds shows 0, if trip is under 5 mins of length."
   ],
   "metadata": {
    "collapsed": false,
    "ExecuteTime": {
     "start_time": "2023-05-18T22:09:57.959569Z",
     "end_time": "2023-05-18T22:09:58.155750Z"
    }
   }
  },
  {
   "cell_type": "code",
   "execution_count": 55,
   "outputs": [
    {
     "name": "stdout",
     "output_type": "stream",
     "text": [
      "0.0 2060.0\n"
     ]
    }
   ],
   "source": [
    "print(df['Trip Miles'].min(), df['Trip Miles'].max())"
   ],
   "metadata": {
    "collapsed": false,
    "ExecuteTime": {
     "start_time": "2023-05-18T22:16:13.890545Z",
     "end_time": "2023-05-18T22:16:14.644836Z"
    }
   }
  },
  {
   "cell_type": "code",
   "execution_count": 46,
   "outputs": [
    {
     "name": "stdout",
     "output_type": "stream",
     "text": [
      "01/01/2015 01:00:00 AM 12/31/2015 12:45:00 AM\n",
      "01/01/2015 01:00:00 AM 12/31/2015 12:45:00 AM\n"
     ]
    }
   ],
   "source": [
    "print(df['Trip Start Timestamp'].min(), df['Trip Start Timestamp'].max())\n",
    "print(df['Trip End Timestamp'].min(), df['Trip End Timestamp'].max())"
   ],
   "metadata": {
    "collapsed": false,
    "ExecuteTime": {
     "start_time": "2023-05-18T22:09:58.124057Z",
     "end_time": "2023-05-18T22:09:58.328107Z"
    }
   }
  },
  {
   "cell_type": "code",
   "execution_count": 47,
   "outputs": [
    {
     "data": {
      "text/plain": "                                           Trip ID   \nindex                                                \n28201628  4889f5e0b43baf8d24b0f19452b52f37cc91f2db  \\\n3254456   2806ed4edda25969b571224fb40cdbcfea2f0604   \n29645912  32694409501bb86c5d4cfc96cdd369d85c354e7b   \n25196547  e0a545c44c297bac41bfe456665cd06145c5f66e   \n23652576  110a2816b716b70868b2db3cc4e629a2c2a500e8   \n25863680  ee96143e64bf2a380a4c17a62c67e311a254a17f   \n7318152   8b57c50d0bab954ba9b8dc0eadc6fb0c6eefe238   \n24282064  518285e039a7fd5c93a870cb111654947415aa13   \n30695287  1bbae0a706021cedecc1aaeba47a2cca3a0321d1   \n2535614   e1f3b79510cfc160d551a12df0add820e983ccc8   \n\n                                                    Taxi ID   \nindex                                                         \n28201628  c658af10e0654aeacebeaa2ac70c886507b531ca613c86...  \\\n3254456   af3b4b23f34495cb17ffb1b5ba884c08a6266690661eb2...   \n29645912  1582de696de19a2f348c2f627a9fcc10906567e5c51494...   \n25196547  4f189764b8d9b6f71f7936ab414cac07634be0a00790ca...   \n23652576  d22d9c59cf15244c51bfaa145bc2fadb214a9620bca0a3...   \n25863680  a69c4405c2411af33a80bb6f4c566349e542284b0ef109...   \n7318152   8b11a1727a85dc849f117c39cd42b7bab4b7e8ef32d0a2...   \n24282064  c623d0124062bae02ec972e94b6c105798514e12bf2a5d...   \n30695287  bc926a3f4b4b068427b4bc0c26e4d1d5fe59aff0633768...   \n2535614   1b84d02f4f9b66792e2b5fb36d19ec7f5a4eb96f26ed6c...   \n\n            Trip Start Timestamp      Trip End Timestamp  Trip Seconds   \nindex                                                                    \n28201628  02/17/2015 07:15:00 AM  02/17/2015 07:15:00 AM         320.0  \\\n3254456   11/17/2015 06:30:00 PM  11/17/2015 06:30:00 PM           0.0   \n29645912  02/01/2015 08:45:00 AM  02/01/2015 09:00:00 AM         780.0   \n25196547  03/19/2015 10:00:00 AM  03/19/2015 10:15:00 AM         360.0   \n23652576  04/04/2015 07:00:00 PM  04/04/2015 07:15:00 PM         900.0   \n25863680  03/12/2015 07:45:00 PM  03/12/2015 08:00:00 PM         600.0   \n7318152   10/01/2015 02:30:00 PM  10/01/2015 02:45:00 PM         600.0   \n24282064  03/28/2015 11:30:00 AM  03/28/2015 11:45:00 AM         660.0   \n30695287  01/20/2015 11:15:00 PM  01/20/2015 11:15:00 PM         240.0   \n2535614   11/27/2015 02:30:00 PM  11/27/2015 02:45:00 PM         360.0   \n\n          Trip Miles  Pickup Census Tract  Dropoff Census Tract   \nindex                                                             \n28201628         1.2         1.703128e+10          1.703132e+10  \\\n3254456          0.1         1.703108e+10          1.703108e+10   \n29645912         3.5                  NaN                   NaN   \n25196547         0.0         1.703108e+10          1.703108e+10   \n23652576         4.7                  NaN                   NaN   \n25863680         2.3         1.703133e+10          1.703108e+10   \n7318152          3.1                  NaN                   NaN   \n24282064         1.8                  NaN                   NaN   \n30695287         0.8                  NaN                   NaN   \n2535614          1.1         1.703132e+10          1.703132e+10   \n\n          Pickup Community Area  Dropoff Community Area  ...  Trip Total   \nindex                                                    ...               \n28201628                   28.0                    32.0  ...        5.85  \\\n3254456                     8.0                     8.0  ...        3.25   \n29645912                    3.0                    21.0  ...       10.25   \n25196547                    8.0                     8.0  ...        5.25   \n23652576                    NaN                     NaN  ...       15.25   \n25863680                   33.0                     8.0  ...       11.65   \n7318152                     8.0                     7.0  ...        9.85   \n24282064                   24.0                    22.0  ...        8.25   \n30695287                    NaN                     NaN  ...        5.25   \n2535614                    32.0                    32.0  ...        6.85   \n\n          Payment Type                            Company   \nindex                                                       \n28201628          Cash                         Yellow Cab  \\\n3254456           Cash           Northwest Management LLC   \n29645912          Cash          Taxi Affiliation Services   \n25196547          Cash  Blue Ribbon Taxi Association Inc.   \n23652576   Credit Card                               None   \n25863680   Credit Card                               None   \n7318152           Cash            Choice Taxi Association   \n24282064          Cash            Choice Taxi Association   \n30695287          Cash                               None   \n2535614           Cash                         Yellow Cab   \n\n          Pickup Centroid Latitude  Pickup Centroid Longitude   \nindex                                                           \n28201628                 41.885300                 -87.642808  \\\n3254456                  41.890922                 -87.618868   \n29645912                 41.965812                 -87.655879   \n25196547                 41.892508                 -87.626215   \n23652576                       NaN                        NaN   \n25863680                 41.859350                 -87.617358   \n7318152                  41.899602                 -87.633308   \n24282064                 41.901207                 -87.676356   \n30695287                       NaN                        NaN   \n2535614                  41.870607                 -87.622173   \n\n                          Pickup Centroid Location Dropoff Centroid Latitude   \nindex                                                                          \n28201628      POINT (-87.6428084655 41.8853000224)                 41.884987  \\\n3254456       POINT (-87.6188683546 41.8909220259)                 41.890922   \n29645912        POINT (-87.6558787862 41.96581197)                 41.938666   \n25196547      POINT (-87.6262149064 41.8925077809)                 41.898332   \n23652576                                      None                       NaN   \n25863680       POINT (-87.6173580061 41.859349715)                 41.890922   \n7318152        POINT (-87.6333080367 41.899602111)                 41.922686   \n24282064  POINT (-87.6763559892 41.90120699410001)                 41.922761   \n30695287                                      None                       NaN   \n2535614       POINT (-87.6221729369 41.8706073724)                 41.884987   \n\n          Dropoff Centroid Longitude   \nindex                                  \n28201628                  -87.620993  \\\n3254456                   -87.618868   \n29645912                  -87.711211   \n25196547                  -87.620763   \n23652576                         NaN   \n25863680                  -87.618868   \n7318152                   -87.649489   \n24282064                  -87.699155   \n30695287                         NaN   \n2535614                   -87.620993   \n\n                        Dropoff Centroid  Location Community Areas  \nindex                                                               \n28201628      POINT (-87.6209929134 41.8849871918)            29.0  \n3254456       POINT (-87.6188683546 41.8909220259)            37.0  \n29645912  POINT (-87.7112105933 41.93866619620001)            31.0  \n25196547      POINT (-87.6207628651 41.8983317935)            37.0  \n23652576                                      None             NaN  \n25863680      POINT (-87.6188683546 41.8909220259)            34.0  \n7318152       POINT (-87.6494887289 41.9226862843)            37.0  \n24282064  POINT (-87.69915534320002 41.9227606205)            25.0  \n30695287                                      None             NaN  \n2535614       POINT (-87.6209929134 41.8849871918)            38.0  \n\n[10 rows x 24 columns]",
      "text/html": "<div>\n<style scoped>\n    .dataframe tbody tr th:only-of-type {\n        vertical-align: middle;\n    }\n\n    .dataframe tbody tr th {\n        vertical-align: top;\n    }\n\n    .dataframe thead th {\n        text-align: right;\n    }\n</style>\n<table border=\"1\" class=\"dataframe\">\n  <thead>\n    <tr style=\"text-align: right;\">\n      <th></th>\n      <th>Trip ID</th>\n      <th>Taxi ID</th>\n      <th>Trip Start Timestamp</th>\n      <th>Trip End Timestamp</th>\n      <th>Trip Seconds</th>\n      <th>Trip Miles</th>\n      <th>Pickup Census Tract</th>\n      <th>Dropoff Census Tract</th>\n      <th>Pickup Community Area</th>\n      <th>Dropoff Community Area</th>\n      <th>...</th>\n      <th>Trip Total</th>\n      <th>Payment Type</th>\n      <th>Company</th>\n      <th>Pickup Centroid Latitude</th>\n      <th>Pickup Centroid Longitude</th>\n      <th>Pickup Centroid Location</th>\n      <th>Dropoff Centroid Latitude</th>\n      <th>Dropoff Centroid Longitude</th>\n      <th>Dropoff Centroid  Location</th>\n      <th>Community Areas</th>\n    </tr>\n    <tr>\n      <th>index</th>\n      <th></th>\n      <th></th>\n      <th></th>\n      <th></th>\n      <th></th>\n      <th></th>\n      <th></th>\n      <th></th>\n      <th></th>\n      <th></th>\n      <th></th>\n      <th></th>\n      <th></th>\n      <th></th>\n      <th></th>\n      <th></th>\n      <th></th>\n      <th></th>\n      <th></th>\n      <th></th>\n      <th></th>\n    </tr>\n  </thead>\n  <tbody>\n    <tr>\n      <th>28201628</th>\n      <td>4889f5e0b43baf8d24b0f19452b52f37cc91f2db</td>\n      <td>c658af10e0654aeacebeaa2ac70c886507b531ca613c86...</td>\n      <td>02/17/2015 07:15:00 AM</td>\n      <td>02/17/2015 07:15:00 AM</td>\n      <td>320.0</td>\n      <td>1.2</td>\n      <td>1.703128e+10</td>\n      <td>1.703132e+10</td>\n      <td>28.0</td>\n      <td>32.0</td>\n      <td>...</td>\n      <td>5.85</td>\n      <td>Cash</td>\n      <td>Yellow Cab</td>\n      <td>41.885300</td>\n      <td>-87.642808</td>\n      <td>POINT (-87.6428084655 41.8853000224)</td>\n      <td>41.884987</td>\n      <td>-87.620993</td>\n      <td>POINT (-87.6209929134 41.8849871918)</td>\n      <td>29.0</td>\n    </tr>\n    <tr>\n      <th>3254456</th>\n      <td>2806ed4edda25969b571224fb40cdbcfea2f0604</td>\n      <td>af3b4b23f34495cb17ffb1b5ba884c08a6266690661eb2...</td>\n      <td>11/17/2015 06:30:00 PM</td>\n      <td>11/17/2015 06:30:00 PM</td>\n      <td>0.0</td>\n      <td>0.1</td>\n      <td>1.703108e+10</td>\n      <td>1.703108e+10</td>\n      <td>8.0</td>\n      <td>8.0</td>\n      <td>...</td>\n      <td>3.25</td>\n      <td>Cash</td>\n      <td>Northwest Management LLC</td>\n      <td>41.890922</td>\n      <td>-87.618868</td>\n      <td>POINT (-87.6188683546 41.8909220259)</td>\n      <td>41.890922</td>\n      <td>-87.618868</td>\n      <td>POINT (-87.6188683546 41.8909220259)</td>\n      <td>37.0</td>\n    </tr>\n    <tr>\n      <th>29645912</th>\n      <td>32694409501bb86c5d4cfc96cdd369d85c354e7b</td>\n      <td>1582de696de19a2f348c2f627a9fcc10906567e5c51494...</td>\n      <td>02/01/2015 08:45:00 AM</td>\n      <td>02/01/2015 09:00:00 AM</td>\n      <td>780.0</td>\n      <td>3.5</td>\n      <td>NaN</td>\n      <td>NaN</td>\n      <td>3.0</td>\n      <td>21.0</td>\n      <td>...</td>\n      <td>10.25</td>\n      <td>Cash</td>\n      <td>Taxi Affiliation Services</td>\n      <td>41.965812</td>\n      <td>-87.655879</td>\n      <td>POINT (-87.6558787862 41.96581197)</td>\n      <td>41.938666</td>\n      <td>-87.711211</td>\n      <td>POINT (-87.7112105933 41.93866619620001)</td>\n      <td>31.0</td>\n    </tr>\n    <tr>\n      <th>25196547</th>\n      <td>e0a545c44c297bac41bfe456665cd06145c5f66e</td>\n      <td>4f189764b8d9b6f71f7936ab414cac07634be0a00790ca...</td>\n      <td>03/19/2015 10:00:00 AM</td>\n      <td>03/19/2015 10:15:00 AM</td>\n      <td>360.0</td>\n      <td>0.0</td>\n      <td>1.703108e+10</td>\n      <td>1.703108e+10</td>\n      <td>8.0</td>\n      <td>8.0</td>\n      <td>...</td>\n      <td>5.25</td>\n      <td>Cash</td>\n      <td>Blue Ribbon Taxi Association Inc.</td>\n      <td>41.892508</td>\n      <td>-87.626215</td>\n      <td>POINT (-87.6262149064 41.8925077809)</td>\n      <td>41.898332</td>\n      <td>-87.620763</td>\n      <td>POINT (-87.6207628651 41.8983317935)</td>\n      <td>37.0</td>\n    </tr>\n    <tr>\n      <th>23652576</th>\n      <td>110a2816b716b70868b2db3cc4e629a2c2a500e8</td>\n      <td>d22d9c59cf15244c51bfaa145bc2fadb214a9620bca0a3...</td>\n      <td>04/04/2015 07:00:00 PM</td>\n      <td>04/04/2015 07:15:00 PM</td>\n      <td>900.0</td>\n      <td>4.7</td>\n      <td>NaN</td>\n      <td>NaN</td>\n      <td>NaN</td>\n      <td>NaN</td>\n      <td>...</td>\n      <td>15.25</td>\n      <td>Credit Card</td>\n      <td>None</td>\n      <td>NaN</td>\n      <td>NaN</td>\n      <td>None</td>\n      <td>NaN</td>\n      <td>NaN</td>\n      <td>None</td>\n      <td>NaN</td>\n    </tr>\n    <tr>\n      <th>25863680</th>\n      <td>ee96143e64bf2a380a4c17a62c67e311a254a17f</td>\n      <td>a69c4405c2411af33a80bb6f4c566349e542284b0ef109...</td>\n      <td>03/12/2015 07:45:00 PM</td>\n      <td>03/12/2015 08:00:00 PM</td>\n      <td>600.0</td>\n      <td>2.3</td>\n      <td>1.703133e+10</td>\n      <td>1.703108e+10</td>\n      <td>33.0</td>\n      <td>8.0</td>\n      <td>...</td>\n      <td>11.65</td>\n      <td>Credit Card</td>\n      <td>None</td>\n      <td>41.859350</td>\n      <td>-87.617358</td>\n      <td>POINT (-87.6173580061 41.859349715)</td>\n      <td>41.890922</td>\n      <td>-87.618868</td>\n      <td>POINT (-87.6188683546 41.8909220259)</td>\n      <td>34.0</td>\n    </tr>\n    <tr>\n      <th>7318152</th>\n      <td>8b57c50d0bab954ba9b8dc0eadc6fb0c6eefe238</td>\n      <td>8b11a1727a85dc849f117c39cd42b7bab4b7e8ef32d0a2...</td>\n      <td>10/01/2015 02:30:00 PM</td>\n      <td>10/01/2015 02:45:00 PM</td>\n      <td>600.0</td>\n      <td>3.1</td>\n      <td>NaN</td>\n      <td>NaN</td>\n      <td>8.0</td>\n      <td>7.0</td>\n      <td>...</td>\n      <td>9.85</td>\n      <td>Cash</td>\n      <td>Choice Taxi Association</td>\n      <td>41.899602</td>\n      <td>-87.633308</td>\n      <td>POINT (-87.6333080367 41.899602111)</td>\n      <td>41.922686</td>\n      <td>-87.649489</td>\n      <td>POINT (-87.6494887289 41.9226862843)</td>\n      <td>37.0</td>\n    </tr>\n    <tr>\n      <th>24282064</th>\n      <td>518285e039a7fd5c93a870cb111654947415aa13</td>\n      <td>c623d0124062bae02ec972e94b6c105798514e12bf2a5d...</td>\n      <td>03/28/2015 11:30:00 AM</td>\n      <td>03/28/2015 11:45:00 AM</td>\n      <td>660.0</td>\n      <td>1.8</td>\n      <td>NaN</td>\n      <td>NaN</td>\n      <td>24.0</td>\n      <td>22.0</td>\n      <td>...</td>\n      <td>8.25</td>\n      <td>Cash</td>\n      <td>Choice Taxi Association</td>\n      <td>41.901207</td>\n      <td>-87.676356</td>\n      <td>POINT (-87.6763559892 41.90120699410001)</td>\n      <td>41.922761</td>\n      <td>-87.699155</td>\n      <td>POINT (-87.69915534320002 41.9227606205)</td>\n      <td>25.0</td>\n    </tr>\n    <tr>\n      <th>30695287</th>\n      <td>1bbae0a706021cedecc1aaeba47a2cca3a0321d1</td>\n      <td>bc926a3f4b4b068427b4bc0c26e4d1d5fe59aff0633768...</td>\n      <td>01/20/2015 11:15:00 PM</td>\n      <td>01/20/2015 11:15:00 PM</td>\n      <td>240.0</td>\n      <td>0.8</td>\n      <td>NaN</td>\n      <td>NaN</td>\n      <td>NaN</td>\n      <td>NaN</td>\n      <td>...</td>\n      <td>5.25</td>\n      <td>Cash</td>\n      <td>None</td>\n      <td>NaN</td>\n      <td>NaN</td>\n      <td>None</td>\n      <td>NaN</td>\n      <td>NaN</td>\n      <td>None</td>\n      <td>NaN</td>\n    </tr>\n    <tr>\n      <th>2535614</th>\n      <td>e1f3b79510cfc160d551a12df0add820e983ccc8</td>\n      <td>1b84d02f4f9b66792e2b5fb36d19ec7f5a4eb96f26ed6c...</td>\n      <td>11/27/2015 02:30:00 PM</td>\n      <td>11/27/2015 02:45:00 PM</td>\n      <td>360.0</td>\n      <td>1.1</td>\n      <td>1.703132e+10</td>\n      <td>1.703132e+10</td>\n      <td>32.0</td>\n      <td>32.0</td>\n      <td>...</td>\n      <td>6.85</td>\n      <td>Cash</td>\n      <td>Yellow Cab</td>\n      <td>41.870607</td>\n      <td>-87.622173</td>\n      <td>POINT (-87.6221729369 41.8706073724)</td>\n      <td>41.884987</td>\n      <td>-87.620993</td>\n      <td>POINT (-87.6209929134 41.8849871918)</td>\n      <td>38.0</td>\n    </tr>\n  </tbody>\n</table>\n<p>10 rows × 24 columns</p>\n</div>"
     },
     "execution_count": 47,
     "metadata": {},
     "output_type": "execute_result"
    }
   ],
   "source": [
    "df.head(10)"
   ],
   "metadata": {
    "collapsed": false,
    "ExecuteTime": {
     "start_time": "2023-05-18T22:09:58.281238Z",
     "end_time": "2023-05-18T22:09:58.469605Z"
    }
   }
  },
  {
   "cell_type": "code",
   "execution_count": 48,
   "outputs": [],
   "source": [
    "cols_to_remove = ['Trip ID', 'Taxi ID', 'Pickup Community Area', 'Dropoff Community Area', 'Pickup Centroid Location', 'Dropoff Centroid  Location', 'Community Areas', 'Payment Type']\n",
    "\n",
    "df = df.drop(columns=cols_to_remove)"
   ],
   "metadata": {
    "collapsed": false,
    "ExecuteTime": {
     "start_time": "2023-05-18T22:09:58.359777Z",
     "end_time": "2023-05-18T22:09:58.485238Z"
    }
   }
  },
  {
   "cell_type": "code",
   "execution_count": 49,
   "outputs": [
    {
     "data": {
      "text/plain": "Trip Start Timestamp               0\nTrip End Timestamp                 0\nTrip Seconds                       0\nTrip Miles                         0\nPickup Census Tract           112908\nDropoff Census Tract          114365\nFare                               4\nTips                               4\nTolls                          49779\nExtras                             4\nTrip Total                         4\nCompany                        96465\nPickup Centroid Latitude       43109\nPickup Centroid Longitude      43109\nDropoff Centroid Latitude      48593\nDropoff Centroid Longitude     48593\ndtype: int64"
     },
     "execution_count": 49,
     "metadata": {},
     "output_type": "execute_result"
    }
   ],
   "source": [
    "df.isna().sum()"
   ],
   "metadata": {
    "collapsed": false,
    "ExecuteTime": {
     "start_time": "2023-05-18T22:09:58.445441Z",
     "end_time": "2023-05-18T22:09:59.081517Z"
    }
   }
  },
  {
   "cell_type": "code",
   "execution_count": 50,
   "outputs": [],
   "source": [
    "#Remove NaN that don't allow spetial discretization\n",
    "df = df.dropna(subset=['Pickup Census Tract', 'Dropoff Census Tract','Dropoff Centroid Latitude', 'Dropoff Centroid Longitude', 'Pickup Centroid Latitude', 'Pickup Centroid Longitude'])"
   ],
   "metadata": {
    "collapsed": false,
    "ExecuteTime": {
     "start_time": "2023-05-18T22:09:58.610664Z",
     "end_time": "2023-05-18T22:09:59.332049Z"
    }
   }
  },
  {
   "cell_type": "code",
   "execution_count": 51,
   "outputs": [
    {
     "data": {
      "text/plain": "Trip Start Timestamp              0\nTrip End Timestamp                0\nTrip Seconds                      0\nTrip Miles                        0\nPickup Census Tract               0\nDropoff Census Tract              0\nFare                              1\nTips                              1\nTolls                         35063\nExtras                            1\nTrip Total                        1\nCompany                       59808\nPickup Centroid Latitude          0\nPickup Centroid Longitude         0\nDropoff Centroid Latitude         0\nDropoff Centroid Longitude        0\ndtype: int64"
     },
     "execution_count": 51,
     "metadata": {},
     "output_type": "execute_result"
    }
   ],
   "source": [
    "df.isna().sum()"
   ],
   "metadata": {
    "collapsed": false,
    "ExecuteTime": {
     "start_time": "2023-05-18T22:09:58.946561Z",
     "end_time": "2023-05-18T22:10:00.269842Z"
    }
   }
  },
  {
   "cell_type": "code",
   "execution_count": 52,
   "outputs": [
    {
     "data": {
      "text/plain": "            Trip Start Timestamp      Trip End Timestamp  Trip Seconds   \nindex                                                                    \n28201628  02/17/2015 07:15:00 AM  02/17/2015 07:15:00 AM         320.0  \\\n3254456   11/17/2015 06:30:00 PM  11/17/2015 06:30:00 PM           0.0   \n25196547  03/19/2015 10:00:00 AM  03/19/2015 10:15:00 AM         360.0   \n25863680  03/12/2015 07:45:00 PM  03/12/2015 08:00:00 PM         600.0   \n2535614   11/27/2015 02:30:00 PM  11/27/2015 02:45:00 PM         360.0   \n18475620  05/28/2015 10:15:00 PM  05/28/2015 10:30:00 PM         600.0   \n8751006   09/15/2015 11:30:00 AM  09/15/2015 11:30:00 AM         540.0   \n22004015  04/22/2015 11:30:00 AM  04/22/2015 11:30:00 AM           0.0   \n6676793   10/08/2015 10:45:00 PM  10/08/2015 11:00:00 PM         480.0   \n27174426  02/27/2015 11:15:00 AM  02/27/2015 11:15:00 AM          60.0   \n\n          Trip Miles  Pickup Census Tract  Dropoff Census Tract  Fare  Tips   \nindex                                                                         \n28201628         1.2         1.703128e+10          1.703132e+10  5.85   0.0  \\\n3254456          0.1         1.703108e+10          1.703108e+10  3.25   0.0   \n25196547         0.0         1.703108e+10          1.703108e+10  5.25   0.0   \n25863680         2.3         1.703133e+10          1.703108e+10  8.65   3.0   \n2535614          1.1         1.703132e+10          1.703132e+10  5.85   0.0   \n18475620         1.7         1.703106e+10          1.703106e+10  7.65   0.0   \n8751006          1.2         1.703184e+10          1.703108e+10  6.85   0.0   \n22004015         0.0         1.703198e+10          1.703198e+10  3.25   0.0   \n6676793          1.8         1.703108e+10          1.703183e+10  7.25   0.0   \n27174426         0.1         1.703108e+10          1.703108e+10  3.45   0.0   \n\n          Tolls  Extras  Trip Total                            Company   \nindex                                                                    \n28201628    NaN     0.0        5.85                         Yellow Cab  \\\n3254456     0.0     0.0        3.25           Northwest Management LLC   \n25196547    0.0     0.0        5.25  Blue Ribbon Taxi Association Inc.   \n25863680    0.0     0.0       11.65                               None   \n2535614     NaN     1.0        6.85                         Yellow Cab   \n18475620    0.0     0.0        7.65          Taxi Affiliation Services   \n8751006     0.0     0.0        6.85                               None   \n22004015    0.0     0.0        3.25          Taxi Affiliation Services   \n6676793     0.0     0.0        7.25           Northwest Management LLC   \n27174426    0.0     1.0        4.45                               None   \n\n          Pickup Centroid Latitude  Pickup Centroid Longitude   \nindex                                                           \n28201628                 41.885300                 -87.642808  \\\n3254456                  41.890922                 -87.618868   \n25196547                 41.892508                 -87.626215   \n25863680                 41.859350                 -87.617358   \n2535614                  41.870607                 -87.622173   \n18475620                 41.941488                 -87.671108   \n8751006                  41.880994                 -87.632746   \n22004015                 41.979071                 -87.903040   \n6676793                  41.892042                 -87.631864   \n27174426                 41.898332                 -87.620763   \n\n          Dropoff Centroid Latitude  Dropoff Centroid Longitude  \nindex                                                            \n28201628                  41.884987                  -87.620993  \n3254456                   41.890922                  -87.618868  \n25196547                  41.898332                  -87.620763  \n25863680                  41.890922                  -87.618868  \n2535614                   41.884987                  -87.620993  \n18475620                  41.943155                  -87.640698  \n8751006                   41.895033                  -87.619711  \n22004015                  41.979071                  -87.903040  \n6676793                   41.879067                  -87.657005  \n27174426                  41.898332                  -87.620763  ",
      "text/html": "<div>\n<style scoped>\n    .dataframe tbody tr th:only-of-type {\n        vertical-align: middle;\n    }\n\n    .dataframe tbody tr th {\n        vertical-align: top;\n    }\n\n    .dataframe thead th {\n        text-align: right;\n    }\n</style>\n<table border=\"1\" class=\"dataframe\">\n  <thead>\n    <tr style=\"text-align: right;\">\n      <th></th>\n      <th>Trip Start Timestamp</th>\n      <th>Trip End Timestamp</th>\n      <th>Trip Seconds</th>\n      <th>Trip Miles</th>\n      <th>Pickup Census Tract</th>\n      <th>Dropoff Census Tract</th>\n      <th>Fare</th>\n      <th>Tips</th>\n      <th>Tolls</th>\n      <th>Extras</th>\n      <th>Trip Total</th>\n      <th>Company</th>\n      <th>Pickup Centroid Latitude</th>\n      <th>Pickup Centroid Longitude</th>\n      <th>Dropoff Centroid Latitude</th>\n      <th>Dropoff Centroid Longitude</th>\n    </tr>\n    <tr>\n      <th>index</th>\n      <th></th>\n      <th></th>\n      <th></th>\n      <th></th>\n      <th></th>\n      <th></th>\n      <th></th>\n      <th></th>\n      <th></th>\n      <th></th>\n      <th></th>\n      <th></th>\n      <th></th>\n      <th></th>\n      <th></th>\n      <th></th>\n    </tr>\n  </thead>\n  <tbody>\n    <tr>\n      <th>28201628</th>\n      <td>02/17/2015 07:15:00 AM</td>\n      <td>02/17/2015 07:15:00 AM</td>\n      <td>320.0</td>\n      <td>1.2</td>\n      <td>1.703128e+10</td>\n      <td>1.703132e+10</td>\n      <td>5.85</td>\n      <td>0.0</td>\n      <td>NaN</td>\n      <td>0.0</td>\n      <td>5.85</td>\n      <td>Yellow Cab</td>\n      <td>41.885300</td>\n      <td>-87.642808</td>\n      <td>41.884987</td>\n      <td>-87.620993</td>\n    </tr>\n    <tr>\n      <th>3254456</th>\n      <td>11/17/2015 06:30:00 PM</td>\n      <td>11/17/2015 06:30:00 PM</td>\n      <td>0.0</td>\n      <td>0.1</td>\n      <td>1.703108e+10</td>\n      <td>1.703108e+10</td>\n      <td>3.25</td>\n      <td>0.0</td>\n      <td>0.0</td>\n      <td>0.0</td>\n      <td>3.25</td>\n      <td>Northwest Management LLC</td>\n      <td>41.890922</td>\n      <td>-87.618868</td>\n      <td>41.890922</td>\n      <td>-87.618868</td>\n    </tr>\n    <tr>\n      <th>25196547</th>\n      <td>03/19/2015 10:00:00 AM</td>\n      <td>03/19/2015 10:15:00 AM</td>\n      <td>360.0</td>\n      <td>0.0</td>\n      <td>1.703108e+10</td>\n      <td>1.703108e+10</td>\n      <td>5.25</td>\n      <td>0.0</td>\n      <td>0.0</td>\n      <td>0.0</td>\n      <td>5.25</td>\n      <td>Blue Ribbon Taxi Association Inc.</td>\n      <td>41.892508</td>\n      <td>-87.626215</td>\n      <td>41.898332</td>\n      <td>-87.620763</td>\n    </tr>\n    <tr>\n      <th>25863680</th>\n      <td>03/12/2015 07:45:00 PM</td>\n      <td>03/12/2015 08:00:00 PM</td>\n      <td>600.0</td>\n      <td>2.3</td>\n      <td>1.703133e+10</td>\n      <td>1.703108e+10</td>\n      <td>8.65</td>\n      <td>3.0</td>\n      <td>0.0</td>\n      <td>0.0</td>\n      <td>11.65</td>\n      <td>None</td>\n      <td>41.859350</td>\n      <td>-87.617358</td>\n      <td>41.890922</td>\n      <td>-87.618868</td>\n    </tr>\n    <tr>\n      <th>2535614</th>\n      <td>11/27/2015 02:30:00 PM</td>\n      <td>11/27/2015 02:45:00 PM</td>\n      <td>360.0</td>\n      <td>1.1</td>\n      <td>1.703132e+10</td>\n      <td>1.703132e+10</td>\n      <td>5.85</td>\n      <td>0.0</td>\n      <td>NaN</td>\n      <td>1.0</td>\n      <td>6.85</td>\n      <td>Yellow Cab</td>\n      <td>41.870607</td>\n      <td>-87.622173</td>\n      <td>41.884987</td>\n      <td>-87.620993</td>\n    </tr>\n    <tr>\n      <th>18475620</th>\n      <td>05/28/2015 10:15:00 PM</td>\n      <td>05/28/2015 10:30:00 PM</td>\n      <td>600.0</td>\n      <td>1.7</td>\n      <td>1.703106e+10</td>\n      <td>1.703106e+10</td>\n      <td>7.65</td>\n      <td>0.0</td>\n      <td>0.0</td>\n      <td>0.0</td>\n      <td>7.65</td>\n      <td>Taxi Affiliation Services</td>\n      <td>41.941488</td>\n      <td>-87.671108</td>\n      <td>41.943155</td>\n      <td>-87.640698</td>\n    </tr>\n    <tr>\n      <th>8751006</th>\n      <td>09/15/2015 11:30:00 AM</td>\n      <td>09/15/2015 11:30:00 AM</td>\n      <td>540.0</td>\n      <td>1.2</td>\n      <td>1.703184e+10</td>\n      <td>1.703108e+10</td>\n      <td>6.85</td>\n      <td>0.0</td>\n      <td>0.0</td>\n      <td>0.0</td>\n      <td>6.85</td>\n      <td>None</td>\n      <td>41.880994</td>\n      <td>-87.632746</td>\n      <td>41.895033</td>\n      <td>-87.619711</td>\n    </tr>\n    <tr>\n      <th>22004015</th>\n      <td>04/22/2015 11:30:00 AM</td>\n      <td>04/22/2015 11:30:00 AM</td>\n      <td>0.0</td>\n      <td>0.0</td>\n      <td>1.703198e+10</td>\n      <td>1.703198e+10</td>\n      <td>3.25</td>\n      <td>0.0</td>\n      <td>0.0</td>\n      <td>0.0</td>\n      <td>3.25</td>\n      <td>Taxi Affiliation Services</td>\n      <td>41.979071</td>\n      <td>-87.903040</td>\n      <td>41.979071</td>\n      <td>-87.903040</td>\n    </tr>\n    <tr>\n      <th>6676793</th>\n      <td>10/08/2015 10:45:00 PM</td>\n      <td>10/08/2015 11:00:00 PM</td>\n      <td>480.0</td>\n      <td>1.8</td>\n      <td>1.703108e+10</td>\n      <td>1.703183e+10</td>\n      <td>7.25</td>\n      <td>0.0</td>\n      <td>0.0</td>\n      <td>0.0</td>\n      <td>7.25</td>\n      <td>Northwest Management LLC</td>\n      <td>41.892042</td>\n      <td>-87.631864</td>\n      <td>41.879067</td>\n      <td>-87.657005</td>\n    </tr>\n    <tr>\n      <th>27174426</th>\n      <td>02/27/2015 11:15:00 AM</td>\n      <td>02/27/2015 11:15:00 AM</td>\n      <td>60.0</td>\n      <td>0.1</td>\n      <td>1.703108e+10</td>\n      <td>1.703108e+10</td>\n      <td>3.45</td>\n      <td>0.0</td>\n      <td>0.0</td>\n      <td>1.0</td>\n      <td>4.45</td>\n      <td>None</td>\n      <td>41.898332</td>\n      <td>-87.620763</td>\n      <td>41.898332</td>\n      <td>-87.620763</td>\n    </tr>\n  </tbody>\n</table>\n</div>"
     },
     "execution_count": 52,
     "metadata": {},
     "output_type": "execute_result"
    }
   ],
   "source": [
    "df.head(10)"
   ],
   "metadata": {
    "collapsed": false,
    "ExecuteTime": {
     "start_time": "2023-05-18T22:09:59.046735Z",
     "end_time": "2023-05-18T22:10:00.332353Z"
    }
   }
  },
  {
   "cell_type": "code",
   "execution_count": 53,
   "outputs": [],
   "source": [
    "for h3_res in range(7,10):\n",
    "    for action in ['Pickup', 'Dropoff']:\n",
    "        df = df.h3.geo_to_h3(h3_res, f\"{action} Centroid Latitude\", f\"{action} Centroid Longitude\", set_index=False)\n",
    "        h3_col = \"h3_\" + \"{:02d}\".format(h3_res)\n",
    "        df[f'{h3_col}_{action}'] = df[h3_col]\n",
    "        del df[h3_col]"
   ],
   "metadata": {
    "collapsed": false,
    "ExecuteTime": {
     "start_time": "2023-05-18T22:09:59.190997Z",
     "end_time": "2023-05-18T22:10:05.603443Z"
    }
   }
  },
  {
   "cell_type": "code",
   "execution_count": 54,
   "outputs": [
    {
     "ename": "KeyError",
     "evalue": "'date'",
     "output_type": "error",
     "traceback": [
      "\u001B[1;31m---------------------------------------------------------------------------\u001B[0m",
      "\u001B[1;31mKeyError\u001B[0m                                  Traceback (most recent call last)",
      "File \u001B[1;32m~\\DataspellProjects\\aaa\\venv\\lib\\site-packages\\pandas\\core\\indexes\\base.py:3652\u001B[0m, in \u001B[0;36mIndex.get_loc\u001B[1;34m(self, key)\u001B[0m\n\u001B[0;32m   3651\u001B[0m \u001B[38;5;28;01mtry\u001B[39;00m:\n\u001B[1;32m-> 3652\u001B[0m     \u001B[38;5;28;01mreturn\u001B[39;00m \u001B[38;5;28;43mself\u001B[39;49m\u001B[38;5;241;43m.\u001B[39;49m\u001B[43m_engine\u001B[49m\u001B[38;5;241;43m.\u001B[39;49m\u001B[43mget_loc\u001B[49m\u001B[43m(\u001B[49m\u001B[43mcasted_key\u001B[49m\u001B[43m)\u001B[49m\n\u001B[0;32m   3653\u001B[0m \u001B[38;5;28;01mexcept\u001B[39;00m \u001B[38;5;167;01mKeyError\u001B[39;00m \u001B[38;5;28;01mas\u001B[39;00m err:\n",
      "File \u001B[1;32m~\\DataspellProjects\\aaa\\venv\\lib\\site-packages\\pandas\\_libs\\index.pyx:147\u001B[0m, in \u001B[0;36mpandas._libs.index.IndexEngine.get_loc\u001B[1;34m()\u001B[0m\n",
      "File \u001B[1;32m~\\DataspellProjects\\aaa\\venv\\lib\\site-packages\\pandas\\_libs\\index.pyx:176\u001B[0m, in \u001B[0;36mpandas._libs.index.IndexEngine.get_loc\u001B[1;34m()\u001B[0m\n",
      "File \u001B[1;32mpandas\\_libs\\hashtable_class_helper.pxi:7080\u001B[0m, in \u001B[0;36mpandas._libs.hashtable.PyObjectHashTable.get_item\u001B[1;34m()\u001B[0m\n",
      "File \u001B[1;32mpandas\\_libs\\hashtable_class_helper.pxi:7088\u001B[0m, in \u001B[0;36mpandas._libs.hashtable.PyObjectHashTable.get_item\u001B[1;34m()\u001B[0m\n",
      "\u001B[1;31mKeyError\u001B[0m: 'date'",
      "\nThe above exception was the direct cause of the following exception:\n",
      "\u001B[1;31mKeyError\u001B[0m                                  Traceback (most recent call last)",
      "Cell \u001B[1;32mIn[54], line 4\u001B[0m\n\u001B[0;32m      1\u001B[0m df[\u001B[38;5;124m'\u001B[39m\u001B[38;5;124mTrip Start Timestamp\u001B[39m\u001B[38;5;124m'\u001B[39m] \u001B[38;5;241m=\u001B[39m pd\u001B[38;5;241m.\u001B[39mto_datetime(df[\u001B[38;5;124m'\u001B[39m\u001B[38;5;124mTrip Start Timestamp\u001B[39m\u001B[38;5;124m'\u001B[39m])\n\u001B[0;32m      2\u001B[0m df[\u001B[38;5;124m'\u001B[39m\u001B[38;5;124mTrip End Timestamp\u001B[39m\u001B[38;5;124m'\u001B[39m] \u001B[38;5;241m=\u001B[39m pd\u001B[38;5;241m.\u001B[39mto_datetime(df[\u001B[38;5;124m'\u001B[39m\u001B[38;5;124mTrip End Timestamp\u001B[39m\u001B[38;5;124m'\u001B[39m])\n\u001B[1;32m----> 4\u001B[0m df[\u001B[38;5;124m'\u001B[39m\u001B[38;5;124mhour\u001B[39m\u001B[38;5;124m'\u001B[39m] \u001B[38;5;241m=\u001B[39m \u001B[43mdf\u001B[49m\u001B[43m[\u001B[49m\u001B[38;5;124;43m'\u001B[39;49m\u001B[38;5;124;43mdate\u001B[39;49m\u001B[38;5;124;43m'\u001B[39;49m\u001B[43m]\u001B[49m\u001B[38;5;241m.\u001B[39mdt\u001B[38;5;241m.\u001B[39mhour\n\u001B[0;32m      5\u001B[0m df[\u001B[38;5;124m'\u001B[39m\u001B[38;5;124m4_hour_block\u001B[39m\u001B[38;5;124m'\u001B[39m] \u001B[38;5;241m=\u001B[39m df[\u001B[38;5;124m'\u001B[39m\u001B[38;5;124mhour\u001B[39m\u001B[38;5;124m'\u001B[39m] \u001B[38;5;241m/\u001B[39m\u001B[38;5;241m/\u001B[39m \u001B[38;5;241m4\u001B[39m\n\u001B[0;32m      6\u001B[0m df[\u001B[38;5;124m'\u001B[39m\u001B[38;5;124mday\u001B[39m\u001B[38;5;124m'\u001B[39m] \u001B[38;5;241m=\u001B[39m df[\u001B[38;5;124m'\u001B[39m\u001B[38;5;124mdate\u001B[39m\u001B[38;5;124m'\u001B[39m]\u001B[38;5;241m.\u001B[39mdt\u001B[38;5;241m.\u001B[39mday\n",
      "File \u001B[1;32m~\\DataspellProjects\\aaa\\venv\\lib\\site-packages\\pandas\\core\\frame.py:3761\u001B[0m, in \u001B[0;36mDataFrame.__getitem__\u001B[1;34m(self, key)\u001B[0m\n\u001B[0;32m   3759\u001B[0m \u001B[38;5;28;01mif\u001B[39;00m \u001B[38;5;28mself\u001B[39m\u001B[38;5;241m.\u001B[39mcolumns\u001B[38;5;241m.\u001B[39mnlevels \u001B[38;5;241m>\u001B[39m \u001B[38;5;241m1\u001B[39m:\n\u001B[0;32m   3760\u001B[0m     \u001B[38;5;28;01mreturn\u001B[39;00m \u001B[38;5;28mself\u001B[39m\u001B[38;5;241m.\u001B[39m_getitem_multilevel(key)\n\u001B[1;32m-> 3761\u001B[0m indexer \u001B[38;5;241m=\u001B[39m \u001B[38;5;28;43mself\u001B[39;49m\u001B[38;5;241;43m.\u001B[39;49m\u001B[43mcolumns\u001B[49m\u001B[38;5;241;43m.\u001B[39;49m\u001B[43mget_loc\u001B[49m\u001B[43m(\u001B[49m\u001B[43mkey\u001B[49m\u001B[43m)\u001B[49m\n\u001B[0;32m   3762\u001B[0m \u001B[38;5;28;01mif\u001B[39;00m is_integer(indexer):\n\u001B[0;32m   3763\u001B[0m     indexer \u001B[38;5;241m=\u001B[39m [indexer]\n",
      "File \u001B[1;32m~\\DataspellProjects\\aaa\\venv\\lib\\site-packages\\pandas\\core\\indexes\\base.py:3654\u001B[0m, in \u001B[0;36mIndex.get_loc\u001B[1;34m(self, key)\u001B[0m\n\u001B[0;32m   3652\u001B[0m     \u001B[38;5;28;01mreturn\u001B[39;00m \u001B[38;5;28mself\u001B[39m\u001B[38;5;241m.\u001B[39m_engine\u001B[38;5;241m.\u001B[39mget_loc(casted_key)\n\u001B[0;32m   3653\u001B[0m \u001B[38;5;28;01mexcept\u001B[39;00m \u001B[38;5;167;01mKeyError\u001B[39;00m \u001B[38;5;28;01mas\u001B[39;00m err:\n\u001B[1;32m-> 3654\u001B[0m     \u001B[38;5;28;01mraise\u001B[39;00m \u001B[38;5;167;01mKeyError\u001B[39;00m(key) \u001B[38;5;28;01mfrom\u001B[39;00m \u001B[38;5;21;01merr\u001B[39;00m\n\u001B[0;32m   3655\u001B[0m \u001B[38;5;28;01mexcept\u001B[39;00m \u001B[38;5;167;01mTypeError\u001B[39;00m:\n\u001B[0;32m   3656\u001B[0m     \u001B[38;5;66;03m# If we have a listlike key, _check_indexing_error will raise\u001B[39;00m\n\u001B[0;32m   3657\u001B[0m     \u001B[38;5;66;03m#  InvalidIndexError. Otherwise we fall through and re-raise\u001B[39;00m\n\u001B[0;32m   3658\u001B[0m     \u001B[38;5;66;03m#  the TypeError.\u001B[39;00m\n\u001B[0;32m   3659\u001B[0m     \u001B[38;5;28mself\u001B[39m\u001B[38;5;241m.\u001B[39m_check_indexing_error(key)\n",
      "\u001B[1;31mKeyError\u001B[0m: 'date'"
     ]
    }
   ],
   "source": [
    "df['Trip Start Timestamp'] = pd.to_datetime(df['Trip Start Timestamp'])\n",
    "df['Trip End Timestamp'] = pd.to_datetime(df['Trip End Timestamp'])\n",
    "\n",
    "df['hour'] = df['date'].dt.hour\n",
    "df['4_hour_block'] = df['hour'] // 4\n",
    "df['day'] = df['date'].dt.day\n",
    "df['week'] = df['date'].dt.week\n",
    "df['month'] = df['date'].dt.monthv\n",
    "\n",
    "df['Pickup Census Tract'] = df['Pickup Census Tract'].astype('int64')\n",
    "df['Dropoff Census Tract'] = df['Dropoff Census Tract'].astype('int64')"
   ],
   "metadata": {
    "collapsed": false,
    "ExecuteTime": {
     "start_time": "2023-05-16T14:22:49.009445Z",
     "end_time": "2023-05-16T14:22:50.821188Z"
    }
   }
  },
  {
   "cell_type": "code",
   "execution_count": null,
   "outputs": [],
   "source": [
    "df_distinct_values = df[['Dropoff Centroid Latitude', 'Dropoff Centroid Longitude']].drop_duplicates()\n",
    "distinct_values_tuples = list(df_distinct_values.itertuples(index=False, name=None))"
   ],
   "metadata": {
    "collapsed": false,
    "ExecuteTime": {
     "start_time": "2023-05-16T14:22:50.825187Z",
     "end_time": "2023-05-16T14:22:50.879197Z"
    }
   }
  },
  {
   "cell_type": "code",
   "execution_count": null,
   "outputs": [],
   "source": [
    "import folium"
   ],
   "metadata": {
    "collapsed": false,
    "ExecuteTime": {
     "start_time": "2023-05-16T14:22:50.871191Z",
     "end_time": "2023-05-16T14:22:50.889739Z"
    }
   }
  },
  {
   "cell_type": "code",
   "execution_count": null,
   "outputs": [],
   "source": [
    "trips_heatmap = folium.Map(\n",
    "    location=(41.881832, -87.623177), # the orig mean values as location coordinates from https://www.latlong.net/place/chicago-il-usa-1855.html\n",
    "    zoom_start=12,\n",
    "    control_scale=True,\n",
    "    max_zoom=20,\n",
    ")\n",
    "\n",
    "folium.GeoJson(\n",
    "    \"../../data/Chicago.geojson\",\n",
    "    name='geojson'\n",
    ").add_to(trips_heatmap)\n",
    "\n",
    "for lat, lon in distinct_values_tuples:\n",
    "    folium.CircleMarker(\n",
    "        radius=1,\n",
    "        location=[lat, lon],\n",
    "        color=\"crimson\",\n",
    "        fill_color=\"crimson\",\n",
    "    ).add_to(trips_heatmap)\n",
    "\n",
    "trips_heatmap\n"
   ],
   "metadata": {
    "collapsed": false,
    "ExecuteTime": {
     "start_time": "2023-05-16T14:22:50.892724Z",
     "end_time": "2023-05-16T14:22:51.335237Z"
    }
   }
  },
  {
   "cell_type": "code",
   "execution_count": null,
   "outputs": [],
   "source": [
    "# Create GeoSeries for pickup and dropoff locations\n",
    "df['Pickup Centroid'] = gpd.points_from_xy(df['Pickup Centroid Longitude'], df['Pickup Centroid Latitude'])\n",
    "df['Dropoff Centroid'] = gpd.points_from_xy(df['Dropoff Centroid Longitude'], df['Dropoff Centroid Latitude'])\n",
    "\n",
    "df = df.drop(columns=['Pickup Centroid Longitude', 'Pickup Centroid Latitude', 'Dropoff Centroid Longitude', 'Dropoff Centroid Latitude'])"
   ],
   "metadata": {
    "collapsed": false,
    "ExecuteTime": {
     "start_time": "2023-05-16T14:22:51.334237Z",
     "end_time": "2023-05-16T14:22:52.351191Z"
    }
   }
  },
  {
   "cell_type": "code",
   "execution_count": null,
   "outputs": [],
   "source": [
    "df.head(10)"
   ],
   "metadata": {
    "collapsed": false,
    "ExecuteTime": {
     "start_time": "2023-05-16T14:22:52.353209Z",
     "end_time": "2023-05-16T14:22:52.424724Z"
    }
   }
  },
  {
   "cell_type": "code",
   "execution_count": null,
   "outputs": [],
   "source": [
    "df.info()"
   ],
   "metadata": {
    "collapsed": false,
    "ExecuteTime": {
     "start_time": "2023-05-16T14:22:52.401723Z",
     "end_time": "2023-05-16T14:22:52.732681Z"
    }
   }
  },
  {
   "cell_type": "code",
   "execution_count": null,
   "outputs": [],
   "source": [],
   "metadata": {
    "collapsed": false
   }
  }
 ],
 "metadata": {
  "kernelspec": {
   "display_name": "Python 3",
   "language": "python",
   "name": "python3"
  },
  "language_info": {
   "codemirror_mode": {
    "name": "ipython",
    "version": 2
   },
   "file_extension": ".py",
   "mimetype": "text/x-python",
   "name": "python",
   "nbconvert_exporter": "python",
   "pygments_lexer": "ipython2",
   "version": "2.7.6"
  }
 },
 "nbformat": 4,
 "nbformat_minor": 0
}
