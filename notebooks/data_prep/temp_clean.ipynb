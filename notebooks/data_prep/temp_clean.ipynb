{
 "cells": [
  {
   "cell_type": "code",
   "execution_count": 1,
   "metadata": {
    "collapsed": true,
    "ExecuteTime": {
     "start_time": "2023-05-18T20:58:53.844530Z",
     "end_time": "2023-05-18T20:59:00.397040Z"
    }
   },
   "outputs": [],
   "source": [
    "import pandas as pd"
   ]
  },
  {
   "cell_type": "code",
   "execution_count": 2,
   "outputs": [],
   "source": [
    "df = pd.read_csv('../../data/temperature.csv')"
   ],
   "metadata": {
    "collapsed": false,
    "ExecuteTime": {
     "start_time": "2023-05-18T20:59:00.397040Z",
     "end_time": "2023-05-18T20:59:00.939619Z"
    }
   }
  },
  {
   "cell_type": "code",
   "execution_count": 3,
   "outputs": [
    {
     "name": "stdout",
     "output_type": "stream",
     "text": [
      "<class 'pandas.core.frame.DataFrame'>\n",
      "RangeIndex: 45253 entries, 0 to 45252\n",
      "Data columns (total 37 columns):\n",
      " #   Column             Non-Null Count  Dtype  \n",
      "---  ------             --------------  -----  \n",
      " 0   datetime           45253 non-null  object \n",
      " 1   Vancouver          44458 non-null  float64\n",
      " 2   Portland           45252 non-null  float64\n",
      " 3   San Francisco      44460 non-null  float64\n",
      " 4   Seattle            45250 non-null  float64\n",
      " 5   Los Angeles        45250 non-null  float64\n",
      " 6   San Diego          45252 non-null  float64\n",
      " 7   Las Vegas          45252 non-null  float64\n",
      " 8   Phoenix            45250 non-null  float64\n",
      " 9   Albuquerque        45252 non-null  float64\n",
      " 10  Denver             45252 non-null  float64\n",
      " 11  San Antonio        45252 non-null  float64\n",
      " 12  Dallas             45249 non-null  float64\n",
      " 13  Houston            45250 non-null  float64\n",
      " 14  Kansas City        45252 non-null  float64\n",
      " 15  Minneapolis        45240 non-null  float64\n",
      " 16  Saint Louis        45252 non-null  float64\n",
      " 17  Chicago            45250 non-null  float64\n",
      " 18  Nashville          45251 non-null  float64\n",
      " 19  Indianapolis       45246 non-null  float64\n",
      " 20  Atlanta            45247 non-null  float64\n",
      " 21  Detroit            45252 non-null  float64\n",
      " 22  Jacksonville       45252 non-null  float64\n",
      " 23  Charlotte          45250 non-null  float64\n",
      " 24  Miami              44448 non-null  float64\n",
      " 25  Pittsburgh         45250 non-null  float64\n",
      " 26  Toronto            45252 non-null  float64\n",
      " 27  Philadelphia       45250 non-null  float64\n",
      " 28  New York           44460 non-null  float64\n",
      " 29  Montreal           45250 non-null  float64\n",
      " 30  Boston             45250 non-null  float64\n",
      " 31  Beersheba          44455 non-null  float64\n",
      " 32  Tel Aviv District  44460 non-null  float64\n",
      " 33  Eilat              44461 non-null  float64\n",
      " 34  Haifa              44455 non-null  float64\n",
      " 35  Nahariyya          44456 non-null  float64\n",
      " 36  Jerusalem          44460 non-null  float64\n",
      "dtypes: float64(36), object(1)\n",
      "memory usage: 12.8+ MB\n"
     ]
    }
   ],
   "source": [
    "df.info()"
   ],
   "metadata": {
    "collapsed": false,
    "ExecuteTime": {
     "start_time": "2023-05-18T20:59:00.939619Z",
     "end_time": "2023-05-18T20:59:01.018181Z"
    }
   }
  },
  {
   "cell_type": "code",
   "execution_count": 4,
   "outputs": [],
   "source": [
    "keep = ['datetime', 'Chicago']\n",
    "df = df[keep]"
   ],
   "metadata": {
    "collapsed": false,
    "ExecuteTime": {
     "start_time": "2023-05-18T20:59:01.002561Z",
     "end_time": "2023-05-18T20:59:01.033810Z"
    }
   }
  },
  {
   "cell_type": "code",
   "execution_count": 5,
   "outputs": [
    {
     "name": "stdout",
     "output_type": "stream",
     "text": [
      "<class 'pandas.core.frame.DataFrame'>\n",
      "RangeIndex: 45253 entries, 0 to 45252\n",
      "Data columns (total 2 columns):\n",
      " #   Column    Non-Null Count  Dtype  \n",
      "---  ------    --------------  -----  \n",
      " 0   datetime  45253 non-null  object \n",
      " 1   Chicago   45250 non-null  float64\n",
      "dtypes: float64(1), object(1)\n",
      "memory usage: 707.2+ KB\n"
     ]
    }
   ],
   "source": [
    "df.info()"
   ],
   "metadata": {
    "collapsed": false,
    "ExecuteTime": {
     "start_time": "2023-05-18T20:59:01.033810Z",
     "end_time": "2023-05-18T20:59:01.127994Z"
    }
   }
  },
  {
   "cell_type": "code",
   "execution_count": 6,
   "outputs": [],
   "source": [
    "df['datetime'] = pd.to_datetime(df['datetime'])\n",
    "df = df[df['datetime'].dt.year == 2015].copy()"
   ],
   "metadata": {
    "collapsed": false,
    "ExecuteTime": {
     "start_time": "2023-05-18T20:59:01.065473Z",
     "end_time": "2023-05-18T20:59:01.269493Z"
    }
   }
  },
  {
   "cell_type": "code",
   "execution_count": 7,
   "outputs": [
    {
     "name": "stdout",
     "output_type": "stream",
     "text": [
      "<class 'pandas.core.frame.DataFrame'>\n",
      "Index: 8760 entries, 19716 to 28475\n",
      "Data columns (total 2 columns):\n",
      " #   Column    Non-Null Count  Dtype         \n",
      "---  ------    --------------  -----         \n",
      " 0   datetime  8760 non-null   datetime64[ns]\n",
      " 1   Chicago   8760 non-null   float64       \n",
      "dtypes: datetime64[ns](1), float64(1)\n",
      "memory usage: 205.3 KB\n"
     ]
    }
   ],
   "source": [
    "df.info()"
   ],
   "metadata": {
    "collapsed": false,
    "ExecuteTime": {
     "start_time": "2023-05-18T20:59:01.190934Z",
     "end_time": "2023-05-18T20:59:01.300748Z"
    }
   }
  },
  {
   "cell_type": "code",
   "execution_count": 8,
   "outputs": [],
   "source": [
    "#Convert to Celsius\n",
    "df['Chicago'] = df['Chicago'] - 273.15"
   ],
   "metadata": {
    "collapsed": false,
    "ExecuteTime": {
     "start_time": "2023-05-18T20:59:01.222197Z",
     "end_time": "2023-05-18T20:59:01.300748Z"
    }
   }
  },
  {
   "cell_type": "code",
   "execution_count": 9,
   "outputs": [],
   "source": [
    "df = df.rename(columns={'Chicago': 'temp'})"
   ],
   "metadata": {
    "collapsed": false,
    "ExecuteTime": {
     "start_time": "2023-05-18T20:59:01.237811Z",
     "end_time": "2023-05-18T20:59:01.300748Z"
    }
   }
  },
  {
   "cell_type": "code",
   "execution_count": 10,
   "outputs": [],
   "source": [
    "df.to_parquet('../../data/temperature_cleaned.parquet')"
   ],
   "metadata": {
    "collapsed": false,
    "ExecuteTime": {
     "start_time": "2023-05-18T20:59:01.253849Z",
     "end_time": "2023-05-18T20:59:01.707485Z"
    }
   }
  },
  {
   "cell_type": "code",
   "execution_count": 11,
   "outputs": [
    {
     "data": {
      "text/plain": "                 datetime      temp\n19716 2015-01-01 00:00:00 -7.011500\n19717 2015-01-01 01:00:00 -6.731667\n19718 2015-01-01 02:00:00 -6.213333\n19719 2015-01-01 03:00:00 -6.614500\n19720 2015-01-01 04:00:00 -5.789667\n...                   ...       ...\n28471 2015-12-31 19:00:00 -2.640000\n28472 2015-12-31 20:00:00 -2.614888\n28473 2015-12-31 21:00:00 -2.620000\n28474 2015-12-31 22:00:00 -3.210000\n28475 2015-12-31 23:00:00 -3.202256\n\n[8760 rows x 2 columns]",
      "text/html": "<div>\n<style scoped>\n    .dataframe tbody tr th:only-of-type {\n        vertical-align: middle;\n    }\n\n    .dataframe tbody tr th {\n        vertical-align: top;\n    }\n\n    .dataframe thead th {\n        text-align: right;\n    }\n</style>\n<table border=\"1\" class=\"dataframe\">\n  <thead>\n    <tr style=\"text-align: right;\">\n      <th></th>\n      <th>datetime</th>\n      <th>temp</th>\n    </tr>\n  </thead>\n  <tbody>\n    <tr>\n      <th>19716</th>\n      <td>2015-01-01 00:00:00</td>\n      <td>-7.011500</td>\n    </tr>\n    <tr>\n      <th>19717</th>\n      <td>2015-01-01 01:00:00</td>\n      <td>-6.731667</td>\n    </tr>\n    <tr>\n      <th>19718</th>\n      <td>2015-01-01 02:00:00</td>\n      <td>-6.213333</td>\n    </tr>\n    <tr>\n      <th>19719</th>\n      <td>2015-01-01 03:00:00</td>\n      <td>-6.614500</td>\n    </tr>\n    <tr>\n      <th>19720</th>\n      <td>2015-01-01 04:00:00</td>\n      <td>-5.789667</td>\n    </tr>\n    <tr>\n      <th>...</th>\n      <td>...</td>\n      <td>...</td>\n    </tr>\n    <tr>\n      <th>28471</th>\n      <td>2015-12-31 19:00:00</td>\n      <td>-2.640000</td>\n    </tr>\n    <tr>\n      <th>28472</th>\n      <td>2015-12-31 20:00:00</td>\n      <td>-2.614888</td>\n    </tr>\n    <tr>\n      <th>28473</th>\n      <td>2015-12-31 21:00:00</td>\n      <td>-2.620000</td>\n    </tr>\n    <tr>\n      <th>28474</th>\n      <td>2015-12-31 22:00:00</td>\n      <td>-3.210000</td>\n    </tr>\n    <tr>\n      <th>28475</th>\n      <td>2015-12-31 23:00:00</td>\n      <td>-3.202256</td>\n    </tr>\n  </tbody>\n</table>\n<p>8760 rows × 2 columns</p>\n</div>"
     },
     "execution_count": 11,
     "metadata": {},
     "output_type": "execute_result"
    }
   ],
   "source": [
    "df"
   ],
   "metadata": {
    "collapsed": false,
    "ExecuteTime": {
     "start_time": "2023-05-18T20:59:07.085467Z",
     "end_time": "2023-05-18T20:59:07.210317Z"
    }
   }
  },
  {
   "cell_type": "code",
   "execution_count": null,
   "outputs": [],
   "source": [],
   "metadata": {
    "collapsed": false
   }
  }
 ],
 "metadata": {
  "kernelspec": {
   "display_name": "Python 3",
   "language": "python",
   "name": "python3"
  },
  "language_info": {
   "codemirror_mode": {
    "name": "ipython",
    "version": 2
   },
   "file_extension": ".py",
   "mimetype": "text/x-python",
   "name": "python",
   "nbconvert_exporter": "python",
   "pygments_lexer": "ipython2",
   "version": "2.7.6"
  }
 },
 "nbformat": 4,
 "nbformat_minor": 0
}
