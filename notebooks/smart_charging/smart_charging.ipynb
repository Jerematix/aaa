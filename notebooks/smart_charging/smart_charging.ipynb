{
 "cells": [
  {
   "cell_type": "code",
   "execution_count": 1,
   "metadata": {
    "collapsed": true,
    "ExecuteTime": {
     "start_time": "2023-05-19T15:50:53.403468Z",
     "end_time": "2023-05-19T15:50:53.413464Z"
    }
   },
   "outputs": [],
   "source": [
    "import pandas as pd\n",
    "import fastparquet as fp"
   ]
  },
  {
   "cell_type": "code",
   "execution_count": 2,
   "outputs": [
    {
     "data": {
      "text/plain": "         Trip Start Timestamp  Trip End Timestamp  Trip Seconds  Trip Miles   \n0         2015-01-01 00:00:00 2015-01-01 00:00:00         420.0         1.0  \\\n1         2015-01-01 00:30:00 2015-01-01 00:30:00         480.0         1.9   \n2         2015-01-01 00:30:00 2015-01-01 00:45:00         300.0         1.0   \n3         2015-01-01 00:30:00 2015-01-01 00:30:00         180.0         0.7   \n4         2015-01-01 00:30:00 2015-01-01 00:45:00         600.0         2.2   \n...                       ...                 ...           ...         ...   \n17141171  2015-12-31 11:30:00 2015-12-31 11:45:00         300.0         0.7   \n17141172  2015-12-31 11:30:00 2015-12-31 11:30:00         780.0         1.6   \n17141173  2015-12-31 11:30:00 2015-12-31 11:45:00         300.0         2.3   \n17141174  2015-12-31 11:30:00 2015-12-31 11:30:00         300.0         0.6   \n17141175  2015-12-31 12:00:00 2015-12-31 12:00:00         240.0         1.0   \n\n          Pickup Census Tract  Dropoff Census Tract  Fare  Tips  Tolls   \n0                 17031081500           17031320100  6.05   2.0    0.0  \\\n1                 17031081700           17031832600  7.65   0.0    0.0   \n2                 17031081700           17031842200  5.25   0.0    0.0   \n3                 17031062800           17031062900  4.65   2.0    0.0   \n4                 17031051300           17031071200  8.25   0.0    0.0   \n...                       ...                   ...   ...   ...    ...   \n17141171          17031081800           17031081800  5.25   0.0    0.0   \n17141172          17031320100           17031281900  8.44   0.0    0.0   \n17141173          17031081201           17031071400  7.65   0.0    0.0   \n17141174          17031839100           17031081700  5.05   0.0    0.0   \n17141175          17031281900           17031833000  5.65   0.0    0.0   \n\n          Extras  ...    h3_07_Dropoff     h3_08_Pickup    h3_08_Dropoff   \n0            1.5  ...  872664c1effffff  882664c1e1fffff  882664c1e3fffff  \\\n1            0.0  ...  872664c13ffffff  882664c1e7fffff  882664c135fffff   \n2            1.0  ...  872664c13ffffff  882664c1e7fffff  882664c137fffff   \n3            0.0  ...  872664c16ffffff  882664c129fffff  882664c163fffff   \n4            0.0  ...  872664c13ffffff  882664c12dfffff  882664c107fffff   \n...          ...  ...              ...              ...              ...   \n17141171     1.0  ...  872664c1effffff  882664c1e5fffff  882664c1e5fffff   \n17141172     1.0  ...  872664c1affffff  882664c1e3fffff  882664c1adfffff   \n17141173     0.0  ...  872664c10ffffff  882664c1e1fffff  882664c103fffff   \n17141174     0.0  ...  872664c1effffff  882664c1a9fffff  882664c1e7fffff   \n17141175     1.5  ...  872664cadffffff  882664c1adfffff  882664cad7fffff   \n\n             h3_09_Pickup    h3_09_Dropoff   \n0         892664c1e0fffff  892664c1e2fffff  \\\n1         892664c1e73ffff  892664c13cfffff   \n2         892664c1e73ffff  892664c1377ffff   \n3         892664c1293ffff  892664c162fffff   \n4         892664c12dbffff  892664c106fffff   \n...                   ...              ...   \n17141171  892664c1e4fffff  892664c1e4fffff   \n17141172  892664c1e2fffff  892664c1acfffff   \n17141173  892664c1e13ffff  892664c102fffff   \n17141174  892664c1a8bffff  892664c1e73ffff   \n17141175  892664c1acfffff  892664cad77ffff   \n\n                             Pickup Centroid   \n0         POINT (-87.626214906 41.892507781)  \\\n1          POINT (-87.63186395 41.892042136)   \n2          POINT (-87.63186395 41.892042136)   \n3         POINT (-87.661265218 41.936159071)   \n4         POINT (-87.675821928 41.935983574)   \n...                                      ...   \n17141171    POINT (-87.63784421 41.89321636)   \n17141172  POINT (-87.620992913 41.884987192)   \n17141173  POINT (-87.626210532 41.899155613)   \n17141174  POINT (-87.632746489 41.880994471)   \n17141175  POINT (-87.642648998 41.879255084)   \n\n                            Dropoff Centroid            datetime    temp   \n0         POINT (-87.620992913 41.884987192) 2015-01-01 00:00:00 -7.0115  \\\n1         POINT (-87.654007029 41.914747305) 2015-01-01 00:00:00 -7.0115   \n2         POINT (-87.649907226 41.904935302) 2015-01-01 00:00:00 -7.0115   \n3         POINT (-87.656411531 41.936237179) 2015-01-01 00:00:00 -7.0115   \n4         POINT (-87.646210977 41.921854911) 2015-01-01 00:00:00 -7.0115   \n...                                      ...                 ...     ...   \n17141171    POINT (-87.63784421 41.89321636) 2015-12-31 12:00:00 -3.8900   \n17141172  POINT (-87.642648998 41.879255084) 2015-12-31 12:00:00 -3.8900   \n17141173  POINT (-87.634156093 41.922082541) 2015-12-31 12:00:00 -3.8900   \n17141174   POINT (-87.63186395 41.892042136) 2015-12-31 12:00:00 -3.8900   \n17141175     POINT (-87.6572332 41.88528132) 2015-12-31 12:00:00 -3.8900   \n\n          Precip  \n0              0  \n1              0  \n2              0  \n3              0  \n4              0  \n...          ...  \n17141171       0  \n17141172       0  \n17141173       0  \n17141174       0  \n17141175       0  \n\n[17141176 rows x 34 columns]",
      "text/html": "<div>\n<style scoped>\n    .dataframe tbody tr th:only-of-type {\n        vertical-align: middle;\n    }\n\n    .dataframe tbody tr th {\n        vertical-align: top;\n    }\n\n    .dataframe thead th {\n        text-align: right;\n    }\n</style>\n<table border=\"1\" class=\"dataframe\">\n  <thead>\n    <tr style=\"text-align: right;\">\n      <th></th>\n      <th>Trip Start Timestamp</th>\n      <th>Trip End Timestamp</th>\n      <th>Trip Seconds</th>\n      <th>Trip Miles</th>\n      <th>Pickup Census Tract</th>\n      <th>Dropoff Census Tract</th>\n      <th>Fare</th>\n      <th>Tips</th>\n      <th>Tolls</th>\n      <th>Extras</th>\n      <th>...</th>\n      <th>h3_07_Dropoff</th>\n      <th>h3_08_Pickup</th>\n      <th>h3_08_Dropoff</th>\n      <th>h3_09_Pickup</th>\n      <th>h3_09_Dropoff</th>\n      <th>Pickup Centroid</th>\n      <th>Dropoff Centroid</th>\n      <th>datetime</th>\n      <th>temp</th>\n      <th>Precip</th>\n    </tr>\n  </thead>\n  <tbody>\n    <tr>\n      <th>0</th>\n      <td>2015-01-01 00:00:00</td>\n      <td>2015-01-01 00:00:00</td>\n      <td>420.0</td>\n      <td>1.0</td>\n      <td>17031081500</td>\n      <td>17031320100</td>\n      <td>6.05</td>\n      <td>2.0</td>\n      <td>0.0</td>\n      <td>1.5</td>\n      <td>...</td>\n      <td>872664c1effffff</td>\n      <td>882664c1e1fffff</td>\n      <td>882664c1e3fffff</td>\n      <td>892664c1e0fffff</td>\n      <td>892664c1e2fffff</td>\n      <td>POINT (-87.626214906 41.892507781)</td>\n      <td>POINT (-87.620992913 41.884987192)</td>\n      <td>2015-01-01 00:00:00</td>\n      <td>-7.0115</td>\n      <td>0</td>\n    </tr>\n    <tr>\n      <th>1</th>\n      <td>2015-01-01 00:30:00</td>\n      <td>2015-01-01 00:30:00</td>\n      <td>480.0</td>\n      <td>1.9</td>\n      <td>17031081700</td>\n      <td>17031832600</td>\n      <td>7.65</td>\n      <td>0.0</td>\n      <td>0.0</td>\n      <td>0.0</td>\n      <td>...</td>\n      <td>872664c13ffffff</td>\n      <td>882664c1e7fffff</td>\n      <td>882664c135fffff</td>\n      <td>892664c1e73ffff</td>\n      <td>892664c13cfffff</td>\n      <td>POINT (-87.63186395 41.892042136)</td>\n      <td>POINT (-87.654007029 41.914747305)</td>\n      <td>2015-01-01 00:00:00</td>\n      <td>-7.0115</td>\n      <td>0</td>\n    </tr>\n    <tr>\n      <th>2</th>\n      <td>2015-01-01 00:30:00</td>\n      <td>2015-01-01 00:45:00</td>\n      <td>300.0</td>\n      <td>1.0</td>\n      <td>17031081700</td>\n      <td>17031842200</td>\n      <td>5.25</td>\n      <td>0.0</td>\n      <td>0.0</td>\n      <td>1.0</td>\n      <td>...</td>\n      <td>872664c13ffffff</td>\n      <td>882664c1e7fffff</td>\n      <td>882664c137fffff</td>\n      <td>892664c1e73ffff</td>\n      <td>892664c1377ffff</td>\n      <td>POINT (-87.63186395 41.892042136)</td>\n      <td>POINT (-87.649907226 41.904935302)</td>\n      <td>2015-01-01 00:00:00</td>\n      <td>-7.0115</td>\n      <td>0</td>\n    </tr>\n    <tr>\n      <th>3</th>\n      <td>2015-01-01 00:30:00</td>\n      <td>2015-01-01 00:30:00</td>\n      <td>180.0</td>\n      <td>0.7</td>\n      <td>17031062800</td>\n      <td>17031062900</td>\n      <td>4.65</td>\n      <td>2.0</td>\n      <td>0.0</td>\n      <td>0.0</td>\n      <td>...</td>\n      <td>872664c16ffffff</td>\n      <td>882664c129fffff</td>\n      <td>882664c163fffff</td>\n      <td>892664c1293ffff</td>\n      <td>892664c162fffff</td>\n      <td>POINT (-87.661265218 41.936159071)</td>\n      <td>POINT (-87.656411531 41.936237179)</td>\n      <td>2015-01-01 00:00:00</td>\n      <td>-7.0115</td>\n      <td>0</td>\n    </tr>\n    <tr>\n      <th>4</th>\n      <td>2015-01-01 00:30:00</td>\n      <td>2015-01-01 00:45:00</td>\n      <td>600.0</td>\n      <td>2.2</td>\n      <td>17031051300</td>\n      <td>17031071200</td>\n      <td>8.25</td>\n      <td>0.0</td>\n      <td>0.0</td>\n      <td>0.0</td>\n      <td>...</td>\n      <td>872664c13ffffff</td>\n      <td>882664c12dfffff</td>\n      <td>882664c107fffff</td>\n      <td>892664c12dbffff</td>\n      <td>892664c106fffff</td>\n      <td>POINT (-87.675821928 41.935983574)</td>\n      <td>POINT (-87.646210977 41.921854911)</td>\n      <td>2015-01-01 00:00:00</td>\n      <td>-7.0115</td>\n      <td>0</td>\n    </tr>\n    <tr>\n      <th>...</th>\n      <td>...</td>\n      <td>...</td>\n      <td>...</td>\n      <td>...</td>\n      <td>...</td>\n      <td>...</td>\n      <td>...</td>\n      <td>...</td>\n      <td>...</td>\n      <td>...</td>\n      <td>...</td>\n      <td>...</td>\n      <td>...</td>\n      <td>...</td>\n      <td>...</td>\n      <td>...</td>\n      <td>...</td>\n      <td>...</td>\n      <td>...</td>\n      <td>...</td>\n      <td>...</td>\n    </tr>\n    <tr>\n      <th>17141171</th>\n      <td>2015-12-31 11:30:00</td>\n      <td>2015-12-31 11:45:00</td>\n      <td>300.0</td>\n      <td>0.7</td>\n      <td>17031081800</td>\n      <td>17031081800</td>\n      <td>5.25</td>\n      <td>0.0</td>\n      <td>0.0</td>\n      <td>1.0</td>\n      <td>...</td>\n      <td>872664c1effffff</td>\n      <td>882664c1e5fffff</td>\n      <td>882664c1e5fffff</td>\n      <td>892664c1e4fffff</td>\n      <td>892664c1e4fffff</td>\n      <td>POINT (-87.63784421 41.89321636)</td>\n      <td>POINT (-87.63784421 41.89321636)</td>\n      <td>2015-12-31 12:00:00</td>\n      <td>-3.8900</td>\n      <td>0</td>\n    </tr>\n    <tr>\n      <th>17141172</th>\n      <td>2015-12-31 11:30:00</td>\n      <td>2015-12-31 11:30:00</td>\n      <td>780.0</td>\n      <td>1.6</td>\n      <td>17031320100</td>\n      <td>17031281900</td>\n      <td>8.44</td>\n      <td>0.0</td>\n      <td>0.0</td>\n      <td>1.0</td>\n      <td>...</td>\n      <td>872664c1affffff</td>\n      <td>882664c1e3fffff</td>\n      <td>882664c1adfffff</td>\n      <td>892664c1e2fffff</td>\n      <td>892664c1acfffff</td>\n      <td>POINT (-87.620992913 41.884987192)</td>\n      <td>POINT (-87.642648998 41.879255084)</td>\n      <td>2015-12-31 12:00:00</td>\n      <td>-3.8900</td>\n      <td>0</td>\n    </tr>\n    <tr>\n      <th>17141173</th>\n      <td>2015-12-31 11:30:00</td>\n      <td>2015-12-31 11:45:00</td>\n      <td>300.0</td>\n      <td>2.3</td>\n      <td>17031081201</td>\n      <td>17031071400</td>\n      <td>7.65</td>\n      <td>0.0</td>\n      <td>0.0</td>\n      <td>0.0</td>\n      <td>...</td>\n      <td>872664c10ffffff</td>\n      <td>882664c1e1fffff</td>\n      <td>882664c103fffff</td>\n      <td>892664c1e13ffff</td>\n      <td>892664c102fffff</td>\n      <td>POINT (-87.626210532 41.899155613)</td>\n      <td>POINT (-87.634156093 41.922082541)</td>\n      <td>2015-12-31 12:00:00</td>\n      <td>-3.8900</td>\n      <td>0</td>\n    </tr>\n    <tr>\n      <th>17141174</th>\n      <td>2015-12-31 11:30:00</td>\n      <td>2015-12-31 11:30:00</td>\n      <td>300.0</td>\n      <td>0.6</td>\n      <td>17031839100</td>\n      <td>17031081700</td>\n      <td>5.05</td>\n      <td>0.0</td>\n      <td>0.0</td>\n      <td>0.0</td>\n      <td>...</td>\n      <td>872664c1effffff</td>\n      <td>882664c1a9fffff</td>\n      <td>882664c1e7fffff</td>\n      <td>892664c1a8bffff</td>\n      <td>892664c1e73ffff</td>\n      <td>POINT (-87.632746489 41.880994471)</td>\n      <td>POINT (-87.63186395 41.892042136)</td>\n      <td>2015-12-31 12:00:00</td>\n      <td>-3.8900</td>\n      <td>0</td>\n    </tr>\n    <tr>\n      <th>17141175</th>\n      <td>2015-12-31 12:00:00</td>\n      <td>2015-12-31 12:00:00</td>\n      <td>240.0</td>\n      <td>1.0</td>\n      <td>17031281900</td>\n      <td>17031833000</td>\n      <td>5.65</td>\n      <td>0.0</td>\n      <td>0.0</td>\n      <td>1.5</td>\n      <td>...</td>\n      <td>872664cadffffff</td>\n      <td>882664c1adfffff</td>\n      <td>882664cad7fffff</td>\n      <td>892664c1acfffff</td>\n      <td>892664cad77ffff</td>\n      <td>POINT (-87.642648998 41.879255084)</td>\n      <td>POINT (-87.6572332 41.88528132)</td>\n      <td>2015-12-31 12:00:00</td>\n      <td>-3.8900</td>\n      <td>0</td>\n    </tr>\n  </tbody>\n</table>\n<p>17141176 rows × 34 columns</p>\n</div>"
     },
     "execution_count": 2,
     "metadata": {},
     "output_type": "execute_result"
    }
   ],
   "source": [
    "pd.read_parquet('../../data/Taxi_Trips_Cleaned.parquet')"
   ],
   "metadata": {
    "collapsed": false,
    "ExecuteTime": {
     "start_time": "2023-05-19T15:51:14.771985Z",
     "end_time": "2023-05-19T15:53:25.114897Z"
    }
   }
  },
  {
   "cell_type": "code",
   "execution_count": null,
   "outputs": [],
   "source": [],
   "metadata": {
    "collapsed": false
   }
  }
 ],
 "metadata": {
  "kernelspec": {
   "display_name": "Python 3",
   "language": "python",
   "name": "python3"
  },
  "language_info": {
   "codemirror_mode": {
    "name": "ipython",
    "version": 2
   },
   "file_extension": ".py",
   "mimetype": "text/x-python",
   "name": "python",
   "nbconvert_exporter": "python",
   "pygments_lexer": "ipython2",
   "version": "2.7.6"
  }
 },
 "nbformat": 4,
 "nbformat_minor": 0
}
